{
  "nbformat": 4,
  "nbformat_minor": 0,
  "metadata": {
    "kernelspec": {
      "display_name": "Python 3",
      "language": "python",
      "name": "python3"
    },
    "language_info": {
      "codemirror_mode": {
        "name": "ipython",
        "version": 3
      },
      "file_extension": ".py",
      "mimetype": "text/x-python",
      "name": "python",
      "nbconvert_exporter": "python",
      "pygments_lexer": "ipython3",
      "version": "3.6.10"
    },
    "colab": {
      "name": "cloud_segmentation_cnn_transfer_learning.ipynb",
      "provenance": [],
      "collapsed_sections": [],
      "include_colab_link": true
    },
    "accelerator": "GPU"
  },
  "cells": [
    {
      "cell_type": "markdown",
      "metadata": {
        "id": "view-in-github",
        "colab_type": "text"
      },
      "source": [
        "<a href=\"https://colab.research.google.com/github/viniciusrpb/cloud_image_segmentation/blob/main/cloud_segmentation_cnn_transfer_learning.ipynb\" target=\"_parent\"><img src=\"https://colab.research.google.com/assets/colab-badge.svg\" alt=\"Open In Colab\"/></a>"
      ]
    },
    {
      "cell_type": "code",
      "metadata": {
        "id": "Lf68PvvD_GXN",
        "colab": {
          "base_uri": "https://localhost:8080/"
        },
        "outputId": "ee171bd1-3739-4b95-c6c0-64ba0062b559"
      },
      "source": [
        "from google.colab import drive\n",
        "drive.mount('/content/drive')"
      ],
      "execution_count": 1,
      "outputs": [
        {
          "output_type": "stream",
          "name": "stdout",
          "text": [
            "Mounted at /content/drive\n"
          ]
        }
      ]
    },
    {
      "cell_type": "code",
      "metadata": {
        "colab": {
          "base_uri": "https://localhost:8080/",
          "height": 1000
        },
        "id": "6o0SMmf8z9qD",
        "outputId": "5f036030-8485-43f6-eb74-cb324f34b0a5"
      },
      "source": [
        "!pip install tensorflow==2.6.0\n",
        "!pip install keras~=2.6.0\n",
        "!pip install tensorflow_addons\n",
        "!pip install keras-segmentation\n",
        "!pip install segmentation_models"
      ],
      "execution_count": 2,
      "outputs": [
        {
          "output_type": "stream",
          "name": "stdout",
          "text": [
            "Collecting tensorflow==2.6.0\n",
            "  Downloading tensorflow-2.6.0-cp37-cp37m-manylinux2010_x86_64.whl (458.3 MB)\n",
            "\u001b[K     |████████████████████████████████| 458.3 MB 11 kB/s \n",
            "\u001b[?25hRequirement already satisfied: astunparse~=1.6.3 in /usr/local/lib/python3.7/dist-packages (from tensorflow==2.6.0) (1.6.3)\n",
            "Collecting flatbuffers~=1.12.0\n",
            "  Downloading flatbuffers-1.12-py2.py3-none-any.whl (15 kB)\n",
            "Collecting clang~=5.0\n",
            "  Downloading clang-5.0.tar.gz (30 kB)\n",
            "Requirement already satisfied: opt-einsum~=3.3.0 in /usr/local/lib/python3.7/dist-packages (from tensorflow==2.6.0) (3.3.0)\n",
            "Requirement already satisfied: keras-preprocessing~=1.1.2 in /usr/local/lib/python3.7/dist-packages (from tensorflow==2.6.0) (1.1.2)\n",
            "Requirement already satisfied: keras~=2.6 in /usr/local/lib/python3.7/dist-packages (from tensorflow==2.6.0) (2.8.0)\n",
            "Collecting numpy~=1.19.2\n",
            "  Downloading numpy-1.19.5-cp37-cp37m-manylinux2010_x86_64.whl (14.8 MB)\n",
            "\u001b[K     |████████████████████████████████| 14.8 MB 32.3 MB/s \n",
            "\u001b[?25hRequirement already satisfied: six~=1.15.0 in /usr/local/lib/python3.7/dist-packages (from tensorflow==2.6.0) (1.15.0)\n",
            "Requirement already satisfied: termcolor~=1.1.0 in /usr/local/lib/python3.7/dist-packages (from tensorflow==2.6.0) (1.1.0)\n",
            "Requirement already satisfied: protobuf>=3.9.2 in /usr/local/lib/python3.7/dist-packages (from tensorflow==2.6.0) (3.17.3)\n",
            "Requirement already satisfied: wheel~=0.35 in /usr/local/lib/python3.7/dist-packages (from tensorflow==2.6.0) (0.37.1)\n",
            "Collecting wrapt~=1.12.1\n",
            "  Downloading wrapt-1.12.1.tar.gz (27 kB)\n",
            "Collecting typing-extensions~=3.7.4\n",
            "  Downloading typing_extensions-3.7.4.3-py3-none-any.whl (22 kB)\n",
            "Collecting gast==0.4.0\n",
            "  Downloading gast-0.4.0-py3-none-any.whl (9.8 kB)\n",
            "Requirement already satisfied: grpcio<2.0,>=1.37.0 in /usr/local/lib/python3.7/dist-packages (from tensorflow==2.6.0) (1.44.0)\n",
            "Collecting absl-py~=0.10\n",
            "  Downloading absl_py-0.15.0-py3-none-any.whl (132 kB)\n",
            "\u001b[K     |████████████████████████████████| 132 kB 42.1 MB/s \n",
            "\u001b[?25hRequirement already satisfied: google-pasta~=0.2 in /usr/local/lib/python3.7/dist-packages (from tensorflow==2.6.0) (0.2.0)\n",
            "Requirement already satisfied: tensorboard~=2.6 in /usr/local/lib/python3.7/dist-packages (from tensorflow==2.6.0) (2.8.0)\n",
            "Requirement already satisfied: tensorflow-estimator~=2.6 in /usr/local/lib/python3.7/dist-packages (from tensorflow==2.6.0) (2.8.0)\n",
            "Requirement already satisfied: h5py~=3.1.0 in /usr/local/lib/python3.7/dist-packages (from tensorflow==2.6.0) (3.1.0)\n",
            "Requirement already satisfied: cached-property in /usr/local/lib/python3.7/dist-packages (from h5py~=3.1.0->tensorflow==2.6.0) (1.5.2)\n",
            "Requirement already satisfied: requests<3,>=2.21.0 in /usr/local/lib/python3.7/dist-packages (from tensorboard~=2.6->tensorflow==2.6.0) (2.23.0)\n",
            "Requirement already satisfied: google-auth<3,>=1.6.3 in /usr/local/lib/python3.7/dist-packages (from tensorboard~=2.6->tensorflow==2.6.0) (1.35.0)\n",
            "Requirement already satisfied: tensorboard-plugin-wit>=1.6.0 in /usr/local/lib/python3.7/dist-packages (from tensorboard~=2.6->tensorflow==2.6.0) (1.8.1)\n",
            "Requirement already satisfied: werkzeug>=0.11.15 in /usr/local/lib/python3.7/dist-packages (from tensorboard~=2.6->tensorflow==2.6.0) (1.0.1)\n",
            "Requirement already satisfied: google-auth-oauthlib<0.5,>=0.4.1 in /usr/local/lib/python3.7/dist-packages (from tensorboard~=2.6->tensorflow==2.6.0) (0.4.6)\n",
            "Requirement already satisfied: tensorboard-data-server<0.7.0,>=0.6.0 in /usr/local/lib/python3.7/dist-packages (from tensorboard~=2.6->tensorflow==2.6.0) (0.6.1)\n",
            "Requirement already satisfied: markdown>=2.6.8 in /usr/local/lib/python3.7/dist-packages (from tensorboard~=2.6->tensorflow==2.6.0) (3.3.6)\n",
            "Requirement already satisfied: setuptools>=41.0.0 in /usr/local/lib/python3.7/dist-packages (from tensorboard~=2.6->tensorflow==2.6.0) (57.4.0)\n",
            "Requirement already satisfied: pyasn1-modules>=0.2.1 in /usr/local/lib/python3.7/dist-packages (from google-auth<3,>=1.6.3->tensorboard~=2.6->tensorflow==2.6.0) (0.2.8)\n",
            "Requirement already satisfied: rsa<5,>=3.1.4 in /usr/local/lib/python3.7/dist-packages (from google-auth<3,>=1.6.3->tensorboard~=2.6->tensorflow==2.6.0) (4.8)\n",
            "Requirement already satisfied: cachetools<5.0,>=2.0.0 in /usr/local/lib/python3.7/dist-packages (from google-auth<3,>=1.6.3->tensorboard~=2.6->tensorflow==2.6.0) (4.2.4)\n",
            "Requirement already satisfied: requests-oauthlib>=0.7.0 in /usr/local/lib/python3.7/dist-packages (from google-auth-oauthlib<0.5,>=0.4.1->tensorboard~=2.6->tensorflow==2.6.0) (1.3.1)\n",
            "Requirement already satisfied: importlib-metadata>=4.4 in /usr/local/lib/python3.7/dist-packages (from markdown>=2.6.8->tensorboard~=2.6->tensorflow==2.6.0) (4.11.2)\n",
            "Requirement already satisfied: zipp>=0.5 in /usr/local/lib/python3.7/dist-packages (from importlib-metadata>=4.4->markdown>=2.6.8->tensorboard~=2.6->tensorflow==2.6.0) (3.7.0)\n",
            "Requirement already satisfied: pyasn1<0.5.0,>=0.4.6 in /usr/local/lib/python3.7/dist-packages (from pyasn1-modules>=0.2.1->google-auth<3,>=1.6.3->tensorboard~=2.6->tensorflow==2.6.0) (0.4.8)\n",
            "Requirement already satisfied: urllib3!=1.25.0,!=1.25.1,<1.26,>=1.21.1 in /usr/local/lib/python3.7/dist-packages (from requests<3,>=2.21.0->tensorboard~=2.6->tensorflow==2.6.0) (1.24.3)\n",
            "Requirement already satisfied: idna<3,>=2.5 in /usr/local/lib/python3.7/dist-packages (from requests<3,>=2.21.0->tensorboard~=2.6->tensorflow==2.6.0) (2.10)\n",
            "Requirement already satisfied: chardet<4,>=3.0.2 in /usr/local/lib/python3.7/dist-packages (from requests<3,>=2.21.0->tensorboard~=2.6->tensorflow==2.6.0) (3.0.4)\n",
            "Requirement already satisfied: certifi>=2017.4.17 in /usr/local/lib/python3.7/dist-packages (from requests<3,>=2.21.0->tensorboard~=2.6->tensorflow==2.6.0) (2021.10.8)\n",
            "Requirement already satisfied: oauthlib>=3.0.0 in /usr/local/lib/python3.7/dist-packages (from requests-oauthlib>=0.7.0->google-auth-oauthlib<0.5,>=0.4.1->tensorboard~=2.6->tensorflow==2.6.0) (3.2.0)\n",
            "Building wheels for collected packages: clang, wrapt\n",
            "  Building wheel for clang (setup.py) ... \u001b[?25l\u001b[?25hdone\n",
            "  Created wheel for clang: filename=clang-5.0-py3-none-any.whl size=30694 sha256=a081b00b2d02cd62b2760888c5d99488f6434cd57c55e1ac23eb46f4acb1fb65\n",
            "  Stored in directory: /root/.cache/pip/wheels/98/91/04/971b4c587cf47ae952b108949b46926f426c02832d120a082a\n",
            "  Building wheel for wrapt (setup.py) ... \u001b[?25l\u001b[?25hdone\n",
            "  Created wheel for wrapt: filename=wrapt-1.12.1-cp37-cp37m-linux_x86_64.whl size=68723 sha256=3526394de9f277ae9ff28cee57743dc47c3efb739b52aa7448cc44d4d20bfba9\n",
            "  Stored in directory: /root/.cache/pip/wheels/62/76/4c/aa25851149f3f6d9785f6c869387ad82b3fd37582fa8147ac6\n",
            "Successfully built clang wrapt\n",
            "Installing collected packages: typing-extensions, numpy, absl-py, wrapt, gast, flatbuffers, clang, tensorflow\n",
            "  Attempting uninstall: typing-extensions\n",
            "    Found existing installation: typing-extensions 3.10.0.2\n",
            "    Uninstalling typing-extensions-3.10.0.2:\n",
            "      Successfully uninstalled typing-extensions-3.10.0.2\n",
            "  Attempting uninstall: numpy\n",
            "    Found existing installation: numpy 1.21.5\n",
            "    Uninstalling numpy-1.21.5:\n",
            "      Successfully uninstalled numpy-1.21.5\n",
            "  Attempting uninstall: absl-py\n",
            "    Found existing installation: absl-py 1.0.0\n",
            "    Uninstalling absl-py-1.0.0:\n",
            "      Successfully uninstalled absl-py-1.0.0\n",
            "  Attempting uninstall: wrapt\n",
            "    Found existing installation: wrapt 1.13.3\n",
            "    Uninstalling wrapt-1.13.3:\n",
            "      Successfully uninstalled wrapt-1.13.3\n",
            "  Attempting uninstall: gast\n",
            "    Found existing installation: gast 0.5.3\n",
            "    Uninstalling gast-0.5.3:\n",
            "      Successfully uninstalled gast-0.5.3\n",
            "  Attempting uninstall: flatbuffers\n",
            "    Found existing installation: flatbuffers 2.0\n",
            "    Uninstalling flatbuffers-2.0:\n",
            "      Successfully uninstalled flatbuffers-2.0\n",
            "  Attempting uninstall: tensorflow\n",
            "    Found existing installation: tensorflow 2.8.0\n",
            "    Uninstalling tensorflow-2.8.0:\n",
            "      Successfully uninstalled tensorflow-2.8.0\n",
            "\u001b[31mERROR: pip's dependency resolver does not currently take into account all the packages that are installed. This behaviour is the source of the following dependency conflicts.\n",
            "datascience 0.10.6 requires folium==0.2.1, but you have folium 0.8.3 which is incompatible.\n",
            "albumentations 0.1.12 requires imgaug<0.2.7,>=0.2.5, but you have imgaug 0.2.9 which is incompatible.\u001b[0m\n",
            "Successfully installed absl-py-0.15.0 clang-5.0 flatbuffers-1.12 gast-0.4.0 numpy-1.19.5 tensorflow-2.6.0 typing-extensions-3.7.4.3 wrapt-1.12.1\n"
          ]
        },
        {
          "output_type": "display_data",
          "data": {
            "application/vnd.colab-display-data+json": {
              "pip_warning": {
                "packages": [
                  "numpy"
                ]
              }
            }
          },
          "metadata": {}
        },
        {
          "output_type": "stream",
          "name": "stdout",
          "text": [
            "Collecting keras~=2.6.0\n",
            "  Downloading keras-2.6.0-py2.py3-none-any.whl (1.3 MB)\n",
            "\u001b[?25l\r\u001b[K     |▎                               | 10 kB 17.7 MB/s eta 0:00:01\r\u001b[K     |▌                               | 20 kB 11.8 MB/s eta 0:00:01\r\u001b[K     |▊                               | 30 kB 9.5 MB/s eta 0:00:01\r\u001b[K     |█                               | 40 kB 8.6 MB/s eta 0:00:01\r\u001b[K     |█▎                              | 51 kB 4.4 MB/s eta 0:00:01\r\u001b[K     |█▌                              | 61 kB 5.2 MB/s eta 0:00:01\r\u001b[K     |█▊                              | 71 kB 5.7 MB/s eta 0:00:01\r\u001b[K     |██                              | 81 kB 5.7 MB/s eta 0:00:01\r\u001b[K     |██▎                             | 92 kB 6.3 MB/s eta 0:00:01\r\u001b[K     |██▌                             | 102 kB 5.4 MB/s eta 0:00:01\r\u001b[K     |██▉                             | 112 kB 5.4 MB/s eta 0:00:01\r\u001b[K     |███                             | 122 kB 5.4 MB/s eta 0:00:01\r\u001b[K     |███▎                            | 133 kB 5.4 MB/s eta 0:00:01\r\u001b[K     |███▌                            | 143 kB 5.4 MB/s eta 0:00:01\r\u001b[K     |███▉                            | 153 kB 5.4 MB/s eta 0:00:01\r\u001b[K     |████                            | 163 kB 5.4 MB/s eta 0:00:01\r\u001b[K     |████▎                           | 174 kB 5.4 MB/s eta 0:00:01\r\u001b[K     |████▌                           | 184 kB 5.4 MB/s eta 0:00:01\r\u001b[K     |████▉                           | 194 kB 5.4 MB/s eta 0:00:01\r\u001b[K     |█████                           | 204 kB 5.4 MB/s eta 0:00:01\r\u001b[K     |█████▎                          | 215 kB 5.4 MB/s eta 0:00:01\r\u001b[K     |█████▋                          | 225 kB 5.4 MB/s eta 0:00:01\r\u001b[K     |█████▉                          | 235 kB 5.4 MB/s eta 0:00:01\r\u001b[K     |██████                          | 245 kB 5.4 MB/s eta 0:00:01\r\u001b[K     |██████▎                         | 256 kB 5.4 MB/s eta 0:00:01\r\u001b[K     |██████▋                         | 266 kB 5.4 MB/s eta 0:00:01\r\u001b[K     |██████▉                         | 276 kB 5.4 MB/s eta 0:00:01\r\u001b[K     |███████                         | 286 kB 5.4 MB/s eta 0:00:01\r\u001b[K     |███████▎                        | 296 kB 5.4 MB/s eta 0:00:01\r\u001b[K     |███████▋                        | 307 kB 5.4 MB/s eta 0:00:01\r\u001b[K     |███████▉                        | 317 kB 5.4 MB/s eta 0:00:01\r\u001b[K     |████████                        | 327 kB 5.4 MB/s eta 0:00:01\r\u001b[K     |████████▍                       | 337 kB 5.4 MB/s eta 0:00:01\r\u001b[K     |████████▋                       | 348 kB 5.4 MB/s eta 0:00:01\r\u001b[K     |████████▉                       | 358 kB 5.4 MB/s eta 0:00:01\r\u001b[K     |█████████                       | 368 kB 5.4 MB/s eta 0:00:01\r\u001b[K     |█████████▍                      | 378 kB 5.4 MB/s eta 0:00:01\r\u001b[K     |█████████▋                      | 389 kB 5.4 MB/s eta 0:00:01\r\u001b[K     |█████████▉                      | 399 kB 5.4 MB/s eta 0:00:01\r\u001b[K     |██████████                      | 409 kB 5.4 MB/s eta 0:00:01\r\u001b[K     |██████████▍                     | 419 kB 5.4 MB/s eta 0:00:01\r\u001b[K     |██████████▋                     | 430 kB 5.4 MB/s eta 0:00:01\r\u001b[K     |██████████▉                     | 440 kB 5.4 MB/s eta 0:00:01\r\u001b[K     |███████████▏                    | 450 kB 5.4 MB/s eta 0:00:01\r\u001b[K     |███████████▍                    | 460 kB 5.4 MB/s eta 0:00:01\r\u001b[K     |███████████▋                    | 471 kB 5.4 MB/s eta 0:00:01\r\u001b[K     |███████████▉                    | 481 kB 5.4 MB/s eta 0:00:01\r\u001b[K     |████████████▏                   | 491 kB 5.4 MB/s eta 0:00:01\r\u001b[K     |████████████▍                   | 501 kB 5.4 MB/s eta 0:00:01\r\u001b[K     |████████████▋                   | 512 kB 5.4 MB/s eta 0:00:01\r\u001b[K     |█████████████                   | 522 kB 5.4 MB/s eta 0:00:01\r\u001b[K     |█████████████▏                  | 532 kB 5.4 MB/s eta 0:00:01\r\u001b[K     |█████████████▍                  | 542 kB 5.4 MB/s eta 0:00:01\r\u001b[K     |█████████████▋                  | 552 kB 5.4 MB/s eta 0:00:01\r\u001b[K     |██████████████                  | 563 kB 5.4 MB/s eta 0:00:01\r\u001b[K     |██████████████▏                 | 573 kB 5.4 MB/s eta 0:00:01\r\u001b[K     |██████████████▍                 | 583 kB 5.4 MB/s eta 0:00:01\r\u001b[K     |██████████████▋                 | 593 kB 5.4 MB/s eta 0:00:01\r\u001b[K     |███████████████                 | 604 kB 5.4 MB/s eta 0:00:01\r\u001b[K     |███████████████▏                | 614 kB 5.4 MB/s eta 0:00:01\r\u001b[K     |███████████████▍                | 624 kB 5.4 MB/s eta 0:00:01\r\u001b[K     |███████████████▊                | 634 kB 5.4 MB/s eta 0:00:01\r\u001b[K     |████████████████                | 645 kB 5.4 MB/s eta 0:00:01\r\u001b[K     |████████████████▏               | 655 kB 5.4 MB/s eta 0:00:01\r\u001b[K     |████████████████▍               | 665 kB 5.4 MB/s eta 0:00:01\r\u001b[K     |████████████████▊               | 675 kB 5.4 MB/s eta 0:00:01\r\u001b[K     |█████████████████               | 686 kB 5.4 MB/s eta 0:00:01\r\u001b[K     |█████████████████▏              | 696 kB 5.4 MB/s eta 0:00:01\r\u001b[K     |█████████████████▍              | 706 kB 5.4 MB/s eta 0:00:01\r\u001b[K     |█████████████████▊              | 716 kB 5.4 MB/s eta 0:00:01\r\u001b[K     |██████████████████              | 727 kB 5.4 MB/s eta 0:00:01\r\u001b[K     |██████████████████▏             | 737 kB 5.4 MB/s eta 0:00:01\r\u001b[K     |██████████████████▌             | 747 kB 5.4 MB/s eta 0:00:01\r\u001b[K     |██████████████████▊             | 757 kB 5.4 MB/s eta 0:00:01\r\u001b[K     |███████████████████             | 768 kB 5.4 MB/s eta 0:00:01\r\u001b[K     |███████████████████▏            | 778 kB 5.4 MB/s eta 0:00:01\r\u001b[K     |███████████████████▌            | 788 kB 5.4 MB/s eta 0:00:01\r\u001b[K     |███████████████████▊            | 798 kB 5.4 MB/s eta 0:00:01\r\u001b[K     |████████████████████            | 808 kB 5.4 MB/s eta 0:00:01\r\u001b[K     |████████████████████▏           | 819 kB 5.4 MB/s eta 0:00:01\r\u001b[K     |████████████████████▌           | 829 kB 5.4 MB/s eta 0:00:01\r\u001b[K     |████████████████████▊           | 839 kB 5.4 MB/s eta 0:00:01\r\u001b[K     |█████████████████████           | 849 kB 5.4 MB/s eta 0:00:01\r\u001b[K     |█████████████████████▎          | 860 kB 5.4 MB/s eta 0:00:01\r\u001b[K     |█████████████████████▌          | 870 kB 5.4 MB/s eta 0:00:01\r\u001b[K     |█████████████████████▊          | 880 kB 5.4 MB/s eta 0:00:01\r\u001b[K     |██████████████████████          | 890 kB 5.4 MB/s eta 0:00:01\r\u001b[K     |██████████████████████▎         | 901 kB 5.4 MB/s eta 0:00:01\r\u001b[K     |██████████████████████▌         | 911 kB 5.4 MB/s eta 0:00:01\r\u001b[K     |██████████████████████▊         | 921 kB 5.4 MB/s eta 0:00:01\r\u001b[K     |███████████████████████         | 931 kB 5.4 MB/s eta 0:00:01\r\u001b[K     |███████████████████████▎        | 942 kB 5.4 MB/s eta 0:00:01\r\u001b[K     |███████████████████████▌        | 952 kB 5.4 MB/s eta 0:00:01\r\u001b[K     |███████████████████████▊        | 962 kB 5.4 MB/s eta 0:00:01\r\u001b[K     |████████████████████████        | 972 kB 5.4 MB/s eta 0:00:01\r\u001b[K     |████████████████████████▎       | 983 kB 5.4 MB/s eta 0:00:01\r\u001b[K     |████████████████████████▌       | 993 kB 5.4 MB/s eta 0:00:01\r\u001b[K     |████████████████████████▊       | 1.0 MB 5.4 MB/s eta 0:00:01\r\u001b[K     |█████████████████████████       | 1.0 MB 5.4 MB/s eta 0:00:01\r\u001b[K     |█████████████████████████▎      | 1.0 MB 5.4 MB/s eta 0:00:01\r\u001b[K     |█████████████████████████▌      | 1.0 MB 5.4 MB/s eta 0:00:01\r\u001b[K     |█████████████████████████▉      | 1.0 MB 5.4 MB/s eta 0:00:01\r\u001b[K     |██████████████████████████      | 1.1 MB 5.4 MB/s eta 0:00:01\r\u001b[K     |██████████████████████████▎     | 1.1 MB 5.4 MB/s eta 0:00:01\r\u001b[K     |██████████████████████████▌     | 1.1 MB 5.4 MB/s eta 0:00:01\r\u001b[K     |██████████████████████████▉     | 1.1 MB 5.4 MB/s eta 0:00:01\r\u001b[K     |███████████████████████████     | 1.1 MB 5.4 MB/s eta 0:00:01\r\u001b[K     |███████████████████████████▎    | 1.1 MB 5.4 MB/s eta 0:00:01\r\u001b[K     |███████████████████████████▌    | 1.1 MB 5.4 MB/s eta 0:00:01\r\u001b[K     |███████████████████████████▉    | 1.1 MB 5.4 MB/s eta 0:00:01\r\u001b[K     |████████████████████████████    | 1.1 MB 5.4 MB/s eta 0:00:01\r\u001b[K     |████████████████████████████▎   | 1.1 MB 5.4 MB/s eta 0:00:01\r\u001b[K     |████████████████████████████▋   | 1.2 MB 5.4 MB/s eta 0:00:01\r\u001b[K     |████████████████████████████▉   | 1.2 MB 5.4 MB/s eta 0:00:01\r\u001b[K     |█████████████████████████████   | 1.2 MB 5.4 MB/s eta 0:00:01\r\u001b[K     |█████████████████████████████▎  | 1.2 MB 5.4 MB/s eta 0:00:01\r\u001b[K     |█████████████████████████████▋  | 1.2 MB 5.4 MB/s eta 0:00:01\r\u001b[K     |█████████████████████████████▉  | 1.2 MB 5.4 MB/s eta 0:00:01\r\u001b[K     |██████████████████████████████  | 1.2 MB 5.4 MB/s eta 0:00:01\r\u001b[K     |██████████████████████████████▎ | 1.2 MB 5.4 MB/s eta 0:00:01\r\u001b[K     |██████████████████████████████▋ | 1.2 MB 5.4 MB/s eta 0:00:01\r\u001b[K     |██████████████████████████████▉ | 1.2 MB 5.4 MB/s eta 0:00:01\r\u001b[K     |███████████████████████████████ | 1.3 MB 5.4 MB/s eta 0:00:01\r\u001b[K     |███████████████████████████████▍| 1.3 MB 5.4 MB/s eta 0:00:01\r\u001b[K     |███████████████████████████████▋| 1.3 MB 5.4 MB/s eta 0:00:01\r\u001b[K     |███████████████████████████████▉| 1.3 MB 5.4 MB/s eta 0:00:01\r\u001b[K     |████████████████████████████████| 1.3 MB 5.4 MB/s \n",
            "\u001b[?25hInstalling collected packages: keras\n",
            "  Attempting uninstall: keras\n",
            "    Found existing installation: keras 2.8.0\n",
            "    Uninstalling keras-2.8.0:\n",
            "      Successfully uninstalled keras-2.8.0\n",
            "Successfully installed keras-2.6.0\n",
            "Collecting tensorflow_addons\n",
            "  Downloading tensorflow_addons-0.16.1-cp37-cp37m-manylinux_2_12_x86_64.manylinux2010_x86_64.whl (1.1 MB)\n",
            "\u001b[K     |████████████████████████████████| 1.1 MB 5.5 MB/s \n",
            "\u001b[?25hRequirement already satisfied: typeguard>=2.7 in /usr/local/lib/python3.7/dist-packages (from tensorflow_addons) (2.7.1)\n",
            "Installing collected packages: tensorflow-addons\n",
            "Successfully installed tensorflow-addons-0.16.1\n",
            "Collecting keras-segmentation\n",
            "  Downloading keras_segmentation-0.3.0.tar.gz (23 kB)\n",
            "Requirement already satisfied: Keras>=2.0.0 in /usr/local/lib/python3.7/dist-packages (from keras-segmentation) (2.6.0)\n",
            "Collecting imageio==2.5.0\n",
            "  Downloading imageio-2.5.0-py3-none-any.whl (3.3 MB)\n",
            "\u001b[K     |████████████████████████████████| 3.3 MB 7.5 MB/s \n",
            "\u001b[?25hRequirement already satisfied: imgaug==0.2.9 in /usr/local/lib/python3.7/dist-packages (from keras-segmentation) (0.2.9)\n",
            "Requirement already satisfied: opencv-python in /usr/local/lib/python3.7/dist-packages (from keras-segmentation) (4.1.2.30)\n",
            "Requirement already satisfied: tqdm in /usr/local/lib/python3.7/dist-packages (from keras-segmentation) (4.63.0)\n",
            "Requirement already satisfied: numpy in /usr/local/lib/python3.7/dist-packages (from imageio==2.5.0->keras-segmentation) (1.19.5)\n",
            "Requirement already satisfied: pillow in /usr/local/lib/python3.7/dist-packages (from imageio==2.5.0->keras-segmentation) (7.1.2)\n",
            "Requirement already satisfied: six in /usr/local/lib/python3.7/dist-packages (from imgaug==0.2.9->keras-segmentation) (1.15.0)\n",
            "Requirement already satisfied: scipy in /usr/local/lib/python3.7/dist-packages (from imgaug==0.2.9->keras-segmentation) (1.4.1)\n",
            "Requirement already satisfied: Shapely in /usr/local/lib/python3.7/dist-packages (from imgaug==0.2.9->keras-segmentation) (1.8.1.post1)\n",
            "Requirement already satisfied: matplotlib in /usr/local/lib/python3.7/dist-packages (from imgaug==0.2.9->keras-segmentation) (3.2.2)\n",
            "Requirement already satisfied: scikit-image>=0.11.0 in /usr/local/lib/python3.7/dist-packages (from imgaug==0.2.9->keras-segmentation) (0.18.3)\n",
            "Requirement already satisfied: tifffile>=2019.7.26 in /usr/local/lib/python3.7/dist-packages (from scikit-image>=0.11.0->imgaug==0.2.9->keras-segmentation) (2021.11.2)\n",
            "Requirement already satisfied: PyWavelets>=1.1.1 in /usr/local/lib/python3.7/dist-packages (from scikit-image>=0.11.0->imgaug==0.2.9->keras-segmentation) (1.2.0)\n",
            "Requirement already satisfied: networkx>=2.0 in /usr/local/lib/python3.7/dist-packages (from scikit-image>=0.11.0->imgaug==0.2.9->keras-segmentation) (2.6.3)\n",
            "Requirement already satisfied: cycler>=0.10 in /usr/local/lib/python3.7/dist-packages (from matplotlib->imgaug==0.2.9->keras-segmentation) (0.11.0)\n",
            "Requirement already satisfied: python-dateutil>=2.1 in /usr/local/lib/python3.7/dist-packages (from matplotlib->imgaug==0.2.9->keras-segmentation) (2.8.2)\n",
            "Requirement already satisfied: kiwisolver>=1.0.1 in /usr/local/lib/python3.7/dist-packages (from matplotlib->imgaug==0.2.9->keras-segmentation) (1.3.2)\n",
            "Requirement already satisfied: pyparsing!=2.0.4,!=2.1.2,!=2.1.6,>=2.0.1 in /usr/local/lib/python3.7/dist-packages (from matplotlib->imgaug==0.2.9->keras-segmentation) (3.0.7)\n",
            "Building wheels for collected packages: keras-segmentation\n",
            "  Building wheel for keras-segmentation (setup.py) ... \u001b[?25l\u001b[?25hdone\n",
            "  Created wheel for keras-segmentation: filename=keras_segmentation-0.3.0-py3-none-any.whl size=29071 sha256=4f31b3f9b1819a8e628a6342c8e7d47150b7cd598f25df4075eea353e0c7789b\n",
            "  Stored in directory: /root/.cache/pip/wheels/68/dc/b3/596a3e2461ba16e935ef31661c26e823f841cfb577cec4c47a\n",
            "Successfully built keras-segmentation\n",
            "Installing collected packages: imageio, keras-segmentation\n",
            "  Attempting uninstall: imageio\n",
            "    Found existing installation: imageio 2.4.1\n",
            "    Uninstalling imageio-2.4.1:\n",
            "      Successfully uninstalled imageio-2.4.1\n",
            "\u001b[31mERROR: pip's dependency resolver does not currently take into account all the packages that are installed. This behaviour is the source of the following dependency conflicts.\n",
            "albumentations 0.1.12 requires imgaug<0.2.7,>=0.2.5, but you have imgaug 0.2.9 which is incompatible.\u001b[0m\n",
            "Successfully installed imageio-2.5.0 keras-segmentation-0.3.0\n",
            "Collecting segmentation_models\n",
            "  Downloading segmentation_models-1.0.1-py3-none-any.whl (33 kB)\n",
            "Collecting efficientnet==1.0.0\n",
            "  Downloading efficientnet-1.0.0-py3-none-any.whl (17 kB)\n",
            "Collecting keras-applications<=1.0.8,>=1.0.7\n",
            "  Downloading Keras_Applications-1.0.8-py3-none-any.whl (50 kB)\n",
            "\u001b[K     |████████████████████████████████| 50 kB 5.4 MB/s \n",
            "\u001b[?25hCollecting image-classifiers==1.0.0\n",
            "  Downloading image_classifiers-1.0.0-py3-none-any.whl (19 kB)\n",
            "Requirement already satisfied: scikit-image in /usr/local/lib/python3.7/dist-packages (from efficientnet==1.0.0->segmentation_models) (0.18.3)\n",
            "Requirement already satisfied: h5py in /usr/local/lib/python3.7/dist-packages (from keras-applications<=1.0.8,>=1.0.7->segmentation_models) (3.1.0)\n",
            "Requirement already satisfied: numpy>=1.9.1 in /usr/local/lib/python3.7/dist-packages (from keras-applications<=1.0.8,>=1.0.7->segmentation_models) (1.19.5)\n",
            "Requirement already satisfied: cached-property in /usr/local/lib/python3.7/dist-packages (from h5py->keras-applications<=1.0.8,>=1.0.7->segmentation_models) (1.5.2)\n",
            "Requirement already satisfied: PyWavelets>=1.1.1 in /usr/local/lib/python3.7/dist-packages (from scikit-image->efficientnet==1.0.0->segmentation_models) (1.2.0)\n",
            "Requirement already satisfied: matplotlib!=3.0.0,>=2.0.0 in /usr/local/lib/python3.7/dist-packages (from scikit-image->efficientnet==1.0.0->segmentation_models) (3.2.2)\n",
            "Requirement already satisfied: pillow!=7.1.0,!=7.1.1,>=4.3.0 in /usr/local/lib/python3.7/dist-packages (from scikit-image->efficientnet==1.0.0->segmentation_models) (7.1.2)\n",
            "Requirement already satisfied: networkx>=2.0 in /usr/local/lib/python3.7/dist-packages (from scikit-image->efficientnet==1.0.0->segmentation_models) (2.6.3)\n",
            "Requirement already satisfied: imageio>=2.3.0 in /usr/local/lib/python3.7/dist-packages (from scikit-image->efficientnet==1.0.0->segmentation_models) (2.5.0)\n",
            "Requirement already satisfied: tifffile>=2019.7.26 in /usr/local/lib/python3.7/dist-packages (from scikit-image->efficientnet==1.0.0->segmentation_models) (2021.11.2)\n",
            "Requirement already satisfied: scipy>=1.0.1 in /usr/local/lib/python3.7/dist-packages (from scikit-image->efficientnet==1.0.0->segmentation_models) (1.4.1)\n",
            "Requirement already satisfied: pyparsing!=2.0.4,!=2.1.2,!=2.1.6,>=2.0.1 in /usr/local/lib/python3.7/dist-packages (from matplotlib!=3.0.0,>=2.0.0->scikit-image->efficientnet==1.0.0->segmentation_models) (3.0.7)\n",
            "Requirement already satisfied: cycler>=0.10 in /usr/local/lib/python3.7/dist-packages (from matplotlib!=3.0.0,>=2.0.0->scikit-image->efficientnet==1.0.0->segmentation_models) (0.11.0)\n",
            "Requirement already satisfied: python-dateutil>=2.1 in /usr/local/lib/python3.7/dist-packages (from matplotlib!=3.0.0,>=2.0.0->scikit-image->efficientnet==1.0.0->segmentation_models) (2.8.2)\n",
            "Requirement already satisfied: kiwisolver>=1.0.1 in /usr/local/lib/python3.7/dist-packages (from matplotlib!=3.0.0,>=2.0.0->scikit-image->efficientnet==1.0.0->segmentation_models) (1.3.2)\n",
            "Requirement already satisfied: six>=1.5 in /usr/local/lib/python3.7/dist-packages (from python-dateutil>=2.1->matplotlib!=3.0.0,>=2.0.0->scikit-image->efficientnet==1.0.0->segmentation_models) (1.15.0)\n",
            "Installing collected packages: keras-applications, image-classifiers, efficientnet, segmentation-models\n",
            "Successfully installed efficientnet-1.0.0 image-classifiers-1.0.0 keras-applications-1.0.8 segmentation-models-1.0.1\n"
          ]
        }
      ]
    },
    {
      "cell_type": "code",
      "metadata": {
        "id": "voJBV5X_g0B6"
      },
      "source": [
        "!cp -r \"/content/drive/My Drive/img_satelite\" \"img_satelite\""
      ],
      "execution_count": 3,
      "outputs": []
    },
    {
      "cell_type": "code",
      "metadata": {
        "id": "W384maMHy7Yc",
        "colab": {
          "base_uri": "https://localhost:8080/",
          "height": 53
        },
        "outputId": "ca8da33e-ddbc-4b25-fe06-edfb185e3af0"
      },
      "source": [
        "import tensorflow as tf\n",
        "from tensorflow.keras.preprocessing.image import ImageDataGenerator\n",
        "from keras.layers import Dense,GlobalAveragePooling2D ,MaxPooling2D,Activation,Flatten,Conv2D,BatchNormalization,Dropout,concatenate, LeakyReLU\n",
        "from tensorflow.keras import layers\n",
        "from tensorflow.keras import Model\n",
        "from keras.models import Sequential\n",
        "from tensorflow.keras.optimizers import SGD\n",
        "import matplotlib.pyplot as plt\n",
        "from sklearn.metrics import classification_report\n",
        "from sklearn.metrics import confusion_matrix\n",
        "import numpy as np\n",
        "import segmentation_models as sm\n",
        "import keras_segmentation\n",
        "from tensorflow.keras.applications.vgg16 import VGG16, preprocess_input\n",
        "  \n",
        "from keras.models import *\n",
        "from keras.layers import *\n",
        "sm.set_framework('tf.keras')\n",
        "\n",
        "sm.framework()"
      ],
      "execution_count": 4,
      "outputs": [
        {
          "output_type": "stream",
          "name": "stdout",
          "text": [
            "Segmentation Models: using `keras` framework.\n"
          ]
        },
        {
          "output_type": "execute_result",
          "data": {
            "application/vnd.google.colaboratory.intrinsic+json": {
              "type": "string"
            },
            "text/plain": [
              "'tf.keras'"
            ]
          },
          "metadata": {},
          "execution_count": 4
        }
      ]
    },
    {
      "cell_type": "code",
      "metadata": {
        "id": "ThJjNtJBi900"
      },
      "source": [
        "path_img = 'img_satelite/wsiseg/allsky/'\n",
        "path_mask = 'img_satelite/wsiseg/masks/'"
      ],
      "execution_count": 23,
      "outputs": []
    },
    {
      "cell_type": "markdown",
      "source": [
        "Function to display images"
      ],
      "metadata": {
        "id": "nV8wrs-7dVQm"
      }
    },
    {
      "cell_type": "code",
      "source": [
        "def display(display_list,title=['Input Image', 'True Mask', 'Predicted Mask']):\n",
        "  plt.figure(figsize=(15, 15))\n",
        "  for i in range(len(display_list)):\n",
        "    plt.subplot(1, len(display_list), i+1)\n",
        "    plt.title(title[i])\n",
        "    plt.imshow(tf.keras.preprocessing.image.array_to_img(display_list[i]),cmap='magma')\n",
        "    plt.axis('off')\n",
        "  plt.show()"
      ],
      "metadata": {
        "id": "E787oLaDdTAH"
      },
      "execution_count": 17,
      "outputs": []
    },
    {
      "cell_type": "markdown",
      "source": [
        "Hyperparameters"
      ],
      "metadata": {
        "id": "3AMjmwIbJe7D"
      }
    },
    {
      "cell_type": "code",
      "source": [
        "num_classes = 2\n",
        "batch_size = 8\n",
        "epochs = 20\n",
        "height = 400\n",
        "width = 400\n",
        "channels = 3"
      ],
      "metadata": {
        "id": "m37YWUPnJfDi"
      },
      "execution_count": 18,
      "outputs": []
    },
    {
      "cell_type": "markdown",
      "metadata": {
        "id": "3-0nc-LxNSF2"
      },
      "source": [
        "# Pretrained model\n"
      ]
    },
    {
      "cell_type": "code",
      "source": [
        "model = sm.Unet('resnet34', encoder_weights='imagenet',classes=3, activation='softmax')# multiclass segmentation with non overlapping class masks (your classes + background)"
      ],
      "metadata": {
        "id": "9njuXAOdl82J"
      },
      "execution_count": 19,
      "outputs": []
    },
    {
      "cell_type": "markdown",
      "metadata": {
        "id": "mfA7Ta99wW_a"
      },
      "source": [
        "Read the images"
      ]
    },
    {
      "cell_type": "code",
      "metadata": {
        "id": "qh3pPvvDzvEq"
      },
      "source": [
        "img_datagen = ImageDataGenerator(rescale=1. / 255, validation_split=0.25)\n",
        "\n",
        "mask_datagen = ImageDataGenerator(rescale=1. / 255, validation_split=0.25)"
      ],
      "execution_count": 24,
      "outputs": []
    },
    {
      "cell_type": "code",
      "source": [
        "train_image_generator =img_datagen.flow_from_directory(path_img,subset='training',seed = 909)\n",
        "\n",
        "train_mask_generator = mask_datagen.flow_from_directory(path_mask,subset='training', seed = 909)\n",
        "\n",
        "train_generator = zip(train_image_generator, train_mask_generator)\n",
        "\n",
        "valid_image_generator =img_datagen.flow_from_directory(path_img,subset='validation', seed = 909)\n",
        "\n",
        "valid_mask_generator = mask_datagen.flow_from_directory(path_mask,subset='validation',seed = 909)\n",
        "\n",
        "valid_generator = zip(valid_image_generator, valid_mask_generator)"
      ],
      "metadata": {
        "id": "Y7MOBDreykGp",
        "colab": {
          "base_uri": "https://localhost:8080/"
        },
        "outputId": "91417c0e-e30c-45b9-ed62-0b65a1163c91"
      },
      "execution_count": 27,
      "outputs": [
        {
          "output_type": "stream",
          "name": "stdout",
          "text": [
            "Found 0 images belonging to 1 classes.\n",
            "Found 0 images belonging to 1 classes.\n",
            "Found 0 images belonging to 1 classes.\n",
            "Found 0 images belonging to 1 classes.\n"
          ]
        }
      ]
    },
    {
      "cell_type": "markdown",
      "metadata": {
        "id": "JV5TTVwGtY1p"
      },
      "source": [
        "Hyper-parameters"
      ]
    },
    {
      "cell_type": "code",
      "metadata": {
        "id": "fcNysNaZtY74"
      },
      "source": [
        "number_of_neurons = 100"
      ],
      "execution_count": 11,
      "outputs": []
    },
    {
      "cell_type": "markdown",
      "metadata": {
        "id": "Qh_m54z-5VW8"
      },
      "source": [
        "Lets see some samples"
      ]
    },
    {
      "cell_type": "code",
      "metadata": {
        "id": "mDvSxorK_GXV"
      },
      "source": [
        "model.compile(\n",
        "    'Adam',\n",
        "    loss=sm.losses.bce_jaccard_loss,\n",
        "    metrics=[sm.metrics.iou_score],\n",
        ")"
      ],
      "execution_count": 12,
      "outputs": []
    },
    {
      "cell_type": "markdown",
      "metadata": {
        "id": "zFraRq9i9FNA"
      },
      "source": [
        ""
      ]
    },
    {
      "cell_type": "code",
      "metadata": {
        "id": "RXFG_Bn19FTX",
        "colab": {
          "base_uri": "https://localhost:8080/"
        },
        "outputId": "8c500f52-15ce-4790-be8f-c48bee698cfa"
      },
      "source": [
        "model.fit(train_generator, steps_per_epoch=167,epochs=10)"
      ],
      "execution_count": 15,
      "outputs": [
        {
          "output_type": "stream",
          "name": "stdout",
          "text": [
            "Epoch 1/10\n",
            "167/167 [==============================] - 4s 25ms/step - loss: 0.0000e+00 - iou_score: 1.0000\n",
            "Epoch 2/10\n",
            "167/167 [==============================] - 3s 21ms/step - loss: 0.0000e+00 - iou_score: 1.0000\n",
            "Epoch 3/10\n",
            "167/167 [==============================] - 3s 21ms/step - loss: 0.0000e+00 - iou_score: 1.0000\n",
            "Epoch 4/10\n",
            "167/167 [==============================] - 3s 20ms/step - loss: 0.0000e+00 - iou_score: 1.0000\n",
            "Epoch 5/10\n",
            "167/167 [==============================] - 3s 21ms/step - loss: 0.0000e+00 - iou_score: 1.0000\n",
            "Epoch 6/10\n",
            "167/167 [==============================] - 3s 20ms/step - loss: 0.0000e+00 - iou_score: 1.0000\n",
            "Epoch 7/10\n",
            "167/167 [==============================] - 3s 21ms/step - loss: 0.0000e+00 - iou_score: 1.0000\n",
            "Epoch 8/10\n",
            "167/167 [==============================] - 3s 21ms/step - loss: 0.0000e+00 - iou_score: 1.0000\n",
            "Epoch 9/10\n",
            "167/167 [==============================] - 4s 21ms/step - loss: 0.0000e+00 - iou_score: 1.0000\n",
            "Epoch 10/10\n",
            "167/167 [==============================] - 4s 21ms/step - loss: 0.0000e+00 - iou_score: 1.0000\n"
          ]
        },
        {
          "output_type": "execute_result",
          "data": {
            "text/plain": [
              "<keras.callbacks.History at 0x7f6c69360fd0>"
            ]
          },
          "metadata": {},
          "execution_count": 15
        }
      ]
    },
    {
      "cell_type": "code",
      "source": [
        "test_generator.classes"
      ],
      "metadata": {
        "id": "cbxMbryxo31y"
      },
      "execution_count": null,
      "outputs": []
    },
    {
      "cell_type": "code",
      "source": [
        "y_pred"
      ],
      "metadata": {
        "id": "_C6CCDiayO0g"
      },
      "execution_count": null,
      "outputs": []
    },
    {
      "cell_type": "code",
      "source": [
        "import plotly.figure_factory as ff\n",
        "\n",
        "y_true = test_generator.classes\n",
        "\n",
        "z = confusion_matrix(y_true, y_pred)\n",
        "\n",
        "x = list(test_generator.class_indices.keys())\n",
        "\n",
        "y = list(test_generator.class_indices.keys())\n"
      ],
      "metadata": {
        "id": "5NOZQOgN_DHU"
      },
      "execution_count": null,
      "outputs": []
    },
    {
      "cell_type": "code",
      "metadata": {
        "id": "EHxUyHkC1URt"
      },
      "source": [
        "# change each element of z to type string for annotations\n",
        "z_text = [[str(y) for y in x] for x in z]\n",
        "\n",
        "# set up figure \n",
        "fig = ff.create_annotated_heatmap(z, x=x, y=y, annotation_text=z_text, colorscale='Viridis')\n",
        "\n",
        "# add title\n",
        "fig.update_layout(title_text='<i><b>Confusion matrix</b></i>',\n",
        "                  #xaxis = dict(title='x'),\n",
        "                  #yaxis = dict(title='x')\n",
        "                 )\n",
        "\n",
        "# add custom xaxis title\n",
        "fig.add_annotation(dict(font=dict(color=\"black\",size=14),\n",
        "                        x=0.5,\n",
        "                        y=-0.15,\n",
        "                        showarrow=False,\n",
        "                        text=\"Predicted value\",\n",
        "                        xref=\"paper\",\n",
        "                        yref=\"paper\"))\n",
        "\n",
        "# add custom yaxis title\n",
        "fig.add_annotation(dict(font=dict(color=\"black\",size=14),\n",
        "                        x=-0.35,\n",
        "                        y=0.5,\n",
        "                        showarrow=False,\n",
        "                        text=\"Real value\",\n",
        "                        textangle=-90,\n",
        "                        xref=\"paper\",\n",
        "                        yref=\"paper\"))\n",
        "\n",
        "# adjust margins to make room for yaxis title\n",
        "fig.update_layout(margin=dict(t=50, l=200))\n",
        "\n",
        "# add colorbar\n",
        "fig['data'][0]['showscale'] = True\n",
        "fig.show()"
      ],
      "execution_count": null,
      "outputs": []
    }
  ]
}