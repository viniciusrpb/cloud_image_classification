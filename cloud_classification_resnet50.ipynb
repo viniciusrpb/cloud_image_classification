{
  "nbformat": 4,
  "nbformat_minor": 0,
  "metadata": {
    "kernelspec": {
      "display_name": "Python 3",
      "language": "python",
      "name": "python3"
    },
    "language_info": {
      "codemirror_mode": {
        "name": "ipython",
        "version": 3
      },
      "file_extension": ".py",
      "mimetype": "text/x-python",
      "name": "python",
      "nbconvert_exporter": "python",
      "pygments_lexer": "ipython3",
      "version": "3.6.10"
    },
    "colab": {
      "name": "cloud_classification_keras_cnnmodels.ipynb",
      "provenance": [],
      "collapsed_sections": [],
      "include_colab_link": true
    },
    "accelerator": "GPU"
  },
  "cells": [
    {
      "cell_type": "markdown",
      "metadata": {
        "id": "view-in-github",
        "colab_type": "text"
      },
      "source": [
        "<a href=\"https://colab.research.google.com/github/viniciusrpb/cloud_image_segmentation/blob/main/cloud_classification_resnet50.ipynb\" target=\"_parent\"><img src=\"https://colab.research.google.com/assets/colab-badge.svg\" alt=\"Open In Colab\"/></a>"
      ]
    },
    {
      "cell_type": "code",
      "metadata": {
        "id": "Lf68PvvD_GXN",
        "colab": {
          "base_uri": "https://localhost:8080/"
        },
        "outputId": "dc5c45f3-3f65-4b07-e446-69cdfa6fe8f9"
      },
      "source": [
        "from google.colab import drive\n",
        "drive.mount('/content/drive')"
      ],
      "execution_count": 1,
      "outputs": [
        {
          "output_type": "stream",
          "name": "stdout",
          "text": [
            "Mounted at /content/drive\n"
          ]
        }
      ]
    },
    {
      "cell_type": "markdown",
      "source": [
        "# New Section"
      ],
      "metadata": {
        "id": "uSEdHGn26Hzg"
      }
    },
    {
      "cell_type": "code",
      "metadata": {
        "id": "6o0SMmf8z9qD",
        "colab": {
          "base_uri": "https://localhost:8080/"
        },
        "outputId": "b393bd86-ea00-4c9b-e2c5-73fbc666cd2b"
      },
      "source": [
        "!pip install tensorflow_addons"
      ],
      "execution_count": 2,
      "outputs": [
        {
          "output_type": "stream",
          "name": "stdout",
          "text": [
            "Collecting tensorflow_addons\n",
            "  Downloading tensorflow_addons-0.16.1-cp37-cp37m-manylinux_2_12_x86_64.manylinux2010_x86_64.whl (1.1 MB)\n",
            "\u001b[?25l\r\u001b[K     |▎                               | 10 kB 25.2 MB/s eta 0:00:01\r\u001b[K     |▋                               | 20 kB 30.4 MB/s eta 0:00:01\r\u001b[K     |▉                               | 30 kB 24.3 MB/s eta 0:00:01\r\u001b[K     |█▏                              | 40 kB 11.5 MB/s eta 0:00:01\r\u001b[K     |█▌                              | 51 kB 11.5 MB/s eta 0:00:01\r\u001b[K     |█▊                              | 61 kB 13.3 MB/s eta 0:00:01\r\u001b[K     |██                              | 71 kB 10.8 MB/s eta 0:00:01\r\u001b[K     |██▍                             | 81 kB 11.8 MB/s eta 0:00:01\r\u001b[K     |██▋                             | 92 kB 13.0 MB/s eta 0:00:01\r\u001b[K     |███                             | 102 kB 12.2 MB/s eta 0:00:01\r\u001b[K     |███▏                            | 112 kB 12.2 MB/s eta 0:00:01\r\u001b[K     |███▌                            | 122 kB 12.2 MB/s eta 0:00:01\r\u001b[K     |███▉                            | 133 kB 12.2 MB/s eta 0:00:01\r\u001b[K     |████                            | 143 kB 12.2 MB/s eta 0:00:01\r\u001b[K     |████▍                           | 153 kB 12.2 MB/s eta 0:00:01\r\u001b[K     |████▊                           | 163 kB 12.2 MB/s eta 0:00:01\r\u001b[K     |█████                           | 174 kB 12.2 MB/s eta 0:00:01\r\u001b[K     |█████▎                          | 184 kB 12.2 MB/s eta 0:00:01\r\u001b[K     |█████▌                          | 194 kB 12.2 MB/s eta 0:00:01\r\u001b[K     |█████▉                          | 204 kB 12.2 MB/s eta 0:00:01\r\u001b[K     |██████▏                         | 215 kB 12.2 MB/s eta 0:00:01\r\u001b[K     |██████▍                         | 225 kB 12.2 MB/s eta 0:00:01\r\u001b[K     |██████▊                         | 235 kB 12.2 MB/s eta 0:00:01\r\u001b[K     |███████                         | 245 kB 12.2 MB/s eta 0:00:01\r\u001b[K     |███████▎                        | 256 kB 12.2 MB/s eta 0:00:01\r\u001b[K     |███████▋                        | 266 kB 12.2 MB/s eta 0:00:01\r\u001b[K     |███████▉                        | 276 kB 12.2 MB/s eta 0:00:01\r\u001b[K     |████████▏                       | 286 kB 12.2 MB/s eta 0:00:01\r\u001b[K     |████████▌                       | 296 kB 12.2 MB/s eta 0:00:01\r\u001b[K     |████████▊                       | 307 kB 12.2 MB/s eta 0:00:01\r\u001b[K     |█████████                       | 317 kB 12.2 MB/s eta 0:00:01\r\u001b[K     |█████████▍                      | 327 kB 12.2 MB/s eta 0:00:01\r\u001b[K     |█████████▋                      | 337 kB 12.2 MB/s eta 0:00:01\r\u001b[K     |██████████                      | 348 kB 12.2 MB/s eta 0:00:01\r\u001b[K     |██████████▏                     | 358 kB 12.2 MB/s eta 0:00:01\r\u001b[K     |██████████▌                     | 368 kB 12.2 MB/s eta 0:00:01\r\u001b[K     |██████████▉                     | 378 kB 12.2 MB/s eta 0:00:01\r\u001b[K     |███████████                     | 389 kB 12.2 MB/s eta 0:00:01\r\u001b[K     |███████████▍                    | 399 kB 12.2 MB/s eta 0:00:01\r\u001b[K     |███████████▊                    | 409 kB 12.2 MB/s eta 0:00:01\r\u001b[K     |████████████                    | 419 kB 12.2 MB/s eta 0:00:01\r\u001b[K     |████████████▎                   | 430 kB 12.2 MB/s eta 0:00:01\r\u001b[K     |████████████▌                   | 440 kB 12.2 MB/s eta 0:00:01\r\u001b[K     |████████████▉                   | 450 kB 12.2 MB/s eta 0:00:01\r\u001b[K     |█████████████▏                  | 460 kB 12.2 MB/s eta 0:00:01\r\u001b[K     |█████████████▍                  | 471 kB 12.2 MB/s eta 0:00:01\r\u001b[K     |█████████████▊                  | 481 kB 12.2 MB/s eta 0:00:01\r\u001b[K     |██████████████                  | 491 kB 12.2 MB/s eta 0:00:01\r\u001b[K     |██████████████▎                 | 501 kB 12.2 MB/s eta 0:00:01\r\u001b[K     |██████████████▋                 | 512 kB 12.2 MB/s eta 0:00:01\r\u001b[K     |██████████████▉                 | 522 kB 12.2 MB/s eta 0:00:01\r\u001b[K     |███████████████▏                | 532 kB 12.2 MB/s eta 0:00:01\r\u001b[K     |███████████████▌                | 542 kB 12.2 MB/s eta 0:00:01\r\u001b[K     |███████████████▊                | 552 kB 12.2 MB/s eta 0:00:01\r\u001b[K     |████████████████                | 563 kB 12.2 MB/s eta 0:00:01\r\u001b[K     |████████████████▍               | 573 kB 12.2 MB/s eta 0:00:01\r\u001b[K     |████████████████▋               | 583 kB 12.2 MB/s eta 0:00:01\r\u001b[K     |█████████████████               | 593 kB 12.2 MB/s eta 0:00:01\r\u001b[K     |█████████████████▏              | 604 kB 12.2 MB/s eta 0:00:01\r\u001b[K     |█████████████████▌              | 614 kB 12.2 MB/s eta 0:00:01\r\u001b[K     |█████████████████▉              | 624 kB 12.2 MB/s eta 0:00:01\r\u001b[K     |██████████████████              | 634 kB 12.2 MB/s eta 0:00:01\r\u001b[K     |██████████████████▍             | 645 kB 12.2 MB/s eta 0:00:01\r\u001b[K     |██████████████████▊             | 655 kB 12.2 MB/s eta 0:00:01\r\u001b[K     |███████████████████             | 665 kB 12.2 MB/s eta 0:00:01\r\u001b[K     |███████████████████▎            | 675 kB 12.2 MB/s eta 0:00:01\r\u001b[K     |███████████████████▌            | 686 kB 12.2 MB/s eta 0:00:01\r\u001b[K     |███████████████████▉            | 696 kB 12.2 MB/s eta 0:00:01\r\u001b[K     |████████████████████▏           | 706 kB 12.2 MB/s eta 0:00:01\r\u001b[K     |████████████████████▍           | 716 kB 12.2 MB/s eta 0:00:01\r\u001b[K     |████████████████████▊           | 727 kB 12.2 MB/s eta 0:00:01\r\u001b[K     |█████████████████████           | 737 kB 12.2 MB/s eta 0:00:01\r\u001b[K     |█████████████████████▎          | 747 kB 12.2 MB/s eta 0:00:01\r\u001b[K     |█████████████████████▋          | 757 kB 12.2 MB/s eta 0:00:01\r\u001b[K     |█████████████████████▉          | 768 kB 12.2 MB/s eta 0:00:01\r\u001b[K     |██████████████████████▏         | 778 kB 12.2 MB/s eta 0:00:01\r\u001b[K     |██████████████████████▌         | 788 kB 12.2 MB/s eta 0:00:01\r\u001b[K     |██████████████████████▊         | 798 kB 12.2 MB/s eta 0:00:01\r\u001b[K     |███████████████████████         | 808 kB 12.2 MB/s eta 0:00:01\r\u001b[K     |███████████████████████▍        | 819 kB 12.2 MB/s eta 0:00:01\r\u001b[K     |███████████████████████▋        | 829 kB 12.2 MB/s eta 0:00:01\r\u001b[K     |████████████████████████        | 839 kB 12.2 MB/s eta 0:00:01\r\u001b[K     |████████████████████████▏       | 849 kB 12.2 MB/s eta 0:00:01\r\u001b[K     |████████████████████████▌       | 860 kB 12.2 MB/s eta 0:00:01\r\u001b[K     |████████████████████████▉       | 870 kB 12.2 MB/s eta 0:00:01\r\u001b[K     |█████████████████████████       | 880 kB 12.2 MB/s eta 0:00:01\r\u001b[K     |█████████████████████████▍      | 890 kB 12.2 MB/s eta 0:00:01\r\u001b[K     |█████████████████████████▊      | 901 kB 12.2 MB/s eta 0:00:01\r\u001b[K     |██████████████████████████      | 911 kB 12.2 MB/s eta 0:00:01\r\u001b[K     |██████████████████████████▎     | 921 kB 12.2 MB/s eta 0:00:01\r\u001b[K     |██████████████████████████▌     | 931 kB 12.2 MB/s eta 0:00:01\r\u001b[K     |██████████████████████████▉     | 942 kB 12.2 MB/s eta 0:00:01\r\u001b[K     |███████████████████████████▏    | 952 kB 12.2 MB/s eta 0:00:01\r\u001b[K     |███████████████████████████▍    | 962 kB 12.2 MB/s eta 0:00:01\r\u001b[K     |███████████████████████████▊    | 972 kB 12.2 MB/s eta 0:00:01\r\u001b[K     |████████████████████████████    | 983 kB 12.2 MB/s eta 0:00:01\r\u001b[K     |████████████████████████████▎   | 993 kB 12.2 MB/s eta 0:00:01\r\u001b[K     |████████████████████████████▋   | 1.0 MB 12.2 MB/s eta 0:00:01\r\u001b[K     |████████████████████████████▉   | 1.0 MB 12.2 MB/s eta 0:00:01\r\u001b[K     |█████████████████████████████▏  | 1.0 MB 12.2 MB/s eta 0:00:01\r\u001b[K     |█████████████████████████████▌  | 1.0 MB 12.2 MB/s eta 0:00:01\r\u001b[K     |█████████████████████████████▊  | 1.0 MB 12.2 MB/s eta 0:00:01\r\u001b[K     |██████████████████████████████  | 1.1 MB 12.2 MB/s eta 0:00:01\r\u001b[K     |██████████████████████████████▍ | 1.1 MB 12.2 MB/s eta 0:00:01\r\u001b[K     |██████████████████████████████▋ | 1.1 MB 12.2 MB/s eta 0:00:01\r\u001b[K     |███████████████████████████████ | 1.1 MB 12.2 MB/s eta 0:00:01\r\u001b[K     |███████████████████████████████▏| 1.1 MB 12.2 MB/s eta 0:00:01\r\u001b[K     |███████████████████████████████▌| 1.1 MB 12.2 MB/s eta 0:00:01\r\u001b[K     |███████████████████████████████▉| 1.1 MB 12.2 MB/s eta 0:00:01\r\u001b[K     |████████████████████████████████| 1.1 MB 12.2 MB/s \n",
            "\u001b[?25hRequirement already satisfied: typeguard>=2.7 in /usr/local/lib/python3.7/dist-packages (from tensorflow_addons) (2.7.1)\n",
            "Installing collected packages: tensorflow-addons\n",
            "Successfully installed tensorflow-addons-0.16.1\n"
          ]
        }
      ]
    },
    {
      "cell_type": "code",
      "metadata": {
        "id": "voJBV5X_g0B6"
      },
      "source": [
        "!cp -r \"/content/drive/My Drive/img_satelite/classificacao/CCSN/train\" \"training\"\n",
        "!cp -r \"/content/drive/My Drive/img_satelite/classificacao/CCSN/val\" \"validation\"\n",
        "!cp -r \"/content/drive/My Drive/img_satelite/classificacao/CCSN/test\" \"testing\""
      ],
      "execution_count": 3,
      "outputs": []
    },
    {
      "cell_type": "code",
      "metadata": {
        "id": "W384maMHy7Yc"
      },
      "source": [
        "import tensorflow as tf\n",
        "from tensorflow.keras.optimizers import RMSprop\n",
        "from tensorflow.keras.preprocessing.image import ImageDataGenerator\n",
        "from keras.layers import Dense,GlobalAveragePooling2D ,MaxPooling2D,Activation,Flatten,Conv2D,BatchNormalization,Dropout\n",
        "from tensorflow.keras import layers\n",
        "from tensorflow.keras import Model\n",
        "import keras.applications\n",
        "from keras.models import Sequential\n",
        "from tensorflow.keras.optimizers import SGD\n",
        "import matplotlib.pyplot as plt\n",
        "from sklearn.metrics import classification_report\n",
        "from sklearn.metrics import confusion_matrix\n",
        "import numpy as np\n",
        "import tensorflow_addons as tfa\n",
        "from tensorflow.keras.callbacks import ModelCheckpoint,EarlyStopping,ReduceLROnPlateau\n",
        "import os\n",
        "import argparse\n"
      ],
      "execution_count": 4,
      "outputs": []
    },
    {
      "cell_type": "code",
      "metadata": {
        "id": "ThJjNtJBi900"
      },
      "source": [
        "path_train = 'training'\n",
        "path_validation = 'validation'\n",
        "path_test = 'testing'"
      ],
      "execution_count": 5,
      "outputs": []
    },
    {
      "cell_type": "markdown",
      "metadata": {
        "id": "3-0nc-LxNSF2"
      },
      "source": [
        "# Pretrained GoogLeNet model using ImageNet\n"
      ]
    },
    {
      "cell_type": "markdown",
      "metadata": {
        "id": "Q8ZNyeF4v9FL"
      },
      "source": [
        "Hyperparameters"
      ]
    },
    {
      "cell_type": "code",
      "metadata": {
        "id": "js1kaBFGv9MD"
      },
      "source": [
        "batch_size = 32\n",
        "epochs=30\n",
        "dim = (224,224)"
      ],
      "execution_count": 6,
      "outputs": []
    },
    {
      "cell_type": "code",
      "metadata": {
        "id": "yWx2apyg_GXQ",
        "colab": {
          "base_uri": "https://localhost:8080/"
        },
        "outputId": "d765b451-953f-4784-d6ad-efb48f4f94ea"
      },
      "source": [
        "#from tensorflow.keras.applications.inception_v3 import InceptionV3\n",
        "from tensorflow.keras.applications.resnet50 import ResNet50\n",
        "\n",
        "#pre_trained_model = InceptionV3(input_shape=(224,224,3),include_top=False,weights='imagenet')\n",
        "pre_trained_model = ResNet50(input_shape=(224,224,3),include_top=False,pooling ='avg',weights='imagenet', classes=11)\n",
        "\n",
        "for layer in pre_trained_model.layers:\n",
        "  layer.trainable = False"
      ],
      "execution_count": 7,
      "outputs": [
        {
          "output_type": "stream",
          "name": "stdout",
          "text": [
            "Downloading data from https://storage.googleapis.com/tensorflow/keras-applications/resnet/resnet50_weights_tf_dim_ordering_tf_kernels_notop.h5\n",
            "94773248/94765736 [==============================] - 2s 0us/step\n",
            "94781440/94765736 [==============================] - 2s 0us/step\n"
          ]
        }
      ]
    },
    {
      "cell_type": "markdown",
      "metadata": {
        "id": "sHw1dYWP_GXV"
      },
      "source": [
        "### Data augmentation"
      ]
    },
    {
      "cell_type": "code",
      "metadata": {
        "id": "qh3pPvvDzvEq"
      },
      "source": [
        "train_datagen = ImageDataGenerator(rescale=1. / 255)\n",
        "\n",
        "validation_datagen = ImageDataGenerator(rescale=1. / 255)\n",
        "\n",
        "test_datagen = ImageDataGenerator(rescale=1. / 255)\n"
      ],
      "execution_count": 8,
      "outputs": []
    },
    {
      "cell_type": "markdown",
      "metadata": {
        "id": "mfA7Ta99wW_a"
      },
      "source": [
        "Read the images"
      ]
    },
    {
      "cell_type": "code",
      "metadata": {
        "colab": {
          "base_uri": "https://localhost:8080/"
        },
        "id": "c5Fpl71WwXGa",
        "outputId": "d005c4df-7d01-4779-823d-2b956a93955c"
      },
      "source": [
        "# Flow training images in batches of 20 using train_datagen generator\n",
        "train_generator = train_datagen.flow_from_directory(path_train,\n",
        "                                                    batch_size = batch_size,\n",
        "                                                    class_mode = 'categorical', \n",
        "                                                    target_size = (224,224))     \n",
        "\n",
        "# Flow validation images in batches of 20 using test_datagen generator\n",
        "validation_generator =  validation_datagen.flow_from_directory( path_validation,\n",
        "                                                          batch_size  = batch_size,\n",
        "                                                          class_mode  = 'categorical', \n",
        "                                                          target_size = (224,224))\n",
        "\n",
        "test_generator =  test_datagen.flow_from_directory( path_test,\n",
        "                                                          batch_size  = batch_size,\n",
        "                                                          class_mode  = 'categorical', \n",
        "                                                          target_size = (224,224))"
      ],
      "execution_count": 9,
      "outputs": [
        {
          "output_type": "stream",
          "name": "stdout",
          "text": [
            "Found 1774 images belonging to 11 classes.\n",
            "Found 250 images belonging to 11 classes.\n",
            "Found 519 images belonging to 11 classes.\n"
          ]
        }
      ]
    },
    {
      "cell_type": "markdown",
      "metadata": {
        "id": "JV5TTVwGtY1p"
      },
      "source": [
        "Hyper-parameters"
      ]
    },
    {
      "cell_type": "code",
      "metadata": {
        "id": "fcNysNaZtY74"
      },
      "source": [
        "number_of_neurons = 1024\n",
        "number_of_classes = 11"
      ],
      "execution_count": 10,
      "outputs": []
    },
    {
      "cell_type": "markdown",
      "metadata": {
        "id": "Qh_m54z-5VW8"
      },
      "source": [
        "Lets see some samples"
      ]
    },
    {
      "cell_type": "code",
      "metadata": {
        "id": "mDvSxorK_GXV"
      },
      "source": [
        "model = Sequential()\n",
        "\n",
        "model.add(pre_trained_model)\n",
        "model.add(BatchNormalization())\n",
        "#model.add(GlobalAveragePooling2D())\n",
        "#model.add(Flatten())\n",
        "\n",
        "# 1st hidden layer: 300 neurons\n",
        "#model.add(Dense(number_of_neurons,activation=\"relu\"))\n",
        "#model.add(Dropout(0.2))\n",
        "#model.add(BatchNormalization())\n",
        "\n",
        "# 2nd hidden layer : 150 neurons\n",
        "#model.add(Dense(number_of_neurons//2,activation=\"relu\"))\n",
        "#model.add(Dropout(0.5))\n",
        "#model.add(BatchNormalization())\n",
        "\n",
        "\n",
        "# 3rd hidden layer : 75 neurons\n",
        "#model.add(Dense(number_of_neurons,activation=\"relu\"))\n",
        "#model.add(Dropout(0.5))\n",
        "#model.add(BatchNormalization())\n",
        "\n",
        "model.add(Dense(number_of_classes,activation=\"softmax\"))"
      ],
      "execution_count": 11,
      "outputs": []
    },
    {
      "cell_type": "code",
      "metadata": {
        "id": "sqeVzAQhsj6i",
        "colab": {
          "base_uri": "https://localhost:8080/"
        },
        "outputId": "bac4bf77-3980-47b2-adb8-dc45d64ec68a"
      },
      "source": [
        "sgd = SGD(lr = 0.01, decay = 1e-6, momentum = 0.9, nesterov = True)\n",
        "\n",
        "f1_score = tfa.metrics.F1Score(num_classes=number_of_classes, average='macro',threshold=0.5)\n",
        "\n",
        "model.compile(optimizer = sgd, \n",
        "              loss = 'categorical_crossentropy', \n",
        "              metrics = ['accuracy',f1_score])\n",
        "\n",
        "#model.compile(optimizer = tf.keras.optimizers.Adam(learning_rate=0.0005,decay = 1e-6), \n",
        "#              loss = 'categorical_crossentropy', \n",
        "#              metrics = ['accuracy',f1_score])\n",
        "            #metrics = ['accuracy',f1_score])\n",
        "\n"
      ],
      "execution_count": 12,
      "outputs": [
        {
          "output_type": "stream",
          "name": "stderr",
          "text": [
            "/usr/local/lib/python3.7/dist-packages/keras/optimizer_v2/gradient_descent.py:102: UserWarning: The `lr` argument is deprecated, use `learning_rate` instead.\n",
            "  super(SGD, self).__init__(name, **kwargs)\n"
          ]
        }
      ]
    },
    {
      "cell_type": "markdown",
      "source": [
        "Callbacks definition to reduce chances of overfitting the model"
      ],
      "metadata": {
        "id": "pPCZL5X4ePlB"
      }
    },
    {
      "cell_type": "code",
      "source": [
        "fname = \"weights-improvement-{epoch:02d}-{val_accuracy:.2f}.hdf5\"\n",
        "\n",
        "resnet_checkpoint = ModelCheckpoint(fname, monitor='val_accuracy', verbose=1, save_best_only=True, mode='max')\n",
        "\n",
        "resnet_early_stopping = EarlyStopping(monitor='loss', patience=5)\n",
        "reduce_lr = ReduceLROnPlateau(monitor='val_loss', factor=0.05, patience=5, min_lr=0.000002)\n",
        "callbacklist = [resnet_checkpoint,resnet_early_stopping,reduce_lr]"
      ],
      "metadata": {
        "id": "WUOueU5ZePt4"
      },
      "execution_count": 13,
      "outputs": []
    },
    {
      "cell_type": "code",
      "metadata": {
        "id": "c9zT6oaF_GXX",
        "colab": {
          "base_uri": "https://localhost:8080/"
        },
        "outputId": "e37fd3a0-c583-49c6-c5ef-d7986b0e145c"
      },
      "source": [
        "history_fine = model.fit(train_generator,\n",
        "                         epochs=epochs,\n",
        "                         batch_size=batch_size,\n",
        "                         validation_data=validation_generator,\n",
        "                         callbacks=callbacklist\n",
        "                         )"
      ],
      "execution_count": 14,
      "outputs": [
        {
          "output_type": "stream",
          "name": "stdout",
          "text": [
            "Epoch 1/30\n",
            "222/222 [==============================] - ETA: 0s - loss: 2.3298 - accuracy: 0.2120 - f1_score: 0.0824\n",
            "Epoch 1: val_accuracy improved from -inf to 0.12000, saving model to weights-improvement-01-0.12.hdf5\n",
            "222/222 [==============================] - 43s 106ms/step - loss: 2.3298 - accuracy: 0.2120 - f1_score: 0.0824 - val_loss: 2.4316 - val_accuracy: 0.1200 - val_f1_score: 0.0061 - lr: 0.0100\n",
            "Epoch 2/30\n",
            "222/222 [==============================] - ETA: 0s - loss: 2.1282 - accuracy: 0.2892 - f1_score: 0.1422\n",
            "Epoch 2: val_accuracy improved from 0.12000 to 0.27200, saving model to weights-improvement-02-0.27.hdf5\n",
            "222/222 [==============================] - 21s 96ms/step - loss: 2.1282 - accuracy: 0.2892 - f1_score: 0.1422 - val_loss: 2.1936 - val_accuracy: 0.2720 - val_f1_score: 0.0375 - lr: 0.0100\n",
            "Epoch 3/30\n",
            "222/222 [==============================] - ETA: 0s - loss: 2.0088 - accuracy: 0.3061 - f1_score: 0.1530\n",
            "Epoch 3: val_accuracy improved from 0.27200 to 0.30400, saving model to weights-improvement-03-0.30.hdf5\n",
            "222/222 [==============================] - 22s 100ms/step - loss: 2.0088 - accuracy: 0.3061 - f1_score: 0.1530 - val_loss: 2.2393 - val_accuracy: 0.3040 - val_f1_score: 0.0891 - lr: 0.0100\n",
            "Epoch 4/30\n",
            "222/222 [==============================] - ETA: 0s - loss: 2.0019 - accuracy: 0.3286 - f1_score: 0.1665\n",
            "Epoch 4: val_accuracy did not improve from 0.30400\n",
            "222/222 [==============================] - 21s 94ms/step - loss: 2.0019 - accuracy: 0.3286 - f1_score: 0.1665 - val_loss: 2.3265 - val_accuracy: 0.2800 - val_f1_score: 0.1112 - lr: 0.0100\n",
            "Epoch 5/30\n",
            "222/222 [==============================] - ETA: 0s - loss: 1.9316 - accuracy: 0.3337 - f1_score: 0.1849\n",
            "Epoch 5: val_accuracy did not improve from 0.30400\n",
            "222/222 [==============================] - 21s 94ms/step - loss: 1.9316 - accuracy: 0.3337 - f1_score: 0.1849 - val_loss: 2.2965 - val_accuracy: 0.2760 - val_f1_score: 0.1294 - lr: 0.0100\n",
            "Epoch 6/30\n",
            "222/222 [==============================] - ETA: 0s - loss: 1.8869 - accuracy: 0.3619 - f1_score: 0.2122\n",
            "Epoch 6: val_accuracy improved from 0.30400 to 0.31200, saving model to weights-improvement-06-0.31.hdf5\n",
            "222/222 [==============================] - 21s 96ms/step - loss: 1.8869 - accuracy: 0.3619 - f1_score: 0.2122 - val_loss: 2.2900 - val_accuracy: 0.3120 - val_f1_score: 0.1323 - lr: 0.0100\n",
            "Epoch 7/30\n",
            "222/222 [==============================] - ETA: 0s - loss: 1.8708 - accuracy: 0.3557 - f1_score: 0.2055\n",
            "Epoch 7: val_accuracy did not improve from 0.31200\n",
            "222/222 [==============================] - 21s 95ms/step - loss: 1.8708 - accuracy: 0.3557 - f1_score: 0.2055 - val_loss: 2.2881 - val_accuracy: 0.3000 - val_f1_score: 0.1294 - lr: 0.0100\n",
            "Epoch 8/30\n",
            "222/222 [==============================] - ETA: 0s - loss: 1.7836 - accuracy: 0.3890 - f1_score: 0.2322\n",
            "Epoch 8: val_accuracy did not improve from 0.31200\n",
            "222/222 [==============================] - 21s 95ms/step - loss: 1.7836 - accuracy: 0.3890 - f1_score: 0.2322 - val_loss: 2.2378 - val_accuracy: 0.3080 - val_f1_score: 0.1312 - lr: 5.0000e-04\n",
            "Epoch 9/30\n",
            "222/222 [==============================] - ETA: 0s - loss: 1.7108 - accuracy: 0.4087 - f1_score: 0.2329\n",
            "Epoch 9: val_accuracy improved from 0.31200 to 0.32000, saving model to weights-improvement-09-0.32.hdf5\n",
            "222/222 [==============================] - 21s 96ms/step - loss: 1.7108 - accuracy: 0.4087 - f1_score: 0.2329 - val_loss: 2.2027 - val_accuracy: 0.3200 - val_f1_score: 0.1182 - lr: 5.0000e-04\n",
            "Epoch 10/30\n",
            "222/222 [==============================] - ETA: 0s - loss: 1.6671 - accuracy: 0.4273 - f1_score: 0.2309\n",
            "Epoch 10: val_accuracy did not improve from 0.32000\n",
            "222/222 [==============================] - 21s 94ms/step - loss: 1.6671 - accuracy: 0.4273 - f1_score: 0.2309 - val_loss: 2.1789 - val_accuracy: 0.3040 - val_f1_score: 0.1251 - lr: 5.0000e-04\n",
            "Epoch 11/30\n",
            "222/222 [==============================] - ETA: 0s - loss: 1.6492 - accuracy: 0.4374 - f1_score: 0.2412\n",
            "Epoch 11: val_accuracy improved from 0.32000 to 0.32400, saving model to weights-improvement-11-0.32.hdf5\n",
            "222/222 [==============================] - 21s 96ms/step - loss: 1.6492 - accuracy: 0.4374 - f1_score: 0.2412 - val_loss: 2.1724 - val_accuracy: 0.3240 - val_f1_score: 0.1187 - lr: 5.0000e-04\n",
            "Epoch 12/30\n",
            "222/222 [==============================] - ETA: 0s - loss: 1.6509 - accuracy: 0.4352 - f1_score: 0.2441\n",
            "Epoch 12: val_accuracy did not improve from 0.32400\n",
            "222/222 [==============================] - 21s 94ms/step - loss: 1.6509 - accuracy: 0.4352 - f1_score: 0.2441 - val_loss: 2.1807 - val_accuracy: 0.3120 - val_f1_score: 0.1078 - lr: 5.0000e-04\n",
            "Epoch 13/30\n",
            "222/222 [==============================] - ETA: 0s - loss: 1.6455 - accuracy: 0.4278 - f1_score: 0.2488\n",
            "Epoch 13: val_accuracy did not improve from 0.32400\n",
            "222/222 [==============================] - 21s 94ms/step - loss: 1.6455 - accuracy: 0.4278 - f1_score: 0.2488 - val_loss: 2.1700 - val_accuracy: 0.3160 - val_f1_score: 0.1224 - lr: 5.0000e-04\n",
            "Epoch 14/30\n",
            "222/222 [==============================] - ETA: 0s - loss: 1.6549 - accuracy: 0.4414 - f1_score: 0.2424\n",
            "Epoch 14: val_accuracy did not improve from 0.32400\n",
            "222/222 [==============================] - 21s 94ms/step - loss: 1.6549 - accuracy: 0.4414 - f1_score: 0.2424 - val_loss: 2.1655 - val_accuracy: 0.3200 - val_f1_score: 0.1255 - lr: 5.0000e-04\n",
            "Epoch 15/30\n",
            "222/222 [==============================] - ETA: 0s - loss: 1.6496 - accuracy: 0.4374 - f1_score: 0.2429\n",
            "Epoch 15: val_accuracy improved from 0.32400 to 0.32800, saving model to weights-improvement-15-0.33.hdf5\n",
            "222/222 [==============================] - 22s 97ms/step - loss: 1.6496 - accuracy: 0.4374 - f1_score: 0.2429 - val_loss: 2.1632 - val_accuracy: 0.3280 - val_f1_score: 0.1198 - lr: 5.0000e-04\n",
            "Epoch 16/30\n",
            "222/222 [==============================] - ETA: 0s - loss: 1.6418 - accuracy: 0.4436 - f1_score: 0.2406\n",
            "Epoch 16: val_accuracy did not improve from 0.32800\n",
            "222/222 [==============================] - 21s 93ms/step - loss: 1.6418 - accuracy: 0.4436 - f1_score: 0.2406 - val_loss: 2.1654 - val_accuracy: 0.3200 - val_f1_score: 0.1270 - lr: 5.0000e-04\n",
            "Epoch 17/30\n",
            "222/222 [==============================] - ETA: 0s - loss: 1.6517 - accuracy: 0.4262 - f1_score: 0.2616\n",
            "Epoch 17: val_accuracy did not improve from 0.32800\n",
            "222/222 [==============================] - 21s 94ms/step - loss: 1.6517 - accuracy: 0.4262 - f1_score: 0.2616 - val_loss: 2.1623 - val_accuracy: 0.3200 - val_f1_score: 0.1268 - lr: 5.0000e-04\n",
            "Epoch 18/30\n",
            "222/222 [==============================] - ETA: 0s - loss: 1.6500 - accuracy: 0.4374 - f1_score: 0.2431\n",
            "Epoch 18: val_accuracy did not improve from 0.32800\n",
            "222/222 [==============================] - 21s 94ms/step - loss: 1.6500 - accuracy: 0.4374 - f1_score: 0.2431 - val_loss: 2.1679 - val_accuracy: 0.3240 - val_f1_score: 0.1268 - lr: 5.0000e-04\n",
            "Epoch 19/30\n",
            "222/222 [==============================] - ETA: 0s - loss: 1.6401 - accuracy: 0.4414 - f1_score: 0.2459\n",
            "Epoch 19: val_accuracy did not improve from 0.32800\n",
            "222/222 [==============================] - 21s 94ms/step - loss: 1.6401 - accuracy: 0.4414 - f1_score: 0.2459 - val_loss: 2.1672 - val_accuracy: 0.3120 - val_f1_score: 0.1224 - lr: 5.0000e-04\n",
            "Epoch 20/30\n",
            "222/222 [==============================] - ETA: 0s - loss: 1.6239 - accuracy: 0.4515 - f1_score: 0.2544\n",
            "Epoch 20: val_accuracy did not improve from 0.32800\n",
            "222/222 [==============================] - 21s 94ms/step - loss: 1.6239 - accuracy: 0.4515 - f1_score: 0.2544 - val_loss: 2.1700 - val_accuracy: 0.3080 - val_f1_score: 0.1181 - lr: 5.0000e-04\n",
            "Epoch 21/30\n",
            "222/222 [==============================] - ETA: 0s - loss: 1.6527 - accuracy: 0.4448 - f1_score: 0.2389\n",
            "Epoch 21: val_accuracy did not improve from 0.32800\n",
            "222/222 [==============================] - 21s 94ms/step - loss: 1.6527 - accuracy: 0.4448 - f1_score: 0.2389 - val_loss: 2.1702 - val_accuracy: 0.3240 - val_f1_score: 0.1181 - lr: 5.0000e-04\n",
            "Epoch 22/30\n",
            "222/222 [==============================] - ETA: 0s - loss: 1.6334 - accuracy: 0.4414 - f1_score: 0.2458\n",
            "Epoch 22: val_accuracy did not improve from 0.32800\n",
            "222/222 [==============================] - 21s 94ms/step - loss: 1.6334 - accuracy: 0.4414 - f1_score: 0.2458 - val_loss: 2.1662 - val_accuracy: 0.3200 - val_f1_score: 0.1224 - lr: 5.0000e-04\n",
            "Epoch 23/30\n",
            "222/222 [==============================] - ETA: 0s - loss: 1.6277 - accuracy: 0.4470 - f1_score: 0.2390\n",
            "Epoch 23: val_accuracy did not improve from 0.32800\n",
            "222/222 [==============================] - 21s 95ms/step - loss: 1.6277 - accuracy: 0.4470 - f1_score: 0.2390 - val_loss: 2.1671 - val_accuracy: 0.3200 - val_f1_score: 0.1187 - lr: 2.5000e-05\n",
            "Epoch 24/30\n",
            "222/222 [==============================] - ETA: 0s - loss: 1.6378 - accuracy: 0.4374 - f1_score: 0.2483\n",
            "Epoch 24: val_accuracy did not improve from 0.32800\n",
            "222/222 [==============================] - 21s 95ms/step - loss: 1.6378 - accuracy: 0.4374 - f1_score: 0.2483 - val_loss: 2.1703 - val_accuracy: 0.3160 - val_f1_score: 0.1188 - lr: 2.5000e-05\n",
            "Epoch 25/30\n",
            "222/222 [==============================] - ETA: 0s - loss: 1.6261 - accuracy: 0.4408 - f1_score: 0.2349\n",
            "Epoch 25: val_accuracy did not improve from 0.32800\n",
            "222/222 [==============================] - 21s 95ms/step - loss: 1.6261 - accuracy: 0.4408 - f1_score: 0.2349 - val_loss: 2.1676 - val_accuracy: 0.3240 - val_f1_score: 0.1187 - lr: 2.5000e-05\n"
          ]
        }
      ]
    },
    {
      "cell_type": "code",
      "metadata": {
        "id": "1WFZwVEg_GXb"
      },
      "source": [
        "#f1 = history_fine.history['f1_score']\n",
        "#val_f1 = history_fine.history['val_f1_score']\n",
        "\n",
        "#plt.figure(figsize=(8, 8))\n",
        "#plt.subplot(2, 1, 1)\n",
        "#plt.plot(f1, label='Training F1-Score')\n",
        "#plt.plot(val_f1, label='Validation F1-Score')\n",
        "#plt.legend(loc='lower right')\n",
        "#plt.ylabel('F1-Score')\n",
        "#plt.ylim([min(plt.ylim()),1])\n",
        "#plt.title('Training and Validation F1-Score')\n"
      ],
      "execution_count": 15,
      "outputs": []
    },
    {
      "cell_type": "code",
      "source": [
        "f1 = history_fine.history['accuracy']\n",
        "val_f1 = history_fine.history['val_accuracy']\n",
        "\n",
        "plt.figure(figsize=(8, 8))\n",
        "plt.subplot(2, 1, 1)\n",
        "plt.plot(f1, label='Training F1-Score')\n",
        "plt.plot(val_f1, label='Validation F1-Score')\n",
        "plt.legend(loc='lower right')\n",
        "plt.ylabel('F1-Score')\n",
        "plt.ylim([min(plt.ylim()),1])\n",
        "plt.title('Training and Validation F1-Score')\n"
      ],
      "metadata": {
        "id": "fOSIrhK5g1ZF",
        "colab": {
          "base_uri": "https://localhost:8080/",
          "height": 279
        },
        "outputId": "767ed7f3-43ce-416f-f109-c29217f03654"
      },
      "execution_count": 16,
      "outputs": [
        {
          "output_type": "execute_result",
          "data": {
            "text/plain": [
              "Text(0.5, 1.0, 'Training and Validation F1-Score')"
            ]
          },
          "metadata": {},
          "execution_count": 16
        },
        {
          "output_type": "display_data",
          "data": {
            "text/plain": [
              "<Figure size 576x576 with 1 Axes>"
            ],
            "image/png": "[encoded data removed]"
          },
          "metadata": {
            "needs_background": "light"
          }
        }
      ]
    },
    {
      "cell_type": "code",
      "metadata": {
        "id": "Q8ENVvZSrKrS",
        "colab": {
          "base_uri": "https://localhost:8080/",
          "height": 295
        },
        "outputId": "b4f63ef4-8614-4b62-ee40-442f82617491"
      },
      "source": [
        "loss = history_fine.history['loss']\n",
        "val_loss = history_fine.history['val_loss']\n",
        "\n",
        "plt.plot(history_fine.history['loss'])\n",
        "plt.plot(history_fine.history['val_loss'])\n",
        "plt.title('model loss')\n",
        "plt.ylabel('loss')\n",
        "plt.xlabel('epoch')\n",
        "plt.legend(['training set', 'validation set'], loc='upper left')\n",
        "plt.show()"
      ],
      "execution_count": 17,
      "outputs": [
        {
          "output_type": "display_data",
          "data": {
            "text/plain": [
              "<Figure size 432x288 with 1 Axes>"
            ],
            "image/png": "[encoded data removed]"
          },
          "metadata": {
            "needs_background": "light"
          }
        }
      ]
    },
    {
      "cell_type": "code",
      "source": [
        "score = model.evaluate(test_generator,batch_size=batch_size) \n",
        "print(f'Test loss: {score[0]} / Test accuracy: {score[1]}')"
      ],
      "metadata": {
        "id": "g2VR_adbrsUp",
        "colab": {
          "base_uri": "https://localhost:8080/"
        },
        "outputId": "125c2277-0570-4eea-d4e8-c95d6cde9559"
      },
      "execution_count": 18,
      "outputs": [
        {
          "output_type": "stream",
          "name": "stdout",
          "text": [
            "65/65 [==============================] - 6s 94ms/step - loss: 2.0271 - accuracy: 0.3006 - f1_score: 0.1495\n",
            "Test loss: 2.0271029472351074 / Test accuracy: 0.3005780279636383\n"
          ]
        }
      ]
    },
    {
      "cell_type": "code",
      "source": [
        ""
      ],
      "metadata": {
        "id": "mxFnz7J7NY1Z"
      },
      "execution_count": 18,
      "outputs": []
    },
    {
      "cell_type": "markdown",
      "metadata": {
        "id": "zFraRq9i9FNA"
      },
      "source": [
        ""
      ]
    },
    {
      "cell_type": "code",
      "metadata": {
        "id": "RXFG_Bn19FTX",
        "colab": {
          "base_uri": "https://localhost:8080/"
        },
        "outputId": "3f1c05d0-986c-47c8-a648-53ee5687bad1"
      },
      "source": [
        "#y_prob = model.predict(test_generator,batch_size=batch_size)\n",
        "#y_pred = np.argmax(y_prob,axis=1)\n",
        "\n",
        "y_prob = model.predict(test_generator)\n",
        "y_pred = np.argmax(y_prob,axis=1)\n",
        "#print(pred, labels[np.argmax(pred)])\n",
        "print(classification_report(test_generator.classes,y_pred))"
      ],
      "execution_count": 19,
      "outputs": [
        {
          "output_type": "stream",
          "name": "stdout",
          "text": [
            "              precision    recall  f1-score   support\n",
            "\n",
            "           0       0.07      0.04      0.05        45\n",
            "           1       0.03      0.03      0.03        39\n",
            "           2       0.14      0.20      0.17        49\n",
            "           3       0.08      0.11      0.09        55\n",
            "           4       0.00      0.00      0.00        29\n",
            "           5       0.07      0.08      0.08        59\n",
            "           6       0.08      0.07      0.08        40\n",
            "           7       0.04      0.03      0.03        37\n",
            "           8       0.13      0.16      0.14        56\n",
            "           9       0.16      0.17      0.17        69\n",
            "          10       0.00      0.00      0.00        41\n",
            "\n",
            "    accuracy                           0.09       519\n",
            "   macro avg       0.07      0.08      0.08       519\n",
            "weighted avg       0.08      0.09      0.09       519\n",
            "\n"
          ]
        }
      ]
    },
    {
      "cell_type": "code",
      "source": [
        "y_prob"
      ],
      "metadata": {
        "id": "0gCeN5zQyylW",
        "colab": {
          "base_uri": "https://localhost:8080/"
        },
        "outputId": "8f7dcd8a-3af5-42ce-8aac-957cd70c846a"
      },
      "execution_count": 20,
      "outputs": [
        {
          "output_type": "execute_result",
          "data": {
            "text/plain": [
              "array([[0.05418596, 0.02913554, 0.05919526, ..., 0.0539182 , 0.2974763 ,\n",
              "        0.2830421 ],\n",
              "       [0.06255924, 0.08074959, 0.02511758, ..., 0.17135175, 0.12520851,\n",
              "        0.05751157],\n",
              "       [0.15882005, 0.07734755, 0.05237953, ..., 0.3370873 , 0.05342315,\n",
              "        0.18375361],\n",
              "       ...,\n",
              "       [0.11218459, 0.0068172 , 0.01223054, ..., 0.01752619, 0.0009933 ,\n",
              "        0.01494132],\n",
              "       [0.0432178 , 0.06615105, 0.03787363, ..., 0.11451541, 0.11180068,\n",
              "        0.08342949],\n",
              "       [0.06557838, 0.0513603 , 0.0464822 , ..., 0.04803155, 0.03777659,\n",
              "        0.06530989]], dtype=float32)"
            ]
          },
          "metadata": {},
          "execution_count": 20
        }
      ]
    },
    {
      "cell_type": "code",
      "source": [
        "test_generator.classes"
      ],
      "metadata": {
        "id": "cbxMbryxo31y",
        "colab": {
          "base_uri": "https://localhost:8080/"
        },
        "outputId": "64c6f7c9-7e42-4cf9-f640-bbe82a4c4444"
      },
      "execution_count": 21,
      "outputs": [
        {
          "output_type": "execute_result",
          "data": {
            "text/plain": [
              "array([ 0,  0,  0,  0,  0,  0,  0,  0,  0,  0,  0,  0,  0,  0,  0,  0,  0,\n",
              "        0,  0,  0,  0,  0,  0,  0,  0,  0,  0,  0,  0,  0,  0,  0,  0,  0,\n",
              "        0,  0,  0,  0,  0,  0,  0,  0,  0,  0,  0,  1,  1,  1,  1,  1,  1,\n",
              "        1,  1,  1,  1,  1,  1,  1,  1,  1,  1,  1,  1,  1,  1,  1,  1,  1,\n",
              "        1,  1,  1,  1,  1,  1,  1,  1,  1,  1,  1,  1,  1,  1,  1,  1,  2,\n",
              "        2,  2,  2,  2,  2,  2,  2,  2,  2,  2,  2,  2,  2,  2,  2,  2,  2,\n",
              "        2,  2,  2,  2,  2,  2,  2,  2,  2,  2,  2,  2,  2,  2,  2,  2,  2,\n",
              "        2,  2,  2,  2,  2,  2,  2,  2,  2,  2,  2,  2,  2,  2,  3,  3,  3,\n",
              "        3,  3,  3,  3,  3,  3,  3,  3,  3,  3,  3,  3,  3,  3,  3,  3,  3,\n",
              "        3,  3,  3,  3,  3,  3,  3,  3,  3,  3,  3,  3,  3,  3,  3,  3,  3,\n",
              "        3,  3,  3,  3,  3,  3,  3,  3,  3,  3,  3,  3,  3,  3,  3,  3,  3,\n",
              "        3,  4,  4,  4,  4,  4,  4,  4,  4,  4,  4,  4,  4,  4,  4,  4,  4,\n",
              "        4,  4,  4,  4,  4,  4,  4,  4,  4,  4,  4,  4,  4,  5,  5,  5,  5,\n",
              "        5,  5,  5,  5,  5,  5,  5,  5,  5,  5,  5,  5,  5,  5,  5,  5,  5,\n",
              "        5,  5,  5,  5,  5,  5,  5,  5,  5,  5,  5,  5,  5,  5,  5,  5,  5,\n",
              "        5,  5,  5,  5,  5,  5,  5,  5,  5,  5,  5,  5,  5,  5,  5,  5,  5,\n",
              "        5,  5,  5,  5,  6,  6,  6,  6,  6,  6,  6,  6,  6,  6,  6,  6,  6,\n",
              "        6,  6,  6,  6,  6,  6,  6,  6,  6,  6,  6,  6,  6,  6,  6,  6,  6,\n",
              "        6,  6,  6,  6,  6,  6,  6,  6,  6,  6,  7,  7,  7,  7,  7,  7,  7,\n",
              "        7,  7,  7,  7,  7,  7,  7,  7,  7,  7,  7,  7,  7,  7,  7,  7,  7,\n",
              "        7,  7,  7,  7,  7,  7,  7,  7,  7,  7,  7,  7,  7,  8,  8,  8,  8,\n",
              "        8,  8,  8,  8,  8,  8,  8,  8,  8,  8,  8,  8,  8,  8,  8,  8,  8,\n",
              "        8,  8,  8,  8,  8,  8,  8,  8,  8,  8,  8,  8,  8,  8,  8,  8,  8,\n",
              "        8,  8,  8,  8,  8,  8,  8,  8,  8,  8,  8,  8,  8,  8,  8,  8,  8,\n",
              "        8,  9,  9,  9,  9,  9,  9,  9,  9,  9,  9,  9,  9,  9,  9,  9,  9,\n",
              "        9,  9,  9,  9,  9,  9,  9,  9,  9,  9,  9,  9,  9,  9,  9,  9,  9,\n",
              "        9,  9,  9,  9,  9,  9,  9,  9,  9,  9,  9,  9,  9,  9,  9,  9,  9,\n",
              "        9,  9,  9,  9,  9,  9,  9,  9,  9,  9,  9,  9,  9,  9,  9,  9,  9,\n",
              "        9,  9, 10, 10, 10, 10, 10, 10, 10, 10, 10, 10, 10, 10, 10, 10, 10,\n",
              "       10, 10, 10, 10, 10, 10, 10, 10, 10, 10, 10, 10, 10, 10, 10, 10, 10,\n",
              "       10, 10, 10, 10, 10, 10, 10, 10, 10], dtype=int32)"
            ]
          },
          "metadata": {},
          "execution_count": 21
        }
      ]
    },
    {
      "cell_type": "code",
      "source": [
        "y_pred"
      ],
      "metadata": {
        "id": "_C6CCDiayO0g",
        "colab": {
          "base_uri": "https://localhost:8080/"
        },
        "outputId": "53d77ba1-cd96-421e-e504-c85517c886a5"
      },
      "execution_count": 22,
      "outputs": [
        {
          "output_type": "execute_result",
          "data": {
            "text/plain": [
              "array([ 9,  6,  8,  9,  0,  9,  4,  5,  6,  6,  5,  5,  3,  9,  2,  8,  7,\n",
              "        3,  5,  3,  9,  5,  7,  2,  9,  5,  3,  3,  3,  8,  5,  7,  8,  3,\n",
              "        5,  5,  3,  8,  5,  2,  0,  4,  2,  8,  6,  4,  7,  2,  8,  5,  4,\n",
              "        9,  8,  8,  8,  5,  3,  3,  5,  1,  9,  8,  3,  9,  6,  2,  3,  3,\n",
              "        5,  0,  9,  7,  2,  5,  5,  5,  3,  5,  6,  3,  8,  5,  8,  2,  6,\n",
              "       10,  5,  6,  2,  2,  0,  9,  7,  9,  8,  2,  3, 10,  5,  1,  5,  8,\n",
              "        6,  7,  3,  3,  6,  7,  2,  2, 10,  2,  9,  0,  8,  1,  9,  3,  1,\n",
              "        0,  0,  0,  6,  2,  3,  2,  8, 10,  8,  2,  8,  9,  2,  6,  3,  2,\n",
              "        5, 10,  8,  3,  2,  0,  2,  5,  8,  8,  8,  6,  9,  9,  5,  8,  5,\n",
              "        0,  1,  1,  9,  3,  8,  5,  0,  9, 10,  2,  8,  3,  9,  9,  0,  1,\n",
              "        2,  9,  0,  9,  6,  4,  3,  2,  0,  9,  6,  2,  1,  3,  8,  6,  8,\n",
              "        9,  5,  5,  6,  9,  2,  2,  2,  6,  2,  8,  0,  8,  8,  9, 10, 10,\n",
              "        1, 10,  3,  8,  5,  2,  2,  7, 10, 10,  5,  5,  8,  3,  3,  8,  3,\n",
              "        8,  2,  9,  8,  7,  3,  2,  1,  5,  9,  4, 10,  9,  9,  4,  1,  6,\n",
              "        4,  3, 10,  0,  8,  5,  5,  8,  2,  1,  2,  1,  4,  2,  3,  8,  3,\n",
              "        9,  9,  2,  3,  7,  2,  1,  8,  1,  3,  0,  3,  2,  9,  8,  6,  5,\n",
              "        5,  3,  3,  9,  9,  2,  4,  2,  5,  6,  9, 10,  5,  6,  3,  5,  7,\n",
              "        2,  9,  1,  5,  2,  1,  3,  8,  5,  7,  3,  8,  9,  3,  9,  9,  3,\n",
              "        7,  2,  6,  1,  3,  5,  8,  5,  9,  9,  3,  1,  8,  6, 10,  8,  9,\n",
              "        1,  0,  2,  7,  9,  8,  6,  5,  6,  9,  5,  2,  8,  1,  1,  4,  0,\n",
              "        2,  2,  5,  2,  9,  0,  9,  8,  6,  8,  8,  3,  8,  8,  6,  8,  2,\n",
              "        6,  8,  8,  0,  3,  3,  2,  7,  7,  9,  5,  8,  4,  9,  9,  2, 10,\n",
              "        1,  9,  3,  0,  1,  2,  5,  0,  5,  9,  4,  4,  5,  9,  3,  7,  5,\n",
              "        2,  9,  9,  3,  9,  1, 10,  8,  1,  2,  8,  1,  8,  8,  7,  0,  5,\n",
              "        3,  9,  3,  5,  3,  2,  3,  1,  0,  6,  9,  2,  3,  5,  7,  3,  8,\n",
              "        2,  2,  8,  5,  5, 10,  5,  9,  1,  3,  6,  3, 10,  9,  9,  3,  5,\n",
              "        5,  1,  3,  7,  6, 10,  9,  8,  8,  9,  6,  9,  3,  1,  9,  3,  2,\n",
              "        8,  7,  8,  9,  8,  9,  1,  5,  0,  5,  5,  9,  8,  5,  4,  2,  3,\n",
              "        0,  5,  6,  3,  3,  5,  2,  6,  3,  1,  3,  5,  2,  7,  2,  2,  2,\n",
              "        9,  9,  5,  7,  2,  7,  9,  3,  0,  5,  1,  7,  9,  5,  3,  5,  9,\n",
              "        6,  2,  6,  7,  2,  1,  3,  5,  4])"
            ]
          },
          "metadata": {},
          "execution_count": 22
        }
      ]
    },
    {
      "cell_type": "code",
      "source": [
        "import plotly.figure_factory as ff\n",
        "\n",
        "y_true = test_generator.classes\n",
        "\n",
        "z = confusion_matrix(y_true, y_pred)\n",
        "\n",
        "x = list(test_generator.class_indices.keys())\n",
        "\n",
        "y = list(test_generator.class_indices.keys())\n"
      ],
      "metadata": {
        "id": "5NOZQOgN_DHU"
      },
      "execution_count": 23,
      "outputs": []
    },
    {
      "cell_type": "code",
      "metadata": {
        "id": "EHxUyHkC1URt",
        "colab": {
          "base_uri": "https://localhost:8080/",
          "height": 542
        },
        "outputId": "fa409323-11a3-4492-925b-c7e161ad4c4d"
      },
      "source": [
        "# change each element of z to type string for annotations\n",
        "z_text = [[str(y) for y in x] for x in z]\n",
        "\n",
        "# set up figure \n",
        "fig = ff.create_annotated_heatmap(z, x=x, y=y, annotation_text=z_text, colorscale='Viridis')\n",
        "\n",
        "# add title\n",
        "fig.update_layout(title_text='<i><b>Confusion matrix</b></i>',\n",
        "                  #xaxis = dict(title='x'),\n",
        "                  #yaxis = dict(title='x')\n",
        "                 )\n",
        "\n",
        "# add custom xaxis title\n",
        "fig.add_annotation(dict(font=dict(color=\"black\",size=14),\n",
        "                        x=0.5,\n",
        "                        y=-0.15,\n",
        "                        showarrow=False,\n",
        "                        text=\"Predicted value\",\n",
        "                        xref=\"paper\",\n",
        "                        yref=\"paper\"))\n",
        "\n",
        "# add custom yaxis title\n",
        "fig.add_annotation(dict(font=dict(color=\"black\",size=14),\n",
        "                        x=-0.35,\n",
        "                        y=0.5,\n",
        "                        showarrow=False,\n",
        "                        text=\"Real value\",\n",
        "                        textangle=-90,\n",
        "                        xref=\"paper\",\n",
        "                        yref=\"paper\"))\n",
        "\n",
        "# adjust margins to make room for yaxis title\n",
        "fig.update_layout(margin=dict(t=50, l=200))\n",
        "\n",
        "# add colorbar\n",
        "fig['data'][0]['showscale'] = True\n",
        "fig.show()"
      ],
      "execution_count": 24,
      "outputs": [
        {
          "output_type": "display_data",
          "data": {
            "text/html": [
              "<html>\n",
              "<head><meta charset=\"utf-8\" /></head>\n",
              "<body>\n",
              "    <div>            <script src=\"https://cdnjs.cloudflare.com/ajax/libs/mathjax/2.7.5/MathJax.js?config=TeX-AMS-MML_SVG\"></script><script type=\"text/javascript\">if (window.MathJax) {MathJax.Hub.Config({SVG: {font: \"STIX-Web\"}});}</script>                <script type=\"text/javascript\">window.PlotlyConfig = {MathJaxConfig: 'local'};</script>\n",
              "        <script src=\"https://cdn.plot.ly/plotly-2.8.3.min.js\"></script>                <div id=\"f9670fb5-6448-449a-b341-f91e649872ce\" class=\"plotly-graph-div\" style=\"height:525px; width:100%;\"></div>            <script type=\"text/javascript\">                                    window.PLOTLYENV=window.PLOTLYENV || {};                                    if (document.getElementById(\"f9670fb5-6448-449a-b341-f91e649872ce\")) {                    Plotly.newPlot(                        \"f9670fb5-6448-449a-b341-f91e649872ce\",                        [{\"colorscale\":[[0.0,\"#440154\"],[0.1111111111111111,\"#482878\"],[0.2222222222222222,\"#3e4989\"],[0.3333333333333333,\"#31688e\"],[0.4444444444444444,\"#26828e\"],[0.5555555555555556,\"#1f9e89\"],[0.6666666666666666,\"#35b779\"],[0.7777777777777778,\"#6ece58\"],[0.8888888888888888,\"#b5de2b\"],[1.0,\"#fde725\"]],\"reversescale\":false,\"showscale\":true,\"x\":[\"Ac\",\"As\",\"Cb\",\"Cc\",\"Ci\",\"Cs\",\"Ct\",\"Cu\",\"Ns\",\"Sc\",\"St\"],\"y\":[\"Ac\",\"As\",\"Cb\",\"Cc\",\"Ci\",\"Cs\",\"Ct\",\"Cu\",\"Ns\",\"Sc\",\"St\"],\"z\":[[2,0,4,8,2,10,4,3,6,6,0],[1,1,4,7,2,9,2,2,7,4,0],[5,3,10,5,0,3,5,3,6,5,4],[6,4,7,6,1,5,5,0,9,10,2],[1,1,6,1,0,5,2,1,5,2,5],[2,6,8,12,4,5,2,2,8,8,2],[0,3,5,6,1,7,3,3,3,8,1],[3,4,5,2,1,3,4,1,8,5,1],[4,5,6,6,3,6,2,4,9,9,2],[3,5,6,12,1,12,4,3,8,12,3],[1,3,8,7,1,7,4,5,0,5,0]],\"type\":\"heatmap\"}],                        {\"annotations\":[{\"font\":{\"color\":\"#FFFFFF\"},\"showarrow\":false,\"text\":\"2\",\"x\":\"Ac\",\"xref\":\"x\",\"y\":\"Ac\",\"yref\":\"y\"},{\"font\":{\"color\":\"#FFFFFF\"},\"showarrow\":false,\"text\":\"0\",\"x\":\"As\",\"xref\":\"x\",\"y\":\"Ac\",\"yref\":\"y\"},{\"font\":{\"color\":\"#FFFFFF\"},\"showarrow\":false,\"text\":\"4\",\"x\":\"Cb\",\"xref\":\"x\",\"y\":\"Ac\",\"yref\":\"y\"},{\"font\":{\"color\":\"#000000\"},\"showarrow\":false,\"text\":\"8\",\"x\":\"Cc\",\"xref\":\"x\",\"y\":\"Ac\",\"yref\":\"y\"},{\"font\":{\"color\":\"#FFFFFF\"},\"showarrow\":false,\"text\":\"2\",\"x\":\"Ci\",\"xref\":\"x\",\"y\":\"Ac\",\"yref\":\"y\"},{\"font\":{\"color\":\"#000000\"},\"showarrow\":false,\"text\":\"10\",\"x\":\"Cs\",\"xref\":\"x\",\"y\":\"Ac\",\"yref\":\"y\"},{\"font\":{\"color\":\"#FFFFFF\"},\"showarrow\":false,\"text\":\"4\",\"x\":\"Ct\",\"xref\":\"x\",\"y\":\"Ac\",\"yref\":\"y\"},{\"font\":{\"color\":\"#FFFFFF\"},\"showarrow\":false,\"text\":\"3\",\"x\":\"Cu\",\"xref\":\"x\",\"y\":\"Ac\",\"yref\":\"y\"},{\"font\":{\"color\":\"#000000\"},\"showarrow\":false,\"text\":\"6\",\"x\":\"Ns\",\"xref\":\"x\",\"y\":\"Ac\",\"yref\":\"y\"},{\"font\":{\"color\":\"#000000\"},\"showarrow\":false,\"text\":\"6\",\"x\":\"Sc\",\"xref\":\"x\",\"y\":\"Ac\",\"yref\":\"y\"},{\"font\":{\"color\":\"#FFFFFF\"},\"showarrow\":false,\"text\":\"0\",\"x\":\"St\",\"xref\":\"x\",\"y\":\"Ac\",\"yref\":\"y\"},{\"font\":{\"color\":\"#FFFFFF\"},\"showarrow\":false,\"text\":\"1\",\"x\":\"Ac\",\"xref\":\"x\",\"y\":\"As\",\"yref\":\"y\"},{\"font\":{\"color\":\"#FFFFFF\"},\"showarrow\":false,\"text\":\"1\",\"x\":\"As\",\"xref\":\"x\",\"y\":\"As\",\"yref\":\"y\"},{\"font\":{\"color\":\"#FFFFFF\"},\"showarrow\":false,\"text\":\"4\",\"x\":\"Cb\",\"xref\":\"x\",\"y\":\"As\",\"yref\":\"y\"},{\"font\":{\"color\":\"#000000\"},\"showarrow\":false,\"text\":\"7\",\"x\":\"Cc\",\"xref\":\"x\",\"y\":\"As\",\"yref\":\"y\"},{\"font\":{\"color\":\"#FFFFFF\"},\"showarrow\":false,\"text\":\"2\",\"x\":\"Ci\",\"xref\":\"x\",\"y\":\"As\",\"yref\":\"y\"},{\"font\":{\"color\":\"#000000\"},\"showarrow\":false,\"text\":\"9\",\"x\":\"Cs\",\"xref\":\"x\",\"y\":\"As\",\"yref\":\"y\"},{\"font\":{\"color\":\"#FFFFFF\"},\"showarrow\":false,\"text\":\"2\",\"x\":\"Ct\",\"xref\":\"x\",\"y\":\"As\",\"yref\":\"y\"},{\"font\":{\"color\":\"#FFFFFF\"},\"showarrow\":false,\"text\":\"2\",\"x\":\"Cu\",\"xref\":\"x\",\"y\":\"As\",\"yref\":\"y\"},{\"font\":{\"color\":\"#000000\"},\"showarrow\":false,\"text\":\"7\",\"x\":\"Ns\",\"xref\":\"x\",\"y\":\"As\",\"yref\":\"y\"},{\"font\":{\"color\":\"#FFFFFF\"},\"showarrow\":false,\"text\":\"4\",\"x\":\"Sc\",\"xref\":\"x\",\"y\":\"As\",\"yref\":\"y\"},{\"font\":{\"color\":\"#FFFFFF\"},\"showarrow\":false,\"text\":\"0\",\"x\":\"St\",\"xref\":\"x\",\"y\":\"As\",\"yref\":\"y\"},{\"font\":{\"color\":\"#FFFFFF\"},\"showarrow\":false,\"text\":\"5\",\"x\":\"Ac\",\"xref\":\"x\",\"y\":\"Cb\",\"yref\":\"y\"},{\"font\":{\"color\":\"#FFFFFF\"},\"showarrow\":false,\"text\":\"3\",\"x\":\"As\",\"xref\":\"x\",\"y\":\"Cb\",\"yref\":\"y\"},{\"font\":{\"color\":\"#000000\"},\"showarrow\":false,\"text\":\"10\",\"x\":\"Cb\",\"xref\":\"x\",\"y\":\"Cb\",\"yref\":\"y\"},{\"font\":{\"color\":\"#FFFFFF\"},\"showarrow\":false,\"text\":\"5\",\"x\":\"Cc\",\"xref\":\"x\",\"y\":\"Cb\",\"yref\":\"y\"},{\"font\":{\"color\":\"#FFFFFF\"},\"showarrow\":false,\"text\":\"0\",\"x\":\"Ci\",\"xref\":\"x\",\"y\":\"Cb\",\"yref\":\"y\"},{\"font\":{\"color\":\"#FFFFFF\"},\"showarrow\":false,\"text\":\"3\",\"x\":\"Cs\",\"xref\":\"x\",\"y\":\"Cb\",\"yref\":\"y\"},{\"font\":{\"color\":\"#FFFFFF\"},\"showarrow\":false,\"text\":\"5\",\"x\":\"Ct\",\"xref\":\"x\",\"y\":\"Cb\",\"yref\":\"y\"},{\"font\":{\"color\":\"#FFFFFF\"},\"showarrow\":false,\"text\":\"3\",\"x\":\"Cu\",\"xref\":\"x\",\"y\":\"Cb\",\"yref\":\"y\"},{\"font\":{\"color\":\"#000000\"},\"showarrow\":false,\"text\":\"6\",\"x\":\"Ns\",\"xref\":\"x\",\"y\":\"Cb\",\"yref\":\"y\"},{\"font\":{\"color\":\"#FFFFFF\"},\"showarrow\":false,\"text\":\"5\",\"x\":\"Sc\",\"xref\":\"x\",\"y\":\"Cb\",\"yref\":\"y\"},{\"font\":{\"color\":\"#FFFFFF\"},\"showarrow\":false,\"text\":\"4\",\"x\":\"St\",\"xref\":\"x\",\"y\":\"Cb\",\"yref\":\"y\"},{\"font\":{\"color\":\"#000000\"},\"showarrow\":false,\"text\":\"6\",\"x\":\"Ac\",\"xref\":\"x\",\"y\":\"Cc\",\"yref\":\"y\"},{\"font\":{\"color\":\"#FFFFFF\"},\"showarrow\":false,\"text\":\"4\",\"x\":\"As\",\"xref\":\"x\",\"y\":\"Cc\",\"yref\":\"y\"},{\"font\":{\"color\":\"#000000\"},\"showarrow\":false,\"text\":\"7\",\"x\":\"Cb\",\"xref\":\"x\",\"y\":\"Cc\",\"yref\":\"y\"},{\"font\":{\"color\":\"#000000\"},\"showarrow\":false,\"text\":\"6\",\"x\":\"Cc\",\"xref\":\"x\",\"y\":\"Cc\",\"yref\":\"y\"},{\"font\":{\"color\":\"#FFFFFF\"},\"showarrow\":false,\"text\":\"1\",\"x\":\"Ci\",\"xref\":\"x\",\"y\":\"Cc\",\"yref\":\"y\"},{\"font\":{\"color\":\"#FFFFFF\"},\"showarrow\":false,\"text\":\"5\",\"x\":\"Cs\",\"xref\":\"x\",\"y\":\"Cc\",\"yref\":\"y\"},{\"font\":{\"color\":\"#FFFFFF\"},\"showarrow\":false,\"text\":\"5\",\"x\":\"Ct\",\"xref\":\"x\",\"y\":\"Cc\",\"yref\":\"y\"},{\"font\":{\"color\":\"#FFFFFF\"},\"showarrow\":false,\"text\":\"0\",\"x\":\"Cu\",\"xref\":\"x\",\"y\":\"Cc\",\"yref\":\"y\"},{\"font\":{\"color\":\"#000000\"},\"showarrow\":false,\"text\":\"9\",\"x\":\"Ns\",\"xref\":\"x\",\"y\":\"Cc\",\"yref\":\"y\"},{\"font\":{\"color\":\"#000000\"},\"showarrow\":false,\"text\":\"10\",\"x\":\"Sc\",\"xref\":\"x\",\"y\":\"Cc\",\"yref\":\"y\"},{\"font\":{\"color\":\"#FFFFFF\"},\"showarrow\":false,\"text\":\"2\",\"x\":\"St\",\"xref\":\"x\",\"y\":\"Cc\",\"yref\":\"y\"},{\"font\":{\"color\":\"#FFFFFF\"},\"showarrow\":false,\"text\":\"1\",\"x\":\"Ac\",\"xref\":\"x\",\"y\":\"Ci\",\"yref\":\"y\"},{\"font\":{\"color\":\"#FFFFFF\"},\"showarrow\":false,\"text\":\"1\",\"x\":\"As\",\"xref\":\"x\",\"y\":\"Ci\",\"yref\":\"y\"},{\"font\":{\"color\":\"#000000\"},\"showarrow\":false,\"text\":\"6\",\"x\":\"Cb\",\"xref\":\"x\",\"y\":\"Ci\",\"yref\":\"y\"},{\"font\":{\"color\":\"#FFFFFF\"},\"showarrow\":false,\"text\":\"1\",\"x\":\"Cc\",\"xref\":\"x\",\"y\":\"Ci\",\"yref\":\"y\"},{\"font\":{\"color\":\"#FFFFFF\"},\"showarrow\":false,\"text\":\"0\",\"x\":\"Ci\",\"xref\":\"x\",\"y\":\"Ci\",\"yref\":\"y\"},{\"font\":{\"color\":\"#FFFFFF\"},\"showarrow\":false,\"text\":\"5\",\"x\":\"Cs\",\"xref\":\"x\",\"y\":\"Ci\",\"yref\":\"y\"},{\"font\":{\"color\":\"#FFFFFF\"},\"showarrow\":false,\"text\":\"2\",\"x\":\"Ct\",\"xref\":\"x\",\"y\":\"Ci\",\"yref\":\"y\"},{\"font\":{\"color\":\"#FFFFFF\"},\"showarrow\":false,\"text\":\"1\",\"x\":\"Cu\",\"xref\":\"x\",\"y\":\"Ci\",\"yref\":\"y\"},{\"font\":{\"color\":\"#FFFFFF\"},\"showarrow\":false,\"text\":\"5\",\"x\":\"Ns\",\"xref\":\"x\",\"y\":\"Ci\",\"yref\":\"y\"},{\"font\":{\"color\":\"#FFFFFF\"},\"showarrow\":false,\"text\":\"2\",\"x\":\"Sc\",\"xref\":\"x\",\"y\":\"Ci\",\"yref\":\"y\"},{\"font\":{\"color\":\"#FFFFFF\"},\"showarrow\":false,\"text\":\"5\",\"x\":\"St\",\"xref\":\"x\",\"y\":\"Ci\",\"yref\":\"y\"},{\"font\":{\"color\":\"#FFFFFF\"},\"showarrow\":false,\"text\":\"2\",\"x\":\"Ac\",\"xref\":\"x\",\"y\":\"Cs\",\"yref\":\"y\"},{\"font\":{\"color\":\"#000000\"},\"showarrow\":false,\"text\":\"6\",\"x\":\"As\",\"xref\":\"x\",\"y\":\"Cs\",\"yref\":\"y\"},{\"font\":{\"color\":\"#000000\"},\"showarrow\":false,\"text\":\"8\",\"x\":\"Cb\",\"xref\":\"x\",\"y\":\"Cs\",\"yref\":\"y\"},{\"font\":{\"color\":\"#000000\"},\"showarrow\":false,\"text\":\"12\",\"x\":\"Cc\",\"xref\":\"x\",\"y\":\"Cs\",\"yref\":\"y\"},{\"font\":{\"color\":\"#FFFFFF\"},\"showarrow\":false,\"text\":\"4\",\"x\":\"Ci\",\"xref\":\"x\",\"y\":\"Cs\",\"yref\":\"y\"},{\"font\":{\"color\":\"#FFFFFF\"},\"showarrow\":false,\"text\":\"5\",\"x\":\"Cs\",\"xref\":\"x\",\"y\":\"Cs\",\"yref\":\"y\"},{\"font\":{\"color\":\"#FFFFFF\"},\"showarrow\":false,\"text\":\"2\",\"x\":\"Ct\",\"xref\":\"x\",\"y\":\"Cs\",\"yref\":\"y\"},{\"font\":{\"color\":\"#FFFFFF\"},\"showarrow\":false,\"text\":\"2\",\"x\":\"Cu\",\"xref\":\"x\",\"y\":\"Cs\",\"yref\":\"y\"},{\"font\":{\"color\":\"#000000\"},\"showarrow\":false,\"text\":\"8\",\"x\":\"Ns\",\"xref\":\"x\",\"y\":\"Cs\",\"yref\":\"y\"},{\"font\":{\"color\":\"#000000\"},\"showarrow\":false,\"text\":\"8\",\"x\":\"Sc\",\"xref\":\"x\",\"y\":\"Cs\",\"yref\":\"y\"},{\"font\":{\"color\":\"#FFFFFF\"},\"showarrow\":false,\"text\":\"2\",\"x\":\"St\",\"xref\":\"x\",\"y\":\"Cs\",\"yref\":\"y\"},{\"font\":{\"color\":\"#FFFFFF\"},\"showarrow\":false,\"text\":\"0\",\"x\":\"Ac\",\"xref\":\"x\",\"y\":\"Ct\",\"yref\":\"y\"},{\"font\":{\"color\":\"#FFFFFF\"},\"showarrow\":false,\"text\":\"3\",\"x\":\"As\",\"xref\":\"x\",\"y\":\"Ct\",\"yref\":\"y\"},{\"font\":{\"color\":\"#FFFFFF\"},\"showarrow\":false,\"text\":\"5\",\"x\":\"Cb\",\"xref\":\"x\",\"y\":\"Ct\",\"yref\":\"y\"},{\"font\":{\"color\":\"#000000\"},\"showarrow\":false,\"text\":\"6\",\"x\":\"Cc\",\"xref\":\"x\",\"y\":\"Ct\",\"yref\":\"y\"},{\"font\":{\"color\":\"#FFFFFF\"},\"showarrow\":false,\"text\":\"1\",\"x\":\"Ci\",\"xref\":\"x\",\"y\":\"Ct\",\"yref\":\"y\"},{\"font\":{\"color\":\"#000000\"},\"showarrow\":false,\"text\":\"7\",\"x\":\"Cs\",\"xref\":\"x\",\"y\":\"Ct\",\"yref\":\"y\"},{\"font\":{\"color\":\"#FFFFFF\"},\"showarrow\":false,\"text\":\"3\",\"x\":\"Ct\",\"xref\":\"x\",\"y\":\"Ct\",\"yref\":\"y\"},{\"font\":{\"color\":\"#FFFFFF\"},\"showarrow\":false,\"text\":\"3\",\"x\":\"Cu\",\"xref\":\"x\",\"y\":\"Ct\",\"yref\":\"y\"},{\"font\":{\"color\":\"#FFFFFF\"},\"showarrow\":false,\"text\":\"3\",\"x\":\"Ns\",\"xref\":\"x\",\"y\":\"Ct\",\"yref\":\"y\"},{\"font\":{\"color\":\"#000000\"},\"showarrow\":false,\"text\":\"8\",\"x\":\"Sc\",\"xref\":\"x\",\"y\":\"Ct\",\"yref\":\"y\"},{\"font\":{\"color\":\"#FFFFFF\"},\"showarrow\":false,\"text\":\"1\",\"x\":\"St\",\"xref\":\"x\",\"y\":\"Ct\",\"yref\":\"y\"},{\"font\":{\"color\":\"#FFFFFF\"},\"showarrow\":false,\"text\":\"3\",\"x\":\"Ac\",\"xref\":\"x\",\"y\":\"Cu\",\"yref\":\"y\"},{\"font\":{\"color\":\"#FFFFFF\"},\"showarrow\":false,\"text\":\"4\",\"x\":\"As\",\"xref\":\"x\",\"y\":\"Cu\",\"yref\":\"y\"},{\"font\":{\"color\":\"#FFFFFF\"},\"showarrow\":false,\"text\":\"5\",\"x\":\"Cb\",\"xref\":\"x\",\"y\":\"Cu\",\"yref\":\"y\"},{\"font\":{\"color\":\"#FFFFFF\"},\"showarrow\":false,\"text\":\"2\",\"x\":\"Cc\",\"xref\":\"x\",\"y\":\"Cu\",\"yref\":\"y\"},{\"font\":{\"color\":\"#FFFFFF\"},\"showarrow\":false,\"text\":\"1\",\"x\":\"Ci\",\"xref\":\"x\",\"y\":\"Cu\",\"yref\":\"y\"},{\"font\":{\"color\":\"#FFFFFF\"},\"showarrow\":false,\"text\":\"3\",\"x\":\"Cs\",\"xref\":\"x\",\"y\":\"Cu\",\"yref\":\"y\"},{\"font\":{\"color\":\"#FFFFFF\"},\"showarrow\":false,\"text\":\"4\",\"x\":\"Ct\",\"xref\":\"x\",\"y\":\"Cu\",\"yref\":\"y\"},{\"font\":{\"color\":\"#FFFFFF\"},\"showarrow\":false,\"text\":\"1\",\"x\":\"Cu\",\"xref\":\"x\",\"y\":\"Cu\",\"yref\":\"y\"},{\"font\":{\"color\":\"#000000\"},\"showarrow\":false,\"text\":\"8\",\"x\":\"Ns\",\"xref\":\"x\",\"y\":\"Cu\",\"yref\":\"y\"},{\"font\":{\"color\":\"#FFFFFF\"},\"showarrow\":false,\"text\":\"5\",\"x\":\"Sc\",\"xref\":\"x\",\"y\":\"Cu\",\"yref\":\"y\"},{\"font\":{\"color\":\"#FFFFFF\"},\"showarrow\":false,\"text\":\"1\",\"x\":\"St\",\"xref\":\"x\",\"y\":\"Cu\",\"yref\":\"y\"},{\"font\":{\"color\":\"#FFFFFF\"},\"showarrow\":false,\"text\":\"4\",\"x\":\"Ac\",\"xref\":\"x\",\"y\":\"Ns\",\"yref\":\"y\"},{\"font\":{\"color\":\"#FFFFFF\"},\"showarrow\":false,\"text\":\"5\",\"x\":\"As\",\"xref\":\"x\",\"y\":\"Ns\",\"yref\":\"y\"},{\"font\":{\"color\":\"#000000\"},\"showarrow\":false,\"text\":\"6\",\"x\":\"Cb\",\"xref\":\"x\",\"y\":\"Ns\",\"yref\":\"y\"},{\"font\":{\"color\":\"#000000\"},\"showarrow\":false,\"text\":\"6\",\"x\":\"Cc\",\"xref\":\"x\",\"y\":\"Ns\",\"yref\":\"y\"},{\"font\":{\"color\":\"#FFFFFF\"},\"showarrow\":false,\"text\":\"3\",\"x\":\"Ci\",\"xref\":\"x\",\"y\":\"Ns\",\"yref\":\"y\"},{\"font\":{\"color\":\"#000000\"},\"showarrow\":false,\"text\":\"6\",\"x\":\"Cs\",\"xref\":\"x\",\"y\":\"Ns\",\"yref\":\"y\"},{\"font\":{\"color\":\"#FFFFFF\"},\"showarrow\":false,\"text\":\"2\",\"x\":\"Ct\",\"xref\":\"x\",\"y\":\"Ns\",\"yref\":\"y\"},{\"font\":{\"color\":\"#FFFFFF\"},\"showarrow\":false,\"text\":\"4\",\"x\":\"Cu\",\"xref\":\"x\",\"y\":\"Ns\",\"yref\":\"y\"},{\"font\":{\"color\":\"#000000\"},\"showarrow\":false,\"text\":\"9\",\"x\":\"Ns\",\"xref\":\"x\",\"y\":\"Ns\",\"yref\":\"y\"},{\"font\":{\"color\":\"#000000\"},\"showarrow\":false,\"text\":\"9\",\"x\":\"Sc\",\"xref\":\"x\",\"y\":\"Ns\",\"yref\":\"y\"},{\"font\":{\"color\":\"#FFFFFF\"},\"showarrow\":false,\"text\":\"2\",\"x\":\"St\",\"xref\":\"x\",\"y\":\"Ns\",\"yref\":\"y\"},{\"font\":{\"color\":\"#FFFFFF\"},\"showarrow\":false,\"text\":\"3\",\"x\":\"Ac\",\"xref\":\"x\",\"y\":\"Sc\",\"yref\":\"y\"},{\"font\":{\"color\":\"#FFFFFF\"},\"showarrow\":false,\"text\":\"5\",\"x\":\"As\",\"xref\":\"x\",\"y\":\"Sc\",\"yref\":\"y\"},{\"font\":{\"color\":\"#000000\"},\"showarrow\":false,\"text\":\"6\",\"x\":\"Cb\",\"xref\":\"x\",\"y\":\"Sc\",\"yref\":\"y\"},{\"font\":{\"color\":\"#000000\"},\"showarrow\":false,\"text\":\"12\",\"x\":\"Cc\",\"xref\":\"x\",\"y\":\"Sc\",\"yref\":\"y\"},{\"font\":{\"color\":\"#FFFFFF\"},\"showarrow\":false,\"text\":\"1\",\"x\":\"Ci\",\"xref\":\"x\",\"y\":\"Sc\",\"yref\":\"y\"},{\"font\":{\"color\":\"#000000\"},\"showarrow\":false,\"text\":\"12\",\"x\":\"Cs\",\"xref\":\"x\",\"y\":\"Sc\",\"yref\":\"y\"},{\"font\":{\"color\":\"#FFFFFF\"},\"showarrow\":false,\"text\":\"4\",\"x\":\"Ct\",\"xref\":\"x\",\"y\":\"Sc\",\"yref\":\"y\"},{\"font\":{\"color\":\"#FFFFFF\"},\"showarrow\":false,\"text\":\"3\",\"x\":\"Cu\",\"xref\":\"x\",\"y\":\"Sc\",\"yref\":\"y\"},{\"font\":{\"color\":\"#000000\"},\"showarrow\":false,\"text\":\"8\",\"x\":\"Ns\",\"xref\":\"x\",\"y\":\"Sc\",\"yref\":\"y\"},{\"font\":{\"color\":\"#000000\"},\"showarrow\":false,\"text\":\"12\",\"x\":\"Sc\",\"xref\":\"x\",\"y\":\"Sc\",\"yref\":\"y\"},{\"font\":{\"color\":\"#FFFFFF\"},\"showarrow\":false,\"text\":\"3\",\"x\":\"St\",\"xref\":\"x\",\"y\":\"Sc\",\"yref\":\"y\"},{\"font\":{\"color\":\"#FFFFFF\"},\"showarrow\":false,\"text\":\"1\",\"x\":\"Ac\",\"xref\":\"x\",\"y\":\"St\",\"yref\":\"y\"},{\"font\":{\"color\":\"#FFFFFF\"},\"showarrow\":false,\"text\":\"3\",\"x\":\"As\",\"xref\":\"x\",\"y\":\"St\",\"yref\":\"y\"},{\"font\":{\"color\":\"#000000\"},\"showarrow\":false,\"text\":\"8\",\"x\":\"Cb\",\"xref\":\"x\",\"y\":\"St\",\"yref\":\"y\"},{\"font\":{\"color\":\"#000000\"},\"showarrow\":false,\"text\":\"7\",\"x\":\"Cc\",\"xref\":\"x\",\"y\":\"St\",\"yref\":\"y\"},{\"font\":{\"color\":\"#FFFFFF\"},\"showarrow\":false,\"text\":\"1\",\"x\":\"Ci\",\"xref\":\"x\",\"y\":\"St\",\"yref\":\"y\"},{\"font\":{\"color\":\"#000000\"},\"showarrow\":false,\"text\":\"7\",\"x\":\"Cs\",\"xref\":\"x\",\"y\":\"St\",\"yref\":\"y\"},{\"font\":{\"color\":\"#FFFFFF\"},\"showarrow\":false,\"text\":\"4\",\"x\":\"Ct\",\"xref\":\"x\",\"y\":\"St\",\"yref\":\"y\"},{\"font\":{\"color\":\"#FFFFFF\"},\"showarrow\":false,\"text\":\"5\",\"x\":\"Cu\",\"xref\":\"x\",\"y\":\"St\",\"yref\":\"y\"},{\"font\":{\"color\":\"#FFFFFF\"},\"showarrow\":false,\"text\":\"0\",\"x\":\"Ns\",\"xref\":\"x\",\"y\":\"St\",\"yref\":\"y\"},{\"font\":{\"color\":\"#FFFFFF\"},\"showarrow\":false,\"text\":\"5\",\"x\":\"Sc\",\"xref\":\"x\",\"y\":\"St\",\"yref\":\"y\"},{\"font\":{\"color\":\"#FFFFFF\"},\"showarrow\":false,\"text\":\"0\",\"x\":\"St\",\"xref\":\"x\",\"y\":\"St\",\"yref\":\"y\"},{\"font\":{\"color\":\"black\",\"size\":14},\"showarrow\":false,\"text\":\"Predicted value\",\"x\":0.5,\"xref\":\"paper\",\"y\":-0.15,\"yref\":\"paper\"},{\"font\":{\"color\":\"black\",\"size\":14},\"showarrow\":false,\"text\":\"Real value\",\"textangle\":-90,\"x\":-0.35,\"xref\":\"paper\",\"y\":0.5,\"yref\":\"paper\"}],\"xaxis\":{\"dtick\":1,\"gridcolor\":\"rgb(0, 0, 0)\",\"side\":\"top\",\"ticks\":\"\"},\"yaxis\":{\"dtick\":1,\"ticks\":\"\",\"ticksuffix\":\"  \"},\"template\":{\"data\":{\"bar\":[{\"error_x\":{\"color\":\"#2a3f5f\"},\"error_y\":{\"color\":\"#2a3f5f\"},\"marker\":{\"line\":{\"color\":\"#E5ECF6\",\"width\":0.5},\"pattern\":{\"fillmode\":\"overlay\",\"size\":10,\"solidity\":0.2}},\"type\":\"bar\"}],\"barpolar\":[{\"marker\":{\"line\":{\"color\":\"#E5ECF6\",\"width\":0.5},\"pattern\":{\"fillmode\":\"overlay\",\"size\":10,\"solidity\":0.2}},\"type\":\"barpolar\"}],\"carpet\":[{\"aaxis\":{\"endlinecolor\":\"#2a3f5f\",\"gridcolor\":\"white\",\"linecolor\":\"white\",\"minorgridcolor\":\"white\",\"startlinecolor\":\"#2a3f5f\"},\"baxis\":{\"endlinecolor\":\"#2a3f5f\",\"gridcolor\":\"white\",\"linecolor\":\"white\",\"minorgridcolor\":\"white\",\"startlinecolor\":\"#2a3f5f\"},\"type\":\"carpet\"}],\"choropleth\":[{\"colorbar\":{\"outlinewidth\":0,\"ticks\":\"\"},\"type\":\"choropleth\"}],\"contour\":[{\"colorbar\":{\"outlinewidth\":0,\"ticks\":\"\"},\"colorscale\":[[0.0,\"#0d0887\"],[0.1111111111111111,\"#46039f\"],[0.2222222222222222,\"#7201a8\"],[0.3333333333333333,\"#9c179e\"],[0.4444444444444444,\"#bd3786\"],[0.5555555555555556,\"#d8576b\"],[0.6666666666666666,\"#ed7953\"],[0.7777777777777778,\"#fb9f3a\"],[0.8888888888888888,\"#fdca26\"],[1.0,\"#f0f921\"]],\"type\":\"contour\"}],\"contourcarpet\":[{\"colorbar\":{\"outlinewidth\":0,\"ticks\":\"\"},\"type\":\"contourcarpet\"}],\"heatmap\":[{\"colorbar\":{\"outlinewidth\":0,\"ticks\":\"\"},\"colorscale\":[[0.0,\"#0d0887\"],[0.1111111111111111,\"#46039f\"],[0.2222222222222222,\"#7201a8\"],[0.3333333333333333,\"#9c179e\"],[0.4444444444444444,\"#bd3786\"],[0.5555555555555556,\"#d8576b\"],[0.6666666666666666,\"#ed7953\"],[0.7777777777777778,\"#fb9f3a\"],[0.8888888888888888,\"#fdca26\"],[1.0,\"#f0f921\"]],\"type\":\"heatmap\"}],\"heatmapgl\":[{\"colorbar\":{\"outlinewidth\":0,\"ticks\":\"\"},\"colorscale\":[[0.0,\"#0d0887\"],[0.1111111111111111,\"#46039f\"],[0.2222222222222222,\"#7201a8\"],[0.3333333333333333,\"#9c179e\"],[0.4444444444444444,\"#bd3786\"],[0.5555555555555556,\"#d8576b\"],[0.6666666666666666,\"#ed7953\"],[0.7777777777777778,\"#fb9f3a\"],[0.8888888888888888,\"#fdca26\"],[1.0,\"#f0f921\"]],\"type\":\"heatmapgl\"}],\"histogram\":[{\"marker\":{\"pattern\":{\"fillmode\":\"overlay\",\"size\":10,\"solidity\":0.2}},\"type\":\"histogram\"}],\"histogram2d\":[{\"colorbar\":{\"outlinewidth\":0,\"ticks\":\"\"},\"colorscale\":[[0.0,\"#0d0887\"],[0.1111111111111111,\"#46039f\"],[0.2222222222222222,\"#7201a8\"],[0.3333333333333333,\"#9c179e\"],[0.4444444444444444,\"#bd3786\"],[0.5555555555555556,\"#d8576b\"],[0.6666666666666666,\"#ed7953\"],[0.7777777777777778,\"#fb9f3a\"],[0.8888888888888888,\"#fdca26\"],[1.0,\"#f0f921\"]],\"type\":\"histogram2d\"}],\"histogram2dcontour\":[{\"colorbar\":{\"outlinewidth\":0,\"ticks\":\"\"},\"colorscale\":[[0.0,\"#0d0887\"],[0.1111111111111111,\"#46039f\"],[0.2222222222222222,\"#7201a8\"],[0.3333333333333333,\"#9c179e\"],[0.4444444444444444,\"#bd3786\"],[0.5555555555555556,\"#d8576b\"],[0.6666666666666666,\"#ed7953\"],[0.7777777777777778,\"#fb9f3a\"],[0.8888888888888888,\"#fdca26\"],[1.0,\"#f0f921\"]],\"type\":\"histogram2dcontour\"}],\"mesh3d\":[{\"colorbar\":{\"outlinewidth\":0,\"ticks\":\"\"},\"type\":\"mesh3d\"}],\"parcoords\":[{\"line\":{\"colorbar\":{\"outlinewidth\":0,\"ticks\":\"\"}},\"type\":\"parcoords\"}],\"pie\":[{\"automargin\":true,\"type\":\"pie\"}],\"scatter\":[{\"marker\":{\"colorbar\":{\"outlinewidth\":0,\"ticks\":\"\"}},\"type\":\"scatter\"}],\"scatter3d\":[{\"line\":{\"colorbar\":{\"outlinewidth\":0,\"ticks\":\"\"}},\"marker\":{\"colorbar\":{\"outlinewidth\":0,\"ticks\":\"\"}},\"type\":\"scatter3d\"}],\"scattercarpet\":[{\"marker\":{\"colorbar\":{\"outlinewidth\":0,\"ticks\":\"\"}},\"type\":\"scattercarpet\"}],\"scattergeo\":[{\"marker\":{\"colorbar\":{\"outlinewidth\":0,\"ticks\":\"\"}},\"type\":\"scattergeo\"}],\"scattergl\":[{\"marker\":{\"colorbar\":{\"outlinewidth\":0,\"ticks\":\"\"}},\"type\":\"scattergl\"}],\"scattermapbox\":[{\"marker\":{\"colorbar\":{\"outlinewidth\":0,\"ticks\":\"\"}},\"type\":\"scattermapbox\"}],\"scatterpolar\":[{\"marker\":{\"colorbar\":{\"outlinewidth\":0,\"ticks\":\"\"}},\"type\":\"scatterpolar\"}],\"scatterpolargl\":[{\"marker\":{\"colorbar\":{\"outlinewidth\":0,\"ticks\":\"\"}},\"type\":\"scatterpolargl\"}],\"scatterternary\":[{\"marker\":{\"colorbar\":{\"outlinewidth\":0,\"ticks\":\"\"}},\"type\":\"scatterternary\"}],\"surface\":[{\"colorbar\":{\"outlinewidth\":0,\"ticks\":\"\"},\"colorscale\":[[0.0,\"#0d0887\"],[0.1111111111111111,\"#46039f\"],[0.2222222222222222,\"#7201a8\"],[0.3333333333333333,\"#9c179e\"],[0.4444444444444444,\"#bd3786\"],[0.5555555555555556,\"#d8576b\"],[0.6666666666666666,\"#ed7953\"],[0.7777777777777778,\"#fb9f3a\"],[0.8888888888888888,\"#fdca26\"],[1.0,\"#f0f921\"]],\"type\":\"surface\"}],\"table\":[{\"cells\":{\"fill\":{\"color\":\"#EBF0F8\"},\"line\":{\"color\":\"white\"}},\"header\":{\"fill\":{\"color\":\"#C8D4E3\"},\"line\":{\"color\":\"white\"}},\"type\":\"table\"}]},\"layout\":{\"annotationdefaults\":{\"arrowcolor\":\"#2a3f5f\",\"arrowhead\":0,\"arrowwidth\":1},\"autotypenumbers\":\"strict\",\"coloraxis\":{\"colorbar\":{\"outlinewidth\":0,\"ticks\":\"\"}},\"colorscale\":{\"diverging\":[[0,\"#8e0152\"],[0.1,\"#c51b7d\"],[0.2,\"#de77ae\"],[0.3,\"#f1b6da\"],[0.4,\"#fde0ef\"],[0.5,\"#f7f7f7\"],[0.6,\"#e6f5d0\"],[0.7,\"#b8e186\"],[0.8,\"#7fbc41\"],[0.9,\"#4d9221\"],[1,\"#276419\"]],\"sequential\":[[0.0,\"#0d0887\"],[0.1111111111111111,\"#46039f\"],[0.2222222222222222,\"#7201a8\"],[0.3333333333333333,\"#9c179e\"],[0.4444444444444444,\"#bd3786\"],[0.5555555555555556,\"#d8576b\"],[0.6666666666666666,\"#ed7953\"],[0.7777777777777778,\"#fb9f3a\"],[0.8888888888888888,\"#fdca26\"],[1.0,\"#f0f921\"]],\"sequentialminus\":[[0.0,\"#0d0887\"],[0.1111111111111111,\"#46039f\"],[0.2222222222222222,\"#7201a8\"],[0.3333333333333333,\"#9c179e\"],[0.4444444444444444,\"#bd3786\"],[0.5555555555555556,\"#d8576b\"],[0.6666666666666666,\"#ed7953\"],[0.7777777777777778,\"#fb9f3a\"],[0.8888888888888888,\"#fdca26\"],[1.0,\"#f0f921\"]]},\"colorway\":[\"#636efa\",\"#EF553B\",\"#00cc96\",\"#ab63fa\",\"#FFA15A\",\"#19d3f3\",\"#FF6692\",\"#B6E880\",\"#FF97FF\",\"#FECB52\"],\"font\":{\"color\":\"#2a3f5f\"},\"geo\":{\"bgcolor\":\"white\",\"lakecolor\":\"white\",\"landcolor\":\"#E5ECF6\",\"showlakes\":true,\"showland\":true,\"subunitcolor\":\"white\"},\"hoverlabel\":{\"align\":\"left\"},\"hovermode\":\"closest\",\"mapbox\":{\"style\":\"light\"},\"paper_bgcolor\":\"white\",\"plot_bgcolor\":\"#E5ECF6\",\"polar\":{\"angularaxis\":{\"gridcolor\":\"white\",\"linecolor\":\"white\",\"ticks\":\"\"},\"bgcolor\":\"#E5ECF6\",\"radialaxis\":{\"gridcolor\":\"white\",\"linecolor\":\"white\",\"ticks\":\"\"}},\"scene\":{\"xaxis\":{\"backgroundcolor\":\"#E5ECF6\",\"gridcolor\":\"white\",\"gridwidth\":2,\"linecolor\":\"white\",\"showbackground\":true,\"ticks\":\"\",\"zerolinecolor\":\"white\"},\"yaxis\":{\"backgroundcolor\":\"#E5ECF6\",\"gridcolor\":\"white\",\"gridwidth\":2,\"linecolor\":\"white\",\"showbackground\":true,\"ticks\":\"\",\"zerolinecolor\":\"white\"},\"zaxis\":{\"backgroundcolor\":\"#E5ECF6\",\"gridcolor\":\"white\",\"gridwidth\":2,\"linecolor\":\"white\",\"showbackground\":true,\"ticks\":\"\",\"zerolinecolor\":\"white\"}},\"shapedefaults\":{\"line\":{\"color\":\"#2a3f5f\"}},\"ternary\":{\"aaxis\":{\"gridcolor\":\"white\",\"linecolor\":\"white\",\"ticks\":\"\"},\"baxis\":{\"gridcolor\":\"white\",\"linecolor\":\"white\",\"ticks\":\"\"},\"bgcolor\":\"#E5ECF6\",\"caxis\":{\"gridcolor\":\"white\",\"linecolor\":\"white\",\"ticks\":\"\"}},\"title\":{\"x\":0.05},\"xaxis\":{\"automargin\":true,\"gridcolor\":\"white\",\"linecolor\":\"white\",\"ticks\":\"\",\"title\":{\"standoff\":15},\"zerolinecolor\":\"white\",\"zerolinewidth\":2},\"yaxis\":{\"automargin\":true,\"gridcolor\":\"white\",\"linecolor\":\"white\",\"ticks\":\"\",\"title\":{\"standoff\":15},\"zerolinecolor\":\"white\",\"zerolinewidth\":2}}},\"title\":{\"text\":\"<i><b>Confusion matrix</b></i>\"},\"margin\":{\"t\":50,\"l\":200}},                        {\"responsive\": true}                    ).then(function(){\n",
              "                            \n",
              "var gd = document.getElementById('f9670fb5-6448-449a-b341-f91e649872ce');\n",
              "var x = new MutationObserver(function (mutations, observer) {{\n",
              "        var display = window.getComputedStyle(gd).display;\n",
              "        if (!display || display === 'none') {{\n",
              "            console.log([gd, 'removed!']);\n",
              "            Plotly.purge(gd);\n",
              "            observer.disconnect();\n",
              "        }}\n",
              "}});\n",
              "\n",
              "// Listen for the removal of the full notebook cells\n",
              "var notebookContainer = gd.closest('#notebook-container');\n",
              "if (notebookContainer) {{\n",
              "    x.observe(notebookContainer, {childList: true});\n",
              "}}\n",
              "\n",
              "// Listen for the clearing of the current output cell\n",
              "var outputEl = gd.closest('.output');\n",
              "if (outputEl) {{\n",
              "    x.observe(outputEl, {childList: true});\n",
              "}}\n",
              "\n",
              "                        })                };                            </script>        </div>\n",
              "</body>\n",
              "</html>"
            ]
          },
          "metadata": {}
        }
      ]
    }
  ]
}