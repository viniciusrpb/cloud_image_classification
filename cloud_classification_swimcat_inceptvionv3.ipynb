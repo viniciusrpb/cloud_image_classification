{
  "nbformat": 4,
  "nbformat_minor": 0,
  "metadata": {
    "kernelspec": {
      "display_name": "Python 3",
      "language": "python",
      "name": "python3"
    },
    "language_info": {
      "codemirror_mode": {
        "name": "ipython",
        "version": 3
      },
      "file_extension": ".py",
      "mimetype": "text/x-python",
      "name": "python",
      "nbconvert_exporter": "python",
      "pygments_lexer": "ipython3",
      "version": "3.6.10"
    },
    "colab": {
      "name": "cloud_classification_swimcat_inceptvionv3.ipynb",
      "provenance": [],
      "collapsed_sections": [],
      "include_colab_link": true
    },
    "accelerator": "GPU"
  },
  "cells": [
    {
      "cell_type": "markdown",
      "metadata": {
        "id": "view-in-github",
        "colab_type": "text"
      },
      "source": [
        "<a href=\"https://colab.research.google.com/github/viniciusrpb/cloud_image_classification/blob/main/cloud_classification_swimcat_inceptvionv3.ipynb\" target=\"_parent\"><img src=\"https://colab.research.google.com/assets/colab-badge.svg\" alt=\"Open In Colab\"/></a>"
      ]
    },
    {
      "cell_type": "code",
      "metadata": {
        "id": "Lf68PvvD_GXN",
        "colab": {
          "base_uri": "https://localhost:8080/"
        },
        "outputId": "ee29a99d-8f68-47c0-b1f6-1872ab6e0c2c"
      },
      "source": [
        "from google.colab import drive\n",
        "drive.mount('/content/drive')"
      ],
      "execution_count": 1,
      "outputs": [
        {
          "output_type": "stream",
          "name": "stdout",
          "text": [
            "Mounted at /content/drive\n"
          ]
        }
      ]
    },
    {
      "cell_type": "markdown",
      "source": [
        "# New Section"
      ],
      "metadata": {
        "id": "uSEdHGn26Hzg"
      }
    },
    {
      "cell_type": "code",
      "metadata": {
        "id": "6o0SMmf8z9qD",
        "colab": {
          "base_uri": "https://localhost:8080/"
        },
        "outputId": "8f47fcc1-b413-4fbc-a0c0-57e64c5f45e7"
      },
      "source": [
        "!pip install tensorflow_addons"
      ],
      "execution_count": 2,
      "outputs": [
        {
          "output_type": "stream",
          "name": "stdout",
          "text": [
            "Collecting tensorflow_addons\n",
            "  Downloading tensorflow_addons-0.16.1-cp37-cp37m-manylinux_2_12_x86_64.manylinux2010_x86_64.whl (1.1 MB)\n",
            "\u001b[?25l\r\u001b[K     |▎                               | 10 kB 18.1 MB/s eta 0:00:01\r\u001b[K     |▋                               | 20 kB 12.9 MB/s eta 0:00:01\r\u001b[K     |▉                               | 30 kB 9.6 MB/s eta 0:00:01\r\u001b[K     |█▏                              | 40 kB 9.0 MB/s eta 0:00:01\r\u001b[K     |█▌                              | 51 kB 4.3 MB/s eta 0:00:01\r\u001b[K     |█▊                              | 61 kB 5.1 MB/s eta 0:00:01\r\u001b[K     |██                              | 71 kB 5.6 MB/s eta 0:00:01\r\u001b[K     |██▍                             | 81 kB 5.8 MB/s eta 0:00:01\r\u001b[K     |██▋                             | 92 kB 6.5 MB/s eta 0:00:01\r\u001b[K     |███                             | 102 kB 5.0 MB/s eta 0:00:01\r\u001b[K     |███▏                            | 112 kB 5.0 MB/s eta 0:00:01\r\u001b[K     |███▌                            | 122 kB 5.0 MB/s eta 0:00:01\r\u001b[K     |███▉                            | 133 kB 5.0 MB/s eta 0:00:01\r\u001b[K     |████                            | 143 kB 5.0 MB/s eta 0:00:01\r\u001b[K     |████▍                           | 153 kB 5.0 MB/s eta 0:00:01\r\u001b[K     |████▊                           | 163 kB 5.0 MB/s eta 0:00:01\r\u001b[K     |█████                           | 174 kB 5.0 MB/s eta 0:00:01\r\u001b[K     |█████▎                          | 184 kB 5.0 MB/s eta 0:00:01\r\u001b[K     |█████▌                          | 194 kB 5.0 MB/s eta 0:00:01\r\u001b[K     |█████▉                          | 204 kB 5.0 MB/s eta 0:00:01\r\u001b[K     |██████▏                         | 215 kB 5.0 MB/s eta 0:00:01\r\u001b[K     |██████▍                         | 225 kB 5.0 MB/s eta 0:00:01\r\u001b[K     |██████▊                         | 235 kB 5.0 MB/s eta 0:00:01\r\u001b[K     |███████                         | 245 kB 5.0 MB/s eta 0:00:01\r\u001b[K     |███████▎                        | 256 kB 5.0 MB/s eta 0:00:01\r\u001b[K     |███████▋                        | 266 kB 5.0 MB/s eta 0:00:01\r\u001b[K     |███████▉                        | 276 kB 5.0 MB/s eta 0:00:01\r\u001b[K     |████████▏                       | 286 kB 5.0 MB/s eta 0:00:01\r\u001b[K     |████████▌                       | 296 kB 5.0 MB/s eta 0:00:01\r\u001b[K     |████████▊                       | 307 kB 5.0 MB/s eta 0:00:01\r\u001b[K     |█████████                       | 317 kB 5.0 MB/s eta 0:00:01\r\u001b[K     |█████████▍                      | 327 kB 5.0 MB/s eta 0:00:01\r\u001b[K     |█████████▋                      | 337 kB 5.0 MB/s eta 0:00:01\r\u001b[K     |██████████                      | 348 kB 5.0 MB/s eta 0:00:01\r\u001b[K     |██████████▏                     | 358 kB 5.0 MB/s eta 0:00:01\r\u001b[K     |██████████▌                     | 368 kB 5.0 MB/s eta 0:00:01\r\u001b[K     |██████████▉                     | 378 kB 5.0 MB/s eta 0:00:01\r\u001b[K     |███████████                     | 389 kB 5.0 MB/s eta 0:00:01\r\u001b[K     |███████████▍                    | 399 kB 5.0 MB/s eta 0:00:01\r\u001b[K     |███████████▊                    | 409 kB 5.0 MB/s eta 0:00:01\r\u001b[K     |████████████                    | 419 kB 5.0 MB/s eta 0:00:01\r\u001b[K     |████████████▎                   | 430 kB 5.0 MB/s eta 0:00:01\r\u001b[K     |████████████▌                   | 440 kB 5.0 MB/s eta 0:00:01\r\u001b[K     |████████████▉                   | 450 kB 5.0 MB/s eta 0:00:01\r\u001b[K     |█████████████▏                  | 460 kB 5.0 MB/s eta 0:00:01\r\u001b[K     |█████████████▍                  | 471 kB 5.0 MB/s eta 0:00:01\r\u001b[K     |█████████████▊                  | 481 kB 5.0 MB/s eta 0:00:01\r\u001b[K     |██████████████                  | 491 kB 5.0 MB/s eta 0:00:01\r\u001b[K     |██████████████▎                 | 501 kB 5.0 MB/s eta 0:00:01\r\u001b[K     |██████████████▋                 | 512 kB 5.0 MB/s eta 0:00:01\r\u001b[K     |██████████████▉                 | 522 kB 5.0 MB/s eta 0:00:01\r\u001b[K     |███████████████▏                | 532 kB 5.0 MB/s eta 0:00:01\r\u001b[K     |███████████████▌                | 542 kB 5.0 MB/s eta 0:00:01\r\u001b[K     |███████████████▊                | 552 kB 5.0 MB/s eta 0:00:01\r\u001b[K     |████████████████                | 563 kB 5.0 MB/s eta 0:00:01\r\u001b[K     |████████████████▍               | 573 kB 5.0 MB/s eta 0:00:01\r\u001b[K     |████████████████▋               | 583 kB 5.0 MB/s eta 0:00:01\r\u001b[K     |█████████████████               | 593 kB 5.0 MB/s eta 0:00:01\r\u001b[K     |█████████████████▏              | 604 kB 5.0 MB/s eta 0:00:01\r\u001b[K     |█████████████████▌              | 614 kB 5.0 MB/s eta 0:00:01\r\u001b[K     |█████████████████▉              | 624 kB 5.0 MB/s eta 0:00:01\r\u001b[K     |██████████████████              | 634 kB 5.0 MB/s eta 0:00:01\r\u001b[K     |██████████████████▍             | 645 kB 5.0 MB/s eta 0:00:01\r\u001b[K     |██████████████████▊             | 655 kB 5.0 MB/s eta 0:00:01\r\u001b[K     |███████████████████             | 665 kB 5.0 MB/s eta 0:00:01\r\u001b[K     |███████████████████▎            | 675 kB 5.0 MB/s eta 0:00:01\r\u001b[K     |███████████████████▌            | 686 kB 5.0 MB/s eta 0:00:01\r\u001b[K     |███████████████████▉            | 696 kB 5.0 MB/s eta 0:00:01\r\u001b[K     |████████████████████▏           | 706 kB 5.0 MB/s eta 0:00:01\r\u001b[K     |████████████████████▍           | 716 kB 5.0 MB/s eta 0:00:01\r\u001b[K     |████████████████████▊           | 727 kB 5.0 MB/s eta 0:00:01\r\u001b[K     |█████████████████████           | 737 kB 5.0 MB/s eta 0:00:01\r\u001b[K     |█████████████████████▎          | 747 kB 5.0 MB/s eta 0:00:01\r\u001b[K     |█████████████████████▋          | 757 kB 5.0 MB/s eta 0:00:01\r\u001b[K     |█████████████████████▉          | 768 kB 5.0 MB/s eta 0:00:01\r\u001b[K     |██████████████████████▏         | 778 kB 5.0 MB/s eta 0:00:01\r\u001b[K     |██████████████████████▌         | 788 kB 5.0 MB/s eta 0:00:01\r\u001b[K     |██████████████████████▊         | 798 kB 5.0 MB/s eta 0:00:01\r\u001b[K     |███████████████████████         | 808 kB 5.0 MB/s eta 0:00:01\r\u001b[K     |███████████████████████▍        | 819 kB 5.0 MB/s eta 0:00:01\r\u001b[K     |███████████████████████▋        | 829 kB 5.0 MB/s eta 0:00:01\r\u001b[K     |████████████████████████        | 839 kB 5.0 MB/s eta 0:00:01\r\u001b[K     |████████████████████████▏       | 849 kB 5.0 MB/s eta 0:00:01\r\u001b[K     |████████████████████████▌       | 860 kB 5.0 MB/s eta 0:00:01\r\u001b[K     |████████████████████████▉       | 870 kB 5.0 MB/s eta 0:00:01\r\u001b[K     |█████████████████████████       | 880 kB 5.0 MB/s eta 0:00:01\r\u001b[K     |█████████████████████████▍      | 890 kB 5.0 MB/s eta 0:00:01\r\u001b[K     |█████████████████████████▊      | 901 kB 5.0 MB/s eta 0:00:01\r\u001b[K     |██████████████████████████      | 911 kB 5.0 MB/s eta 0:00:01\r\u001b[K     |██████████████████████████▎     | 921 kB 5.0 MB/s eta 0:00:01\r\u001b[K     |██████████████████████████▌     | 931 kB 5.0 MB/s eta 0:00:01\r\u001b[K     |██████████████████████████▉     | 942 kB 5.0 MB/s eta 0:00:01\r\u001b[K     |███████████████████████████▏    | 952 kB 5.0 MB/s eta 0:00:01\r\u001b[K     |███████████████████████████▍    | 962 kB 5.0 MB/s eta 0:00:01\r\u001b[K     |███████████████████████████▊    | 972 kB 5.0 MB/s eta 0:00:01\r\u001b[K     |████████████████████████████    | 983 kB 5.0 MB/s eta 0:00:01\r\u001b[K     |████████████████████████████▎   | 993 kB 5.0 MB/s eta 0:00:01\r\u001b[K     |████████████████████████████▋   | 1.0 MB 5.0 MB/s eta 0:00:01\r\u001b[K     |████████████████████████████▉   | 1.0 MB 5.0 MB/s eta 0:00:01\r\u001b[K     |█████████████████████████████▏  | 1.0 MB 5.0 MB/s eta 0:00:01\r\u001b[K     |█████████████████████████████▌  | 1.0 MB 5.0 MB/s eta 0:00:01\r\u001b[K     |█████████████████████████████▊  | 1.0 MB 5.0 MB/s eta 0:00:01\r\u001b[K     |██████████████████████████████  | 1.1 MB 5.0 MB/s eta 0:00:01\r\u001b[K     |██████████████████████████████▍ | 1.1 MB 5.0 MB/s eta 0:00:01\r\u001b[K     |██████████████████████████████▋ | 1.1 MB 5.0 MB/s eta 0:00:01\r\u001b[K     |███████████████████████████████ | 1.1 MB 5.0 MB/s eta 0:00:01\r\u001b[K     |███████████████████████████████▏| 1.1 MB 5.0 MB/s eta 0:00:01\r\u001b[K     |███████████████████████████████▌| 1.1 MB 5.0 MB/s eta 0:00:01\r\u001b[K     |███████████████████████████████▉| 1.1 MB 5.0 MB/s eta 0:00:01\r\u001b[K     |████████████████████████████████| 1.1 MB 5.0 MB/s \n",
            "\u001b[?25hRequirement already satisfied: typeguard>=2.7 in /usr/local/lib/python3.7/dist-packages (from tensorflow_addons) (2.7.1)\n",
            "Installing collected packages: tensorflow-addons\n",
            "Successfully installed tensorflow-addons-0.16.1\n"
          ]
        }
      ]
    },
    {
      "cell_type": "code",
      "metadata": {
        "id": "voJBV5X_g0B6"
      },
      "source": [
        "!cp -r \"/content/drive/My Drive/img_satelite/classificacao/SWIMCAT/train\" \"training\"\n",
        "!cp -r \"/content/drive/My Drive/img_satelite/classificacao/SWIMCAT/val\" \"validation\"\n",
        "!cp -r \"/content/drive/My Drive/img_satelite/classificacao/SWIMCAT/test\" \"testing\""
      ],
      "execution_count": 3,
      "outputs": []
    },
    {
      "cell_type": "code",
      "metadata": {
        "id": "W384maMHy7Yc"
      },
      "source": [
        "import tensorflow as tf\n",
        "from tensorflow.keras.optimizers import RMSprop\n",
        "from tensorflow.keras.preprocessing.image import ImageDataGenerator\n",
        "from keras.layers import Dense,GlobalAveragePooling2D ,MaxPooling2D,Activation,Flatten,Conv2D,BatchNormalization,Dropout\n",
        "from tensorflow.keras import layers\n",
        "from tensorflow.keras import Model\n",
        "import keras.applications\n",
        "from keras.models import Sequential\n",
        "from tensorflow.keras.optimizers import SGD\n",
        "import matplotlib.pyplot as plt\n",
        "from sklearn.metrics import classification_report\n",
        "from sklearn.metrics import confusion_matrix\n",
        "import numpy as np\n",
        "import tensorflow_addons as tfa\n",
        "from tensorflow.keras.callbacks import ModelCheckpoint,EarlyStopping,ReduceLROnPlateau\n",
        "import os\n",
        "import argparse\n"
      ],
      "execution_count": 4,
      "outputs": []
    },
    {
      "cell_type": "code",
      "metadata": {
        "id": "ThJjNtJBi900"
      },
      "source": [
        "path_train = 'training'\n",
        "path_validation = 'validation'\n",
        "path_test = 'testing'"
      ],
      "execution_count": 5,
      "outputs": []
    },
    {
      "cell_type": "markdown",
      "metadata": {
        "id": "3-0nc-LxNSF2"
      },
      "source": [
        "# Pretrained GoogLeNet model using ImageNet\n"
      ]
    },
    {
      "cell_type": "markdown",
      "metadata": {
        "id": "Q8ZNyeF4v9FL"
      },
      "source": [
        "Hyperparameters"
      ]
    },
    {
      "cell_type": "code",
      "metadata": {
        "id": "js1kaBFGv9MD"
      },
      "source": [
        "batch_size = 32\n",
        "epochs=15\n",
        "dim = (224,224)"
      ],
      "execution_count": 6,
      "outputs": []
    },
    {
      "cell_type": "code",
      "metadata": {
        "id": "yWx2apyg_GXQ",
        "colab": {
          "base_uri": "https://localhost:8080/"
        },
        "outputId": "3b48c43b-b59d-4572-adbf-1998b5c9ed3d"
      },
      "source": [
        "from tensorflow.keras.applications.inception_v3 import InceptionV3\n",
        "#from tensorflow.keras.applications.resnet50 import ResNet50\n",
        "\n",
        "pre_trained_model = InceptionV3(input_shape=(224,224,3),include_top=False,pooling ='avg',weights='imagenet')\n",
        "#pre_trained_model = ResNet50(input_shape=(224,224,3),include_top=False,pooling ='avg',weights='imagenet', classes=11)\n",
        "\n",
        "for layer in pre_trained_model.layers:\n",
        "  layer.trainable = False"
      ],
      "execution_count": 7,
      "outputs": [
        {
          "output_type": "stream",
          "name": "stdout",
          "text": [
            "Downloading data from https://storage.googleapis.com/tensorflow/keras-applications/inception_v3/inception_v3_weights_tf_dim_ordering_tf_kernels_notop.h5\n",
            "87916544/87910968 [==============================] - 1s 0us/step\n",
            "87924736/87910968 [==============================] - 1s 0us/step\n"
          ]
        }
      ]
    },
    {
      "cell_type": "markdown",
      "metadata": {
        "id": "sHw1dYWP_GXV"
      },
      "source": [
        "### Data augmentation"
      ]
    },
    {
      "cell_type": "code",
      "metadata": {
        "id": "qh3pPvvDzvEq"
      },
      "source": [
        "train_datagen = ImageDataGenerator(rescale=1. / 255)\n",
        "\n",
        "validation_datagen = ImageDataGenerator(rescale=1. / 255)\n",
        "\n",
        "test_datagen = ImageDataGenerator(rescale=1. / 255)\n"
      ],
      "execution_count": 8,
      "outputs": []
    },
    {
      "cell_type": "markdown",
      "metadata": {
        "id": "mfA7Ta99wW_a"
      },
      "source": [
        "Read the images"
      ]
    },
    {
      "cell_type": "code",
      "metadata": {
        "colab": {
          "base_uri": "https://localhost:8080/"
        },
        "id": "c5Fpl71WwXGa",
        "outputId": "14f7d0b3-fe9b-428a-8e75-a0382afe0cf6"
      },
      "source": [
        "# Flow training images in batches of 20 using train_datagen generator\n",
        "train_generator = train_datagen.flow_from_directory(path_train,\n",
        "                                                    batch_size = batch_size,\n",
        "                                                    class_mode = 'categorical', \n",
        "                                                    target_size = (224,224))     \n",
        "\n",
        "# Flow validation images in batches of 20 using test_datagen generator\n",
        "validation_generator =  validation_datagen.flow_from_directory( path_validation,\n",
        "                                                          batch_size  = batch_size,\n",
        "                                                          class_mode  = 'categorical', \n",
        "                                                          target_size = (224,224))\n",
        "\n",
        "test_generator =  test_datagen.flow_from_directory( path_test,\n",
        "                                                          batch_size  = batch_size,\n",
        "                                                          class_mode  = 'categorical', \n",
        "                                                          target_size = (224,224))"
      ],
      "execution_count": 9,
      "outputs": [
        {
          "output_type": "stream",
          "name": "stdout",
          "text": [
            "Found 546 images belonging to 5 classes.\n",
            "Found 76 images belonging to 5 classes.\n",
            "Found 162 images belonging to 5 classes.\n"
          ]
        }
      ]
    },
    {
      "cell_type": "markdown",
      "metadata": {
        "id": "JV5TTVwGtY1p"
      },
      "source": [
        "Hyper-parameters"
      ]
    },
    {
      "cell_type": "code",
      "metadata": {
        "id": "fcNysNaZtY74"
      },
      "source": [
        "number_of_neurons = 512\n",
        "number_of_classes = 5"
      ],
      "execution_count": 10,
      "outputs": []
    },
    {
      "cell_type": "markdown",
      "metadata": {
        "id": "Qh_m54z-5VW8"
      },
      "source": [
        "Lets see some samples"
      ]
    },
    {
      "cell_type": "code",
      "metadata": {
        "id": "mDvSxorK_GXV"
      },
      "source": [
        "model = Sequential()\n",
        "\n",
        "model.add(pre_trained_model)\n",
        "model.add(BatchNormalization())\n",
        "#model.add(GlobalAveragePooling2D())\n",
        "#model.add(Flatten())\n",
        "\n",
        "# 1st hidden layer: 300 neurons\n",
        "#model.add(Dense(number_of_neurons,activation=\"relu\"))\n",
        "#model.add(Dropout(0.2))\n",
        "#model.add(BatchNormalization())\n",
        "\n",
        "# 2nd hidden layer : 150 neurons\n",
        "#model.add(Dense(number_of_neurons//2,activation=\"relu\"))\n",
        "#model.add(Dropout(0.5))\n",
        "#model.add(BatchNormalization())\n",
        "\n",
        "\n",
        "# 3rd hidden layer : 75 neurons\n",
        "#model.add(Dense(number_of_neurons,activation=\"relu\"))\n",
        "#model.add(Dropout(0.5))\n",
        "#model.add(BatchNormalization())\n",
        "\n",
        "model.add(Dense(number_of_classes,activation=\"softmax\"))"
      ],
      "execution_count": 11,
      "outputs": []
    },
    {
      "cell_type": "code",
      "metadata": {
        "id": "sqeVzAQhsj6i",
        "colab": {
          "base_uri": "https://localhost:8080/"
        },
        "outputId": "8fd9b686-935d-489e-aea3-42b512a05474"
      },
      "source": [
        "sgd = SGD(lr = 0.01, decay = 1e-6, momentum = 0.9, nesterov = True)\n",
        "\n",
        "f1_score = tfa.metrics.F1Score(num_classes=number_of_classes, average='macro',threshold=0.5)\n",
        "\n",
        "model.compile(optimizer = sgd, \n",
        "              loss = 'categorical_crossentropy', \n",
        "              metrics = ['accuracy',f1_score])\n",
        "\n",
        "#model.compile(optimizer = tf.keras.optimizers.Adam(learning_rate=0.0005,decay = 1e-6), \n",
        "#              loss = 'categorical_crossentropy', \n",
        "#              metrics = ['accuracy',f1_score])\n",
        "            #metrics = ['accuracy',f1_score])\n",
        "\n"
      ],
      "execution_count": 12,
      "outputs": [
        {
          "output_type": "stream",
          "name": "stderr",
          "text": [
            "/usr/local/lib/python3.7/dist-packages/keras/optimizer_v2/gradient_descent.py:102: UserWarning: The `lr` argument is deprecated, use `learning_rate` instead.\n",
            "  super(SGD, self).__init__(name, **kwargs)\n"
          ]
        }
      ]
    },
    {
      "cell_type": "markdown",
      "source": [
        "Callbacks definition to reduce chances of overfitting the model"
      ],
      "metadata": {
        "id": "pPCZL5X4ePlB"
      }
    },
    {
      "cell_type": "code",
      "source": [
        "fname = \"weights-inceptionv3-improvement-{epoch:02d}-{val_accuracy:.2f}.hdf5\"\n",
        "\n",
        "resnet_checkpoint = ModelCheckpoint(fname, monitor='val_accuracy', verbose=1, save_best_only=True, mode='max')\n",
        "\n",
        "resnet_early_stopping = EarlyStopping(monitor='loss', patience=5)\n",
        "reduce_lr = ReduceLROnPlateau(monitor='val_loss', factor=0.05, patience=5, min_lr=0.000002)\n",
        "callbacklist = [resnet_checkpoint,resnet_early_stopping,reduce_lr]"
      ],
      "metadata": {
        "id": "WUOueU5ZePt4"
      },
      "execution_count": 13,
      "outputs": []
    },
    {
      "cell_type": "code",
      "metadata": {
        "id": "c9zT6oaF_GXX",
        "colab": {
          "base_uri": "https://localhost:8080/"
        },
        "outputId": "02908471-890d-4a6e-911e-824ae687969f"
      },
      "source": [
        "history_fine = model.fit(train_generator,\n",
        "                         epochs=epochs,\n",
        "                         batch_size=batch_size,\n",
        "                         validation_data=validation_generator,\n",
        "                         callbacks=callbacklist\n",
        "                         )"
      ],
      "execution_count": 14,
      "outputs": [
        {
          "output_type": "stream",
          "name": "stdout",
          "text": [
            "Epoch 1/15\n",
            "18/18 [==============================] - ETA: 0s - loss: 0.6093 - accuracy: 0.8040 - f1_score: 0.7844\n",
            "Epoch 1: val_accuracy improved from -inf to 0.92105, saving model to weights-inceptionv3-improvement-01-0.92.hdf5\n",
            "18/18 [==============================] - 80s 4s/step - loss: 0.6093 - accuracy: 0.8040 - f1_score: 0.7844 - val_loss: 0.4174 - val_accuracy: 0.9211 - val_f1_score: 0.8946 - lr: 0.0100\n",
            "Epoch 2/15\n",
            "18/18 [==============================] - ETA: 0s - loss: 0.0651 - accuracy: 0.9762 - f1_score: 0.9736\n",
            "Epoch 2: val_accuracy improved from 0.92105 to 0.94737, saving model to weights-inceptionv3-improvement-02-0.95.hdf5\n",
            "18/18 [==============================] - 66s 4s/step - loss: 0.0651 - accuracy: 0.9762 - f1_score: 0.9736 - val_loss: 0.2803 - val_accuracy: 0.9474 - val_f1_score: 0.9051 - lr: 0.0100\n",
            "Epoch 3/15\n",
            "18/18 [==============================] - ETA: 0s - loss: 0.0166 - accuracy: 0.9963 - f1_score: 0.9967\n",
            "Epoch 3: val_accuracy did not improve from 0.94737\n",
            "18/18 [==============================] - 64s 4s/step - loss: 0.0166 - accuracy: 0.9963 - f1_score: 0.9967 - val_loss: 0.2594 - val_accuracy: 0.9342 - val_f1_score: 0.9237 - lr: 0.0100\n",
            "Epoch 4/15\n",
            "18/18 [==============================] - ETA: 0s - loss: 0.0099 - accuracy: 0.9963 - f1_score: 0.9951\n",
            "Epoch 4: val_accuracy did not improve from 0.94737\n",
            "18/18 [==============================] - 64s 4s/step - loss: 0.0099 - accuracy: 0.9963 - f1_score: 0.9951 - val_loss: 0.2252 - val_accuracy: 0.9474 - val_f1_score: 0.9196 - lr: 0.0100\n",
            "Epoch 5/15\n",
            "18/18 [==============================] - ETA: 0s - loss: 0.0506 - accuracy: 0.9853 - f1_score: 0.9844\n",
            "Epoch 5: val_accuracy did not improve from 0.94737\n",
            "18/18 [==============================] - 64s 4s/step - loss: 0.0506 - accuracy: 0.9853 - f1_score: 0.9844 - val_loss: 0.3498 - val_accuracy: 0.9211 - val_f1_score: 0.9246 - lr: 0.0100\n",
            "Epoch 6/15\n",
            "18/18 [==============================] - ETA: 0s - loss: 0.0968 - accuracy: 0.9780 - f1_score: 0.9789\n",
            "Epoch 6: val_accuracy did not improve from 0.94737\n",
            "18/18 [==============================] - 64s 4s/step - loss: 0.0968 - accuracy: 0.9780 - f1_score: 0.9789 - val_loss: 0.4379 - val_accuracy: 0.8421 - val_f1_score: 0.8799 - lr: 0.0100\n",
            "Epoch 7/15\n",
            "18/18 [==============================] - ETA: 0s - loss: 0.2539 - accuracy: 0.9322 - f1_score: 0.9453\n",
            "Epoch 7: val_accuracy did not improve from 0.94737\n",
            "18/18 [==============================] - 65s 4s/step - loss: 0.2539 - accuracy: 0.9322 - f1_score: 0.9453 - val_loss: 0.4891 - val_accuracy: 0.9079 - val_f1_score: 0.9204 - lr: 0.0100\n",
            "Epoch 8/15\n",
            "18/18 [==============================] - ETA: 0s - loss: 0.0940 - accuracy: 0.9744 - f1_score: 0.9773\n",
            "Epoch 8: val_accuracy did not improve from 0.94737\n",
            "18/18 [==============================] - 65s 4s/step - loss: 0.0940 - accuracy: 0.9744 - f1_score: 0.9773 - val_loss: 0.2424 - val_accuracy: 0.9211 - val_f1_score: 0.9043 - lr: 0.0100\n",
            "Epoch 9/15\n",
            "18/18 [==============================] - ETA: 0s - loss: 0.0463 - accuracy: 0.9853 - f1_score: 0.9853\n",
            "Epoch 9: val_accuracy did not improve from 0.94737\n",
            "18/18 [==============================] - 65s 4s/step - loss: 0.0463 - accuracy: 0.9853 - f1_score: 0.9853 - val_loss: 0.1895 - val_accuracy: 0.9342 - val_f1_score: 0.9225 - lr: 0.0100\n"
          ]
        }
      ]
    },
    {
      "cell_type": "code",
      "metadata": {
        "id": "1WFZwVEg_GXb"
      },
      "source": [
        "#f1 = history_fine.history['f1_score']\n",
        "#val_f1 = history_fine.history['val_f1_score']\n",
        "\n",
        "#plt.figure(figsize=(8, 8))\n",
        "#plt.subplot(2, 1, 1)\n",
        "#plt.plot(f1, label='Training F1-Score')\n",
        "#plt.plot(val_f1, label='Validation F1-Score')\n",
        "#plt.legend(loc='lower right')\n",
        "#plt.ylabel('F1-Score')\n",
        "#plt.ylim([min(plt.ylim()),1])\n",
        "#plt.title('Training and Validation F1-Score')\n"
      ],
      "execution_count": 15,
      "outputs": []
    },
    {
      "cell_type": "code",
      "source": [
        "f1 = history_fine.history['accuracy']\n",
        "val_f1 = history_fine.history['val_accuracy']\n",
        "\n",
        "plt.figure(figsize=(8, 8))\n",
        "plt.subplot(2, 1, 1)\n",
        "plt.plot(f1, label='Training F1-Score')\n",
        "plt.plot(val_f1, label='Validation F1-Score')\n",
        "plt.legend(loc='lower right')\n",
        "plt.ylabel('F1-Score')\n",
        "plt.ylim([min(plt.ylim()),1])\n",
        "plt.title('Training and Validation F1-Score')\n"
      ],
      "metadata": {
        "id": "fOSIrhK5g1ZF",
        "colab": {
          "base_uri": "https://localhost:8080/",
          "height": 280
        },
        "outputId": "79493145-5b8d-4efb-b515-78c2a0cb921f"
      },
      "execution_count": 16,
      "outputs": [
        {
          "output_type": "execute_result",
          "data": {
            "text/plain": [
              "Text(0.5, 1.0, 'Training and Validation F1-Score')"
            ]
          },
          "metadata": {},
          "execution_count": 16
        },
        {
          "output_type": "display_data",
          "data": {
            "text/plain": [
              "<Figure size 576x576 with 1 Axes>"
            ],
            "image/png": "[encoded data removed]"
          },
          "metadata": {
            "needs_background": "light"
          }
        }
      ]
    },
    {
      "cell_type": "code",
      "metadata": {
        "id": "Q8ENVvZSrKrS",
        "colab": {
          "base_uri": "https://localhost:8080/",
          "height": 295
        },
        "outputId": "1111d194-008e-4db3-d30a-1c4ecf28e63f"
      },
      "source": [
        "loss = history_fine.history['loss']\n",
        "val_loss = history_fine.history['val_loss']\n",
        "\n",
        "plt.plot(history_fine.history['loss'])\n",
        "plt.plot(history_fine.history['val_loss'])\n",
        "plt.title('model loss')\n",
        "plt.ylabel('loss')\n",
        "plt.xlabel('epoch')\n",
        "plt.legend(['training set', 'validation set'], loc='upper left')\n",
        "plt.show()"
      ],
      "execution_count": 17,
      "outputs": [
        {
          "output_type": "display_data",
          "data": {
            "text/plain": [
              "<Figure size 432x288 with 1 Axes>"
            ],
            "image/png": "[encoded data removed]"
          },
          "metadata": {
            "needs_background": "light"
          }
        }
      ]
    },
    {
      "cell_type": "code",
      "source": [
        "score = model.evaluate(test_generator,batch_size=batch_size) \n",
        "print(f'Test loss: {score[0]} / Test accuracy: {score[1]}')"
      ],
      "metadata": {
        "id": "g2VR_adbrsUp",
        "colab": {
          "base_uri": "https://localhost:8080/"
        },
        "outputId": "4d44827a-f70c-49ff-f406-f19995e632be"
      },
      "execution_count": 18,
      "outputs": [
        {
          "output_type": "stream",
          "name": "stdout",
          "text": [
            "6/6 [==============================] - 17s 3s/step - loss: 0.2102 - accuracy: 0.9506 - f1_score: 0.9292\n",
            "Test loss: 0.2102261334657669 / Test accuracy: 0.9506173133850098\n"
          ]
        }
      ]
    },
    {
      "cell_type": "code",
      "source": [
        ""
      ],
      "metadata": {
        "id": "mxFnz7J7NY1Z"
      },
      "execution_count": 18,
      "outputs": []
    },
    {
      "cell_type": "markdown",
      "metadata": {
        "id": "zFraRq9i9FNA"
      },
      "source": [
        ""
      ]
    },
    {
      "cell_type": "code",
      "metadata": {
        "id": "RXFG_Bn19FTX",
        "colab": {
          "base_uri": "https://localhost:8080/"
        },
        "outputId": "73756cb7-8908-4693-f92e-0242eab252da"
      },
      "source": [
        "#y_prob = model.predict(test_generator,batch_size=batch_size)\n",
        "#y_pred = np.argmax(y_prob,axis=1)\n",
        "\n",
        "y_prob = model.predict(test_generator)\n",
        "y_pred = np.argmax(y_prob,axis=1)\n",
        "#print(pred, labels[np.argmax(pred)])\n",
        "print(classification_report(test_generator.classes,y_pred))"
      ],
      "execution_count": 19,
      "outputs": [
        {
          "output_type": "stream",
          "name": "stdout",
          "text": [
            "              precision    recall  f1-score   support\n",
            "\n",
            "           0       0.29      0.30      0.29        46\n",
            "           1       0.22      0.21      0.22        19\n",
            "           2       0.32      0.31      0.32        51\n",
            "           3       0.11      0.11      0.11        28\n",
            "           4       0.06      0.06      0.06        18\n",
            "\n",
            "    accuracy                           0.23       162\n",
            "   macro avg       0.20      0.20      0.20       162\n",
            "weighted avg       0.23      0.23      0.23       162\n",
            "\n"
          ]
        }
      ]
    },
    {
      "cell_type": "code",
      "source": [
        "y_prob"
      ],
      "metadata": {
        "id": "0gCeN5zQyylW",
        "colab": {
          "base_uri": "https://localhost:8080/"
        },
        "outputId": "51d8e9ed-d282-460b-e787-3015c47ac996"
      },
      "execution_count": 20,
      "outputs": [
        {
          "output_type": "execute_result",
          "data": {
            "text/plain": [
              "array([[9.98448968e-01, 5.65518974e-04, 4.83706426e-05, 8.78896099e-04,\n",
              "        5.83662222e-05],\n",
              "       [1.68489223e-10, 7.45269124e-10, 3.67047642e-06, 9.99592960e-01,\n",
              "        4.03404905e-04],\n",
              "       [2.08502650e-04, 9.94139194e-01, 7.67707970e-05, 2.60135415e-03,\n",
              "        2.97422591e-03],\n",
              "       [1.25601528e-05, 5.77298852e-05, 9.99679089e-01, 8.86104499e-06,\n",
              "        2.41788890e-04],\n",
              "       [9.92752075e-01, 1.87188992e-03, 2.69963895e-03, 2.42560264e-03,\n",
              "        2.50757090e-04],\n",
              "       [9.92537200e-01, 1.85291399e-03, 2.02705734e-03, 1.66536181e-03,\n",
              "        1.91747700e-03],\n",
              "       [2.12340208e-08, 1.63466859e-06, 1.42895374e-06, 9.99155879e-01,\n",
              "        8.40972061e-04],\n",
              "       [6.20084465e-05, 5.58868051e-03, 6.33211061e-02, 8.19090247e-01,\n",
              "        1.11937918e-01],\n",
              "       [2.03838642e-03, 2.71065626e-04, 9.97560143e-01, 1.18897689e-04,\n",
              "        1.15786925e-05],\n",
              "       [4.08248918e-04, 6.37338017e-05, 9.99488711e-01, 2.98749092e-05,\n",
              "        9.36928518e-06],\n",
              "       [9.99001801e-01, 1.33957365e-04, 6.04545930e-04, 8.80785956e-06,\n",
              "        2.50881130e-04],\n",
              "       [9.11466777e-05, 9.95832503e-01, 1.34879838e-06, 1.51022046e-03,\n",
              "        2.56472663e-03],\n",
              "       [4.35119087e-04, 1.67833688e-03, 1.84854283e-03, 9.96448332e-04,\n",
              "        9.95041549e-01],\n",
              "       [9.83627796e-01, 1.59243413e-03, 2.17011990e-03, 2.32005469e-03,\n",
              "        1.02895508e-02],\n",
              "       [1.75713609e-07, 9.99996662e-01, 5.86043836e-09, 1.89614559e-06,\n",
              "        1.32144510e-06],\n",
              "       [1.30368099e-02, 4.22356417e-03, 9.77268636e-01, 4.37063444e-03,\n",
              "        1.10046205e-03],\n",
              "       [9.51560915e-01, 8.33325321e-04, 4.72604819e-02, 5.46764313e-05,\n",
              "        2.90606113e-04],\n",
              "       [1.72077154e-03, 6.55224896e-04, 9.96901631e-01, 5.39912668e-04,\n",
              "        1.82581585e-04],\n",
              "       [9.99949813e-01, 3.11852233e-07, 4.70323857e-06, 1.23177140e-08,\n",
              "        4.51941523e-05],\n",
              "       [1.73039758e-03, 1.55219773e-03, 1.07968323e-01, 5.63129026e-04,\n",
              "        8.88185918e-01],\n",
              "       [9.97204185e-01, 9.98361153e-04, 3.17597296e-04, 1.25606544e-03,\n",
              "        2.23826792e-04],\n",
              "       [9.97060835e-01, 1.34160160e-03, 2.74506077e-04, 7.97507877e-04,\n",
              "        5.25470939e-04],\n",
              "       [1.09370286e-03, 1.58442382e-03, 3.91154364e-03, 9.62672949e-01,\n",
              "        3.07372715e-02],\n",
              "       [9.71799996e-03, 8.38894804e-04, 9.87520814e-01, 1.90171332e-03,\n",
              "        2.05788238e-05],\n",
              "       [8.75639438e-04, 1.30536733e-04, 9.97918665e-01, 3.03055189e-04,\n",
              "        7.72093539e-04],\n",
              "       [2.41625053e-03, 2.54408154e-03, 9.92754757e-01, 2.15360126e-03,\n",
              "        1.31218694e-04],\n",
              "       [8.24012910e-04, 2.87065096e-03, 4.19449534e-05, 3.17769544e-03,\n",
              "        9.93085742e-01],\n",
              "       [9.62501683e-04, 2.93612923e-03, 1.08893095e-02, 9.18384362e-03,\n",
              "        9.76028204e-01],\n",
              "       [1.20338818e-05, 9.09483242e-06, 5.06496071e-05, 9.96460617e-01,\n",
              "        3.46762757e-03],\n",
              "       [9.99843597e-01, 4.70518644e-05, 9.38210578e-05, 1.20955401e-05,\n",
              "        3.50158780e-06],\n",
              "       [1.23855406e-02, 3.37951467e-03, 9.26315665e-01, 7.06416881e-03,\n",
              "        5.08550704e-02],\n",
              "       [8.63990936e-05, 7.34618880e-05, 1.33400843e-01, 8.62565100e-01,\n",
              "        3.87419271e-03],\n",
              "       [1.09236487e-06, 9.98472035e-01, 7.73610509e-09, 1.69293289e-05,\n",
              "        1.50992768e-03],\n",
              "       [4.68778900e-08, 1.62028002e-07, 1.59812519e-08, 9.99841094e-01,\n",
              "        1.58589741e-04],\n",
              "       [1.44527620e-02, 2.73716752e-03, 9.79785144e-01, 2.95894011e-03,\n",
              "        6.59224606e-05],\n",
              "       [2.68792044e-02, 1.11279422e-02, 9.57266212e-01, 1.27746421e-03,\n",
              "        3.44910263e-03],\n",
              "       [4.03543737e-07, 9.99986172e-01, 1.44698042e-09, 1.31951147e-05,\n",
              "        2.92929030e-07],\n",
              "       [3.98478369e-06, 1.85999525e-07, 2.10966272e-10, 9.99953032e-01,\n",
              "        4.28530911e-05],\n",
              "       [8.32886100e-01, 4.04403917e-03, 8.39408264e-02, 1.38066546e-03,\n",
              "        7.77484179e-02],\n",
              "       [9.95732009e-01, 1.67751743e-03, 9.26194916e-05, 2.25889590e-03,\n",
              "        2.39061017e-04],\n",
              "       [7.09351013e-07, 1.02702143e-06, 7.26621693e-07, 9.99898076e-01,\n",
              "        9.94489674e-05],\n",
              "       [8.59568864e-02, 2.02399977e-02, 8.83381009e-01, 5.53222839e-03,\n",
              "        4.88991430e-03],\n",
              "       [9.87465587e-03, 1.47276395e-03, 9.84790981e-01, 3.82852950e-03,\n",
              "        3.31207739e-05],\n",
              "       [6.33481432e-06, 8.05351301e-05, 9.28220834e-06, 7.81883836e-01,\n",
              "        2.18019933e-01],\n",
              "       [9.93425250e-01, 1.73849858e-05, 1.20266137e-04, 9.97639631e-07,\n",
              "        6.43603224e-03],\n",
              "       [9.96771991e-01, 1.13756023e-03, 9.71060188e-04, 8.03377072e-04,\n",
              "        3.16051650e-04],\n",
              "       [9.91539896e-01, 3.04841646e-03, 2.13798042e-03, 2.91667623e-03,\n",
              "        3.56995355e-04],\n",
              "       [1.27154635e-07, 9.99992371e-01, 1.06088172e-09, 4.71889462e-06,\n",
              "        2.77873141e-06],\n",
              "       [7.73512817e-04, 2.77714047e-04, 5.49766410e-04, 9.89078104e-01,\n",
              "        9.32094920e-03],\n",
              "       [6.66956557e-03, 8.62819434e-04, 9.91702259e-01, 7.42608565e-04,\n",
              "        2.26713510e-05],\n",
              "       [2.25720555e-03, 1.54275389e-04, 9.96939778e-01, 5.87845396e-04,\n",
              "        6.10092102e-05],\n",
              "       [1.50889832e-06, 9.99724567e-01, 5.34681743e-11, 2.73715472e-04,\n",
              "        1.20801289e-07],\n",
              "       [5.21854614e-04, 1.19544879e-04, 9.99328494e-01, 1.99513361e-05,\n",
              "        1.02310723e-05],\n",
              "       [9.85130966e-01, 6.46834634e-03, 5.99948224e-03, 1.79510238e-03,\n",
              "        6.06050482e-04],\n",
              "       [7.52493799e-01, 5.05685806e-03, 4.48082238e-02, 9.94350412e-04,\n",
              "        1.96646661e-01],\n",
              "       [2.96321332e-01, 2.04921514e-02, 6.60713136e-01, 2.18818728e-02,\n",
              "        5.91498450e-04],\n",
              "       [6.54201031e-08, 9.99943137e-01, 4.72560158e-10, 5.66562194e-05,\n",
              "        9.44584571e-08],\n",
              "       [9.99987245e-01, 1.38957361e-08, 1.75304052e-07, 1.71927680e-10,\n",
              "        1.26354234e-05],\n",
              "       [7.51799904e-04, 1.07468950e-04, 9.95718539e-01, 5.86582057e-04,\n",
              "        2.83562788e-03],\n",
              "       [9.99999285e-01, 5.25134602e-08, 1.36346017e-07, 5.62944136e-10,\n",
              "        5.42456917e-07],\n",
              "       [1.20484164e-10, 4.70427679e-13, 1.88041142e-07, 9.99999642e-01,\n",
              "        1.43165252e-07],\n",
              "       [9.99962449e-01, 1.68620329e-06, 6.71978967e-07, 1.37927501e-07,\n",
              "        3.50814989e-05],\n",
              "       [2.25917902e-03, 1.96470669e-03, 9.94762838e-01, 7.61106377e-04,\n",
              "        2.52214755e-04],\n",
              "       [2.26877828e-09, 6.25650021e-09, 6.08881692e-07, 9.99948263e-01,\n",
              "        5.11924591e-05],\n",
              "       [6.17751255e-07, 9.99508262e-01, 4.39471179e-08, 4.88894351e-04,\n",
              "        2.28767203e-06],\n",
              "       [1.26918852e-01, 2.71425005e-02, 3.19051032e-05, 6.02743030e-01,\n",
              "        2.43163690e-01],\n",
              "       [7.41898184e-05, 8.77768161e-06, 3.44307136e-06, 9.89365101e-01,\n",
              "        1.05485022e-02],\n",
              "       [9.69869316e-01, 2.72312318e-03, 2.32976601e-02, 9.79115212e-05,\n",
              "        4.01203567e-03],\n",
              "       [8.89816284e-01, 5.52464183e-03, 9.84822661e-02, 4.63436451e-03,\n",
              "        1.54229242e-03],\n",
              "       [7.99807026e-07, 2.64960411e-03, 2.03932822e-03, 2.82419001e-04,\n",
              "        9.95027840e-01],\n",
              "       [2.08923710e-03, 2.60361616e-04, 2.87444127e-04, 3.53338663e-03,\n",
              "        9.93829548e-01],\n",
              "       [2.88850395e-03, 3.35744495e-04, 9.94903922e-01, 1.29687553e-03,\n",
              "        5.75012411e-04],\n",
              "       [8.70209113e-12, 5.50921808e-10, 1.10610486e-07, 9.99997258e-01,\n",
              "        2.65139056e-06],\n",
              "       [3.11857369e-02, 8.26909859e-03, 9.53772366e-01, 6.61924155e-03,\n",
              "        1.53573186e-04],\n",
              "       [5.84055815e-05, 2.71406228e-04, 1.17526244e-04, 9.78859782e-01,\n",
              "        2.06928886e-02],\n",
              "       [3.47689231e-04, 3.54710151e-04, 9.98215795e-01, 5.86066046e-04,\n",
              "        4.95794171e-04],\n",
              "       [9.94963169e-01, 2.57431471e-04, 7.74734654e-04, 1.53862788e-06,\n",
              "        4.00321558e-03],\n",
              "       [6.89649954e-04, 3.27967078e-04, 9.98649538e-01, 5.00141832e-05,\n",
              "        2.82826164e-04],\n",
              "       [6.85438223e-04, 4.25743026e-04, 9.98726904e-01, 1.59058050e-04,\n",
              "        2.79949745e-06],\n",
              "       [1.61921039e-01, 2.20857281e-03, 8.34812522e-01, 7.48407794e-04,\n",
              "        3.09489085e-04],\n",
              "       [4.96645109e-04, 7.38186180e-04, 9.98396933e-01, 9.31753748e-05,\n",
              "        2.75105500e-04],\n",
              "       [9.96589541e-01, 1.14986149e-03, 4.07586660e-04, 1.56470423e-03,\n",
              "        2.88203912e-04],\n",
              "       [1.23414604e-04, 9.99640226e-01, 3.51384344e-08, 2.24910240e-04,\n",
              "        1.14333488e-05],\n",
              "       [2.54295170e-02, 8.33743718e-03, 9.27709401e-01, 3.82228233e-02,\n",
              "        3.00878106e-04],\n",
              "       [1.24963745e-03, 5.13132196e-04, 9.97292221e-01, 9.34701529e-04,\n",
              "        1.03236471e-05],\n",
              "       [1.39883328e-02, 3.55139980e-03, 7.28774309e-01, 1.46571202e-02,\n",
              "        2.39028767e-01],\n",
              "       [2.64581176e-04, 2.54127979e-02, 8.14563682e-05, 3.76721204e-04,\n",
              "        9.73864436e-01],\n",
              "       [9.25201952e-01, 9.69536230e-03, 5.56425974e-02, 5.27511444e-03,\n",
              "        4.18495061e-03],\n",
              "       [9.99781311e-01, 2.21429318e-07, 3.48563418e-08, 2.07251336e-08,\n",
              "        2.18426867e-04],\n",
              "       [9.99719203e-01, 3.35940598e-07, 1.87856788e-08, 1.81885422e-08,\n",
              "        2.80406501e-04],\n",
              "       [9.99627471e-01, 5.41656736e-05, 1.66868296e-04, 4.16326338e-06,\n",
              "        1.47286017e-04],\n",
              "       [1.15530863e-02, 1.22023923e-02, 1.32440811e-03, 6.00604489e-02,\n",
              "        9.14859653e-01],\n",
              "       [1.36939358e-04, 7.60666132e-01, 2.39181831e-01, 1.13296273e-05,\n",
              "        3.69760210e-06],\n",
              "       [1.13041722e-04, 1.62451295e-04, 9.99606788e-01, 6.49303111e-05,\n",
              "        5.27864067e-05],\n",
              "       [3.53798509e-01, 9.32234898e-02, 1.79669296e-03, 8.89467448e-03,\n",
              "        5.42286634e-01],\n",
              "       [1.25664223e-09, 1.30525448e-08, 1.94524663e-08, 9.99976039e-01,\n",
              "        2.39298770e-05],\n",
              "       [9.84719872e-01, 3.73848039e-03, 2.24519940e-03, 6.90314220e-03,\n",
              "        2.39343755e-03],\n",
              "       [9.20383900e-04, 9.08800542e-01, 3.99858237e-07, 8.97354782e-02,\n",
              "        5.43060945e-04],\n",
              "       [9.99966502e-01, 1.31302968e-05, 6.96848883e-06, 1.42153496e-07,\n",
              "        1.33905332e-05],\n",
              "       [8.39490235e-01, 3.89169268e-02, 3.74455079e-02, 6.06830306e-02,\n",
              "        2.34644189e-02],\n",
              "       [8.10786113e-02, 9.88130225e-04, 9.17528808e-01, 3.46224173e-04,\n",
              "        5.83507172e-05],\n",
              "       [1.96745568e-05, 2.52558384e-05, 1.42061253e-05, 9.96455967e-01,\n",
              "        3.48480372e-03],\n",
              "       [8.35162529e-04, 1.11720921e-03, 9.95118856e-01, 2.90498394e-03,\n",
              "        2.38330904e-05],\n",
              "       [1.86163247e-01, 4.44656350e-02, 1.43792406e-02, 5.82609288e-02,\n",
              "        6.96730971e-01],\n",
              "       [9.98962522e-01, 4.65785532e-04, 1.30053639e-04, 3.57654179e-04,\n",
              "        8.40498615e-05],\n",
              "       [1.01244263e-02, 8.89575342e-04, 9.88547206e-01, 3.85621854e-04,\n",
              "        5.31564947e-05],\n",
              "       [3.72681439e-01, 3.83894192e-04, 3.10687086e-04, 1.08754093e-05,\n",
              "        6.26613021e-01],\n",
              "       [1.03895563e-05, 1.03018330e-07, 4.34678242e-07, 5.23348672e-06,\n",
              "        9.99983788e-01],\n",
              "       [3.63813160e-05, 3.69468398e-05, 9.99896407e-01, 2.85045699e-05,\n",
              "        1.73972046e-06],\n",
              "       [1.88212216e-01, 7.76506960e-03, 2.74277129e-03, 4.44736390e-04,\n",
              "        8.00835192e-01],\n",
              "       [7.09291140e-04, 1.46437739e-03, 1.14077097e-02, 4.72736538e-05,\n",
              "        9.86371338e-01],\n",
              "       [9.33504732e-11, 6.08743264e-11, 8.22592328e-10, 9.99999642e-01,\n",
              "        3.61579112e-07],\n",
              "       [2.61255849e-07, 2.30893249e-07, 2.76138110e-07, 9.99846220e-01,\n",
              "        1.52988490e-04],\n",
              "       [3.67307756e-03, 1.46826811e-03, 9.93095815e-01, 1.72094756e-03,\n",
              "        4.17966767e-05],\n",
              "       [6.83324856e-07, 4.96979567e-07, 4.21088625e-05, 3.01699131e-03,\n",
              "        9.96939778e-01],\n",
              "       [1.51099265e-01, 9.85842082e-04, 3.16911459e-01, 4.24742997e-01,\n",
              "        1.06260434e-01],\n",
              "       [1.43653324e-05, 9.81566906e-01, 6.27797249e-07, 1.02146072e-02,\n",
              "        8.20358936e-03],\n",
              "       [9.21550658e-09, 9.99967694e-01, 1.23053132e-06, 2.70020209e-05,\n",
              "        4.06375011e-06],\n",
              "       [9.99920726e-01, 1.01884079e-05, 7.15980468e-06, 6.74505600e-07,\n",
              "        6.12862495e-05],\n",
              "       [1.24202155e-01, 9.69353318e-03, 8.59898448e-01, 4.70637996e-03,\n",
              "        1.49950699e-03],\n",
              "       [9.60148696e-04, 2.62738846e-04, 9.98197734e-01, 5.01731934e-04,\n",
              "        7.76857560e-05],\n",
              "       [2.84247994e-01, 1.49664478e-02, 6.39156788e-04, 4.97112162e-02,\n",
              "        6.50435209e-01],\n",
              "       [3.25674675e-02, 8.34514294e-03, 9.54231679e-01, 1.09057711e-03,\n",
              "        3.76513856e-03],\n",
              "       [9.99422431e-01, 5.48688513e-05, 4.83053824e-04, 1.31240540e-05,\n",
              "        2.65839026e-05],\n",
              "       [9.57971338e-07, 2.57176871e-05, 7.14696420e-04, 9.90682483e-01,\n",
              "        8.57609510e-03],\n",
              "       [1.94149456e-04, 2.49953452e-03, 5.67969620e-01, 3.84695977e-01,\n",
              "        4.46407497e-02],\n",
              "       [7.16812257e-03, 9.70611274e-01, 7.11396342e-06, 1.96562847e-03,\n",
              "        2.02478990e-02],\n",
              "       [9.99908566e-01, 3.84420628e-06, 1.14605189e-06, 5.31409569e-07,\n",
              "        8.59867359e-05],\n",
              "       [2.32953434e-10, 9.49134799e-11, 1.52273742e-07, 9.99999046e-01,\n",
              "        8.43860107e-07],\n",
              "       [1.49681303e-03, 1.51554425e-03, 9.93686020e-01, 3.23920837e-03,\n",
              "        6.24596432e-05],\n",
              "       [2.24227577e-07, 2.68464237e-06, 9.99841452e-01, 1.00890338e-06,\n",
              "        1.54756010e-04],\n",
              "       [9.99500513e-01, 6.94401460e-05, 4.67232567e-05, 5.38238282e-06,\n",
              "        3.77986609e-04],\n",
              "       [1.76386857e-05, 9.99939322e-01, 6.95579629e-08, 4.12256668e-05,\n",
              "        1.65393897e-06],\n",
              "       [2.49550591e-04, 3.86906974e-02, 5.63479807e-05, 9.58081067e-01,\n",
              "        2.92238616e-03],\n",
              "       [6.92497473e-04, 1.22349709e-04, 9.99136031e-01, 4.68526814e-05,\n",
              "        2.38592179e-06],\n",
              "       [1.25729584e-03, 9.58088133e-03, 3.57092172e-01, 2.78268695e-01,\n",
              "        3.53800952e-01],\n",
              "       [1.11740939e-02, 4.57935128e-03, 9.68734264e-01, 1.52420364e-02,\n",
              "        2.70194723e-04],\n",
              "       [2.09669020e-06, 9.99979854e-01, 8.46647463e-09, 1.13261503e-05,\n",
              "        6.62080856e-06],\n",
              "       [9.97193038e-01, 1.29860290e-03, 2.93792313e-04, 1.05565565e-03,\n",
              "        1.59071147e-04],\n",
              "       [9.70794737e-01, 7.04568112e-03, 2.22538295e-03, 6.01068046e-03,\n",
              "        1.39235947e-02],\n",
              "       [9.95463550e-01, 1.67647423e-03, 1.10863196e-03, 1.41015917e-03,\n",
              "        3.41318431e-04],\n",
              "       [9.94597435e-01, 2.36192765e-03, 2.86324008e-04, 2.32461072e-03,\n",
              "        4.29696374e-04],\n",
              "       [1.22418098e-01, 3.44927120e-03, 8.72243464e-01, 1.79702078e-03,\n",
              "        9.21237443e-05],\n",
              "       [9.99886394e-01, 1.92345597e-05, 2.28054702e-07, 1.28281016e-07,\n",
              "        9.39986421e-05],\n",
              "       [7.58873675e-09, 1.87486204e-08, 1.90874445e-07, 9.99888539e-01,\n",
              "        1.11265021e-04],\n",
              "       [9.97259974e-01, 8.93415534e-04, 7.23422389e-04, 1.07232411e-03,\n",
              "        5.08795129e-05],\n",
              "       [1.39376089e-01, 3.60838673e-03, 2.29101006e-05, 3.79941805e-04,\n",
              "        8.56612742e-01],\n",
              "       [9.82596695e-01, 3.74334562e-03, 8.52593966e-03, 4.67715645e-03,\n",
              "        4.56702634e-04],\n",
              "       [2.79541537e-02, 5.69053888e-01, 3.24010674e-04, 3.86809945e-01,\n",
              "        1.58580672e-02],\n",
              "       [9.84712187e-07, 6.08504752e-06, 1.97982481e-05, 9.99853969e-01,\n",
              "        1.19238844e-04],\n",
              "       [2.52725389e-02, 6.49212208e-03, 9.66129065e-01, 8.92475713e-04,\n",
              "        1.21376221e-03],\n",
              "       [1.12589812e-02, 4.46815742e-03, 9.77099895e-01, 6.90622255e-03,\n",
              "        2.66787771e-04],\n",
              "       [2.15101298e-02, 9.79955308e-04, 9.72806513e-01, 4.49622981e-03,\n",
              "        2.07231409e-04],\n",
              "       [9.97250855e-01, 1.80045361e-04, 2.65857205e-04, 3.73706780e-06,\n",
              "        2.29962310e-03],\n",
              "       [1.38759771e-02, 1.66800746e-03, 9.82048333e-01, 2.36742501e-03,\n",
              "        4.02828518e-05],\n",
              "       [1.29278660e-05, 2.10200706e-05, 9.99937057e-01, 1.18900298e-05,\n",
              "        1.70733456e-05],\n",
              "       [9.99997377e-01, 2.89227586e-07, 8.43399278e-07, 7.65443986e-10,\n",
              "        1.51906454e-06],\n",
              "       [5.15589952e-01, 1.96176930e-03, 3.93046821e-06, 7.39988463e-04,\n",
              "        4.81704354e-01],\n",
              "       [9.99172211e-01, 2.86399358e-04, 2.21429247e-04, 2.96788960e-04,\n",
              "        2.32228631e-05],\n",
              "       [9.99997735e-01, 8.04526934e-08, 2.73640268e-07, 3.81930737e-10,\n",
              "        1.94563040e-06],\n",
              "       [3.73470131e-04, 1.08757289e-03, 8.69030831e-04, 8.54248881e-01,\n",
              "        1.43421084e-01],\n",
              "       [9.97126043e-01, 1.10594532e-03, 3.25532514e-04, 8.21695547e-04,\n",
              "        6.20747451e-04]], dtype=float32)"
            ]
          },
          "metadata": {},
          "execution_count": 20
        }
      ]
    },
    {
      "cell_type": "code",
      "source": [
        "test_generator.classes"
      ],
      "metadata": {
        "id": "cbxMbryxo31y",
        "colab": {
          "base_uri": "https://localhost:8080/"
        },
        "outputId": "709e1a5f-58fa-404b-90e7-85b6ff49b583"
      },
      "execution_count": 21,
      "outputs": [
        {
          "output_type": "execute_result",
          "data": {
            "text/plain": [
              "array([0, 0, 0, 0, 0, 0, 0, 0, 0, 0, 0, 0, 0, 0, 0, 0, 0, 0, 0, 0, 0, 0,\n",
              "       0, 0, 0, 0, 0, 0, 0, 0, 0, 0, 0, 0, 0, 0, 0, 0, 0, 0, 0, 0, 0, 0,\n",
              "       0, 0, 1, 1, 1, 1, 1, 1, 1, 1, 1, 1, 1, 1, 1, 1, 1, 1, 1, 1, 1, 2,\n",
              "       2, 2, 2, 2, 2, 2, 2, 2, 2, 2, 2, 2, 2, 2, 2, 2, 2, 2, 2, 2, 2, 2,\n",
              "       2, 2, 2, 2, 2, 2, 2, 2, 2, 2, 2, 2, 2, 2, 2, 2, 2, 2, 2, 2, 2, 2,\n",
              "       2, 2, 2, 2, 2, 2, 3, 3, 3, 3, 3, 3, 3, 3, 3, 3, 3, 3, 3, 3, 3, 3,\n",
              "       3, 3, 3, 3, 3, 3, 3, 3, 3, 3, 3, 3, 4, 4, 4, 4, 4, 4, 4, 4, 4, 4,\n",
              "       4, 4, 4, 4, 4, 4, 4, 4], dtype=int32)"
            ]
          },
          "metadata": {},
          "execution_count": 21
        }
      ]
    },
    {
      "cell_type": "code",
      "source": [
        "y_pred"
      ],
      "metadata": {
        "id": "_C6CCDiayO0g",
        "colab": {
          "base_uri": "https://localhost:8080/"
        },
        "outputId": "26e76753-6756-4e9e-c817-9709a61286a6"
      },
      "execution_count": 22,
      "outputs": [
        {
          "output_type": "execute_result",
          "data": {
            "text/plain": [
              "array([0, 3, 1, 2, 0, 0, 3, 3, 2, 2, 0, 1, 4, 0, 1, 2, 0, 2, 0, 4, 0, 0,\n",
              "       3, 2, 2, 2, 4, 4, 3, 0, 2, 3, 1, 3, 2, 2, 1, 3, 0, 0, 3, 2, 2, 3,\n",
              "       0, 0, 0, 1, 3, 2, 2, 1, 2, 0, 0, 2, 1, 0, 2, 0, 3, 0, 2, 3, 1, 3,\n",
              "       3, 0, 0, 4, 4, 2, 3, 2, 3, 2, 0, 2, 2, 2, 2, 0, 1, 2, 2, 2, 4, 0,\n",
              "       0, 0, 0, 4, 1, 2, 4, 3, 0, 1, 0, 0, 2, 3, 2, 4, 0, 2, 4, 4, 2, 4,\n",
              "       4, 3, 3, 2, 4, 3, 1, 1, 0, 2, 2, 4, 2, 0, 3, 2, 1, 0, 3, 2, 2, 0,\n",
              "       1, 3, 2, 2, 2, 1, 0, 0, 0, 0, 2, 0, 3, 0, 4, 0, 1, 3, 2, 2, 2, 0,\n",
              "       2, 2, 0, 0, 0, 0, 3, 0])"
            ]
          },
          "metadata": {},
          "execution_count": 22
        }
      ]
    },
    {
      "cell_type": "code",
      "source": [
        "import plotly.figure_factory as ff\n",
        "\n",
        "y_true = test_generator.classes\n",
        "\n",
        "z = confusion_matrix(y_true, y_pred)\n",
        "\n",
        "x = list(test_generator.class_indices.keys())\n",
        "\n",
        "y = list(test_generator.class_indices.keys())\n"
      ],
      "metadata": {
        "id": "5NOZQOgN_DHU"
      },
      "execution_count": 23,
      "outputs": []
    },
    {
      "cell_type": "code",
      "metadata": {
        "id": "EHxUyHkC1URt",
        "colab": {
          "base_uri": "https://localhost:8080/",
          "height": 542
        },
        "outputId": "7bdb7a14-80a1-41ea-8146-185ffbdf1149"
      },
      "source": [
        "# change each element of z to type string for annotations\n",
        "z_text = [[str(y) for y in x] for x in z]\n",
        "\n",
        "# set up figure \n",
        "fig = ff.create_annotated_heatmap(z, x=x, y=y, annotation_text=z_text, colorscale='Viridis')\n",
        "\n",
        "# add title\n",
        "fig.update_layout(title_text='<i><b>Confusion matrix</b></i>',\n",
        "                  #xaxis = dict(title='x'),\n",
        "                  #yaxis = dict(title='x')\n",
        "                 )\n",
        "\n",
        "# add custom xaxis title\n",
        "fig.add_annotation(dict(font=dict(color=\"black\",size=14),\n",
        "                        x=0.5,\n",
        "                        y=-0.15,\n",
        "                        showarrow=False,\n",
        "                        text=\"Predicted value\",\n",
        "                        xref=\"paper\",\n",
        "                        yref=\"paper\"))\n",
        "\n",
        "# add custom yaxis title\n",
        "fig.add_annotation(dict(font=dict(color=\"black\",size=14),\n",
        "                        x=-0.35,\n",
        "                        y=0.5,\n",
        "                        showarrow=False,\n",
        "                        text=\"Real value\",\n",
        "                        textangle=-90,\n",
        "                        xref=\"paper\",\n",
        "                        yref=\"paper\"))\n",
        "\n",
        "# adjust margins to make room for yaxis title\n",
        "fig.update_layout(margin=dict(t=50, l=200))\n",
        "\n",
        "# add colorbar\n",
        "fig['data'][0]['showscale'] = True\n",
        "fig.show()"
      ],
      "execution_count": 24,
      "outputs": [
        {
          "output_type": "display_data",
          "data": {
            "text/html": [
              "<html>\n",
              "<head><meta charset=\"utf-8\" /></head>\n",
              "<body>\n",
              "    <div>            <script src=\"https://cdnjs.cloudflare.com/ajax/libs/mathjax/2.7.5/MathJax.js?config=TeX-AMS-MML_SVG\"></script><script type=\"text/javascript\">if (window.MathJax) {MathJax.Hub.Config({SVG: {font: \"STIX-Web\"}});}</script>                <script type=\"text/javascript\">window.PlotlyConfig = {MathJaxConfig: 'local'};</script>\n",
              "        <script src=\"https://cdn.plot.ly/plotly-2.8.3.min.js\"></script>                <div id=\"ffb07b3d-5485-4dcf-9a22-960f508dc114\" class=\"plotly-graph-div\" style=\"height:525px; width:100%;\"></div>            <script type=\"text/javascript\">                                    window.PLOTLYENV=window.PLOTLYENV || {};                                    if (document.getElementById(\"ffb07b3d-5485-4dcf-9a22-960f508dc114\")) {                    Plotly.newPlot(                        \"ffb07b3d-5485-4dcf-9a22-960f508dc114\",                        [{\"colorscale\":[[0.0,\"#440154\"],[0.1111111111111111,\"#482878\"],[0.2222222222222222,\"#3e4989\"],[0.3333333333333333,\"#31688e\"],[0.4444444444444444,\"#26828e\"],[0.5555555555555556,\"#1f9e89\"],[0.6666666666666666,\"#35b779\"],[0.7777777777777778,\"#6ece58\"],[0.8888888888888888,\"#b5de2b\"],[1.0,\"#fde725\"]],\"reversescale\":false,\"showscale\":true,\"x\":[\"A-sky\",\"B-pattern\",\"C-thick-dark\",\"D-thick-white\",\"E-veil\"],\"y\":[\"A-sky\",\"B-pattern\",\"C-thick-dark\",\"D-thick-white\",\"E-veil\"],\"z\":[[14,5,13,10,4],[6,4,6,3,0],[12,3,16,9,11],[9,5,10,3,1],[8,1,5,3,1]],\"type\":\"heatmap\"}],                        {\"annotations\":[{\"font\":{\"color\":\"#000000\"},\"showarrow\":false,\"text\":\"14\",\"x\":\"A-sky\",\"xref\":\"x\",\"y\":\"A-sky\",\"yref\":\"y\"},{\"font\":{\"color\":\"#FFFFFF\"},\"showarrow\":false,\"text\":\"5\",\"x\":\"B-pattern\",\"xref\":\"x\",\"y\":\"A-sky\",\"yref\":\"y\"},{\"font\":{\"color\":\"#000000\"},\"showarrow\":false,\"text\":\"13\",\"x\":\"C-thick-dark\",\"xref\":\"x\",\"y\":\"A-sky\",\"yref\":\"y\"},{\"font\":{\"color\":\"#000000\"},\"showarrow\":false,\"text\":\"10\",\"x\":\"D-thick-white\",\"xref\":\"x\",\"y\":\"A-sky\",\"yref\":\"y\"},{\"font\":{\"color\":\"#FFFFFF\"},\"showarrow\":false,\"text\":\"4\",\"x\":\"E-veil\",\"xref\":\"x\",\"y\":\"A-sky\",\"yref\":\"y\"},{\"font\":{\"color\":\"#FFFFFF\"},\"showarrow\":false,\"text\":\"6\",\"x\":\"A-sky\",\"xref\":\"x\",\"y\":\"B-pattern\",\"yref\":\"y\"},{\"font\":{\"color\":\"#FFFFFF\"},\"showarrow\":false,\"text\":\"4\",\"x\":\"B-pattern\",\"xref\":\"x\",\"y\":\"B-pattern\",\"yref\":\"y\"},{\"font\":{\"color\":\"#FFFFFF\"},\"showarrow\":false,\"text\":\"6\",\"x\":\"C-thick-dark\",\"xref\":\"x\",\"y\":\"B-pattern\",\"yref\":\"y\"},{\"font\":{\"color\":\"#FFFFFF\"},\"showarrow\":false,\"text\":\"3\",\"x\":\"D-thick-white\",\"xref\":\"x\",\"y\":\"B-pattern\",\"yref\":\"y\"},{\"font\":{\"color\":\"#FFFFFF\"},\"showarrow\":false,\"text\":\"0\",\"x\":\"E-veil\",\"xref\":\"x\",\"y\":\"B-pattern\",\"yref\":\"y\"},{\"font\":{\"color\":\"#000000\"},\"showarrow\":false,\"text\":\"12\",\"x\":\"A-sky\",\"xref\":\"x\",\"y\":\"C-thick-dark\",\"yref\":\"y\"},{\"font\":{\"color\":\"#FFFFFF\"},\"showarrow\":false,\"text\":\"3\",\"x\":\"B-pattern\",\"xref\":\"x\",\"y\":\"C-thick-dark\",\"yref\":\"y\"},{\"font\":{\"color\":\"#000000\"},\"showarrow\":false,\"text\":\"16\",\"x\":\"C-thick-dark\",\"xref\":\"x\",\"y\":\"C-thick-dark\",\"yref\":\"y\"},{\"font\":{\"color\":\"#000000\"},\"showarrow\":false,\"text\":\"9\",\"x\":\"D-thick-white\",\"xref\":\"x\",\"y\":\"C-thick-dark\",\"yref\":\"y\"},{\"font\":{\"color\":\"#000000\"},\"showarrow\":false,\"text\":\"11\",\"x\":\"E-veil\",\"xref\":\"x\",\"y\":\"C-thick-dark\",\"yref\":\"y\"},{\"font\":{\"color\":\"#000000\"},\"showarrow\":false,\"text\":\"9\",\"x\":\"A-sky\",\"xref\":\"x\",\"y\":\"D-thick-white\",\"yref\":\"y\"},{\"font\":{\"color\":\"#FFFFFF\"},\"showarrow\":false,\"text\":\"5\",\"x\":\"B-pattern\",\"xref\":\"x\",\"y\":\"D-thick-white\",\"yref\":\"y\"},{\"font\":{\"color\":\"#000000\"},\"showarrow\":false,\"text\":\"10\",\"x\":\"C-thick-dark\",\"xref\":\"x\",\"y\":\"D-thick-white\",\"yref\":\"y\"},{\"font\":{\"color\":\"#FFFFFF\"},\"showarrow\":false,\"text\":\"3\",\"x\":\"D-thick-white\",\"xref\":\"x\",\"y\":\"D-thick-white\",\"yref\":\"y\"},{\"font\":{\"color\":\"#FFFFFF\"},\"showarrow\":false,\"text\":\"1\",\"x\":\"E-veil\",\"xref\":\"x\",\"y\":\"D-thick-white\",\"yref\":\"y\"},{\"font\":{\"color\":\"#000000\"},\"showarrow\":false,\"text\":\"8\",\"x\":\"A-sky\",\"xref\":\"x\",\"y\":\"E-veil\",\"yref\":\"y\"},{\"font\":{\"color\":\"#FFFFFF\"},\"showarrow\":false,\"text\":\"1\",\"x\":\"B-pattern\",\"xref\":\"x\",\"y\":\"E-veil\",\"yref\":\"y\"},{\"font\":{\"color\":\"#FFFFFF\"},\"showarrow\":false,\"text\":\"5\",\"x\":\"C-thick-dark\",\"xref\":\"x\",\"y\":\"E-veil\",\"yref\":\"y\"},{\"font\":{\"color\":\"#FFFFFF\"},\"showarrow\":false,\"text\":\"3\",\"x\":\"D-thick-white\",\"xref\":\"x\",\"y\":\"E-veil\",\"yref\":\"y\"},{\"font\":{\"color\":\"#FFFFFF\"},\"showarrow\":false,\"text\":\"1\",\"x\":\"E-veil\",\"xref\":\"x\",\"y\":\"E-veil\",\"yref\":\"y\"},{\"font\":{\"color\":\"black\",\"size\":14},\"showarrow\":false,\"text\":\"Predicted value\",\"x\":0.5,\"xref\":\"paper\",\"y\":-0.15,\"yref\":\"paper\"},{\"font\":{\"color\":\"black\",\"size\":14},\"showarrow\":false,\"text\":\"Real value\",\"textangle\":-90,\"x\":-0.35,\"xref\":\"paper\",\"y\":0.5,\"yref\":\"paper\"}],\"xaxis\":{\"dtick\":1,\"gridcolor\":\"rgb(0, 0, 0)\",\"side\":\"top\",\"ticks\":\"\"},\"yaxis\":{\"dtick\":1,\"ticks\":\"\",\"ticksuffix\":\"  \"},\"template\":{\"data\":{\"bar\":[{\"error_x\":{\"color\":\"#2a3f5f\"},\"error_y\":{\"color\":\"#2a3f5f\"},\"marker\":{\"line\":{\"color\":\"#E5ECF6\",\"width\":0.5},\"pattern\":{\"fillmode\":\"overlay\",\"size\":10,\"solidity\":0.2}},\"type\":\"bar\"}],\"barpolar\":[{\"marker\":{\"line\":{\"color\":\"#E5ECF6\",\"width\":0.5},\"pattern\":{\"fillmode\":\"overlay\",\"size\":10,\"solidity\":0.2}},\"type\":\"barpolar\"}],\"carpet\":[{\"aaxis\":{\"endlinecolor\":\"#2a3f5f\",\"gridcolor\":\"white\",\"linecolor\":\"white\",\"minorgridcolor\":\"white\",\"startlinecolor\":\"#2a3f5f\"},\"baxis\":{\"endlinecolor\":\"#2a3f5f\",\"gridcolor\":\"white\",\"linecolor\":\"white\",\"minorgridcolor\":\"white\",\"startlinecolor\":\"#2a3f5f\"},\"type\":\"carpet\"}],\"choropleth\":[{\"colorbar\":{\"outlinewidth\":0,\"ticks\":\"\"},\"type\":\"choropleth\"}],\"contour\":[{\"colorbar\":{\"outlinewidth\":0,\"ticks\":\"\"},\"colorscale\":[[0.0,\"#0d0887\"],[0.1111111111111111,\"#46039f\"],[0.2222222222222222,\"#7201a8\"],[0.3333333333333333,\"#9c179e\"],[0.4444444444444444,\"#bd3786\"],[0.5555555555555556,\"#d8576b\"],[0.6666666666666666,\"#ed7953\"],[0.7777777777777778,\"#fb9f3a\"],[0.8888888888888888,\"#fdca26\"],[1.0,\"#f0f921\"]],\"type\":\"contour\"}],\"contourcarpet\":[{\"colorbar\":{\"outlinewidth\":0,\"ticks\":\"\"},\"type\":\"contourcarpet\"}],\"heatmap\":[{\"colorbar\":{\"outlinewidth\":0,\"ticks\":\"\"},\"colorscale\":[[0.0,\"#0d0887\"],[0.1111111111111111,\"#46039f\"],[0.2222222222222222,\"#7201a8\"],[0.3333333333333333,\"#9c179e\"],[0.4444444444444444,\"#bd3786\"],[0.5555555555555556,\"#d8576b\"],[0.6666666666666666,\"#ed7953\"],[0.7777777777777778,\"#fb9f3a\"],[0.8888888888888888,\"#fdca26\"],[1.0,\"#f0f921\"]],\"type\":\"heatmap\"}],\"heatmapgl\":[{\"colorbar\":{\"outlinewidth\":0,\"ticks\":\"\"},\"colorscale\":[[0.0,\"#0d0887\"],[0.1111111111111111,\"#46039f\"],[0.2222222222222222,\"#7201a8\"],[0.3333333333333333,\"#9c179e\"],[0.4444444444444444,\"#bd3786\"],[0.5555555555555556,\"#d8576b\"],[0.6666666666666666,\"#ed7953\"],[0.7777777777777778,\"#fb9f3a\"],[0.8888888888888888,\"#fdca26\"],[1.0,\"#f0f921\"]],\"type\":\"heatmapgl\"}],\"histogram\":[{\"marker\":{\"pattern\":{\"fillmode\":\"overlay\",\"size\":10,\"solidity\":0.2}},\"type\":\"histogram\"}],\"histogram2d\":[{\"colorbar\":{\"outlinewidth\":0,\"ticks\":\"\"},\"colorscale\":[[0.0,\"#0d0887\"],[0.1111111111111111,\"#46039f\"],[0.2222222222222222,\"#7201a8\"],[0.3333333333333333,\"#9c179e\"],[0.4444444444444444,\"#bd3786\"],[0.5555555555555556,\"#d8576b\"],[0.6666666666666666,\"#ed7953\"],[0.7777777777777778,\"#fb9f3a\"],[0.8888888888888888,\"#fdca26\"],[1.0,\"#f0f921\"]],\"type\":\"histogram2d\"}],\"histogram2dcontour\":[{\"colorbar\":{\"outlinewidth\":0,\"ticks\":\"\"},\"colorscale\":[[0.0,\"#0d0887\"],[0.1111111111111111,\"#46039f\"],[0.2222222222222222,\"#7201a8\"],[0.3333333333333333,\"#9c179e\"],[0.4444444444444444,\"#bd3786\"],[0.5555555555555556,\"#d8576b\"],[0.6666666666666666,\"#ed7953\"],[0.7777777777777778,\"#fb9f3a\"],[0.8888888888888888,\"#fdca26\"],[1.0,\"#f0f921\"]],\"type\":\"histogram2dcontour\"}],\"mesh3d\":[{\"colorbar\":{\"outlinewidth\":0,\"ticks\":\"\"},\"type\":\"mesh3d\"}],\"parcoords\":[{\"line\":{\"colorbar\":{\"outlinewidth\":0,\"ticks\":\"\"}},\"type\":\"parcoords\"}],\"pie\":[{\"automargin\":true,\"type\":\"pie\"}],\"scatter\":[{\"marker\":{\"colorbar\":{\"outlinewidth\":0,\"ticks\":\"\"}},\"type\":\"scatter\"}],\"scatter3d\":[{\"line\":{\"colorbar\":{\"outlinewidth\":0,\"ticks\":\"\"}},\"marker\":{\"colorbar\":{\"outlinewidth\":0,\"ticks\":\"\"}},\"type\":\"scatter3d\"}],\"scattercarpet\":[{\"marker\":{\"colorbar\":{\"outlinewidth\":0,\"ticks\":\"\"}},\"type\":\"scattercarpet\"}],\"scattergeo\":[{\"marker\":{\"colorbar\":{\"outlinewidth\":0,\"ticks\":\"\"}},\"type\":\"scattergeo\"}],\"scattergl\":[{\"marker\":{\"colorbar\":{\"outlinewidth\":0,\"ticks\":\"\"}},\"type\":\"scattergl\"}],\"scattermapbox\":[{\"marker\":{\"colorbar\":{\"outlinewidth\":0,\"ticks\":\"\"}},\"type\":\"scattermapbox\"}],\"scatterpolar\":[{\"marker\":{\"colorbar\":{\"outlinewidth\":0,\"ticks\":\"\"}},\"type\":\"scatterpolar\"}],\"scatterpolargl\":[{\"marker\":{\"colorbar\":{\"outlinewidth\":0,\"ticks\":\"\"}},\"type\":\"scatterpolargl\"}],\"scatterternary\":[{\"marker\":{\"colorbar\":{\"outlinewidth\":0,\"ticks\":\"\"}},\"type\":\"scatterternary\"}],\"surface\":[{\"colorbar\":{\"outlinewidth\":0,\"ticks\":\"\"},\"colorscale\":[[0.0,\"#0d0887\"],[0.1111111111111111,\"#46039f\"],[0.2222222222222222,\"#7201a8\"],[0.3333333333333333,\"#9c179e\"],[0.4444444444444444,\"#bd3786\"],[0.5555555555555556,\"#d8576b\"],[0.6666666666666666,\"#ed7953\"],[0.7777777777777778,\"#fb9f3a\"],[0.8888888888888888,\"#fdca26\"],[1.0,\"#f0f921\"]],\"type\":\"surface\"}],\"table\":[{\"cells\":{\"fill\":{\"color\":\"#EBF0F8\"},\"line\":{\"color\":\"white\"}},\"header\":{\"fill\":{\"color\":\"#C8D4E3\"},\"line\":{\"color\":\"white\"}},\"type\":\"table\"}]},\"layout\":{\"annotationdefaults\":{\"arrowcolor\":\"#2a3f5f\",\"arrowhead\":0,\"arrowwidth\":1},\"autotypenumbers\":\"strict\",\"coloraxis\":{\"colorbar\":{\"outlinewidth\":0,\"ticks\":\"\"}},\"colorscale\":{\"diverging\":[[0,\"#8e0152\"],[0.1,\"#c51b7d\"],[0.2,\"#de77ae\"],[0.3,\"#f1b6da\"],[0.4,\"#fde0ef\"],[0.5,\"#f7f7f7\"],[0.6,\"#e6f5d0\"],[0.7,\"#b8e186\"],[0.8,\"#7fbc41\"],[0.9,\"#4d9221\"],[1,\"#276419\"]],\"sequential\":[[0.0,\"#0d0887\"],[0.1111111111111111,\"#46039f\"],[0.2222222222222222,\"#7201a8\"],[0.3333333333333333,\"#9c179e\"],[0.4444444444444444,\"#bd3786\"],[0.5555555555555556,\"#d8576b\"],[0.6666666666666666,\"#ed7953\"],[0.7777777777777778,\"#fb9f3a\"],[0.8888888888888888,\"#fdca26\"],[1.0,\"#f0f921\"]],\"sequentialminus\":[[0.0,\"#0d0887\"],[0.1111111111111111,\"#46039f\"],[0.2222222222222222,\"#7201a8\"],[0.3333333333333333,\"#9c179e\"],[0.4444444444444444,\"#bd3786\"],[0.5555555555555556,\"#d8576b\"],[0.6666666666666666,\"#ed7953\"],[0.7777777777777778,\"#fb9f3a\"],[0.8888888888888888,\"#fdca26\"],[1.0,\"#f0f921\"]]},\"colorway\":[\"#636efa\",\"#EF553B\",\"#00cc96\",\"#ab63fa\",\"#FFA15A\",\"#19d3f3\",\"#FF6692\",\"#B6E880\",\"#FF97FF\",\"#FECB52\"],\"font\":{\"color\":\"#2a3f5f\"},\"geo\":{\"bgcolor\":\"white\",\"lakecolor\":\"white\",\"landcolor\":\"#E5ECF6\",\"showlakes\":true,\"showland\":true,\"subunitcolor\":\"white\"},\"hoverlabel\":{\"align\":\"left\"},\"hovermode\":\"closest\",\"mapbox\":{\"style\":\"light\"},\"paper_bgcolor\":\"white\",\"plot_bgcolor\":\"#E5ECF6\",\"polar\":{\"angularaxis\":{\"gridcolor\":\"white\",\"linecolor\":\"white\",\"ticks\":\"\"},\"bgcolor\":\"#E5ECF6\",\"radialaxis\":{\"gridcolor\":\"white\",\"linecolor\":\"white\",\"ticks\":\"\"}},\"scene\":{\"xaxis\":{\"backgroundcolor\":\"#E5ECF6\",\"gridcolor\":\"white\",\"gridwidth\":2,\"linecolor\":\"white\",\"showbackground\":true,\"ticks\":\"\",\"zerolinecolor\":\"white\"},\"yaxis\":{\"backgroundcolor\":\"#E5ECF6\",\"gridcolor\":\"white\",\"gridwidth\":2,\"linecolor\":\"white\",\"showbackground\":true,\"ticks\":\"\",\"zerolinecolor\":\"white\"},\"zaxis\":{\"backgroundcolor\":\"#E5ECF6\",\"gridcolor\":\"white\",\"gridwidth\":2,\"linecolor\":\"white\",\"showbackground\":true,\"ticks\":\"\",\"zerolinecolor\":\"white\"}},\"shapedefaults\":{\"line\":{\"color\":\"#2a3f5f\"}},\"ternary\":{\"aaxis\":{\"gridcolor\":\"white\",\"linecolor\":\"white\",\"ticks\":\"\"},\"baxis\":{\"gridcolor\":\"white\",\"linecolor\":\"white\",\"ticks\":\"\"},\"bgcolor\":\"#E5ECF6\",\"caxis\":{\"gridcolor\":\"white\",\"linecolor\":\"white\",\"ticks\":\"\"}},\"title\":{\"x\":0.05},\"xaxis\":{\"automargin\":true,\"gridcolor\":\"white\",\"linecolor\":\"white\",\"ticks\":\"\",\"title\":{\"standoff\":15},\"zerolinecolor\":\"white\",\"zerolinewidth\":2},\"yaxis\":{\"automargin\":true,\"gridcolor\":\"white\",\"linecolor\":\"white\",\"ticks\":\"\",\"title\":{\"standoff\":15},\"zerolinecolor\":\"white\",\"zerolinewidth\":2}}},\"title\":{\"text\":\"<i><b>Confusion matrix</b></i>\"},\"margin\":{\"t\":50,\"l\":200}},                        {\"responsive\": true}                    ).then(function(){\n",
              "                            \n",
              "var gd = document.getElementById('ffb07b3d-5485-4dcf-9a22-960f508dc114');\n",
              "var x = new MutationObserver(function (mutations, observer) {{\n",
              "        var display = window.getComputedStyle(gd).display;\n",
              "        if (!display || display === 'none') {{\n",
              "            console.log([gd, 'removed!']);\n",
              "            Plotly.purge(gd);\n",
              "            observer.disconnect();\n",
              "        }}\n",
              "}});\n",
              "\n",
              "// Listen for the removal of the full notebook cells\n",
              "var notebookContainer = gd.closest('#notebook-container');\n",
              "if (notebookContainer) {{\n",
              "    x.observe(notebookContainer, {childList: true});\n",
              "}}\n",
              "\n",
              "// Listen for the clearing of the current output cell\n",
              "var outputEl = gd.closest('.output');\n",
              "if (outputEl) {{\n",
              "    x.observe(outputEl, {childList: true});\n",
              "}}\n",
              "\n",
              "                        })                };                            </script>        </div>\n",
              "</body>\n",
              "</html>"
            ]
          },
          "metadata": {}
        }
      ]
    }
  ]
}