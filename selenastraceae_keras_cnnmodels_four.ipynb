{
  "nbformat": 4,
  "nbformat_minor": 0,
  "metadata": {
    "kernelspec": {
      "display_name": "Python 3",
      "language": "python",
      "name": "python3"
    },
    "language_info": {
      "codemirror_mode": {
        "name": "ipython",
        "version": 3
      },
      "file_extension": ".py",
      "mimetype": "text/x-python",
      "name": "python",
      "nbconvert_exporter": "python",
      "pygments_lexer": "ipython3",
      "version": "3.6.10"
    },
    "colab": {
      "name": "selenastraceae_keras_cnnmodels.ipynb",
      "provenance": [],
      "collapsed_sections": [],
      "include_colab_link": true
    },
    "accelerator": "GPU"
  },
  "cells": [
    {
      "cell_type": "markdown",
      "metadata": {
        "id": "view-in-github",
        "colab_type": "text"
      },
      "source": [
        "<a href=\"https://colab.research.google.com/github/viniciusrpb/cloud_image_segmentation/blob/main/selenastraceae_keras_cnnmodels_four.ipynb\" target=\"_parent\"><img src=\"https://colab.research.google.com/assets/colab-badge.svg\" alt=\"Open In Colab\"/></a>"
      ]
    },
    {
      "cell_type": "code",
      "metadata": {
        "id": "Lf68PvvD_GXN"
      },
      "source": [
        "#from google.colab import drive\n",
        "#drive.mount('/content/drive')"
      ],
      "execution_count": 1,
      "outputs": []
    },
    {
      "cell_type": "markdown",
      "source": [
        "# New Section"
      ],
      "metadata": {
        "id": "uSEdHGn26Hzg"
      }
    },
    {
      "cell_type": "code",
      "metadata": {
        "id": "6o0SMmf8z9qD"
      },
      "source": [
        "#!pip install tensorflow_addons"
      ],
      "execution_count": 2,
      "outputs": []
    },
    {
      "cell_type": "code",
      "metadata": {
        "id": "voJBV5X_g0B6"
      },
      "source": [
        "#!cp -r \"/content/drive/My Drive/alga/aug_roi_train_bin\" \"aug_roi_train_bin\"\n",
        "#!cp -r \"/content/drive/My Drive/alga/roi_validation_bin\" \"roi_validation_bin\"\n",
        "#!cp -r \"/content/drive/My Drive/alga/roi_test_bin\" \"roi_test_bin\"\n",
        "#!cp -r \"/content/drive/My Drive/alga/roi_train_bin\" \"roi_train_bin\"\n",
        "\n",
        "#!cp -r \"/content/drive/My Drive/alga/aug_roi_train\" \"aug_roi_train\"\n",
        "#!cp -r \"/content/drive/My Drive/alga/roi_validation\" \"roi_validation\"\n",
        "#!cp -r \"/content/drive/My Drive/alga/roi_test\" \"roi_test\"\n",
        "#!cp -r \"/content/drive/My Drive/alga/roi_train\" \"roi_train\"\n",
        "\n",
        "#!cp -r \"/content/drive/My Drive/alga/aug_roi_train\" \"aug_roi_train\"\n",
        "#!cp -r \"/content/drive/My Drive/alga/roi_validation_four\" \"roi_validation_four\"\n",
        "#!cp -r \"/content/drive/My Drive/alga/roi_test_four\" \"roi_test_four\"\n",
        "#!cp -r \"/content/drive/My Drive/alga/roi_train_four\" \"roi_train_four\""
      ],
      "execution_count": 3,
      "outputs": []
    },
    {
      "cell_type": "code",
      "metadata": {
        "id": "W384maMHy7Yc"
      },
      "source": [
        "import tensorflow as tf\n",
        "from tensorflow.keras.optimizers import RMSprop\n",
        "from tensorflow.keras.preprocessing.image import ImageDataGenerator\n",
        "from keras.layers import Dense,GlobalAveragePooling2D ,MaxPooling2D,Activation,Flatten,Conv2D,BatchNormalization,Dropout\n",
        "from tensorflow.keras import layers\n",
        "from tensorflow.keras import Model\n",
        "from keras.models import Sequential\n",
        "from tensorflow.keras.optimizers import SGD\n",
        "import matplotlib.pyplot as plt\n",
        "from sklearn.metrics import classification_report\n",
        "from sklearn.metrics import confusion_matrix\n",
        "import numpy as np\n",
        "import tensorflow_addons as tfa"
      ],
      "execution_count": 4,
      "outputs": []
    },
    {
      "cell_type": "code",
      "metadata": {
        "id": "ThJjNtJBi900"
      },
      "source": [
        "path_train = 'roi_train_four'\n",
        "path_validation = 'roi_validation_four'\n",
        "path_test = 'roi_test_four'"
      ],
      "execution_count": 5,
      "outputs": []
    },
    {
      "cell_type": "markdown",
      "metadata": {
        "id": "3-0nc-LxNSF2"
      },
      "source": [
        "# Pretrained GoogLeNet model using ImageNet\n"
      ]
    },
    {
      "cell_type": "code",
      "metadata": {
        "id": "yWx2apyg_GXQ"
      },
      "source": [
        "from tensorflow.keras.applications.inception_v3 import InceptionV3\n",
        "\n",
        "pre_trained_model = InceptionV3(input_shape=(224,224,3),include_top=False,weights='imagenet')\n",
        "\n",
        "for layer in pre_trained_model.layers:\n",
        "  layer.trainable = False"
      ],
      "execution_count": 6,
      "outputs": []
    },
    {
      "cell_type": "markdown",
      "metadata": {
        "id": "Q8ZNyeF4v9FL"
      },
      "source": [
        "Hyperparameters"
      ]
    },
    {
      "cell_type": "code",
      "metadata": {
        "id": "js1kaBFGv9MD"
      },
      "source": [
        "batch_size = 8\n",
        "epochs=30"
      ],
      "execution_count": 7,
      "outputs": []
    },
    {
      "cell_type": "markdown",
      "metadata": {
        "id": "sHw1dYWP_GXV"
      },
      "source": [
        "### Data augmentation"
      ]
    },
    {
      "cell_type": "code",
      "metadata": {
        "id": "qh3pPvvDzvEq"
      },
      "source": [
        "train_datagen = ImageDataGenerator(rescale=1. / 255)\n",
        "\n",
        "validation_datagen = ImageDataGenerator(rescale=1. / 255)\n",
        "\n",
        "test_datagen = ImageDataGenerator(rescale=1. / 255)"
      ],
      "execution_count": 8,
      "outputs": []
    },
    {
      "cell_type": "markdown",
      "metadata": {
        "id": "mfA7Ta99wW_a"
      },
      "source": [
        "Read the images"
      ]
    },
    {
      "cell_type": "code",
      "metadata": {
        "colab": {
          "base_uri": "https://localhost:8080/"
        },
        "id": "c5Fpl71WwXGa",
        "outputId": "6cc46509-bb10-4b86-d8ba-6daae93b6f76"
      },
      "source": [
        "# Flow training images in batches of 20 using train_datagen generator\n",
        "train_generator = train_datagen.flow_from_directory(path_train,\n",
        "                                                    batch_size = batch_size,\n",
        "                                                    class_mode = 'categorical', \n",
        "                                                    target_size = (224, 224))     \n",
        "\n",
        "# Flow validation images in batches of 20 using test_datagen generator\n",
        "validation_generator =  validation_datagen.flow_from_directory( path_validation,\n",
        "                                                          batch_size  = batch_size,\n",
        "                                                          class_mode  = 'categorical', \n",
        "                                                          target_size = (224, 224))\n",
        "\n",
        "test_generator =  test_datagen.flow_from_directory( path_test,\n",
        "                                                          batch_size  = batch_size,\n",
        "                                                          class_mode  = 'categorical', \n",
        "                                                          target_size = (224, 224))"
      ],
      "execution_count": 9,
      "outputs": [
        {
          "output_type": "stream",
          "name": "stdout",
          "text": [
            "Found 103 images belonging to 4 classes.\n",
            "Found 22 images belonging to 4 classes.\n",
            "Found 54 images belonging to 4 classes.\n"
          ]
        }
      ]
    },
    {
      "cell_type": "markdown",
      "metadata": {
        "id": "JV5TTVwGtY1p"
      },
      "source": [
        "Hyper-parameters"
      ]
    },
    {
      "cell_type": "code",
      "metadata": {
        "id": "fcNysNaZtY74"
      },
      "source": [
        "number_of_neurons = 200\n",
        "number_of_classes = validation_generator.class_indices"
      ],
      "execution_count": 10,
      "outputs": []
    },
    {
      "cell_type": "markdown",
      "metadata": {
        "id": "Qh_m54z-5VW8"
      },
      "source": [
        "Lets see some samples"
      ]
    },
    {
      "cell_type": "code",
      "metadata": {
        "id": "mDvSxorK_GXV"
      },
      "source": [
        "model = Sequential()\n",
        "\n",
        "model.add(pre_trained_model)\n",
        "\n",
        "model.add(GlobalAveragePooling2D())\n",
        "model.add(Flatten())\n",
        "#model.add(BatchNormalization())\n",
        "\n",
        "# 1st hidden layer: 300 neurons\n",
        "#model.add(Dense(number_of_neurons,activation=\"relu\"))\n",
        "#model.add(Dropout(0.2))\n",
        "\n",
        "# 2nd hidden layer : 150 neurons\n",
        "model.add(Dense(number_of_neurons,activation=\"relu\"))\n",
        "model.add(BatchNormalization())\n",
        "model.add(Dropout(0.2))\n",
        "\n",
        "# 3rd hidden layer : 75 neurons\n",
        "#model.add(Dense(number_of_neurons//2,activation=\"relu\"))\n",
        "#model.add(BatchNormalization())\n",
        "#model.add(Dropout(0.2))\n",
        "\n",
        "model.add(Dense(4,activation=\"softmax\"))"
      ],
      "execution_count": 11,
      "outputs": []
    },
    {
      "cell_type": "code",
      "metadata": {
        "id": "sqeVzAQhsj6i"
      },
      "source": [
        "#sgd = SGD(learning_rate=0.001,decay=1e-6,  nesterov=True)\n",
        "\n",
        "f1_score = tfa.metrics.F1Score(num_classes=4, average='macro',threshold=0.5)\n",
        "\n",
        "#model.compile(optimizer = sgd, \n",
        "#              loss = 'categorical_crossentropy', \n",
        "#              metrics = 'accuracy')\n",
        "            #metrics = ['accuracy',f1_score])\n",
        "\n",
        "model.compile(optimizer = tf.keras.optimizers.Adam(learning_rate=0.0005,decay=0.01), \n",
        "              loss = 'categorical_crossentropy', \n",
        "              metrics = ['accuracy',f1_score])\n",
        "            #metrics = ['accuracy',f1_score])"
      ],
      "execution_count": 12,
      "outputs": []
    },
    {
      "cell_type": "code",
      "metadata": {
        "id": "c9zT6oaF_GXX",
        "colab": {
          "base_uri": "https://localhost:8080/"
        },
        "outputId": "2b00d20b-4bda-4f22-a951-39f3b2dd7618"
      },
      "source": [
        "history_fine = model.fit(train_generator,\n",
        "                         epochs=epochs,\n",
        "                         validation_data=validation_generator\n",
        "                         #initial_epoch=history.epoch[-1],\n",
        "                         )"
      ],
      "execution_count": 13,
      "outputs": [
        {
          "output_type": "stream",
          "name": "stdout",
          "text": [
            "Epoch 1/30\n",
            "13/13 [==============================] - 20s 389ms/step - loss: 1.0782 - accuracy: 0.5631 - f1_score: 0.4627 - val_loss: 0.6684 - val_accuracy: 0.7727 - val_f1_score: 0.6228\n",
            "Epoch 2/30\n",
            "13/13 [==============================] - 1s 92ms/step - loss: 0.3969 - accuracy: 0.8350 - f1_score: 0.8318 - val_loss: 0.7272 - val_accuracy: 0.9091 - val_f1_score: 0.8429\n",
            "Epoch 3/30\n",
            "13/13 [==============================] - 1s 93ms/step - loss: 0.2121 - accuracy: 0.9612 - f1_score: 0.9497 - val_loss: 0.7328 - val_accuracy: 0.8636 - val_f1_score: 0.7833\n",
            "Epoch 4/30\n",
            "13/13 [==============================] - 1s 93ms/step - loss: 0.2363 - accuracy: 0.9126 - f1_score: 0.9052 - val_loss: 0.6333 - val_accuracy: 0.9091 - val_f1_score: 0.8210\n",
            "Epoch 5/30\n",
            "13/13 [==============================] - 1s 92ms/step - loss: 0.2455 - accuracy: 0.9320 - f1_score: 0.9132 - val_loss: 0.6146 - val_accuracy: 0.8182 - val_f1_score: 0.7861\n",
            "Epoch 6/30\n",
            "13/13 [==============================] - 1s 94ms/step - loss: 0.1344 - accuracy: 0.9806 - f1_score: 0.9758 - val_loss: 0.5902 - val_accuracy: 0.8182 - val_f1_score: 0.7861\n",
            "Epoch 7/30\n",
            "13/13 [==============================] - 1s 91ms/step - loss: 0.1277 - accuracy: 0.9515 - f1_score: 0.9568 - val_loss: 0.5915 - val_accuracy: 0.8636 - val_f1_score: 0.8627\n",
            "Epoch 8/30\n",
            "13/13 [==============================] - 1s 94ms/step - loss: 0.0911 - accuracy: 0.9903 - f1_score: 0.9888 - val_loss: 0.5755 - val_accuracy: 0.9091 - val_f1_score: 0.8627\n",
            "Epoch 9/30\n",
            "13/13 [==============================] - 1s 92ms/step - loss: 0.0994 - accuracy: 0.9806 - f1_score: 0.9789 - val_loss: 0.6050 - val_accuracy: 0.9091 - val_f1_score: 0.9330\n",
            "Epoch 10/30\n",
            "13/13 [==============================] - 1s 91ms/step - loss: 0.0680 - accuracy: 0.9903 - f1_score: 0.9979 - val_loss: 0.5892 - val_accuracy: 0.9091 - val_f1_score: 0.9330\n",
            "Epoch 11/30\n",
            "13/13 [==============================] - 1s 91ms/step - loss: 0.0352 - accuracy: 1.0000 - f1_score: 1.0000 - val_loss: 0.5739 - val_accuracy: 0.9091 - val_f1_score: 0.9330\n",
            "Epoch 12/30\n",
            "13/13 [==============================] - 1s 92ms/step - loss: 0.0268 - accuracy: 1.0000 - f1_score: 1.0000 - val_loss: 0.5755 - val_accuracy: 0.9091 - val_f1_score: 0.9330\n",
            "Epoch 13/30\n",
            "13/13 [==============================] - 1s 93ms/step - loss: 0.0327 - accuracy: 1.0000 - f1_score: 1.0000 - val_loss: 0.5954 - val_accuracy: 0.9091 - val_f1_score: 0.8854\n",
            "Epoch 14/30\n",
            "13/13 [==============================] - 1s 91ms/step - loss: 0.0386 - accuracy: 0.9903 - f1_score: 0.9979 - val_loss: 0.6006 - val_accuracy: 0.9091 - val_f1_score: 0.9330\n",
            "Epoch 15/30\n",
            "13/13 [==============================] - 1s 91ms/step - loss: 0.0559 - accuracy: 1.0000 - f1_score: 1.0000 - val_loss: 0.6466 - val_accuracy: 0.9091 - val_f1_score: 0.8854\n",
            "Epoch 16/30\n",
            "13/13 [==============================] - 1s 91ms/step - loss: 0.0399 - accuracy: 1.0000 - f1_score: 1.0000 - val_loss: 0.6628 - val_accuracy: 0.9091 - val_f1_score: 0.8854\n",
            "Epoch 17/30\n",
            "13/13 [==============================] - 1s 91ms/step - loss: 0.0641 - accuracy: 0.9903 - f1_score: 0.9958 - val_loss: 0.6247 - val_accuracy: 0.9091 - val_f1_score: 0.8854\n",
            "Epoch 18/30\n",
            "13/13 [==============================] - 1s 94ms/step - loss: 0.0399 - accuracy: 1.0000 - f1_score: 0.9979 - val_loss: 0.6148 - val_accuracy: 0.9091 - val_f1_score: 0.8854\n",
            "Epoch 19/30\n",
            "13/13 [==============================] - 1s 92ms/step - loss: 0.0259 - accuracy: 1.0000 - f1_score: 1.0000 - val_loss: 0.6345 - val_accuracy: 0.9091 - val_f1_score: 0.8627\n",
            "Epoch 20/30\n",
            "13/13 [==============================] - 1s 92ms/step - loss: 0.0631 - accuracy: 1.0000 - f1_score: 0.9979 - val_loss: 0.6477 - val_accuracy: 0.8636 - val_f1_score: 0.8627\n",
            "Epoch 21/30\n",
            "13/13 [==============================] - 1s 90ms/step - loss: 0.0350 - accuracy: 1.0000 - f1_score: 0.9979 - val_loss: 0.6790 - val_accuracy: 0.8636 - val_f1_score: 0.8627\n",
            "Epoch 22/30\n",
            "13/13 [==============================] - 1s 94ms/step - loss: 0.0281 - accuracy: 1.0000 - f1_score: 1.0000 - val_loss: 0.6856 - val_accuracy: 0.8636 - val_f1_score: 0.8627\n",
            "Epoch 23/30\n",
            "13/13 [==============================] - 1s 91ms/step - loss: 0.0496 - accuracy: 1.0000 - f1_score: 1.0000 - val_loss: 0.6681 - val_accuracy: 0.8636 - val_f1_score: 0.8627\n",
            "Epoch 24/30\n",
            "13/13 [==============================] - 1s 92ms/step - loss: 0.0539 - accuracy: 0.9903 - f1_score: 0.9912 - val_loss: 0.7013 - val_accuracy: 0.8636 - val_f1_score: 0.8627\n",
            "Epoch 25/30\n",
            "13/13 [==============================] - 1s 91ms/step - loss: 0.0239 - accuracy: 1.0000 - f1_score: 1.0000 - val_loss: 0.7507 - val_accuracy: 0.8636 - val_f1_score: 0.8627\n",
            "Epoch 26/30\n",
            "13/13 [==============================] - 1s 91ms/step - loss: 0.0346 - accuracy: 1.0000 - f1_score: 1.0000 - val_loss: 0.7534 - val_accuracy: 0.8636 - val_f1_score: 0.8627\n",
            "Epoch 27/30\n",
            "13/13 [==============================] - 1s 92ms/step - loss: 0.0409 - accuracy: 1.0000 - f1_score: 0.9958 - val_loss: 0.7541 - val_accuracy: 0.8636 - val_f1_score: 0.8438\n",
            "Epoch 28/30\n",
            "13/13 [==============================] - 1s 91ms/step - loss: 0.0227 - accuracy: 1.0000 - f1_score: 1.0000 - val_loss: 0.7416 - val_accuracy: 0.8636 - val_f1_score: 0.8627\n",
            "Epoch 29/30\n",
            "13/13 [==============================] - 1s 90ms/step - loss: 0.1319 - accuracy: 0.9515 - f1_score: 0.9790 - val_loss: 0.7444 - val_accuracy: 0.8182 - val_f1_score: 0.7771\n",
            "Epoch 30/30\n",
            "13/13 [==============================] - 1s 93ms/step - loss: 0.0488 - accuracy: 1.0000 - f1_score: 0.9979 - val_loss: 0.7604 - val_accuracy: 0.8182 - val_f1_score: 0.8021\n"
          ]
        }
      ]
    },
    {
      "cell_type": "code",
      "metadata": {
        "id": "1WFZwVEg_GXb"
      },
      "source": [
        "#f1 = history_fine.history['f1_score']\n",
        "#val_f1 = history_fine.history['val_f1_score']\n",
        "\n",
        "#plt.figure(figsize=(8, 8))\n",
        "#plt.subplot(2, 1, 1)\n",
        "#plt.plot(f1, label='Training F1-Score')\n",
        "#plt.plot(val_f1, label='Validation F1-Score')\n",
        "#plt.legend(loc='lower right')\n",
        "#plt.ylabel('F1-Score')\n",
        "#plt.ylim([min(plt.ylim()),1])\n",
        "#plt.title('Training and Validation F1-Score')\n"
      ],
      "execution_count": 14,
      "outputs": []
    },
    {
      "cell_type": "code",
      "source": [
        "f1 = history_fine.history['accuracy']\n",
        "val_f1 = history_fine.history['val_accuracy']\n",
        "\n",
        "plt.figure(figsize=(8, 8))\n",
        "plt.subplot(2, 1, 1)\n",
        "plt.plot(f1, label='Training F1-Score')\n",
        "plt.plot(val_f1, label='Validation F1-Score')\n",
        "plt.legend(loc='lower right')\n",
        "plt.ylabel('F1-Score')\n",
        "plt.ylim([min(plt.ylim()),1])\n",
        "plt.title('Training and Validation F1-Score')\n"
      ],
      "metadata": {
        "colab": {
          "base_uri": "https://localhost:8080/",
          "height": 279
        },
        "id": "fOSIrhK5g1ZF",
        "outputId": "ea6487e8-f93a-42ca-e5fd-d46a424b81de"
      },
      "execution_count": 15,
      "outputs": [
        {
          "output_type": "execute_result",
          "data": {
            "text/plain": [
              "Text(0.5, 1.0, 'Training and Validation F1-Score')"
            ]
          },
          "metadata": {},
          "execution_count": 15
        },
        {
          "output_type": "display_data",
          "data": {
            "text/plain": [
              "<Figure size 576x576 with 1 Axes>"
            ],
            "image/png": "[encoded data removed]"
          },
          "metadata": {
            "needs_background": "light"
          }
        }
      ]
    },
    {
      "cell_type": "code",
      "metadata": {
        "id": "Q8ENVvZSrKrS",
        "colab": {
          "base_uri": "https://localhost:8080/",
          "height": 295
        },
        "outputId": "dd874582-fe54-462a-cdf6-bea5c4717f0f"
      },
      "source": [
        "loss = history_fine.history['loss']\n",
        "val_loss = history_fine.history['val_loss']\n",
        "\n",
        "plt.plot(history_fine.history['loss'])\n",
        "plt.plot(history_fine.history['val_loss'])\n",
        "plt.title('model loss')\n",
        "plt.ylabel('loss')\n",
        "plt.xlabel('epoch')\n",
        "plt.legend(['training set', 'validation set'], loc='upper left')\n",
        "plt.show()"
      ],
      "execution_count": 16,
      "outputs": [
        {
          "output_type": "display_data",
          "data": {
            "text/plain": [
              "<Figure size 432x288 with 1 Axes>"
            ],
            "image/png": "[encoded data removed]"
          },
          "metadata": {
            "needs_background": "light"
          }
        }
      ]
    },
    {
      "cell_type": "code",
      "source": [
        "score = model.evaluate(test_generator,batch_size=batch_size) \n",
        "print(f'Test loss: {score[0]} / Test accuracy: {score[1]}')"
      ],
      "metadata": {
        "colab": {
          "base_uri": "https://localhost:8080/"
        },
        "id": "g2VR_adbrsUp",
        "outputId": "8ea32799-4043-43ce-b974-10e8098b5f63"
      },
      "execution_count": 17,
      "outputs": [
        {
          "output_type": "stream",
          "name": "stdout",
          "text": [
            "7/7 [==============================] - 1s 85ms/step - loss: 0.4814 - accuracy: 0.8148 - f1_score: 0.7909\n",
            "Test loss: 0.48143917322158813 / Test accuracy: 0.8148148059844971\n"
          ]
        }
      ]
    },
    {
      "cell_type": "code",
      "source": [
        ""
      ],
      "metadata": {
        "id": "mxFnz7J7NY1Z"
      },
      "execution_count": 17,
      "outputs": []
    },
    {
      "cell_type": "markdown",
      "metadata": {
        "id": "zFraRq9i9FNA"
      },
      "source": [
        ""
      ]
    },
    {
      "cell_type": "code",
      "metadata": {
        "id": "RXFG_Bn19FTX",
        "colab": {
          "base_uri": "https://localhost:8080/"
        },
        "outputId": "b715cf18-d254-41fb-9bd7-951fa49bff03"
      },
      "source": [
        "#y_prob = model.predict(test_generator,batch_size=batch_size)\n",
        "#y_pred = np.argmax(y_prob,axis=1)\n",
        "\n",
        "y_prob = model.predict(test_generator)\n",
        "y_pred = np.argmax(y_prob,axis=1)\n",
        "#print(pred, labels[np.argmax(pred)])\n",
        "print(classification_report(test_generator.classes,y_pred))"
      ],
      "execution_count": 18,
      "outputs": [
        {
          "output_type": "stream",
          "name": "stdout",
          "text": [
            "              precision    recall  f1-score   support\n",
            "\n",
            "           0       0.33      0.29      0.31        17\n",
            "           1       0.17      0.15      0.16        13\n",
            "           2       0.08      0.10      0.09        10\n",
            "           3       0.40      0.43      0.41        14\n",
            "\n",
            "    accuracy                           0.26        54\n",
            "   macro avg       0.25      0.24      0.24        54\n",
            "weighted avg       0.26      0.26      0.26        54\n",
            "\n"
          ]
        }
      ]
    },
    {
      "cell_type": "code",
      "source": [
        "y_prob"
      ],
      "metadata": {
        "colab": {
          "base_uri": "https://localhost:8080/"
        },
        "id": "0gCeN5zQyylW",
        "outputId": "bab5fad6-c89b-4fb3-c035-86a6a7a254ab"
      },
      "execution_count": 19,
      "outputs": [
        {
          "output_type": "execute_result",
          "data": {
            "text/plain": [
              "array([[2.90383309e-01, 6.38255417e-01, 4.86529246e-02, 2.27083359e-02],\n",
              "       [7.62009760e-03, 5.96012920e-03, 1.02765083e-01, 8.83654773e-01],\n",
              "       [2.88490988e-02, 9.68097568e-01, 3.05222557e-03, 1.12394571e-06],\n",
              "       [7.48212857e-04, 9.97079372e-01, 2.17103097e-03, 1.42618785e-06],\n",
              "       [9.84504938e-01, 1.32219987e-02, 2.25572661e-03, 1.73521712e-05],\n",
              "       [7.35345840e-01, 2.40466118e-01, 2.41852459e-02, 2.79980873e-06],\n",
              "       [8.17543030e-01, 7.81513937e-03, 1.17171812e-03, 1.73470080e-01],\n",
              "       [1.99439183e-01, 1.44651741e-01, 5.48896372e-01, 1.07012711e-01],\n",
              "       [1.45107517e-02, 8.44511524e-05, 9.23982203e-01, 6.14226237e-02],\n",
              "       [5.44742972e-04, 2.36169566e-04, 4.41552431e-04, 9.98777449e-01],\n",
              "       [1.77000661e-03, 6.20349369e-04, 1.25665439e-03, 9.96353030e-01],\n",
              "       [4.15531278e-04, 9.92839217e-01, 6.74383808e-03, 1.33069068e-06],\n",
              "       [6.80240511e-04, 7.16816518e-04, 9.98601973e-01, 9.14529039e-07],\n",
              "       [5.18442333e-01, 3.33533585e-01, 1.44030824e-01, 3.99326114e-03],\n",
              "       [1.77164245e-02, 7.94168096e-03, 9.73803818e-01, 5.38102235e-04],\n",
              "       [6.90650582e-01, 1.82113484e-01, 1.27234668e-01, 1.24420274e-06],\n",
              "       [2.14491487e-02, 9.77456868e-01, 1.09349133e-03, 5.00130454e-07],\n",
              "       [1.01476733e-03, 9.92636681e-01, 6.34561107e-03, 2.85678561e-06],\n",
              "       [2.54465520e-01, 1.49151549e-01, 5.91076314e-01, 5.30664157e-03],\n",
              "       [4.18458181e-03, 8.91388766e-03, 9.86901462e-01, 6.62932180e-08],\n",
              "       [9.89802778e-01, 7.36264233e-03, 2.74938764e-03, 8.51873629e-05],\n",
              "       [4.19485234e-02, 1.19755678e-02, 9.25582945e-01, 2.04929989e-02],\n",
              "       [2.70064503e-01, 6.24593556e-01, 1.01888821e-01, 3.45315575e-03],\n",
              "       [2.78482493e-03, 3.68719213e-02, 9.60342824e-01, 4.16142768e-07],\n",
              "       [1.75547630e-01, 1.19675426e-02, 2.60487199e-02, 7.86436021e-01],\n",
              "       [4.16265015e-04, 1.53414905e-04, 9.99430120e-01, 1.62097365e-07],\n",
              "       [1.79427508e-02, 3.22072138e-03, 9.78836477e-01, 1.16602070e-08],\n",
              "       [6.50893569e-01, 1.61122516e-01, 1.76584929e-01, 1.13990242e-02],\n",
              "       [8.08016062e-01, 1.49089783e-01, 3.01588550e-02, 1.27352960e-02],\n",
              "       [1.15968548e-01, 8.48055929e-02, 3.07094187e-01, 4.92131680e-01],\n",
              "       [2.92238733e-03, 4.99713176e-04, 9.96575892e-01, 1.97907548e-06],\n",
              "       [4.58318827e-05, 9.99939322e-01, 1.48502440e-05, 1.49581814e-09],\n",
              "       [5.35901487e-01, 4.03729498e-01, 6.03601672e-02, 8.86212365e-06],\n",
              "       [3.40798229e-04, 1.93698521e-04, 1.85244149e-04, 9.99280274e-01],\n",
              "       [1.16077927e-03, 6.36953861e-04, 1.10023387e-03, 9.97102082e-01],\n",
              "       [2.07064120e-04, 2.96074222e-03, 8.90408235e-04, 9.95941699e-01],\n",
              "       [9.27669048e-01, 2.83839442e-02, 4.38524038e-02, 9.45598513e-05],\n",
              "       [4.29332703e-01, 2.55331725e-01, 3.15289587e-01, 4.59841212e-05],\n",
              "       [1.28824916e-03, 2.37427957e-04, 1.77089241e-03, 9.96703446e-01],\n",
              "       [4.83535051e-01, 1.02661602e-01, 4.13424700e-01, 3.78653378e-04],\n",
              "       [6.29729688e-01, 2.90771257e-02, 3.41136813e-01, 5.63301801e-05],\n",
              "       [7.24788249e-01, 1.51357234e-01, 1.22781828e-01, 1.07267743e-03],\n",
              "       [9.34193376e-03, 1.74073514e-03, 9.88915026e-01, 2.38829830e-06],\n",
              "       [6.57195738e-03, 5.20417187e-03, 2.22349167e-02, 9.65988994e-01],\n",
              "       [2.52294242e-01, 2.11298674e-01, 5.32821901e-02, 4.83124912e-01],\n",
              "       [6.32619136e-04, 9.03451408e-04, 8.25224328e-04, 9.97638702e-01],\n",
              "       [3.57826263e-01, 4.38825071e-01, 8.72028172e-02, 1.16145864e-01],\n",
              "       [1.22543219e-02, 3.48073244e-03, 3.83279435e-02, 9.45936978e-01],\n",
              "       [1.30096927e-01, 7.17973590e-01, 1.48395121e-01, 3.53440735e-03],\n",
              "       [3.83708277e-03, 9.75250006e-01, 2.05829497e-02, 3.29872943e-04],\n",
              "       [6.36998098e-04, 1.87878424e-04, 2.53926672e-04, 9.98921275e-01],\n",
              "       [1.36122197e-01, 7.16493502e-02, 3.38744894e-02, 7.58353949e-01],\n",
              "       [4.46176767e-01, 4.21637386e-01, 1.32172167e-01, 1.36950957e-05],\n",
              "       [1.76992849e-03, 9.97966647e-01, 2.63523863e-04, 1.45708656e-09]],\n",
              "      dtype=float32)"
            ]
          },
          "metadata": {},
          "execution_count": 19
        }
      ]
    },
    {
      "cell_type": "code",
      "source": [
        "test_generator.classes"
      ],
      "metadata": {
        "colab": {
          "base_uri": "https://localhost:8080/"
        },
        "id": "cbxMbryxo31y",
        "outputId": "f117f7b8-d693-4d20-e260-dcebfbcb3adc"
      },
      "execution_count": 20,
      "outputs": [
        {
          "output_type": "execute_result",
          "data": {
            "text/plain": [
              "array([0, 0, 0, 0, 0, 0, 0, 0, 0, 0, 0, 0, 0, 0, 0, 0, 0, 1, 1, 1, 1, 1,\n",
              "       1, 1, 1, 1, 1, 1, 1, 1, 2, 2, 2, 2, 2, 2, 2, 2, 2, 2, 3, 3, 3, 3,\n",
              "       3, 3, 3, 3, 3, 3, 3, 3, 3, 3], dtype=int32)"
            ]
          },
          "metadata": {},
          "execution_count": 20
        }
      ]
    },
    {
      "cell_type": "code",
      "source": [
        "y_pred"
      ],
      "metadata": {
        "colab": {
          "base_uri": "https://localhost:8080/"
        },
        "id": "_C6CCDiayO0g",
        "outputId": "bcac96f5-ec96-4c64-9a70-313369cf3822"
      },
      "execution_count": 21,
      "outputs": [
        {
          "output_type": "execute_result",
          "data": {
            "text/plain": [
              "array([1, 3, 1, 1, 0, 0, 0, 2, 2, 3, 3, 1, 2, 0, 2, 0, 1, 1, 2, 2, 0, 2,\n",
              "       1, 2, 3, 2, 2, 0, 0, 3, 2, 1, 0, 3, 3, 3, 0, 0, 3, 0, 0, 0, 2, 3,\n",
              "       3, 3, 1, 3, 1, 1, 3, 3, 0, 1])"
            ]
          },
          "metadata": {},
          "execution_count": 21
        }
      ]
    },
    {
      "cell_type": "code",
      "source": [
        "import plotly.figure_factory as ff\n",
        "\n",
        "y_true = test_generator.classes\n",
        "\n",
        "z = confusion_matrix(y_true, y_pred)\n",
        "\n",
        "x = list(test_generator.class_indices.keys())\n",
        "\n",
        "y = list(test_generator.class_indices.keys())\n"
      ],
      "metadata": {
        "id": "5NOZQOgN_DHU"
      },
      "execution_count": 22,
      "outputs": []
    },
    {
      "cell_type": "code",
      "metadata": {
        "id": "EHxUyHkC1URt",
        "colab": {
          "base_uri": "https://localhost:8080/",
          "height": 542
        },
        "outputId": "2a741e59-bff7-4233-af30-a5f39a1f6f87"
      },
      "source": [
        "# change each element of z to type string for annotations\n",
        "z_text = [[str(y) for y in x] for x in z]\n",
        "\n",
        "# set up figure \n",
        "fig = ff.create_annotated_heatmap(z, x=x, y=y, annotation_text=z_text, colorscale='Viridis')\n",
        "\n",
        "# add title\n",
        "fig.update_layout(title_text='<i><b>Confusion matrix</b></i>',\n",
        "                  #xaxis = dict(title='x'),\n",
        "                  #yaxis = dict(title='x')\n",
        "                 )\n",
        "\n",
        "# add custom xaxis title\n",
        "fig.add_annotation(dict(font=dict(color=\"black\",size=14),\n",
        "                        x=0.5,\n",
        "                        y=-0.15,\n",
        "                        showarrow=False,\n",
        "                        text=\"Predicted value\",\n",
        "                        xref=\"paper\",\n",
        "                        yref=\"paper\"))\n",
        "\n",
        "# add custom yaxis title\n",
        "fig.add_annotation(dict(font=dict(color=\"black\",size=14),\n",
        "                        x=-0.35,\n",
        "                        y=0.5,\n",
        "                        showarrow=False,\n",
        "                        text=\"Real value\",\n",
        "                        textangle=-90,\n",
        "                        xref=\"paper\",\n",
        "                        yref=\"paper\"))\n",
        "\n",
        "# adjust margins to make room for yaxis title\n",
        "fig.update_layout(margin=dict(t=50, l=200))\n",
        "\n",
        "# add colorbar\n",
        "fig['data'][0]['showscale'] = True\n",
        "fig.show()"
      ],
      "execution_count": 23,
      "outputs": [
        {
          "output_type": "display_data",
          "data": {
            "text/html": [
              "<html>\n",
              "<head><meta charset=\"utf-8\" /></head>\n",
              "<body>\n",
              "    <div>            <script src=\"https://cdnjs.cloudflare.com/ajax/libs/mathjax/2.7.5/MathJax.js?config=TeX-AMS-MML_SVG\"></script><script type=\"text/javascript\">if (window.MathJax) {MathJax.Hub.Config({SVG: {font: \"STIX-Web\"}});}</script>                <script type=\"text/javascript\">window.PlotlyConfig = {MathJaxConfig: 'local'};</script>\n",
              "        <script src=\"https://cdn.plot.ly/plotly-2.8.3.min.js\"></script>                <div id=\"62468af6-965b-401a-9d00-c8d83aa5c2ed\" class=\"plotly-graph-div\" style=\"height:525px; width:100%;\"></div>            <script type=\"text/javascript\">                                    window.PLOTLYENV=window.PLOTLYENV || {};                                    if (document.getElementById(\"62468af6-965b-401a-9d00-c8d83aa5c2ed\")) {                    Plotly.newPlot(                        \"62468af6-965b-401a-9d00-c8d83aa5c2ed\",                        [{\"colorscale\":[[0.0,\"#440154\"],[0.1111111111111111,\"#482878\"],[0.2222222222222222,\"#3e4989\"],[0.3333333333333333,\"#31688e\"],[0.4444444444444444,\"#26828e\"],[0.5555555555555556,\"#1f9e89\"],[0.6666666666666666,\"#35b779\"],[0.7777777777777778,\"#6ece58\"],[0.8888888888888888,\"#b5de2b\"],[1.0,\"#fde725\"]],\"reversescale\":false,\"showscale\":true,\"x\":[\"kirchneriela\",\"nephrocytium\",\"raphidocelis\",\"selenastrumbrib\"],\"y\":[\"kirchneriela\",\"nephrocytium\",\"raphidocelis\",\"selenastrumbrib\"],\"z\":[[5,5,4,3],[3,2,6,2],[4,1,1,4],[3,4,1,6]],\"type\":\"heatmap\"}],                        {\"annotations\":[{\"font\":{\"color\":\"#000000\"},\"showarrow\":false,\"text\":\"5\",\"x\":\"kirchneriela\",\"xref\":\"x\",\"y\":\"kirchneriela\",\"yref\":\"y\"},{\"font\":{\"color\":\"#000000\"},\"showarrow\":false,\"text\":\"5\",\"x\":\"nephrocytium\",\"xref\":\"x\",\"y\":\"kirchneriela\",\"yref\":\"y\"},{\"font\":{\"color\":\"#000000\"},\"showarrow\":false,\"text\":\"4\",\"x\":\"raphidocelis\",\"xref\":\"x\",\"y\":\"kirchneriela\",\"yref\":\"y\"},{\"font\":{\"color\":\"#FFFFFF\"},\"showarrow\":false,\"text\":\"3\",\"x\":\"selenastrumbrib\",\"xref\":\"x\",\"y\":\"kirchneriela\",\"yref\":\"y\"},{\"font\":{\"color\":\"#FFFFFF\"},\"showarrow\":false,\"text\":\"3\",\"x\":\"kirchneriela\",\"xref\":\"x\",\"y\":\"nephrocytium\",\"yref\":\"y\"},{\"font\":{\"color\":\"#FFFFFF\"},\"showarrow\":false,\"text\":\"2\",\"x\":\"nephrocytium\",\"xref\":\"x\",\"y\":\"nephrocytium\",\"yref\":\"y\"},{\"font\":{\"color\":\"#000000\"},\"showarrow\":false,\"text\":\"6\",\"x\":\"raphidocelis\",\"xref\":\"x\",\"y\":\"nephrocytium\",\"yref\":\"y\"},{\"font\":{\"color\":\"#FFFFFF\"},\"showarrow\":false,\"text\":\"2\",\"x\":\"selenastrumbrib\",\"xref\":\"x\",\"y\":\"nephrocytium\",\"yref\":\"y\"},{\"font\":{\"color\":\"#000000\"},\"showarrow\":false,\"text\":\"4\",\"x\":\"kirchneriela\",\"xref\":\"x\",\"y\":\"raphidocelis\",\"yref\":\"y\"},{\"font\":{\"color\":\"#FFFFFF\"},\"showarrow\":false,\"text\":\"1\",\"x\":\"nephrocytium\",\"xref\":\"x\",\"y\":\"raphidocelis\",\"yref\":\"y\"},{\"font\":{\"color\":\"#FFFFFF\"},\"showarrow\":false,\"text\":\"1\",\"x\":\"raphidocelis\",\"xref\":\"x\",\"y\":\"raphidocelis\",\"yref\":\"y\"},{\"font\":{\"color\":\"#000000\"},\"showarrow\":false,\"text\":\"4\",\"x\":\"selenastrumbrib\",\"xref\":\"x\",\"y\":\"raphidocelis\",\"yref\":\"y\"},{\"font\":{\"color\":\"#FFFFFF\"},\"showarrow\":false,\"text\":\"3\",\"x\":\"kirchneriela\",\"xref\":\"x\",\"y\":\"selenastrumbrib\",\"yref\":\"y\"},{\"font\":{\"color\":\"#000000\"},\"showarrow\":false,\"text\":\"4\",\"x\":\"nephrocytium\",\"xref\":\"x\",\"y\":\"selenastrumbrib\",\"yref\":\"y\"},{\"font\":{\"color\":\"#FFFFFF\"},\"showarrow\":false,\"text\":\"1\",\"x\":\"raphidocelis\",\"xref\":\"x\",\"y\":\"selenastrumbrib\",\"yref\":\"y\"},{\"font\":{\"color\":\"#000000\"},\"showarrow\":false,\"text\":\"6\",\"x\":\"selenastrumbrib\",\"xref\":\"x\",\"y\":\"selenastrumbrib\",\"yref\":\"y\"},{\"font\":{\"color\":\"black\",\"size\":14},\"showarrow\":false,\"text\":\"Predicted value\",\"x\":0.5,\"xref\":\"paper\",\"y\":-0.15,\"yref\":\"paper\"},{\"font\":{\"color\":\"black\",\"size\":14},\"showarrow\":false,\"text\":\"Real value\",\"textangle\":-90,\"x\":-0.35,\"xref\":\"paper\",\"y\":0.5,\"yref\":\"paper\"}],\"xaxis\":{\"dtick\":1,\"gridcolor\":\"rgb(0, 0, 0)\",\"side\":\"top\",\"ticks\":\"\"},\"yaxis\":{\"dtick\":1,\"ticks\":\"\",\"ticksuffix\":\"  \"},\"template\":{\"data\":{\"bar\":[{\"error_x\":{\"color\":\"#2a3f5f\"},\"error_y\":{\"color\":\"#2a3f5f\"},\"marker\":{\"line\":{\"color\":\"#E5ECF6\",\"width\":0.5},\"pattern\":{\"fillmode\":\"overlay\",\"size\":10,\"solidity\":0.2}},\"type\":\"bar\"}],\"barpolar\":[{\"marker\":{\"line\":{\"color\":\"#E5ECF6\",\"width\":0.5},\"pattern\":{\"fillmode\":\"overlay\",\"size\":10,\"solidity\":0.2}},\"type\":\"barpolar\"}],\"carpet\":[{\"aaxis\":{\"endlinecolor\":\"#2a3f5f\",\"gridcolor\":\"white\",\"linecolor\":\"white\",\"minorgridcolor\":\"white\",\"startlinecolor\":\"#2a3f5f\"},\"baxis\":{\"endlinecolor\":\"#2a3f5f\",\"gridcolor\":\"white\",\"linecolor\":\"white\",\"minorgridcolor\":\"white\",\"startlinecolor\":\"#2a3f5f\"},\"type\":\"carpet\"}],\"choropleth\":[{\"colorbar\":{\"outlinewidth\":0,\"ticks\":\"\"},\"type\":\"choropleth\"}],\"contour\":[{\"colorbar\":{\"outlinewidth\":0,\"ticks\":\"\"},\"colorscale\":[[0.0,\"#0d0887\"],[0.1111111111111111,\"#46039f\"],[0.2222222222222222,\"#7201a8\"],[0.3333333333333333,\"#9c179e\"],[0.4444444444444444,\"#bd3786\"],[0.5555555555555556,\"#d8576b\"],[0.6666666666666666,\"#ed7953\"],[0.7777777777777778,\"#fb9f3a\"],[0.8888888888888888,\"#fdca26\"],[1.0,\"#f0f921\"]],\"type\":\"contour\"}],\"contourcarpet\":[{\"colorbar\":{\"outlinewidth\":0,\"ticks\":\"\"},\"type\":\"contourcarpet\"}],\"heatmap\":[{\"colorbar\":{\"outlinewidth\":0,\"ticks\":\"\"},\"colorscale\":[[0.0,\"#0d0887\"],[0.1111111111111111,\"#46039f\"],[0.2222222222222222,\"#7201a8\"],[0.3333333333333333,\"#9c179e\"],[0.4444444444444444,\"#bd3786\"],[0.5555555555555556,\"#d8576b\"],[0.6666666666666666,\"#ed7953\"],[0.7777777777777778,\"#fb9f3a\"],[0.8888888888888888,\"#fdca26\"],[1.0,\"#f0f921\"]],\"type\":\"heatmap\"}],\"heatmapgl\":[{\"colorbar\":{\"outlinewidth\":0,\"ticks\":\"\"},\"colorscale\":[[0.0,\"#0d0887\"],[0.1111111111111111,\"#46039f\"],[0.2222222222222222,\"#7201a8\"],[0.3333333333333333,\"#9c179e\"],[0.4444444444444444,\"#bd3786\"],[0.5555555555555556,\"#d8576b\"],[0.6666666666666666,\"#ed7953\"],[0.7777777777777778,\"#fb9f3a\"],[0.8888888888888888,\"#fdca26\"],[1.0,\"#f0f921\"]],\"type\":\"heatmapgl\"}],\"histogram\":[{\"marker\":{\"pattern\":{\"fillmode\":\"overlay\",\"size\":10,\"solidity\":0.2}},\"type\":\"histogram\"}],\"histogram2d\":[{\"colorbar\":{\"outlinewidth\":0,\"ticks\":\"\"},\"colorscale\":[[0.0,\"#0d0887\"],[0.1111111111111111,\"#46039f\"],[0.2222222222222222,\"#7201a8\"],[0.3333333333333333,\"#9c179e\"],[0.4444444444444444,\"#bd3786\"],[0.5555555555555556,\"#d8576b\"],[0.6666666666666666,\"#ed7953\"],[0.7777777777777778,\"#fb9f3a\"],[0.8888888888888888,\"#fdca26\"],[1.0,\"#f0f921\"]],\"type\":\"histogram2d\"}],\"histogram2dcontour\":[{\"colorbar\":{\"outlinewidth\":0,\"ticks\":\"\"},\"colorscale\":[[0.0,\"#0d0887\"],[0.1111111111111111,\"#46039f\"],[0.2222222222222222,\"#7201a8\"],[0.3333333333333333,\"#9c179e\"],[0.4444444444444444,\"#bd3786\"],[0.5555555555555556,\"#d8576b\"],[0.6666666666666666,\"#ed7953\"],[0.7777777777777778,\"#fb9f3a\"],[0.8888888888888888,\"#fdca26\"],[1.0,\"#f0f921\"]],\"type\":\"histogram2dcontour\"}],\"mesh3d\":[{\"colorbar\":{\"outlinewidth\":0,\"ticks\":\"\"},\"type\":\"mesh3d\"}],\"parcoords\":[{\"line\":{\"colorbar\":{\"outlinewidth\":0,\"ticks\":\"\"}},\"type\":\"parcoords\"}],\"pie\":[{\"automargin\":true,\"type\":\"pie\"}],\"scatter\":[{\"marker\":{\"colorbar\":{\"outlinewidth\":0,\"ticks\":\"\"}},\"type\":\"scatter\"}],\"scatter3d\":[{\"line\":{\"colorbar\":{\"outlinewidth\":0,\"ticks\":\"\"}},\"marker\":{\"colorbar\":{\"outlinewidth\":0,\"ticks\":\"\"}},\"type\":\"scatter3d\"}],\"scattercarpet\":[{\"marker\":{\"colorbar\":{\"outlinewidth\":0,\"ticks\":\"\"}},\"type\":\"scattercarpet\"}],\"scattergeo\":[{\"marker\":{\"colorbar\":{\"outlinewidth\":0,\"ticks\":\"\"}},\"type\":\"scattergeo\"}],\"scattergl\":[{\"marker\":{\"colorbar\":{\"outlinewidth\":0,\"ticks\":\"\"}},\"type\":\"scattergl\"}],\"scattermapbox\":[{\"marker\":{\"colorbar\":{\"outlinewidth\":0,\"ticks\":\"\"}},\"type\":\"scattermapbox\"}],\"scatterpolar\":[{\"marker\":{\"colorbar\":{\"outlinewidth\":0,\"ticks\":\"\"}},\"type\":\"scatterpolar\"}],\"scatterpolargl\":[{\"marker\":{\"colorbar\":{\"outlinewidth\":0,\"ticks\":\"\"}},\"type\":\"scatterpolargl\"}],\"scatterternary\":[{\"marker\":{\"colorbar\":{\"outlinewidth\":0,\"ticks\":\"\"}},\"type\":\"scatterternary\"}],\"surface\":[{\"colorbar\":{\"outlinewidth\":0,\"ticks\":\"\"},\"colorscale\":[[0.0,\"#0d0887\"],[0.1111111111111111,\"#46039f\"],[0.2222222222222222,\"#7201a8\"],[0.3333333333333333,\"#9c179e\"],[0.4444444444444444,\"#bd3786\"],[0.5555555555555556,\"#d8576b\"],[0.6666666666666666,\"#ed7953\"],[0.7777777777777778,\"#fb9f3a\"],[0.8888888888888888,\"#fdca26\"],[1.0,\"#f0f921\"]],\"type\":\"surface\"}],\"table\":[{\"cells\":{\"fill\":{\"color\":\"#EBF0F8\"},\"line\":{\"color\":\"white\"}},\"header\":{\"fill\":{\"color\":\"#C8D4E3\"},\"line\":{\"color\":\"white\"}},\"type\":\"table\"}]},\"layout\":{\"annotationdefaults\":{\"arrowcolor\":\"#2a3f5f\",\"arrowhead\":0,\"arrowwidth\":1},\"autotypenumbers\":\"strict\",\"coloraxis\":{\"colorbar\":{\"outlinewidth\":0,\"ticks\":\"\"}},\"colorscale\":{\"diverging\":[[0,\"#8e0152\"],[0.1,\"#c51b7d\"],[0.2,\"#de77ae\"],[0.3,\"#f1b6da\"],[0.4,\"#fde0ef\"],[0.5,\"#f7f7f7\"],[0.6,\"#e6f5d0\"],[0.7,\"#b8e186\"],[0.8,\"#7fbc41\"],[0.9,\"#4d9221\"],[1,\"#276419\"]],\"sequential\":[[0.0,\"#0d0887\"],[0.1111111111111111,\"#46039f\"],[0.2222222222222222,\"#7201a8\"],[0.3333333333333333,\"#9c179e\"],[0.4444444444444444,\"#bd3786\"],[0.5555555555555556,\"#d8576b\"],[0.6666666666666666,\"#ed7953\"],[0.7777777777777778,\"#fb9f3a\"],[0.8888888888888888,\"#fdca26\"],[1.0,\"#f0f921\"]],\"sequentialminus\":[[0.0,\"#0d0887\"],[0.1111111111111111,\"#46039f\"],[0.2222222222222222,\"#7201a8\"],[0.3333333333333333,\"#9c179e\"],[0.4444444444444444,\"#bd3786\"],[0.5555555555555556,\"#d8576b\"],[0.6666666666666666,\"#ed7953\"],[0.7777777777777778,\"#fb9f3a\"],[0.8888888888888888,\"#fdca26\"],[1.0,\"#f0f921\"]]},\"colorway\":[\"#636efa\",\"#EF553B\",\"#00cc96\",\"#ab63fa\",\"#FFA15A\",\"#19d3f3\",\"#FF6692\",\"#B6E880\",\"#FF97FF\",\"#FECB52\"],\"font\":{\"color\":\"#2a3f5f\"},\"geo\":{\"bgcolor\":\"white\",\"lakecolor\":\"white\",\"landcolor\":\"#E5ECF6\",\"showlakes\":true,\"showland\":true,\"subunitcolor\":\"white\"},\"hoverlabel\":{\"align\":\"left\"},\"hovermode\":\"closest\",\"mapbox\":{\"style\":\"light\"},\"paper_bgcolor\":\"white\",\"plot_bgcolor\":\"#E5ECF6\",\"polar\":{\"angularaxis\":{\"gridcolor\":\"white\",\"linecolor\":\"white\",\"ticks\":\"\"},\"bgcolor\":\"#E5ECF6\",\"radialaxis\":{\"gridcolor\":\"white\",\"linecolor\":\"white\",\"ticks\":\"\"}},\"scene\":{\"xaxis\":{\"backgroundcolor\":\"#E5ECF6\",\"gridcolor\":\"white\",\"gridwidth\":2,\"linecolor\":\"white\",\"showbackground\":true,\"ticks\":\"\",\"zerolinecolor\":\"white\"},\"yaxis\":{\"backgroundcolor\":\"#E5ECF6\",\"gridcolor\":\"white\",\"gridwidth\":2,\"linecolor\":\"white\",\"showbackground\":true,\"ticks\":\"\",\"zerolinecolor\":\"white\"},\"zaxis\":{\"backgroundcolor\":\"#E5ECF6\",\"gridcolor\":\"white\",\"gridwidth\":2,\"linecolor\":\"white\",\"showbackground\":true,\"ticks\":\"\",\"zerolinecolor\":\"white\"}},\"shapedefaults\":{\"line\":{\"color\":\"#2a3f5f\"}},\"ternary\":{\"aaxis\":{\"gridcolor\":\"white\",\"linecolor\":\"white\",\"ticks\":\"\"},\"baxis\":{\"gridcolor\":\"white\",\"linecolor\":\"white\",\"ticks\":\"\"},\"bgcolor\":\"#E5ECF6\",\"caxis\":{\"gridcolor\":\"white\",\"linecolor\":\"white\",\"ticks\":\"\"}},\"title\":{\"x\":0.05},\"xaxis\":{\"automargin\":true,\"gridcolor\":\"white\",\"linecolor\":\"white\",\"ticks\":\"\",\"title\":{\"standoff\":15},\"zerolinecolor\":\"white\",\"zerolinewidth\":2},\"yaxis\":{\"automargin\":true,\"gridcolor\":\"white\",\"linecolor\":\"white\",\"ticks\":\"\",\"title\":{\"standoff\":15},\"zerolinecolor\":\"white\",\"zerolinewidth\":2}}},\"title\":{\"text\":\"<i><b>Confusion matrix</b></i>\"},\"margin\":{\"t\":50,\"l\":200}},                        {\"responsive\": true}                    ).then(function(){\n",
              "                            \n",
              "var gd = document.getElementById('62468af6-965b-401a-9d00-c8d83aa5c2ed');\n",
              "var x = new MutationObserver(function (mutations, observer) {{\n",
              "        var display = window.getComputedStyle(gd).display;\n",
              "        if (!display || display === 'none') {{\n",
              "            console.log([gd, 'removed!']);\n",
              "            Plotly.purge(gd);\n",
              "            observer.disconnect();\n",
              "        }}\n",
              "}});\n",
              "\n",
              "// Listen for the removal of the full notebook cells\n",
              "var notebookContainer = gd.closest('#notebook-container');\n",
              "if (notebookContainer) {{\n",
              "    x.observe(notebookContainer, {childList: true});\n",
              "}}\n",
              "\n",
              "// Listen for the clearing of the current output cell\n",
              "var outputEl = gd.closest('.output');\n",
              "if (outputEl) {{\n",
              "    x.observe(outputEl, {childList: true});\n",
              "}}\n",
              "\n",
              "                        })                };                            </script>        </div>\n",
              "</body>\n",
              "</html>"
            ]
          },
          "metadata": {}
        }
      ]
    }
  ]
}