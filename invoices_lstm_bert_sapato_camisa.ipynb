{
  "nbformat": 4,
  "nbformat_minor": 0,
  "metadata": {
    "colab": {
      "name": "invoices_lstm_bert.ipynb",
      "provenance": [],
      "collapsed_sections": [],
      "authorship_tag": "ABX9TyOgEziBDmgFZVzRDmDjMLVI",
      "include_colab_link": true
    },
    "kernelspec": {
      "name": "python3",
      "display_name": "Python 3"
    },
    "language_info": {
      "name": "python"
    },
    "accelerator": "GPU"
  },
  "cells": [
    {
      "cell_type": "markdown",
      "metadata": {
        "id": "view-in-github",
        "colab_type": "text"
      },
      "source": [
        "<a href=\"https://colab.research.google.com/github/viniciusrpb/cloud_image_classification/blob/main/invoices_lstm_bert_sapato_camisa.ipynb\" target=\"_parent\"><img src=\"https://colab.research.google.com/assets/colab-badge.svg\" alt=\"Open In Colab\"/></a>"
      ]
    },
    {
      "cell_type": "markdown",
      "source": [
        ""
      ],
      "metadata": {
        "id": "IipByK9A-0GD"
      }
    },
    {
      "cell_type": "code",
      "source": [
        "#from google.colab import drive\n",
        "#drive.mount('/content/drive')"
      ],
      "metadata": {
        "id": "mAz5RBhIRX2p"
      },
      "execution_count": 1,
      "outputs": []
    },
    {
      "cell_type": "code",
      "source": [
        "#!cp -r \"/content/drive/My Drive/nfce/base_nfce_unbr.dsv\" \"nfce.dsv\""
      ],
      "metadata": {
        "id": "3OR8YCaHRdDA"
      },
      "execution_count": 2,
      "outputs": []
    },
    {
      "cell_type": "code",
      "metadata": {
        "id": "AuV9oScUNg6G"
      },
      "source": [
        "#!pip install -U keras\n",
        "#!pip install -U tensorflow\n",
        "#!pip install transformers\n",
        "#!pip install tensorflow_text\n",
        "#!pip install -q -U \"tensorflow-text==2.8.*\""
      ],
      "execution_count": 3,
      "outputs": []
    },
    {
      "cell_type": "markdown",
      "source": [
        "Importando as classes necessárias a partir das bibliotecas"
      ],
      "metadata": {
        "id": "WWVshYwOMSFz"
      }
    },
    {
      "cell_type": "code",
      "source": [
        "import pandas as pd\n",
        "from sklearn.feature_extraction.text import TfidfVectorizer\n",
        "from sklearn.model_selection import train_test_split\n",
        "from keras.models import Model,Sequential\n",
        "from keras.layers import Dense,Activation,Input,LSTM,Bidirectional,Dropout,SpatialDropout1D\n",
        "from tensorflow.keras.optimizers import SGD,Adam\n",
        "from sklearn.metrics import classification_report\n",
        "import numpy as np\n",
        "import matplotlib.pyplot as plt\n",
        "import transformers\n",
        "print(transformers.__version__)\n",
        "import tensorflow as tf\n",
        "import tensorflow_hub as hub\n",
        "import tensorflow_text as text\n",
        "from keras.layers.embeddings import Embedding"
      ],
      "metadata": {
        "id": "GETnhj__U_Iy",
        "colab": {
          "base_uri": "https://localhost:8080/"
        },
        "outputId": "68a3a59c-cf1b-42b9-9188-e17e8946bc95"
      },
      "execution_count": 4,
      "outputs": [
        {
          "output_type": "stream",
          "name": "stdout",
          "text": [
            "4.18.0\n"
          ]
        }
      ]
    },
    {
      "cell_type": "markdown",
      "source": [
        "### Carregamento do corpus para Pandas DataFrames\n",
        "\n",
        "\n",
        "\n",
        "**PS.:** Mais informações sobre a divisão de um conjunto de dados em treinamento, validação e teste, você encontra nesse [link](https://machinelearningmastery.com/difference-test-validation-datasets/).\n"
      ],
      "metadata": {
        "id": "fp0s4KlqiQUq"
      }
    },
    {
      "cell_type": "code",
      "source": [
        "path = 'nfce.dsv'"
      ],
      "metadata": {
        "id": "MY8M1KY0TpiW"
      },
      "execution_count": 5,
      "outputs": []
    },
    {
      "cell_type": "code",
      "source": [
        "raw_df = pd.read_csv(path,encoding='latin_1',engine='python',error_bad_lines=False,sep='|')"
      ],
      "metadata": {
        "id": "2MJ0FVjpkEHG",
        "colab": {
          "base_uri": "https://localhost:8080/"
        },
        "outputId": "6c9afabf-1d64-4235-8dee-d748316be80e"
      },
      "execution_count": 6,
      "outputs": [
        {
          "output_type": "stream",
          "name": "stderr",
          "text": [
            "/usr/local/lib/python3.7/dist-packages/IPython/core/interactiveshell.py:2882: FutureWarning: The error_bad_lines argument has been deprecated and will be removed in a future version.\n",
            "\n",
            "\n",
            "  exec(code_obj, self.user_global_ns, self.user_ns)\n",
            "Skipping line 299273: field larger than field limit (131072)\n",
            "Skipping line 1009995: '|' expected after '\"'\n",
            "Skipping line 1023200: '|' expected after '\"'\n",
            "Skipping line 1026998: '|' expected after '\"'\n",
            "Skipping line 1121213: '|' expected after '\"'\n",
            "Skipping line 1143346: field larger than field limit (131072)\n",
            "Skipping line 1650210: field larger than field limit (131072)\n",
            "Skipping line 2219225: '|' expected after '\"'\n",
            "Skipping line 2219233: '|' expected after '\"'\n",
            "Skipping line 2332476: field larger than field limit (131072)\n",
            "Skipping line 2593362: field larger than field limit (131072)\n",
            "Skipping line 3079129: '|' expected after '\"'\n",
            "Skipping line 3100827: field larger than field limit (131072)\n",
            "Skipping line 3565499: '|' expected after '\"'\n",
            "Skipping line 3577382: unexpected end of data\n",
            "Skipping line 298203: Expected 11 fields in line 298203, saw 12\n",
            "Skipping line 298448: Expected 11 fields in line 298448, saw 12\n",
            "Skipping line 381902: Expected 11 fields in line 381902, saw 12\n",
            "Skipping line 382067: Expected 11 fields in line 382067, saw 12\n",
            "Skipping line 452107: Expected 11 fields in line 452107, saw 12\n",
            "Skipping line 464748: Expected 11 fields in line 464748, saw 12\n",
            "Skipping line 491037: Expected 11 fields in line 491037, saw 12\n",
            "Skipping line 537382: Expected 11 fields in line 537382, saw 12\n",
            "Skipping line 743766: Expected 11 fields in line 743766, saw 12\n",
            "Skipping line 864913: Expected 11 fields in line 864913, saw 12\n",
            "Skipping line 1164219: Expected 11 fields in line 1164219, saw 12\n",
            "Skipping line 1280016: Expected 11 fields in line 1280016, saw 12\n",
            "Skipping line 1280132: Expected 11 fields in line 1280132, saw 12\n",
            "Skipping line 1281270: Expected 11 fields in line 1281270, saw 12\n",
            "Skipping line 1534722: Expected 11 fields in line 1534722, saw 12\n",
            "Skipping line 2634932: Expected 11 fields in line 2634932, saw 13\n",
            "Skipping line 2701053: Expected 11 fields in line 2701053, saw 12\n",
            "Skipping line 2871082: Expected 11 fields in line 2871082, saw 12\n",
            "Skipping line 2871085: Expected 11 fields in line 2871085, saw 12\n",
            "Skipping line 3004309: Expected 11 fields in line 3004309, saw 12\n",
            "Skipping line 3516927: Expected 11 fields in line 3516927, saw 12\n"
          ]
        }
      ]
    },
    {
      "cell_type": "code",
      "source": [
        "raw_df"
      ],
      "metadata": {
        "colab": {
          "base_uri": "https://localhost:8080/",
          "height": 488
        },
        "id": "uq2wnaK6fRVh",
        "outputId": "432cfdc5-a9b1-4d64-f8cd-7e0b61ac98e7"
      },
      "execution_count": 7,
      "outputs": [
        {
          "output_type": "execute_result",
          "data": {
            "text/plain": [
              "                             DESC_1W   FREQ_1W    DESC_2W   FREQ_2W  \\\n",
              "0                           gasolina  81152945      comum  43004215   \n",
              "1                           gasolina  81152945      comum  43004215   \n",
              "2                           gasolina  81152945      comum  43004215   \n",
              "3                           gasolina  81152945      comum  43004215   \n",
              "4                           gasolina  81152945          c  25854690   \n",
              "...                              ...       ...        ...       ...   \n",
              "3577340                  brinq.bingo         1      globo         1   \n",
              "3577341                        sepde         1      dedos         1   \n",
              "3577342  ##64029990#1001245430320331         1        rcs         1   \n",
              "3577343                     01204247         1  shortdoll         1   \n",
              "3577344                     iz-10361         1       pele         1   \n",
              "\n",
              "            FQREL_2W       NCM  FREQ_NCM    FQREL_NCM  CST    FREQ_CST  \\\n",
              "0        0,529915643  27101259  41268879  0,959647304   60  41268879.0   \n",
              "1        0,529915643  84133010   1706357  0,039678831   60   1706357.0   \n",
              "2        0,529915643  27101921     28449   0,00066154   60     28449.0   \n",
              "3        0,529915643  27101932       530  0,000012324   60       530.0   \n",
              "4        0,318592135  27101259  24589443  0,951063153   60  24589443.0   \n",
              "...              ...       ...       ...          ...  ...         ...   \n",
              "3577340            1  95030099         1            1   60         1.0   \n",
              "3577341            1  39269090         1            1   60         1.0   \n",
              "3577342            1  64029990         1            1    0         1.0   \n",
              "3577343            1  61083200         1            1    0         1.0   \n",
              "3577344            1  92099900         1            1    0         1.0   \n",
              "\n",
              "        FQREL_CST  \n",
              "0               1  \n",
              "1               1  \n",
              "2               1  \n",
              "3               1  \n",
              "4               1  \n",
              "...           ...  \n",
              "3577340         1  \n",
              "3577341         1  \n",
              "3577342         1  \n",
              "3577343         1  \n",
              "3577344         1  \n",
              "\n",
              "[3577345 rows x 11 columns]"
            ],
            "text/html": [
              "\n",
              "  <div id=\"df-a4bca20b-cc6c-47a1-b7d8-31fc7830ff42\">\n",
              "    <div class=\"colab-df-container\">\n",
              "      <div>\n",
              "<style scoped>\n",
              "    .dataframe tbody tr th:only-of-type {\n",
              "        vertical-align: middle;\n",
              "    }\n",
              "\n",
              "    .dataframe tbody tr th {\n",
              "        vertical-align: top;\n",
              "    }\n",
              "\n",
              "    .dataframe thead th {\n",
              "        text-align: right;\n",
              "    }\n",
              "</style>\n",
              "<table border=\"1\" class=\"dataframe\">\n",
              "  <thead>\n",
              "    <tr style=\"text-align: right;\">\n",
              "      <th></th>\n",
              "      <th>DESC_1W</th>\n",
              "      <th>FREQ_1W</th>\n",
              "      <th>DESC_2W</th>\n",
              "      <th>FREQ_2W</th>\n",
              "      <th>FQREL_2W</th>\n",
              "      <th>NCM</th>\n",
              "      <th>FREQ_NCM</th>\n",
              "      <th>FQREL_NCM</th>\n",
              "      <th>CST</th>\n",
              "      <th>FREQ_CST</th>\n",
              "      <th>FQREL_CST</th>\n",
              "    </tr>\n",
              "  </thead>\n",
              "  <tbody>\n",
              "    <tr>\n",
              "      <th>0</th>\n",
              "      <td>gasolina</td>\n",
              "      <td>81152945</td>\n",
              "      <td>comum</td>\n",
              "      <td>43004215</td>\n",
              "      <td>0,529915643</td>\n",
              "      <td>27101259</td>\n",
              "      <td>41268879</td>\n",
              "      <td>0,959647304</td>\n",
              "      <td>60</td>\n",
              "      <td>41268879.0</td>\n",
              "      <td>1</td>\n",
              "    </tr>\n",
              "    <tr>\n",
              "      <th>1</th>\n",
              "      <td>gasolina</td>\n",
              "      <td>81152945</td>\n",
              "      <td>comum</td>\n",
              "      <td>43004215</td>\n",
              "      <td>0,529915643</td>\n",
              "      <td>84133010</td>\n",
              "      <td>1706357</td>\n",
              "      <td>0,039678831</td>\n",
              "      <td>60</td>\n",
              "      <td>1706357.0</td>\n",
              "      <td>1</td>\n",
              "    </tr>\n",
              "    <tr>\n",
              "      <th>2</th>\n",
              "      <td>gasolina</td>\n",
              "      <td>81152945</td>\n",
              "      <td>comum</td>\n",
              "      <td>43004215</td>\n",
              "      <td>0,529915643</td>\n",
              "      <td>27101921</td>\n",
              "      <td>28449</td>\n",
              "      <td>0,00066154</td>\n",
              "      <td>60</td>\n",
              "      <td>28449.0</td>\n",
              "      <td>1</td>\n",
              "    </tr>\n",
              "    <tr>\n",
              "      <th>3</th>\n",
              "      <td>gasolina</td>\n",
              "      <td>81152945</td>\n",
              "      <td>comum</td>\n",
              "      <td>43004215</td>\n",
              "      <td>0,529915643</td>\n",
              "      <td>27101932</td>\n",
              "      <td>530</td>\n",
              "      <td>0,000012324</td>\n",
              "      <td>60</td>\n",
              "      <td>530.0</td>\n",
              "      <td>1</td>\n",
              "    </tr>\n",
              "    <tr>\n",
              "      <th>4</th>\n",
              "      <td>gasolina</td>\n",
              "      <td>81152945</td>\n",
              "      <td>c</td>\n",
              "      <td>25854690</td>\n",
              "      <td>0,318592135</td>\n",
              "      <td>27101259</td>\n",
              "      <td>24589443</td>\n",
              "      <td>0,951063153</td>\n",
              "      <td>60</td>\n",
              "      <td>24589443.0</td>\n",
              "      <td>1</td>\n",
              "    </tr>\n",
              "    <tr>\n",
              "      <th>...</th>\n",
              "      <td>...</td>\n",
              "      <td>...</td>\n",
              "      <td>...</td>\n",
              "      <td>...</td>\n",
              "      <td>...</td>\n",
              "      <td>...</td>\n",
              "      <td>...</td>\n",
              "      <td>...</td>\n",
              "      <td>...</td>\n",
              "      <td>...</td>\n",
              "      <td>...</td>\n",
              "    </tr>\n",
              "    <tr>\n",
              "      <th>3577340</th>\n",
              "      <td>brinq.bingo</td>\n",
              "      <td>1</td>\n",
              "      <td>globo</td>\n",
              "      <td>1</td>\n",
              "      <td>1</td>\n",
              "      <td>95030099</td>\n",
              "      <td>1</td>\n",
              "      <td>1</td>\n",
              "      <td>60</td>\n",
              "      <td>1.0</td>\n",
              "      <td>1</td>\n",
              "    </tr>\n",
              "    <tr>\n",
              "      <th>3577341</th>\n",
              "      <td>sepde</td>\n",
              "      <td>1</td>\n",
              "      <td>dedos</td>\n",
              "      <td>1</td>\n",
              "      <td>1</td>\n",
              "      <td>39269090</td>\n",
              "      <td>1</td>\n",
              "      <td>1</td>\n",
              "      <td>60</td>\n",
              "      <td>1.0</td>\n",
              "      <td>1</td>\n",
              "    </tr>\n",
              "    <tr>\n",
              "      <th>3577342</th>\n",
              "      <td>##64029990#1001245430320331</td>\n",
              "      <td>1</td>\n",
              "      <td>rcs</td>\n",
              "      <td>1</td>\n",
              "      <td>1</td>\n",
              "      <td>64029990</td>\n",
              "      <td>1</td>\n",
              "      <td>1</td>\n",
              "      <td>0</td>\n",
              "      <td>1.0</td>\n",
              "      <td>1</td>\n",
              "    </tr>\n",
              "    <tr>\n",
              "      <th>3577343</th>\n",
              "      <td>01204247</td>\n",
              "      <td>1</td>\n",
              "      <td>shortdoll</td>\n",
              "      <td>1</td>\n",
              "      <td>1</td>\n",
              "      <td>61083200</td>\n",
              "      <td>1</td>\n",
              "      <td>1</td>\n",
              "      <td>0</td>\n",
              "      <td>1.0</td>\n",
              "      <td>1</td>\n",
              "    </tr>\n",
              "    <tr>\n",
              "      <th>3577344</th>\n",
              "      <td>iz-10361</td>\n",
              "      <td>1</td>\n",
              "      <td>pele</td>\n",
              "      <td>1</td>\n",
              "      <td>1</td>\n",
              "      <td>92099900</td>\n",
              "      <td>1</td>\n",
              "      <td>1</td>\n",
              "      <td>0</td>\n",
              "      <td>1.0</td>\n",
              "      <td>1</td>\n",
              "    </tr>\n",
              "  </tbody>\n",
              "</table>\n",
              "<p>3577345 rows × 11 columns</p>\n",
              "</div>\n",
              "      <button class=\"colab-df-convert\" onclick=\"convertToInteractive('df-a4bca20b-cc6c-47a1-b7d8-31fc7830ff42')\"\n",
              "              title=\"Convert this dataframe to an interactive table.\"\n",
              "              style=\"display:none;\">\n",
              "        \n",
              "  <svg xmlns=\"http://www.w3.org/2000/svg\" height=\"24px\"viewBox=\"0 0 24 24\"\n",
              "       width=\"24px\">\n",
              "    <path d=\"M0 0h24v24H0V0z\" fill=\"none\"/>\n",
              "    <path d=\"M18.56 5.44l.94 2.06.94-2.06 2.06-.94-2.06-.94-.94-2.06-.94 2.06-2.06.94zm-11 1L8.5 8.5l.94-2.06 2.06-.94-2.06-.94L8.5 2.5l-.94 2.06-2.06.94zm10 10l.94 2.06.94-2.06 2.06-.94-2.06-.94-.94-2.06-.94 2.06-2.06.94z\"/><path d=\"M17.41 7.96l-1.37-1.37c-.4-.4-.92-.59-1.43-.59-.52 0-1.04.2-1.43.59L10.3 9.45l-7.72 7.72c-.78.78-.78 2.05 0 2.83L4 21.41c.39.39.9.59 1.41.59.51 0 1.02-.2 1.41-.59l7.78-7.78 2.81-2.81c.8-.78.8-2.07 0-2.86zM5.41 20L4 18.59l7.72-7.72 1.47 1.35L5.41 20z\"/>\n",
              "  </svg>\n",
              "      </button>\n",
              "      \n",
              "  <style>\n",
              "    .colab-df-container {\n",
              "      display:flex;\n",
              "      flex-wrap:wrap;\n",
              "      gap: 12px;\n",
              "    }\n",
              "\n",
              "    .colab-df-convert {\n",
              "      background-color: #E8F0FE;\n",
              "      border: none;\n",
              "      border-radius: 50%;\n",
              "      cursor: pointer;\n",
              "      display: none;\n",
              "      fill: #1967D2;\n",
              "      height: 32px;\n",
              "      padding: 0 0 0 0;\n",
              "      width: 32px;\n",
              "    }\n",
              "\n",
              "    .colab-df-convert:hover {\n",
              "      background-color: #E2EBFA;\n",
              "      box-shadow: 0px 1px 2px rgba(60, 64, 67, 0.3), 0px 1px 3px 1px rgba(60, 64, 67, 0.15);\n",
              "      fill: #174EA6;\n",
              "    }\n",
              "\n",
              "    [theme=dark] .colab-df-convert {\n",
              "      background-color: #3B4455;\n",
              "      fill: #D2E3FC;\n",
              "    }\n",
              "\n",
              "    [theme=dark] .colab-df-convert:hover {\n",
              "      background-color: #434B5C;\n",
              "      box-shadow: 0px 1px 3px 1px rgba(0, 0, 0, 0.15);\n",
              "      filter: drop-shadow(0px 1px 2px rgba(0, 0, 0, 0.3));\n",
              "      fill: #FFFFFF;\n",
              "    }\n",
              "  </style>\n",
              "\n",
              "      <script>\n",
              "        const buttonEl =\n",
              "          document.querySelector('#df-a4bca20b-cc6c-47a1-b7d8-31fc7830ff42 button.colab-df-convert');\n",
              "        buttonEl.style.display =\n",
              "          google.colab.kernel.accessAllowed ? 'block' : 'none';\n",
              "\n",
              "        async function convertToInteractive(key) {\n",
              "          const element = document.querySelector('#df-a4bca20b-cc6c-47a1-b7d8-31fc7830ff42');\n",
              "          const dataTable =\n",
              "            await google.colab.kernel.invokeFunction('convertToInteractive',\n",
              "                                                     [key], {});\n",
              "          if (!dataTable) return;\n",
              "\n",
              "          const docLinkHtml = 'Like what you see? Visit the ' +\n",
              "            '<a target=\"_blank\" href=https://colab.research.google.com/notebooks/data_table.ipynb>data table notebook</a>'\n",
              "            + ' to learn more about interactive tables.';\n",
              "          element.innerHTML = '';\n",
              "          dataTable['output_type'] = 'display_data';\n",
              "          await google.colab.output.renderOutput(dataTable, element);\n",
              "          const docLink = document.createElement('div');\n",
              "          docLink.innerHTML = docLinkHtml;\n",
              "          element.appendChild(docLink);\n",
              "        }\n",
              "      </script>\n",
              "    </div>\n",
              "  </div>\n",
              "  "
            ]
          },
          "metadata": {},
          "execution_count": 7
        }
      ]
    },
    {
      "cell_type": "markdown",
      "source": [
        "Informações sobre cada parte do *corpus* de tweets:"
      ],
      "metadata": {
        "id": "oXUO88MRwdcY"
      }
    },
    {
      "cell_type": "code",
      "source": [
        "flag_tenis = raw_df['DESC_1W'] == \"tenis\" \n",
        "flag_sap = raw_df['DESC_1W'] == \"sapato\"\n",
        "#flag_camis = raw_df['DESC_1W'] == \"camisa\"\n",
        "#flag_camiseta = raw_df['DESC_1W'] == \"camiseta\"\n",
        "\n",
        "df = raw_df[flag_tenis | flag_sap ]#| flag_camis | flag_camiseta]# or flag_et or flag_die]"
      ],
      "metadata": {
        "id": "Le_z-K3-wivo"
      },
      "execution_count": 8,
      "outputs": []
    },
    {
      "cell_type": "markdown",
      "source": [
        "### Pré-processamento dos Tweets\n",
        "\n",
        "Remove o atributo **id**, pois não será necessário o uso desse atributo no processo de classificação.\n",
        "\n"
      ],
      "metadata": {
        "id": "cycRNw7tfZLZ"
      }
    },
    {
      "cell_type": "code",
      "source": [
        "proc_df = pd.DataFrame()\n",
        "proc_df['DESC'] = df['DESC_1W']+\" \"+df['DESC_2W']+\" \"+df['NCM'].astype(str)\n",
        "proc_df['CST'] = df['CST']"
      ],
      "metadata": {
        "id": "W4ZbUgNheyGK"
      },
      "execution_count": 9,
      "outputs": []
    },
    {
      "cell_type": "markdown",
      "source": [
        "Além disso, por questões do uso dos métodos da classe Sequential no Keras-Tensorflow, convertemos o atributo de classe para o tipo categórico e para cada instância, mapeamos seus valores para números inteiros. Lembre-se que os **modelos de aprendizado de máquina processam apenas números inteiros ou reais**."
      ],
      "metadata": {
        "id": "Plz1Pm15ztNO"
      }
    },
    {
      "cell_type": "code",
      "source": [
        "proc_df"
      ],
      "metadata": {
        "id": "4MbE7PZqztrV",
        "colab": {
          "base_uri": "https://localhost:8080/",
          "height": 424
        },
        "outputId": "dff9745e-8f3a-48d2-bd79-56c9eabd4b28"
      },
      "execution_count": 10,
      "outputs": [
        {
          "output_type": "execute_result",
          "data": {
            "text/plain": [
              "                              DESC  CST\n",
              "517770         tenis nike 64041100    0\n",
              "517771         tenis nike 64041100   60\n",
              "517772         tenis nike 64039990    0\n",
              "517773         tenis nike 64039990   60\n",
              "517774         tenis nike 64029990    0\n",
              "...                            ...  ...\n",
              "1028668       sapato slip 64042000    0\n",
              "1028669      sapato gozul 64035990    0\n",
              "1028670  sapato 17.155/17 64029990    0\n",
              "1028671     sapato 710593 64039990    0\n",
              "1028672        sapato san 64032000    0\n",
              "\n",
              "[5488 rows x 2 columns]"
            ],
            "text/html": [
              "\n",
              "  <div id=\"df-834bf1d8-36ed-4d33-a6cb-9dcdd86e8e75\">\n",
              "    <div class=\"colab-df-container\">\n",
              "      <div>\n",
              "<style scoped>\n",
              "    .dataframe tbody tr th:only-of-type {\n",
              "        vertical-align: middle;\n",
              "    }\n",
              "\n",
              "    .dataframe tbody tr th {\n",
              "        vertical-align: top;\n",
              "    }\n",
              "\n",
              "    .dataframe thead th {\n",
              "        text-align: right;\n",
              "    }\n",
              "</style>\n",
              "<table border=\"1\" class=\"dataframe\">\n",
              "  <thead>\n",
              "    <tr style=\"text-align: right;\">\n",
              "      <th></th>\n",
              "      <th>DESC</th>\n",
              "      <th>CST</th>\n",
              "    </tr>\n",
              "  </thead>\n",
              "  <tbody>\n",
              "    <tr>\n",
              "      <th>517770</th>\n",
              "      <td>tenis nike 64041100</td>\n",
              "      <td>0</td>\n",
              "    </tr>\n",
              "    <tr>\n",
              "      <th>517771</th>\n",
              "      <td>tenis nike 64041100</td>\n",
              "      <td>60</td>\n",
              "    </tr>\n",
              "    <tr>\n",
              "      <th>517772</th>\n",
              "      <td>tenis nike 64039990</td>\n",
              "      <td>0</td>\n",
              "    </tr>\n",
              "    <tr>\n",
              "      <th>517773</th>\n",
              "      <td>tenis nike 64039990</td>\n",
              "      <td>60</td>\n",
              "    </tr>\n",
              "    <tr>\n",
              "      <th>517774</th>\n",
              "      <td>tenis nike 64029990</td>\n",
              "      <td>0</td>\n",
              "    </tr>\n",
              "    <tr>\n",
              "      <th>...</th>\n",
              "      <td>...</td>\n",
              "      <td>...</td>\n",
              "    </tr>\n",
              "    <tr>\n",
              "      <th>1028668</th>\n",
              "      <td>sapato slip 64042000</td>\n",
              "      <td>0</td>\n",
              "    </tr>\n",
              "    <tr>\n",
              "      <th>1028669</th>\n",
              "      <td>sapato gozul 64035990</td>\n",
              "      <td>0</td>\n",
              "    </tr>\n",
              "    <tr>\n",
              "      <th>1028670</th>\n",
              "      <td>sapato 17.155/17 64029990</td>\n",
              "      <td>0</td>\n",
              "    </tr>\n",
              "    <tr>\n",
              "      <th>1028671</th>\n",
              "      <td>sapato 710593 64039990</td>\n",
              "      <td>0</td>\n",
              "    </tr>\n",
              "    <tr>\n",
              "      <th>1028672</th>\n",
              "      <td>sapato san 64032000</td>\n",
              "      <td>0</td>\n",
              "    </tr>\n",
              "  </tbody>\n",
              "</table>\n",
              "<p>5488 rows × 2 columns</p>\n",
              "</div>\n",
              "      <button class=\"colab-df-convert\" onclick=\"convertToInteractive('df-834bf1d8-36ed-4d33-a6cb-9dcdd86e8e75')\"\n",
              "              title=\"Convert this dataframe to an interactive table.\"\n",
              "              style=\"display:none;\">\n",
              "        \n",
              "  <svg xmlns=\"http://www.w3.org/2000/svg\" height=\"24px\"viewBox=\"0 0 24 24\"\n",
              "       width=\"24px\">\n",
              "    <path d=\"M0 0h24v24H0V0z\" fill=\"none\"/>\n",
              "    <path d=\"M18.56 5.44l.94 2.06.94-2.06 2.06-.94-2.06-.94-.94-2.06-.94 2.06-2.06.94zm-11 1L8.5 8.5l.94-2.06 2.06-.94-2.06-.94L8.5 2.5l-.94 2.06-2.06.94zm10 10l.94 2.06.94-2.06 2.06-.94-2.06-.94-.94-2.06-.94 2.06-2.06.94z\"/><path d=\"M17.41 7.96l-1.37-1.37c-.4-.4-.92-.59-1.43-.59-.52 0-1.04.2-1.43.59L10.3 9.45l-7.72 7.72c-.78.78-.78 2.05 0 2.83L4 21.41c.39.39.9.59 1.41.59.51 0 1.02-.2 1.41-.59l7.78-7.78 2.81-2.81c.8-.78.8-2.07 0-2.86zM5.41 20L4 18.59l7.72-7.72 1.47 1.35L5.41 20z\"/>\n",
              "  </svg>\n",
              "      </button>\n",
              "      \n",
              "  <style>\n",
              "    .colab-df-container {\n",
              "      display:flex;\n",
              "      flex-wrap:wrap;\n",
              "      gap: 12px;\n",
              "    }\n",
              "\n",
              "    .colab-df-convert {\n",
              "      background-color: #E8F0FE;\n",
              "      border: none;\n",
              "      border-radius: 50%;\n",
              "      cursor: pointer;\n",
              "      display: none;\n",
              "      fill: #1967D2;\n",
              "      height: 32px;\n",
              "      padding: 0 0 0 0;\n",
              "      width: 32px;\n",
              "    }\n",
              "\n",
              "    .colab-df-convert:hover {\n",
              "      background-color: #E2EBFA;\n",
              "      box-shadow: 0px 1px 2px rgba(60, 64, 67, 0.3), 0px 1px 3px 1px rgba(60, 64, 67, 0.15);\n",
              "      fill: #174EA6;\n",
              "    }\n",
              "\n",
              "    [theme=dark] .colab-df-convert {\n",
              "      background-color: #3B4455;\n",
              "      fill: #D2E3FC;\n",
              "    }\n",
              "\n",
              "    [theme=dark] .colab-df-convert:hover {\n",
              "      background-color: #434B5C;\n",
              "      box-shadow: 0px 1px 3px 1px rgba(0, 0, 0, 0.15);\n",
              "      filter: drop-shadow(0px 1px 2px rgba(0, 0, 0, 0.3));\n",
              "      fill: #FFFFFF;\n",
              "    }\n",
              "  </style>\n",
              "\n",
              "      <script>\n",
              "        const buttonEl =\n",
              "          document.querySelector('#df-834bf1d8-36ed-4d33-a6cb-9dcdd86e8e75 button.colab-df-convert');\n",
              "        buttonEl.style.display =\n",
              "          google.colab.kernel.accessAllowed ? 'block' : 'none';\n",
              "\n",
              "        async function convertToInteractive(key) {\n",
              "          const element = document.querySelector('#df-834bf1d8-36ed-4d33-a6cb-9dcdd86e8e75');\n",
              "          const dataTable =\n",
              "            await google.colab.kernel.invokeFunction('convertToInteractive',\n",
              "                                                     [key], {});\n",
              "          if (!dataTable) return;\n",
              "\n",
              "          const docLinkHtml = 'Like what you see? Visit the ' +\n",
              "            '<a target=\"_blank\" href=https://colab.research.google.com/notebooks/data_table.ipynb>data table notebook</a>'\n",
              "            + ' to learn more about interactive tables.';\n",
              "          element.innerHTML = '';\n",
              "          dataTable['output_type'] = 'display_data';\n",
              "          await google.colab.output.renderOutput(dataTable, element);\n",
              "          const docLink = document.createElement('div');\n",
              "          docLink.innerHTML = docLinkHtml;\n",
              "          element.appendChild(docLink);\n",
              "        }\n",
              "      </script>\n",
              "    </div>\n",
              "  </div>\n",
              "  "
            ]
          },
          "metadata": {},
          "execution_count": 10
        }
      ]
    },
    {
      "cell_type": "code",
      "source": [
        "proc_df['CST'] = pd.Categorical(proc_df['CST'])\n",
        "\n",
        "proc_df['CST'] = proc_df['CST'].cat.codes"
      ],
      "metadata": {
        "id": "rn1eFPZ-bqZ9"
      },
      "execution_count": 11,
      "outputs": []
    },
    {
      "cell_type": "markdown",
      "source": [
        "Vamos ver como e repare que o mapeamento do atributo categórico \"polarity\" para valores categóricos inteiros ficou como:\n",
        "\n",
        "*   polaridade \"negativa\" *(negative)*: valor $0$\n",
        "*   polaridade \"neutra\" *(neutral)*: valor $1$\n",
        "*   polaridade \"positiva\" *(positive)*: valor $2$"
      ],
      "metadata": {
        "id": "soW04sEVto_b"
      }
    },
    {
      "cell_type": "code",
      "source": [
        "# split train dataset into train, validation and test sets\n",
        "train_text, temp_text, train_labels, temp_labels = train_test_split(proc_df['DESC'], proc_df['CST'], \n",
        "                                                                    test_size=0.3, \n",
        "                                                                    stratify= proc_df['CST'])\n",
        "\n",
        "\n",
        "val_text, test_text, val_labels, test_labels = train_test_split(temp_text, temp_labels,\n",
        "                                                                test_size=0.5, \n",
        "                                                                stratify=temp_labels)"
      ],
      "metadata": {
        "id": "4LxkFq1ttpRZ"
      },
      "execution_count": 12,
      "outputs": []
    },
    {
      "cell_type": "code",
      "source": [
        "train_labels"
      ],
      "metadata": {
        "colab": {
          "base_uri": "https://localhost:8080/"
        },
        "id": "bENkNAjybhNe",
        "outputId": "8aaf845f-fa01-4f30-b074-c5dd8302140f"
      },
      "execution_count": 13,
      "outputs": [
        {
          "output_type": "execute_result",
          "data": {
            "text/plain": [
              "1028514    0\n",
              "518344     0\n",
              "518170     0\n",
              "521399     0\n",
              "1027143    0\n",
              "          ..\n",
              "517846     4\n",
              "519029     0\n",
              "520050     0\n",
              "519615     0\n",
              "1027280    0\n",
              "Name: CST, Length: 3841, dtype: int8"
            ]
          },
          "metadata": {},
          "execution_count": 13
        }
      ]
    },
    {
      "cell_type": "code",
      "source": [
        "from keras.utils.np_utils import to_categorical\n",
        "\n",
        "num_classes = 5\n",
        "\n",
        "y_train_enc = to_categorical(list(train_labels),num_classes)\n",
        "y_valid_enc = to_categorical(list(val_labels),num_classes)\n",
        "y_test_enc = to_categorical(list(test_labels),num_classes)"
      ],
      "metadata": {
        "id": "f5d7Urt2bLtv"
      },
      "execution_count": 14,
      "outputs": []
    },
    {
      "cell_type": "markdown",
      "source": [
        "A seguir, transformamos os valores da classe \"polaridade\", nossa classe de interesse, para one-hot-encoding. Nessa representação, como temos três classes, utilizaremos três bits, em que para cada instância, apenas um deles estará ativado (com valor $1$) com base na presença do valor classe.\n",
        "\n",
        "Veja como fica a representação one-hot encoding para cada classe:\n",
        "\n",
        "*   polaridade \"negativa\" *(negative)*: valor $0$, one hot encoding: $[1,0,0]$\n",
        "*   polaridade \"neutra\" *(neutral)*: valor $1$, one hot encoding: $[0,1,0]$\n",
        "*   polaridade \"positiva\" *(positive)*: valor $2$, one hot encoding: $[0,0,1]$\n",
        "\n",
        "Utilizaremos a função *to_categorical* do Keras para esse propósito (se bem que poderíamos facilmente implementar uma por nossa conta):"
      ],
      "metadata": {
        "id": "qRN-0SW50IG0"
      }
    },
    {
      "cell_type": "code",
      "source": [
        "seq_len = [len(i.split()) for i in train_text]\n",
        "\n",
        "pd.Series(seq_len).hist(bins = 30)"
      ],
      "metadata": {
        "id": "bZqJdMXW0INV",
        "colab": {
          "base_uri": "https://localhost:8080/",
          "height": 285
        },
        "outputId": "9b5b1326-e903-4a36-aea7-b4f8a1b5ef25"
      },
      "execution_count": 15,
      "outputs": [
        {
          "output_type": "execute_result",
          "data": {
            "text/plain": [
              "<matplotlib.axes._subplots.AxesSubplot at 0x7f40f09fd7d0>"
            ]
          },
          "metadata": {},
          "execution_count": 15
        },
        {
          "output_type": "display_data",
          "data": {
            "text/plain": [
              "<Figure size 432x288 with 1 Axes>"
            ],
            "image/png": "[encoded data removed]"
          },
          "metadata": {
            "needs_background": "light"
          }
        }
      ]
    },
    {
      "cell_type": "markdown",
      "source": [
        "Apenas verificando como ficou o pré-processamento do atributo de classe:"
      ],
      "metadata": {
        "id": "ONGb3W5ky3Sv"
      }
    },
    {
      "cell_type": "markdown",
      "source": [
        "### Extração de características dos tweets\n",
        "\n",
        " Bidirectional Encoder Representations from Transformers (BERT). The BERT architecture is composed of several Transformer encoders stacked together. Further, each Transformer encoder is composed of two sub-layers: a feed-forward layer and a self-attention layer.\n",
        "\n",
        " Primeiramente, fazemos os downloads do modelo BERT de referência:\n"
      ],
      "metadata": {
        "id": "Q_mzac_gfstB"
      }
    },
    {
      "cell_type": "code",
      "source": [
        "bert_model_name = 'universal-sentence-encoder-multilingual/3'\n",
        "tfhub_handle_encoder = 'https://tfhub.dev/jeongukjae/distilbert_multi_cased_L-6_H-768_A-12/1'\n",
        "tfhub_handle_preprocess = 'https://tfhub.dev/jeongukjae/distilbert_en_uncased_preprocess/2'\n",
        "\n",
        "print(f'BERT model selected           : {tfhub_handle_encoder}')\n",
        "print(f'Preprocess model auto-selected: {tfhub_handle_preprocess}')"
      ],
      "metadata": {
        "colab": {
          "base_uri": "https://localhost:8080/"
        },
        "id": "aDstcaHEZtrR",
        "outputId": "65d8322a-4111-4d77-8610-d563c7c13948"
      },
      "execution_count": 16,
      "outputs": [
        {
          "output_type": "stream",
          "name": "stdout",
          "text": [
            "BERT model selected           : https://tfhub.dev/jeongukjae/distilbert_multi_cased_L-6_H-768_A-12/1\n",
            "Preprocess model auto-selected: https://tfhub.dev/jeongukjae/distilbert_en_uncased_preprocess/2\n"
          ]
        }
      ]
    },
    {
      "cell_type": "code",
      "source": [
        "bert_preprocess = hub.KerasLayer(tfhub_handle_preprocess)\n",
        "bert_encoder = hub.KerasLayer(tfhub_handle_encoder)"
      ],
      "metadata": {
        "id": "hsvvNT4EPHmM"
      },
      "execution_count": 17,
      "outputs": []
    },
    {
      "cell_type": "code",
      "source": [
        "train_text=list(train_text)"
      ],
      "metadata": {
        "id": "misu9YovXGah"
      },
      "execution_count": 18,
      "outputs": []
    },
    {
      "cell_type": "markdown",
      "source": [
        "Colocamos as instâncias (juntamente com seus vetores BERT) nas respectivas matrizes $X$ (para cada tipo de dados), em que cada linha de $X$ está associada a um *tweet*. Repare que as classes (labels, rótulos etc) já foram separadas anteriormente e estão armazenadas nas variáveis ```y```. Por exemplo, a instância de treinamento $\\mathbf{x_i}$, denotada por ```X_train[i]``` é da classe ```y_train[i]``` $\\in \\{0,1,2\\}$."
      ],
      "metadata": {
        "id": "GGw9jEA2gCTn"
      }
    },
    {
      "cell_type": "code",
      "source": [
        "sample = [train_text[0]]\n",
        "text_preprocessed = bert_preprocess(sample)\n",
        "\n",
        "print(f'Keys       : {list(text_preprocessed.keys())}')\n",
        "print(f'Shape      : {text_preprocessed[\"input_word_ids\"].shape}')\n",
        "print(f'Word Ids   : {text_preprocessed[\"input_word_ids\"][0, :12]}')\n",
        "print(f'Input Mask : {text_preprocessed[\"input_mask\"][0, :12]}')\n",
        "\n",
        "bert_model = hub.KerasLayer(tfhub_handle_encoder)\n",
        "\n",
        "bert_results = bert_model(text_preprocessed)\n",
        "\n",
        "print(f'Loaded BERT: {tfhub_handle_encoder}')\n",
        "print(f'Pooled Outputs Shape:{bert_results[\"pooled_output\"].shape}')\n",
        "print(f'Pooled Outputs Values:{bert_results[\"pooled_output\"][0, :12]}')\n",
        "print(f'Sequence Outputs Shape:{bert_results[\"sequence_output\"].shape}')\n",
        "print(f'Sequence Outputs Values:{bert_results[\"sequence_output\"][0, :12]}')"
      ],
      "metadata": {
        "colab": {
          "base_uri": "https://localhost:8080/"
        },
        "id": "ml-OM3S4b1kQ",
        "outputId": "49941a9f-4a9b-47c8-c2b4-aa5f20d836c3"
      },
      "execution_count": 20,
      "outputs": [
        {
          "output_type": "stream",
          "name": "stdout",
          "text": [
            "Keys       : ['input_word_ids', 'input_mask']\n",
            "Shape      : (1, 128)\n",
            "Word Ids   : [  101 20066 10610  3622 26250 19714 20958  8889  2692   102     0     0]\n",
            "Input Mask : [1 1 1 1 1 1 1 1 1 1 0 0]\n",
            "Loaded BERT: https://tfhub.dev/jeongukjae/distilbert_multi_cased_L-6_H-768_A-12/1\n",
            "Pooled Outputs Shape:(1, 768)\n",
            "Pooled Outputs Values:[ 0.37743148 -0.19609459  0.42409688  0.15457141  0.45795184  0.02528752\n",
            " -0.16073605  0.00144558  0.03351593  0.29523426  0.04428848 -0.01796117]\n",
            "Sequence Outputs Shape:(1, 128, 768)\n",
            "Sequence Outputs Values:[[ 0.37743148 -0.19609459  0.42409688 ...  0.11274129 -0.107058\n",
            "  -0.04510769]\n",
            " [ 0.1443631  -0.29875037  0.47425768 ...  0.70384    -0.2616426\n",
            "  -0.29228422]\n",
            " [ 0.1986513  -0.6661308   0.16347966 ...  0.3671059   0.20244199\n",
            "  -0.28319168]\n",
            " ...\n",
            " [ 0.40633783 -0.28701204  0.63489866 ...  0.29604745 -0.09438366\n",
            "  -0.07882378]\n",
            " [ 0.6099305  -0.1312302   0.6780729  ...  0.38354868  0.37528563\n",
            "  -0.16295418]\n",
            " [ 0.45841905 -0.25336426  0.47911844 ...  0.51271945  0.06630918\n",
            "  -0.11510354]]\n"
          ]
        }
      ]
    },
    {
      "cell_type": "code",
      "source": [
        "vocab_size = 128\n",
        "num_classes=5"
      ],
      "metadata": {
        "id": "n5Qal1wGGk8j"
      },
      "execution_count": 21,
      "outputs": []
    },
    {
      "cell_type": "markdown",
      "source": [
        "### Modelo de Classificação: BERT Input + LSTM + Sigmoid Function\n",
        "\n",
        "\n",
        "\n"
      ],
      "metadata": {
        "id": "TSV_ATefiiUB"
      }
    },
    {
      "cell_type": "code",
      "source": [
        "num_neurons = 64\n",
        "num_embeddings = 128"
      ],
      "metadata": {
        "id": "YgW5-c3z1Zrg"
      },
      "execution_count": 22,
      "outputs": []
    },
    {
      "cell_type": "code",
      "source": [
        "text_input = Input(shape=(), dtype=tf.string, name='text')\n",
        "preprocessing_layer = hub.KerasLayer(tfhub_handle_preprocess, name='preprocessing')\n",
        "encoder_inputs = preprocessing_layer(text_input)\n",
        "encoder = hub.KerasLayer(tfhub_handle_encoder, trainable=True, name='BERT_encoder')\n",
        "outputs = encoder(encoder_inputs)\n",
        "net = outputs['pooled_output']\n",
        "model = Model(text_input, net)"
      ],
      "metadata": {
        "id": "LvWB8hO2jGCf"
      },
      "execution_count": 36,
      "outputs": []
    },
    {
      "cell_type": "code",
      "source": [
        "inputs = model.inputs[:2]\n",
        "bert_out = model.output\n",
        "newReshape = tf.keras.layers.Reshape((768,1), name='newReshape')(bert_out)\n",
        "#bert_out.shape"
      ],
      "metadata": {
        "id": "uab6wXbS6-8n"
      },
      "execution_count": 37,
      "outputs": []
    },
    {
      "cell_type": "code",
      "source": [
        "lstm = LSTM(256)(newReshape)\n",
        "newout = Dense(768,activation='relu')(lstm)\n",
        "preds = Dense(num_classes, activation='sigmoid')(newout)\n",
        "model = Model(inputs, preds)"
      ],
      "metadata": {
        "id": "HOWc-Pzu69-X"
      },
      "execution_count": 38,
      "outputs": []
    },
    {
      "cell_type": "code",
      "source": [
        "val_text = np.array(list(val_text))\n",
        "train_text = np.array(list(train_text))"
      ],
      "metadata": {
        "id": "CT6d_952cpGC"
      },
      "execution_count": 39,
      "outputs": []
    },
    {
      "cell_type": "markdown",
      "source": [
        "O ajuste do modelo para o treinamento consiste em utilizarmos um otimizador da classe SGD (*Stochastic Gradient Descent*), em que colocamos aleatoriamente um valor da taxa de aprendizado ```learning_rate=0.001```.\n",
        "\n",
        "Outra alteração se trata da função *loss* (que calcula o erro da modelo). Como temos um problema de classificação multiclasse, temos que empregar a função ```categorical_crossentropy```."
      ],
      "metadata": {
        "id": "peU5AQYB0Rc6"
      }
    },
    {
      "cell_type": "code",
      "source": [
        "#sgd = SGD(learning_rate=3e-5)\n",
        "\n",
        "adam = Adam(learning_rate=0.00001,decay = 1e-6)\n",
        "\n",
        "model.compile(loss=\"categorical_crossentropy\",optimizer=adam,metrics=['accuracy'])\n",
        "history_fine = model.fit(train_text, y_train_enc,validation_data=(val_text,y_valid_enc),epochs=3)"
      ],
      "metadata": {
        "colab": {
          "base_uri": "https://localhost:8080/"
        },
        "id": "T95n0SaLzpj1",
        "outputId": "916e77c8-587c-42a1-d13a-759a04078c1e"
      },
      "execution_count": 40,
      "outputs": [
        {
          "output_type": "stream",
          "name": "stdout",
          "text": [
            "Epoch 1/3\n",
            "121/121 [==============================] - 77s 565ms/step - loss: 0.9951 - accuracy: 0.9305 - val_loss: 0.4846 - val_accuracy: 0.9332\n",
            "Epoch 2/3\n",
            "121/121 [==============================] - 67s 553ms/step - loss: 0.3482 - accuracy: 0.9453 - val_loss: 0.1956 - val_accuracy: 0.9769\n",
            "Epoch 3/3\n",
            "121/121 [==============================] - 67s 554ms/step - loss: 0.1469 - accuracy: 0.9779 - val_loss: 0.1111 - val_accuracy: 0.9806\n"
          ]
        }
      ]
    },
    {
      "cell_type": "markdown",
      "source": [
        "Vamos analisar o comportamento da função *loss* no decorrer das épocas:"
      ],
      "metadata": {
        "id": "SVYG8Cut07Zi"
      }
    },
    {
      "cell_type": "code",
      "source": [
        "loss = history_fine.history['loss']\n",
        "val_loss = history_fine.history['val_loss']\n",
        "\n",
        "\n",
        "plt.plot(history_fine.history['loss'])\n",
        "plt.plot(history_fine.history['val_loss'])\n",
        "plt.title('model loss')\n",
        "plt.ylabel('loss')\n",
        "plt.xlabel('epoch')\n",
        "plt.legend(['training set','validation set'], loc='upper left')\n",
        "plt.show()"
      ],
      "metadata": {
        "id": "sUDT-dn41VLH",
        "colab": {
          "base_uri": "https://localhost:8080/",
          "height": 295
        },
        "outputId": "99c06d2a-2a40-4c80-9c00-58f2bf0f82ec"
      },
      "execution_count": 41,
      "outputs": [
        {
          "output_type": "display_data",
          "data": {
            "text/plain": [
              "<Figure size 432x288 with 1 Axes>"
            ],
            "image/png": "[encoded data removed]"
          },
          "metadata": {
            "needs_background": "light"
          }
        }
      ]
    },
    {
      "cell_type": "code",
      "source": [
        "test_text = np.array(list(test_text))\n",
        "y_prob = model.predict(test_text)\n",
        "y_pred = np.argmax(y_prob,axis=1)"
      ],
      "metadata": {
        "id": "ScVRiIVWk2px"
      },
      "execution_count": 43,
      "outputs": []
    },
    {
      "cell_type": "markdown",
      "source": [
        "Vamos imprimir os resultados da classificação de *tweets* para os dados de teste:"
      ],
      "metadata": {
        "id": "_QjL-SHZrl7h"
      }
    },
    {
      "cell_type": "code",
      "source": [
        "print(classification_report(list(test_labels),y_pred))"
      ],
      "metadata": {
        "id": "lSqjqALvrmDw",
        "colab": {
          "base_uri": "https://localhost:8080/"
        },
        "outputId": "ae260480-3a52-4696-929e-36fb565869c8"
      },
      "execution_count": 44,
      "outputs": [
        {
          "output_type": "stream",
          "name": "stdout",
          "text": [
            "              precision    recall  f1-score   support\n",
            "\n",
            "           0       0.98      1.00      0.99       768\n",
            "           1       0.91      1.00      0.95        41\n",
            "           2       0.00      0.00      0.00         7\n",
            "           3       0.00      0.00      0.00         1\n",
            "           4       0.00      0.00      0.00         7\n",
            "\n",
            "    accuracy                           0.98       824\n",
            "   macro avg       0.38      0.40      0.39       824\n",
            "weighted avg       0.96      0.98      0.97       824\n",
            "\n"
          ]
        },
        {
          "output_type": "stream",
          "name": "stderr",
          "text": [
            "/usr/local/lib/python3.7/dist-packages/sklearn/metrics/_classification.py:1318: UndefinedMetricWarning: Precision and F-score are ill-defined and being set to 0.0 in labels with no predicted samples. Use `zero_division` parameter to control this behavior.\n",
            "  _warn_prf(average, modifier, msg_start, len(result))\n",
            "/usr/local/lib/python3.7/dist-packages/sklearn/metrics/_classification.py:1318: UndefinedMetricWarning: Precision and F-score are ill-defined and being set to 0.0 in labels with no predicted samples. Use `zero_division` parameter to control this behavior.\n",
            "  _warn_prf(average, modifier, msg_start, len(result))\n",
            "/usr/local/lib/python3.7/dist-packages/sklearn/metrics/_classification.py:1318: UndefinedMetricWarning: Precision and F-score are ill-defined and being set to 0.0 in labels with no predicted samples. Use `zero_division` parameter to control this behavior.\n",
            "  _warn_prf(average, modifier, msg_start, len(result))\n"
          ]
        }
      ]
    },
    {
      "cell_type": "markdown",
      "source": [
        "Outra possibilidade é o uso do método *evaluate*:\n",
        "\n"
      ],
      "metadata": {
        "id": "PvAl8nUD2CQ9"
      }
    },
    {
      "cell_type": "code",
      "source": [
        "print(model.evaluate(X_test,y_test_enc))"
      ],
      "metadata": {
        "id": "6RMsY7GK2E1r"
      },
      "execution_count": null,
      "outputs": []
    }
  ]
}