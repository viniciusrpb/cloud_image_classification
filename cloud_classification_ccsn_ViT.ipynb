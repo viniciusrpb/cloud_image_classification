{
  "nbformat": 4,
  "nbformat_minor": 0,
  "metadata": {
    "colab": {
      "name": "cloud_classification_ccsn_ViT.ipynb",
      "provenance": [],
      "collapsed_sections": [],
      "authorship_tag": "ABX9TyPOiqXEN7IRRZ29iIved8gZ",
      "include_colab_link": true
    },
    "kernelspec": {
      "name": "python3",
      "display_name": "Python 3"
    },
    "language_info": {
      "name": "python"
    },
    "accelerator": "GPU"
  },
  "cells": [
    {
      "cell_type": "markdown",
      "metadata": {
        "id": "view-in-github",
        "colab_type": "text"
      },
      "source": [
        "<a href=\"https://colab.research.google.com/github/viniciusrpb/cloud_image_classification/blob/main/cloud_classification_ccsn_ViT.ipynb\" target=\"_parent\"><img src=\"https://colab.research.google.com/assets/colab-badge.svg\" alt=\"Open In Colab\"/></a>"
      ]
    },
    {
      "cell_type": "markdown",
      "source": [
        "Cloud Image Classification using Vision Transformers"
      ],
      "metadata": {
        "id": "Ltlbw2CikP_K"
      }
    },
    {
      "cell_type": "code",
      "execution_count": 1,
      "metadata": {
        "id": "w7VyOGXbkNwJ"
      },
      "outputs": [],
      "source": [
        "#from google.colab import drive\n",
        "#drive.mount('/content/drive')"
      ]
    },
    {
      "cell_type": "code",
      "source": [
        "#!cp -r \"/content/drive/My Drive/img_satelite/classificacao/CCSN_08/train\" \"training\"\n",
        "#!cp -r \"/content/drive/My Drive/img_satelite/classificacao/CCSN_08/val\" \"validation\"\n",
        "#!cp -r \"/content/drive/My Drive/img_satelite/classificacao/CCSN_08/test\" \"testing\""
      ],
      "metadata": {
        "id": "68Nn5rzCkPY7"
      },
      "execution_count": 2,
      "outputs": []
    },
    {
      "cell_type": "code",
      "source": [
        "#!pip install pytorch pytorch torchvision\n",
        "#!pip install timm==0.3.2\n",
        "#!pip install datasets transformers\n",
        "#!pip install transformers pytorch-lightning --quiet\n",
        "#!sudo apt -qq install git-lfs"
      ],
      "metadata": {
        "id": "sjjuPWctXrxL"
      },
      "execution_count": 3,
      "outputs": []
    },
    {
      "cell_type": "code",
      "source": [
        "from datasets import load_dataset\n",
        "import tensorflow as tf\n",
        "import torchvision\n",
        "from torchvision.transforms import ToTensor\n",
        "from tensorflow.keras.preprocessing.image import ImageDataGenerator\n",
        "import math\n",
        "import matplotlib.pyplot as plt\n",
        "import numpy as np\n",
        "from PIL import Image, UnidentifiedImageError\n",
        "from pathlib import Path\n",
        "import torch\n",
        "import glob\n",
        "from huggingface_hub import HfApi, Repository\n",
        "from torch.utils.data import DataLoader\n",
        "from torchvision.datasets import ImageFolder\n",
        "from torchmetrics import Accuracy\n",
        "from transformers import Trainer,ViTFeatureExtractor,ViTForImageClassification,DeiTForImageClassification,BeitForImageClassification,DeiTFeatureExtractor,  BeitFeatureExtractor\n",
        "from pytorch_lightning.callbacks import ModelCheckpoint"
      ],
      "metadata": {
        "id": "RP4M1K9DkWdq"
      },
      "execution_count": 4,
      "outputs": []
    },
    {
      "cell_type": "code",
      "source": [
        "path_train = 'training'\n",
        "path_validation = 'validation'\n",
        "path_test = 'testing'"
      ],
      "metadata": {
        "id": "YGMhz6mNkWiS"
      },
      "execution_count": 5,
      "outputs": []
    },
    {
      "cell_type": "markdown",
      "source": [
        "Define the image generator objects"
      ],
      "metadata": {
        "id": "IvyUuPWd-0PP"
      }
    },
    {
      "cell_type": "code",
      "source": [
        "train_ds = torchvision.datasets.ImageFolder(path_train, transform=ToTensor())\n",
        "valid_ds = torchvision.datasets.ImageFolder(path_validation, transform=ToTensor())\n",
        "test_ds = torchvision.datasets.ImageFolder(path_test, transform=ToTensor())"
      ],
      "metadata": {
        "id": "51EmVl7C-0XH"
      },
      "execution_count": 6,
      "outputs": []
    },
    {
      "cell_type": "code",
      "source": [
        "train_ds.classes"
      ],
      "metadata": {
        "id": "MUrAaBRehj8n",
        "colab": {
          "base_uri": "https://localhost:8080/"
        },
        "outputId": "f4c9c356-9087-46e8-cbaa-b50718a1be50"
      },
      "execution_count": 7,
      "outputs": [
        {
          "output_type": "execute_result",
          "data": {
            "text/plain": [
              "['Ac', 'As', 'Cb', 'Cc', 'Ci', 'Cs', 'Ct', 'Cu', 'Ns', 'Sc', 'St']"
            ]
          },
          "metadata": {},
          "execution_count": 7
        }
      ]
    },
    {
      "cell_type": "code",
      "source": [
        "def fn_collator(batch):\n",
        "    encodings = feature_extractor([x[0] for x in batch], return_tensors='pt')\n",
        "    encodings['labels'] = torch.tensor([x[1] for x in batch], dtype=torch.long)\n",
        "    return encodings "
      ],
      "metadata": {
        "id": "OGchBzEU4o3M"
      },
      "execution_count": 8,
      "outputs": []
    },
    {
      "cell_type": "markdown",
      "source": [
        "Pega os códigos das classes do dataset"
      ],
      "metadata": {
        "id": "3AbZ5--E-9G_"
      }
    },
    {
      "cell_type": "code",
      "source": [
        "dic_label2id = {}\n",
        "dic_id2label = {}\n",
        "for i, class_name in enumerate(train_ds.classes):\n",
        "  dic_label2id[class_name] = str(i)\n",
        "  dic_id2label[str(i)] = class_name"
      ],
      "metadata": {
        "id": "sLt3AWBxTzw-"
      },
      "execution_count": 9,
      "outputs": []
    },
    {
      "cell_type": "markdown",
      "source": [
        "Allocate objects for loading the data using the DataGenerator"
      ],
      "metadata": {
        "id": "J78GiaITVegI"
      }
    },
    {
      "cell_type": "code",
      "source": [
        "model_name_or_path = 'google/vit-base-patch16-224-in21k'\n",
        "feature_extractor = ViTFeatureExtractor.from_pretrained(model_name_or_path)\n"
      ],
      "metadata": {
        "id": "nHY1wvf9hGr7"
      },
      "execution_count": 10,
      "outputs": []
    },
    {
      "cell_type": "code",
      "source": [
        "import numpy as np\n",
        "from datasets import load_metric\n",
        "\n",
        "metric = load_metric(\"accuracy\",\"f1-score\")\n",
        "def compute_metrics(p):\n",
        "    return metric.compute(predictions=np.argmax(p.predictions, axis=1), references=p.label_ids)"
      ],
      "metadata": {
        "id": "raquc6rahEgJ"
      },
      "execution_count": 11,
      "outputs": []
    },
    {
      "cell_type": "code",
      "source": [
        "from transformers import ViTForImageClassification\n",
        "\n",
        "feature_extractor = ViTFeatureExtractor.from_pretrained('google/vit-base-patch16-224-in21k')\n",
        "\n",
        "model = ViTForImageClassification.from_pretrained(\n",
        "    model_name_or_path,\n",
        "    num_labels=len(train_ds.classes),\n",
        "    id2label=dic_id2label,\n",
        "    label2id=dic_label2id)"
      ],
      "metadata": {
        "id": "KMRqYXPBg9GP",
        "colab": {
          "base_uri": "https://localhost:8080/"
        },
        "outputId": "e39641d2-2d62-4e0f-f66c-60ee916fd050"
      },
      "execution_count": 12,
      "outputs": [
        {
          "output_type": "stream",
          "name": "stderr",
          "text": [
            "Some weights of the model checkpoint at google/vit-base-patch16-224-in21k were not used when initializing ViTForImageClassification: ['pooler.dense.weight', 'pooler.dense.bias']\n",
            "- This IS expected if you are initializing ViTForImageClassification from the checkpoint of a model trained on another task or with another architecture (e.g. initializing a BertForSequenceClassification model from a BertForPreTraining model).\n",
            "- This IS NOT expected if you are initializing ViTForImageClassification from the checkpoint of a model that you expect to be exactly identical (initializing a BertForSequenceClassification model from a BertForSequenceClassification model).\n",
            "Some weights of ViTForImageClassification were not initialized from the model checkpoint at google/vit-base-patch16-224-in21k and are newly initialized: ['classifier.bias', 'classifier.weight']\n",
            "You should probably TRAIN this model on a down-stream task to be able to use it for predictions and inference.\n"
          ]
        }
      ]
    },
    {
      "cell_type": "code",
      "source": [
        "from transformers import TrainingArguments\n",
        "\n",
        "training_args = TrainingArguments(\n",
        "  output_dir=\"./vit-base-clouds\",\n",
        "  per_device_train_batch_size=8,\n",
        "  evaluation_strategy=\"steps\",\n",
        "  num_train_epochs=7,\n",
        "  fp16=True,\n",
        "  save_steps=100,\n",
        "  eval_steps=100,\n",
        "  logging_steps=6,\n",
        "  learning_rate=3e-5,\n",
        "  save_total_limit=2,\n",
        "  remove_unused_columns=False,\n",
        "  push_to_hub=False,\n",
        "  report_to='tensorboard',\n",
        "  load_best_model_at_end=True,\n",
        ")"
      ],
      "metadata": {
        "id": "7eC55oETldiD"
      },
      "execution_count": 13,
      "outputs": []
    },
    {
      "cell_type": "code",
      "source": [
        "trainer = Trainer(\n",
        "    model=model,\n",
        "    args=training_args,\n",
        "    data_collator=fn_collator,\n",
        "    compute_metrics=compute_metrics,\n",
        "    train_dataset=train_ds,\n",
        "    eval_dataset=valid_ds,\n",
        "    tokenizer=feature_extractor,\n",
        ")"
      ],
      "metadata": {
        "id": "IaXAIE7slkQt",
        "colab": {
          "base_uri": "https://localhost:8080/"
        },
        "outputId": "a16b462d-28bb-470e-8771-0531ca70cff6"
      },
      "execution_count": 14,
      "outputs": [
        {
          "output_type": "stream",
          "name": "stderr",
          "text": [
            "Using cuda_amp half precision backend\n"
          ]
        }
      ]
    },
    {
      "cell_type": "code",
      "source": [
        "train_results = trainer.train()\n",
        "trainer.save_model()\n",
        "trainer.log_metrics(\"train\", train_results.metrics)\n",
        "trainer.save_metrics(\"train\", train_results.metrics)\n",
        "trainer.save_state()"
      ],
      "metadata": {
        "id": "mgJoB1Tsl0Ku",
        "colab": {
          "base_uri": "https://localhost:8080/",
          "height": 1000
        },
        "outputId": "22682cbd-8871-4ed7-efe3-16614081b4eb"
      },
      "execution_count": 15,
      "outputs": [
        {
          "output_type": "stream",
          "name": "stderr",
          "text": [
            "/usr/local/lib/python3.7/dist-packages/transformers/optimization.py:310: FutureWarning: This implementation of AdamW is deprecated and will be removed in a future version. Use the PyTorch implementation torch.optim.AdamW instead, or set `no_deprecation_warning=True` to disable this warning\n",
            "  FutureWarning,\n",
            "***** Running training *****\n",
            "  Num examples = 2030\n",
            "  Num Epochs = 7\n",
            "  Instantaneous batch size per device = 8\n",
            "  Total train batch size (w. parallel, distributed & accumulation) = 8\n",
            "  Gradient Accumulation steps = 1\n",
            "  Total optimization steps = 1778\n"
          ]
        },
        {
          "output_type": "display_data",
          "data": {
            "text/plain": [
              "<IPython.core.display.HTML object>"
            ],
            "text/html": [
              "\n",
              "    <div>\n",
              "      \n",
              "      <progress value='1778' max='1778' style='width:300px; height:20px; vertical-align: middle;'></progress>\n",
              "      [1778/1778 09:07, Epoch 7/7]\n",
              "    </div>\n",
              "    <table border=\"1\" class=\"dataframe\">\n",
              "  <thead>\n",
              " <tr style=\"text-align: left;\">\n",
              "      <th>Step</th>\n",
              "      <th>Training Loss</th>\n",
              "      <th>Validation Loss</th>\n",
              "      <th>Accuracy</th>\n",
              "    </tr>\n",
              "  </thead>\n",
              "  <tbody>\n",
              "    <tr>\n",
              "      <td>100</td>\n",
              "      <td>2.002100</td>\n",
              "      <td>2.031668</td>\n",
              "      <td>0.384000</td>\n",
              "    </tr>\n",
              "    <tr>\n",
              "      <td>200</td>\n",
              "      <td>1.857800</td>\n",
              "      <td>1.767668</td>\n",
              "      <td>0.464000</td>\n",
              "    </tr>\n",
              "    <tr>\n",
              "      <td>300</td>\n",
              "      <td>1.748200</td>\n",
              "      <td>1.613811</td>\n",
              "      <td>0.508000</td>\n",
              "    </tr>\n",
              "    <tr>\n",
              "      <td>400</td>\n",
              "      <td>1.525900</td>\n",
              "      <td>1.525188</td>\n",
              "      <td>0.516000</td>\n",
              "    </tr>\n",
              "    <tr>\n",
              "      <td>500</td>\n",
              "      <td>1.460300</td>\n",
              "      <td>1.453383</td>\n",
              "      <td>0.556000</td>\n",
              "    </tr>\n",
              "    <tr>\n",
              "      <td>600</td>\n",
              "      <td>1.168400</td>\n",
              "      <td>1.418753</td>\n",
              "      <td>0.548000</td>\n",
              "    </tr>\n",
              "    <tr>\n",
              "      <td>700</td>\n",
              "      <td>1.374300</td>\n",
              "      <td>1.361284</td>\n",
              "      <td>0.600000</td>\n",
              "    </tr>\n",
              "    <tr>\n",
              "      <td>800</td>\n",
              "      <td>0.875000</td>\n",
              "      <td>1.332804</td>\n",
              "      <td>0.572000</td>\n",
              "    </tr>\n",
              "    <tr>\n",
              "      <td>900</td>\n",
              "      <td>0.873200</td>\n",
              "      <td>1.354777</td>\n",
              "      <td>0.556000</td>\n",
              "    </tr>\n",
              "    <tr>\n",
              "      <td>1000</td>\n",
              "      <td>1.008300</td>\n",
              "      <td>1.294694</td>\n",
              "      <td>0.556000</td>\n",
              "    </tr>\n",
              "    <tr>\n",
              "      <td>1100</td>\n",
              "      <td>0.763800</td>\n",
              "      <td>1.271762</td>\n",
              "      <td>0.568000</td>\n",
              "    </tr>\n",
              "    <tr>\n",
              "      <td>1200</td>\n",
              "      <td>0.752600</td>\n",
              "      <td>1.269477</td>\n",
              "      <td>0.596000</td>\n",
              "    </tr>\n",
              "    <tr>\n",
              "      <td>1300</td>\n",
              "      <td>0.504800</td>\n",
              "      <td>1.269517</td>\n",
              "      <td>0.612000</td>\n",
              "    </tr>\n",
              "    <tr>\n",
              "      <td>1400</td>\n",
              "      <td>0.663500</td>\n",
              "      <td>1.297460</td>\n",
              "      <td>0.572000</td>\n",
              "    </tr>\n",
              "    <tr>\n",
              "      <td>1500</td>\n",
              "      <td>0.405500</td>\n",
              "      <td>1.271603</td>\n",
              "      <td>0.588000</td>\n",
              "    </tr>\n",
              "    <tr>\n",
              "      <td>1600</td>\n",
              "      <td>0.584100</td>\n",
              "      <td>1.294851</td>\n",
              "      <td>0.580000</td>\n",
              "    </tr>\n",
              "    <tr>\n",
              "      <td>1700</td>\n",
              "      <td>0.435600</td>\n",
              "      <td>1.290746</td>\n",
              "      <td>0.568000</td>\n",
              "    </tr>\n",
              "  </tbody>\n",
              "</table><p>"
            ]
          },
          "metadata": {}
        },
        {
          "output_type": "stream",
          "name": "stderr",
          "text": [
            "***** Running Evaluation *****\n",
            "  Num examples = 250\n",
            "  Batch size = 8\n",
            "Saving model checkpoint to ./vit-base-clouds/checkpoint-100\n",
            "Configuration saved in ./vit-base-clouds/checkpoint-100/config.json\n",
            "Model weights saved in ./vit-base-clouds/checkpoint-100/pytorch_model.bin\n",
            "Feature extractor saved in ./vit-base-clouds/checkpoint-100/preprocessor_config.json\n",
            "Deleting older checkpoint [vit-base-clouds/checkpoint-700] due to args.save_total_limit\n",
            "***** Running Evaluation *****\n",
            "  Num examples = 250\n",
            "  Batch size = 8\n",
            "Saving model checkpoint to ./vit-base-clouds/checkpoint-200\n",
            "Configuration saved in ./vit-base-clouds/checkpoint-200/config.json\n",
            "Model weights saved in ./vit-base-clouds/checkpoint-200/pytorch_model.bin\n",
            "Feature extractor saved in ./vit-base-clouds/checkpoint-200/preprocessor_config.json\n",
            "Deleting older checkpoint [vit-base-clouds/checkpoint-800] due to args.save_total_limit\n",
            "***** Running Evaluation *****\n",
            "  Num examples = 250\n",
            "  Batch size = 8\n",
            "Saving model checkpoint to ./vit-base-clouds/checkpoint-300\n",
            "Configuration saved in ./vit-base-clouds/checkpoint-300/config.json\n",
            "Model weights saved in ./vit-base-clouds/checkpoint-300/pytorch_model.bin\n",
            "Feature extractor saved in ./vit-base-clouds/checkpoint-300/preprocessor_config.json\n",
            "Deleting older checkpoint [vit-base-clouds/checkpoint-100] due to args.save_total_limit\n",
            "***** Running Evaluation *****\n",
            "  Num examples = 250\n",
            "  Batch size = 8\n",
            "Saving model checkpoint to ./vit-base-clouds/checkpoint-400\n",
            "Configuration saved in ./vit-base-clouds/checkpoint-400/config.json\n",
            "Model weights saved in ./vit-base-clouds/checkpoint-400/pytorch_model.bin\n",
            "Feature extractor saved in ./vit-base-clouds/checkpoint-400/preprocessor_config.json\n",
            "Deleting older checkpoint [vit-base-clouds/checkpoint-200] due to args.save_total_limit\n",
            "***** Running Evaluation *****\n",
            "  Num examples = 250\n",
            "  Batch size = 8\n",
            "Saving model checkpoint to ./vit-base-clouds/checkpoint-500\n",
            "Configuration saved in ./vit-base-clouds/checkpoint-500/config.json\n",
            "Model weights saved in ./vit-base-clouds/checkpoint-500/pytorch_model.bin\n",
            "Feature extractor saved in ./vit-base-clouds/checkpoint-500/preprocessor_config.json\n",
            "Deleting older checkpoint [vit-base-clouds/checkpoint-300] due to args.save_total_limit\n",
            "***** Running Evaluation *****\n",
            "  Num examples = 250\n",
            "  Batch size = 8\n",
            "Saving model checkpoint to ./vit-base-clouds/checkpoint-600\n",
            "Configuration saved in ./vit-base-clouds/checkpoint-600/config.json\n",
            "Model weights saved in ./vit-base-clouds/checkpoint-600/pytorch_model.bin\n",
            "Feature extractor saved in ./vit-base-clouds/checkpoint-600/preprocessor_config.json\n",
            "Deleting older checkpoint [vit-base-clouds/checkpoint-400] due to args.save_total_limit\n",
            "***** Running Evaluation *****\n",
            "  Num examples = 250\n",
            "  Batch size = 8\n",
            "Saving model checkpoint to ./vit-base-clouds/checkpoint-700\n",
            "Configuration saved in ./vit-base-clouds/checkpoint-700/config.json\n",
            "Model weights saved in ./vit-base-clouds/checkpoint-700/pytorch_model.bin\n",
            "Feature extractor saved in ./vit-base-clouds/checkpoint-700/preprocessor_config.json\n",
            "Deleting older checkpoint [vit-base-clouds/checkpoint-500] due to args.save_total_limit\n",
            "***** Running Evaluation *****\n",
            "  Num examples = 250\n",
            "  Batch size = 8\n",
            "Saving model checkpoint to ./vit-base-clouds/checkpoint-800\n",
            "Configuration saved in ./vit-base-clouds/checkpoint-800/config.json\n",
            "Model weights saved in ./vit-base-clouds/checkpoint-800/pytorch_model.bin\n",
            "Feature extractor saved in ./vit-base-clouds/checkpoint-800/preprocessor_config.json\n",
            "Deleting older checkpoint [vit-base-clouds/checkpoint-600] due to args.save_total_limit\n",
            "***** Running Evaluation *****\n",
            "  Num examples = 250\n",
            "  Batch size = 8\n",
            "Saving model checkpoint to ./vit-base-clouds/checkpoint-900\n",
            "Configuration saved in ./vit-base-clouds/checkpoint-900/config.json\n",
            "Model weights saved in ./vit-base-clouds/checkpoint-900/pytorch_model.bin\n",
            "Feature extractor saved in ./vit-base-clouds/checkpoint-900/preprocessor_config.json\n",
            "Deleting older checkpoint [vit-base-clouds/checkpoint-700] due to args.save_total_limit\n",
            "***** Running Evaluation *****\n",
            "  Num examples = 250\n",
            "  Batch size = 8\n",
            "Saving model checkpoint to ./vit-base-clouds/checkpoint-1000\n",
            "Configuration saved in ./vit-base-clouds/checkpoint-1000/config.json\n",
            "Model weights saved in ./vit-base-clouds/checkpoint-1000/pytorch_model.bin\n",
            "Feature extractor saved in ./vit-base-clouds/checkpoint-1000/preprocessor_config.json\n",
            "Deleting older checkpoint [vit-base-clouds/checkpoint-800] due to args.save_total_limit\n",
            "***** Running Evaluation *****\n",
            "  Num examples = 250\n",
            "  Batch size = 8\n",
            "Saving model checkpoint to ./vit-base-clouds/checkpoint-1100\n",
            "Configuration saved in ./vit-base-clouds/checkpoint-1100/config.json\n",
            "Model weights saved in ./vit-base-clouds/checkpoint-1100/pytorch_model.bin\n",
            "Feature extractor saved in ./vit-base-clouds/checkpoint-1100/preprocessor_config.json\n",
            "Deleting older checkpoint [vit-base-clouds/checkpoint-900] due to args.save_total_limit\n",
            "***** Running Evaluation *****\n",
            "  Num examples = 250\n",
            "  Batch size = 8\n",
            "Saving model checkpoint to ./vit-base-clouds/checkpoint-1200\n",
            "Configuration saved in ./vit-base-clouds/checkpoint-1200/config.json\n",
            "Model weights saved in ./vit-base-clouds/checkpoint-1200/pytorch_model.bin\n",
            "Feature extractor saved in ./vit-base-clouds/checkpoint-1200/preprocessor_config.json\n",
            "Deleting older checkpoint [vit-base-clouds/checkpoint-1000] due to args.save_total_limit\n",
            "***** Running Evaluation *****\n",
            "  Num examples = 250\n",
            "  Batch size = 8\n",
            "Saving model checkpoint to ./vit-base-clouds/checkpoint-1300\n",
            "Configuration saved in ./vit-base-clouds/checkpoint-1300/config.json\n",
            "Model weights saved in ./vit-base-clouds/checkpoint-1300/pytorch_model.bin\n",
            "Feature extractor saved in ./vit-base-clouds/checkpoint-1300/preprocessor_config.json\n",
            "Deleting older checkpoint [vit-base-clouds/checkpoint-1100] due to args.save_total_limit\n",
            "***** Running Evaluation *****\n",
            "  Num examples = 250\n",
            "  Batch size = 8\n",
            "Saving model checkpoint to ./vit-base-clouds/checkpoint-1400\n",
            "Configuration saved in ./vit-base-clouds/checkpoint-1400/config.json\n",
            "Model weights saved in ./vit-base-clouds/checkpoint-1400/pytorch_model.bin\n",
            "Feature extractor saved in ./vit-base-clouds/checkpoint-1400/preprocessor_config.json\n",
            "Deleting older checkpoint [vit-base-clouds/checkpoint-1300] due to args.save_total_limit\n",
            "***** Running Evaluation *****\n",
            "  Num examples = 250\n",
            "  Batch size = 8\n",
            "Saving model checkpoint to ./vit-base-clouds/checkpoint-1500\n",
            "Configuration saved in ./vit-base-clouds/checkpoint-1500/config.json\n",
            "Model weights saved in ./vit-base-clouds/checkpoint-1500/pytorch_model.bin\n",
            "Feature extractor saved in ./vit-base-clouds/checkpoint-1500/preprocessor_config.json\n",
            "Deleting older checkpoint [vit-base-clouds/checkpoint-1400] due to args.save_total_limit\n",
            "***** Running Evaluation *****\n",
            "  Num examples = 250\n",
            "  Batch size = 8\n",
            "Saving model checkpoint to ./vit-base-clouds/checkpoint-1600\n",
            "Configuration saved in ./vit-base-clouds/checkpoint-1600/config.json\n",
            "Model weights saved in ./vit-base-clouds/checkpoint-1600/pytorch_model.bin\n",
            "Feature extractor saved in ./vit-base-clouds/checkpoint-1600/preprocessor_config.json\n",
            "Deleting older checkpoint [vit-base-clouds/checkpoint-1500] due to args.save_total_limit\n",
            "***** Running Evaluation *****\n",
            "  Num examples = 250\n",
            "  Batch size = 8\n",
            "Saving model checkpoint to ./vit-base-clouds/checkpoint-1700\n",
            "Configuration saved in ./vit-base-clouds/checkpoint-1700/config.json\n",
            "Model weights saved in ./vit-base-clouds/checkpoint-1700/pytorch_model.bin\n",
            "Feature extractor saved in ./vit-base-clouds/checkpoint-1700/preprocessor_config.json\n",
            "Deleting older checkpoint [vit-base-clouds/checkpoint-1600] due to args.save_total_limit\n",
            "\n",
            "\n",
            "Training completed. Do not forget to share your model on huggingface.co/models =)\n",
            "\n",
            "\n",
            "Loading best model from ./vit-base-clouds/checkpoint-1200 (score: 1.2694774866104126).\n",
            "Saving model checkpoint to ./vit-base-clouds\n",
            "Configuration saved in ./vit-base-clouds/config.json\n",
            "Model weights saved in ./vit-base-clouds/pytorch_model.bin\n",
            "Feature extractor saved in ./vit-base-clouds/preprocessor_config.json\n"
          ]
        },
        {
          "output_type": "stream",
          "name": "stdout",
          "text": [
            "***** train metrics *****\n",
            "  epoch                    =          7.0\n",
            "  total_flos               = 1025618982GF\n",
            "  train_loss               =       1.0588\n",
            "  train_runtime            =   0:09:09.47\n",
            "  train_samples_per_second =       25.861\n",
            "  train_steps_per_second   =        3.236\n"
          ]
        }
      ]
    },
    {
      "cell_type": "code",
      "source": [
        "metrics = trainer.evaluate(test_ds)\n",
        "trainer.log_metrics(\"eval\", metrics)\n",
        "trainer.save_metrics(\"eval\", metrics)"
      ],
      "metadata": {
        "id": "5YV8Z5mtl4cH",
        "colab": {
          "base_uri": "https://localhost:8080/",
          "height": 211
        },
        "outputId": "be2e247f-c432-4872-bfe1-d9c8d523975a"
      },
      "execution_count": 16,
      "outputs": [
        {
          "output_type": "stream",
          "name": "stderr",
          "text": [
            "***** Running Evaluation *****\n",
            "  Num examples = 263\n",
            "  Batch size = 8\n"
          ]
        },
        {
          "output_type": "display_data",
          "data": {
            "text/plain": [
              "<IPython.core.display.HTML object>"
            ],
            "text/html": [
              "\n",
              "    <div>\n",
              "      \n",
              "      <progress value='33' max='33' style='width:300px; height:20px; vertical-align: middle;'></progress>\n",
              "      [33/33 00:05]\n",
              "    </div>\n",
              "    "
            ]
          },
          "metadata": {}
        },
        {
          "output_type": "stream",
          "name": "stdout",
          "text": [
            "***** eval metrics *****\n",
            "  epoch                   =        7.0\n",
            "  eval_accuracy           =     0.5932\n",
            "  eval_loss               =     1.3058\n",
            "  eval_runtime            = 0:00:05.74\n",
            "  eval_samples_per_second =      45.79\n",
            "  eval_steps_per_second   =      5.746\n"
          ]
        }
      ]
    },
    {
      "cell_type": "code",
      "source": [
        "from sklearn.metrics import confusion_matrix\n",
        "import seaborn as sn\n",
        "import pandas as pd\n",
        "\n",
        "y_pred = []\n",
        "y_true = []\n",
        "\n",
        "testloader = torch.utils.data.DataLoader(test_ds, batch_size=16,\n",
        "                                        shuffle=False, num_workers=2)\n",
        "\n",
        "predictions = trainer.predict(test_ds)\n",
        "\n",
        "y_prob = predictions[0]\n",
        "\n",
        "y_pred = np.argmax(y_prob,axis=1)\n",
        "\n",
        "labels = np.array(predictions.label_ids)\n",
        "y_true.extend(labels)\n",
        "     \n",
        "classes = tuple(test_ds.classes)#('T-shirt/top', 'Trouser', 'Pullover', 'Dress', 'Coat',\n",
        "        #'Sandal', 'Shirt', 'Sneaker', 'Bag', 'Ankle Boot')\n",
        "\n",
        "# Build confusion matrix\n",
        "cf_matrix = confusion_matrix(y_true, y_pred)\n",
        "df_cm = pd.DataFrame(cf_matrix/np.sum(cf_matrix) *10, index = [i for i in classes],\n",
        "                     columns = [i for i in classes])\n",
        "plt.figure(figsize = (12,7))\n",
        "sn.heatmap(df_cm, annot=True)\n",
        "plt.savefig('output.png')"
      ],
      "metadata": {
        "colab": {
          "base_uri": "https://localhost:8080/",
          "height": 500
        },
        "id": "3gLrnelbdd_b",
        "outputId": "2ee7f7b0-f0a6-4cf5-af59-c941fd1aaed9"
      },
      "execution_count": 17,
      "outputs": [
        {
          "output_type": "stream",
          "name": "stderr",
          "text": [
            "***** Running Prediction *****\n",
            "  Num examples = 263\n",
            "  Batch size = 8\n"
          ]
        },
        {
          "output_type": "display_data",
          "data": {
            "text/plain": [
              "<IPython.core.display.HTML object>"
            ],
            "text/html": [
              "\n",
              "    <div>\n",
              "      \n",
              "      <progress value='66' max='33' style='width:300px; height:20px; vertical-align: middle;'></progress>\n",
              "      [33/33 00:09]\n",
              "    </div>\n",
              "    "
            ]
          },
          "metadata": {}
        },
        {
          "output_type": "display_data",
          "data": {
            "text/plain": [
              "<Figure size 864x504 with 2 Axes>"
            ],
            "image/png": "[encoded data removed]"
          },
          "metadata": {
            "needs_background": "light"
          }
        }
      ]
    },
    {
      "cell_type": "code",
      "source": [
        "from sklearn.metrics import confusion_matrix\n",
        "from sklearn.metrics import classification_report\n",
        "z = confusion_matrix(y_true, y_pred)\n",
        "z"
      ],
      "metadata": {
        "colab": {
          "base_uri": "https://localhost:8080/"
        },
        "id": "iLXz5i8Ijw2q",
        "outputId": "a90489c1-056e-4fb6-d474-32b9855cd55c"
      },
      "execution_count": 18,
      "outputs": [
        {
          "output_type": "execute_result",
          "data": {
            "text/plain": [
              "array([[ 6,  1,  1, 10,  0,  1,  0,  3,  1,  0,  0],\n",
              "       [ 1,  6,  1,  1,  2,  5,  0,  0,  3,  1,  0],\n",
              "       [ 0,  1, 20,  0,  0,  0,  0,  3,  0,  0,  1],\n",
              "       [ 1,  0,  0, 21,  5,  0,  0,  0,  0,  1,  0],\n",
              "       [ 1,  0,  0,  1,  4,  4,  2,  2,  0,  1,  0],\n",
              "       [ 0,  0,  0,  6,  3, 16,  0,  1,  1,  1,  2],\n",
              "       [ 0,  0,  0,  0,  0,  1, 19,  0,  0,  0,  0],\n",
              "       [ 0,  0,  3,  2,  0,  1,  0, 12,  0,  1,  0],\n",
              "       [ 1,  0,  1,  0,  0,  0,  0,  0, 22,  4,  0],\n",
              "       [ 0,  0,  0,  0,  0,  2,  0,  0,  2, 29,  1],\n",
              "       [ 0,  0,  0,  3,  1,  1,  1,  1,  5,  8,  1]])"
            ]
          },
          "metadata": {},
          "execution_count": 18
        }
      ]
    },
    {
      "cell_type": "code",
      "source": [
        "print(classification_report(y_true, y_pred, target_names=classes))"
      ],
      "metadata": {
        "colab": {
          "base_uri": "https://localhost:8080/"
        },
        "id": "aKSmh_3omiF2",
        "outputId": "27f1c0b0-cb27-476d-ed1d-95a11873d9e1"
      },
      "execution_count": 19,
      "outputs": [
        {
          "output_type": "stream",
          "name": "stdout",
          "text": [
            "              precision    recall  f1-score   support\n",
            "\n",
            "          Ac       0.60      0.26      0.36        23\n",
            "          As       0.75      0.30      0.43        20\n",
            "          Cb       0.77      0.80      0.78        25\n",
            "          Cc       0.48      0.75      0.58        28\n",
            "          Ci       0.27      0.27      0.27        15\n",
            "          Cs       0.52      0.53      0.52        30\n",
            "          Ct       0.86      0.95      0.90        20\n",
            "          Cu       0.55      0.63      0.59        19\n",
            "          Ns       0.65      0.79      0.71        28\n",
            "          Sc       0.63      0.85      0.72        34\n",
            "          St       0.20      0.05      0.08        21\n",
            "\n",
            "    accuracy                           0.59       263\n",
            "   macro avg       0.57      0.56      0.54       263\n",
            "weighted avg       0.58      0.59      0.56       263\n",
            "\n"
          ]
        }
      ]
    }
  ]
}