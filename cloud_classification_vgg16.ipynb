{
  "nbformat": 4,
  "nbformat_minor": 0,
  "metadata": {
    "kernelspec": {
      "display_name": "Python 3",
      "language": "python",
      "name": "python3"
    },
    "language_info": {
      "codemirror_mode": {
        "name": "ipython",
        "version": 3
      },
      "file_extension": ".py",
      "mimetype": "text/x-python",
      "name": "python",
      "nbconvert_exporter": "python",
      "pygments_lexer": "ipython3",
      "version": "3.6.10"
    },
    "colab": {
      "name": "cloud_classification_vgg16.ipynb",
      "provenance": [],
      "collapsed_sections": [],
      "include_colab_link": true
    },
    "accelerator": "GPU"
  },
  "cells": [
    {
      "cell_type": "markdown",
      "metadata": {
        "id": "view-in-github",
        "colab_type": "text"
      },
      "source": [
        "<a href=\"https://colab.research.google.com/github/viniciusrpb/cloud_image_segmentation/blob/main/cloud_classification_vgg16.ipynb\" target=\"_parent\"><img src=\"https://colab.research.google.com/assets/colab-badge.svg\" alt=\"Open In Colab\"/></a>"
      ]
    },
    {
      "cell_type": "code",
      "metadata": {
        "id": "Lf68PvvD_GXN"
      },
      "source": [
        "#from google.colab import drive\n",
        "#drive.mount('/content/drive')"
      ],
      "execution_count": 1,
      "outputs": []
    },
    {
      "cell_type": "markdown",
      "source": [
        "# New Section"
      ],
      "metadata": {
        "id": "uSEdHGn26Hzg"
      }
    },
    {
      "cell_type": "code",
      "metadata": {
        "id": "6o0SMmf8z9qD"
      },
      "source": [
        "#!pip install tensorflow_addons"
      ],
      "execution_count": 2,
      "outputs": []
    },
    {
      "cell_type": "code",
      "metadata": {
        "id": "voJBV5X_g0B6"
      },
      "source": [
        "#!cp -r \"/content/drive/My Drive/img_satelite/classificacao/CCSN/train\" \"training\"\n",
        "#!cp -r \"/content/drive/My Drive/img_satelite/classificacao/CCSN/val\" \"validation\"\n",
        "#!cp -r \"/content/drive/My Drive/img_satelite/classificacao/CCSN/test\" \"testing\""
      ],
      "execution_count": 3,
      "outputs": []
    },
    {
      "cell_type": "code",
      "metadata": {
        "id": "W384maMHy7Yc"
      },
      "source": [
        "import tensorflow as tf\n",
        "from tensorflow.keras.optimizers import RMSprop\n",
        "from tensorflow.keras.preprocessing.image import ImageDataGenerator\n",
        "from keras.layers import Dense,GlobalAveragePooling2D ,MaxPooling2D,Activation,Flatten,Conv2D,BatchNormalization,Dropout\n",
        "from tensorflow.keras import layers\n",
        "from tensorflow.keras import Model\n",
        "import keras.applications\n",
        "from keras.models import Sequential\n",
        "from tensorflow.keras.optimizers import SGD\n",
        "import matplotlib.pyplot as plt\n",
        "from sklearn.metrics import classification_report\n",
        "from sklearn.metrics import confusion_matrix\n",
        "import numpy as np\n",
        "import tensorflow_addons as tfa\n",
        "from tensorflow.keras.callbacks import ModelCheckpoint,EarlyStopping,ReduceLROnPlateau"
      ],
      "execution_count": 4,
      "outputs": []
    },
    {
      "cell_type": "code",
      "metadata": {
        "id": "ThJjNtJBi900"
      },
      "source": [
        "path_train = 'training'\n",
        "path_validation = 'validation'\n",
        "path_test = 'testing'"
      ],
      "execution_count": 5,
      "outputs": []
    },
    {
      "cell_type": "markdown",
      "metadata": {
        "id": "3-0nc-LxNSF2"
      },
      "source": [
        "# Pretrained VGG16 model using ImageNet\n"
      ]
    },
    {
      "cell_type": "markdown",
      "metadata": {
        "id": "Q8ZNyeF4v9FL"
      },
      "source": [
        "Hyperparameters"
      ]
    },
    {
      "cell_type": "code",
      "metadata": {
        "id": "js1kaBFGv9MD"
      },
      "source": [
        "batch_size = 32\n",
        "epochs=50\n",
        "dim = (224,224)"
      ],
      "execution_count": 6,
      "outputs": []
    },
    {
      "cell_type": "code",
      "metadata": {
        "id": "yWx2apyg_GXQ"
      },
      "source": [
        "#from tensorflow.keras.applications.inception_v3 import InceptionV3\n",
        "from tensorflow.keras.applications.vgg16 import VGG16\n",
        "\n",
        "#pre_trained_model = InceptionV3(input_shape=(224,224,3),include_top=False,weights='imagenet')\n",
        "pre_trained_model = VGG16(input_shape=(224,224,3),include_top=False,pooling ='avg',weights='imagenet', classes=11)\n",
        "\n",
        "for layer in pre_trained_model.layers:\n",
        "  layer.trainable = False"
      ],
      "execution_count": 7,
      "outputs": []
    },
    {
      "cell_type": "markdown",
      "metadata": {
        "id": "sHw1dYWP_GXV"
      },
      "source": [
        "### Data augmentation"
      ]
    },
    {
      "cell_type": "code",
      "metadata": {
        "id": "qh3pPvvDzvEq"
      },
      "source": [
        "train_datagen = ImageDataGenerator(rescale=1. / 255,brightness_range=[0.4,1.5],zoom_range=0.3,horizontal_flip=True, vertical_flip=True,width_shift_range=0.2, height_shift_range=0.2,rotation_range=30, fill_mode='nearest')\n",
        "\n",
        "validation_datagen = ImageDataGenerator(rescale=1. / 255)\n",
        "\n",
        "test_datagen = ImageDataGenerator(rescale=1. / 255)\n"
      ],
      "execution_count": 8,
      "outputs": []
    },
    {
      "cell_type": "markdown",
      "metadata": {
        "id": "mfA7Ta99wW_a"
      },
      "source": [
        "Read the images"
      ]
    },
    {
      "cell_type": "code",
      "metadata": {
        "colab": {
          "base_uri": "https://localhost:8080/"
        },
        "id": "c5Fpl71WwXGa",
        "outputId": "c9ad33bd-b16b-4b5c-e394-83f1bd141488"
      },
      "source": [
        "# Flow training images in batches of 20 using train_datagen generator\n",
        "train_generator = train_datagen.flow_from_directory(path_train,\n",
        "                                                    batch_size = batch_size,\n",
        "                                                    class_mode = 'categorical', \n",
        "                                                    target_size = (224,224))     \n",
        "\n",
        "# Flow validation images in batches of 20 using test_datagen generator\n",
        "validation_generator =  validation_datagen.flow_from_directory( path_validation,\n",
        "                                                          batch_size  = batch_size,\n",
        "                                                          class_mode  = 'categorical', \n",
        "                                                          target_size = (224,224))\n",
        "\n",
        "test_generator =  test_datagen.flow_from_directory( path_test,\n",
        "                                                          batch_size  = batch_size,\n",
        "                                                          class_mode  = 'categorical', \n",
        "                                                          target_size = (224,224))"
      ],
      "execution_count": 9,
      "outputs": [
        {
          "output_type": "stream",
          "name": "stdout",
          "text": [
            "Found 1774 images belonging to 11 classes.\n",
            "Found 250 images belonging to 11 classes.\n",
            "Found 519 images belonging to 11 classes.\n"
          ]
        }
      ]
    },
    {
      "cell_type": "markdown",
      "metadata": {
        "id": "JV5TTVwGtY1p"
      },
      "source": [
        "Hyper-parameters"
      ]
    },
    {
      "cell_type": "code",
      "metadata": {
        "id": "fcNysNaZtY74"
      },
      "source": [
        "number_of_neurons = 100\n",
        "number_of_classes = 11"
      ],
      "execution_count": 10,
      "outputs": []
    },
    {
      "cell_type": "markdown",
      "metadata": {
        "id": "Qh_m54z-5VW8"
      },
      "source": [
        "Lets see some samples"
      ]
    },
    {
      "cell_type": "code",
      "metadata": {
        "id": "mDvSxorK_GXV"
      },
      "source": [
        "model = Sequential()\n",
        "\n",
        "model.add(pre_trained_model)\n",
        "model.add(BatchNormalization())\n",
        "#model.add(GlobalAveragePooling2D())\n",
        "model.add(Flatten())\n",
        "\n",
        "# 1st hidden layer: 300 neurons\n",
        "model.add(Dense(number_of_neurons,activation=\"relu\"))\n",
        "model.add(Dropout(0.2))\n",
        "#model.add(BatchNormalization())\n",
        "\n",
        "# 2nd hidden layer : 150 neurons\n",
        "#model.add(Dense(number_of_neurons//2,activation=\"relu\"))\n",
        "#model.add(Dropout(0.2))\n",
        "#model.add(BatchNormalization())\n",
        "\n",
        "\n",
        "# 3rd hidden layer : 75 neurons\n",
        "#model.add(Dense(number_of_neurons,activation=\"relu\"))\n",
        "#model.add(Dropout(0.5))\n",
        "#model.add(BatchNormalization())\n",
        "\n",
        "model.add(Dense(number_of_classes,activation=\"softmax\"))"
      ],
      "execution_count": 11,
      "outputs": []
    },
    {
      "cell_type": "code",
      "metadata": {
        "id": "sqeVzAQhsj6i"
      },
      "source": [
        "sgd = SGD(learning_rate= 0.01, decay = 1e-6, momentum = 0.9, nesterov = True)\n",
        "\n",
        "f1_score = tfa.metrics.F1Score(num_classes=number_of_classes, average='macro',threshold=0.5)\n",
        "\n",
        "model.compile(optimizer = sgd, \n",
        "              loss = 'categorical_crossentropy', \n",
        "              metrics = ['accuracy',f1_score])\n",
        "\n",
        "#model.compile(optimizer = tf.keras.optimizers.Adam(learning_rate=0.01,decay = 1e-6), \n",
        "#              loss = 'categorical_crossentropy', \n",
        "#              metrics = ['accuracy',f1_score])\n",
        "            #metrics = ['accuracy',f1_score])\n",
        "\n"
      ],
      "execution_count": 12,
      "outputs": []
    },
    {
      "cell_type": "markdown",
      "source": [
        "Callbacks definition to reduce chances of overfitting the model"
      ],
      "metadata": {
        "id": "pPCZL5X4ePlB"
      }
    },
    {
      "cell_type": "code",
      "source": [
        "fname = \"weights-vgg16-improvement-{epoch:02d}-{val_accuracy:.2f}.hdf5\"\n",
        "\n",
        "resnet_checkpoint = ModelCheckpoint(fname, monitor='val_accuracy', verbose=1, save_best_only=True, mode='max')\n",
        "\n",
        "resnet_early_stopping = EarlyStopping(monitor='loss', patience=5)\n",
        "reduce_lr = ReduceLROnPlateau(monitor='val_loss', factor=0.05, patience=5, min_lr=0.000002)\n",
        "callbacklist = [resnet_checkpoint,resnet_early_stopping,reduce_lr]"
      ],
      "metadata": {
        "id": "WUOueU5ZePt4"
      },
      "execution_count": 13,
      "outputs": []
    },
    {
      "cell_type": "code",
      "metadata": {
        "id": "c9zT6oaF_GXX",
        "colab": {
          "base_uri": "https://localhost:8080/"
        },
        "outputId": "49ddde6e-dafb-48fe-afab-0c5f81da9018"
      },
      "source": [
        "history_fine = model.fit(train_generator,\n",
        "                         epochs=epochs,\n",
        "                         batch_size=batch_size,\n",
        "                         validation_data=validation_generator,\n",
        "                         callbacks=callbacklist\n",
        "                         )"
      ],
      "execution_count": 14,
      "outputs": [
        {
          "output_type": "stream",
          "name": "stdout",
          "text": [
            "Epoch 1/50\n",
            "56/56 [==============================] - ETA: 0s - loss: 2.2583 - accuracy: 0.2159 - f1_score: 0.0818\n",
            "Epoch 1: val_accuracy improved from -inf to 0.16000, saving model to weights-vgg16-improvement-01-0.16.hdf5\n",
            "56/56 [==============================] - 56s 812ms/step - loss: 2.2583 - accuracy: 0.2159 - f1_score: 0.0818 - val_loss: 2.3319 - val_accuracy: 0.1600 - val_f1_score: 0.0000e+00 - lr: 0.0100\n",
            "Epoch 2/50\n",
            "56/56 [==============================] - ETA: 0s - loss: 2.0265 - accuracy: 0.2931 - f1_score: 0.1254\n",
            "Epoch 2: val_accuracy improved from 0.16000 to 0.18800, saving model to weights-vgg16-improvement-02-0.19.hdf5\n",
            "56/56 [==============================] - 36s 646ms/step - loss: 2.0265 - accuracy: 0.2931 - f1_score: 0.1254 - val_loss: 2.2584 - val_accuracy: 0.1880 - val_f1_score: 0.0000e+00 - lr: 0.0100\n",
            "Epoch 3/50\n",
            "56/56 [==============================] - ETA: 0s - loss: 1.9323 - accuracy: 0.3326 - f1_score: 0.1621\n",
            "Epoch 3: val_accuracy improved from 0.18800 to 0.25200, saving model to weights-vgg16-improvement-03-0.25.hdf5\n",
            "56/56 [==============================] - 37s 661ms/step - loss: 1.9323 - accuracy: 0.3326 - f1_score: 0.1621 - val_loss: 2.1824 - val_accuracy: 0.2520 - val_f1_score: 0.0087 - lr: 0.0100\n",
            "Epoch 4/50\n",
            "56/56 [==============================] - ETA: 0s - loss: 1.8812 - accuracy: 0.3410 - f1_score: 0.1820\n",
            "Epoch 4: val_accuracy improved from 0.25200 to 0.28000, saving model to weights-vgg16-improvement-04-0.28.hdf5\n",
            "56/56 [==============================] - 36s 640ms/step - loss: 1.8812 - accuracy: 0.3410 - f1_score: 0.1820 - val_loss: 2.1138 - val_accuracy: 0.2800 - val_f1_score: 0.0237 - lr: 0.0100\n",
            "Epoch 5/50\n",
            "56/56 [==============================] - ETA: 0s - loss: 1.8487 - accuracy: 0.3439 - f1_score: 0.1592\n",
            "Epoch 5: val_accuracy improved from 0.28000 to 0.36400, saving model to weights-vgg16-improvement-05-0.36.hdf5\n",
            "56/56 [==============================] - 36s 641ms/step - loss: 1.8487 - accuracy: 0.3439 - f1_score: 0.1592 - val_loss: 2.0119 - val_accuracy: 0.3640 - val_f1_score: 0.0534 - lr: 0.0100\n",
            "Epoch 6/50\n",
            "56/56 [==============================] - ETA: 0s - loss: 1.8333 - accuracy: 0.3619 - f1_score: 0.1828\n",
            "Epoch 6: val_accuracy improved from 0.36400 to 0.37200, saving model to weights-vgg16-improvement-06-0.37.hdf5\n",
            "56/56 [==============================] - 36s 637ms/step - loss: 1.8333 - accuracy: 0.3619 - f1_score: 0.1828 - val_loss: 1.9687 - val_accuracy: 0.3720 - val_f1_score: 0.0701 - lr: 0.0100\n",
            "Epoch 7/50\n",
            "56/56 [==============================] - ETA: 0s - loss: 1.8234 - accuracy: 0.3636 - f1_score: 0.1748\n",
            "Epoch 7: val_accuracy did not improve from 0.37200\n",
            "56/56 [==============================] - 36s 639ms/step - loss: 1.8234 - accuracy: 0.3636 - f1_score: 0.1748 - val_loss: 1.9131 - val_accuracy: 0.3680 - val_f1_score: 0.0894 - lr: 0.0100\n",
            "Epoch 8/50\n",
            "56/56 [==============================] - ETA: 0s - loss: 1.7772 - accuracy: 0.3743 - f1_score: 0.2002\n",
            "Epoch 8: val_accuracy did not improve from 0.37200\n",
            "56/56 [==============================] - 37s 652ms/step - loss: 1.7772 - accuracy: 0.3743 - f1_score: 0.2002 - val_loss: 1.8984 - val_accuracy: 0.3520 - val_f1_score: 0.1098 - lr: 0.0100\n",
            "Epoch 9/50\n",
            "56/56 [==============================] - ETA: 0s - loss: 1.7714 - accuracy: 0.3692 - f1_score: 0.2098\n",
            "Epoch 9: val_accuracy did not improve from 0.37200\n",
            "56/56 [==============================] - 38s 680ms/step - loss: 1.7714 - accuracy: 0.3692 - f1_score: 0.2098 - val_loss: 1.8690 - val_accuracy: 0.3720 - val_f1_score: 0.1654 - lr: 0.0100\n",
            "Epoch 10/50\n",
            "56/56 [==============================] - ETA: 0s - loss: 1.7532 - accuracy: 0.3923 - f1_score: 0.2210\n",
            "Epoch 10: val_accuracy did not improve from 0.37200\n",
            "56/56 [==============================] - 37s 663ms/step - loss: 1.7532 - accuracy: 0.3923 - f1_score: 0.2210 - val_loss: 1.8952 - val_accuracy: 0.3640 - val_f1_score: 0.1340 - lr: 0.0100\n",
            "Epoch 11/50\n",
            "56/56 [==============================] - ETA: 0s - loss: 1.7548 - accuracy: 0.3687 - f1_score: 0.2024\n",
            "Epoch 11: val_accuracy did not improve from 0.37200\n",
            "56/56 [==============================] - 36s 649ms/step - loss: 1.7548 - accuracy: 0.3687 - f1_score: 0.2024 - val_loss: 1.9294 - val_accuracy: 0.3720 - val_f1_score: 0.1600 - lr: 0.0100\n",
            "Epoch 12/50\n",
            "56/56 [==============================] - ETA: 0s - loss: 1.7324 - accuracy: 0.3839 - f1_score: 0.2227\n",
            "Epoch 12: val_accuracy did not improve from 0.37200\n",
            "56/56 [==============================] - 37s 656ms/step - loss: 1.7324 - accuracy: 0.3839 - f1_score: 0.2227 - val_loss: 1.8888 - val_accuracy: 0.3640 - val_f1_score: 0.1735 - lr: 0.0100\n",
            "Epoch 13/50\n",
            "56/56 [==============================] - ETA: 0s - loss: 1.7071 - accuracy: 0.3940 - f1_score: 0.2265\n",
            "Epoch 13: val_accuracy improved from 0.37200 to 0.38800, saving model to weights-vgg16-improvement-13-0.39.hdf5\n",
            "56/56 [==============================] - 37s 653ms/step - loss: 1.7071 - accuracy: 0.3940 - f1_score: 0.2265 - val_loss: 1.8634 - val_accuracy: 0.3880 - val_f1_score: 0.2045 - lr: 0.0100\n",
            "Epoch 14/50\n",
            "56/56 [==============================] - ETA: 0s - loss: 1.7182 - accuracy: 0.4025 - f1_score: 0.2363\n",
            "Epoch 14: val_accuracy did not improve from 0.38800\n",
            "56/56 [==============================] - 36s 632ms/step - loss: 1.7182 - accuracy: 0.4025 - f1_score: 0.2363 - val_loss: 1.9576 - val_accuracy: 0.3560 - val_f1_score: 0.2089 - lr: 0.0100\n",
            "Epoch 15/50\n",
            "56/56 [==============================] - ETA: 0s - loss: 1.7251 - accuracy: 0.3957 - f1_score: 0.2175\n",
            "Epoch 15: val_accuracy improved from 0.38800 to 0.40400, saving model to weights-vgg16-improvement-15-0.40.hdf5\n",
            "56/56 [==============================] - 36s 647ms/step - loss: 1.7251 - accuracy: 0.3957 - f1_score: 0.2175 - val_loss: 1.8808 - val_accuracy: 0.4040 - val_f1_score: 0.2105 - lr: 0.0100\n",
            "Epoch 16/50\n",
            "56/56 [==============================] - ETA: 0s - loss: 1.6875 - accuracy: 0.4126 - f1_score: 0.2366\n",
            "Epoch 16: val_accuracy did not improve from 0.40400\n",
            "56/56 [==============================] - 37s 652ms/step - loss: 1.6875 - accuracy: 0.4126 - f1_score: 0.2366 - val_loss: 1.9832 - val_accuracy: 0.3560 - val_f1_score: 0.1979 - lr: 0.0100\n",
            "Epoch 17/50\n",
            "56/56 [==============================] - ETA: 0s - loss: 1.6755 - accuracy: 0.4121 - f1_score: 0.2505\n",
            "Epoch 17: val_accuracy did not improve from 0.40400\n",
            "56/56 [==============================] - 37s 667ms/step - loss: 1.6755 - accuracy: 0.4121 - f1_score: 0.2505 - val_loss: 1.9708 - val_accuracy: 0.3640 - val_f1_score: 0.2119 - lr: 0.0100\n",
            "Epoch 18/50\n",
            "56/56 [==============================] - ETA: 0s - loss: 1.6916 - accuracy: 0.4081 - f1_score: 0.2514\n",
            "Epoch 18: val_accuracy did not improve from 0.40400\n",
            "56/56 [==============================] - 37s 655ms/step - loss: 1.6916 - accuracy: 0.4081 - f1_score: 0.2514 - val_loss: 1.9974 - val_accuracy: 0.3840 - val_f1_score: 0.2310 - lr: 0.0100\n",
            "Epoch 19/50\n",
            "56/56 [==============================] - ETA: 0s - loss: 1.6892 - accuracy: 0.3884 - f1_score: 0.2395\n",
            "Epoch 19: val_accuracy did not improve from 0.40400\n",
            "56/56 [==============================] - 36s 638ms/step - loss: 1.6892 - accuracy: 0.3884 - f1_score: 0.2395 - val_loss: 1.9769 - val_accuracy: 0.4000 - val_f1_score: 0.2289 - lr: 5.0000e-04\n",
            "Epoch 20/50\n",
            "56/56 [==============================] - ETA: 0s - loss: 1.6959 - accuracy: 0.4076 - f1_score: 0.2522\n",
            "Epoch 20: val_accuracy did not improve from 0.40400\n",
            "56/56 [==============================] - 36s 635ms/step - loss: 1.6959 - accuracy: 0.4076 - f1_score: 0.2522 - val_loss: 1.9419 - val_accuracy: 0.3920 - val_f1_score: 0.2279 - lr: 5.0000e-04\n",
            "Epoch 21/50\n",
            "56/56 [==============================] - ETA: 0s - loss: 1.6560 - accuracy: 0.4183 - f1_score: 0.2438\n",
            "Epoch 21: val_accuracy did not improve from 0.40400\n",
            "56/56 [==============================] - 37s 665ms/step - loss: 1.6560 - accuracy: 0.4183 - f1_score: 0.2438 - val_loss: 1.9275 - val_accuracy: 0.4000 - val_f1_score: 0.2285 - lr: 5.0000e-04\n",
            "Epoch 22/50\n",
            "56/56 [==============================] - ETA: 0s - loss: 1.6450 - accuracy: 0.4177 - f1_score: 0.2690\n",
            "Epoch 22: val_accuracy did not improve from 0.40400\n",
            "56/56 [==============================] - 37s 657ms/step - loss: 1.6450 - accuracy: 0.4177 - f1_score: 0.2690 - val_loss: 1.9202 - val_accuracy: 0.4000 - val_f1_score: 0.2303 - lr: 5.0000e-04\n",
            "Epoch 23/50\n",
            "56/56 [==============================] - ETA: 0s - loss: 1.6250 - accuracy: 0.4374 - f1_score: 0.2702\n",
            "Epoch 23: val_accuracy did not improve from 0.40400\n",
            "56/56 [==============================] - 37s 656ms/step - loss: 1.6250 - accuracy: 0.4374 - f1_score: 0.2702 - val_loss: 1.9109 - val_accuracy: 0.3920 - val_f1_score: 0.2419 - lr: 5.0000e-04\n",
            "Epoch 24/50\n",
            "56/56 [==============================] - ETA: 0s - loss: 1.6377 - accuracy: 0.4262 - f1_score: 0.2622\n",
            "Epoch 24: val_accuracy did not improve from 0.40400\n",
            "56/56 [==============================] - 36s 642ms/step - loss: 1.6377 - accuracy: 0.4262 - f1_score: 0.2622 - val_loss: 1.9101 - val_accuracy: 0.4000 - val_f1_score: 0.2427 - lr: 2.5000e-05\n",
            "Epoch 25/50\n",
            "56/56 [==============================] - ETA: 0s - loss: 1.5969 - accuracy: 0.4419 - f1_score: 0.2769\n",
            "Epoch 25: val_accuracy did not improve from 0.40400\n",
            "56/56 [==============================] - 38s 673ms/step - loss: 1.5969 - accuracy: 0.4419 - f1_score: 0.2769 - val_loss: 1.9079 - val_accuracy: 0.4040 - val_f1_score: 0.2427 - lr: 2.5000e-05\n",
            "Epoch 26/50\n",
            "56/56 [==============================] - ETA: 0s - loss: 1.6283 - accuracy: 0.4216 - f1_score: 0.2538\n",
            "Epoch 26: val_accuracy did not improve from 0.40400\n",
            "56/56 [==============================] - 38s 671ms/step - loss: 1.6283 - accuracy: 0.4216 - f1_score: 0.2538 - val_loss: 1.9089 - val_accuracy: 0.4040 - val_f1_score: 0.2476 - lr: 2.5000e-05\n",
            "Epoch 27/50\n",
            "56/56 [==============================] - ETA: 0s - loss: 1.6326 - accuracy: 0.4239 - f1_score: 0.2539\n",
            "Epoch 27: val_accuracy improved from 0.40400 to 0.41200, saving model to weights-vgg16-improvement-27-0.41.hdf5\n",
            "56/56 [==============================] - 37s 666ms/step - loss: 1.6326 - accuracy: 0.4239 - f1_score: 0.2539 - val_loss: 1.9066 - val_accuracy: 0.4120 - val_f1_score: 0.2476 - lr: 2.5000e-05\n",
            "Epoch 28/50\n",
            "56/56 [==============================] - ETA: 0s - loss: 1.6465 - accuracy: 0.4149 - f1_score: 0.2618\n",
            "Epoch 28: val_accuracy did not improve from 0.41200\n",
            "56/56 [==============================] - 37s 666ms/step - loss: 1.6465 - accuracy: 0.4149 - f1_score: 0.2618 - val_loss: 1.9083 - val_accuracy: 0.4120 - val_f1_score: 0.2444 - lr: 2.5000e-05\n",
            "Epoch 29/50\n",
            "56/56 [==============================] - ETA: 0s - loss: 1.6305 - accuracy: 0.4200 - f1_score: 0.2618\n",
            "Epoch 29: val_accuracy did not improve from 0.41200\n",
            "56/56 [==============================] - 37s 662ms/step - loss: 1.6305 - accuracy: 0.4200 - f1_score: 0.2618 - val_loss: 1.9079 - val_accuracy: 0.4040 - val_f1_score: 0.2476 - lr: 2.0000e-06\n",
            "Epoch 30/50\n",
            "56/56 [==============================] - ETA: 0s - loss: 1.6251 - accuracy: 0.4228 - f1_score: 0.2681\n",
            "Epoch 30: val_accuracy did not improve from 0.41200\n",
            "56/56 [==============================] - 37s 662ms/step - loss: 1.6251 - accuracy: 0.4228 - f1_score: 0.2681 - val_loss: 1.9055 - val_accuracy: 0.4040 - val_f1_score: 0.2378 - lr: 2.0000e-06\n"
          ]
        }
      ]
    },
    {
      "cell_type": "code",
      "metadata": {
        "id": "1WFZwVEg_GXb"
      },
      "source": [
        "#f1 = history_fine.history['f1_score']\n",
        "#val_f1 = history_fine.history['val_f1_score']\n",
        "\n",
        "#plt.figure(figsize=(8, 8))\n",
        "#plt.subplot(2, 1, 1)\n",
        "#plt.plot(f1, label='Training F1-Score')\n",
        "#plt.plot(val_f1, label='Validation F1-Score')\n",
        "#plt.legend(loc='lower right')\n",
        "#plt.ylabel('F1-Score')\n",
        "#plt.ylim([min(plt.ylim()),1])\n",
        "#plt.title('Training and Validation F1-Score')\n"
      ],
      "execution_count": 15,
      "outputs": []
    },
    {
      "cell_type": "code",
      "source": [
        "f1 = history_fine.history['accuracy']\n",
        "val_f1 = history_fine.history['val_accuracy']\n",
        "\n",
        "plt.figure(figsize=(8, 8))\n",
        "plt.subplot(2, 1, 1)\n",
        "plt.plot(f1, label='Training F1-Score')\n",
        "plt.plot(val_f1, label='Validation F1-Score')\n",
        "plt.legend(loc='lower right')\n",
        "plt.ylabel('F1-Score')\n",
        "plt.ylim([min(plt.ylim()),1])\n",
        "plt.title('Training and Validation F1-Score')\n"
      ],
      "metadata": {
        "id": "fOSIrhK5g1ZF",
        "colab": {
          "base_uri": "https://localhost:8080/",
          "height": 279
        },
        "outputId": "faa3b573-f92d-48ce-eb91-218301fab9d2"
      },
      "execution_count": 16,
      "outputs": [
        {
          "output_type": "execute_result",
          "data": {
            "text/plain": [
              "Text(0.5, 1.0, 'Training and Validation F1-Score')"
            ]
          },
          "metadata": {},
          "execution_count": 16
        },
        {
          "output_type": "display_data",
          "data": {
            "text/plain": [
              "<Figure size 576x576 with 1 Axes>"
            ],
            "image/png": "[encoded data removed]"
          },
          "metadata": {
            "needs_background": "light"
          }
        }
      ]
    },
    {
      "cell_type": "code",
      "metadata": {
        "id": "Q8ENVvZSrKrS",
        "colab": {
          "base_uri": "https://localhost:8080/",
          "height": 295
        },
        "outputId": "412cc360-fe25-4986-89b8-a7aa2a313993"
      },
      "source": [
        "loss = history_fine.history['loss']\n",
        "val_loss = history_fine.history['val_loss']\n",
        "\n",
        "plt.plot(history_fine.history['loss'])\n",
        "plt.plot(history_fine.history['val_loss'])\n",
        "plt.title('model loss')\n",
        "plt.ylabel('loss')\n",
        "plt.xlabel('epoch')\n",
        "plt.legend(['training set', 'validation set'], loc='upper left')\n",
        "plt.show()"
      ],
      "execution_count": 17,
      "outputs": [
        {
          "output_type": "display_data",
          "data": {
            "text/plain": [
              "<Figure size 432x288 with 1 Axes>"
            ],
            "image/png": "[encoded data removed]"
          },
          "metadata": {
            "needs_background": "light"
          }
        }
      ]
    },
    {
      "cell_type": "code",
      "source": [
        "score = model.evaluate(test_generator,batch_size=batch_size) \n",
        "print(f'Test loss: {score[0]} / Test accuracy: {score[1]}')"
      ],
      "metadata": {
        "id": "g2VR_adbrsUp",
        "colab": {
          "base_uri": "https://localhost:8080/"
        },
        "outputId": "444a3602-1a18-48d1-97d1-0ab38e37c303"
      },
      "execution_count": 18,
      "outputs": [
        {
          "output_type": "stream",
          "name": "stdout",
          "text": [
            "17/17 [==============================] - 6s 375ms/step - loss: 1.7886 - accuracy: 0.4085 - f1_score: 0.2574\n",
            "Test loss: 1.788573980331421 / Test accuracy: 0.4084778428077698\n"
          ]
        }
      ]
    },
    {
      "cell_type": "code",
      "source": [
        ""
      ],
      "metadata": {
        "id": "mxFnz7J7NY1Z"
      },
      "execution_count": 18,
      "outputs": []
    },
    {
      "cell_type": "markdown",
      "metadata": {
        "id": "zFraRq9i9FNA"
      },
      "source": [
        ""
      ]
    },
    {
      "cell_type": "code",
      "metadata": {
        "id": "RXFG_Bn19FTX",
        "colab": {
          "base_uri": "https://localhost:8080/"
        },
        "outputId": "e9e8c00f-e30f-41ba-f846-57b8f90aa732"
      },
      "source": [
        "#y_prob = model.predict(test_generator,batch_size=batch_size)\n",
        "#y_pred = np.argmax(y_prob,axis=1)\n",
        "\n",
        "y_prob = model.predict(test_generator)\n",
        "y_pred = np.argmax(y_prob,axis=1)\n",
        "#print(pred, labels[np.argmax(pred)])\n",
        "print(classification_report(test_generator.classes,y_pred))"
      ],
      "execution_count": 19,
      "outputs": [
        {
          "output_type": "stream",
          "name": "stdout",
          "text": [
            "              precision    recall  f1-score   support\n",
            "\n",
            "           0       0.11      0.09      0.10        45\n",
            "           1       0.17      0.08      0.11        39\n",
            "           2       0.17      0.22      0.20        49\n",
            "           3       0.10      0.13      0.11        55\n",
            "           4       0.11      0.03      0.05        29\n",
            "           5       0.10      0.07      0.08        59\n",
            "           6       0.06      0.05      0.05        40\n",
            "           7       0.03      0.05      0.04        37\n",
            "           8       0.12      0.18      0.15        56\n",
            "           9       0.11      0.13      0.12        69\n",
            "          10       0.15      0.10      0.12        41\n",
            "\n",
            "    accuracy                           0.11       519\n",
            "   macro avg       0.11      0.10      0.10       519\n",
            "weighted avg       0.11      0.11      0.11       519\n",
            "\n"
          ]
        }
      ]
    },
    {
      "cell_type": "code",
      "source": [
        "y_prob"
      ],
      "metadata": {
        "id": "0gCeN5zQyylW",
        "colab": {
          "base_uri": "https://localhost:8080/"
        },
        "outputId": "ac3d6e44-0178-46c0-b909-7c1f75ff4a90"
      },
      "execution_count": 20,
      "outputs": [
        {
          "output_type": "execute_result",
          "data": {
            "text/plain": [
              "array([[5.5858529e-01, 9.5721465e-03, 5.0468811e-06, ..., 1.4329754e-03,\n",
              "        1.0341976e-05, 2.0640218e-03],\n",
              "       [2.9304696e-02, 4.3264341e-02, 5.4417815e-02, ..., 3.1757584e-01,\n",
              "        2.5162053e-01, 2.1143891e-01],\n",
              "       [3.8548451e-02, 7.5312115e-02, 1.2437080e-01, ..., 2.1076535e-01,\n",
              "        2.3672312e-01, 1.4572419e-01],\n",
              "       ...,\n",
              "       [9.2290014e-02, 8.4396064e-02, 1.8884521e-02, ..., 1.3013187e-01,\n",
              "        2.1297570e-01, 2.3537910e-01],\n",
              "       [3.7228003e-02, 9.2785046e-02, 2.2904068e-02, ..., 3.0492765e-01,\n",
              "        2.4618195e-01, 1.5330161e-01],\n",
              "       [3.1841803e-02, 2.3092806e-02, 3.2272133e-01, ..., 5.7826214e-02,\n",
              "        1.6944449e-02, 3.1123972e-02]], dtype=float32)"
            ]
          },
          "metadata": {},
          "execution_count": 20
        }
      ]
    },
    {
      "cell_type": "code",
      "source": [
        "test_generator.classes"
      ],
      "metadata": {
        "id": "cbxMbryxo31y",
        "colab": {
          "base_uri": "https://localhost:8080/"
        },
        "outputId": "35978c2e-747a-4b90-f81f-ecde002f3afe"
      },
      "execution_count": 21,
      "outputs": [
        {
          "output_type": "execute_result",
          "data": {
            "text/plain": [
              "array([ 0,  0,  0,  0,  0,  0,  0,  0,  0,  0,  0,  0,  0,  0,  0,  0,  0,\n",
              "        0,  0,  0,  0,  0,  0,  0,  0,  0,  0,  0,  0,  0,  0,  0,  0,  0,\n",
              "        0,  0,  0,  0,  0,  0,  0,  0,  0,  0,  0,  1,  1,  1,  1,  1,  1,\n",
              "        1,  1,  1,  1,  1,  1,  1,  1,  1,  1,  1,  1,  1,  1,  1,  1,  1,\n",
              "        1,  1,  1,  1,  1,  1,  1,  1,  1,  1,  1,  1,  1,  1,  1,  1,  2,\n",
              "        2,  2,  2,  2,  2,  2,  2,  2,  2,  2,  2,  2,  2,  2,  2,  2,  2,\n",
              "        2,  2,  2,  2,  2,  2,  2,  2,  2,  2,  2,  2,  2,  2,  2,  2,  2,\n",
              "        2,  2,  2,  2,  2,  2,  2,  2,  2,  2,  2,  2,  2,  2,  3,  3,  3,\n",
              "        3,  3,  3,  3,  3,  3,  3,  3,  3,  3,  3,  3,  3,  3,  3,  3,  3,\n",
              "        3,  3,  3,  3,  3,  3,  3,  3,  3,  3,  3,  3,  3,  3,  3,  3,  3,\n",
              "        3,  3,  3,  3,  3,  3,  3,  3,  3,  3,  3,  3,  3,  3,  3,  3,  3,\n",
              "        3,  4,  4,  4,  4,  4,  4,  4,  4,  4,  4,  4,  4,  4,  4,  4,  4,\n",
              "        4,  4,  4,  4,  4,  4,  4,  4,  4,  4,  4,  4,  4,  5,  5,  5,  5,\n",
              "        5,  5,  5,  5,  5,  5,  5,  5,  5,  5,  5,  5,  5,  5,  5,  5,  5,\n",
              "        5,  5,  5,  5,  5,  5,  5,  5,  5,  5,  5,  5,  5,  5,  5,  5,  5,\n",
              "        5,  5,  5,  5,  5,  5,  5,  5,  5,  5,  5,  5,  5,  5,  5,  5,  5,\n",
              "        5,  5,  5,  5,  6,  6,  6,  6,  6,  6,  6,  6,  6,  6,  6,  6,  6,\n",
              "        6,  6,  6,  6,  6,  6,  6,  6,  6,  6,  6,  6,  6,  6,  6,  6,  6,\n",
              "        6,  6,  6,  6,  6,  6,  6,  6,  6,  6,  7,  7,  7,  7,  7,  7,  7,\n",
              "        7,  7,  7,  7,  7,  7,  7,  7,  7,  7,  7,  7,  7,  7,  7,  7,  7,\n",
              "        7,  7,  7,  7,  7,  7,  7,  7,  7,  7,  7,  7,  7,  8,  8,  8,  8,\n",
              "        8,  8,  8,  8,  8,  8,  8,  8,  8,  8,  8,  8,  8,  8,  8,  8,  8,\n",
              "        8,  8,  8,  8,  8,  8,  8,  8,  8,  8,  8,  8,  8,  8,  8,  8,  8,\n",
              "        8,  8,  8,  8,  8,  8,  8,  8,  8,  8,  8,  8,  8,  8,  8,  8,  8,\n",
              "        8,  9,  9,  9,  9,  9,  9,  9,  9,  9,  9,  9,  9,  9,  9,  9,  9,\n",
              "        9,  9,  9,  9,  9,  9,  9,  9,  9,  9,  9,  9,  9,  9,  9,  9,  9,\n",
              "        9,  9,  9,  9,  9,  9,  9,  9,  9,  9,  9,  9,  9,  9,  9,  9,  9,\n",
              "        9,  9,  9,  9,  9,  9,  9,  9,  9,  9,  9,  9,  9,  9,  9,  9,  9,\n",
              "        9,  9, 10, 10, 10, 10, 10, 10, 10, 10, 10, 10, 10, 10, 10, 10, 10,\n",
              "       10, 10, 10, 10, 10, 10, 10, 10, 10, 10, 10, 10, 10, 10, 10, 10, 10,\n",
              "       10, 10, 10, 10, 10, 10, 10, 10, 10], dtype=int32)"
            ]
          },
          "metadata": {},
          "execution_count": 21
        }
      ]
    },
    {
      "cell_type": "code",
      "source": [
        "y_pred"
      ],
      "metadata": {
        "id": "_C6CCDiayO0g",
        "colab": {
          "base_uri": "https://localhost:8080/"
        },
        "outputId": "de2b7966-d2e0-4e6a-dd3f-155465d6617e"
      },
      "execution_count": 22,
      "outputs": [
        {
          "output_type": "execute_result",
          "data": {
            "text/plain": [
              "array([ 0,  8,  9, 10,  2,  8,  7,  3,  3,  8,  9,  1,  9,  9,  7,  1,  9,\n",
              "        5,  7,  3,  5,  8,  9,  6,  5,  8,  2,  7,  0,  3,  0,  9,  9,  0,\n",
              "        2,  9,  6,  6,  6,  8,  6,  3,  9,  9, 10,  7,  3,  8,  6, 10,  3,\n",
              "       10,  7,  3,  9,  3,  5,  1,  2,  8,  3,  8,  2,  1,  9,  3,  5,  7,\n",
              "        8,  8,  8,  2,  8, 10,  1,  8, 10,  5,  3,  2,  7,  0,  9,  3,  8,\n",
              "        8,  9,  6,  3,  0,  5,  2,  7,  9,  2,  7,  5,  7,  6,  2,  3,  8,\n",
              "        2,  5,  2,  8,  2,  9,  2,  9,  2,  5,  3,  1,  2,  4,  9,  3,  7,\n",
              "        0,  9,  3,  7,  7,  5,  9,  2,  2,  8,  9,  9,  9,  5,  9,  0,  3,\n",
              "        2,  7,  0,  2,  6, 10,  0,  3,  7,  8,  3,  5, 10,  7,  3,  2,  9,\n",
              "        5,  6,  8,  3,  8,  7,  3,  8,  0,  8, 10,  3,  5,  2,  0,  1,  4,\n",
              "        7,  6,  7,  8,  6,  9,  9,  9,  6,  9,  9,  8,  1,  2,  0,  9,  5,\n",
              "        2,  8,  6,  9,  5,  3,  6,  7,  7,  9,  7,  9,  8,  8,  9,  6,  9,\n",
              "        2,  7,  3,  5,  8,  0,  3,  0,  9,  4,  9,  8,  2,  9,  3,  3,  7,\n",
              "        4,  8,  2,  9,  6, 10,  0,  9,  8,  2,  9,  6,  5,  3,  2,  8,  8,\n",
              "        0,  3,  9,  8,  8,  5,  6,  3,  7,  7,  8,  7,  0,  4,  2,  2,  9,\n",
              "        6,  8,  7,  0,  3,  3,  2,  9,  6,  8,  8,  7,  5,  6,  3,  7, 10,\n",
              "        3,  2,  5,  3,  7,  4,  8,  0,  9,  9,  8,  3,  7,  7,  8,  3,  0,\n",
              "        8, 10,  0,  7,  7,  5,  8,  6,  7,  2,  7,  6,  4,  5,  7,  2,  7,\n",
              "        0,  9,  9,  2,  0,  5, 10,  2,  8,  8,  2,  8, 10,  8,  3,  3,  2,\n",
              "        2,  9,  6,  8,  3,  5, 10,  6,  6,  2,  1,  3,  2,  5,  3,  0,  6,\n",
              "        8,  2,  9,  7,  3,  6, 10,  3,  8,  3,  9,  7,  0,  9,  0,  9,  3,\n",
              "        8,  3,  5,  3,  7,  8,  9,  8,  3,  2,  5,  9,  0,  6,  1,  5,  3,\n",
              "        1,  9,  3,  3,  2,  4,  1,  7,  7, 10,  8,  8,  1,  9,  7,  8,  0,\n",
              "        8,  7,  8,  9,  1,  6,  5,  1,  5,  5,  2,  3,  8,  3,  9,  2,  8,\n",
              "        2,  7,  3, 10,  9,  3,  5,  3,  6,  8,  8,  8, 10, 10,  8,  7,  5,\n",
              "        3,  0,  9,  3,  8,  7,  8,  8,  6,  8,  6,  3,  2,  0,  8,  9,  7,\n",
              "        5,  9,  8,  1,  2,  2,  2, 10,  2,  7,  8,  7,  2,  9,  8,  2,  3,\n",
              "        7,  8,  2,  0,  9, 10,  0,  7,  0,  9,  2,  5,  9,  7,  4,  8, 10,\n",
              "        8,  9,  1,  2,  3,  9,  2,  7,  2,  9,  3, 10,  9,  9,  5,  8,  1,\n",
              "        0,  9,  0,  8,  5,  3,  3,  2,  9,  0,  9, 10, 10,  9,  9,  2,  9,\n",
              "        3,  3,  2,  3,  9,  9, 10,  8,  7])"
            ]
          },
          "metadata": {},
          "execution_count": 22
        }
      ]
    },
    {
      "cell_type": "code",
      "source": [
        "import plotly.figure_factory as ff\n",
        "\n",
        "y_true = test_generator.classes\n",
        "\n",
        "z = confusion_matrix(y_true, y_pred)\n",
        "\n",
        "x = list(test_generator.class_indices.keys())\n",
        "\n",
        "y = list(test_generator.class_indices.keys())\n"
      ],
      "metadata": {
        "id": "5NOZQOgN_DHU"
      },
      "execution_count": 23,
      "outputs": []
    },
    {
      "cell_type": "code",
      "metadata": {
        "id": "EHxUyHkC1URt",
        "colab": {
          "base_uri": "https://localhost:8080/",
          "height": 542
        },
        "outputId": "0887b159-70ff-4271-d9fb-1a8bd095530e"
      },
      "source": [
        "# change each element of z to type string for annotations\n",
        "z_text = [[str(y) for y in x] for x in z]\n",
        "\n",
        "# set up figure \n",
        "fig = ff.create_annotated_heatmap(z, x=x, y=y, annotation_text=z_text, colorscale='Viridis')\n",
        "\n",
        "# add title\n",
        "fig.update_layout(title_text='<i><b>Confusion matrix</b></i>',\n",
        "                  #xaxis = dict(title='x'),\n",
        "                  #yaxis = dict(title='x')\n",
        "                 )\n",
        "\n",
        "# add custom xaxis title\n",
        "fig.add_annotation(dict(font=dict(color=\"black\",size=14),\n",
        "                        x=0.5,\n",
        "                        y=-0.15,\n",
        "                        showarrow=False,\n",
        "                        text=\"Predicted value\",\n",
        "                        xref=\"paper\",\n",
        "                        yref=\"paper\"))\n",
        "\n",
        "# add custom yaxis title\n",
        "fig.add_annotation(dict(font=dict(color=\"black\",size=14),\n",
        "                        x=-0.35,\n",
        "                        y=0.5,\n",
        "                        showarrow=False,\n",
        "                        text=\"Real value\",\n",
        "                        textangle=-90,\n",
        "                        xref=\"paper\",\n",
        "                        yref=\"paper\"))\n",
        "\n",
        "# adjust margins to make room for yaxis title\n",
        "fig.update_layout(margin=dict(t=50, l=200))\n",
        "\n",
        "# add colorbar\n",
        "fig['data'][0]['showscale'] = True\n",
        "fig.show()"
      ],
      "execution_count": 24,
      "outputs": [
        {
          "output_type": "display_data",
          "data": {
            "text/html": [
              "<html>\n",
              "<head><meta charset=\"utf-8\" /></head>\n",
              "<body>\n",
              "    <div>            <script src=\"https://cdnjs.cloudflare.com/ajax/libs/mathjax/2.7.5/MathJax.js?config=TeX-AMS-MML_SVG\"></script><script type=\"text/javascript\">if (window.MathJax) {MathJax.Hub.Config({SVG: {font: \"STIX-Web\"}});}</script>                <script type=\"text/javascript\">window.PlotlyConfig = {MathJaxConfig: 'local'};</script>\n",
              "        <script src=\"https://cdn.plot.ly/plotly-2.8.3.min.js\"></script>                <div id=\"f3b11554-2222-4a59-9061-bdd330935242\" class=\"plotly-graph-div\" style=\"height:525px; width:100%;\"></div>            <script type=\"text/javascript\">                                    window.PLOTLYENV=window.PLOTLYENV || {};                                    if (document.getElementById(\"f3b11554-2222-4a59-9061-bdd330935242\")) {                    Plotly.newPlot(                        \"f3b11554-2222-4a59-9061-bdd330935242\",                        [{\"colorscale\":[[0.0,\"#440154\"],[0.1111111111111111,\"#482878\"],[0.2222222222222222,\"#3e4989\"],[0.3333333333333333,\"#31688e\"],[0.4444444444444444,\"#26828e\"],[0.5555555555555556,\"#1f9e89\"],[0.6666666666666666,\"#35b779\"],[0.7777777777777778,\"#6ece58\"],[0.8888888888888888,\"#b5de2b\"],[1.0,\"#fde725\"]],\"reversescale\":false,\"showscale\":true,\"x\":[\"Ac\",\"As\",\"Cb\",\"Cc\",\"Ci\",\"Cs\",\"Ct\",\"Cu\",\"Ns\",\"Sc\",\"St\"],\"y\":[\"Ac\",\"As\",\"Cb\",\"Cc\",\"Ci\",\"Cs\",\"Ct\",\"Cu\",\"Ns\",\"Sc\",\"St\"],\"z\":[[4,2,3,5,0,3,5,4,6,11,2],[1,3,4,8,0,3,1,4,8,3,4],[2,1,11,5,1,6,2,6,5,10,0],[6,2,6,7,1,4,5,6,7,8,3],[2,0,2,3,1,2,3,4,5,7,0],[4,0,7,10,2,4,6,7,10,7,2],[5,0,4,2,2,3,2,9,7,4,2],[2,1,6,8,0,2,5,2,5,3,3],[3,6,5,9,1,6,2,5,10,8,1],[5,1,9,7,1,4,3,9,15,9,6],[3,2,6,7,0,2,0,2,3,12,4]],\"type\":\"heatmap\"}],                        {\"annotations\":[{\"font\":{\"color\":\"#FFFFFF\"},\"showarrow\":false,\"text\":\"4\",\"x\":\"Ac\",\"xref\":\"x\",\"y\":\"Ac\",\"yref\":\"y\"},{\"font\":{\"color\":\"#FFFFFF\"},\"showarrow\":false,\"text\":\"2\",\"x\":\"As\",\"xref\":\"x\",\"y\":\"Ac\",\"yref\":\"y\"},{\"font\":{\"color\":\"#FFFFFF\"},\"showarrow\":false,\"text\":\"3\",\"x\":\"Cb\",\"xref\":\"x\",\"y\":\"Ac\",\"yref\":\"y\"},{\"font\":{\"color\":\"#FFFFFF\"},\"showarrow\":false,\"text\":\"5\",\"x\":\"Cc\",\"xref\":\"x\",\"y\":\"Ac\",\"yref\":\"y\"},{\"font\":{\"color\":\"#FFFFFF\"},\"showarrow\":false,\"text\":\"0\",\"x\":\"Ci\",\"xref\":\"x\",\"y\":\"Ac\",\"yref\":\"y\"},{\"font\":{\"color\":\"#FFFFFF\"},\"showarrow\":false,\"text\":\"3\",\"x\":\"Cs\",\"xref\":\"x\",\"y\":\"Ac\",\"yref\":\"y\"},{\"font\":{\"color\":\"#FFFFFF\"},\"showarrow\":false,\"text\":\"5\",\"x\":\"Ct\",\"xref\":\"x\",\"y\":\"Ac\",\"yref\":\"y\"},{\"font\":{\"color\":\"#FFFFFF\"},\"showarrow\":false,\"text\":\"4\",\"x\":\"Cu\",\"xref\":\"x\",\"y\":\"Ac\",\"yref\":\"y\"},{\"font\":{\"color\":\"#FFFFFF\"},\"showarrow\":false,\"text\":\"6\",\"x\":\"Ns\",\"xref\":\"x\",\"y\":\"Ac\",\"yref\":\"y\"},{\"font\":{\"color\":\"#000000\"},\"showarrow\":false,\"text\":\"11\",\"x\":\"Sc\",\"xref\":\"x\",\"y\":\"Ac\",\"yref\":\"y\"},{\"font\":{\"color\":\"#FFFFFF\"},\"showarrow\":false,\"text\":\"2\",\"x\":\"St\",\"xref\":\"x\",\"y\":\"Ac\",\"yref\":\"y\"},{\"font\":{\"color\":\"#FFFFFF\"},\"showarrow\":false,\"text\":\"1\",\"x\":\"Ac\",\"xref\":\"x\",\"y\":\"As\",\"yref\":\"y\"},{\"font\":{\"color\":\"#FFFFFF\"},\"showarrow\":false,\"text\":\"3\",\"x\":\"As\",\"xref\":\"x\",\"y\":\"As\",\"yref\":\"y\"},{\"font\":{\"color\":\"#FFFFFF\"},\"showarrow\":false,\"text\":\"4\",\"x\":\"Cb\",\"xref\":\"x\",\"y\":\"As\",\"yref\":\"y\"},{\"font\":{\"color\":\"#000000\"},\"showarrow\":false,\"text\":\"8\",\"x\":\"Cc\",\"xref\":\"x\",\"y\":\"As\",\"yref\":\"y\"},{\"font\":{\"color\":\"#FFFFFF\"},\"showarrow\":false,\"text\":\"0\",\"x\":\"Ci\",\"xref\":\"x\",\"y\":\"As\",\"yref\":\"y\"},{\"font\":{\"color\":\"#FFFFFF\"},\"showarrow\":false,\"text\":\"3\",\"x\":\"Cs\",\"xref\":\"x\",\"y\":\"As\",\"yref\":\"y\"},{\"font\":{\"color\":\"#FFFFFF\"},\"showarrow\":false,\"text\":\"1\",\"x\":\"Ct\",\"xref\":\"x\",\"y\":\"As\",\"yref\":\"y\"},{\"font\":{\"color\":\"#FFFFFF\"},\"showarrow\":false,\"text\":\"4\",\"x\":\"Cu\",\"xref\":\"x\",\"y\":\"As\",\"yref\":\"y\"},{\"font\":{\"color\":\"#000000\"},\"showarrow\":false,\"text\":\"8\",\"x\":\"Ns\",\"xref\":\"x\",\"y\":\"As\",\"yref\":\"y\"},{\"font\":{\"color\":\"#FFFFFF\"},\"showarrow\":false,\"text\":\"3\",\"x\":\"Sc\",\"xref\":\"x\",\"y\":\"As\",\"yref\":\"y\"},{\"font\":{\"color\":\"#FFFFFF\"},\"showarrow\":false,\"text\":\"4\",\"x\":\"St\",\"xref\":\"x\",\"y\":\"As\",\"yref\":\"y\"},{\"font\":{\"color\":\"#FFFFFF\"},\"showarrow\":false,\"text\":\"2\",\"x\":\"Ac\",\"xref\":\"x\",\"y\":\"Cb\",\"yref\":\"y\"},{\"font\":{\"color\":\"#FFFFFF\"},\"showarrow\":false,\"text\":\"1\",\"x\":\"As\",\"xref\":\"x\",\"y\":\"Cb\",\"yref\":\"y\"},{\"font\":{\"color\":\"#000000\"},\"showarrow\":false,\"text\":\"11\",\"x\":\"Cb\",\"xref\":\"x\",\"y\":\"Cb\",\"yref\":\"y\"},{\"font\":{\"color\":\"#FFFFFF\"},\"showarrow\":false,\"text\":\"5\",\"x\":\"Cc\",\"xref\":\"x\",\"y\":\"Cb\",\"yref\":\"y\"},{\"font\":{\"color\":\"#FFFFFF\"},\"showarrow\":false,\"text\":\"1\",\"x\":\"Ci\",\"xref\":\"x\",\"y\":\"Cb\",\"yref\":\"y\"},{\"font\":{\"color\":\"#FFFFFF\"},\"showarrow\":false,\"text\":\"6\",\"x\":\"Cs\",\"xref\":\"x\",\"y\":\"Cb\",\"yref\":\"y\"},{\"font\":{\"color\":\"#FFFFFF\"},\"showarrow\":false,\"text\":\"2\",\"x\":\"Ct\",\"xref\":\"x\",\"y\":\"Cb\",\"yref\":\"y\"},{\"font\":{\"color\":\"#FFFFFF\"},\"showarrow\":false,\"text\":\"6\",\"x\":\"Cu\",\"xref\":\"x\",\"y\":\"Cb\",\"yref\":\"y\"},{\"font\":{\"color\":\"#FFFFFF\"},\"showarrow\":false,\"text\":\"5\",\"x\":\"Ns\",\"xref\":\"x\",\"y\":\"Cb\",\"yref\":\"y\"},{\"font\":{\"color\":\"#000000\"},\"showarrow\":false,\"text\":\"10\",\"x\":\"Sc\",\"xref\":\"x\",\"y\":\"Cb\",\"yref\":\"y\"},{\"font\":{\"color\":\"#FFFFFF\"},\"showarrow\":false,\"text\":\"0\",\"x\":\"St\",\"xref\":\"x\",\"y\":\"Cb\",\"yref\":\"y\"},{\"font\":{\"color\":\"#FFFFFF\"},\"showarrow\":false,\"text\":\"6\",\"x\":\"Ac\",\"xref\":\"x\",\"y\":\"Cc\",\"yref\":\"y\"},{\"font\":{\"color\":\"#FFFFFF\"},\"showarrow\":false,\"text\":\"2\",\"x\":\"As\",\"xref\":\"x\",\"y\":\"Cc\",\"yref\":\"y\"},{\"font\":{\"color\":\"#FFFFFF\"},\"showarrow\":false,\"text\":\"6\",\"x\":\"Cb\",\"xref\":\"x\",\"y\":\"Cc\",\"yref\":\"y\"},{\"font\":{\"color\":\"#FFFFFF\"},\"showarrow\":false,\"text\":\"7\",\"x\":\"Cc\",\"xref\":\"x\",\"y\":\"Cc\",\"yref\":\"y\"},{\"font\":{\"color\":\"#FFFFFF\"},\"showarrow\":false,\"text\":\"1\",\"x\":\"Ci\",\"xref\":\"x\",\"y\":\"Cc\",\"yref\":\"y\"},{\"font\":{\"color\":\"#FFFFFF\"},\"showarrow\":false,\"text\":\"4\",\"x\":\"Cs\",\"xref\":\"x\",\"y\":\"Cc\",\"yref\":\"y\"},{\"font\":{\"color\":\"#FFFFFF\"},\"showarrow\":false,\"text\":\"5\",\"x\":\"Ct\",\"xref\":\"x\",\"y\":\"Cc\",\"yref\":\"y\"},{\"font\":{\"color\":\"#FFFFFF\"},\"showarrow\":false,\"text\":\"6\",\"x\":\"Cu\",\"xref\":\"x\",\"y\":\"Cc\",\"yref\":\"y\"},{\"font\":{\"color\":\"#FFFFFF\"},\"showarrow\":false,\"text\":\"7\",\"x\":\"Ns\",\"xref\":\"x\",\"y\":\"Cc\",\"yref\":\"y\"},{\"font\":{\"color\":\"#000000\"},\"showarrow\":false,\"text\":\"8\",\"x\":\"Sc\",\"xref\":\"x\",\"y\":\"Cc\",\"yref\":\"y\"},{\"font\":{\"color\":\"#FFFFFF\"},\"showarrow\":false,\"text\":\"3\",\"x\":\"St\",\"xref\":\"x\",\"y\":\"Cc\",\"yref\":\"y\"},{\"font\":{\"color\":\"#FFFFFF\"},\"showarrow\":false,\"text\":\"2\",\"x\":\"Ac\",\"xref\":\"x\",\"y\":\"Ci\",\"yref\":\"y\"},{\"font\":{\"color\":\"#FFFFFF\"},\"showarrow\":false,\"text\":\"0\",\"x\":\"As\",\"xref\":\"x\",\"y\":\"Ci\",\"yref\":\"y\"},{\"font\":{\"color\":\"#FFFFFF\"},\"showarrow\":false,\"text\":\"2\",\"x\":\"Cb\",\"xref\":\"x\",\"y\":\"Ci\",\"yref\":\"y\"},{\"font\":{\"color\":\"#FFFFFF\"},\"showarrow\":false,\"text\":\"3\",\"x\":\"Cc\",\"xref\":\"x\",\"y\":\"Ci\",\"yref\":\"y\"},{\"font\":{\"color\":\"#FFFFFF\"},\"showarrow\":false,\"text\":\"1\",\"x\":\"Ci\",\"xref\":\"x\",\"y\":\"Ci\",\"yref\":\"y\"},{\"font\":{\"color\":\"#FFFFFF\"},\"showarrow\":false,\"text\":\"2\",\"x\":\"Cs\",\"xref\":\"x\",\"y\":\"Ci\",\"yref\":\"y\"},{\"font\":{\"color\":\"#FFFFFF\"},\"showarrow\":false,\"text\":\"3\",\"x\":\"Ct\",\"xref\":\"x\",\"y\":\"Ci\",\"yref\":\"y\"},{\"font\":{\"color\":\"#FFFFFF\"},\"showarrow\":false,\"text\":\"4\",\"x\":\"Cu\",\"xref\":\"x\",\"y\":\"Ci\",\"yref\":\"y\"},{\"font\":{\"color\":\"#FFFFFF\"},\"showarrow\":false,\"text\":\"5\",\"x\":\"Ns\",\"xref\":\"x\",\"y\":\"Ci\",\"yref\":\"y\"},{\"font\":{\"color\":\"#FFFFFF\"},\"showarrow\":false,\"text\":\"7\",\"x\":\"Sc\",\"xref\":\"x\",\"y\":\"Ci\",\"yref\":\"y\"},{\"font\":{\"color\":\"#FFFFFF\"},\"showarrow\":false,\"text\":\"0\",\"x\":\"St\",\"xref\":\"x\",\"y\":\"Ci\",\"yref\":\"y\"},{\"font\":{\"color\":\"#FFFFFF\"},\"showarrow\":false,\"text\":\"4\",\"x\":\"Ac\",\"xref\":\"x\",\"y\":\"Cs\",\"yref\":\"y\"},{\"font\":{\"color\":\"#FFFFFF\"},\"showarrow\":false,\"text\":\"0\",\"x\":\"As\",\"xref\":\"x\",\"y\":\"Cs\",\"yref\":\"y\"},{\"font\":{\"color\":\"#FFFFFF\"},\"showarrow\":false,\"text\":\"7\",\"x\":\"Cb\",\"xref\":\"x\",\"y\":\"Cs\",\"yref\":\"y\"},{\"font\":{\"color\":\"#000000\"},\"showarrow\":false,\"text\":\"10\",\"x\":\"Cc\",\"xref\":\"x\",\"y\":\"Cs\",\"yref\":\"y\"},{\"font\":{\"color\":\"#FFFFFF\"},\"showarrow\":false,\"text\":\"2\",\"x\":\"Ci\",\"xref\":\"x\",\"y\":\"Cs\",\"yref\":\"y\"},{\"font\":{\"color\":\"#FFFFFF\"},\"showarrow\":false,\"text\":\"4\",\"x\":\"Cs\",\"xref\":\"x\",\"y\":\"Cs\",\"yref\":\"y\"},{\"font\":{\"color\":\"#FFFFFF\"},\"showarrow\":false,\"text\":\"6\",\"x\":\"Ct\",\"xref\":\"x\",\"y\":\"Cs\",\"yref\":\"y\"},{\"font\":{\"color\":\"#FFFFFF\"},\"showarrow\":false,\"text\":\"7\",\"x\":\"Cu\",\"xref\":\"x\",\"y\":\"Cs\",\"yref\":\"y\"},{\"font\":{\"color\":\"#000000\"},\"showarrow\":false,\"text\":\"10\",\"x\":\"Ns\",\"xref\":\"x\",\"y\":\"Cs\",\"yref\":\"y\"},{\"font\":{\"color\":\"#FFFFFF\"},\"showarrow\":false,\"text\":\"7\",\"x\":\"Sc\",\"xref\":\"x\",\"y\":\"Cs\",\"yref\":\"y\"},{\"font\":{\"color\":\"#FFFFFF\"},\"showarrow\":false,\"text\":\"2\",\"x\":\"St\",\"xref\":\"x\",\"y\":\"Cs\",\"yref\":\"y\"},{\"font\":{\"color\":\"#FFFFFF\"},\"showarrow\":false,\"text\":\"5\",\"x\":\"Ac\",\"xref\":\"x\",\"y\":\"Ct\",\"yref\":\"y\"},{\"font\":{\"color\":\"#FFFFFF\"},\"showarrow\":false,\"text\":\"0\",\"x\":\"As\",\"xref\":\"x\",\"y\":\"Ct\",\"yref\":\"y\"},{\"font\":{\"color\":\"#FFFFFF\"},\"showarrow\":false,\"text\":\"4\",\"x\":\"Cb\",\"xref\":\"x\",\"y\":\"Ct\",\"yref\":\"y\"},{\"font\":{\"color\":\"#FFFFFF\"},\"showarrow\":false,\"text\":\"2\",\"x\":\"Cc\",\"xref\":\"x\",\"y\":\"Ct\",\"yref\":\"y\"},{\"font\":{\"color\":\"#FFFFFF\"},\"showarrow\":false,\"text\":\"2\",\"x\":\"Ci\",\"xref\":\"x\",\"y\":\"Ct\",\"yref\":\"y\"},{\"font\":{\"color\":\"#FFFFFF\"},\"showarrow\":false,\"text\":\"3\",\"x\":\"Cs\",\"xref\":\"x\",\"y\":\"Ct\",\"yref\":\"y\"},{\"font\":{\"color\":\"#FFFFFF\"},\"showarrow\":false,\"text\":\"2\",\"x\":\"Ct\",\"xref\":\"x\",\"y\":\"Ct\",\"yref\":\"y\"},{\"font\":{\"color\":\"#000000\"},\"showarrow\":false,\"text\":\"9\",\"x\":\"Cu\",\"xref\":\"x\",\"y\":\"Ct\",\"yref\":\"y\"},{\"font\":{\"color\":\"#FFFFFF\"},\"showarrow\":false,\"text\":\"7\",\"x\":\"Ns\",\"xref\":\"x\",\"y\":\"Ct\",\"yref\":\"y\"},{\"font\":{\"color\":\"#FFFFFF\"},\"showarrow\":false,\"text\":\"4\",\"x\":\"Sc\",\"xref\":\"x\",\"y\":\"Ct\",\"yref\":\"y\"},{\"font\":{\"color\":\"#FFFFFF\"},\"showarrow\":false,\"text\":\"2\",\"x\":\"St\",\"xref\":\"x\",\"y\":\"Ct\",\"yref\":\"y\"},{\"font\":{\"color\":\"#FFFFFF\"},\"showarrow\":false,\"text\":\"2\",\"x\":\"Ac\",\"xref\":\"x\",\"y\":\"Cu\",\"yref\":\"y\"},{\"font\":{\"color\":\"#FFFFFF\"},\"showarrow\":false,\"text\":\"1\",\"x\":\"As\",\"xref\":\"x\",\"y\":\"Cu\",\"yref\":\"y\"},{\"font\":{\"color\":\"#FFFFFF\"},\"showarrow\":false,\"text\":\"6\",\"x\":\"Cb\",\"xref\":\"x\",\"y\":\"Cu\",\"yref\":\"y\"},{\"font\":{\"color\":\"#000000\"},\"showarrow\":false,\"text\":\"8\",\"x\":\"Cc\",\"xref\":\"x\",\"y\":\"Cu\",\"yref\":\"y\"},{\"font\":{\"color\":\"#FFFFFF\"},\"showarrow\":false,\"text\":\"0\",\"x\":\"Ci\",\"xref\":\"x\",\"y\":\"Cu\",\"yref\":\"y\"},{\"font\":{\"color\":\"#FFFFFF\"},\"showarrow\":false,\"text\":\"2\",\"x\":\"Cs\",\"xref\":\"x\",\"y\":\"Cu\",\"yref\":\"y\"},{\"font\":{\"color\":\"#FFFFFF\"},\"showarrow\":false,\"text\":\"5\",\"x\":\"Ct\",\"xref\":\"x\",\"y\":\"Cu\",\"yref\":\"y\"},{\"font\":{\"color\":\"#FFFFFF\"},\"showarrow\":false,\"text\":\"2\",\"x\":\"Cu\",\"xref\":\"x\",\"y\":\"Cu\",\"yref\":\"y\"},{\"font\":{\"color\":\"#FFFFFF\"},\"showarrow\":false,\"text\":\"5\",\"x\":\"Ns\",\"xref\":\"x\",\"y\":\"Cu\",\"yref\":\"y\"},{\"font\":{\"color\":\"#FFFFFF\"},\"showarrow\":false,\"text\":\"3\",\"x\":\"Sc\",\"xref\":\"x\",\"y\":\"Cu\",\"yref\":\"y\"},{\"font\":{\"color\":\"#FFFFFF\"},\"showarrow\":false,\"text\":\"3\",\"x\":\"St\",\"xref\":\"x\",\"y\":\"Cu\",\"yref\":\"y\"},{\"font\":{\"color\":\"#FFFFFF\"},\"showarrow\":false,\"text\":\"3\",\"x\":\"Ac\",\"xref\":\"x\",\"y\":\"Ns\",\"yref\":\"y\"},{\"font\":{\"color\":\"#FFFFFF\"},\"showarrow\":false,\"text\":\"6\",\"x\":\"As\",\"xref\":\"x\",\"y\":\"Ns\",\"yref\":\"y\"},{\"font\":{\"color\":\"#FFFFFF\"},\"showarrow\":false,\"text\":\"5\",\"x\":\"Cb\",\"xref\":\"x\",\"y\":\"Ns\",\"yref\":\"y\"},{\"font\":{\"color\":\"#000000\"},\"showarrow\":false,\"text\":\"9\",\"x\":\"Cc\",\"xref\":\"x\",\"y\":\"Ns\",\"yref\":\"y\"},{\"font\":{\"color\":\"#FFFFFF\"},\"showarrow\":false,\"text\":\"1\",\"x\":\"Ci\",\"xref\":\"x\",\"y\":\"Ns\",\"yref\":\"y\"},{\"font\":{\"color\":\"#FFFFFF\"},\"showarrow\":false,\"text\":\"6\",\"x\":\"Cs\",\"xref\":\"x\",\"y\":\"Ns\",\"yref\":\"y\"},{\"font\":{\"color\":\"#FFFFFF\"},\"showarrow\":false,\"text\":\"2\",\"x\":\"Ct\",\"xref\":\"x\",\"y\":\"Ns\",\"yref\":\"y\"},{\"font\":{\"color\":\"#FFFFFF\"},\"showarrow\":false,\"text\":\"5\",\"x\":\"Cu\",\"xref\":\"x\",\"y\":\"Ns\",\"yref\":\"y\"},{\"font\":{\"color\":\"#000000\"},\"showarrow\":false,\"text\":\"10\",\"x\":\"Ns\",\"xref\":\"x\",\"y\":\"Ns\",\"yref\":\"y\"},{\"font\":{\"color\":\"#000000\"},\"showarrow\":false,\"text\":\"8\",\"x\":\"Sc\",\"xref\":\"x\",\"y\":\"Ns\",\"yref\":\"y\"},{\"font\":{\"color\":\"#FFFFFF\"},\"showarrow\":false,\"text\":\"1\",\"x\":\"St\",\"xref\":\"x\",\"y\":\"Ns\",\"yref\":\"y\"},{\"font\":{\"color\":\"#FFFFFF\"},\"showarrow\":false,\"text\":\"5\",\"x\":\"Ac\",\"xref\":\"x\",\"y\":\"Sc\",\"yref\":\"y\"},{\"font\":{\"color\":\"#FFFFFF\"},\"showarrow\":false,\"text\":\"1\",\"x\":\"As\",\"xref\":\"x\",\"y\":\"Sc\",\"yref\":\"y\"},{\"font\":{\"color\":\"#000000\"},\"showarrow\":false,\"text\":\"9\",\"x\":\"Cb\",\"xref\":\"x\",\"y\":\"Sc\",\"yref\":\"y\"},{\"font\":{\"color\":\"#FFFFFF\"},\"showarrow\":false,\"text\":\"7\",\"x\":\"Cc\",\"xref\":\"x\",\"y\":\"Sc\",\"yref\":\"y\"},{\"font\":{\"color\":\"#FFFFFF\"},\"showarrow\":false,\"text\":\"1\",\"x\":\"Ci\",\"xref\":\"x\",\"y\":\"Sc\",\"yref\":\"y\"},{\"font\":{\"color\":\"#FFFFFF\"},\"showarrow\":false,\"text\":\"4\",\"x\":\"Cs\",\"xref\":\"x\",\"y\":\"Sc\",\"yref\":\"y\"},{\"font\":{\"color\":\"#FFFFFF\"},\"showarrow\":false,\"text\":\"3\",\"x\":\"Ct\",\"xref\":\"x\",\"y\":\"Sc\",\"yref\":\"y\"},{\"font\":{\"color\":\"#000000\"},\"showarrow\":false,\"text\":\"9\",\"x\":\"Cu\",\"xref\":\"x\",\"y\":\"Sc\",\"yref\":\"y\"},{\"font\":{\"color\":\"#000000\"},\"showarrow\":false,\"text\":\"15\",\"x\":\"Ns\",\"xref\":\"x\",\"y\":\"Sc\",\"yref\":\"y\"},{\"font\":{\"color\":\"#000000\"},\"showarrow\":false,\"text\":\"9\",\"x\":\"Sc\",\"xref\":\"x\",\"y\":\"Sc\",\"yref\":\"y\"},{\"font\":{\"color\":\"#FFFFFF\"},\"showarrow\":false,\"text\":\"6\",\"x\":\"St\",\"xref\":\"x\",\"y\":\"Sc\",\"yref\":\"y\"},{\"font\":{\"color\":\"#FFFFFF\"},\"showarrow\":false,\"text\":\"3\",\"x\":\"Ac\",\"xref\":\"x\",\"y\":\"St\",\"yref\":\"y\"},{\"font\":{\"color\":\"#FFFFFF\"},\"showarrow\":false,\"text\":\"2\",\"x\":\"As\",\"xref\":\"x\",\"y\":\"St\",\"yref\":\"y\"},{\"font\":{\"color\":\"#FFFFFF\"},\"showarrow\":false,\"text\":\"6\",\"x\":\"Cb\",\"xref\":\"x\",\"y\":\"St\",\"yref\":\"y\"},{\"font\":{\"color\":\"#FFFFFF\"},\"showarrow\":false,\"text\":\"7\",\"x\":\"Cc\",\"xref\":\"x\",\"y\":\"St\",\"yref\":\"y\"},{\"font\":{\"color\":\"#FFFFFF\"},\"showarrow\":false,\"text\":\"0\",\"x\":\"Ci\",\"xref\":\"x\",\"y\":\"St\",\"yref\":\"y\"},{\"font\":{\"color\":\"#FFFFFF\"},\"showarrow\":false,\"text\":\"2\",\"x\":\"Cs\",\"xref\":\"x\",\"y\":\"St\",\"yref\":\"y\"},{\"font\":{\"color\":\"#FFFFFF\"},\"showarrow\":false,\"text\":\"0\",\"x\":\"Ct\",\"xref\":\"x\",\"y\":\"St\",\"yref\":\"y\"},{\"font\":{\"color\":\"#FFFFFF\"},\"showarrow\":false,\"text\":\"2\",\"x\":\"Cu\",\"xref\":\"x\",\"y\":\"St\",\"yref\":\"y\"},{\"font\":{\"color\":\"#FFFFFF\"},\"showarrow\":false,\"text\":\"3\",\"x\":\"Ns\",\"xref\":\"x\",\"y\":\"St\",\"yref\":\"y\"},{\"font\":{\"color\":\"#000000\"},\"showarrow\":false,\"text\":\"12\",\"x\":\"Sc\",\"xref\":\"x\",\"y\":\"St\",\"yref\":\"y\"},{\"font\":{\"color\":\"#FFFFFF\"},\"showarrow\":false,\"text\":\"4\",\"x\":\"St\",\"xref\":\"x\",\"y\":\"St\",\"yref\":\"y\"},{\"font\":{\"color\":\"black\",\"size\":14},\"showarrow\":false,\"text\":\"Predicted value\",\"x\":0.5,\"xref\":\"paper\",\"y\":-0.15,\"yref\":\"paper\"},{\"font\":{\"color\":\"black\",\"size\":14},\"showarrow\":false,\"text\":\"Real value\",\"textangle\":-90,\"x\":-0.35,\"xref\":\"paper\",\"y\":0.5,\"yref\":\"paper\"}],\"xaxis\":{\"dtick\":1,\"gridcolor\":\"rgb(0, 0, 0)\",\"side\":\"top\",\"ticks\":\"\"},\"yaxis\":{\"dtick\":1,\"ticks\":\"\",\"ticksuffix\":\"  \"},\"template\":{\"data\":{\"bar\":[{\"error_x\":{\"color\":\"#2a3f5f\"},\"error_y\":{\"color\":\"#2a3f5f\"},\"marker\":{\"line\":{\"color\":\"#E5ECF6\",\"width\":0.5},\"pattern\":{\"fillmode\":\"overlay\",\"size\":10,\"solidity\":0.2}},\"type\":\"bar\"}],\"barpolar\":[{\"marker\":{\"line\":{\"color\":\"#E5ECF6\",\"width\":0.5},\"pattern\":{\"fillmode\":\"overlay\",\"size\":10,\"solidity\":0.2}},\"type\":\"barpolar\"}],\"carpet\":[{\"aaxis\":{\"endlinecolor\":\"#2a3f5f\",\"gridcolor\":\"white\",\"linecolor\":\"white\",\"minorgridcolor\":\"white\",\"startlinecolor\":\"#2a3f5f\"},\"baxis\":{\"endlinecolor\":\"#2a3f5f\",\"gridcolor\":\"white\",\"linecolor\":\"white\",\"minorgridcolor\":\"white\",\"startlinecolor\":\"#2a3f5f\"},\"type\":\"carpet\"}],\"choropleth\":[{\"colorbar\":{\"outlinewidth\":0,\"ticks\":\"\"},\"type\":\"choropleth\"}],\"contour\":[{\"colorbar\":{\"outlinewidth\":0,\"ticks\":\"\"},\"colorscale\":[[0.0,\"#0d0887\"],[0.1111111111111111,\"#46039f\"],[0.2222222222222222,\"#7201a8\"],[0.3333333333333333,\"#9c179e\"],[0.4444444444444444,\"#bd3786\"],[0.5555555555555556,\"#d8576b\"],[0.6666666666666666,\"#ed7953\"],[0.7777777777777778,\"#fb9f3a\"],[0.8888888888888888,\"#fdca26\"],[1.0,\"#f0f921\"]],\"type\":\"contour\"}],\"contourcarpet\":[{\"colorbar\":{\"outlinewidth\":0,\"ticks\":\"\"},\"type\":\"contourcarpet\"}],\"heatmap\":[{\"colorbar\":{\"outlinewidth\":0,\"ticks\":\"\"},\"colorscale\":[[0.0,\"#0d0887\"],[0.1111111111111111,\"#46039f\"],[0.2222222222222222,\"#7201a8\"],[0.3333333333333333,\"#9c179e\"],[0.4444444444444444,\"#bd3786\"],[0.5555555555555556,\"#d8576b\"],[0.6666666666666666,\"#ed7953\"],[0.7777777777777778,\"#fb9f3a\"],[0.8888888888888888,\"#fdca26\"],[1.0,\"#f0f921\"]],\"type\":\"heatmap\"}],\"heatmapgl\":[{\"colorbar\":{\"outlinewidth\":0,\"ticks\":\"\"},\"colorscale\":[[0.0,\"#0d0887\"],[0.1111111111111111,\"#46039f\"],[0.2222222222222222,\"#7201a8\"],[0.3333333333333333,\"#9c179e\"],[0.4444444444444444,\"#bd3786\"],[0.5555555555555556,\"#d8576b\"],[0.6666666666666666,\"#ed7953\"],[0.7777777777777778,\"#fb9f3a\"],[0.8888888888888888,\"#fdca26\"],[1.0,\"#f0f921\"]],\"type\":\"heatmapgl\"}],\"histogram\":[{\"marker\":{\"pattern\":{\"fillmode\":\"overlay\",\"size\":10,\"solidity\":0.2}},\"type\":\"histogram\"}],\"histogram2d\":[{\"colorbar\":{\"outlinewidth\":0,\"ticks\":\"\"},\"colorscale\":[[0.0,\"#0d0887\"],[0.1111111111111111,\"#46039f\"],[0.2222222222222222,\"#7201a8\"],[0.3333333333333333,\"#9c179e\"],[0.4444444444444444,\"#bd3786\"],[0.5555555555555556,\"#d8576b\"],[0.6666666666666666,\"#ed7953\"],[0.7777777777777778,\"#fb9f3a\"],[0.8888888888888888,\"#fdca26\"],[1.0,\"#f0f921\"]],\"type\":\"histogram2d\"}],\"histogram2dcontour\":[{\"colorbar\":{\"outlinewidth\":0,\"ticks\":\"\"},\"colorscale\":[[0.0,\"#0d0887\"],[0.1111111111111111,\"#46039f\"],[0.2222222222222222,\"#7201a8\"],[0.3333333333333333,\"#9c179e\"],[0.4444444444444444,\"#bd3786\"],[0.5555555555555556,\"#d8576b\"],[0.6666666666666666,\"#ed7953\"],[0.7777777777777778,\"#fb9f3a\"],[0.8888888888888888,\"#fdca26\"],[1.0,\"#f0f921\"]],\"type\":\"histogram2dcontour\"}],\"mesh3d\":[{\"colorbar\":{\"outlinewidth\":0,\"ticks\":\"\"},\"type\":\"mesh3d\"}],\"parcoords\":[{\"line\":{\"colorbar\":{\"outlinewidth\":0,\"ticks\":\"\"}},\"type\":\"parcoords\"}],\"pie\":[{\"automargin\":true,\"type\":\"pie\"}],\"scatter\":[{\"marker\":{\"colorbar\":{\"outlinewidth\":0,\"ticks\":\"\"}},\"type\":\"scatter\"}],\"scatter3d\":[{\"line\":{\"colorbar\":{\"outlinewidth\":0,\"ticks\":\"\"}},\"marker\":{\"colorbar\":{\"outlinewidth\":0,\"ticks\":\"\"}},\"type\":\"scatter3d\"}],\"scattercarpet\":[{\"marker\":{\"colorbar\":{\"outlinewidth\":0,\"ticks\":\"\"}},\"type\":\"scattercarpet\"}],\"scattergeo\":[{\"marker\":{\"colorbar\":{\"outlinewidth\":0,\"ticks\":\"\"}},\"type\":\"scattergeo\"}],\"scattergl\":[{\"marker\":{\"colorbar\":{\"outlinewidth\":0,\"ticks\":\"\"}},\"type\":\"scattergl\"}],\"scattermapbox\":[{\"marker\":{\"colorbar\":{\"outlinewidth\":0,\"ticks\":\"\"}},\"type\":\"scattermapbox\"}],\"scatterpolar\":[{\"marker\":{\"colorbar\":{\"outlinewidth\":0,\"ticks\":\"\"}},\"type\":\"scatterpolar\"}],\"scatterpolargl\":[{\"marker\":{\"colorbar\":{\"outlinewidth\":0,\"ticks\":\"\"}},\"type\":\"scatterpolargl\"}],\"scatterternary\":[{\"marker\":{\"colorbar\":{\"outlinewidth\":0,\"ticks\":\"\"}},\"type\":\"scatterternary\"}],\"surface\":[{\"colorbar\":{\"outlinewidth\":0,\"ticks\":\"\"},\"colorscale\":[[0.0,\"#0d0887\"],[0.1111111111111111,\"#46039f\"],[0.2222222222222222,\"#7201a8\"],[0.3333333333333333,\"#9c179e\"],[0.4444444444444444,\"#bd3786\"],[0.5555555555555556,\"#d8576b\"],[0.6666666666666666,\"#ed7953\"],[0.7777777777777778,\"#fb9f3a\"],[0.8888888888888888,\"#fdca26\"],[1.0,\"#f0f921\"]],\"type\":\"surface\"}],\"table\":[{\"cells\":{\"fill\":{\"color\":\"#EBF0F8\"},\"line\":{\"color\":\"white\"}},\"header\":{\"fill\":{\"color\":\"#C8D4E3\"},\"line\":{\"color\":\"white\"}},\"type\":\"table\"}]},\"layout\":{\"annotationdefaults\":{\"arrowcolor\":\"#2a3f5f\",\"arrowhead\":0,\"arrowwidth\":1},\"autotypenumbers\":\"strict\",\"coloraxis\":{\"colorbar\":{\"outlinewidth\":0,\"ticks\":\"\"}},\"colorscale\":{\"diverging\":[[0,\"#8e0152\"],[0.1,\"#c51b7d\"],[0.2,\"#de77ae\"],[0.3,\"#f1b6da\"],[0.4,\"#fde0ef\"],[0.5,\"#f7f7f7\"],[0.6,\"#e6f5d0\"],[0.7,\"#b8e186\"],[0.8,\"#7fbc41\"],[0.9,\"#4d9221\"],[1,\"#276419\"]],\"sequential\":[[0.0,\"#0d0887\"],[0.1111111111111111,\"#46039f\"],[0.2222222222222222,\"#7201a8\"],[0.3333333333333333,\"#9c179e\"],[0.4444444444444444,\"#bd3786\"],[0.5555555555555556,\"#d8576b\"],[0.6666666666666666,\"#ed7953\"],[0.7777777777777778,\"#fb9f3a\"],[0.8888888888888888,\"#fdca26\"],[1.0,\"#f0f921\"]],\"sequentialminus\":[[0.0,\"#0d0887\"],[0.1111111111111111,\"#46039f\"],[0.2222222222222222,\"#7201a8\"],[0.3333333333333333,\"#9c179e\"],[0.4444444444444444,\"#bd3786\"],[0.5555555555555556,\"#d8576b\"],[0.6666666666666666,\"#ed7953\"],[0.7777777777777778,\"#fb9f3a\"],[0.8888888888888888,\"#fdca26\"],[1.0,\"#f0f921\"]]},\"colorway\":[\"#636efa\",\"#EF553B\",\"#00cc96\",\"#ab63fa\",\"#FFA15A\",\"#19d3f3\",\"#FF6692\",\"#B6E880\",\"#FF97FF\",\"#FECB52\"],\"font\":{\"color\":\"#2a3f5f\"},\"geo\":{\"bgcolor\":\"white\",\"lakecolor\":\"white\",\"landcolor\":\"#E5ECF6\",\"showlakes\":true,\"showland\":true,\"subunitcolor\":\"white\"},\"hoverlabel\":{\"align\":\"left\"},\"hovermode\":\"closest\",\"mapbox\":{\"style\":\"light\"},\"paper_bgcolor\":\"white\",\"plot_bgcolor\":\"#E5ECF6\",\"polar\":{\"angularaxis\":{\"gridcolor\":\"white\",\"linecolor\":\"white\",\"ticks\":\"\"},\"bgcolor\":\"#E5ECF6\",\"radialaxis\":{\"gridcolor\":\"white\",\"linecolor\":\"white\",\"ticks\":\"\"}},\"scene\":{\"xaxis\":{\"backgroundcolor\":\"#E5ECF6\",\"gridcolor\":\"white\",\"gridwidth\":2,\"linecolor\":\"white\",\"showbackground\":true,\"ticks\":\"\",\"zerolinecolor\":\"white\"},\"yaxis\":{\"backgroundcolor\":\"#E5ECF6\",\"gridcolor\":\"white\",\"gridwidth\":2,\"linecolor\":\"white\",\"showbackground\":true,\"ticks\":\"\",\"zerolinecolor\":\"white\"},\"zaxis\":{\"backgroundcolor\":\"#E5ECF6\",\"gridcolor\":\"white\",\"gridwidth\":2,\"linecolor\":\"white\",\"showbackground\":true,\"ticks\":\"\",\"zerolinecolor\":\"white\"}},\"shapedefaults\":{\"line\":{\"color\":\"#2a3f5f\"}},\"ternary\":{\"aaxis\":{\"gridcolor\":\"white\",\"linecolor\":\"white\",\"ticks\":\"\"},\"baxis\":{\"gridcolor\":\"white\",\"linecolor\":\"white\",\"ticks\":\"\"},\"bgcolor\":\"#E5ECF6\",\"caxis\":{\"gridcolor\":\"white\",\"linecolor\":\"white\",\"ticks\":\"\"}},\"title\":{\"x\":0.05},\"xaxis\":{\"automargin\":true,\"gridcolor\":\"white\",\"linecolor\":\"white\",\"ticks\":\"\",\"title\":{\"standoff\":15},\"zerolinecolor\":\"white\",\"zerolinewidth\":2},\"yaxis\":{\"automargin\":true,\"gridcolor\":\"white\",\"linecolor\":\"white\",\"ticks\":\"\",\"title\":{\"standoff\":15},\"zerolinecolor\":\"white\",\"zerolinewidth\":2}}},\"title\":{\"text\":\"<i><b>Confusion matrix</b></i>\"},\"margin\":{\"t\":50,\"l\":200}},                        {\"responsive\": true}                    ).then(function(){\n",
              "                            \n",
              "var gd = document.getElementById('f3b11554-2222-4a59-9061-bdd330935242');\n",
              "var x = new MutationObserver(function (mutations, observer) {{\n",
              "        var display = window.getComputedStyle(gd).display;\n",
              "        if (!display || display === 'none') {{\n",
              "            console.log([gd, 'removed!']);\n",
              "            Plotly.purge(gd);\n",
              "            observer.disconnect();\n",
              "        }}\n",
              "}});\n",
              "\n",
              "// Listen for the removal of the full notebook cells\n",
              "var notebookContainer = gd.closest('#notebook-container');\n",
              "if (notebookContainer) {{\n",
              "    x.observe(notebookContainer, {childList: true});\n",
              "}}\n",
              "\n",
              "// Listen for the clearing of the current output cell\n",
              "var outputEl = gd.closest('.output');\n",
              "if (outputEl) {{\n",
              "    x.observe(outputEl, {childList: true});\n",
              "}}\n",
              "\n",
              "                        })                };                            </script>        </div>\n",
              "</body>\n",
              "</html>"
            ]
          },
          "metadata": {}
        }
      ]
    }
  ]
}