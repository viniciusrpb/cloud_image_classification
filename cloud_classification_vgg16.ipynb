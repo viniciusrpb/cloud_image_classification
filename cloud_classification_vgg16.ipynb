{
  "nbformat": 4,
  "nbformat_minor": 0,
  "metadata": {
    "kernelspec": {
      "display_name": "Python 3",
      "language": "python",
      "name": "python3"
    },
    "language_info": {
      "codemirror_mode": {
        "name": "ipython",
        "version": 3
      },
      "file_extension": ".py",
      "mimetype": "text/x-python",
      "name": "python",
      "nbconvert_exporter": "python",
      "pygments_lexer": "ipython3",
      "version": "3.6.10"
    },
    "colab": {
      "name": "cloud_classification_vgg16.ipynb",
      "provenance": [],
      "collapsed_sections": [],
      "include_colab_link": true
    },
    "accelerator": "GPU"
  },
  "cells": [
    {
      "cell_type": "markdown",
      "metadata": {
        "id": "view-in-github",
        "colab_type": "text"
      },
      "source": [
        "<a href=\"https://colab.research.google.com/github/viniciusrpb/cloud_image_classification/blob/main/cloud_classification_vgg16.ipynb\" target=\"_parent\"><img src=\"https://colab.research.google.com/assets/colab-badge.svg\" alt=\"Open In Colab\"/></a>"
      ]
    },
    {
      "cell_type": "code",
      "metadata": {
        "id": "Lf68PvvD_GXN",
        "colab": {
          "base_uri": "https://localhost:8080/"
        },
        "outputId": "58b65606-9173-48c6-bbbd-39292394039c"
      },
      "source": [
        "from google.colab import drive\n",
        "drive.mount('/content/drive')"
      ],
      "execution_count": 1,
      "outputs": [
        {
          "output_type": "stream",
          "name": "stdout",
          "text": [
            "Mounted at /content/drive\n"
          ]
        }
      ]
    },
    {
      "cell_type": "markdown",
      "source": [
        "# New Section"
      ],
      "metadata": {
        "id": "uSEdHGn26Hzg"
      }
    },
    {
      "cell_type": "code",
      "metadata": {
        "id": "6o0SMmf8z9qD",
        "colab": {
          "base_uri": "https://localhost:8080/"
        },
        "outputId": "99bb6702-b25c-4105-c1fe-76025e8b4198"
      },
      "source": [
        "!pip install tensorflow_addons"
      ],
      "execution_count": 2,
      "outputs": [
        {
          "output_type": "stream",
          "name": "stdout",
          "text": [
            "Collecting tensorflow_addons\n",
            "  Downloading tensorflow_addons-0.16.1-cp37-cp37m-manylinux_2_12_x86_64.manylinux2010_x86_64.whl (1.1 MB)\n",
            "\u001b[?25l\r\u001b[K     |▎                               | 10 kB 24.2 MB/s eta 0:00:01\r\u001b[K     |▋                               | 20 kB 25.4 MB/s eta 0:00:01\r\u001b[K     |▉                               | 30 kB 30.7 MB/s eta 0:00:01\r\u001b[K     |█▏                              | 40 kB 16.7 MB/s eta 0:00:01\r\u001b[K     |█▌                              | 51 kB 12.1 MB/s eta 0:00:01\r\u001b[K     |█▊                              | 61 kB 13.7 MB/s eta 0:00:01\r\u001b[K     |██                              | 71 kB 13.0 MB/s eta 0:00:01\r\u001b[K     |██▍                             | 81 kB 13.7 MB/s eta 0:00:01\r\u001b[K     |██▋                             | 92 kB 14.8 MB/s eta 0:00:01\r\u001b[K     |███                             | 102 kB 14.1 MB/s eta 0:00:01\r\u001b[K     |███▏                            | 112 kB 14.1 MB/s eta 0:00:01\r\u001b[K     |███▌                            | 122 kB 14.1 MB/s eta 0:00:01\r\u001b[K     |███▉                            | 133 kB 14.1 MB/s eta 0:00:01\r\u001b[K     |████                            | 143 kB 14.1 MB/s eta 0:00:01\r\u001b[K     |████▍                           | 153 kB 14.1 MB/s eta 0:00:01\r\u001b[K     |████▊                           | 163 kB 14.1 MB/s eta 0:00:01\r\u001b[K     |█████                           | 174 kB 14.1 MB/s eta 0:00:01\r\u001b[K     |█████▎                          | 184 kB 14.1 MB/s eta 0:00:01\r\u001b[K     |█████▌                          | 194 kB 14.1 MB/s eta 0:00:01\r\u001b[K     |█████▉                          | 204 kB 14.1 MB/s eta 0:00:01\r\u001b[K     |██████▏                         | 215 kB 14.1 MB/s eta 0:00:01\r\u001b[K     |██████▍                         | 225 kB 14.1 MB/s eta 0:00:01\r\u001b[K     |██████▊                         | 235 kB 14.1 MB/s eta 0:00:01\r\u001b[K     |███████                         | 245 kB 14.1 MB/s eta 0:00:01\r\u001b[K     |███████▎                        | 256 kB 14.1 MB/s eta 0:00:01\r\u001b[K     |███████▋                        | 266 kB 14.1 MB/s eta 0:00:01\r\u001b[K     |███████▉                        | 276 kB 14.1 MB/s eta 0:00:01\r\u001b[K     |████████▏                       | 286 kB 14.1 MB/s eta 0:00:01\r\u001b[K     |████████▌                       | 296 kB 14.1 MB/s eta 0:00:01\r\u001b[K     |████████▊                       | 307 kB 14.1 MB/s eta 0:00:01\r\u001b[K     |█████████                       | 317 kB 14.1 MB/s eta 0:00:01\r\u001b[K     |█████████▍                      | 327 kB 14.1 MB/s eta 0:00:01\r\u001b[K     |█████████▋                      | 337 kB 14.1 MB/s eta 0:00:01\r\u001b[K     |██████████                      | 348 kB 14.1 MB/s eta 0:00:01\r\u001b[K     |██████████▏                     | 358 kB 14.1 MB/s eta 0:00:01\r\u001b[K     |██████████▌                     | 368 kB 14.1 MB/s eta 0:00:01\r\u001b[K     |██████████▉                     | 378 kB 14.1 MB/s eta 0:00:01\r\u001b[K     |███████████                     | 389 kB 14.1 MB/s eta 0:00:01\r\u001b[K     |███████████▍                    | 399 kB 14.1 MB/s eta 0:00:01\r\u001b[K     |███████████▊                    | 409 kB 14.1 MB/s eta 0:00:01\r\u001b[K     |████████████                    | 419 kB 14.1 MB/s eta 0:00:01\r\u001b[K     |████████████▎                   | 430 kB 14.1 MB/s eta 0:00:01\r\u001b[K     |████████████▌                   | 440 kB 14.1 MB/s eta 0:00:01\r\u001b[K     |████████████▉                   | 450 kB 14.1 MB/s eta 0:00:01\r\u001b[K     |█████████████▏                  | 460 kB 14.1 MB/s eta 0:00:01\r\u001b[K     |█████████████▍                  | 471 kB 14.1 MB/s eta 0:00:01\r\u001b[K     |█████████████▊                  | 481 kB 14.1 MB/s eta 0:00:01\r\u001b[K     |██████████████                  | 491 kB 14.1 MB/s eta 0:00:01\r\u001b[K     |██████████████▎                 | 501 kB 14.1 MB/s eta 0:00:01\r\u001b[K     |██████████████▋                 | 512 kB 14.1 MB/s eta 0:00:01\r\u001b[K     |██████████████▉                 | 522 kB 14.1 MB/s eta 0:00:01\r\u001b[K     |███████████████▏                | 532 kB 14.1 MB/s eta 0:00:01\r\u001b[K     |███████████████▌                | 542 kB 14.1 MB/s eta 0:00:01\r\u001b[K     |███████████████▊                | 552 kB 14.1 MB/s eta 0:00:01\r\u001b[K     |████████████████                | 563 kB 14.1 MB/s eta 0:00:01\r\u001b[K     |████████████████▍               | 573 kB 14.1 MB/s eta 0:00:01\r\u001b[K     |████████████████▋               | 583 kB 14.1 MB/s eta 0:00:01\r\u001b[K     |█████████████████               | 593 kB 14.1 MB/s eta 0:00:01\r\u001b[K     |█████████████████▏              | 604 kB 14.1 MB/s eta 0:00:01\r\u001b[K     |█████████████████▌              | 614 kB 14.1 MB/s eta 0:00:01\r\u001b[K     |█████████████████▉              | 624 kB 14.1 MB/s eta 0:00:01\r\u001b[K     |██████████████████              | 634 kB 14.1 MB/s eta 0:00:01\r\u001b[K     |██████████████████▍             | 645 kB 14.1 MB/s eta 0:00:01\r\u001b[K     |██████████████████▊             | 655 kB 14.1 MB/s eta 0:00:01\r\u001b[K     |███████████████████             | 665 kB 14.1 MB/s eta 0:00:01\r\u001b[K     |███████████████████▎            | 675 kB 14.1 MB/s eta 0:00:01\r\u001b[K     |███████████████████▌            | 686 kB 14.1 MB/s eta 0:00:01\r\u001b[K     |███████████████████▉            | 696 kB 14.1 MB/s eta 0:00:01\r\u001b[K     |████████████████████▏           | 706 kB 14.1 MB/s eta 0:00:01\r\u001b[K     |████████████████████▍           | 716 kB 14.1 MB/s eta 0:00:01\r\u001b[K     |████████████████████▊           | 727 kB 14.1 MB/s eta 0:00:01\r\u001b[K     |█████████████████████           | 737 kB 14.1 MB/s eta 0:00:01\r\u001b[K     |█████████████████████▎          | 747 kB 14.1 MB/s eta 0:00:01\r\u001b[K     |█████████████████████▋          | 757 kB 14.1 MB/s eta 0:00:01\r\u001b[K     |█████████████████████▉          | 768 kB 14.1 MB/s eta 0:00:01\r\u001b[K     |██████████████████████▏         | 778 kB 14.1 MB/s eta 0:00:01\r\u001b[K     |██████████████████████▌         | 788 kB 14.1 MB/s eta 0:00:01\r\u001b[K     |██████████████████████▊         | 798 kB 14.1 MB/s eta 0:00:01\r\u001b[K     |███████████████████████         | 808 kB 14.1 MB/s eta 0:00:01\r\u001b[K     |███████████████████████▍        | 819 kB 14.1 MB/s eta 0:00:01\r\u001b[K     |███████████████████████▋        | 829 kB 14.1 MB/s eta 0:00:01\r\u001b[K     |████████████████████████        | 839 kB 14.1 MB/s eta 0:00:01\r\u001b[K     |████████████████████████▏       | 849 kB 14.1 MB/s eta 0:00:01\r\u001b[K     |████████████████████████▌       | 860 kB 14.1 MB/s eta 0:00:01\r\u001b[K     |████████████████████████▉       | 870 kB 14.1 MB/s eta 0:00:01\r\u001b[K     |█████████████████████████       | 880 kB 14.1 MB/s eta 0:00:01\r\u001b[K     |█████████████████████████▍      | 890 kB 14.1 MB/s eta 0:00:01\r\u001b[K     |█████████████████████████▊      | 901 kB 14.1 MB/s eta 0:00:01\r\u001b[K     |██████████████████████████      | 911 kB 14.1 MB/s eta 0:00:01\r\u001b[K     |██████████████████████████▎     | 921 kB 14.1 MB/s eta 0:00:01\r\u001b[K     |██████████████████████████▌     | 931 kB 14.1 MB/s eta 0:00:01\r\u001b[K     |██████████████████████████▉     | 942 kB 14.1 MB/s eta 0:00:01\r\u001b[K     |███████████████████████████▏    | 952 kB 14.1 MB/s eta 0:00:01\r\u001b[K     |███████████████████████████▍    | 962 kB 14.1 MB/s eta 0:00:01\r\u001b[K     |███████████████████████████▊    | 972 kB 14.1 MB/s eta 0:00:01\r\u001b[K     |████████████████████████████    | 983 kB 14.1 MB/s eta 0:00:01\r\u001b[K     |████████████████████████████▎   | 993 kB 14.1 MB/s eta 0:00:01\r\u001b[K     |████████████████████████████▋   | 1.0 MB 14.1 MB/s eta 0:00:01\r\u001b[K     |████████████████████████████▉   | 1.0 MB 14.1 MB/s eta 0:00:01\r\u001b[K     |█████████████████████████████▏  | 1.0 MB 14.1 MB/s eta 0:00:01\r\u001b[K     |█████████████████████████████▌  | 1.0 MB 14.1 MB/s eta 0:00:01\r\u001b[K     |█████████████████████████████▊  | 1.0 MB 14.1 MB/s eta 0:00:01\r\u001b[K     |██████████████████████████████  | 1.1 MB 14.1 MB/s eta 0:00:01\r\u001b[K     |██████████████████████████████▍ | 1.1 MB 14.1 MB/s eta 0:00:01\r\u001b[K     |██████████████████████████████▋ | 1.1 MB 14.1 MB/s eta 0:00:01\r\u001b[K     |███████████████████████████████ | 1.1 MB 14.1 MB/s eta 0:00:01\r\u001b[K     |███████████████████████████████▏| 1.1 MB 14.1 MB/s eta 0:00:01\r\u001b[K     |███████████████████████████████▌| 1.1 MB 14.1 MB/s eta 0:00:01\r\u001b[K     |███████████████████████████████▉| 1.1 MB 14.1 MB/s eta 0:00:01\r\u001b[K     |████████████████████████████████| 1.1 MB 14.1 MB/s \n",
            "\u001b[?25hRequirement already satisfied: typeguard>=2.7 in /usr/local/lib/python3.7/dist-packages (from tensorflow_addons) (2.7.1)\n",
            "Installing collected packages: tensorflow-addons\n",
            "Successfully installed tensorflow-addons-0.16.1\n"
          ]
        }
      ]
    },
    {
      "cell_type": "code",
      "metadata": {
        "id": "voJBV5X_g0B6"
      },
      "source": [
        "!cp -r \"/content/drive/My Drive/img_satelite/classificacao/CCSN/train\" \"training\"\n",
        "!cp -r \"/content/drive/My Drive/img_satelite/classificacao/CCSN/val\" \"validation\"\n",
        "!cp -r \"/content/drive/My Drive/img_satelite/classificacao/CCSN/test\" \"testing\""
      ],
      "execution_count": 3,
      "outputs": []
    },
    {
      "cell_type": "code",
      "metadata": {
        "id": "W384maMHy7Yc"
      },
      "source": [
        "import tensorflow as tf\n",
        "from tensorflow.keras.optimizers import RMSprop\n",
        "from tensorflow.keras.preprocessing.image import ImageDataGenerator\n",
        "from keras.layers import Dense,GlobalAveragePooling2D ,MaxPooling2D,Activation,Flatten,Conv2D,BatchNormalization,Dropout\n",
        "from tensorflow.keras import layers\n",
        "from tensorflow.keras import Model\n",
        "import keras.applications\n",
        "from keras.models import Sequential\n",
        "from tensorflow.keras.optimizers import SGD\n",
        "import matplotlib.pyplot as plt\n",
        "from sklearn.metrics import classification_report\n",
        "from sklearn.metrics import confusion_matrix\n",
        "import numpy as np\n",
        "import tensorflow_addons as tfa\n",
        "from tensorflow.keras.callbacks import ModelCheckpoint,EarlyStopping,ReduceLROnPlateau"
      ],
      "execution_count": 4,
      "outputs": []
    },
    {
      "cell_type": "code",
      "metadata": {
        "id": "ThJjNtJBi900"
      },
      "source": [
        "path_train = 'training'\n",
        "path_validation = 'validation'\n",
        "path_test = 'testing'"
      ],
      "execution_count": 5,
      "outputs": []
    },
    {
      "cell_type": "markdown",
      "metadata": {
        "id": "3-0nc-LxNSF2"
      },
      "source": [
        "# Pretrained VGG16 model using ImageNet\n"
      ]
    },
    {
      "cell_type": "markdown",
      "metadata": {
        "id": "Q8ZNyeF4v9FL"
      },
      "source": [
        "Hyperparameters"
      ]
    },
    {
      "cell_type": "code",
      "metadata": {
        "id": "js1kaBFGv9MD"
      },
      "source": [
        "batch_size = 16\n",
        "epochs=70\n",
        "dim = (224,224)"
      ],
      "execution_count": 6,
      "outputs": []
    },
    {
      "cell_type": "code",
      "metadata": {
        "id": "yWx2apyg_GXQ",
        "colab": {
          "base_uri": "https://localhost:8080/"
        },
        "outputId": "b9bdaca9-9d92-4605-a387-bb6338e3deb5"
      },
      "source": [
        "#from tensorflow.keras.applications.inception_v3 import InceptionV3\n",
        "from tensorflow.keras.applications.vgg16 import VGG16\n",
        "\n",
        "pre_trained_model = VGG16(input_shape=(224,224,3),include_top=False,pooling ='avg',weights='imagenet', classes=11)\n",
        "\n",
        "for layer in pre_trained_model.layers:\n",
        "  layer.trainable = False"
      ],
      "execution_count": 7,
      "outputs": [
        {
          "output_type": "stream",
          "name": "stdout",
          "text": [
            "Downloading data from https://storage.googleapis.com/tensorflow/keras-applications/vgg16/vgg16_weights_tf_dim_ordering_tf_kernels_notop.h5\n",
            "58892288/58889256 [==============================] - 1s 0us/step\n",
            "58900480/58889256 [==============================] - 1s 0us/step\n"
          ]
        }
      ]
    },
    {
      "cell_type": "markdown",
      "metadata": {
        "id": "sHw1dYWP_GXV"
      },
      "source": [
        "### Data augmentation"
      ]
    },
    {
      "cell_type": "code",
      "metadata": {
        "id": "qh3pPvvDzvEq"
      },
      "source": [
        "#train_datagen = ImageDataGenerator(rescale=1. / 255,brightness_range=[0.4,1.5],zoom_range=0.3,horizontal_flip=True, vertical_flip=True,width_shift_range=0.2, height_shift_range=0.2,rotation_range=30, fill_mode='nearest')\n",
        "\n",
        "train_datagen = ImageDataGenerator(rescale=1. / 255)\n",
        "\n",
        "validation_datagen = ImageDataGenerator(rescale=1. / 255)\n",
        "\n",
        "test_datagen = ImageDataGenerator(rescale=1. / 255)\n"
      ],
      "execution_count": 8,
      "outputs": []
    },
    {
      "cell_type": "markdown",
      "metadata": {
        "id": "mfA7Ta99wW_a"
      },
      "source": [
        "Read the images"
      ]
    },
    {
      "cell_type": "code",
      "metadata": {
        "colab": {
          "base_uri": "https://localhost:8080/"
        },
        "id": "c5Fpl71WwXGa",
        "outputId": "67d504ce-3d5c-4db2-db78-4cd27255b191"
      },
      "source": [
        "# Flow training images in batches of 20 using train_datagen generator\n",
        "train_generator = train_datagen.flow_from_directory(path_train,\n",
        "                                                    batch_size = batch_size,\n",
        "                                                    class_mode = 'categorical', \n",
        "                                                    target_size = (224,224))     \n",
        "\n",
        "# Flow validation images in batches of 20 using test_datagen generator\n",
        "validation_generator =  validation_datagen.flow_from_directory( path_validation,\n",
        "                                                          batch_size  = batch_size,\n",
        "                                                          class_mode  = 'categorical', \n",
        "                                                          target_size = (224,224))\n",
        "\n",
        "test_generator =  test_datagen.flow_from_directory( path_test,\n",
        "                                                          batch_size  = batch_size,\n",
        "                                                          class_mode  = 'categorical', \n",
        "                                                          target_size = (224,224))"
      ],
      "execution_count": 9,
      "outputs": [
        {
          "output_type": "stream",
          "name": "stdout",
          "text": [
            "Found 1774 images belonging to 11 classes.\n",
            "Found 250 images belonging to 11 classes.\n",
            "Found 519 images belonging to 11 classes.\n"
          ]
        }
      ]
    },
    {
      "cell_type": "markdown",
      "metadata": {
        "id": "JV5TTVwGtY1p"
      },
      "source": [
        "Hyper-parameters"
      ]
    },
    {
      "cell_type": "code",
      "metadata": {
        "id": "fcNysNaZtY74"
      },
      "source": [
        "number_of_neurons = 1024\n",
        "number_of_classes = 11"
      ],
      "execution_count": 10,
      "outputs": []
    },
    {
      "cell_type": "markdown",
      "metadata": {
        "id": "Qh_m54z-5VW8"
      },
      "source": [
        "Lets see some samples"
      ]
    },
    {
      "cell_type": "code",
      "metadata": {
        "id": "mDvSxorK_GXV"
      },
      "source": [
        "model = Sequential()\n",
        "\n",
        "model.add(pre_trained_model)\n",
        "model.add(BatchNormalization())\n",
        "#model.add(GlobalAveragePooling2D())\n",
        "model.add(Flatten())\n",
        "\n",
        "# 1st hidden layer\n",
        "model.add(Dense(number_of_neurons,activation=\"relu\"))\n",
        "model.add(Dropout(0.2))\n",
        "#model.add(BatchNormalization())\n",
        "\n",
        "model.add(Dense(number_of_neurons//2,activation=\"relu\"))\n",
        "model.add(Dropout(0.2))\n",
        "#model.add(BatchNormalization())\n",
        "\n",
        "\n",
        "# 3rd hidden layer : 75 neurons\n",
        "#model.add(Dense(number_of_neurons//4,activation=\"relu\"))\n",
        "#model.add(Dropout(0.5))\n",
        "#model.add(BatchNormalization())\n",
        "\n",
        "model.add(Dense(number_of_classes,activation=\"softmax\"))"
      ],
      "execution_count": 11,
      "outputs": []
    },
    {
      "cell_type": "code",
      "metadata": {
        "id": "sqeVzAQhsj6i"
      },
      "source": [
        "sgd = SGD(learning_rate= 0.01, momentum = 0.9, nesterov = False)\n",
        "\n",
        "f1_score = tfa.metrics.F1Score(num_classes=number_of_classes, average='macro',threshold=0.5)\n",
        "\n",
        "model.compile(optimizer = sgd, \n",
        "              loss = 'categorical_crossentropy', \n",
        "              metrics = ['accuracy',f1_score])\n",
        "\n"
      ],
      "execution_count": 12,
      "outputs": []
    },
    {
      "cell_type": "markdown",
      "source": [
        "Callbacks definition to reduce chances of overfitting the model"
      ],
      "metadata": {
        "id": "pPCZL5X4ePlB"
      }
    },
    {
      "cell_type": "code",
      "source": [
        "fname = \"weights-vgg16-improvement-{epoch:02d}-{val_accuracy:.2f}.hdf5\"\n",
        "\n",
        "resnet_checkpoint = ModelCheckpoint(fname, monitor='val_accuracy', verbose=1, save_best_only=True, mode='max')\n",
        "\n",
        "resnet_early_stopping = EarlyStopping(monitor='loss', patience=5)\n",
        "reduce_lr = ReduceLROnPlateau(monitor='val_loss', factor=0.05, patience=5, min_lr=0.000002)\n",
        "callbacklist = [resnet_checkpoint,resnet_early_stopping,reduce_lr]"
      ],
      "metadata": {
        "id": "WUOueU5ZePt4"
      },
      "execution_count": 13,
      "outputs": []
    },
    {
      "cell_type": "code",
      "metadata": {
        "id": "c9zT6oaF_GXX",
        "colab": {
          "base_uri": "https://localhost:8080/",
          "height": 1000
        },
        "outputId": "e537649a-3faf-4854-ca9d-7342a5d2c4df"
      },
      "source": [
        "history_fine = model.fit(train_generator,\n",
        "                         epochs=epochs,\n",
        "                         batch_size=batch_size,\n",
        "                         validation_data=validation_generator,\n",
        "                         callbacks=callbacklist\n",
        "                         )"
      ],
      "execution_count": 14,
      "outputs": [
        {
          "output_type": "stream",
          "name": "stdout",
          "text": [
            "Epoch 1/70\n",
            "111/111 [==============================] - ETA: 0s - loss: 2.0214 - accuracy: 0.3044 - f1_score: 0.1643\n",
            "Epoch 1: val_accuracy improved from -inf to 0.17200, saving model to weights-vgg16-improvement-01-0.17.hdf5\n",
            "111/111 [==============================] - 1045s 9s/step - loss: 2.0214 - accuracy: 0.3044 - f1_score: 0.1643 - val_loss: 2.2402 - val_accuracy: 0.1720 - val_f1_score: 0.0000e+00 - lr: 0.0100\n",
            "Epoch 2/70\n",
            "111/111 [==============================] - ETA: 0s - loss: 1.6849 - accuracy: 0.4233 - f1_score: 0.2607\n",
            "Epoch 2: val_accuracy improved from 0.17200 to 0.33600, saving model to weights-vgg16-improvement-02-0.34.hdf5\n",
            "111/111 [==============================] - 1022s 9s/step - loss: 1.6849 - accuracy: 0.4233 - f1_score: 0.2607 - val_loss: 2.0083 - val_accuracy: 0.3360 - val_f1_score: 0.0154 - lr: 0.0100\n",
            "Epoch 3/70\n",
            "111/111 [==============================] - ETA: 0s - loss: 1.5074 - accuracy: 0.4729 - f1_score: 0.3577\n",
            "Epoch 3: val_accuracy improved from 0.33600 to 0.36800, saving model to weights-vgg16-improvement-03-0.37.hdf5\n",
            "111/111 [==============================] - 1018s 9s/step - loss: 1.5074 - accuracy: 0.4729 - f1_score: 0.3577 - val_loss: 1.8695 - val_accuracy: 0.3680 - val_f1_score: 0.0767 - lr: 0.0100\n",
            "Epoch 4/70\n",
            "111/111 [==============================] - ETA: 0s - loss: 1.3965 - accuracy: 0.5259 - f1_score: 0.4078\n",
            "Epoch 4: val_accuracy improved from 0.36800 to 0.38800, saving model to weights-vgg16-improvement-04-0.39.hdf5\n",
            "111/111 [==============================] - 1019s 9s/step - loss: 1.3965 - accuracy: 0.5259 - f1_score: 0.4078 - val_loss: 1.8000 - val_accuracy: 0.3880 - val_f1_score: 0.1998 - lr: 0.0100\n",
            "Epoch 5/70\n",
            "111/111 [==============================] - ETA: 0s - loss: 1.2721 - accuracy: 0.5519 - f1_score: 0.4744\n",
            "Epoch 5: val_accuracy improved from 0.38800 to 0.40000, saving model to weights-vgg16-improvement-05-0.40.hdf5\n",
            "111/111 [==============================] - 1020s 9s/step - loss: 1.2721 - accuracy: 0.5519 - f1_score: 0.4744 - val_loss: 1.8009 - val_accuracy: 0.4000 - val_f1_score: 0.2608 - lr: 0.0100\n",
            "Epoch 6/70\n",
            "111/111 [==============================] - ETA: 0s - loss: 1.2147 - accuracy: 0.5744 - f1_score: 0.4979\n",
            "Epoch 6: val_accuracy improved from 0.40000 to 0.41600, saving model to weights-vgg16-improvement-06-0.42.hdf5\n",
            "111/111 [==============================] - 1033s 9s/step - loss: 1.2147 - accuracy: 0.5744 - f1_score: 0.4979 - val_loss: 1.8724 - val_accuracy: 0.4160 - val_f1_score: 0.3047 - lr: 0.0100\n",
            "Epoch 7/70\n",
            "111/111 [==============================] - ETA: 0s - loss: 1.1254 - accuracy: 0.6077 - f1_score: 0.5528\n",
            "Epoch 7: val_accuracy did not improve from 0.41600\n",
            "111/111 [==============================] - 1018s 9s/step - loss: 1.1254 - accuracy: 0.6077 - f1_score: 0.5528 - val_loss: 2.0769 - val_accuracy: 0.3720 - val_f1_score: 0.2721 - lr: 0.0100\n",
            "Epoch 8/70\n",
            "111/111 [==============================] - ETA: 0s - loss: 1.0304 - accuracy: 0.6539 - f1_score: 0.5973\n",
            "Epoch 8: val_accuracy did not improve from 0.41600\n",
            "111/111 [==============================] - 1032s 9s/step - loss: 1.0304 - accuracy: 0.6539 - f1_score: 0.5973 - val_loss: 2.1783 - val_accuracy: 0.3920 - val_f1_score: 0.3568 - lr: 0.0100\n",
            "Epoch 9/70\n",
            "111/111 [==============================] - ETA: 0s - loss: 0.9747 - accuracy: 0.6550 - f1_score: 0.6335\n",
            "Epoch 9: val_accuracy did not improve from 0.41600\n",
            "111/111 [==============================] - 1027s 9s/step - loss: 0.9747 - accuracy: 0.6550 - f1_score: 0.6335 - val_loss: 2.1875 - val_accuracy: 0.3640 - val_f1_score: 0.3159 - lr: 0.0100\n",
            "Epoch 10/70\n",
            " 48/111 [===========>..................] - ETA: 8:30 - loss: 0.8523 - accuracy: 0.6906 - f1_score: 0.6581"
          ]
        },
        {
          "output_type": "error",
          "ename": "KeyboardInterrupt",
          "evalue": "ignored",
          "traceback": [
            "\u001b[0;31m---------------------------------------------------------------------------\u001b[0m",
            "\u001b[0;31mKeyboardInterrupt\u001b[0m                         Traceback (most recent call last)",
            "\u001b[0;32m<ipython-input-14-60f884b9443c>\u001b[0m in \u001b[0;36m<module>\u001b[0;34m()\u001b[0m\n\u001b[1;32m      3\u001b[0m                          \u001b[0mbatch_size\u001b[0m\u001b[0;34m=\u001b[0m\u001b[0mbatch_size\u001b[0m\u001b[0;34m,\u001b[0m\u001b[0;34m\u001b[0m\u001b[0;34m\u001b[0m\u001b[0m\n\u001b[1;32m      4\u001b[0m                          \u001b[0mvalidation_data\u001b[0m\u001b[0;34m=\u001b[0m\u001b[0mvalidation_generator\u001b[0m\u001b[0;34m,\u001b[0m\u001b[0;34m\u001b[0m\u001b[0;34m\u001b[0m\u001b[0m\n\u001b[0;32m----> 5\u001b[0;31m                          \u001b[0mcallbacks\u001b[0m\u001b[0;34m=\u001b[0m\u001b[0mcallbacklist\u001b[0m\u001b[0;34m\u001b[0m\u001b[0;34m\u001b[0m\u001b[0m\n\u001b[0m\u001b[1;32m      6\u001b[0m                          )\n",
            "\u001b[0;32m/usr/local/lib/python3.7/dist-packages/keras/utils/traceback_utils.py\u001b[0m in \u001b[0;36merror_handler\u001b[0;34m(*args, **kwargs)\u001b[0m\n\u001b[1;32m     62\u001b[0m     \u001b[0mfiltered_tb\u001b[0m \u001b[0;34m=\u001b[0m \u001b[0;32mNone\u001b[0m\u001b[0;34m\u001b[0m\u001b[0;34m\u001b[0m\u001b[0m\n\u001b[1;32m     63\u001b[0m     \u001b[0;32mtry\u001b[0m\u001b[0;34m:\u001b[0m\u001b[0;34m\u001b[0m\u001b[0;34m\u001b[0m\u001b[0m\n\u001b[0;32m---> 64\u001b[0;31m       \u001b[0;32mreturn\u001b[0m \u001b[0mfn\u001b[0m\u001b[0;34m(\u001b[0m\u001b[0;34m*\u001b[0m\u001b[0margs\u001b[0m\u001b[0;34m,\u001b[0m \u001b[0;34m**\u001b[0m\u001b[0mkwargs\u001b[0m\u001b[0;34m)\u001b[0m\u001b[0;34m\u001b[0m\u001b[0;34m\u001b[0m\u001b[0m\n\u001b[0m\u001b[1;32m     65\u001b[0m     \u001b[0;32mexcept\u001b[0m \u001b[0mException\u001b[0m \u001b[0;32mas\u001b[0m \u001b[0me\u001b[0m\u001b[0;34m:\u001b[0m  \u001b[0;31m# pylint: disable=broad-except\u001b[0m\u001b[0;34m\u001b[0m\u001b[0;34m\u001b[0m\u001b[0m\n\u001b[1;32m     66\u001b[0m       \u001b[0mfiltered_tb\u001b[0m \u001b[0;34m=\u001b[0m \u001b[0m_process_traceback_frames\u001b[0m\u001b[0;34m(\u001b[0m\u001b[0me\u001b[0m\u001b[0;34m.\u001b[0m\u001b[0m__traceback__\u001b[0m\u001b[0;34m)\u001b[0m\u001b[0;34m\u001b[0m\u001b[0;34m\u001b[0m\u001b[0m\n",
            "\u001b[0;32m/usr/local/lib/python3.7/dist-packages/keras/engine/training.py\u001b[0m in \u001b[0;36mfit\u001b[0;34m(self, x, y, batch_size, epochs, verbose, callbacks, validation_split, validation_data, shuffle, class_weight, sample_weight, initial_epoch, steps_per_epoch, validation_steps, validation_batch_size, validation_freq, max_queue_size, workers, use_multiprocessing)\u001b[0m\n\u001b[1;32m   1382\u001b[0m                 _r=1):\n\u001b[1;32m   1383\u001b[0m               \u001b[0mcallbacks\u001b[0m\u001b[0;34m.\u001b[0m\u001b[0mon_train_batch_begin\u001b[0m\u001b[0;34m(\u001b[0m\u001b[0mstep\u001b[0m\u001b[0;34m)\u001b[0m\u001b[0;34m\u001b[0m\u001b[0;34m\u001b[0m\u001b[0m\n\u001b[0;32m-> 1384\u001b[0;31m               \u001b[0mtmp_logs\u001b[0m \u001b[0;34m=\u001b[0m \u001b[0mself\u001b[0m\u001b[0;34m.\u001b[0m\u001b[0mtrain_function\u001b[0m\u001b[0;34m(\u001b[0m\u001b[0miterator\u001b[0m\u001b[0;34m)\u001b[0m\u001b[0;34m\u001b[0m\u001b[0;34m\u001b[0m\u001b[0m\n\u001b[0m\u001b[1;32m   1385\u001b[0m               \u001b[0;32mif\u001b[0m \u001b[0mdata_handler\u001b[0m\u001b[0;34m.\u001b[0m\u001b[0mshould_sync\u001b[0m\u001b[0;34m:\u001b[0m\u001b[0;34m\u001b[0m\u001b[0;34m\u001b[0m\u001b[0m\n\u001b[1;32m   1386\u001b[0m                 \u001b[0mcontext\u001b[0m\u001b[0;34m.\u001b[0m\u001b[0masync_wait\u001b[0m\u001b[0;34m(\u001b[0m\u001b[0;34m)\u001b[0m\u001b[0;34m\u001b[0m\u001b[0;34m\u001b[0m\u001b[0m\n",
            "\u001b[0;32m/usr/local/lib/python3.7/dist-packages/tensorflow/python/util/traceback_utils.py\u001b[0m in \u001b[0;36merror_handler\u001b[0;34m(*args, **kwargs)\u001b[0m\n\u001b[1;32m    148\u001b[0m     \u001b[0mfiltered_tb\u001b[0m \u001b[0;34m=\u001b[0m \u001b[0;32mNone\u001b[0m\u001b[0;34m\u001b[0m\u001b[0;34m\u001b[0m\u001b[0m\n\u001b[1;32m    149\u001b[0m     \u001b[0;32mtry\u001b[0m\u001b[0;34m:\u001b[0m\u001b[0;34m\u001b[0m\u001b[0;34m\u001b[0m\u001b[0m\n\u001b[0;32m--> 150\u001b[0;31m       \u001b[0;32mreturn\u001b[0m \u001b[0mfn\u001b[0m\u001b[0;34m(\u001b[0m\u001b[0;34m*\u001b[0m\u001b[0margs\u001b[0m\u001b[0;34m,\u001b[0m \u001b[0;34m**\u001b[0m\u001b[0mkwargs\u001b[0m\u001b[0;34m)\u001b[0m\u001b[0;34m\u001b[0m\u001b[0;34m\u001b[0m\u001b[0m\n\u001b[0m\u001b[1;32m    151\u001b[0m     \u001b[0;32mexcept\u001b[0m \u001b[0mException\u001b[0m \u001b[0;32mas\u001b[0m \u001b[0me\u001b[0m\u001b[0;34m:\u001b[0m\u001b[0;34m\u001b[0m\u001b[0;34m\u001b[0m\u001b[0m\n\u001b[1;32m    152\u001b[0m       \u001b[0mfiltered_tb\u001b[0m \u001b[0;34m=\u001b[0m \u001b[0m_process_traceback_frames\u001b[0m\u001b[0;34m(\u001b[0m\u001b[0me\u001b[0m\u001b[0;34m.\u001b[0m\u001b[0m__traceback__\u001b[0m\u001b[0;34m)\u001b[0m\u001b[0;34m\u001b[0m\u001b[0;34m\u001b[0m\u001b[0m\n",
            "\u001b[0;32m/usr/local/lib/python3.7/dist-packages/tensorflow/python/eager/def_function.py\u001b[0m in \u001b[0;36m__call__\u001b[0;34m(self, *args, **kwds)\u001b[0m\n\u001b[1;32m    913\u001b[0m \u001b[0;34m\u001b[0m\u001b[0m\n\u001b[1;32m    914\u001b[0m       \u001b[0;32mwith\u001b[0m \u001b[0mOptionalXlaContext\u001b[0m\u001b[0;34m(\u001b[0m\u001b[0mself\u001b[0m\u001b[0;34m.\u001b[0m\u001b[0m_jit_compile\u001b[0m\u001b[0;34m)\u001b[0m\u001b[0;34m:\u001b[0m\u001b[0;34m\u001b[0m\u001b[0;34m\u001b[0m\u001b[0m\n\u001b[0;32m--> 915\u001b[0;31m         \u001b[0mresult\u001b[0m \u001b[0;34m=\u001b[0m \u001b[0mself\u001b[0m\u001b[0;34m.\u001b[0m\u001b[0m_call\u001b[0m\u001b[0;34m(\u001b[0m\u001b[0;34m*\u001b[0m\u001b[0margs\u001b[0m\u001b[0;34m,\u001b[0m \u001b[0;34m**\u001b[0m\u001b[0mkwds\u001b[0m\u001b[0;34m)\u001b[0m\u001b[0;34m\u001b[0m\u001b[0;34m\u001b[0m\u001b[0m\n\u001b[0m\u001b[1;32m    916\u001b[0m \u001b[0;34m\u001b[0m\u001b[0m\n\u001b[1;32m    917\u001b[0m       \u001b[0mnew_tracing_count\u001b[0m \u001b[0;34m=\u001b[0m \u001b[0mself\u001b[0m\u001b[0;34m.\u001b[0m\u001b[0mexperimental_get_tracing_count\u001b[0m\u001b[0;34m(\u001b[0m\u001b[0;34m)\u001b[0m\u001b[0;34m\u001b[0m\u001b[0;34m\u001b[0m\u001b[0m\n",
            "\u001b[0;32m/usr/local/lib/python3.7/dist-packages/tensorflow/python/eager/def_function.py\u001b[0m in \u001b[0;36m_call\u001b[0;34m(self, *args, **kwds)\u001b[0m\n\u001b[1;32m    945\u001b[0m       \u001b[0;31m# In this case we have created variables on the first call, so we run the\u001b[0m\u001b[0;34m\u001b[0m\u001b[0;34m\u001b[0m\u001b[0;34m\u001b[0m\u001b[0m\n\u001b[1;32m    946\u001b[0m       \u001b[0;31m# defunned version which is guaranteed to never create variables.\u001b[0m\u001b[0;34m\u001b[0m\u001b[0;34m\u001b[0m\u001b[0;34m\u001b[0m\u001b[0m\n\u001b[0;32m--> 947\u001b[0;31m       \u001b[0;32mreturn\u001b[0m \u001b[0mself\u001b[0m\u001b[0;34m.\u001b[0m\u001b[0m_stateless_fn\u001b[0m\u001b[0;34m(\u001b[0m\u001b[0;34m*\u001b[0m\u001b[0margs\u001b[0m\u001b[0;34m,\u001b[0m \u001b[0;34m**\u001b[0m\u001b[0mkwds\u001b[0m\u001b[0;34m)\u001b[0m  \u001b[0;31m# pylint: disable=not-callable\u001b[0m\u001b[0;34m\u001b[0m\u001b[0;34m\u001b[0m\u001b[0m\n\u001b[0m\u001b[1;32m    948\u001b[0m     \u001b[0;32melif\u001b[0m \u001b[0mself\u001b[0m\u001b[0;34m.\u001b[0m\u001b[0m_stateful_fn\u001b[0m \u001b[0;32mis\u001b[0m \u001b[0;32mnot\u001b[0m \u001b[0;32mNone\u001b[0m\u001b[0;34m:\u001b[0m\u001b[0;34m\u001b[0m\u001b[0;34m\u001b[0m\u001b[0m\n\u001b[1;32m    949\u001b[0m       \u001b[0;31m# Release the lock early so that multiple threads can perform the call\u001b[0m\u001b[0;34m\u001b[0m\u001b[0;34m\u001b[0m\u001b[0;34m\u001b[0m\u001b[0m\n",
            "\u001b[0;32m/usr/local/lib/python3.7/dist-packages/tensorflow/python/eager/function.py\u001b[0m in \u001b[0;36m__call__\u001b[0;34m(self, *args, **kwargs)\u001b[0m\n\u001b[1;32m   2955\u001b[0m        filtered_flat_args) = self._maybe_define_function(args, kwargs)\n\u001b[1;32m   2956\u001b[0m     return graph_function._call_flat(\n\u001b[0;32m-> 2957\u001b[0;31m         filtered_flat_args, captured_inputs=graph_function.captured_inputs)  # pylint: disable=protected-access\n\u001b[0m\u001b[1;32m   2958\u001b[0m \u001b[0;34m\u001b[0m\u001b[0m\n\u001b[1;32m   2959\u001b[0m   \u001b[0;34m@\u001b[0m\u001b[0mproperty\u001b[0m\u001b[0;34m\u001b[0m\u001b[0;34m\u001b[0m\u001b[0m\n",
            "\u001b[0;32m/usr/local/lib/python3.7/dist-packages/tensorflow/python/eager/function.py\u001b[0m in \u001b[0;36m_call_flat\u001b[0;34m(self, args, captured_inputs, cancellation_manager)\u001b[0m\n\u001b[1;32m   1852\u001b[0m       \u001b[0;31m# No tape is watching; skip to running the function.\u001b[0m\u001b[0;34m\u001b[0m\u001b[0;34m\u001b[0m\u001b[0;34m\u001b[0m\u001b[0m\n\u001b[1;32m   1853\u001b[0m       return self._build_call_outputs(self._inference_function.call(\n\u001b[0;32m-> 1854\u001b[0;31m           ctx, args, cancellation_manager=cancellation_manager))\n\u001b[0m\u001b[1;32m   1855\u001b[0m     forward_backward = self._select_forward_and_backward_functions(\n\u001b[1;32m   1856\u001b[0m         \u001b[0margs\u001b[0m\u001b[0;34m,\u001b[0m\u001b[0;34m\u001b[0m\u001b[0;34m\u001b[0m\u001b[0m\n",
            "\u001b[0;32m/usr/local/lib/python3.7/dist-packages/tensorflow/python/eager/function.py\u001b[0m in \u001b[0;36mcall\u001b[0;34m(self, ctx, args, cancellation_manager)\u001b[0m\n\u001b[1;32m    502\u001b[0m               \u001b[0minputs\u001b[0m\u001b[0;34m=\u001b[0m\u001b[0margs\u001b[0m\u001b[0;34m,\u001b[0m\u001b[0;34m\u001b[0m\u001b[0;34m\u001b[0m\u001b[0m\n\u001b[1;32m    503\u001b[0m               \u001b[0mattrs\u001b[0m\u001b[0;34m=\u001b[0m\u001b[0mattrs\u001b[0m\u001b[0;34m,\u001b[0m\u001b[0;34m\u001b[0m\u001b[0;34m\u001b[0m\u001b[0m\n\u001b[0;32m--> 504\u001b[0;31m               ctx=ctx)\n\u001b[0m\u001b[1;32m    505\u001b[0m         \u001b[0;32melse\u001b[0m\u001b[0;34m:\u001b[0m\u001b[0;34m\u001b[0m\u001b[0;34m\u001b[0m\u001b[0m\n\u001b[1;32m    506\u001b[0m           outputs = execute.execute_with_cancellation(\n",
            "\u001b[0;32m/usr/local/lib/python3.7/dist-packages/tensorflow/python/eager/execute.py\u001b[0m in \u001b[0;36mquick_execute\u001b[0;34m(op_name, num_outputs, inputs, attrs, ctx, name)\u001b[0m\n\u001b[1;32m     53\u001b[0m     \u001b[0mctx\u001b[0m\u001b[0;34m.\u001b[0m\u001b[0mensure_initialized\u001b[0m\u001b[0;34m(\u001b[0m\u001b[0;34m)\u001b[0m\u001b[0;34m\u001b[0m\u001b[0;34m\u001b[0m\u001b[0m\n\u001b[1;32m     54\u001b[0m     tensors = pywrap_tfe.TFE_Py_Execute(ctx._handle, device_name, op_name,\n\u001b[0;32m---> 55\u001b[0;31m                                         inputs, attrs, num_outputs)\n\u001b[0m\u001b[1;32m     56\u001b[0m   \u001b[0;32mexcept\u001b[0m \u001b[0mcore\u001b[0m\u001b[0;34m.\u001b[0m\u001b[0m_NotOkStatusException\u001b[0m \u001b[0;32mas\u001b[0m \u001b[0me\u001b[0m\u001b[0;34m:\u001b[0m\u001b[0;34m\u001b[0m\u001b[0;34m\u001b[0m\u001b[0m\n\u001b[1;32m     57\u001b[0m     \u001b[0;32mif\u001b[0m \u001b[0mname\u001b[0m \u001b[0;32mis\u001b[0m \u001b[0;32mnot\u001b[0m \u001b[0;32mNone\u001b[0m\u001b[0;34m:\u001b[0m\u001b[0;34m\u001b[0m\u001b[0;34m\u001b[0m\u001b[0m\n",
            "\u001b[0;31mKeyboardInterrupt\u001b[0m: "
          ]
        }
      ]
    },
    {
      "cell_type": "code",
      "metadata": {
        "id": "1WFZwVEg_GXb"
      },
      "source": [
        "#f1 = history_fine.history['f1_score']\n",
        "#val_f1 = history_fine.history['val_f1_score']\n",
        "\n",
        "#plt.figure(figsize=(8, 8))\n",
        "#plt.subplot(2, 1, 1)\n",
        "#plt.plot(f1, label='Training F1-Score')\n",
        "#plt.plot(val_f1, label='Validation F1-Score')\n",
        "#plt.legend(loc='lower right')\n",
        "#plt.ylabel('F1-Score')\n",
        "#plt.ylim([min(plt.ylim()),1])\n",
        "#plt.title('Training and Validation F1-Score')\n"
      ],
      "execution_count": null,
      "outputs": []
    },
    {
      "cell_type": "code",
      "source": [
        "f1 = history_fine.history['accuracy']\n",
        "val_f1 = history_fine.history['val_accuracy']\n",
        "\n",
        "plt.figure(figsize=(8, 8))\n",
        "plt.subplot(2, 1, 1)\n",
        "plt.plot(f1, label='Training F1-Score')\n",
        "plt.plot(val_f1, label='Validation F1-Score')\n",
        "plt.legend(loc='lower right')\n",
        "plt.ylabel('F1-Score')\n",
        "plt.ylim([min(plt.ylim()),1])\n",
        "plt.title('Training and Validation F1-Score')\n"
      ],
      "metadata": {
        "id": "fOSIrhK5g1ZF"
      },
      "execution_count": null,
      "outputs": []
    },
    {
      "cell_type": "code",
      "metadata": {
        "id": "Q8ENVvZSrKrS"
      },
      "source": [
        "loss = history_fine.history['loss']\n",
        "val_loss = history_fine.history['val_loss']\n",
        "\n",
        "plt.plot(history_fine.history['loss'])\n",
        "plt.plot(history_fine.history['val_loss'])\n",
        "plt.title('model loss')\n",
        "plt.ylabel('loss')\n",
        "plt.xlabel('epoch')\n",
        "plt.legend(['training set', 'validation set'], loc='upper left')\n",
        "plt.show()"
      ],
      "execution_count": null,
      "outputs": []
    },
    {
      "cell_type": "code",
      "source": [
        "score = model.evaluate(test_generator,batch_size=batch_size) \n",
        "print(f'Test loss: {score[0]} / Test accuracy: {score[1]}')"
      ],
      "metadata": {
        "id": "g2VR_adbrsUp"
      },
      "execution_count": null,
      "outputs": []
    },
    {
      "cell_type": "markdown",
      "metadata": {
        "id": "zFraRq9i9FNA"
      },
      "source": [
        ""
      ]
    },
    {
      "cell_type": "code",
      "metadata": {
        "id": "RXFG_Bn19FTX"
      },
      "source": [
        "#y_prob = model.predict(test_generator,batch_size=batch_size)\n",
        "#y_pred = np.argmax(y_prob,axis=1)\n",
        "\n",
        "y_prob = model.predict(test_generator)\n",
        "y_pred = np.argmax(y_prob,axis=1)\n",
        "#print(pred, labels[np.argmax(pred)])\n",
        "print(classification_report(test_generator.classes,y_pred))"
      ],
      "execution_count": null,
      "outputs": []
    },
    {
      "cell_type": "code",
      "source": [
        "test_generator.classes"
      ],
      "metadata": {
        "id": "cbxMbryxo31y"
      },
      "execution_count": null,
      "outputs": []
    },
    {
      "cell_type": "code",
      "source": [
        "y_pred"
      ],
      "metadata": {
        "id": "_C6CCDiayO0g"
      },
      "execution_count": null,
      "outputs": []
    },
    {
      "cell_type": "code",
      "source": [
        "import plotly.figure_factory as ff\n",
        "\n",
        "y_true = test_generator.classes\n",
        "\n",
        "z = confusion_matrix(y_true, y_pred)\n",
        "\n",
        "x = list(test_generator.class_indices.keys())\n",
        "\n",
        "y = list(test_generator.class_indices.keys())\n"
      ],
      "metadata": {
        "id": "5NOZQOgN_DHU"
      },
      "execution_count": null,
      "outputs": []
    },
    {
      "cell_type": "code",
      "metadata": {
        "id": "EHxUyHkC1URt"
      },
      "source": [
        "# change each element of z to type string for annotations\n",
        "z_text = [[str(y) for y in x] for x in z]\n",
        "\n",
        "# set up figure \n",
        "fig = ff.create_annotated_heatmap(z, x=x, y=y, annotation_text=z_text, colorscale='Viridis')\n",
        "\n",
        "# add title\n",
        "fig.update_layout(title_text='<i><b>Confusion matrix</b></i>',\n",
        "                  #xaxis = dict(title='x'),\n",
        "                  #yaxis = dict(title='x')\n",
        "                 )\n",
        "\n",
        "# add custom xaxis title\n",
        "fig.add_annotation(dict(font=dict(color=\"black\",size=14),\n",
        "                        x=0.5,\n",
        "                        y=-0.15,\n",
        "                        showarrow=False,\n",
        "                        text=\"Predicted value\",\n",
        "                        xref=\"paper\",\n",
        "                        yref=\"paper\"))\n",
        "\n",
        "# add custom yaxis title\n",
        "fig.add_annotation(dict(font=dict(color=\"black\",size=14),\n",
        "                        x=-0.35,\n",
        "                        y=0.5,\n",
        "                        showarrow=False,\n",
        "                        text=\"Real value\",\n",
        "                        textangle=-90,\n",
        "                        xref=\"paper\",\n",
        "                        yref=\"paper\"))\n",
        "\n",
        "# adjust margins to make room for yaxis title\n",
        "fig.update_layout(margin=dict(t=50, l=200))\n",
        "\n",
        "# add colorbar\n",
        "fig['data'][0]['showscale'] = True\n",
        "fig.show()"
      ],
      "execution_count": null,
      "outputs": []
    }
  ]
}