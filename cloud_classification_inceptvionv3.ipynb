{
  "nbformat": 4,
  "nbformat_minor": 0,
  "metadata": {
    "kernelspec": {
      "display_name": "Python 3",
      "language": "python",
      "name": "python3"
    },
    "language_info": {
      "codemirror_mode": {
        "name": "ipython",
        "version": 3
      },
      "file_extension": ".py",
      "mimetype": "text/x-python",
      "name": "python",
      "nbconvert_exporter": "python",
      "pygments_lexer": "ipython3",
      "version": "3.6.10"
    },
    "colab": {
      "name": "cloud_classification_inceptvionv3.ipynb",
      "provenance": [],
      "collapsed_sections": [],
      "include_colab_link": true
    },
    "accelerator": "GPU"
  },
  "cells": [
    {
      "cell_type": "markdown",
      "metadata": {
        "id": "view-in-github",
        "colab_type": "text"
      },
      "source": [
        "<a href=\"https://colab.research.google.com/github/viniciusrpb/cloud_image_segmentation/blob/main/cloud_classification_inceptvionv3.ipynb\" target=\"_parent\"><img src=\"https://colab.research.google.com/assets/colab-badge.svg\" alt=\"Open In Colab\"/></a>"
      ]
    },
    {
      "cell_type": "code",
      "metadata": {
        "id": "Lf68PvvD_GXN"
      },
      "source": [
        "#from google.colab import drive\n",
        "#drive.mount('/content/drive')"
      ],
      "execution_count": 1,
      "outputs": []
    },
    {
      "cell_type": "markdown",
      "source": [
        "# New Section"
      ],
      "metadata": {
        "id": "uSEdHGn26Hzg"
      }
    },
    {
      "cell_type": "code",
      "metadata": {
        "id": "6o0SMmf8z9qD"
      },
      "source": [
        "#!pip install tensorflow_addons"
      ],
      "execution_count": 2,
      "outputs": []
    },
    {
      "cell_type": "code",
      "metadata": {
        "id": "voJBV5X_g0B6"
      },
      "source": [
        "#!cp -r \"/content/drive/My Drive/img_satelite/classificacao/CCSN/train\" \"training\"\n",
        "#!cp -r \"/content/drive/My Drive/img_satelite/classificacao/CCSN/val\" \"validation\"\n",
        "#!cp -r \"/content/drive/My Drive/img_satelite/classificacao/CCSN/test\" \"testing\""
      ],
      "execution_count": 3,
      "outputs": []
    },
    {
      "cell_type": "code",
      "metadata": {
        "id": "W384maMHy7Yc"
      },
      "source": [
        "import tensorflow as tf\n",
        "from tensorflow.keras.optimizers import RMSprop\n",
        "from tensorflow.keras.preprocessing.image import ImageDataGenerator\n",
        "from keras.layers import Dense,GlobalAveragePooling2D ,MaxPooling2D,Activation,Flatten,Conv2D,BatchNormalization,Dropout\n",
        "from tensorflow.keras import layers\n",
        "from tensorflow.keras import Model\n",
        "import keras.applications\n",
        "from keras.models import Sequential\n",
        "from tensorflow.keras.optimizers import SGD\n",
        "import matplotlib.pyplot as plt\n",
        "from sklearn.metrics import classification_report\n",
        "from sklearn.metrics import confusion_matrix\n",
        "import numpy as np\n",
        "import tensorflow_addons as tfa\n",
        "from tensorflow.keras.callbacks import ModelCheckpoint,EarlyStopping,ReduceLROnPlateau\n",
        "import os\n",
        "import argparse\n"
      ],
      "execution_count": 4,
      "outputs": []
    },
    {
      "cell_type": "code",
      "metadata": {
        "id": "ThJjNtJBi900"
      },
      "source": [
        "path_train = 'training'\n",
        "path_validation = 'validation'\n",
        "path_test = 'testing'"
      ],
      "execution_count": 5,
      "outputs": []
    },
    {
      "cell_type": "markdown",
      "metadata": {
        "id": "3-0nc-LxNSF2"
      },
      "source": [
        "# Pretrained GoogLeNet model using ImageNet\n"
      ]
    },
    {
      "cell_type": "markdown",
      "metadata": {
        "id": "Q8ZNyeF4v9FL"
      },
      "source": [
        "Hyperparameters"
      ]
    },
    {
      "cell_type": "code",
      "metadata": {
        "id": "js1kaBFGv9MD"
      },
      "source": [
        "batch_size = 32\n",
        "epochs=30\n",
        "dim = (224,224)"
      ],
      "execution_count": 6,
      "outputs": []
    },
    {
      "cell_type": "code",
      "metadata": {
        "id": "yWx2apyg_GXQ"
      },
      "source": [
        "from tensorflow.keras.applications.inception_v3 import InceptionV3\n",
        "#from tensorflow.keras.applications.resnet50 import ResNet50\n",
        "\n",
        "pre_trained_model = InceptionV3(input_shape=(224,224,3),include_top=False,pooling ='avg',weights='imagenet')\n",
        "#pre_trained_model = ResNet50(input_shape=(224,224,3),include_top=False,pooling ='avg',weights='imagenet', classes=11)\n",
        "\n",
        "for layer in pre_trained_model.layers:\n",
        "  layer.trainable = False"
      ],
      "execution_count": 7,
      "outputs": []
    },
    {
      "cell_type": "markdown",
      "metadata": {
        "id": "sHw1dYWP_GXV"
      },
      "source": [
        "### Data augmentation"
      ]
    },
    {
      "cell_type": "code",
      "metadata": {
        "id": "qh3pPvvDzvEq"
      },
      "source": [
        "train_datagen = ImageDataGenerator(rescale=1. / 255)\n",
        "\n",
        "validation_datagen = ImageDataGenerator(rescale=1. / 255)\n",
        "\n",
        "test_datagen = ImageDataGenerator(rescale=1. / 255)\n"
      ],
      "execution_count": 8,
      "outputs": []
    },
    {
      "cell_type": "markdown",
      "metadata": {
        "id": "mfA7Ta99wW_a"
      },
      "source": [
        "Read the images"
      ]
    },
    {
      "cell_type": "code",
      "metadata": {
        "colab": {
          "base_uri": "https://localhost:8080/"
        },
        "id": "c5Fpl71WwXGa",
        "outputId": "9355b196-f0fe-41de-a6ad-c7a00a7c6200"
      },
      "source": [
        "# Flow training images in batches of 20 using train_datagen generator\n",
        "train_generator = train_datagen.flow_from_directory(path_train,\n",
        "                                                    batch_size = batch_size,\n",
        "                                                    class_mode = 'categorical', \n",
        "                                                    target_size = (224,224))     \n",
        "\n",
        "# Flow validation images in batches of 20 using test_datagen generator\n",
        "validation_generator =  validation_datagen.flow_from_directory( path_validation,\n",
        "                                                          batch_size  = batch_size,\n",
        "                                                          class_mode  = 'categorical', \n",
        "                                                          target_size = (224,224))\n",
        "\n",
        "test_generator =  test_datagen.flow_from_directory( path_test,\n",
        "                                                          batch_size  = batch_size,\n",
        "                                                          class_mode  = 'categorical', \n",
        "                                                          target_size = (224,224))"
      ],
      "execution_count": 9,
      "outputs": [
        {
          "output_type": "stream",
          "name": "stdout",
          "text": [
            "Found 1774 images belonging to 11 classes.\n",
            "Found 250 images belonging to 11 classes.\n",
            "Found 519 images belonging to 11 classes.\n"
          ]
        }
      ]
    },
    {
      "cell_type": "markdown",
      "metadata": {
        "id": "JV5TTVwGtY1p"
      },
      "source": [
        "Hyper-parameters"
      ]
    },
    {
      "cell_type": "code",
      "metadata": {
        "id": "fcNysNaZtY74"
      },
      "source": [
        "number_of_neurons = 1024\n",
        "number_of_classes = 11"
      ],
      "execution_count": 10,
      "outputs": []
    },
    {
      "cell_type": "markdown",
      "metadata": {
        "id": "Qh_m54z-5VW8"
      },
      "source": [
        "Lets see some samples"
      ]
    },
    {
      "cell_type": "code",
      "metadata": {
        "id": "mDvSxorK_GXV"
      },
      "source": [
        "model = Sequential()\n",
        "\n",
        "model.add(pre_trained_model)\n",
        "model.add(BatchNormalization())\n",
        "#model.add(GlobalAveragePooling2D())\n",
        "#model.add(Flatten())\n",
        "\n",
        "# 1st hidden layer: 300 neurons\n",
        "#model.add(Dense(number_of_neurons,activation=\"relu\"))\n",
        "#model.add(Dropout(0.2))\n",
        "#model.add(BatchNormalization())\n",
        "\n",
        "# 2nd hidden layer : 150 neurons\n",
        "#model.add(Dense(number_of_neurons//2,activation=\"relu\"))\n",
        "#model.add(Dropout(0.5))\n",
        "#model.add(BatchNormalization())\n",
        "\n",
        "\n",
        "# 3rd hidden layer : 75 neurons\n",
        "#model.add(Dense(number_of_neurons,activation=\"relu\"))\n",
        "#model.add(Dropout(0.5))\n",
        "#model.add(BatchNormalization())\n",
        "\n",
        "model.add(Dense(number_of_classes,activation=\"softmax\"))"
      ],
      "execution_count": 11,
      "outputs": []
    },
    {
      "cell_type": "code",
      "metadata": {
        "id": "sqeVzAQhsj6i",
        "colab": {
          "base_uri": "https://localhost:8080/"
        },
        "outputId": "bce67d38-5893-4df3-808e-eee41dba1433"
      },
      "source": [
        "sgd = SGD(lr = 0.01, decay = 1e-6, momentum = 0.9, nesterov = True)\n",
        "\n",
        "f1_score = tfa.metrics.F1Score(num_classes=number_of_classes, average='macro',threshold=0.5)\n",
        "\n",
        "model.compile(optimizer = sgd, \n",
        "              loss = 'categorical_crossentropy', \n",
        "              metrics = ['accuracy',f1_score])\n",
        "\n",
        "#model.compile(optimizer = tf.keras.optimizers.Adam(learning_rate=0.0005,decay = 1e-6), \n",
        "#              loss = 'categorical_crossentropy', \n",
        "#              metrics = ['accuracy',f1_score])\n",
        "            #metrics = ['accuracy',f1_score])\n",
        "\n"
      ],
      "execution_count": 12,
      "outputs": [
        {
          "output_type": "stream",
          "name": "stderr",
          "text": [
            "/usr/local/lib/python3.7/dist-packages/keras/optimizer_v2/gradient_descent.py:102: UserWarning: The `lr` argument is deprecated, use `learning_rate` instead.\n",
            "  super(SGD, self).__init__(name, **kwargs)\n"
          ]
        }
      ]
    },
    {
      "cell_type": "markdown",
      "source": [
        "Callbacks definition to reduce chances of overfitting the model"
      ],
      "metadata": {
        "id": "pPCZL5X4ePlB"
      }
    },
    {
      "cell_type": "code",
      "source": [
        "fname = \"weights-inceptionv3-improvement-{epoch:02d}-{val_accuracy:.2f}.hdf5\"\n",
        "\n",
        "resnet_checkpoint = ModelCheckpoint(fname, monitor='val_accuracy', verbose=1, save_best_only=True, mode='max')\n",
        "\n",
        "resnet_early_stopping = EarlyStopping(monitor='loss', patience=5)\n",
        "reduce_lr = ReduceLROnPlateau(monitor='val_loss', factor=0.05, patience=5, min_lr=0.000002)\n",
        "callbacklist = [resnet_checkpoint,resnet_early_stopping,reduce_lr]"
      ],
      "metadata": {
        "id": "WUOueU5ZePt4"
      },
      "execution_count": 13,
      "outputs": []
    },
    {
      "cell_type": "code",
      "metadata": {
        "id": "c9zT6oaF_GXX",
        "colab": {
          "base_uri": "https://localhost:8080/"
        },
        "outputId": "58d7ca97-d1a0-44fa-a6b5-8350c63098a2"
      },
      "source": [
        "history_fine = model.fit(train_generator,\n",
        "                         epochs=epochs,\n",
        "                         batch_size=batch_size,\n",
        "                         validation_data=validation_generator,\n",
        "                         callbacks=callbacklist\n",
        "                         )"
      ],
      "execution_count": 14,
      "outputs": [
        {
          "output_type": "stream",
          "name": "stdout",
          "text": [
            "Epoch 1/30\n",
            "56/56 [==============================] - ETA: 0s - loss: 2.5896 - accuracy: 0.3179 - f1_score: 0.2868\n",
            "Epoch 1: val_accuracy improved from -inf to 0.34000, saving model to weights-inceptionv3-improvement-01-0.34.hdf5\n",
            "56/56 [==============================] - 172s 3s/step - loss: 2.5896 - accuracy: 0.3179 - f1_score: 0.2868 - val_loss: 2.1068 - val_accuracy: 0.3400 - val_f1_score: 0.1589 - lr: 0.0100\n",
            "Epoch 2/30\n",
            "56/56 [==============================] - ETA: 0s - loss: 1.5196 - accuracy: 0.5457 - f1_score: 0.5422\n",
            "Epoch 2: val_accuracy improved from 0.34000 to 0.35600, saving model to weights-inceptionv3-improvement-02-0.36.hdf5\n",
            "56/56 [==============================] - 158s 3s/step - loss: 1.5196 - accuracy: 0.5457 - f1_score: 0.5422 - val_loss: 2.0829 - val_accuracy: 0.3560 - val_f1_score: 0.2021 - lr: 0.0100\n",
            "Epoch 3/30\n",
            "56/56 [==============================] - ETA: 0s - loss: 1.0813 - accuracy: 0.6573 - f1_score: 0.6463\n",
            "Epoch 3: val_accuracy improved from 0.35600 to 0.38800, saving model to weights-inceptionv3-improvement-03-0.39.hdf5\n",
            "56/56 [==============================] - 155s 3s/step - loss: 1.0813 - accuracy: 0.6573 - f1_score: 0.6463 - val_loss: 2.1046 - val_accuracy: 0.3880 - val_f1_score: 0.3161 - lr: 0.0100\n",
            "Epoch 4/30\n",
            "56/56 [==============================] - ETA: 0s - loss: 0.8146 - accuracy: 0.7322 - f1_score: 0.7305\n",
            "Epoch 4: val_accuracy did not improve from 0.38800\n",
            "56/56 [==============================] - 155s 3s/step - loss: 0.8146 - accuracy: 0.7322 - f1_score: 0.7305 - val_loss: 2.4008 - val_accuracy: 0.3800 - val_f1_score: 0.3071 - lr: 0.0100\n",
            "Epoch 5/30\n",
            "56/56 [==============================] - ETA: 0s - loss: 0.6736 - accuracy: 0.7830 - f1_score: 0.7789\n",
            "Epoch 5: val_accuracy did not improve from 0.38800\n",
            "56/56 [==============================] - 157s 3s/step - loss: 0.6736 - accuracy: 0.7830 - f1_score: 0.7789 - val_loss: 2.5669 - val_accuracy: 0.3720 - val_f1_score: 0.3231 - lr: 0.0100\n",
            "Epoch 6/30\n",
            "56/56 [==============================] - ETA: 0s - loss: 0.5987 - accuracy: 0.8067 - f1_score: 0.8050\n",
            "Epoch 6: val_accuracy did not improve from 0.38800\n",
            "56/56 [==============================] - 157s 3s/step - loss: 0.5987 - accuracy: 0.8067 - f1_score: 0.8050 - val_loss: 2.7973 - val_accuracy: 0.3840 - val_f1_score: 0.3499 - lr: 0.0100\n",
            "Epoch 7/30\n",
            "56/56 [==============================] - ETA: 0s - loss: 0.4850 - accuracy: 0.8489 - f1_score: 0.8389\n",
            "Epoch 7: val_accuracy did not improve from 0.38800\n",
            "56/56 [==============================] - 158s 3s/step - loss: 0.4850 - accuracy: 0.8489 - f1_score: 0.8389 - val_loss: 3.2179 - val_accuracy: 0.3520 - val_f1_score: 0.3165 - lr: 0.0100\n",
            "Epoch 8/30\n",
            "56/56 [==============================] - ETA: 0s - loss: 0.4104 - accuracy: 0.8895 - f1_score: 0.8850\n",
            "Epoch 8: val_accuracy did not improve from 0.38800\n",
            "56/56 [==============================] - 159s 3s/step - loss: 0.4104 - accuracy: 0.8895 - f1_score: 0.8850 - val_loss: 3.3912 - val_accuracy: 0.3640 - val_f1_score: 0.3350 - lr: 5.0000e-04\n",
            "Epoch 9/30\n",
            "56/56 [==============================] - ETA: 0s - loss: 0.3545 - accuracy: 0.9092 - f1_score: 0.9007\n",
            "Epoch 9: val_accuracy did not improve from 0.38800\n",
            "56/56 [==============================] - 158s 3s/step - loss: 0.3545 - accuracy: 0.9092 - f1_score: 0.9007 - val_loss: 3.3908 - val_accuracy: 0.3760 - val_f1_score: 0.3444 - lr: 5.0000e-04\n",
            "Epoch 10/30\n",
            "56/56 [==============================] - ETA: 0s - loss: 0.2971 - accuracy: 0.9160 - f1_score: 0.9131\n",
            "Epoch 10: val_accuracy did not improve from 0.38800\n",
            "56/56 [==============================] - 161s 3s/step - loss: 0.2971 - accuracy: 0.9160 - f1_score: 0.9131 - val_loss: 3.4007 - val_accuracy: 0.3680 - val_f1_score: 0.3408 - lr: 5.0000e-04\n",
            "Epoch 11/30\n",
            "56/56 [==============================] - ETA: 0s - loss: 0.2959 - accuracy: 0.9171 - f1_score: 0.9076\n",
            "Epoch 11: val_accuracy did not improve from 0.38800\n",
            "56/56 [==============================] - 162s 3s/step - loss: 0.2959 - accuracy: 0.9171 - f1_score: 0.9076 - val_loss: 3.3881 - val_accuracy: 0.3640 - val_f1_score: 0.3341 - lr: 5.0000e-04\n",
            "Epoch 12/30\n",
            "56/56 [==============================] - ETA: 0s - loss: 0.2537 - accuracy: 0.9295 - f1_score: 0.9258\n",
            "Epoch 12: val_accuracy did not improve from 0.38800\n",
            "56/56 [==============================] - 161s 3s/step - loss: 0.2537 - accuracy: 0.9295 - f1_score: 0.9258 - val_loss: 3.3743 - val_accuracy: 0.3640 - val_f1_score: 0.3375 - lr: 5.0000e-04\n",
            "Epoch 13/30\n",
            "56/56 [==============================] - ETA: 0s - loss: 0.2289 - accuracy: 0.9335 - f1_score: 0.9269\n",
            "Epoch 13: val_accuracy did not improve from 0.38800\n",
            "56/56 [==============================] - 183s 3s/step - loss: 0.2289 - accuracy: 0.9335 - f1_score: 0.9269 - val_loss: 3.3776 - val_accuracy: 0.3640 - val_f1_score: 0.3354 - lr: 2.5000e-05\n",
            "Epoch 14/30\n",
            "56/56 [==============================] - ETA: 0s - loss: 0.2335 - accuracy: 0.9391 - f1_score: 0.9330\n",
            "Epoch 14: val_accuracy did not improve from 0.38800\n",
            "56/56 [==============================] - 162s 3s/step - loss: 0.2335 - accuracy: 0.9391 - f1_score: 0.9330 - val_loss: 3.3835 - val_accuracy: 0.3640 - val_f1_score: 0.3354 - lr: 2.5000e-05\n",
            "Epoch 15/30\n",
            "56/56 [==============================] - ETA: 0s - loss: 0.2277 - accuracy: 0.9414 - f1_score: 0.9376\n",
            "Epoch 15: val_accuracy did not improve from 0.38800\n",
            "56/56 [==============================] - 162s 3s/step - loss: 0.2277 - accuracy: 0.9414 - f1_score: 0.9376 - val_loss: 3.3870 - val_accuracy: 0.3640 - val_f1_score: 0.3323 - lr: 2.5000e-05\n",
            "Epoch 16/30\n",
            "56/56 [==============================] - ETA: 0s - loss: 0.2399 - accuracy: 0.9340 - f1_score: 0.9302\n",
            "Epoch 16: val_accuracy did not improve from 0.38800\n",
            "56/56 [==============================] - 162s 3s/step - loss: 0.2399 - accuracy: 0.9340 - f1_score: 0.9302 - val_loss: 3.3857 - val_accuracy: 0.3640 - val_f1_score: 0.3323 - lr: 2.5000e-05\n",
            "Epoch 17/30\n",
            "56/56 [==============================] - ETA: 0s - loss: 0.2310 - accuracy: 0.9369 - f1_score: 0.9299\n",
            "Epoch 17: val_accuracy did not improve from 0.38800\n",
            "56/56 [==============================] - 183s 3s/step - loss: 0.2310 - accuracy: 0.9369 - f1_score: 0.9299 - val_loss: 3.3840 - val_accuracy: 0.3640 - val_f1_score: 0.3329 - lr: 2.5000e-05\n",
            "Epoch 18/30\n",
            "56/56 [==============================] - ETA: 0s - loss: 0.2279 - accuracy: 0.9391 - f1_score: 0.9320\n",
            "Epoch 18: val_accuracy did not improve from 0.38800\n",
            "56/56 [==============================] - 187s 3s/step - loss: 0.2279 - accuracy: 0.9391 - f1_score: 0.9320 - val_loss: 3.3849 - val_accuracy: 0.3640 - val_f1_score: 0.3333 - lr: 2.0000e-06\n",
            "Epoch 19/30\n",
            "56/56 [==============================] - ETA: 0s - loss: 0.2249 - accuracy: 0.9346 - f1_score: 0.9318\n",
            "Epoch 19: val_accuracy did not improve from 0.38800\n",
            "56/56 [==============================] - 163s 3s/step - loss: 0.2249 - accuracy: 0.9346 - f1_score: 0.9318 - val_loss: 3.3857 - val_accuracy: 0.3600 - val_f1_score: 0.3333 - lr: 2.0000e-06\n",
            "Epoch 20/30\n",
            "56/56 [==============================] - ETA: 0s - loss: 0.2347 - accuracy: 0.9346 - f1_score: 0.9300\n",
            "Epoch 20: val_accuracy did not improve from 0.38800\n",
            "56/56 [==============================] - 163s 3s/step - loss: 0.2347 - accuracy: 0.9346 - f1_score: 0.9300 - val_loss: 3.3865 - val_accuracy: 0.3640 - val_f1_score: 0.3333 - lr: 2.0000e-06\n",
            "Epoch 21/30\n",
            "56/56 [==============================] - ETA: 0s - loss: 0.2449 - accuracy: 0.9329 - f1_score: 0.9332\n",
            "Epoch 21: val_accuracy did not improve from 0.38800\n",
            "56/56 [==============================] - 161s 3s/step - loss: 0.2449 - accuracy: 0.9329 - f1_score: 0.9332 - val_loss: 3.3842 - val_accuracy: 0.3600 - val_f1_score: 0.3333 - lr: 2.0000e-06\n",
            "Epoch 22/30\n",
            "56/56 [==============================] - ETA: 0s - loss: 0.2347 - accuracy: 0.9369 - f1_score: 0.9323\n",
            "Epoch 22: val_accuracy did not improve from 0.38800\n",
            "56/56 [==============================] - 186s 3s/step - loss: 0.2347 - accuracy: 0.9369 - f1_score: 0.9323 - val_loss: 3.3859 - val_accuracy: 0.3600 - val_f1_score: 0.3333 - lr: 2.0000e-06\n",
            "Epoch 23/30\n",
            "56/56 [==============================] - ETA: 0s - loss: 0.2285 - accuracy: 0.9340 - f1_score: 0.9324\n",
            "Epoch 23: val_accuracy did not improve from 0.38800\n",
            "56/56 [==============================] - 166s 3s/step - loss: 0.2285 - accuracy: 0.9340 - f1_score: 0.9324 - val_loss: 3.3882 - val_accuracy: 0.3640 - val_f1_score: 0.3363 - lr: 2.0000e-06\n",
            "Epoch 24/30\n",
            "56/56 [==============================] - ETA: 0s - loss: 0.2209 - accuracy: 0.9425 - f1_score: 0.9341\n",
            "Epoch 24: val_accuracy did not improve from 0.38800\n",
            "56/56 [==============================] - 164s 3s/step - loss: 0.2209 - accuracy: 0.9425 - f1_score: 0.9341 - val_loss: 3.3865 - val_accuracy: 0.3640 - val_f1_score: 0.3323 - lr: 2.0000e-06\n",
            "Epoch 25/30\n",
            "56/56 [==============================] - ETA: 0s - loss: 0.2287 - accuracy: 0.9369 - f1_score: 0.9351\n",
            "Epoch 25: val_accuracy did not improve from 0.38800\n",
            "56/56 [==============================] - 162s 3s/step - loss: 0.2287 - accuracy: 0.9369 - f1_score: 0.9351 - val_loss: 3.3852 - val_accuracy: 0.3640 - val_f1_score: 0.3354 - lr: 2.0000e-06\n",
            "Epoch 26/30\n",
            "56/56 [==============================] - ETA: 0s - loss: 0.2349 - accuracy: 0.9295 - f1_score: 0.9256\n",
            "Epoch 26: val_accuracy did not improve from 0.38800\n",
            "56/56 [==============================] - 165s 3s/step - loss: 0.2349 - accuracy: 0.9295 - f1_score: 0.9256 - val_loss: 3.3828 - val_accuracy: 0.3640 - val_f1_score: 0.3354 - lr: 2.0000e-06\n",
            "Epoch 27/30\n",
            "56/56 [==============================] - ETA: 0s - loss: 0.2349 - accuracy: 0.9386 - f1_score: 0.9353\n",
            "Epoch 27: val_accuracy did not improve from 0.38800\n",
            "56/56 [==============================] - 165s 3s/step - loss: 0.2349 - accuracy: 0.9386 - f1_score: 0.9353 - val_loss: 3.3822 - val_accuracy: 0.3640 - val_f1_score: 0.3354 - lr: 2.0000e-06\n",
            "Epoch 28/30\n",
            "56/56 [==============================] - ETA: 0s - loss: 0.2267 - accuracy: 0.9425 - f1_score: 0.9362\n",
            "Epoch 28: val_accuracy did not improve from 0.38800\n",
            "56/56 [==============================] - 164s 3s/step - loss: 0.2267 - accuracy: 0.9425 - f1_score: 0.9362 - val_loss: 3.3837 - val_accuracy: 0.3600 - val_f1_score: 0.3333 - lr: 2.0000e-06\n",
            "Epoch 29/30\n",
            "56/56 [==============================] - ETA: 0s - loss: 0.2270 - accuracy: 0.9397 - f1_score: 0.9342\n",
            "Epoch 29: val_accuracy did not improve from 0.38800\n",
            "56/56 [==============================] - 163s 3s/step - loss: 0.2270 - accuracy: 0.9397 - f1_score: 0.9342 - val_loss: 3.3857 - val_accuracy: 0.3640 - val_f1_score: 0.3363 - lr: 2.0000e-06\n"
          ]
        }
      ]
    },
    {
      "cell_type": "code",
      "metadata": {
        "id": "1WFZwVEg_GXb"
      },
      "source": [
        "#f1 = history_fine.history['f1_score']\n",
        "#val_f1 = history_fine.history['val_f1_score']\n",
        "\n",
        "#plt.figure(figsize=(8, 8))\n",
        "#plt.subplot(2, 1, 1)\n",
        "#plt.plot(f1, label='Training F1-Score')\n",
        "#plt.plot(val_f1, label='Validation F1-Score')\n",
        "#plt.legend(loc='lower right')\n",
        "#plt.ylabel('F1-Score')\n",
        "#plt.ylim([min(plt.ylim()),1])\n",
        "#plt.title('Training and Validation F1-Score')\n"
      ],
      "execution_count": 15,
      "outputs": []
    },
    {
      "cell_type": "code",
      "source": [
        "f1 = history_fine.history['accuracy']\n",
        "val_f1 = history_fine.history['val_accuracy']\n",
        "\n",
        "plt.figure(figsize=(8, 8))\n",
        "plt.subplot(2, 1, 1)\n",
        "plt.plot(f1, label='Training F1-Score')\n",
        "plt.plot(val_f1, label='Validation F1-Score')\n",
        "plt.legend(loc='lower right')\n",
        "plt.ylabel('F1-Score')\n",
        "plt.ylim([min(plt.ylim()),1])\n",
        "plt.title('Training and Validation F1-Score')\n"
      ],
      "metadata": {
        "id": "fOSIrhK5g1ZF",
        "colab": {
          "base_uri": "https://localhost:8080/",
          "height": 279
        },
        "outputId": "a9e6432e-c7ff-40cc-8063-4059d3a91e2e"
      },
      "execution_count": 16,
      "outputs": [
        {
          "output_type": "execute_result",
          "data": {
            "text/plain": [
              "Text(0.5, 1.0, 'Training and Validation F1-Score')"
            ]
          },
          "metadata": {},
          "execution_count": 16
        },
        {
          "output_type": "display_data",
          "data": {
            "text/plain": [
              "<Figure size 576x576 with 1 Axes>"
            ],
            "image/png": "[encoded data removed]"
          },
          "metadata": {
            "needs_background": "light"
          }
        }
      ]
    },
    {
      "cell_type": "code",
      "metadata": {
        "id": "Q8ENVvZSrKrS",
        "colab": {
          "base_uri": "https://localhost:8080/",
          "height": 295
        },
        "outputId": "612a0cf5-898e-43e1-8792-0b6f4f09e45c"
      },
      "source": [
        "loss = history_fine.history['loss']\n",
        "val_loss = history_fine.history['val_loss']\n",
        "\n",
        "plt.plot(history_fine.history['loss'])\n",
        "plt.plot(history_fine.history['val_loss'])\n",
        "plt.title('model loss')\n",
        "plt.ylabel('loss')\n",
        "plt.xlabel('epoch')\n",
        "plt.legend(['training set', 'validation set'], loc='upper left')\n",
        "plt.show()"
      ],
      "execution_count": 17,
      "outputs": [
        {
          "output_type": "display_data",
          "data": {
            "text/plain": [
              "<Figure size 432x288 with 1 Axes>"
            ],
            "image/png": "[encoded data removed]"
          },
          "metadata": {
            "needs_background": "light"
          }
        }
      ]
    },
    {
      "cell_type": "code",
      "source": [
        "score = model.evaluate(test_generator,batch_size=batch_size) \n",
        "print(f'Test loss: {score[0]} / Test accuracy: {score[1]}')"
      ],
      "metadata": {
        "id": "g2VR_adbrsUp",
        "colab": {
          "base_uri": "https://localhost:8080/"
        },
        "outputId": "47b48327-3c76-413b-c9e4-11ae25fd7d42"
      },
      "execution_count": 18,
      "outputs": [
        {
          "output_type": "stream",
          "name": "stdout",
          "text": [
            "17/17 [==============================] - 42s 2s/step - loss: 3.0442 - accuracy: 0.3931 - f1_score: 0.3667\n",
            "Test loss: 3.044175148010254 / Test accuracy: 0.39306357502937317\n"
          ]
        }
      ]
    },
    {
      "cell_type": "code",
      "source": [
        ""
      ],
      "metadata": {
        "id": "mxFnz7J7NY1Z"
      },
      "execution_count": 18,
      "outputs": []
    },
    {
      "cell_type": "markdown",
      "metadata": {
        "id": "zFraRq9i9FNA"
      },
      "source": [
        ""
      ]
    },
    {
      "cell_type": "code",
      "metadata": {
        "id": "RXFG_Bn19FTX",
        "colab": {
          "base_uri": "https://localhost:8080/"
        },
        "outputId": "59996bf8-c202-4a81-8c8d-4cc765faa704"
      },
      "source": [
        "#y_prob = model.predict(test_generator,batch_size=batch_size)\n",
        "#y_pred = np.argmax(y_prob,axis=1)\n",
        "\n",
        "y_prob = model.predict(test_generator)\n",
        "y_pred = np.argmax(y_prob,axis=1)\n",
        "#print(pred, labels[np.argmax(pred)])\n",
        "print(classification_report(test_generator.classes,y_pred))"
      ],
      "execution_count": 19,
      "outputs": [
        {
          "output_type": "stream",
          "name": "stdout",
          "text": [
            "              precision    recall  f1-score   support\n",
            "\n",
            "           0       0.07      0.07      0.07        45\n",
            "           1       0.02      0.03      0.02        39\n",
            "           2       0.05      0.06      0.06        49\n",
            "           3       0.11      0.11      0.11        55\n",
            "           4       0.05      0.03      0.04        29\n",
            "           5       0.09      0.10      0.10        59\n",
            "           6       0.06      0.05      0.05        40\n",
            "           7       0.17      0.19      0.18        37\n",
            "           8       0.09      0.07      0.08        56\n",
            "           9       0.12      0.13      0.12        69\n",
            "          10       0.05      0.05      0.05        41\n",
            "\n",
            "    accuracy                           0.08       519\n",
            "   macro avg       0.08      0.08      0.08       519\n",
            "weighted avg       0.08      0.08      0.08       519\n",
            "\n"
          ]
        }
      ]
    },
    {
      "cell_type": "code",
      "source": [
        "y_prob"
      ],
      "metadata": {
        "id": "0gCeN5zQyylW",
        "colab": {
          "base_uri": "https://localhost:8080/"
        },
        "outputId": "8d3445de-885d-47df-b75d-7e13f13e98b8"
      },
      "execution_count": 20,
      "outputs": [
        {
          "output_type": "execute_result",
          "data": {
            "text/plain": [
              "array([[1.2893790e-01, 5.6801448e-03, 7.8252116e-03, ..., 7.9438293e-01,\n",
              "        5.3297337e-03, 3.1344322e-03],\n",
              "       [7.6563299e-02, 7.7759579e-02, 4.0827002e-03, ..., 8.0652423e-03,\n",
              "        2.7139839e-03, 9.8248292e-04],\n",
              "       [1.8803061e-05, 2.7454812e-09, 1.7045797e-05, ..., 1.1940393e-06,\n",
              "        5.7996323e-05, 3.5527039e-03],\n",
              "       ...,\n",
              "       [6.4530852e-04, 2.9578250e-02, 1.4649439e-04, ..., 3.7229460e-04,\n",
              "        9.2483932e-01, 1.3386675e-04],\n",
              "       [2.5137704e-02, 6.2168785e-03, 2.7483637e-03, ..., 3.1582907e-01,\n",
              "        2.4006176e-01, 8.7456964e-03],\n",
              "       [3.1833735e-01, 2.0206442e-04, 6.7887868e-04, ..., 9.2706187e-03,\n",
              "        1.1461594e-02, 5.6407648e-01]], dtype=float32)"
            ]
          },
          "metadata": {},
          "execution_count": 20
        }
      ]
    },
    {
      "cell_type": "code",
      "source": [
        "test_generator.classes"
      ],
      "metadata": {
        "id": "cbxMbryxo31y",
        "colab": {
          "base_uri": "https://localhost:8080/"
        },
        "outputId": "e3d51ea0-74cc-4d7a-8b43-e7d8e863198d"
      },
      "execution_count": 21,
      "outputs": [
        {
          "output_type": "execute_result",
          "data": {
            "text/plain": [
              "array([ 0,  0,  0,  0,  0,  0,  0,  0,  0,  0,  0,  0,  0,  0,  0,  0,  0,\n",
              "        0,  0,  0,  0,  0,  0,  0,  0,  0,  0,  0,  0,  0,  0,  0,  0,  0,\n",
              "        0,  0,  0,  0,  0,  0,  0,  0,  0,  0,  0,  1,  1,  1,  1,  1,  1,\n",
              "        1,  1,  1,  1,  1,  1,  1,  1,  1,  1,  1,  1,  1,  1,  1,  1,  1,\n",
              "        1,  1,  1,  1,  1,  1,  1,  1,  1,  1,  1,  1,  1,  1,  1,  1,  2,\n",
              "        2,  2,  2,  2,  2,  2,  2,  2,  2,  2,  2,  2,  2,  2,  2,  2,  2,\n",
              "        2,  2,  2,  2,  2,  2,  2,  2,  2,  2,  2,  2,  2,  2,  2,  2,  2,\n",
              "        2,  2,  2,  2,  2,  2,  2,  2,  2,  2,  2,  2,  2,  2,  3,  3,  3,\n",
              "        3,  3,  3,  3,  3,  3,  3,  3,  3,  3,  3,  3,  3,  3,  3,  3,  3,\n",
              "        3,  3,  3,  3,  3,  3,  3,  3,  3,  3,  3,  3,  3,  3,  3,  3,  3,\n",
              "        3,  3,  3,  3,  3,  3,  3,  3,  3,  3,  3,  3,  3,  3,  3,  3,  3,\n",
              "        3,  4,  4,  4,  4,  4,  4,  4,  4,  4,  4,  4,  4,  4,  4,  4,  4,\n",
              "        4,  4,  4,  4,  4,  4,  4,  4,  4,  4,  4,  4,  4,  5,  5,  5,  5,\n",
              "        5,  5,  5,  5,  5,  5,  5,  5,  5,  5,  5,  5,  5,  5,  5,  5,  5,\n",
              "        5,  5,  5,  5,  5,  5,  5,  5,  5,  5,  5,  5,  5,  5,  5,  5,  5,\n",
              "        5,  5,  5,  5,  5,  5,  5,  5,  5,  5,  5,  5,  5,  5,  5,  5,  5,\n",
              "        5,  5,  5,  5,  6,  6,  6,  6,  6,  6,  6,  6,  6,  6,  6,  6,  6,\n",
              "        6,  6,  6,  6,  6,  6,  6,  6,  6,  6,  6,  6,  6,  6,  6,  6,  6,\n",
              "        6,  6,  6,  6,  6,  6,  6,  6,  6,  6,  7,  7,  7,  7,  7,  7,  7,\n",
              "        7,  7,  7,  7,  7,  7,  7,  7,  7,  7,  7,  7,  7,  7,  7,  7,  7,\n",
              "        7,  7,  7,  7,  7,  7,  7,  7,  7,  7,  7,  7,  7,  8,  8,  8,  8,\n",
              "        8,  8,  8,  8,  8,  8,  8,  8,  8,  8,  8,  8,  8,  8,  8,  8,  8,\n",
              "        8,  8,  8,  8,  8,  8,  8,  8,  8,  8,  8,  8,  8,  8,  8,  8,  8,\n",
              "        8,  8,  8,  8,  8,  8,  8,  8,  8,  8,  8,  8,  8,  8,  8,  8,  8,\n",
              "        8,  9,  9,  9,  9,  9,  9,  9,  9,  9,  9,  9,  9,  9,  9,  9,  9,\n",
              "        9,  9,  9,  9,  9,  9,  9,  9,  9,  9,  9,  9,  9,  9,  9,  9,  9,\n",
              "        9,  9,  9,  9,  9,  9,  9,  9,  9,  9,  9,  9,  9,  9,  9,  9,  9,\n",
              "        9,  9,  9,  9,  9,  9,  9,  9,  9,  9,  9,  9,  9,  9,  9,  9,  9,\n",
              "        9,  9, 10, 10, 10, 10, 10, 10, 10, 10, 10, 10, 10, 10, 10, 10, 10,\n",
              "       10, 10, 10, 10, 10, 10, 10, 10, 10, 10, 10, 10, 10, 10, 10, 10, 10,\n",
              "       10, 10, 10, 10, 10, 10, 10, 10, 10], dtype=int32)"
            ]
          },
          "metadata": {},
          "execution_count": 21
        }
      ]
    },
    {
      "cell_type": "code",
      "source": [
        "y_pred"
      ],
      "metadata": {
        "id": "_C6CCDiayO0g",
        "colab": {
          "base_uri": "https://localhost:8080/"
        },
        "outputId": "74567c91-1e6f-4a3f-e11e-b0a658fa8c85"
      },
      "execution_count": 22,
      "outputs": [
        {
          "output_type": "execute_result",
          "data": {
            "text/plain": [
              "array([ 8,  6,  6,  8,  3,  1,  5,  3,  0,  6,  9,  3,  9,  3, 10,  2,  5,\n",
              "        4,  8,  2, 10,  3,  7,  7,  0,  9,  5,  9,  7,  9,  9,  6, 10,  1,\n",
              "        2,  3,  3,  0,  5,  7,  2,  3,  2,  8,  3,  8,  6, 10,  0,  5,  5,\n",
              "        6,  2,  6,  9,  5,  9,  4,  2,  5,  5, 10,  3,  9,  3,  3,  1,  0,\n",
              "        4,  2,  9,  0,  3,  5,  8,  2,  2,  2,  6,  3,  8,  2,  9,  8, 10,\n",
              "        1,  3,  7,  5, 10,  9,  2,  4,  5,  6,  9,  8,  5,  1,  5,  5,  9,\n",
              "        6,  9,  5,  5,  2, 10,  3,  9,  2,  0,  9, 10,  5,  1,  3,  5, 10,\n",
              "        9, 10,  1,  9,  5,  7,  0,  0,  7,  9,  9, 10,  8,  1,  8,  7,  3,\n",
              "        8,  4,  2,  9,  0, 10,  1,  9,  8,  8,  9, 10,  0,  7,  3,  4,  4,\n",
              "        9,  8,  2,  8,  2,  3,  1,  0,  9,  3,  9,  9,  5,  0,  8,  2,  4,\n",
              "        6,  0,  9,  1,  2,  2,  3,  3,  1,  7,  5,  0, 10,  9,  6,  6,  2,\n",
              "        9, 10, 10,  1,  2,  6,  8,  5,  0,  5,  1,  8,  1,  3,  8,  7,  0,\n",
              "        9,  0,  2,  0,  5,  4,  5,  8,  3,  2,  7, 10,  8,  3,  9,  9,  9,\n",
              "        3,  8,  5,  7,  6,  3,  8,  1,  9,  1,  0,  0,  9,  8,  1,  1,  6,\n",
              "        0, 10,  8,  9,  9,  7,  9,  3,  6,  7,  0,  9,  0,  5,  0,  1, 10,\n",
              "        1,  3,  5,  7,  5,  5,  0,  9, 10,  9,  3,  7,  8,  5,  7,  1, 10,\n",
              "        8,  4,  2,  2, 10,  9,  1,  5, 10,  5,  9,  8,  8,  9,  9,  0,  5,\n",
              "        6,  7,  7,  6,  9,  5,  3,  3,  7,  2, 10,  3,  9,  9,  4,  0,  2,\n",
              "        5,  1,  0,  0,  2, 10,  9,  1,  2,  7,  7,  3, 10, 10,  3,  6,  6,\n",
              "        9,  2,  3,  2,  7,  9,  1,  9,  9,  3,  2,  2,  0,  7,  7,  7,  5,\n",
              "        3,  2,  5, 10, 10,  8,  7,  2, 10,  8,  7, 10,  3,  6,  5,  0,  5,\n",
              "        5,  1,  5,  8,  9,  6,  6,  2,  3,  0,  9,  4,  1,  5,  0,  5, 10,\n",
              "        1,  3,  8, 10,  7,  7,  0,  9,  6,  9,  5,  5,  2,  9,  6, 10,  8,\n",
              "        3,  8,  7,  4, 10,  1,  5,  1,  3,  9,  2,  2,  1,  5,  7,  6,  9,\n",
              "        9,  1,  2,  2,  5,  9,  3,  3,  1,  8,  9,  7,  8,  4, 10,  5, 10,\n",
              "        0,  5,  8,  9,  9,  5,  7,  7,  2,  3,  8,  0,  2,  1,  1,  6,  9,\n",
              "        1,  5,  2,  6,  3,  6,  9,  4,  5,  0,  9,  4,  7,  4,  8,  9,  5,\n",
              "        3,  3, 10,  2,  7,  5,  2,  5,  1,  0,  0,  8,  5,  2,  3,  3,  9,\n",
              "        2,  0,  1,  6,  4,  8,  2,  6,  9,  9,  7,  2,  5,  5,  5,  6,  9,\n",
              "        1,  5,  8,  7,  1,  1,  2,  7,  8,  0,  8,  6,  2,  3,  2,  2, 10,\n",
              "        6,  5,  9,  9,  8,  5,  9,  4, 10])"
            ]
          },
          "metadata": {},
          "execution_count": 22
        }
      ]
    },
    {
      "cell_type": "code",
      "source": [
        "import plotly.figure_factory as ff\n",
        "\n",
        "y_true = test_generator.classes\n",
        "\n",
        "z = confusion_matrix(y_true, y_pred)\n",
        "\n",
        "x = list(test_generator.class_indices.keys())\n",
        "\n",
        "y = list(test_generator.class_indices.keys())\n"
      ],
      "metadata": {
        "id": "5NOZQOgN_DHU"
      },
      "execution_count": 23,
      "outputs": []
    },
    {
      "cell_type": "code",
      "metadata": {
        "id": "EHxUyHkC1URt",
        "colab": {
          "base_uri": "https://localhost:8080/",
          "height": 542
        },
        "outputId": "f61fe568-8e71-4774-d19e-617a2b5afecb"
      },
      "source": [
        "# change each element of z to type string for annotations\n",
        "z_text = [[str(y) for y in x] for x in z]\n",
        "\n",
        "# set up figure \n",
        "fig = ff.create_annotated_heatmap(z, x=x, y=y, annotation_text=z_text, colorscale='Viridis')\n",
        "\n",
        "# add title\n",
        "fig.update_layout(title_text='<i><b>Confusion matrix</b></i>',\n",
        "                  #xaxis = dict(title='x'),\n",
        "                  #yaxis = dict(title='x')\n",
        "                 )\n",
        "\n",
        "# add custom xaxis title\n",
        "fig.add_annotation(dict(font=dict(color=\"black\",size=14),\n",
        "                        x=0.5,\n",
        "                        y=-0.15,\n",
        "                        showarrow=False,\n",
        "                        text=\"Predicted value\",\n",
        "                        xref=\"paper\",\n",
        "                        yref=\"paper\"))\n",
        "\n",
        "# add custom yaxis title\n",
        "fig.add_annotation(dict(font=dict(color=\"black\",size=14),\n",
        "                        x=-0.35,\n",
        "                        y=0.5,\n",
        "                        showarrow=False,\n",
        "                        text=\"Real value\",\n",
        "                        textangle=-90,\n",
        "                        xref=\"paper\",\n",
        "                        yref=\"paper\"))\n",
        "\n",
        "# adjust margins to make room for yaxis title\n",
        "fig.update_layout(margin=dict(t=50, l=200))\n",
        "\n",
        "# add colorbar\n",
        "fig['data'][0]['showscale'] = True\n",
        "fig.show()"
      ],
      "execution_count": 24,
      "outputs": [
        {
          "output_type": "display_data",
          "data": {
            "text/html": [
              "<html>\n",
              "<head><meta charset=\"utf-8\" /></head>\n",
              "<body>\n",
              "    <div>            <script src=\"https://cdnjs.cloudflare.com/ajax/libs/mathjax/2.7.5/MathJax.js?config=TeX-AMS-MML_SVG\"></script><script type=\"text/javascript\">if (window.MathJax) {MathJax.Hub.Config({SVG: {font: \"STIX-Web\"}});}</script>                <script type=\"text/javascript\">window.PlotlyConfig = {MathJaxConfig: 'local'};</script>\n",
              "        <script src=\"https://cdn.plot.ly/plotly-2.8.3.min.js\"></script>                <div id=\"9975af71-74d2-4690-b80b-b9eeca4c521c\" class=\"plotly-graph-div\" style=\"height:525px; width:100%;\"></div>            <script type=\"text/javascript\">                                    window.PLOTLYENV=window.PLOTLYENV || {};                                    if (document.getElementById(\"9975af71-74d2-4690-b80b-b9eeca4c521c\")) {                    Plotly.newPlot(                        \"9975af71-74d2-4690-b80b-b9eeca4c521c\",                        [{\"colorscale\":[[0.0,\"#440154\"],[0.1111111111111111,\"#482878\"],[0.2222222222222222,\"#3e4989\"],[0.3333333333333333,\"#31688e\"],[0.4444444444444444,\"#26828e\"],[0.5555555555555556,\"#1f9e89\"],[0.6666666666666666,\"#35b779\"],[0.7777777777777778,\"#6ece58\"],[0.8888888888888888,\"#b5de2b\"],[1.0,\"#fde725\"]],\"reversescale\":false,\"showscale\":true,\"x\":[\"Ac\",\"As\",\"Cb\",\"Cc\",\"Ci\",\"Cs\",\"Ct\",\"Cu\",\"Ns\",\"Sc\",\"St\"],\"y\":[\"Ac\",\"As\",\"Cb\",\"Cc\",\"Ci\",\"Cs\",\"Ct\",\"Cu\",\"Ns\",\"Sc\",\"St\"],\"z\":[[3,2,5,9,1,4,4,4,4,6,3],[3,1,7,5,2,6,4,0,4,5,2],[3,5,3,3,1,10,2,3,2,10,7],[6,4,7,6,4,2,3,3,7,10,3],[4,3,3,2,1,4,1,2,5,1,3],[7,7,2,6,1,6,3,6,6,11,4],[4,3,4,3,1,5,2,4,2,8,4],[1,1,6,6,0,2,2,7,2,4,6],[4,6,4,4,2,10,6,4,4,8,4],[6,6,9,8,4,10,3,5,6,9,3],[1,4,6,1,2,6,5,3,5,6,2]],\"type\":\"heatmap\"}],                        {\"annotations\":[{\"font\":{\"color\":\"#FFFFFF\"},\"showarrow\":false,\"text\":\"3\",\"x\":\"Ac\",\"xref\":\"x\",\"y\":\"Ac\",\"yref\":\"y\"},{\"font\":{\"color\":\"#FFFFFF\"},\"showarrow\":false,\"text\":\"2\",\"x\":\"As\",\"xref\":\"x\",\"y\":\"Ac\",\"yref\":\"y\"},{\"font\":{\"color\":\"#FFFFFF\"},\"showarrow\":false,\"text\":\"5\",\"x\":\"Cb\",\"xref\":\"x\",\"y\":\"Ac\",\"yref\":\"y\"},{\"font\":{\"color\":\"#000000\"},\"showarrow\":false,\"text\":\"9\",\"x\":\"Cc\",\"xref\":\"x\",\"y\":\"Ac\",\"yref\":\"y\"},{\"font\":{\"color\":\"#FFFFFF\"},\"showarrow\":false,\"text\":\"1\",\"x\":\"Ci\",\"xref\":\"x\",\"y\":\"Ac\",\"yref\":\"y\"},{\"font\":{\"color\":\"#FFFFFF\"},\"showarrow\":false,\"text\":\"4\",\"x\":\"Cs\",\"xref\":\"x\",\"y\":\"Ac\",\"yref\":\"y\"},{\"font\":{\"color\":\"#FFFFFF\"},\"showarrow\":false,\"text\":\"4\",\"x\":\"Ct\",\"xref\":\"x\",\"y\":\"Ac\",\"yref\":\"y\"},{\"font\":{\"color\":\"#FFFFFF\"},\"showarrow\":false,\"text\":\"4\",\"x\":\"Cu\",\"xref\":\"x\",\"y\":\"Ac\",\"yref\":\"y\"},{\"font\":{\"color\":\"#FFFFFF\"},\"showarrow\":false,\"text\":\"4\",\"x\":\"Ns\",\"xref\":\"x\",\"y\":\"Ac\",\"yref\":\"y\"},{\"font\":{\"color\":\"#000000\"},\"showarrow\":false,\"text\":\"6\",\"x\":\"Sc\",\"xref\":\"x\",\"y\":\"Ac\",\"yref\":\"y\"},{\"font\":{\"color\":\"#FFFFFF\"},\"showarrow\":false,\"text\":\"3\",\"x\":\"St\",\"xref\":\"x\",\"y\":\"Ac\",\"yref\":\"y\"},{\"font\":{\"color\":\"#FFFFFF\"},\"showarrow\":false,\"text\":\"3\",\"x\":\"Ac\",\"xref\":\"x\",\"y\":\"As\",\"yref\":\"y\"},{\"font\":{\"color\":\"#FFFFFF\"},\"showarrow\":false,\"text\":\"1\",\"x\":\"As\",\"xref\":\"x\",\"y\":\"As\",\"yref\":\"y\"},{\"font\":{\"color\":\"#000000\"},\"showarrow\":false,\"text\":\"7\",\"x\":\"Cb\",\"xref\":\"x\",\"y\":\"As\",\"yref\":\"y\"},{\"font\":{\"color\":\"#FFFFFF\"},\"showarrow\":false,\"text\":\"5\",\"x\":\"Cc\",\"xref\":\"x\",\"y\":\"As\",\"yref\":\"y\"},{\"font\":{\"color\":\"#FFFFFF\"},\"showarrow\":false,\"text\":\"2\",\"x\":\"Ci\",\"xref\":\"x\",\"y\":\"As\",\"yref\":\"y\"},{\"font\":{\"color\":\"#000000\"},\"showarrow\":false,\"text\":\"6\",\"x\":\"Cs\",\"xref\":\"x\",\"y\":\"As\",\"yref\":\"y\"},{\"font\":{\"color\":\"#FFFFFF\"},\"showarrow\":false,\"text\":\"4\",\"x\":\"Ct\",\"xref\":\"x\",\"y\":\"As\",\"yref\":\"y\"},{\"font\":{\"color\":\"#FFFFFF\"},\"showarrow\":false,\"text\":\"0\",\"x\":\"Cu\",\"xref\":\"x\",\"y\":\"As\",\"yref\":\"y\"},{\"font\":{\"color\":\"#FFFFFF\"},\"showarrow\":false,\"text\":\"4\",\"x\":\"Ns\",\"xref\":\"x\",\"y\":\"As\",\"yref\":\"y\"},{\"font\":{\"color\":\"#FFFFFF\"},\"showarrow\":false,\"text\":\"5\",\"x\":\"Sc\",\"xref\":\"x\",\"y\":\"As\",\"yref\":\"y\"},{\"font\":{\"color\":\"#FFFFFF\"},\"showarrow\":false,\"text\":\"2\",\"x\":\"St\",\"xref\":\"x\",\"y\":\"As\",\"yref\":\"y\"},{\"font\":{\"color\":\"#FFFFFF\"},\"showarrow\":false,\"text\":\"3\",\"x\":\"Ac\",\"xref\":\"x\",\"y\":\"Cb\",\"yref\":\"y\"},{\"font\":{\"color\":\"#FFFFFF\"},\"showarrow\":false,\"text\":\"5\",\"x\":\"As\",\"xref\":\"x\",\"y\":\"Cb\",\"yref\":\"y\"},{\"font\":{\"color\":\"#FFFFFF\"},\"showarrow\":false,\"text\":\"3\",\"x\":\"Cb\",\"xref\":\"x\",\"y\":\"Cb\",\"yref\":\"y\"},{\"font\":{\"color\":\"#FFFFFF\"},\"showarrow\":false,\"text\":\"3\",\"x\":\"Cc\",\"xref\":\"x\",\"y\":\"Cb\",\"yref\":\"y\"},{\"font\":{\"color\":\"#FFFFFF\"},\"showarrow\":false,\"text\":\"1\",\"x\":\"Ci\",\"xref\":\"x\",\"y\":\"Cb\",\"yref\":\"y\"},{\"font\":{\"color\":\"#000000\"},\"showarrow\":false,\"text\":\"10\",\"x\":\"Cs\",\"xref\":\"x\",\"y\":\"Cb\",\"yref\":\"y\"},{\"font\":{\"color\":\"#FFFFFF\"},\"showarrow\":false,\"text\":\"2\",\"x\":\"Ct\",\"xref\":\"x\",\"y\":\"Cb\",\"yref\":\"y\"},{\"font\":{\"color\":\"#FFFFFF\"},\"showarrow\":false,\"text\":\"3\",\"x\":\"Cu\",\"xref\":\"x\",\"y\":\"Cb\",\"yref\":\"y\"},{\"font\":{\"color\":\"#FFFFFF\"},\"showarrow\":false,\"text\":\"2\",\"x\":\"Ns\",\"xref\":\"x\",\"y\":\"Cb\",\"yref\":\"y\"},{\"font\":{\"color\":\"#000000\"},\"showarrow\":false,\"text\":\"10\",\"x\":\"Sc\",\"xref\":\"x\",\"y\":\"Cb\",\"yref\":\"y\"},{\"font\":{\"color\":\"#000000\"},\"showarrow\":false,\"text\":\"7\",\"x\":\"St\",\"xref\":\"x\",\"y\":\"Cb\",\"yref\":\"y\"},{\"font\":{\"color\":\"#000000\"},\"showarrow\":false,\"text\":\"6\",\"x\":\"Ac\",\"xref\":\"x\",\"y\":\"Cc\",\"yref\":\"y\"},{\"font\":{\"color\":\"#FFFFFF\"},\"showarrow\":false,\"text\":\"4\",\"x\":\"As\",\"xref\":\"x\",\"y\":\"Cc\",\"yref\":\"y\"},{\"font\":{\"color\":\"#000000\"},\"showarrow\":false,\"text\":\"7\",\"x\":\"Cb\",\"xref\":\"x\",\"y\":\"Cc\",\"yref\":\"y\"},{\"font\":{\"color\":\"#000000\"},\"showarrow\":false,\"text\":\"6\",\"x\":\"Cc\",\"xref\":\"x\",\"y\":\"Cc\",\"yref\":\"y\"},{\"font\":{\"color\":\"#FFFFFF\"},\"showarrow\":false,\"text\":\"4\",\"x\":\"Ci\",\"xref\":\"x\",\"y\":\"Cc\",\"yref\":\"y\"},{\"font\":{\"color\":\"#FFFFFF\"},\"showarrow\":false,\"text\":\"2\",\"x\":\"Cs\",\"xref\":\"x\",\"y\":\"Cc\",\"yref\":\"y\"},{\"font\":{\"color\":\"#FFFFFF\"},\"showarrow\":false,\"text\":\"3\",\"x\":\"Ct\",\"xref\":\"x\",\"y\":\"Cc\",\"yref\":\"y\"},{\"font\":{\"color\":\"#FFFFFF\"},\"showarrow\":false,\"text\":\"3\",\"x\":\"Cu\",\"xref\":\"x\",\"y\":\"Cc\",\"yref\":\"y\"},{\"font\":{\"color\":\"#000000\"},\"showarrow\":false,\"text\":\"7\",\"x\":\"Ns\",\"xref\":\"x\",\"y\":\"Cc\",\"yref\":\"y\"},{\"font\":{\"color\":\"#000000\"},\"showarrow\":false,\"text\":\"10\",\"x\":\"Sc\",\"xref\":\"x\",\"y\":\"Cc\",\"yref\":\"y\"},{\"font\":{\"color\":\"#FFFFFF\"},\"showarrow\":false,\"text\":\"3\",\"x\":\"St\",\"xref\":\"x\",\"y\":\"Cc\",\"yref\":\"y\"},{\"font\":{\"color\":\"#FFFFFF\"},\"showarrow\":false,\"text\":\"4\",\"x\":\"Ac\",\"xref\":\"x\",\"y\":\"Ci\",\"yref\":\"y\"},{\"font\":{\"color\":\"#FFFFFF\"},\"showarrow\":false,\"text\":\"3\",\"x\":\"As\",\"xref\":\"x\",\"y\":\"Ci\",\"yref\":\"y\"},{\"font\":{\"color\":\"#FFFFFF\"},\"showarrow\":false,\"text\":\"3\",\"x\":\"Cb\",\"xref\":\"x\",\"y\":\"Ci\",\"yref\":\"y\"},{\"font\":{\"color\":\"#FFFFFF\"},\"showarrow\":false,\"text\":\"2\",\"x\":\"Cc\",\"xref\":\"x\",\"y\":\"Ci\",\"yref\":\"y\"},{\"font\":{\"color\":\"#FFFFFF\"},\"showarrow\":false,\"text\":\"1\",\"x\":\"Ci\",\"xref\":\"x\",\"y\":\"Ci\",\"yref\":\"y\"},{\"font\":{\"color\":\"#FFFFFF\"},\"showarrow\":false,\"text\":\"4\",\"x\":\"Cs\",\"xref\":\"x\",\"y\":\"Ci\",\"yref\":\"y\"},{\"font\":{\"color\":\"#FFFFFF\"},\"showarrow\":false,\"text\":\"1\",\"x\":\"Ct\",\"xref\":\"x\",\"y\":\"Ci\",\"yref\":\"y\"},{\"font\":{\"color\":\"#FFFFFF\"},\"showarrow\":false,\"text\":\"2\",\"x\":\"Cu\",\"xref\":\"x\",\"y\":\"Ci\",\"yref\":\"y\"},{\"font\":{\"color\":\"#FFFFFF\"},\"showarrow\":false,\"text\":\"5\",\"x\":\"Ns\",\"xref\":\"x\",\"y\":\"Ci\",\"yref\":\"y\"},{\"font\":{\"color\":\"#FFFFFF\"},\"showarrow\":false,\"text\":\"1\",\"x\":\"Sc\",\"xref\":\"x\",\"y\":\"Ci\",\"yref\":\"y\"},{\"font\":{\"color\":\"#FFFFFF\"},\"showarrow\":false,\"text\":\"3\",\"x\":\"St\",\"xref\":\"x\",\"y\":\"Ci\",\"yref\":\"y\"},{\"font\":{\"color\":\"#000000\"},\"showarrow\":false,\"text\":\"7\",\"x\":\"Ac\",\"xref\":\"x\",\"y\":\"Cs\",\"yref\":\"y\"},{\"font\":{\"color\":\"#000000\"},\"showarrow\":false,\"text\":\"7\",\"x\":\"As\",\"xref\":\"x\",\"y\":\"Cs\",\"yref\":\"y\"},{\"font\":{\"color\":\"#FFFFFF\"},\"showarrow\":false,\"text\":\"2\",\"x\":\"Cb\",\"xref\":\"x\",\"y\":\"Cs\",\"yref\":\"y\"},{\"font\":{\"color\":\"#000000\"},\"showarrow\":false,\"text\":\"6\",\"x\":\"Cc\",\"xref\":\"x\",\"y\":\"Cs\",\"yref\":\"y\"},{\"font\":{\"color\":\"#FFFFFF\"},\"showarrow\":false,\"text\":\"1\",\"x\":\"Ci\",\"xref\":\"x\",\"y\":\"Cs\",\"yref\":\"y\"},{\"font\":{\"color\":\"#000000\"},\"showarrow\":false,\"text\":\"6\",\"x\":\"Cs\",\"xref\":\"x\",\"y\":\"Cs\",\"yref\":\"y\"},{\"font\":{\"color\":\"#FFFFFF\"},\"showarrow\":false,\"text\":\"3\",\"x\":\"Ct\",\"xref\":\"x\",\"y\":\"Cs\",\"yref\":\"y\"},{\"font\":{\"color\":\"#000000\"},\"showarrow\":false,\"text\":\"6\",\"x\":\"Cu\",\"xref\":\"x\",\"y\":\"Cs\",\"yref\":\"y\"},{\"font\":{\"color\":\"#000000\"},\"showarrow\":false,\"text\":\"6\",\"x\":\"Ns\",\"xref\":\"x\",\"y\":\"Cs\",\"yref\":\"y\"},{\"font\":{\"color\":\"#000000\"},\"showarrow\":false,\"text\":\"11\",\"x\":\"Sc\",\"xref\":\"x\",\"y\":\"Cs\",\"yref\":\"y\"},{\"font\":{\"color\":\"#FFFFFF\"},\"showarrow\":false,\"text\":\"4\",\"x\":\"St\",\"xref\":\"x\",\"y\":\"Cs\",\"yref\":\"y\"},{\"font\":{\"color\":\"#FFFFFF\"},\"showarrow\":false,\"text\":\"4\",\"x\":\"Ac\",\"xref\":\"x\",\"y\":\"Ct\",\"yref\":\"y\"},{\"font\":{\"color\":\"#FFFFFF\"},\"showarrow\":false,\"text\":\"3\",\"x\":\"As\",\"xref\":\"x\",\"y\":\"Ct\",\"yref\":\"y\"},{\"font\":{\"color\":\"#FFFFFF\"},\"showarrow\":false,\"text\":\"4\",\"x\":\"Cb\",\"xref\":\"x\",\"y\":\"Ct\",\"yref\":\"y\"},{\"font\":{\"color\":\"#FFFFFF\"},\"showarrow\":false,\"text\":\"3\",\"x\":\"Cc\",\"xref\":\"x\",\"y\":\"Ct\",\"yref\":\"y\"},{\"font\":{\"color\":\"#FFFFFF\"},\"showarrow\":false,\"text\":\"1\",\"x\":\"Ci\",\"xref\":\"x\",\"y\":\"Ct\",\"yref\":\"y\"},{\"font\":{\"color\":\"#FFFFFF\"},\"showarrow\":false,\"text\":\"5\",\"x\":\"Cs\",\"xref\":\"x\",\"y\":\"Ct\",\"yref\":\"y\"},{\"font\":{\"color\":\"#FFFFFF\"},\"showarrow\":false,\"text\":\"2\",\"x\":\"Ct\",\"xref\":\"x\",\"y\":\"Ct\",\"yref\":\"y\"},{\"font\":{\"color\":\"#FFFFFF\"},\"showarrow\":false,\"text\":\"4\",\"x\":\"Cu\",\"xref\":\"x\",\"y\":\"Ct\",\"yref\":\"y\"},{\"font\":{\"color\":\"#FFFFFF\"},\"showarrow\":false,\"text\":\"2\",\"x\":\"Ns\",\"xref\":\"x\",\"y\":\"Ct\",\"yref\":\"y\"},{\"font\":{\"color\":\"#000000\"},\"showarrow\":false,\"text\":\"8\",\"x\":\"Sc\",\"xref\":\"x\",\"y\":\"Ct\",\"yref\":\"y\"},{\"font\":{\"color\":\"#FFFFFF\"},\"showarrow\":false,\"text\":\"4\",\"x\":\"St\",\"xref\":\"x\",\"y\":\"Ct\",\"yref\":\"y\"},{\"font\":{\"color\":\"#FFFFFF\"},\"showarrow\":false,\"text\":\"1\",\"x\":\"Ac\",\"xref\":\"x\",\"y\":\"Cu\",\"yref\":\"y\"},{\"font\":{\"color\":\"#FFFFFF\"},\"showarrow\":false,\"text\":\"1\",\"x\":\"As\",\"xref\":\"x\",\"y\":\"Cu\",\"yref\":\"y\"},{\"font\":{\"color\":\"#000000\"},\"showarrow\":false,\"text\":\"6\",\"x\":\"Cb\",\"xref\":\"x\",\"y\":\"Cu\",\"yref\":\"y\"},{\"font\":{\"color\":\"#000000\"},\"showarrow\":false,\"text\":\"6\",\"x\":\"Cc\",\"xref\":\"x\",\"y\":\"Cu\",\"yref\":\"y\"},{\"font\":{\"color\":\"#FFFFFF\"},\"showarrow\":false,\"text\":\"0\",\"x\":\"Ci\",\"xref\":\"x\",\"y\":\"Cu\",\"yref\":\"y\"},{\"font\":{\"color\":\"#FFFFFF\"},\"showarrow\":false,\"text\":\"2\",\"x\":\"Cs\",\"xref\":\"x\",\"y\":\"Cu\",\"yref\":\"y\"},{\"font\":{\"color\":\"#FFFFFF\"},\"showarrow\":false,\"text\":\"2\",\"x\":\"Ct\",\"xref\":\"x\",\"y\":\"Cu\",\"yref\":\"y\"},{\"font\":{\"color\":\"#000000\"},\"showarrow\":false,\"text\":\"7\",\"x\":\"Cu\",\"xref\":\"x\",\"y\":\"Cu\",\"yref\":\"y\"},{\"font\":{\"color\":\"#FFFFFF\"},\"showarrow\":false,\"text\":\"2\",\"x\":\"Ns\",\"xref\":\"x\",\"y\":\"Cu\",\"yref\":\"y\"},{\"font\":{\"color\":\"#FFFFFF\"},\"showarrow\":false,\"text\":\"4\",\"x\":\"Sc\",\"xref\":\"x\",\"y\":\"Cu\",\"yref\":\"y\"},{\"font\":{\"color\":\"#000000\"},\"showarrow\":false,\"text\":\"6\",\"x\":\"St\",\"xref\":\"x\",\"y\":\"Cu\",\"yref\":\"y\"},{\"font\":{\"color\":\"#FFFFFF\"},\"showarrow\":false,\"text\":\"4\",\"x\":\"Ac\",\"xref\":\"x\",\"y\":\"Ns\",\"yref\":\"y\"},{\"font\":{\"color\":\"#000000\"},\"showarrow\":false,\"text\":\"6\",\"x\":\"As\",\"xref\":\"x\",\"y\":\"Ns\",\"yref\":\"y\"},{\"font\":{\"color\":\"#FFFFFF\"},\"showarrow\":false,\"text\":\"4\",\"x\":\"Cb\",\"xref\":\"x\",\"y\":\"Ns\",\"yref\":\"y\"},{\"font\":{\"color\":\"#FFFFFF\"},\"showarrow\":false,\"text\":\"4\",\"x\":\"Cc\",\"xref\":\"x\",\"y\":\"Ns\",\"yref\":\"y\"},{\"font\":{\"color\":\"#FFFFFF\"},\"showarrow\":false,\"text\":\"2\",\"x\":\"Ci\",\"xref\":\"x\",\"y\":\"Ns\",\"yref\":\"y\"},{\"font\":{\"color\":\"#000000\"},\"showarrow\":false,\"text\":\"10\",\"x\":\"Cs\",\"xref\":\"x\",\"y\":\"Ns\",\"yref\":\"y\"},{\"font\":{\"color\":\"#000000\"},\"showarrow\":false,\"text\":\"6\",\"x\":\"Ct\",\"xref\":\"x\",\"y\":\"Ns\",\"yref\":\"y\"},{\"font\":{\"color\":\"#FFFFFF\"},\"showarrow\":false,\"text\":\"4\",\"x\":\"Cu\",\"xref\":\"x\",\"y\":\"Ns\",\"yref\":\"y\"},{\"font\":{\"color\":\"#FFFFFF\"},\"showarrow\":false,\"text\":\"4\",\"x\":\"Ns\",\"xref\":\"x\",\"y\":\"Ns\",\"yref\":\"y\"},{\"font\":{\"color\":\"#000000\"},\"showarrow\":false,\"text\":\"8\",\"x\":\"Sc\",\"xref\":\"x\",\"y\":\"Ns\",\"yref\":\"y\"},{\"font\":{\"color\":\"#FFFFFF\"},\"showarrow\":false,\"text\":\"4\",\"x\":\"St\",\"xref\":\"x\",\"y\":\"Ns\",\"yref\":\"y\"},{\"font\":{\"color\":\"#000000\"},\"showarrow\":false,\"text\":\"6\",\"x\":\"Ac\",\"xref\":\"x\",\"y\":\"Sc\",\"yref\":\"y\"},{\"font\":{\"color\":\"#000000\"},\"showarrow\":false,\"text\":\"6\",\"x\":\"As\",\"xref\":\"x\",\"y\":\"Sc\",\"yref\":\"y\"},{\"font\":{\"color\":\"#000000\"},\"showarrow\":false,\"text\":\"9\",\"x\":\"Cb\",\"xref\":\"x\",\"y\":\"Sc\",\"yref\":\"y\"},{\"font\":{\"color\":\"#000000\"},\"showarrow\":false,\"text\":\"8\",\"x\":\"Cc\",\"xref\":\"x\",\"y\":\"Sc\",\"yref\":\"y\"},{\"font\":{\"color\":\"#FFFFFF\"},\"showarrow\":false,\"text\":\"4\",\"x\":\"Ci\",\"xref\":\"x\",\"y\":\"Sc\",\"yref\":\"y\"},{\"font\":{\"color\":\"#000000\"},\"showarrow\":false,\"text\":\"10\",\"x\":\"Cs\",\"xref\":\"x\",\"y\":\"Sc\",\"yref\":\"y\"},{\"font\":{\"color\":\"#FFFFFF\"},\"showarrow\":false,\"text\":\"3\",\"x\":\"Ct\",\"xref\":\"x\",\"y\":\"Sc\",\"yref\":\"y\"},{\"font\":{\"color\":\"#FFFFFF\"},\"showarrow\":false,\"text\":\"5\",\"x\":\"Cu\",\"xref\":\"x\",\"y\":\"Sc\",\"yref\":\"y\"},{\"font\":{\"color\":\"#000000\"},\"showarrow\":false,\"text\":\"6\",\"x\":\"Ns\",\"xref\":\"x\",\"y\":\"Sc\",\"yref\":\"y\"},{\"font\":{\"color\":\"#000000\"},\"showarrow\":false,\"text\":\"9\",\"x\":\"Sc\",\"xref\":\"x\",\"y\":\"Sc\",\"yref\":\"y\"},{\"font\":{\"color\":\"#FFFFFF\"},\"showarrow\":false,\"text\":\"3\",\"x\":\"St\",\"xref\":\"x\",\"y\":\"Sc\",\"yref\":\"y\"},{\"font\":{\"color\":\"#FFFFFF\"},\"showarrow\":false,\"text\":\"1\",\"x\":\"Ac\",\"xref\":\"x\",\"y\":\"St\",\"yref\":\"y\"},{\"font\":{\"color\":\"#FFFFFF\"},\"showarrow\":false,\"text\":\"4\",\"x\":\"As\",\"xref\":\"x\",\"y\":\"St\",\"yref\":\"y\"},{\"font\":{\"color\":\"#000000\"},\"showarrow\":false,\"text\":\"6\",\"x\":\"Cb\",\"xref\":\"x\",\"y\":\"St\",\"yref\":\"y\"},{\"font\":{\"color\":\"#FFFFFF\"},\"showarrow\":false,\"text\":\"1\",\"x\":\"Cc\",\"xref\":\"x\",\"y\":\"St\",\"yref\":\"y\"},{\"font\":{\"color\":\"#FFFFFF\"},\"showarrow\":false,\"text\":\"2\",\"x\":\"Ci\",\"xref\":\"x\",\"y\":\"St\",\"yref\":\"y\"},{\"font\":{\"color\":\"#000000\"},\"showarrow\":false,\"text\":\"6\",\"x\":\"Cs\",\"xref\":\"x\",\"y\":\"St\",\"yref\":\"y\"},{\"font\":{\"color\":\"#FFFFFF\"},\"showarrow\":false,\"text\":\"5\",\"x\":\"Ct\",\"xref\":\"x\",\"y\":\"St\",\"yref\":\"y\"},{\"font\":{\"color\":\"#FFFFFF\"},\"showarrow\":false,\"text\":\"3\",\"x\":\"Cu\",\"xref\":\"x\",\"y\":\"St\",\"yref\":\"y\"},{\"font\":{\"color\":\"#FFFFFF\"},\"showarrow\":false,\"text\":\"5\",\"x\":\"Ns\",\"xref\":\"x\",\"y\":\"St\",\"yref\":\"y\"},{\"font\":{\"color\":\"#000000\"},\"showarrow\":false,\"text\":\"6\",\"x\":\"Sc\",\"xref\":\"x\",\"y\":\"St\",\"yref\":\"y\"},{\"font\":{\"color\":\"#FFFFFF\"},\"showarrow\":false,\"text\":\"2\",\"x\":\"St\",\"xref\":\"x\",\"y\":\"St\",\"yref\":\"y\"},{\"font\":{\"color\":\"black\",\"size\":14},\"showarrow\":false,\"text\":\"Predicted value\",\"x\":0.5,\"xref\":\"paper\",\"y\":-0.15,\"yref\":\"paper\"},{\"font\":{\"color\":\"black\",\"size\":14},\"showarrow\":false,\"text\":\"Real value\",\"textangle\":-90,\"x\":-0.35,\"xref\":\"paper\",\"y\":0.5,\"yref\":\"paper\"}],\"xaxis\":{\"dtick\":1,\"gridcolor\":\"rgb(0, 0, 0)\",\"side\":\"top\",\"ticks\":\"\"},\"yaxis\":{\"dtick\":1,\"ticks\":\"\",\"ticksuffix\":\"  \"},\"template\":{\"data\":{\"bar\":[{\"error_x\":{\"color\":\"#2a3f5f\"},\"error_y\":{\"color\":\"#2a3f5f\"},\"marker\":{\"line\":{\"color\":\"#E5ECF6\",\"width\":0.5},\"pattern\":{\"fillmode\":\"overlay\",\"size\":10,\"solidity\":0.2}},\"type\":\"bar\"}],\"barpolar\":[{\"marker\":{\"line\":{\"color\":\"#E5ECF6\",\"width\":0.5},\"pattern\":{\"fillmode\":\"overlay\",\"size\":10,\"solidity\":0.2}},\"type\":\"barpolar\"}],\"carpet\":[{\"aaxis\":{\"endlinecolor\":\"#2a3f5f\",\"gridcolor\":\"white\",\"linecolor\":\"white\",\"minorgridcolor\":\"white\",\"startlinecolor\":\"#2a3f5f\"},\"baxis\":{\"endlinecolor\":\"#2a3f5f\",\"gridcolor\":\"white\",\"linecolor\":\"white\",\"minorgridcolor\":\"white\",\"startlinecolor\":\"#2a3f5f\"},\"type\":\"carpet\"}],\"choropleth\":[{\"colorbar\":{\"outlinewidth\":0,\"ticks\":\"\"},\"type\":\"choropleth\"}],\"contour\":[{\"colorbar\":{\"outlinewidth\":0,\"ticks\":\"\"},\"colorscale\":[[0.0,\"#0d0887\"],[0.1111111111111111,\"#46039f\"],[0.2222222222222222,\"#7201a8\"],[0.3333333333333333,\"#9c179e\"],[0.4444444444444444,\"#bd3786\"],[0.5555555555555556,\"#d8576b\"],[0.6666666666666666,\"#ed7953\"],[0.7777777777777778,\"#fb9f3a\"],[0.8888888888888888,\"#fdca26\"],[1.0,\"#f0f921\"]],\"type\":\"contour\"}],\"contourcarpet\":[{\"colorbar\":{\"outlinewidth\":0,\"ticks\":\"\"},\"type\":\"contourcarpet\"}],\"heatmap\":[{\"colorbar\":{\"outlinewidth\":0,\"ticks\":\"\"},\"colorscale\":[[0.0,\"#0d0887\"],[0.1111111111111111,\"#46039f\"],[0.2222222222222222,\"#7201a8\"],[0.3333333333333333,\"#9c179e\"],[0.4444444444444444,\"#bd3786\"],[0.5555555555555556,\"#d8576b\"],[0.6666666666666666,\"#ed7953\"],[0.7777777777777778,\"#fb9f3a\"],[0.8888888888888888,\"#fdca26\"],[1.0,\"#f0f921\"]],\"type\":\"heatmap\"}],\"heatmapgl\":[{\"colorbar\":{\"outlinewidth\":0,\"ticks\":\"\"},\"colorscale\":[[0.0,\"#0d0887\"],[0.1111111111111111,\"#46039f\"],[0.2222222222222222,\"#7201a8\"],[0.3333333333333333,\"#9c179e\"],[0.4444444444444444,\"#bd3786\"],[0.5555555555555556,\"#d8576b\"],[0.6666666666666666,\"#ed7953\"],[0.7777777777777778,\"#fb9f3a\"],[0.8888888888888888,\"#fdca26\"],[1.0,\"#f0f921\"]],\"type\":\"heatmapgl\"}],\"histogram\":[{\"marker\":{\"pattern\":{\"fillmode\":\"overlay\",\"size\":10,\"solidity\":0.2}},\"type\":\"histogram\"}],\"histogram2d\":[{\"colorbar\":{\"outlinewidth\":0,\"ticks\":\"\"},\"colorscale\":[[0.0,\"#0d0887\"],[0.1111111111111111,\"#46039f\"],[0.2222222222222222,\"#7201a8\"],[0.3333333333333333,\"#9c179e\"],[0.4444444444444444,\"#bd3786\"],[0.5555555555555556,\"#d8576b\"],[0.6666666666666666,\"#ed7953\"],[0.7777777777777778,\"#fb9f3a\"],[0.8888888888888888,\"#fdca26\"],[1.0,\"#f0f921\"]],\"type\":\"histogram2d\"}],\"histogram2dcontour\":[{\"colorbar\":{\"outlinewidth\":0,\"ticks\":\"\"},\"colorscale\":[[0.0,\"#0d0887\"],[0.1111111111111111,\"#46039f\"],[0.2222222222222222,\"#7201a8\"],[0.3333333333333333,\"#9c179e\"],[0.4444444444444444,\"#bd3786\"],[0.5555555555555556,\"#d8576b\"],[0.6666666666666666,\"#ed7953\"],[0.7777777777777778,\"#fb9f3a\"],[0.8888888888888888,\"#fdca26\"],[1.0,\"#f0f921\"]],\"type\":\"histogram2dcontour\"}],\"mesh3d\":[{\"colorbar\":{\"outlinewidth\":0,\"ticks\":\"\"},\"type\":\"mesh3d\"}],\"parcoords\":[{\"line\":{\"colorbar\":{\"outlinewidth\":0,\"ticks\":\"\"}},\"type\":\"parcoords\"}],\"pie\":[{\"automargin\":true,\"type\":\"pie\"}],\"scatter\":[{\"marker\":{\"colorbar\":{\"outlinewidth\":0,\"ticks\":\"\"}},\"type\":\"scatter\"}],\"scatter3d\":[{\"line\":{\"colorbar\":{\"outlinewidth\":0,\"ticks\":\"\"}},\"marker\":{\"colorbar\":{\"outlinewidth\":0,\"ticks\":\"\"}},\"type\":\"scatter3d\"}],\"scattercarpet\":[{\"marker\":{\"colorbar\":{\"outlinewidth\":0,\"ticks\":\"\"}},\"type\":\"scattercarpet\"}],\"scattergeo\":[{\"marker\":{\"colorbar\":{\"outlinewidth\":0,\"ticks\":\"\"}},\"type\":\"scattergeo\"}],\"scattergl\":[{\"marker\":{\"colorbar\":{\"outlinewidth\":0,\"ticks\":\"\"}},\"type\":\"scattergl\"}],\"scattermapbox\":[{\"marker\":{\"colorbar\":{\"outlinewidth\":0,\"ticks\":\"\"}},\"type\":\"scattermapbox\"}],\"scatterpolar\":[{\"marker\":{\"colorbar\":{\"outlinewidth\":0,\"ticks\":\"\"}},\"type\":\"scatterpolar\"}],\"scatterpolargl\":[{\"marker\":{\"colorbar\":{\"outlinewidth\":0,\"ticks\":\"\"}},\"type\":\"scatterpolargl\"}],\"scatterternary\":[{\"marker\":{\"colorbar\":{\"outlinewidth\":0,\"ticks\":\"\"}},\"type\":\"scatterternary\"}],\"surface\":[{\"colorbar\":{\"outlinewidth\":0,\"ticks\":\"\"},\"colorscale\":[[0.0,\"#0d0887\"],[0.1111111111111111,\"#46039f\"],[0.2222222222222222,\"#7201a8\"],[0.3333333333333333,\"#9c179e\"],[0.4444444444444444,\"#bd3786\"],[0.5555555555555556,\"#d8576b\"],[0.6666666666666666,\"#ed7953\"],[0.7777777777777778,\"#fb9f3a\"],[0.8888888888888888,\"#fdca26\"],[1.0,\"#f0f921\"]],\"type\":\"surface\"}],\"table\":[{\"cells\":{\"fill\":{\"color\":\"#EBF0F8\"},\"line\":{\"color\":\"white\"}},\"header\":{\"fill\":{\"color\":\"#C8D4E3\"},\"line\":{\"color\":\"white\"}},\"type\":\"table\"}]},\"layout\":{\"annotationdefaults\":{\"arrowcolor\":\"#2a3f5f\",\"arrowhead\":0,\"arrowwidth\":1},\"autotypenumbers\":\"strict\",\"coloraxis\":{\"colorbar\":{\"outlinewidth\":0,\"ticks\":\"\"}},\"colorscale\":{\"diverging\":[[0,\"#8e0152\"],[0.1,\"#c51b7d\"],[0.2,\"#de77ae\"],[0.3,\"#f1b6da\"],[0.4,\"#fde0ef\"],[0.5,\"#f7f7f7\"],[0.6,\"#e6f5d0\"],[0.7,\"#b8e186\"],[0.8,\"#7fbc41\"],[0.9,\"#4d9221\"],[1,\"#276419\"]],\"sequential\":[[0.0,\"#0d0887\"],[0.1111111111111111,\"#46039f\"],[0.2222222222222222,\"#7201a8\"],[0.3333333333333333,\"#9c179e\"],[0.4444444444444444,\"#bd3786\"],[0.5555555555555556,\"#d8576b\"],[0.6666666666666666,\"#ed7953\"],[0.7777777777777778,\"#fb9f3a\"],[0.8888888888888888,\"#fdca26\"],[1.0,\"#f0f921\"]],\"sequentialminus\":[[0.0,\"#0d0887\"],[0.1111111111111111,\"#46039f\"],[0.2222222222222222,\"#7201a8\"],[0.3333333333333333,\"#9c179e\"],[0.4444444444444444,\"#bd3786\"],[0.5555555555555556,\"#d8576b\"],[0.6666666666666666,\"#ed7953\"],[0.7777777777777778,\"#fb9f3a\"],[0.8888888888888888,\"#fdca26\"],[1.0,\"#f0f921\"]]},\"colorway\":[\"#636efa\",\"#EF553B\",\"#00cc96\",\"#ab63fa\",\"#FFA15A\",\"#19d3f3\",\"#FF6692\",\"#B6E880\",\"#FF97FF\",\"#FECB52\"],\"font\":{\"color\":\"#2a3f5f\"},\"geo\":{\"bgcolor\":\"white\",\"lakecolor\":\"white\",\"landcolor\":\"#E5ECF6\",\"showlakes\":true,\"showland\":true,\"subunitcolor\":\"white\"},\"hoverlabel\":{\"align\":\"left\"},\"hovermode\":\"closest\",\"mapbox\":{\"style\":\"light\"},\"paper_bgcolor\":\"white\",\"plot_bgcolor\":\"#E5ECF6\",\"polar\":{\"angularaxis\":{\"gridcolor\":\"white\",\"linecolor\":\"white\",\"ticks\":\"\"},\"bgcolor\":\"#E5ECF6\",\"radialaxis\":{\"gridcolor\":\"white\",\"linecolor\":\"white\",\"ticks\":\"\"}},\"scene\":{\"xaxis\":{\"backgroundcolor\":\"#E5ECF6\",\"gridcolor\":\"white\",\"gridwidth\":2,\"linecolor\":\"white\",\"showbackground\":true,\"ticks\":\"\",\"zerolinecolor\":\"white\"},\"yaxis\":{\"backgroundcolor\":\"#E5ECF6\",\"gridcolor\":\"white\",\"gridwidth\":2,\"linecolor\":\"white\",\"showbackground\":true,\"ticks\":\"\",\"zerolinecolor\":\"white\"},\"zaxis\":{\"backgroundcolor\":\"#E5ECF6\",\"gridcolor\":\"white\",\"gridwidth\":2,\"linecolor\":\"white\",\"showbackground\":true,\"ticks\":\"\",\"zerolinecolor\":\"white\"}},\"shapedefaults\":{\"line\":{\"color\":\"#2a3f5f\"}},\"ternary\":{\"aaxis\":{\"gridcolor\":\"white\",\"linecolor\":\"white\",\"ticks\":\"\"},\"baxis\":{\"gridcolor\":\"white\",\"linecolor\":\"white\",\"ticks\":\"\"},\"bgcolor\":\"#E5ECF6\",\"caxis\":{\"gridcolor\":\"white\",\"linecolor\":\"white\",\"ticks\":\"\"}},\"title\":{\"x\":0.05},\"xaxis\":{\"automargin\":true,\"gridcolor\":\"white\",\"linecolor\":\"white\",\"ticks\":\"\",\"title\":{\"standoff\":15},\"zerolinecolor\":\"white\",\"zerolinewidth\":2},\"yaxis\":{\"automargin\":true,\"gridcolor\":\"white\",\"linecolor\":\"white\",\"ticks\":\"\",\"title\":{\"standoff\":15},\"zerolinecolor\":\"white\",\"zerolinewidth\":2}}},\"title\":{\"text\":\"<i><b>Confusion matrix</b></i>\"},\"margin\":{\"t\":50,\"l\":200}},                        {\"responsive\": true}                    ).then(function(){\n",
              "                            \n",
              "var gd = document.getElementById('9975af71-74d2-4690-b80b-b9eeca4c521c');\n",
              "var x = new MutationObserver(function (mutations, observer) {{\n",
              "        var display = window.getComputedStyle(gd).display;\n",
              "        if (!display || display === 'none') {{\n",
              "            console.log([gd, 'removed!']);\n",
              "            Plotly.purge(gd);\n",
              "            observer.disconnect();\n",
              "        }}\n",
              "}});\n",
              "\n",
              "// Listen for the removal of the full notebook cells\n",
              "var notebookContainer = gd.closest('#notebook-container');\n",
              "if (notebookContainer) {{\n",
              "    x.observe(notebookContainer, {childList: true});\n",
              "}}\n",
              "\n",
              "// Listen for the clearing of the current output cell\n",
              "var outputEl = gd.closest('.output');\n",
              "if (outputEl) {{\n",
              "    x.observe(outputEl, {childList: true});\n",
              "}}\n",
              "\n",
              "                        })                };                            </script>        </div>\n",
              "</body>\n",
              "</html>"
            ]
          },
          "metadata": {}
        }
      ]
    }
  ]
}