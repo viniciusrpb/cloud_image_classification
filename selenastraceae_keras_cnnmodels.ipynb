{
  "nbformat": 4,
  "nbformat_minor": 0,
  "metadata": {
    "kernelspec": {
      "display_name": "Python 3",
      "language": "python",
      "name": "python3"
    },
    "language_info": {
      "codemirror_mode": {
        "name": "ipython",
        "version": 3
      },
      "file_extension": ".py",
      "mimetype": "text/x-python",
      "name": "python",
      "nbconvert_exporter": "python",
      "pygments_lexer": "ipython3",
      "version": "3.6.10"
    },
    "colab": {
      "provenance": [],
      "include_colab_link": true
    },
    "accelerator": "GPU"
  },
  "cells": [
    {
      "cell_type": "markdown",
      "metadata": {
        "id": "view-in-github",
        "colab_type": "text"
      },
      "source": [
        "<a href=\"https://colab.research.google.com/github/viniciusrpb/cloud_image_classification/blob/main/selenastraceae_keras_cnnmodels.ipynb\" target=\"_parent\"><img src=\"https://colab.research.google.com/assets/colab-badge.svg\" alt=\"Open In Colab\"/></a>"
      ]
    },
    {
      "cell_type": "code",
      "metadata": {
        "id": "Lf68PvvD_GXN"
      },
      "source": [
        "#from google.colab import drive\n",
        "#drive.mount('/content/drive')"
      ],
      "execution_count": 1,
      "outputs": []
    },
    {
      "cell_type": "markdown",
      "source": [
        "# New Section"
      ],
      "metadata": {
        "id": "uSEdHGn26Hzg"
      }
    },
    {
      "cell_type": "code",
      "metadata": {
        "id": "6o0SMmf8z9qD",
        "colab": {
          "base_uri": "https://localhost:8080/"
        },
        "outputId": "275f88f6-abc5-431a-ac47-425fcc59a086"
      },
      "source": [
        "!pip install tensorflow_addons"
      ],
      "execution_count": 2,
      "outputs": [
        {
          "output_type": "stream",
          "name": "stdout",
          "text": [
            "Requirement already satisfied: tensorflow_addons in /usr/local/lib/python3.10/dist-packages (0.21.0)\n",
            "Requirement already satisfied: packaging in /usr/local/lib/python3.10/dist-packages (from tensorflow_addons) (23.1)\n",
            "Requirement already satisfied: typeguard<3.0.0,>=2.7 in /usr/local/lib/python3.10/dist-packages (from tensorflow_addons) (2.13.3)\n"
          ]
        }
      ]
    },
    {
      "cell_type": "code",
      "metadata": {
        "id": "voJBV5X_g0B6"
      },
      "source": [
        "#!cp -r \"/content/drive/My Drive/alga/dataset\" \"selenastraceae\"\n",
        "path_data = \"selenastraceae\""
      ],
      "execution_count": 3,
      "outputs": []
    },
    {
      "cell_type": "code",
      "metadata": {
        "id": "W384maMHy7Yc",
        "colab": {
          "base_uri": "https://localhost:8080/"
        },
        "outputId": "e2874a97-1df8-4cd5-f1a7-683b0e4e9039"
      },
      "source": [
        "from tensorflow.keras.models import Sequential\n",
        "from keras.layers import Dense,GlobalAveragePooling2D ,MaxPooling2D,Activation,Flatten,Conv2D,BatchNormalization,Dropout, Input\n",
        "from tensorflow.keras.losses import sparse_categorical_crossentropy\n",
        "from tensorflow.keras.optimizers import SGD,Adam,RMSprop\n",
        "from sklearn.model_selection import KFold, StratifiedKFold\n",
        "from tensorflow.keras.preprocessing.image import ImageDataGenerator\n",
        "from tensorflow.keras.callbacks import EarlyStopping\n",
        "from tensorflow.keras.applications.resnet50 import ResNet50\n",
        "from tensorflow.keras.applications.vgg16 import VGG16\n",
        "from tensorflow.keras.applications.inception_v3 import InceptionV3\n",
        "import numpy as np\n",
        "import pandas as pd\n",
        "import tensorflow_addons as tfa\n",
        "from tensorflow import keras\n",
        "from sklearn.model_selection import train_test_split\n",
        "from sklearn.metrics import f1_score, recall_score, precision_score\n",
        "from sklearn.metrics import confusion_matrix\n",
        "from sklearn.metrics import classification_report\n",
        "import matplotlib.pyplot as plt\n",
        "import itertools\n",
        "import os"
      ],
      "execution_count": 4,
      "outputs": [
        {
          "output_type": "stream",
          "name": "stderr",
          "text": [
            "/usr/local/lib/python3.10/dist-packages/tensorflow_addons/utils/tfa_eol_msg.py:23: UserWarning: \n",
            "\n",
            "TensorFlow Addons (TFA) has ended development and introduction of new features.\n",
            "TFA has entered a minimal maintenance and release mode until a planned end of life in May 2024.\n",
            "Please modify downstream libraries to take dependencies from other repositories in our TensorFlow community (e.g. Keras, Keras-CV, and Keras-NLP). \n",
            "\n",
            "For more information see: https://github.com/tensorflow/addons/issues/2807 \n",
            "\n",
            "  warnings.warn(\n"
          ]
        }
      ]
    },
    {
      "cell_type": "code",
      "source": [
        "def loadData(path_data):\n",
        "\n",
        "    list_subfolders = os.listdir(path_data)\n",
        "\n",
        "    list_subfolders.sort()\n",
        "\n",
        "    dataset_dict = {}\n",
        "\n",
        "    dataset_dict['filename'] = []\n",
        "    dataset_dict['label'] = []\n",
        "\n",
        "    for folder in list_subfolders:\n",
        "\n",
        "        list_images_path = os.listdir(path_data+\"/\"+folder)\n",
        "\n",
        "        list_images_path.sort()\n",
        "\n",
        "        for image_name in list_images_path:\n",
        "\n",
        "            dataset_dict['filename'].append(folder+\"/\"+image_name)\n",
        "\n",
        "            dataset_dict['label'].append(folder)\n",
        "\n",
        "    df = pd.DataFrame.from_dict(dataset_dict)\n",
        "    labels = list(df['label'].unique())\n",
        "\n",
        "    return df,labels"
      ],
      "metadata": {
        "id": "TeA9Camdif2z"
      },
      "execution_count": 5,
      "outputs": []
    },
    {
      "cell_type": "code",
      "metadata": {
        "id": "ThJjNtJBi900",
        "colab": {
          "base_uri": "https://localhost:8080/"
        },
        "outputId": "aa82b9ab-aa28-4023-9336-983f63c5ef30"
      },
      "source": [
        "df,labels = loadData(path_data)\n",
        "\n",
        "num_labels = len(labels)\n",
        "\n",
        "train, test = train_test_split(df, test_size=0.4, random_state=36)\n",
        "\n",
        "valid, test = train_test_split(test, test_size=0.5, random_state=36)\n",
        "\n",
        "agnostic_datagen = ImageDataGenerator(rescale=1./255)\n",
        "\n",
        "#train_datagen = ImageDataGenerator(rescale=1./255)\n",
        "\n",
        "train_datagen = ImageDataGenerator(rescale=1./255,\n",
        "                                           rotation_range=10,\n",
        "                                           width_shift_range=0.2,\n",
        "                                           height_shift_range=0.2,\n",
        "                                           zoom_range=0.2,\n",
        "                                           horizontal_flip=True,\n",
        "                                           brightness_range=[0.2,1.2])\n",
        "\n",
        "train_generator = train_datagen.flow_from_dataframe(train, directory = path_data,\n",
        "                                                    x_col = \"filename\", y_col = \"label\",\n",
        "                                                    batch_size=32,\n",
        "                                                    seed=42,\n",
        "                                                    class_mode = \"categorical\")\n",
        "\n",
        "valid_generator = agnostic_datagen.flow_from_dataframe(valid, directory = path_data,\n",
        "                                                        x_col = \"filename\", y_col = \"label\",\n",
        "                                                        batch_size=32,\n",
        "                                                        seed=42,\n",
        "                                                        shuffle=False,\n",
        "                                                        class_mode = \"categorical\")\n",
        "\n",
        "test_generator = agnostic_datagen.flow_from_dataframe(test, directory = path_data,\n",
        "                                                            x_col = \"filename\", y_col = \"label\",\n",
        "                                                            batch_size=32,\n",
        "                                                            seed=42,\n",
        "                                                            shuffle=False,\n",
        "                                                            class_mode = \"categorical\")"
      ],
      "execution_count": 6,
      "outputs": [
        {
          "output_type": "stream",
          "name": "stdout",
          "text": [
            "Found 369 validated image filenames belonging to 8 classes.\n",
            "Found 123 validated image filenames belonging to 8 classes.\n",
            "Found 124 validated image filenames belonging to 8 classes.\n"
          ]
        }
      ]
    },
    {
      "cell_type": "markdown",
      "metadata": {
        "id": "3-0nc-LxNSF2"
      },
      "source": [
        "# Pretrained GoogLeNet model using ImageNet\n"
      ]
    },
    {
      "cell_type": "code",
      "metadata": {
        "id": "js1kaBFGv9MD"
      },
      "source": [
        "batch_size = 32\n",
        "epochs=100\n",
        "number_of_neurons = 300\n",
        "number_of_classes = 8"
      ],
      "execution_count": 7,
      "outputs": []
    },
    {
      "cell_type": "code",
      "metadata": {
        "id": "yWx2apyg_GXQ"
      },
      "source": [
        "#pre_trained_model = InceptionV3(input_shape=(224,224,3),include_top=False,weights='imagenet')\n",
        "#pre_trained_model = InceptionV3(input_shape=(224,224,3),include_top=False,weights='imagenet')\n",
        "pre_trained_model = VGG16(input_shape=(224,224,3),include_top=False,pooling ='avg',weights='imagenet', classes=num_labels)\n",
        "\n",
        "#pre_trained_model = ResNet50(input_shape=(224,224,3),include_top=False,pooling ='avg',weights='imagenet', classes=num_labels)\n",
        "\n",
        "for layer in pre_trained_model.layers:\n",
        "  layer.trainable = False"
      ],
      "execution_count": 8,
      "outputs": []
    },
    {
      "cell_type": "markdown",
      "metadata": {
        "id": "Q8ZNyeF4v9FL"
      },
      "source": [
        "Hyperparameters"
      ]
    },
    {
      "cell_type": "markdown",
      "metadata": {
        "id": "Qh_m54z-5VW8"
      },
      "source": [
        "Lets see some samples"
      ]
    },
    {
      "cell_type": "code",
      "metadata": {
        "id": "mDvSxorK_GXV"
      },
      "source": [
        "model = Sequential()\n",
        "\n",
        "model.add(pre_trained_model)\n",
        "\n",
        "#model.add(GlobalAveragePooling2D())\n",
        "model.add(Flatten())\n",
        "#model.add(BatchNormalization())\n",
        "\n",
        "# 1st hidden layer: 300 neurons\n",
        "#model.add(Dense(number_of_neurons,activation=\"relu\"))\n",
        "#model.add(Dropout(0.2))\n",
        "\n",
        "# 2nd hidden layer : 150 neurons\n",
        "#model.add(BatchNormalization())\n",
        "#model.add(Dense(number_of_neurons//2,activation=\"relu\"))\n",
        "#model.add(Dropout(0.2))\n",
        "\n",
        "# 3rd hidden layer : 75 neurons\n",
        "model.add(Dense(number_of_neurons//2,activation=\"relu\"))\n",
        "model.add(BatchNormalization())\n",
        "model.add(Dropout(0.2))\n",
        "\n",
        "model.add(Dense(8,activation=\"softmax\"))"
      ],
      "execution_count": 9,
      "outputs": []
    },
    {
      "cell_type": "code",
      "metadata": {
        "id": "sqeVzAQhsj6i"
      },
      "source": [
        "#sgd = SGD(learning_rate=0.001,decay=1e-6,  nesterov=True)\n",
        "\n",
        "f1_score2 = tfa.metrics.F1Score(num_classes=8, average='macro',threshold=0.5)\n",
        "\n",
        "#model.compile(optimizer = sgd,\n",
        "#              loss = 'categorical_crossentropy',\n",
        "#              metrics = 'accuracy')\n",
        "            #metrics = ['accuracy',f1_score])\n",
        "\n",
        "#opt = RMSprop(learning_rate=0.002)\n",
        "opt = Adam(learning_rate=0.001)\n",
        "\n",
        "model.compile(optimizer = opt,\n",
        "              loss = 'categorical_crossentropy',\n",
        "              metrics = [f1_score2])\n",
        "            #metrics = ['accuracy',f1_score])"
      ],
      "execution_count": 10,
      "outputs": []
    },
    {
      "cell_type": "code",
      "metadata": {
        "id": "c9zT6oaF_GXX",
        "colab": {
          "base_uri": "https://localhost:8080/"
        },
        "outputId": "8b4700ed-fb07-40bb-c59d-68f9280eae52"
      },
      "source": [
        "history_fine = model.fit(train_generator,\n",
        "                         epochs=epochs,\n",
        "                         batch_size=32,\n",
        "                         validation_data=valid_generator\n",
        "                         #initial_epoch=history.epoch[-1],\n",
        "                         )"
      ],
      "execution_count": 11,
      "outputs": [
        {
          "output_type": "stream",
          "name": "stdout",
          "text": [
            "Epoch 1/100\n",
            "12/12 [==============================] - 54s 3s/step - loss: 1.8445 - f1_score: 0.1444 - val_loss: 1.8714 - val_f1_score: 0.0000e+00\n",
            "Epoch 2/100\n",
            "12/12 [==============================] - 23s 2s/step - loss: 1.1679 - f1_score: 0.4425 - val_loss: 1.7456 - val_f1_score: 0.0200\n",
            "Epoch 3/100\n",
            "12/12 [==============================] - 28s 2s/step - loss: 1.0071 - f1_score: 0.5040 - val_loss: 1.6938 - val_f1_score: 0.1103\n",
            "Epoch 4/100\n",
            "12/12 [==============================] - 25s 2s/step - loss: 0.8516 - f1_score: 0.6159 - val_loss: 1.6726 - val_f1_score: 0.0788\n",
            "Epoch 5/100\n",
            "12/12 [==============================] - 25s 2s/step - loss: 0.7570 - f1_score: 0.5946 - val_loss: 1.6366 - val_f1_score: 0.0782\n",
            "Epoch 6/100\n",
            "12/12 [==============================] - 24s 2s/step - loss: 0.7119 - f1_score: 0.6438 - val_loss: 1.6692 - val_f1_score: 0.0685\n",
            "Epoch 7/100\n",
            "12/12 [==============================] - 26s 2s/step - loss: 0.6413 - f1_score: 0.6789 - val_loss: 1.6005 - val_f1_score: 0.0742\n",
            "Epoch 8/100\n",
            "12/12 [==============================] - 23s 2s/step - loss: 0.6396 - f1_score: 0.6912 - val_loss: 1.6067 - val_f1_score: 0.0693\n",
            "Epoch 9/100\n",
            "12/12 [==============================] - 24s 2s/step - loss: 0.6151 - f1_score: 0.6221 - val_loss: 1.6058 - val_f1_score: 0.0689\n",
            "Epoch 10/100\n",
            "12/12 [==============================] - 24s 2s/step - loss: 0.5284 - f1_score: 0.7177 - val_loss: 1.5644 - val_f1_score: 0.0697\n",
            "Epoch 11/100\n",
            "12/12 [==============================] - 24s 2s/step - loss: 0.4712 - f1_score: 0.7482 - val_loss: 1.5904 - val_f1_score: 0.0680\n",
            "Epoch 12/100\n",
            "12/12 [==============================] - 23s 2s/step - loss: 0.4948 - f1_score: 0.6968 - val_loss: 1.4901 - val_f1_score: 0.0714\n",
            "Epoch 13/100\n",
            "12/12 [==============================] - 25s 2s/step - loss: 0.4756 - f1_score: 0.7616 - val_loss: 1.5492 - val_f1_score: 0.0685\n",
            "Epoch 14/100\n",
            "12/12 [==============================] - 24s 2s/step - loss: 0.4419 - f1_score: 0.7697 - val_loss: 1.4929 - val_f1_score: 0.0723\n",
            "Epoch 15/100\n",
            "12/12 [==============================] - 24s 2s/step - loss: 0.4179 - f1_score: 0.8125 - val_loss: 1.6583 - val_f1_score: 0.0680\n",
            "Epoch 16/100\n",
            "12/12 [==============================] - 24s 2s/step - loss: 0.4459 - f1_score: 0.8135 - val_loss: 1.5576 - val_f1_score: 0.0685\n",
            "Epoch 17/100\n",
            "12/12 [==============================] - 24s 2s/step - loss: 0.4373 - f1_score: 0.7326 - val_loss: 1.3666 - val_f1_score: 0.0849\n",
            "Epoch 18/100\n",
            "12/12 [==============================] - 23s 2s/step - loss: 0.4100 - f1_score: 0.7603 - val_loss: 1.4868 - val_f1_score: 0.0689\n",
            "Epoch 19/100\n",
            "12/12 [==============================] - 24s 2s/step - loss: 0.3977 - f1_score: 0.7617 - val_loss: 1.5840 - val_f1_score: 0.0680\n",
            "Epoch 20/100\n",
            "12/12 [==============================] - 25s 2s/step - loss: 0.4047 - f1_score: 0.7996 - val_loss: 1.3865 - val_f1_score: 0.0710\n",
            "Epoch 21/100\n",
            "12/12 [==============================] - 24s 2s/step - loss: 0.3729 - f1_score: 0.8382 - val_loss: 1.5952 - val_f1_score: 0.0828\n",
            "Epoch 22/100\n",
            "12/12 [==============================] - 24s 2s/step - loss: 0.3965 - f1_score: 0.7983 - val_loss: 1.0922 - val_f1_score: 0.1037\n",
            "Epoch 23/100\n",
            "12/12 [==============================] - 23s 2s/step - loss: 0.3912 - f1_score: 0.7655 - val_loss: 0.9842 - val_f1_score: 0.1646\n",
            "Epoch 24/100\n",
            "12/12 [==============================] - 23s 2s/step - loss: 0.3914 - f1_score: 0.8253 - val_loss: 0.8485 - val_f1_score: 0.2880\n",
            "Epoch 25/100\n",
            "12/12 [==============================] - 23s 2s/step - loss: 0.3361 - f1_score: 0.8514 - val_loss: 0.7585 - val_f1_score: 0.3364\n",
            "Epoch 26/100\n",
            "12/12 [==============================] - 24s 2s/step - loss: 0.3656 - f1_score: 0.7954 - val_loss: 0.6322 - val_f1_score: 0.5610\n",
            "Epoch 27/100\n",
            "12/12 [==============================] - 29s 2s/step - loss: 0.3572 - f1_score: 0.8381 - val_loss: 0.7880 - val_f1_score: 0.3197\n",
            "Epoch 28/100\n",
            "12/12 [==============================] - 24s 2s/step - loss: 0.3600 - f1_score: 0.8347 - val_loss: 0.6868 - val_f1_score: 0.4532\n",
            "Epoch 29/100\n",
            "12/12 [==============================] - 23s 2s/step - loss: 0.4014 - f1_score: 0.8412 - val_loss: 1.1127 - val_f1_score: 0.1997\n",
            "Epoch 30/100\n",
            "12/12 [==============================] - 23s 2s/step - loss: 0.3260 - f1_score: 0.8567 - val_loss: 0.9966 - val_f1_score: 0.2971\n",
            "Epoch 31/100\n",
            "12/12 [==============================] - 23s 2s/step - loss: 0.3126 - f1_score: 0.8270 - val_loss: 1.5551 - val_f1_score: 0.2079\n",
            "Epoch 32/100\n",
            "12/12 [==============================] - 24s 2s/step - loss: 0.2927 - f1_score: 0.8630 - val_loss: 1.3502 - val_f1_score: 0.2562\n",
            "Epoch 33/100\n",
            "12/12 [==============================] - 24s 2s/step - loss: 0.2814 - f1_score: 0.9085 - val_loss: 0.9902 - val_f1_score: 0.3559\n",
            "Epoch 34/100\n",
            "12/12 [==============================] - 24s 2s/step - loss: 0.3047 - f1_score: 0.8733 - val_loss: 0.8341 - val_f1_score: 0.4759\n",
            "Epoch 35/100\n",
            "12/12 [==============================] - 23s 2s/step - loss: 0.3133 - f1_score: 0.8320 - val_loss: 0.7891 - val_f1_score: 0.4991\n",
            "Epoch 36/100\n",
            "12/12 [==============================] - 24s 2s/step - loss: 0.3204 - f1_score: 0.8629 - val_loss: 0.6279 - val_f1_score: 0.6230\n",
            "Epoch 37/100\n",
            "12/12 [==============================] - 24s 2s/step - loss: 0.2748 - f1_score: 0.8926 - val_loss: 0.5480 - val_f1_score: 0.7226\n",
            "Epoch 38/100\n",
            "12/12 [==============================] - 23s 2s/step - loss: 0.3023 - f1_score: 0.8582 - val_loss: 0.3518 - val_f1_score: 0.8165\n",
            "Epoch 39/100\n",
            "12/12 [==============================] - 24s 2s/step - loss: 0.3067 - f1_score: 0.8713 - val_loss: 0.5266 - val_f1_score: 0.6876\n",
            "Epoch 40/100\n",
            "12/12 [==============================] - 29s 2s/step - loss: 0.3291 - f1_score: 0.8610 - val_loss: 0.9840 - val_f1_score: 0.5070\n",
            "Epoch 41/100\n",
            "12/12 [==============================] - 23s 2s/step - loss: 0.3094 - f1_score: 0.8354 - val_loss: 0.8336 - val_f1_score: 0.6028\n",
            "Epoch 42/100\n",
            "12/12 [==============================] - 24s 2s/step - loss: 0.3337 - f1_score: 0.8594 - val_loss: 0.7722 - val_f1_score: 0.6754\n",
            "Epoch 43/100\n",
            "12/12 [==============================] - 29s 2s/step - loss: 0.3322 - f1_score: 0.8734 - val_loss: 0.4700 - val_f1_score: 0.7546\n",
            "Epoch 44/100\n",
            "12/12 [==============================] - 24s 2s/step - loss: 0.2649 - f1_score: 0.8882 - val_loss: 0.4796 - val_f1_score: 0.6819\n",
            "Epoch 45/100\n",
            "12/12 [==============================] - 23s 2s/step - loss: 0.2513 - f1_score: 0.8889 - val_loss: 0.4294 - val_f1_score: 0.7339\n",
            "Epoch 46/100\n",
            "12/12 [==============================] - 25s 2s/step - loss: 0.2742 - f1_score: 0.8641 - val_loss: 0.5956 - val_f1_score: 0.7772\n",
            "Epoch 47/100\n",
            "12/12 [==============================] - 23s 2s/step - loss: 0.2530 - f1_score: 0.8303 - val_loss: 0.3615 - val_f1_score: 0.7270\n",
            "Epoch 48/100\n",
            "12/12 [==============================] - 29s 2s/step - loss: 0.2398 - f1_score: 0.8923 - val_loss: 0.4234 - val_f1_score: 0.8381\n",
            "Epoch 49/100\n",
            "12/12 [==============================] - 24s 2s/step - loss: 0.2557 - f1_score: 0.8819 - val_loss: 0.4825 - val_f1_score: 0.7832\n",
            "Epoch 50/100\n",
            "12/12 [==============================] - 29s 3s/step - loss: 0.2816 - f1_score: 0.8886 - val_loss: 0.3212 - val_f1_score: 0.7114\n",
            "Epoch 51/100\n",
            "12/12 [==============================] - 24s 2s/step - loss: 0.3259 - f1_score: 0.8075 - val_loss: 0.4002 - val_f1_score: 0.7209\n",
            "Epoch 52/100\n",
            "12/12 [==============================] - 29s 3s/step - loss: 0.3259 - f1_score: 0.8623 - val_loss: 0.2793 - val_f1_score: 0.8430\n",
            "Epoch 53/100\n",
            "12/12 [==============================] - 24s 2s/step - loss: 0.2651 - f1_score: 0.8727 - val_loss: 0.4635 - val_f1_score: 0.7719\n",
            "Epoch 54/100\n",
            "12/12 [==============================] - 23s 2s/step - loss: 0.2574 - f1_score: 0.8458 - val_loss: 0.6493 - val_f1_score: 0.7511\n",
            "Epoch 55/100\n",
            "12/12 [==============================] - 24s 2s/step - loss: 0.2399 - f1_score: 0.9080 - val_loss: 0.3331 - val_f1_score: 0.8406\n",
            "Epoch 56/100\n",
            "12/12 [==============================] - 29s 2s/step - loss: 0.3527 - f1_score: 0.8566 - val_loss: 0.5147 - val_f1_score: 0.6639\n",
            "Epoch 57/100\n",
            "12/12 [==============================] - 29s 2s/step - loss: 0.2617 - f1_score: 0.8929 - val_loss: 0.3434 - val_f1_score: 0.8229\n",
            "Epoch 58/100\n",
            "12/12 [==============================] - 24s 2s/step - loss: 0.2683 - f1_score: 0.8666 - val_loss: 0.5062 - val_f1_score: 0.7166\n",
            "Epoch 59/100\n",
            "12/12 [==============================] - 23s 2s/step - loss: 0.2542 - f1_score: 0.8895 - val_loss: 0.3097 - val_f1_score: 0.8292\n",
            "Epoch 60/100\n",
            "12/12 [==============================] - 27s 2s/step - loss: 0.2402 - f1_score: 0.9079 - val_loss: 0.3919 - val_f1_score: 0.8067\n",
            "Epoch 61/100\n",
            "12/12 [==============================] - 23s 2s/step - loss: 0.2374 - f1_score: 0.8492 - val_loss: 0.2595 - val_f1_score: 0.8405\n",
            "Epoch 62/100\n",
            "12/12 [==============================] - 24s 2s/step - loss: 0.2528 - f1_score: 0.9167 - val_loss: 0.2979 - val_f1_score: 0.7419\n",
            "Epoch 63/100\n",
            "12/12 [==============================] - 24s 2s/step - loss: 0.1879 - f1_score: 0.8864 - val_loss: 0.2733 - val_f1_score: 0.8898\n",
            "Epoch 64/100\n",
            "12/12 [==============================] - 24s 2s/step - loss: 0.2398 - f1_score: 0.8484 - val_loss: 0.3028 - val_f1_score: 0.8670\n",
            "Epoch 65/100\n",
            "12/12 [==============================] - 23s 2s/step - loss: 0.2631 - f1_score: 0.8991 - val_loss: 0.4550 - val_f1_score: 0.8069\n",
            "Epoch 66/100\n",
            "12/12 [==============================] - 24s 2s/step - loss: 0.2501 - f1_score: 0.8994 - val_loss: 0.7225 - val_f1_score: 0.7207\n",
            "Epoch 67/100\n",
            "12/12 [==============================] - 24s 2s/step - loss: 0.2329 - f1_score: 0.8771 - val_loss: 0.7802 - val_f1_score: 0.7489\n",
            "Epoch 68/100\n",
            "12/12 [==============================] - 23s 2s/step - loss: 0.2197 - f1_score: 0.9190 - val_loss: 0.6310 - val_f1_score: 0.7517\n",
            "Epoch 69/100\n",
            "12/12 [==============================] - 24s 2s/step - loss: 0.2509 - f1_score: 0.8645 - val_loss: 0.8386 - val_f1_score: 0.6771\n",
            "Epoch 70/100\n",
            "12/12 [==============================] - 24s 2s/step - loss: 0.1783 - f1_score: 0.9256 - val_loss: 1.0133 - val_f1_score: 0.6668\n",
            "Epoch 71/100\n",
            "12/12 [==============================] - 24s 2s/step - loss: 0.2478 - f1_score: 0.8910 - val_loss: 0.5285 - val_f1_score: 0.7840\n",
            "Epoch 72/100\n",
            "12/12 [==============================] - 24s 2s/step - loss: 0.1821 - f1_score: 0.9516 - val_loss: 0.7818 - val_f1_score: 0.6983\n",
            "Epoch 73/100\n",
            "12/12 [==============================] - 23s 2s/step - loss: 0.2598 - f1_score: 0.8908 - val_loss: 0.4856 - val_f1_score: 0.7916\n",
            "Epoch 74/100\n",
            "12/12 [==============================] - 25s 2s/step - loss: 0.1946 - f1_score: 0.9272 - val_loss: 0.6577 - val_f1_score: 0.7133\n",
            "Epoch 75/100\n",
            "12/12 [==============================] - 24s 2s/step - loss: 0.2475 - f1_score: 0.8782 - val_loss: 0.3020 - val_f1_score: 0.8588\n",
            "Epoch 76/100\n",
            "12/12 [==============================] - 23s 2s/step - loss: 0.2261 - f1_score: 0.9256 - val_loss: 0.5916 - val_f1_score: 0.7813\n",
            "Epoch 77/100\n",
            "12/12 [==============================] - 24s 2s/step - loss: 0.2369 - f1_score: 0.9053 - val_loss: 0.5568 - val_f1_score: 0.8046\n",
            "Epoch 78/100\n",
            "12/12 [==============================] - 24s 2s/step - loss: 0.2443 - f1_score: 0.8953 - val_loss: 0.7713 - val_f1_score: 0.7211\n",
            "Epoch 79/100\n",
            "12/12 [==============================] - 24s 2s/step - loss: 0.2162 - f1_score: 0.9057 - val_loss: 2.0038 - val_f1_score: 0.6362\n",
            "Epoch 80/100\n",
            "12/12 [==============================] - 24s 2s/step - loss: 0.2594 - f1_score: 0.8890 - val_loss: 0.6418 - val_f1_score: 0.6832\n",
            "Epoch 81/100\n",
            "12/12 [==============================] - 24s 2s/step - loss: 0.2136 - f1_score: 0.8846 - val_loss: 1.1795 - val_f1_score: 0.5818\n",
            "Epoch 82/100\n",
            "12/12 [==============================] - 24s 2s/step - loss: 0.2570 - f1_score: 0.8694 - val_loss: 0.2520 - val_f1_score: 0.8817\n",
            "Epoch 83/100\n",
            "12/12 [==============================] - 24s 2s/step - loss: 0.1986 - f1_score: 0.9208 - val_loss: 0.2517 - val_f1_score: 0.8734\n",
            "Epoch 84/100\n",
            "12/12 [==============================] - 24s 2s/step - loss: 0.2475 - f1_score: 0.8873 - val_loss: 0.3585 - val_f1_score: 0.8175\n",
            "Epoch 85/100\n",
            "12/12 [==============================] - 24s 2s/step - loss: 0.2282 - f1_score: 0.8827 - val_loss: 0.9737 - val_f1_score: 0.6778\n",
            "Epoch 86/100\n",
            "12/12 [==============================] - 24s 2s/step - loss: 0.2542 - f1_score: 0.8962 - val_loss: 1.1614 - val_f1_score: 0.6998\n",
            "Epoch 87/100\n",
            "12/12 [==============================] - 23s 2s/step - loss: 0.1873 - f1_score: 0.9264 - val_loss: 0.6926 - val_f1_score: 0.8065\n",
            "Epoch 88/100\n",
            "12/12 [==============================] - 25s 2s/step - loss: 0.2292 - f1_score: 0.9161 - val_loss: 0.5064 - val_f1_score: 0.8567\n",
            "Epoch 89/100\n",
            "12/12 [==============================] - 24s 2s/step - loss: 0.2106 - f1_score: 0.9018 - val_loss: 0.5025 - val_f1_score: 0.8509\n",
            "Epoch 90/100\n",
            "12/12 [==============================] - 24s 2s/step - loss: 0.2118 - f1_score: 0.9206 - val_loss: 0.2867 - val_f1_score: 0.8242\n",
            "Epoch 91/100\n",
            "12/12 [==============================] - 24s 2s/step - loss: 0.2330 - f1_score: 0.8772 - val_loss: 0.3025 - val_f1_score: 0.8971\n",
            "Epoch 92/100\n",
            "12/12 [==============================] - 24s 2s/step - loss: 0.2041 - f1_score: 0.9266 - val_loss: 0.3681 - val_f1_score: 0.8611\n",
            "Epoch 93/100\n",
            "12/12 [==============================] - 24s 2s/step - loss: 0.1990 - f1_score: 0.9321 - val_loss: 0.2872 - val_f1_score: 0.8702\n",
            "Epoch 94/100\n",
            "12/12 [==============================] - 25s 2s/step - loss: 0.2213 - f1_score: 0.8982 - val_loss: 0.4100 - val_f1_score: 0.8329\n",
            "Epoch 95/100\n",
            "12/12 [==============================] - 23s 2s/step - loss: 0.1865 - f1_score: 0.9449 - val_loss: 0.3776 - val_f1_score: 0.7618\n",
            "Epoch 96/100\n",
            "12/12 [==============================] - 25s 2s/step - loss: 0.1969 - f1_score: 0.9120 - val_loss: 0.6654 - val_f1_score: 0.6750\n",
            "Epoch 97/100\n",
            "12/12 [==============================] - 23s 2s/step - loss: 0.1937 - f1_score: 0.9070 - val_loss: 1.0167 - val_f1_score: 0.6417\n",
            "Epoch 98/100\n",
            "12/12 [==============================] - 25s 2s/step - loss: 0.2347 - f1_score: 0.9050 - val_loss: 0.4695 - val_f1_score: 0.7461\n",
            "Epoch 99/100\n",
            "12/12 [==============================] - 24s 2s/step - loss: 0.2575 - f1_score: 0.8886 - val_loss: 0.7158 - val_f1_score: 0.6720\n",
            "Epoch 100/100\n",
            "12/12 [==============================] - 24s 2s/step - loss: 0.2061 - f1_score: 0.8827 - val_loss: 0.7402 - val_f1_score: 0.7268\n"
          ]
        }
      ]
    },
    {
      "cell_type": "code",
      "metadata": {
        "id": "Q8ENVvZSrKrS",
        "colab": {
          "base_uri": "https://localhost:8080/",
          "height": 472
        },
        "outputId": "408dd264-5d7b-4c30-9c9b-26654d500f3f"
      },
      "source": [
        "loss = history_fine.history['loss']\n",
        "val_loss = history_fine.history['val_loss']\n",
        "\n",
        "plt.plot(history_fine.history['loss'])\n",
        "plt.plot(history_fine.history['val_loss'])\n",
        "plt.title('model loss')\n",
        "plt.ylabel('loss')\n",
        "plt.xlabel('epoch')\n",
        "plt.legend(['training set', 'validation set'], loc='upper left')\n",
        "plt.show()"
      ],
      "execution_count": 12,
      "outputs": [
        {
          "output_type": "display_data",
          "data": {
            "text/plain": [
              "<Figure size 640x480 with 1 Axes>"
            ],
            "image/png": "[encoded data removed]"
          },
          "metadata": {}
        }
      ]
    },
    {
      "cell_type": "code",
      "source": [
        "y_true = test_generator.labels\n",
        "y_prob = model.predict(test_generator)\n",
        "y_pred = np.argmax(y_prob,axis=1)\n",
        "\n",
        "recall = recall_score(y_true, y_pred, average='macro')\n",
        "precision = precision_score(y_true, y_pred, average='macro')\n",
        "f1s = f1_score(y_true, y_pred, average='macro')\n",
        "\n",
        "print(f'Recall: {recall}')\n",
        "print(f'Precision: {precision}')\n",
        "print(f'F1: {f1s}')\n",
        "\n",
        "print(classification_report(y_true,y_pred))"
      ],
      "metadata": {
        "colab": {
          "base_uri": "https://localhost:8080/"
        },
        "id": "g2VR_adbrsUp",
        "outputId": "82b8b369-0223-4da6-acd5-dc5fa60fe0c3"
      },
      "execution_count": 13,
      "outputs": [
        {
          "output_type": "stream",
          "name": "stdout",
          "text": [
            "4/4 [==============================] - 9s 3s/step\n",
            "Recall: 0.6783346283346283\n",
            "Precision: 0.6734642662302237\n",
            "F1: 0.6223347003238309\n",
            "              precision    recall  f1-score   support\n",
            "\n",
            "           0       0.33      0.33      0.33         3\n",
            "           1       0.85      1.00      0.92        11\n",
            "           2       0.60      0.82      0.69        11\n",
            "           3       0.33      0.67      0.44         3\n",
            "           4       0.36      0.82      0.50        11\n",
            "           5       1.00      0.54      0.70        13\n",
            "           6       1.00      0.30      0.46        27\n",
            "           7       0.91      0.96      0.93        45\n",
            "\n",
            "    accuracy                           0.73       124\n",
            "   macro avg       0.67      0.68      0.62       124\n",
            "weighted avg       0.83      0.73      0.72       124\n",
            "\n"
          ]
        }
      ]
    }
  ]
}