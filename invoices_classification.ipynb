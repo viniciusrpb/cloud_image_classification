{
  "nbformat": 4,
  "nbformat_minor": 0,
  "metadata": {
    "colab": {
      "name": "invoices_classification.ipynb",
      "provenance": [],
      "collapsed_sections": [],
      "authorship_tag": "ABX9TyNAJ25+OEv7eJJQEof5KSeG",
      "include_colab_link": true
    },
    "kernelspec": {
      "name": "python3",
      "display_name": "Python 3"
    },
    "language_info": {
      "name": "python"
    }
  },
  "cells": [
    {
      "cell_type": "markdown",
      "metadata": {
        "id": "view-in-github",
        "colab_type": "text"
      },
      "source": [
        "<a href=\"https://colab.research.google.com/github/viniciusrpb/cloud_image_classification/blob/main/invoices_classification.ipynb\" target=\"_parent\"><img src=\"https://colab.research.google.com/assets/colab-badge.svg\" alt=\"Open In Colab\"/></a>"
      ]
    },
    {
      "cell_type": "markdown",
      "source": [
        "# Capítulo 3 - Redes Neurais Artificiais\n",
        "\n",
        "## 3.4. Estudo de caso: Análise de Sentimentos utilizando uma Rede Neural Profunda\n",
        "\n",
        "### Tarefa: classificação de polaridade em tweets\n",
        "\n",
        "Classificar um *tweet* em alguma das três polaridades: positiva (*positive*), negativa (*negative*) e positiva (*neutral*).\n",
        "\n",
        "### O *corpus*\n",
        "\n",
        "Para isso, vamos precisar utilizar as bibliotecas keras, tensorflow, numpy, sklearn, matplotlib.\n",
        "\n",
        "Fonte: [SemEval-2013 Task 2: Sentiment Analysis in Twitter](https://aclanthology.org/S13-2052/)\n",
        "\n",
        "O *corpus* de tweets empregado nesse estudo de caso podem ser acessados na pasta \"corpus_tweets\" deste repositório. Segue a especificação de cada arquivo:\n",
        "\n",
        "*   ```twitter-2013train-A.txt```: conjunto de tweets para treinamento\n",
        "*   ```twitter-2013dev-A.txt```: conjunto de tweets para validação\n",
        "*   ```twitter-2013test-A.txt```: conjunto de tweets para testes"
      ],
      "metadata": {
        "id": "IipByK9A-0GD"
      }
    },
    {
      "cell_type": "code",
      "metadata": {
        "id": "AuV9oScUNg6G",
        "colab": {
          "base_uri": "https://localhost:8080/"
        },
        "outputId": "e106e73d-07fe-4c74-d728-7f623cf2331f"
      },
      "source": [
        "!pip install -U keras\n",
        "!pip install -U tensorflow"
      ],
      "execution_count": 1,
      "outputs": [
        {
          "output_type": "stream",
          "name": "stdout",
          "text": [
            "Requirement already satisfied: keras in /usr/local/lib/python3.7/dist-packages (2.8.0)\n",
            "Requirement already satisfied: tensorflow in /usr/local/lib/python3.7/dist-packages (2.8.0)\n",
            "Requirement already satisfied: grpcio<2.0,>=1.24.3 in /usr/local/lib/python3.7/dist-packages (from tensorflow) (1.44.0)\n",
            "Requirement already satisfied: keras<2.9,>=2.8.0rc0 in /usr/local/lib/python3.7/dist-packages (from tensorflow) (2.8.0)\n",
            "Requirement already satisfied: h5py>=2.9.0 in /usr/local/lib/python3.7/dist-packages (from tensorflow) (3.1.0)\n",
            "Requirement already satisfied: numpy>=1.20 in /usr/local/lib/python3.7/dist-packages (from tensorflow) (1.21.6)\n",
            "Requirement already satisfied: astunparse>=1.6.0 in /usr/local/lib/python3.7/dist-packages (from tensorflow) (1.6.3)\n",
            "Requirement already satisfied: tensorboard<2.9,>=2.8 in /usr/local/lib/python3.7/dist-packages (from tensorflow) (2.8.0)\n",
            "Requirement already satisfied: opt-einsum>=2.3.2 in /usr/local/lib/python3.7/dist-packages (from tensorflow) (3.3.0)\n",
            "Requirement already satisfied: tf-estimator-nightly==2.8.0.dev2021122109 in /usr/local/lib/python3.7/dist-packages (from tensorflow) (2.8.0.dev2021122109)\n",
            "Requirement already satisfied: keras-preprocessing>=1.1.1 in /usr/local/lib/python3.7/dist-packages (from tensorflow) (1.1.2)\n",
            "Requirement already satisfied: libclang>=9.0.1 in /usr/local/lib/python3.7/dist-packages (from tensorflow) (14.0.1)\n",
            "Requirement already satisfied: flatbuffers>=1.12 in /usr/local/lib/python3.7/dist-packages (from tensorflow) (2.0)\n",
            "Requirement already satisfied: google-pasta>=0.1.1 in /usr/local/lib/python3.7/dist-packages (from tensorflow) (0.2.0)\n",
            "Requirement already satisfied: protobuf>=3.9.2 in /usr/local/lib/python3.7/dist-packages (from tensorflow) (3.17.3)\n",
            "Requirement already satisfied: termcolor>=1.1.0 in /usr/local/lib/python3.7/dist-packages (from tensorflow) (1.1.0)\n",
            "Requirement already satisfied: tensorflow-io-gcs-filesystem>=0.23.1 in /usr/local/lib/python3.7/dist-packages (from tensorflow) (0.25.0)\n",
            "Requirement already satisfied: six>=1.12.0 in /usr/local/lib/python3.7/dist-packages (from tensorflow) (1.15.0)\n",
            "Requirement already satisfied: gast>=0.2.1 in /usr/local/lib/python3.7/dist-packages (from tensorflow) (0.5.3)\n",
            "Requirement already satisfied: absl-py>=0.4.0 in /usr/local/lib/python3.7/dist-packages (from tensorflow) (1.0.0)\n",
            "Requirement already satisfied: setuptools in /usr/local/lib/python3.7/dist-packages (from tensorflow) (57.4.0)\n",
            "Requirement already satisfied: wrapt>=1.11.0 in /usr/local/lib/python3.7/dist-packages (from tensorflow) (1.14.0)\n",
            "Requirement already satisfied: typing-extensions>=3.6.6 in /usr/local/lib/python3.7/dist-packages (from tensorflow) (4.2.0)\n",
            "Requirement already satisfied: wheel<1.0,>=0.23.0 in /usr/local/lib/python3.7/dist-packages (from astunparse>=1.6.0->tensorflow) (0.37.1)\n",
            "Requirement already satisfied: cached-property in /usr/local/lib/python3.7/dist-packages (from h5py>=2.9.0->tensorflow) (1.5.2)\n",
            "Requirement already satisfied: google-auth<3,>=1.6.3 in /usr/local/lib/python3.7/dist-packages (from tensorboard<2.9,>=2.8->tensorflow) (1.35.0)\n",
            "Requirement already satisfied: tensorboard-plugin-wit>=1.6.0 in /usr/local/lib/python3.7/dist-packages (from tensorboard<2.9,>=2.8->tensorflow) (1.8.1)\n",
            "Requirement already satisfied: tensorboard-data-server<0.7.0,>=0.6.0 in /usr/local/lib/python3.7/dist-packages (from tensorboard<2.9,>=2.8->tensorflow) (0.6.1)\n",
            "Requirement already satisfied: markdown>=2.6.8 in /usr/local/lib/python3.7/dist-packages (from tensorboard<2.9,>=2.8->tensorflow) (3.3.6)\n",
            "Requirement already satisfied: google-auth-oauthlib<0.5,>=0.4.1 in /usr/local/lib/python3.7/dist-packages (from tensorboard<2.9,>=2.8->tensorflow) (0.4.6)\n",
            "Requirement already satisfied: werkzeug>=0.11.15 in /usr/local/lib/python3.7/dist-packages (from tensorboard<2.9,>=2.8->tensorflow) (1.0.1)\n",
            "Requirement already satisfied: requests<3,>=2.21.0 in /usr/local/lib/python3.7/dist-packages (from tensorboard<2.9,>=2.8->tensorflow) (2.23.0)\n",
            "Requirement already satisfied: rsa<5,>=3.1.4 in /usr/local/lib/python3.7/dist-packages (from google-auth<3,>=1.6.3->tensorboard<2.9,>=2.8->tensorflow) (4.8)\n",
            "Requirement already satisfied: cachetools<5.0,>=2.0.0 in /usr/local/lib/python3.7/dist-packages (from google-auth<3,>=1.6.3->tensorboard<2.9,>=2.8->tensorflow) (4.2.4)\n",
            "Requirement already satisfied: pyasn1-modules>=0.2.1 in /usr/local/lib/python3.7/dist-packages (from google-auth<3,>=1.6.3->tensorboard<2.9,>=2.8->tensorflow) (0.2.8)\n",
            "Requirement already satisfied: requests-oauthlib>=0.7.0 in /usr/local/lib/python3.7/dist-packages (from google-auth-oauthlib<0.5,>=0.4.1->tensorboard<2.9,>=2.8->tensorflow) (1.3.1)\n",
            "Requirement already satisfied: importlib-metadata>=4.4 in /usr/local/lib/python3.7/dist-packages (from markdown>=2.6.8->tensorboard<2.9,>=2.8->tensorflow) (4.11.3)\n",
            "Requirement already satisfied: zipp>=0.5 in /usr/local/lib/python3.7/dist-packages (from importlib-metadata>=4.4->markdown>=2.6.8->tensorboard<2.9,>=2.8->tensorflow) (3.8.0)\n",
            "Requirement already satisfied: pyasn1<0.5.0,>=0.4.6 in /usr/local/lib/python3.7/dist-packages (from pyasn1-modules>=0.2.1->google-auth<3,>=1.6.3->tensorboard<2.9,>=2.8->tensorflow) (0.4.8)\n",
            "Requirement already satisfied: idna<3,>=2.5 in /usr/local/lib/python3.7/dist-packages (from requests<3,>=2.21.0->tensorboard<2.9,>=2.8->tensorflow) (2.10)\n",
            "Requirement already satisfied: certifi>=2017.4.17 in /usr/local/lib/python3.7/dist-packages (from requests<3,>=2.21.0->tensorboard<2.9,>=2.8->tensorflow) (2021.10.8)\n",
            "Requirement already satisfied: urllib3!=1.25.0,!=1.25.1,<1.26,>=1.21.1 in /usr/local/lib/python3.7/dist-packages (from requests<3,>=2.21.0->tensorboard<2.9,>=2.8->tensorflow) (1.24.3)\n",
            "Requirement already satisfied: chardet<4,>=3.0.2 in /usr/local/lib/python3.7/dist-packages (from requests<3,>=2.21.0->tensorboard<2.9,>=2.8->tensorflow) (3.0.4)\n",
            "Requirement already satisfied: oauthlib>=3.0.0 in /usr/local/lib/python3.7/dist-packages (from requests-oauthlib>=0.7.0->google-auth-oauthlib<0.5,>=0.4.1->tensorboard<2.9,>=2.8->tensorflow) (3.2.0)\n"
          ]
        }
      ]
    },
    {
      "cell_type": "code",
      "source": [
        "from keras.models import Sequential\n",
        "from keras.layers import Dense,Activation\n",
        "from tensorflow.keras.optimizers import SGD\n",
        "from sklearn.metrics import classification_report\n",
        "import numpy as np\n",
        "import matplotlib.pyplot as plt"
      ],
      "metadata": {
        "id": "rX3Wa1BUB0bx"
      },
      "execution_count": 2,
      "outputs": []
    },
    {
      "cell_type": "markdown",
      "source": [
        "Importando as classes necessárias a partir das bibliotecas"
      ],
      "metadata": {
        "id": "WWVshYwOMSFz"
      }
    },
    {
      "cell_type": "code",
      "source": [
        "import pandas as pd\n",
        "from sklearn.feature_extraction.text import TfidfVectorizer\n",
        "from sklearn.model_selection import train_test_split"
      ],
      "metadata": {
        "id": "GETnhj__U_Iy"
      },
      "execution_count": 3,
      "outputs": []
    },
    {
      "cell_type": "markdown",
      "source": [
        "### Carregamento do corpus para Pandas DataFrames\n",
        "\n",
        "\n",
        "\n",
        "**PS.:** Mais informações sobre a divisão de um conjunto de dados em treinamento, validação e teste, você encontra nesse [link](https://machinelearningmastery.com/difference-test-validation-datasets/).\n"
      ],
      "metadata": {
        "id": "fp0s4KlqiQUq"
      }
    },
    {
      "cell_type": "code",
      "source": [
        "path_train = 'Train.csv'\n",
        "#path_valid = 'twitter-2013dev-A.txt'\n",
        "#path_test = 'Test.csv'"
      ],
      "metadata": {
        "id": "MY8M1KY0TpiW"
      },
      "execution_count": 4,
      "outputs": []
    },
    {
      "cell_type": "code",
      "source": [
        "df_train = pd.read_csv(path_train,encoding='utf8', sep=',')\n",
        "#df_test = pd.read_csv(path_test, encoding='utf8', sep=',')"
      ],
      "metadata": {
        "id": "2MJ0FVjpkEHG"
      },
      "execution_count": 5,
      "outputs": []
    },
    {
      "cell_type": "code",
      "source": [
        "df_train"
      ],
      "metadata": {
        "colab": {
          "base_uri": "https://localhost:8080/",
          "height": 641
        },
        "id": "uq2wnaK6fRVh",
        "outputId": "b7ca71b6-b475-4cff-de15-9f15fb18051b"
      },
      "execution_count": 6,
      "outputs": [
        {
          "output_type": "execute_result",
          "data": {
            "text/plain": [
              "      Inv_Id  Vendor_Code     GL_Code  Inv_Amt  \\\n",
              "0      15001  VENDOR-1676  GL-6100410    83.24   \n",
              "1      15002  VENDOR-1883  GL-2182000    51.18   \n",
              "2      15004  VENDOR-1999  GL-6050100    79.02   \n",
              "3      15005  VENDOR-1771  GL-6101400    48.50   \n",
              "4      15006  VENDOR-1331  GL-2182000    63.35   \n",
              "...      ...          ...         ...      ...   \n",
              "5561   23005  VENDOR-1736  GL-2182000    84.88   \n",
              "5562   23007  VENDOR-2226  GL-6050310    94.78   \n",
              "5563   23008  VENDOR-1036  GL-6100500    57.01   \n",
              "5564   23010  VENDOR-2442  GL-6060100    79.96   \n",
              "5565   23012  VENDOR-1802  GL-6050310    36.65   \n",
              "\n",
              "                                       Item_Description Product_Category  \n",
              "0     Artworking/Typesetting Production Jun 2009 Cha...       CLASS-1963  \n",
              "1     Auto Leasing Corporate Services Corning Inc /N...       CLASS-1250  \n",
              "2     Store Management Lease/Rent Deltona Corp Real ...       CLASS-1274  \n",
              "3     Store Construction General Requirements Coloni...       CLASS-1522  \n",
              "4     Jul 2015 Aydin Corp Contingent Labor/Temp Labo...       CLASS-1376  \n",
              "...                                                 ...              ...  \n",
              "5561  Human Resources Corporate Services Contingent ...       CLASS-1376  \n",
              "5562  Logistics Transportation Services Parcel/Posta...       CLASS-1870  \n",
              "5563  2005Sep Addmaster Corp Magazines Media Buy - T...       CLASS-1721  \n",
              "5564  Information Technology IT Managed Services Fri...       CLASS-1652  \n",
              "5565  Ground Transportation Travel and Entertainment...       CLASS-1758  \n",
              "\n",
              "[5566 rows x 6 columns]"
            ],
            "text/html": [
              "\n",
              "  <div id=\"df-09c91992-e33d-4db0-8103-719b7f6f1170\">\n",
              "    <div class=\"colab-df-container\">\n",
              "      <div>\n",
              "<style scoped>\n",
              "    .dataframe tbody tr th:only-of-type {\n",
              "        vertical-align: middle;\n",
              "    }\n",
              "\n",
              "    .dataframe tbody tr th {\n",
              "        vertical-align: top;\n",
              "    }\n",
              "\n",
              "    .dataframe thead th {\n",
              "        text-align: right;\n",
              "    }\n",
              "</style>\n",
              "<table border=\"1\" class=\"dataframe\">\n",
              "  <thead>\n",
              "    <tr style=\"text-align: right;\">\n",
              "      <th></th>\n",
              "      <th>Inv_Id</th>\n",
              "      <th>Vendor_Code</th>\n",
              "      <th>GL_Code</th>\n",
              "      <th>Inv_Amt</th>\n",
              "      <th>Item_Description</th>\n",
              "      <th>Product_Category</th>\n",
              "    </tr>\n",
              "  </thead>\n",
              "  <tbody>\n",
              "    <tr>\n",
              "      <th>0</th>\n",
              "      <td>15001</td>\n",
              "      <td>VENDOR-1676</td>\n",
              "      <td>GL-6100410</td>\n",
              "      <td>83.24</td>\n",
              "      <td>Artworking/Typesetting Production Jun 2009 Cha...</td>\n",
              "      <td>CLASS-1963</td>\n",
              "    </tr>\n",
              "    <tr>\n",
              "      <th>1</th>\n",
              "      <td>15002</td>\n",
              "      <td>VENDOR-1883</td>\n",
              "      <td>GL-2182000</td>\n",
              "      <td>51.18</td>\n",
              "      <td>Auto Leasing Corporate Services Corning Inc /N...</td>\n",
              "      <td>CLASS-1250</td>\n",
              "    </tr>\n",
              "    <tr>\n",
              "      <th>2</th>\n",
              "      <td>15004</td>\n",
              "      <td>VENDOR-1999</td>\n",
              "      <td>GL-6050100</td>\n",
              "      <td>79.02</td>\n",
              "      <td>Store Management Lease/Rent Deltona Corp Real ...</td>\n",
              "      <td>CLASS-1274</td>\n",
              "    </tr>\n",
              "    <tr>\n",
              "      <th>3</th>\n",
              "      <td>15005</td>\n",
              "      <td>VENDOR-1771</td>\n",
              "      <td>GL-6101400</td>\n",
              "      <td>48.50</td>\n",
              "      <td>Store Construction General Requirements Coloni...</td>\n",
              "      <td>CLASS-1522</td>\n",
              "    </tr>\n",
              "    <tr>\n",
              "      <th>4</th>\n",
              "      <td>15006</td>\n",
              "      <td>VENDOR-1331</td>\n",
              "      <td>GL-2182000</td>\n",
              "      <td>63.35</td>\n",
              "      <td>Jul 2015 Aydin Corp Contingent Labor/Temp Labo...</td>\n",
              "      <td>CLASS-1376</td>\n",
              "    </tr>\n",
              "    <tr>\n",
              "      <th>...</th>\n",
              "      <td>...</td>\n",
              "      <td>...</td>\n",
              "      <td>...</td>\n",
              "      <td>...</td>\n",
              "      <td>...</td>\n",
              "      <td>...</td>\n",
              "    </tr>\n",
              "    <tr>\n",
              "      <th>5561</th>\n",
              "      <td>23005</td>\n",
              "      <td>VENDOR-1736</td>\n",
              "      <td>GL-2182000</td>\n",
              "      <td>84.88</td>\n",
              "      <td>Human Resources Corporate Services Contingent ...</td>\n",
              "      <td>CLASS-1376</td>\n",
              "    </tr>\n",
              "    <tr>\n",
              "      <th>5562</th>\n",
              "      <td>23007</td>\n",
              "      <td>VENDOR-2226</td>\n",
              "      <td>GL-6050310</td>\n",
              "      <td>94.78</td>\n",
              "      <td>Logistics Transportation Services Parcel/Posta...</td>\n",
              "      <td>CLASS-1870</td>\n",
              "    </tr>\n",
              "    <tr>\n",
              "      <th>5563</th>\n",
              "      <td>23008</td>\n",
              "      <td>VENDOR-1036</td>\n",
              "      <td>GL-6100500</td>\n",
              "      <td>57.01</td>\n",
              "      <td>2005Sep Addmaster Corp Magazines Media Buy - T...</td>\n",
              "      <td>CLASS-1721</td>\n",
              "    </tr>\n",
              "    <tr>\n",
              "      <th>5564</th>\n",
              "      <td>23010</td>\n",
              "      <td>VENDOR-2442</td>\n",
              "      <td>GL-6060100</td>\n",
              "      <td>79.96</td>\n",
              "      <td>Information Technology IT Managed Services Fri...</td>\n",
              "      <td>CLASS-1652</td>\n",
              "    </tr>\n",
              "    <tr>\n",
              "      <th>5565</th>\n",
              "      <td>23012</td>\n",
              "      <td>VENDOR-1802</td>\n",
              "      <td>GL-6050310</td>\n",
              "      <td>36.65</td>\n",
              "      <td>Ground Transportation Travel and Entertainment...</td>\n",
              "      <td>CLASS-1758</td>\n",
              "    </tr>\n",
              "  </tbody>\n",
              "</table>\n",
              "<p>5566 rows × 6 columns</p>\n",
              "</div>\n",
              "      <button class=\"colab-df-convert\" onclick=\"convertToInteractive('df-09c91992-e33d-4db0-8103-719b7f6f1170')\"\n",
              "              title=\"Convert this dataframe to an interactive table.\"\n",
              "              style=\"display:none;\">\n",
              "        \n",
              "  <svg xmlns=\"http://www.w3.org/2000/svg\" height=\"24px\"viewBox=\"0 0 24 24\"\n",
              "       width=\"24px\">\n",
              "    <path d=\"M0 0h24v24H0V0z\" fill=\"none\"/>\n",
              "    <path d=\"M18.56 5.44l.94 2.06.94-2.06 2.06-.94-2.06-.94-.94-2.06-.94 2.06-2.06.94zm-11 1L8.5 8.5l.94-2.06 2.06-.94-2.06-.94L8.5 2.5l-.94 2.06-2.06.94zm10 10l.94 2.06.94-2.06 2.06-.94-2.06-.94-.94-2.06-.94 2.06-2.06.94z\"/><path d=\"M17.41 7.96l-1.37-1.37c-.4-.4-.92-.59-1.43-.59-.52 0-1.04.2-1.43.59L10.3 9.45l-7.72 7.72c-.78.78-.78 2.05 0 2.83L4 21.41c.39.39.9.59 1.41.59.51 0 1.02-.2 1.41-.59l7.78-7.78 2.81-2.81c.8-.78.8-2.07 0-2.86zM5.41 20L4 18.59l7.72-7.72 1.47 1.35L5.41 20z\"/>\n",
              "  </svg>\n",
              "      </button>\n",
              "      \n",
              "  <style>\n",
              "    .colab-df-container {\n",
              "      display:flex;\n",
              "      flex-wrap:wrap;\n",
              "      gap: 12px;\n",
              "    }\n",
              "\n",
              "    .colab-df-convert {\n",
              "      background-color: #E8F0FE;\n",
              "      border: none;\n",
              "      border-radius: 50%;\n",
              "      cursor: pointer;\n",
              "      display: none;\n",
              "      fill: #1967D2;\n",
              "      height: 32px;\n",
              "      padding: 0 0 0 0;\n",
              "      width: 32px;\n",
              "    }\n",
              "\n",
              "    .colab-df-convert:hover {\n",
              "      background-color: #E2EBFA;\n",
              "      box-shadow: 0px 1px 2px rgba(60, 64, 67, 0.3), 0px 1px 3px 1px rgba(60, 64, 67, 0.15);\n",
              "      fill: #174EA6;\n",
              "    }\n",
              "\n",
              "    [theme=dark] .colab-df-convert {\n",
              "      background-color: #3B4455;\n",
              "      fill: #D2E3FC;\n",
              "    }\n",
              "\n",
              "    [theme=dark] .colab-df-convert:hover {\n",
              "      background-color: #434B5C;\n",
              "      box-shadow: 0px 1px 3px 1px rgba(0, 0, 0, 0.15);\n",
              "      filter: drop-shadow(0px 1px 2px rgba(0, 0, 0, 0.3));\n",
              "      fill: #FFFFFF;\n",
              "    }\n",
              "  </style>\n",
              "\n",
              "      <script>\n",
              "        const buttonEl =\n",
              "          document.querySelector('#df-09c91992-e33d-4db0-8103-719b7f6f1170 button.colab-df-convert');\n",
              "        buttonEl.style.display =\n",
              "          google.colab.kernel.accessAllowed ? 'block' : 'none';\n",
              "\n",
              "        async function convertToInteractive(key) {\n",
              "          const element = document.querySelector('#df-09c91992-e33d-4db0-8103-719b7f6f1170');\n",
              "          const dataTable =\n",
              "            await google.colab.kernel.invokeFunction('convertToInteractive',\n",
              "                                                     [key], {});\n",
              "          if (!dataTable) return;\n",
              "\n",
              "          const docLinkHtml = 'Like what you see? Visit the ' +\n",
              "            '<a target=\"_blank\" href=https://colab.research.google.com/notebooks/data_table.ipynb>data table notebook</a>'\n",
              "            + ' to learn more about interactive tables.';\n",
              "          element.innerHTML = '';\n",
              "          dataTable['output_type'] = 'display_data';\n",
              "          await google.colab.output.renderOutput(dataTable, element);\n",
              "          const docLink = document.createElement('div');\n",
              "          docLink.innerHTML = docLinkHtml;\n",
              "          element.appendChild(docLink);\n",
              "        }\n",
              "      </script>\n",
              "    </div>\n",
              "  </div>\n",
              "  "
            ]
          },
          "metadata": {},
          "execution_count": 6
        }
      ]
    },
    {
      "cell_type": "markdown",
      "source": [
        "Informações sobre cada parte do *corpus* de tweets:"
      ],
      "metadata": {
        "id": "oXUO88MRwdcY"
      }
    },
    {
      "cell_type": "code",
      "source": [
        "print(f\"O conjunto de treinamento possui {df_train.shape} tweets\")\n",
        "#print(f\"O conjunto de validação possui {df_valid.shape} tweets\")\n",
        "#print(f\"O conjunto de testes possui {df_test.shape} tweets\")"
      ],
      "metadata": {
        "colab": {
          "base_uri": "https://localhost:8080/"
        },
        "id": "Le_z-K3-wivo",
        "outputId": "b8e21344-8eb8-4fc6-fd85-08d94b7f7299"
      },
      "execution_count": 7,
      "outputs": [
        {
          "output_type": "stream",
          "name": "stdout",
          "text": [
            "O conjunto de treinamento possui (5566, 6) tweets\n"
          ]
        }
      ]
    },
    {
      "cell_type": "markdown",
      "source": [
        "### Pré-processamento dos Tweets\n",
        "\n",
        "Remove o atributo **id**, pois não será necessário o uso desse atributo no processo de classificação.\n",
        "\n"
      ],
      "metadata": {
        "id": "cycRNw7tfZLZ"
      }
    },
    {
      "cell_type": "code",
      "source": [
        "#df_valid.drop(labels=['Inv_Id'],axis=1)\n",
        "#df_test.drop(labels=['Inv_Id','Vendor_Code'],axis=1)\n",
        "df_train.drop(labels=['Inv_Id','Vendor_Code'],axis=1)"
      ],
      "metadata": {
        "colab": {
          "base_uri": "https://localhost:8080/",
          "height": 424
        },
        "id": "W4ZbUgNheyGK",
        "outputId": "0e5012ae-66e0-499f-c24a-18b5af48db90"
      },
      "execution_count": 8,
      "outputs": [
        {
          "output_type": "execute_result",
          "data": {
            "text/plain": [
              "         GL_Code  Inv_Amt                                   Item_Description  \\\n",
              "0     GL-6100410    83.24  Artworking/Typesetting Production Jun 2009 Cha...   \n",
              "1     GL-2182000    51.18  Auto Leasing Corporate Services Corning Inc /N...   \n",
              "2     GL-6050100    79.02  Store Management Lease/Rent Deltona Corp Real ...   \n",
              "3     GL-6101400    48.50  Store Construction General Requirements Coloni...   \n",
              "4     GL-2182000    63.35  Jul 2015 Aydin Corp Contingent Labor/Temp Labo...   \n",
              "...          ...      ...                                                ...   \n",
              "5561  GL-2182000    84.88  Human Resources Corporate Services Contingent ...   \n",
              "5562  GL-6050310    94.78  Logistics Transportation Services Parcel/Posta...   \n",
              "5563  GL-6100500    57.01  2005Sep Addmaster Corp Magazines Media Buy - T...   \n",
              "5564  GL-6060100    79.96  Information Technology IT Managed Services Fri...   \n",
              "5565  GL-6050310    36.65  Ground Transportation Travel and Entertainment...   \n",
              "\n",
              "     Product_Category  \n",
              "0          CLASS-1963  \n",
              "1          CLASS-1250  \n",
              "2          CLASS-1274  \n",
              "3          CLASS-1522  \n",
              "4          CLASS-1376  \n",
              "...               ...  \n",
              "5561       CLASS-1376  \n",
              "5562       CLASS-1870  \n",
              "5563       CLASS-1721  \n",
              "5564       CLASS-1652  \n",
              "5565       CLASS-1758  \n",
              "\n",
              "[5566 rows x 4 columns]"
            ],
            "text/html": [
              "\n",
              "  <div id=\"df-9f87ac96-543c-4a64-bbf2-ed084ab9df33\">\n",
              "    <div class=\"colab-df-container\">\n",
              "      <div>\n",
              "<style scoped>\n",
              "    .dataframe tbody tr th:only-of-type {\n",
              "        vertical-align: middle;\n",
              "    }\n",
              "\n",
              "    .dataframe tbody tr th {\n",
              "        vertical-align: top;\n",
              "    }\n",
              "\n",
              "    .dataframe thead th {\n",
              "        text-align: right;\n",
              "    }\n",
              "</style>\n",
              "<table border=\"1\" class=\"dataframe\">\n",
              "  <thead>\n",
              "    <tr style=\"text-align: right;\">\n",
              "      <th></th>\n",
              "      <th>GL_Code</th>\n",
              "      <th>Inv_Amt</th>\n",
              "      <th>Item_Description</th>\n",
              "      <th>Product_Category</th>\n",
              "    </tr>\n",
              "  </thead>\n",
              "  <tbody>\n",
              "    <tr>\n",
              "      <th>0</th>\n",
              "      <td>GL-6100410</td>\n",
              "      <td>83.24</td>\n",
              "      <td>Artworking/Typesetting Production Jun 2009 Cha...</td>\n",
              "      <td>CLASS-1963</td>\n",
              "    </tr>\n",
              "    <tr>\n",
              "      <th>1</th>\n",
              "      <td>GL-2182000</td>\n",
              "      <td>51.18</td>\n",
              "      <td>Auto Leasing Corporate Services Corning Inc /N...</td>\n",
              "      <td>CLASS-1250</td>\n",
              "    </tr>\n",
              "    <tr>\n",
              "      <th>2</th>\n",
              "      <td>GL-6050100</td>\n",
              "      <td>79.02</td>\n",
              "      <td>Store Management Lease/Rent Deltona Corp Real ...</td>\n",
              "      <td>CLASS-1274</td>\n",
              "    </tr>\n",
              "    <tr>\n",
              "      <th>3</th>\n",
              "      <td>GL-6101400</td>\n",
              "      <td>48.50</td>\n",
              "      <td>Store Construction General Requirements Coloni...</td>\n",
              "      <td>CLASS-1522</td>\n",
              "    </tr>\n",
              "    <tr>\n",
              "      <th>4</th>\n",
              "      <td>GL-2182000</td>\n",
              "      <td>63.35</td>\n",
              "      <td>Jul 2015 Aydin Corp Contingent Labor/Temp Labo...</td>\n",
              "      <td>CLASS-1376</td>\n",
              "    </tr>\n",
              "    <tr>\n",
              "      <th>...</th>\n",
              "      <td>...</td>\n",
              "      <td>...</td>\n",
              "      <td>...</td>\n",
              "      <td>...</td>\n",
              "    </tr>\n",
              "    <tr>\n",
              "      <th>5561</th>\n",
              "      <td>GL-2182000</td>\n",
              "      <td>84.88</td>\n",
              "      <td>Human Resources Corporate Services Contingent ...</td>\n",
              "      <td>CLASS-1376</td>\n",
              "    </tr>\n",
              "    <tr>\n",
              "      <th>5562</th>\n",
              "      <td>GL-6050310</td>\n",
              "      <td>94.78</td>\n",
              "      <td>Logistics Transportation Services Parcel/Posta...</td>\n",
              "      <td>CLASS-1870</td>\n",
              "    </tr>\n",
              "    <tr>\n",
              "      <th>5563</th>\n",
              "      <td>GL-6100500</td>\n",
              "      <td>57.01</td>\n",
              "      <td>2005Sep Addmaster Corp Magazines Media Buy - T...</td>\n",
              "      <td>CLASS-1721</td>\n",
              "    </tr>\n",
              "    <tr>\n",
              "      <th>5564</th>\n",
              "      <td>GL-6060100</td>\n",
              "      <td>79.96</td>\n",
              "      <td>Information Technology IT Managed Services Fri...</td>\n",
              "      <td>CLASS-1652</td>\n",
              "    </tr>\n",
              "    <tr>\n",
              "      <th>5565</th>\n",
              "      <td>GL-6050310</td>\n",
              "      <td>36.65</td>\n",
              "      <td>Ground Transportation Travel and Entertainment...</td>\n",
              "      <td>CLASS-1758</td>\n",
              "    </tr>\n",
              "  </tbody>\n",
              "</table>\n",
              "<p>5566 rows × 4 columns</p>\n",
              "</div>\n",
              "      <button class=\"colab-df-convert\" onclick=\"convertToInteractive('df-9f87ac96-543c-4a64-bbf2-ed084ab9df33')\"\n",
              "              title=\"Convert this dataframe to an interactive table.\"\n",
              "              style=\"display:none;\">\n",
              "        \n",
              "  <svg xmlns=\"http://www.w3.org/2000/svg\" height=\"24px\"viewBox=\"0 0 24 24\"\n",
              "       width=\"24px\">\n",
              "    <path d=\"M0 0h24v24H0V0z\" fill=\"none\"/>\n",
              "    <path d=\"M18.56 5.44l.94 2.06.94-2.06 2.06-.94-2.06-.94-.94-2.06-.94 2.06-2.06.94zm-11 1L8.5 8.5l.94-2.06 2.06-.94-2.06-.94L8.5 2.5l-.94 2.06-2.06.94zm10 10l.94 2.06.94-2.06 2.06-.94-2.06-.94-.94-2.06-.94 2.06-2.06.94z\"/><path d=\"M17.41 7.96l-1.37-1.37c-.4-.4-.92-.59-1.43-.59-.52 0-1.04.2-1.43.59L10.3 9.45l-7.72 7.72c-.78.78-.78 2.05 0 2.83L4 21.41c.39.39.9.59 1.41.59.51 0 1.02-.2 1.41-.59l7.78-7.78 2.81-2.81c.8-.78.8-2.07 0-2.86zM5.41 20L4 18.59l7.72-7.72 1.47 1.35L5.41 20z\"/>\n",
              "  </svg>\n",
              "      </button>\n",
              "      \n",
              "  <style>\n",
              "    .colab-df-container {\n",
              "      display:flex;\n",
              "      flex-wrap:wrap;\n",
              "      gap: 12px;\n",
              "    }\n",
              "\n",
              "    .colab-df-convert {\n",
              "      background-color: #E8F0FE;\n",
              "      border: none;\n",
              "      border-radius: 50%;\n",
              "      cursor: pointer;\n",
              "      display: none;\n",
              "      fill: #1967D2;\n",
              "      height: 32px;\n",
              "      padding: 0 0 0 0;\n",
              "      width: 32px;\n",
              "    }\n",
              "\n",
              "    .colab-df-convert:hover {\n",
              "      background-color: #E2EBFA;\n",
              "      box-shadow: 0px 1px 2px rgba(60, 64, 67, 0.3), 0px 1px 3px 1px rgba(60, 64, 67, 0.15);\n",
              "      fill: #174EA6;\n",
              "    }\n",
              "\n",
              "    [theme=dark] .colab-df-convert {\n",
              "      background-color: #3B4455;\n",
              "      fill: #D2E3FC;\n",
              "    }\n",
              "\n",
              "    [theme=dark] .colab-df-convert:hover {\n",
              "      background-color: #434B5C;\n",
              "      box-shadow: 0px 1px 3px 1px rgba(0, 0, 0, 0.15);\n",
              "      filter: drop-shadow(0px 1px 2px rgba(0, 0, 0, 0.3));\n",
              "      fill: #FFFFFF;\n",
              "    }\n",
              "  </style>\n",
              "\n",
              "      <script>\n",
              "        const buttonEl =\n",
              "          document.querySelector('#df-9f87ac96-543c-4a64-bbf2-ed084ab9df33 button.colab-df-convert');\n",
              "        buttonEl.style.display =\n",
              "          google.colab.kernel.accessAllowed ? 'block' : 'none';\n",
              "\n",
              "        async function convertToInteractive(key) {\n",
              "          const element = document.querySelector('#df-9f87ac96-543c-4a64-bbf2-ed084ab9df33');\n",
              "          const dataTable =\n",
              "            await google.colab.kernel.invokeFunction('convertToInteractive',\n",
              "                                                     [key], {});\n",
              "          if (!dataTable) return;\n",
              "\n",
              "          const docLinkHtml = 'Like what you see? Visit the ' +\n",
              "            '<a target=\"_blank\" href=https://colab.research.google.com/notebooks/data_table.ipynb>data table notebook</a>'\n",
              "            + ' to learn more about interactive tables.';\n",
              "          element.innerHTML = '';\n",
              "          dataTable['output_type'] = 'display_data';\n",
              "          await google.colab.output.renderOutput(dataTable, element);\n",
              "          const docLink = document.createElement('div');\n",
              "          docLink.innerHTML = docLinkHtml;\n",
              "          element.appendChild(docLink);\n",
              "        }\n",
              "      </script>\n",
              "    </div>\n",
              "  </div>\n",
              "  "
            ]
          },
          "metadata": {},
          "execution_count": 8
        }
      ]
    },
    {
      "cell_type": "markdown",
      "source": [
        "Além disso, por questões do uso dos métodos da classe Sequential no Keras-Tensorflow, convertemos o atributo de classe para o tipo categórico e para cada instância, mapeamos seus valores para números inteiros. Lembre-se que os **modelos de aprendizado de máquina processam apenas números inteiros ou reais**."
      ],
      "metadata": {
        "id": "Plz1Pm15ztNO"
      }
    },
    {
      "cell_type": "code",
      "source": [
        "df_train['Product_Category'] = pd.Categorical(df_train['Product_Category'])\n",
        "#df_valid['polarity'] = pd.Categorical(df_valid['polarity'])\n",
        "#df_test['Product_Category'] = pd.Categorical(df_test['Product_Category'])\n",
        "\n",
        "train_codes = df_train['Product_Category'].cat.codes\n",
        "#y_valid = df_valid['polarity'].cat.codes\n",
        "#y_test = df_test['Product_Category'].cat.codes"
      ],
      "metadata": {
        "id": "4MbE7PZqztrV"
      },
      "execution_count": 9,
      "outputs": []
    },
    {
      "cell_type": "markdown",
      "source": [
        "Vamos ver como e repare que o mapeamento do atributo categórico \"polarity\" para valores categóricos inteiros ficou como:\n",
        "\n",
        "*   polaridade \"negativa\" *(negative)*: valor $0$\n",
        "*   polaridade \"neutra\" *(neutral)*: valor $1$\n",
        "*   polaridade \"positiva\" *(positive)*: valor $2$"
      ],
      "metadata": {
        "id": "soW04sEVto_b"
      }
    },
    {
      "cell_type": "code",
      "source": [
        "for i in range(0,5):\n",
        "    v = df_train['Product_Category'][i]\n",
        "    print(f'Valor original da classe {v} Transformação inteira: {train_codes[i]}')"
      ],
      "metadata": {
        "colab": {
          "base_uri": "https://localhost:8080/"
        },
        "id": "4LxkFq1ttpRZ",
        "outputId": "fc1dc3bb-5cd8-412c-cb47-d6e5db7dfac0"
      },
      "execution_count": 11,
      "outputs": [
        {
          "output_type": "stream",
          "name": "stdout",
          "text": [
            "Valor original da classe CLASS-1963 Transformação inteira: 25\n",
            "Valor original da classe CLASS-1250 Transformação inteira: 2\n",
            "Valor original da classe CLASS-1274 Transformação inteira: 3\n",
            "Valor original da classe CLASS-1522 Transformação inteira: 10\n",
            "Valor original da classe CLASS-1376 Transformação inteira: 7\n"
          ]
        }
      ]
    },
    {
      "cell_type": "markdown",
      "source": [
        "A seguir, transformamos os valores da classe \"polaridade\", nossa classe de interesse, para one-hot-encoding. Nessa representação, como temos três classes, utilizaremos três bits, em que para cada instância, apenas um deles estará ativado (com valor $1$) com base na presença do valor classe.\n",
        "\n",
        "Veja como fica a representação one-hot encoding para cada classe:\n",
        "\n",
        "*   polaridade \"negativa\" *(negative)*: valor $0$, one hot encoding: $[1,0,0]$\n",
        "*   polaridade \"neutra\" *(neutral)*: valor $1$, one hot encoding: $[0,1,0]$\n",
        "*   polaridade \"positiva\" *(positive)*: valor $2$, one hot encoding: $[0,0,1]$\n",
        "\n",
        "Utilizaremos a função *to_categorical* do Keras para esse propósito (se bem que poderíamos facilmente implementar uma por nossa conta):"
      ],
      "metadata": {
        "id": "qRN-0SW50IG0"
      }
    },
    {
      "cell_type": "code",
      "source": [
        "from keras.utils.np_utils import to_categorical\n",
        "\n",
        "num_classes = len(df_train['Product_Category'].value_counts())\n",
        "print(df_train['Product_Category'].value_counts())\n",
        "print(num_classes)"
      ],
      "metadata": {
        "id": "bZqJdMXW0INV",
        "colab": {
          "base_uri": "https://localhost:8080/"
        },
        "outputId": "d2b96401-c366-48eb-9807-bcd164296732"
      },
      "execution_count": 12,
      "outputs": [
        {
          "output_type": "stream",
          "name": "stdout",
          "text": [
            "CLASS-1758    1498\n",
            "CLASS-1274     986\n",
            "CLASS-1522     851\n",
            "CLASS-1250     451\n",
            "CLASS-1376     365\n",
            "CLASS-1963     230\n",
            "CLASS-1249     176\n",
            "CLASS-1828     113\n",
            "CLASS-2141     108\n",
            "CLASS-1721     107\n",
            "CLASS-1567      84\n",
            "CLASS-1919      70\n",
            "CLASS-1850      60\n",
            "CLASS-2112      53\n",
            "CLASS-1477      50\n",
            "CLASS-1870      36\n",
            "CLASS-2241      36\n",
            "CLASS-2003      32\n",
            "CLASS-1309      32\n",
            "CLASS-1429      32\n",
            "CLASS-1964      28\n",
            "CLASS-1322      28\n",
            "CLASS-1294      25\n",
            "CLASS-1770      19\n",
            "CLASS-1983      17\n",
            "CLASS-1867      15\n",
            "CLASS-1652      15\n",
            "CLASS-2038      13\n",
            "CLASS-1805      12\n",
            "CLASS-2152       9\n",
            "CLASS-1248       5\n",
            "CLASS-1688       4\n",
            "CLASS-2015       2\n",
            "CLASS-2146       2\n",
            "CLASS-1957       1\n",
            "CLASS-1838       1\n",
            "Name: Product_Category, dtype: int64\n",
            "36\n"
          ]
        }
      ]
    },
    {
      "cell_type": "code",
      "source": [
        ""
      ],
      "metadata": {
        "id": "aY9hJCumkv3k"
      },
      "execution_count": null,
      "outputs": []
    },
    {
      "cell_type": "markdown",
      "source": [
        "Apenas verificando como ficou o pré-processamento do atributo de classe:"
      ],
      "metadata": {
        "id": "ONGb3W5ky3Sv"
      }
    },
    {
      "cell_type": "code",
      "source": [
        "#for i in range(0,5):\n",
        "#    v = df_train['Product_Category'][i]\n",
        "#    print(f\"Invoice {i}: valor original da classe '{v}'; mapeamento para inteiro: {train_codes[i]}; representação one-hot-encoding [{int(y_train_enc[i][0])},{int(y_train_enc[i][1])},{int(y_train_enc[i][2])}]\")"
      ],
      "metadata": {
        "id": "4qWlGYzJxb-s"
      },
      "execution_count": 15,
      "outputs": []
    },
    {
      "cell_type": "code",
      "source": [
        "X_train, X_test, y_train, y_test = train_test_split(df_train['Item_Description'], train_codes, test_size=0.33, random_state=42)"
      ],
      "metadata": {
        "id": "U7N61ra3lHcj"
      },
      "execution_count": 18,
      "outputs": []
    },
    {
      "cell_type": "code",
      "source": [
        "y_train_enc = to_categorical(y_train,num_classes)\n",
        "#y_valid_enc = to_categorical(y_valid,3)\n",
        "y_test_enc = to_categorical(y_test,num_classes)"
      ],
      "metadata": {
        "id": "oGN0Zznhlsoq"
      },
      "execution_count": 19,
      "outputs": []
    },
    {
      "cell_type": "markdown",
      "source": [
        "### Extração de características dos tweets\n",
        "\n",
        "Método Term Frequeny-Inverse Document Frequency (TF-IDF) implementado pela classe *TfidfVectorizer*.\n",
        "\n",
        "Aqui deve-se tomar o cuidado de calcular o vocabulário apenas no conjunto de treinamento:"
      ],
      "metadata": {
        "id": "Q_mzac_gfstB"
      }
    },
    {
      "cell_type": "code",
      "source": [
        "tfidfvectorizer = TfidfVectorizer(norm=None, stop_words='english', max_df=0.95, min_df=2)\n",
        "\n",
        "tfidfvectorizer.fit(X_train)\n",
        "\n",
        "tfidf_train = tfidfvectorizer.transform(X_train).toarray()\n",
        "tfidf_test = tfidfvectorizer.transform(X_test).toarray()\n",
        "\n",
        "N = tfidf_train.shape[0]\n",
        "vocab_size = tfidf_train.shape[1]\n",
        "\n",
        "print(f'O conjunto de treinamento possui {N} instâncias e um vocabulário de {vocab_size} palavras (termos).')"
      ],
      "metadata": {
        "colab": {
          "base_uri": "https://localhost:8080/"
        },
        "id": "7FbtfK40T4Sc",
        "outputId": "96ae5dea-0f46-4e95-9515-1ed237a4e7c7"
      },
      "execution_count": 22,
      "outputs": [
        {
          "output_type": "stream",
          "name": "stdout",
          "text": [
            "O conjunto de treinamento possui 3729 instâncias e um vocabulário de 1212 palavras (termos).\n"
          ]
        }
      ]
    },
    {
      "cell_type": "markdown",
      "source": [
        "Colocamos as instâncias (juntamente com seus atributos TF-IDF) nas respectivas matrizes $X$ (para cada tipo de dados), em que cada linha de $X$ está associada a um *tweet*. Repare que as classes (labels, rótulos etc) já foram separadas anteriormente e estão armazenadas nas variáveis ```y```. Por exemplo, a instância de treinamento $\\mathbf{x_i}$, denotada por ```X_train[i]``` é da classe ```y_train[i]``` $\\in \\{0,1,2\\}$."
      ],
      "metadata": {
        "id": "GGw9jEA2gCTn"
      }
    },
    {
      "cell_type": "code",
      "source": [
        "X_train3 = tfidf_train\n",
        "#X_valid = tfidf_valid\n",
        "X_test3 = tfidf_test"
      ],
      "metadata": {
        "id": "kXNL8-WsT6wl"
      },
      "execution_count": 23,
      "outputs": []
    },
    {
      "cell_type": "markdown",
      "source": [
        "### Modelo de Classificação: Rede Neural Profunda\n",
        "\n",
        "Vamos criar uma rede neural profunda do tipo feed forward multilayer perceptron. O especialista em questão (eu, você etc) decidiu criar uma rede com duas camadas intermediárias: a primeira contendo $20$ neurônios e a segunda contendo $10$ neurônios.\n",
        "\n"
      ],
      "metadata": {
        "id": "TSV_ATefiiUB"
      }
    },
    {
      "cell_type": "code",
      "source": [
        "number_of_neurons_layer1 = 20\n",
        "number_of_neurons_layer2 = 10"
      ],
      "metadata": {
        "id": "oH1D3HT-jSN4"
      },
      "execution_count": 24,
      "outputs": []
    },
    {
      "cell_type": "markdown",
      "source": [
        "Em seguida, criamos o modelo baseado na rede neural. Observe que agora temos um problema de classificação multi-classe e, por isso, a camada de saída contém três neurônios, em que cada um está associado com uma das possíveis classe (\"positive\", \"negative\", \"neutral\"). Isso significa que o $k$-ésimo neurônio da camada de saída produz na saída a probabilidade de classificação de uma instância para a classe $k$."
      ],
      "metadata": {
        "id": "897HPB35zsCd"
      }
    },
    {
      "cell_type": "code",
      "source": [
        "model = Sequential()\n",
        "model.add(Dense(number_of_neurons_layer1,input_dim=vocab_size, activation=\"tanh\"))\n",
        "model.add(Dense(number_of_neurons_layer2,activation=\"tanh\"))\n",
        "model.add(Dense(num_classes,activation=\"softmax\"))"
      ],
      "metadata": {
        "id": "LvWB8hO2jGCf"
      },
      "execution_count": 25,
      "outputs": []
    },
    {
      "cell_type": "markdown",
      "source": [
        "O ajuste do modelo para o treinamento consiste em utilizarmos um otimizador da classe SGD (*Stochastic Gradient Descent*), em que colocamos aleatoriamente um valor da taxa de aprendizado ```learning_rate=0.001```.\n",
        "\n",
        "Outra alteração se trata da função *loss* (que calcula o erro da modelo). Como temos um problema de classificação multiclasse, temos que empregar a função ```categorical_crossentropy```."
      ],
      "metadata": {
        "id": "peU5AQYB0Rc6"
      }
    },
    {
      "cell_type": "code",
      "source": [
        "sgd = SGD(learning_rate=0.001)\n",
        "model.compile(loss=\"categorical_crossentropy\",optimizer=sgd,metrics=['accuracy'])\n",
        "history_fine = model.fit(X_train3,y_train_enc,validation_data=(X_test3,y_test_enc),epochs=30)"
      ],
      "metadata": {
        "colab": {
          "base_uri": "https://localhost:8080/"
        },
        "id": "T95n0SaLzpj1",
        "outputId": "8f084841-f649-445b-8cd1-2e12f6c97015"
      },
      "execution_count": 28,
      "outputs": [
        {
          "output_type": "stream",
          "name": "stdout",
          "text": [
            "Epoch 1/30\n",
            "117/117 [==============================] - 1s 7ms/step - loss: 3.3875 - accuracy: 0.0587 - val_loss: 3.2313 - val_accuracy: 0.1845\n",
            "Epoch 2/30\n",
            "117/117 [==============================] - 1s 11ms/step - loss: 3.1214 - accuracy: 0.3958 - val_loss: 3.0081 - val_accuracy: 0.5498\n",
            "Epoch 3/30\n",
            "117/117 [==============================] - 1s 6ms/step - loss: 2.9318 - accuracy: 0.6179 - val_loss: 2.8426 - val_accuracy: 0.6717\n",
            "Epoch 4/30\n",
            "117/117 [==============================] - 1s 5ms/step - loss: 2.7851 - accuracy: 0.6876 - val_loss: 2.7109 - val_accuracy: 0.7039\n",
            "Epoch 5/30\n",
            "117/117 [==============================] - 1s 5ms/step - loss: 2.6621 - accuracy: 0.7120 - val_loss: 2.5964 - val_accuracy: 0.7169\n",
            "Epoch 6/30\n",
            "117/117 [==============================] - 1s 4ms/step - loss: 2.5514 - accuracy: 0.7246 - val_loss: 2.4915 - val_accuracy: 0.7273\n",
            "Epoch 7/30\n",
            "117/117 [==============================] - 1s 5ms/step - loss: 2.4484 - accuracy: 0.7310 - val_loss: 2.3932 - val_accuracy: 0.7376\n",
            "Epoch 8/30\n",
            "117/117 [==============================] - 0s 4ms/step - loss: 2.3515 - accuracy: 0.7305 - val_loss: 2.3005 - val_accuracy: 0.7333\n",
            "Epoch 9/30\n",
            "117/117 [==============================] - 1s 5ms/step - loss: 2.2600 - accuracy: 0.7219 - val_loss: 2.2130 - val_accuracy: 0.7213\n",
            "Epoch 10/30\n",
            "117/117 [==============================] - 1s 4ms/step - loss: 2.1735 - accuracy: 0.7155 - val_loss: 2.1307 - val_accuracy: 0.7131\n",
            "Epoch 11/30\n",
            "117/117 [==============================] - 1s 4ms/step - loss: 2.0924 - accuracy: 0.7066 - val_loss: 2.0536 - val_accuracy: 0.7022\n",
            "Epoch 12/30\n",
            "117/117 [==============================] - 1s 5ms/step - loss: 2.0164 - accuracy: 0.6975 - val_loss: 1.9815 - val_accuracy: 0.6962\n",
            "Epoch 13/30\n",
            "117/117 [==============================] - 1s 5ms/step - loss: 1.9454 - accuracy: 0.6935 - val_loss: 1.9142 - val_accuracy: 0.6930\n",
            "Epoch 14/30\n",
            "117/117 [==============================] - 1s 5ms/step - loss: 1.8791 - accuracy: 0.6938 - val_loss: 1.8513 - val_accuracy: 0.6941\n",
            "Epoch 15/30\n",
            "117/117 [==============================] - 1s 5ms/step - loss: 1.8172 - accuracy: 0.6997 - val_loss: 1.7926 - val_accuracy: 0.7044\n",
            "Epoch 16/30\n",
            "117/117 [==============================] - 1s 7ms/step - loss: 1.7593 - accuracy: 0.7064 - val_loss: 1.7375 - val_accuracy: 0.7148\n",
            "Epoch 17/30\n",
            "117/117 [==============================] - 1s 7ms/step - loss: 1.7048 - accuracy: 0.7230 - val_loss: 1.6857 - val_accuracy: 0.7343\n",
            "Epoch 18/30\n",
            "117/117 [==============================] - 1s 8ms/step - loss: 1.6534 - accuracy: 0.7498 - val_loss: 1.6366 - val_accuracy: 0.7534\n",
            "Epoch 19/30\n",
            "117/117 [==============================] - 1s 10ms/step - loss: 1.6047 - accuracy: 0.7702 - val_loss: 1.5900 - val_accuracy: 0.7719\n",
            "Epoch 20/30\n",
            "117/117 [==============================] - 1s 10ms/step - loss: 1.5584 - accuracy: 0.7922 - val_loss: 1.5457 - val_accuracy: 0.7921\n",
            "Epoch 21/30\n",
            "117/117 [==============================] - 1s 7ms/step - loss: 1.5143 - accuracy: 0.8072 - val_loss: 1.5033 - val_accuracy: 0.8024\n",
            "Epoch 22/30\n",
            "117/117 [==============================] - 1s 8ms/step - loss: 1.4722 - accuracy: 0.8182 - val_loss: 1.4629 - val_accuracy: 0.8149\n",
            "Epoch 23/30\n",
            "117/117 [==============================] - 1s 6ms/step - loss: 1.4321 - accuracy: 0.8238 - val_loss: 1.4244 - val_accuracy: 0.8187\n",
            "Epoch 24/30\n",
            "117/117 [==============================] - 1s 6ms/step - loss: 1.3940 - accuracy: 0.8284 - val_loss: 1.3878 - val_accuracy: 0.8220\n",
            "Epoch 25/30\n",
            "117/117 [==============================] - 1s 7ms/step - loss: 1.3577 - accuracy: 0.8319 - val_loss: 1.3530 - val_accuracy: 0.8258\n",
            "Epoch 26/30\n",
            "117/117 [==============================] - 1s 5ms/step - loss: 1.3232 - accuracy: 0.8343 - val_loss: 1.3199 - val_accuracy: 0.8274\n",
            "Epoch 27/30\n",
            "117/117 [==============================] - 1s 5ms/step - loss: 1.2906 - accuracy: 0.8359 - val_loss: 1.2885 - val_accuracy: 0.8291\n",
            "Epoch 28/30\n",
            "117/117 [==============================] - 1s 5ms/step - loss: 1.2596 - accuracy: 0.8372 - val_loss: 1.2587 - val_accuracy: 0.8307\n",
            "Epoch 29/30\n",
            "117/117 [==============================] - 1s 5ms/step - loss: 1.2302 - accuracy: 0.8380 - val_loss: 1.2305 - val_accuracy: 0.8307\n",
            "Epoch 30/30\n",
            "117/117 [==============================] - 1s 5ms/step - loss: 1.2025 - accuracy: 0.8388 - val_loss: 1.2038 - val_accuracy: 0.8302\n"
          ]
        }
      ]
    },
    {
      "cell_type": "markdown",
      "source": [
        "Vamos analisar o comportamento da função *loss* no decorrer das épocas:"
      ],
      "metadata": {
        "id": "SVYG8Cut07Zi"
      }
    },
    {
      "cell_type": "code",
      "source": [
        "loss = history_fine.history['loss']\n",
        "val_loss = history_fine.history['val_loss']\n",
        "\n",
        "\n",
        "plt.plot(history_fine.history['loss'])\n",
        "plt.plot(history_fine.history['val_loss'])\n",
        "plt.title('model loss')\n",
        "plt.ylabel('loss')\n",
        "plt.xlabel('epoch')\n",
        "plt.legend(['training set','validation set'], loc='upper left')\n",
        "plt.show()"
      ],
      "metadata": {
        "colab": {
          "base_uri": "https://localhost:8080/",
          "height": 295
        },
        "id": "sUDT-dn41VLH",
        "outputId": "6a3d26b2-2e3d-4bee-e5c9-26ae9c028814"
      },
      "execution_count": 29,
      "outputs": [
        {
          "output_type": "display_data",
          "data": {
            "text/plain": [
              "<Figure size 432x288 with 1 Axes>"
            ],
            "image/png": "[encoded data removed]"
          },
          "metadata": {
            "needs_background": "light"
          }
        }
      ]
    },
    {
      "cell_type": "markdown",
      "source": [
        "O comportamento acima das curvas de loss mostra que o modelo aprende bem os padrões dos dados de treinamento, ganhando mais confiança nas suas classificações. Já a curva para os dados de validação (desconhecidos para o treinamento do modelo) mostram que a *loss* se estabiliza após algumas épocas.\n",
        "\n",
        "**O que fazer para melhorar?**\n",
        "\n",
        "Dá para fazer muita coisa...\n",
        "\n",
        "*   Otimização dos hiperparâmetros: altere a quantidade de camadas intermediárias, a quantidade de neurônios em cada camada intermediária, a quantidade de épocas de treinamento, o algoritmo de otimização (veja [aqui](https://keras.io/api/optimizers/) outros otimizadores);\n",
        "*   Etapas de pré-processamento dos *tweets*: remoção de URLs, @'s, etc...\n",
        "*   A caracterização dos *tweets* (por exemplo, o [BERT](https://keras.io/examples/nlp/text_extraction_with_bert/)!)...\n",
        "\n",
        "\n",
        "### Avaliação de performance utilizando os dados de teste\n",
        "\n",
        "Agora fazemos a classificação das instâncias do conjunto de teste utilizando o método *predict*. Observe que uma matriz é gerada na saída, em que cada linha representa um *tweet* e as colunas representam:\n",
        "\n",
        "\n",
        "*   Coluna $0$: probabilidade estimada do modelo em classificar o $i$-ésimo *tweet* como sendo da classe \"0\" (polaridade negativa)\n",
        "*   Coluna $1$: probabilidade estimada do modelo em classificar o $i$-ésimo *tweet* como sendo da classe \"1\" (polaridade neutra)\n",
        "*   Coluna $2$: probabilidade estimada do modelo em classificar o $i$-ésimo *tweet* como sendo da classe \"2\" (polaridade positiva)\n",
        "\n"
      ],
      "metadata": {
        "id": "uWuQ0prhiiY4"
      }
    },
    {
      "cell_type": "code",
      "source": [
        "y = model.predict(X_test3)\n",
        "y"
      ],
      "metadata": {
        "id": "V1mox-in1dt-",
        "colab": {
          "base_uri": "https://localhost:8080/"
        },
        "outputId": "8712f4df-2c9e-4e68-9dc8-b93fa9504154"
      },
      "execution_count": 30,
      "outputs": [
        {
          "output_type": "execute_result",
          "data": {
            "text/plain": [
              "array([[0.00437201, 0.00335919, 0.00253618, ..., 0.00252988, 0.00431271,\n",
              "        0.00401239],\n",
              "       [0.00428437, 0.00313955, 0.00259072, ..., 0.0026833 , 0.00472089,\n",
              "        0.0036631 ],\n",
              "       [0.00455005, 0.00353483, 0.0028764 , ..., 0.00262928, 0.00463765,\n",
              "        0.00406493],\n",
              "       ...,\n",
              "       [0.01464352, 0.0086111 , 0.01665591, ..., 0.01973714, 0.0131097 ,\n",
              "        0.01445326],\n",
              "       [0.00681   , 0.00967312, 0.00711732, ..., 0.00323487, 0.00589692,\n",
              "        0.01062152],\n",
              "       [0.01634795, 0.06509557, 0.35965636, ..., 0.01954303, 0.01707034,\n",
              "        0.00731945]], dtype=float32)"
            ]
          },
          "metadata": {},
          "execution_count": 30
        }
      ]
    },
    {
      "cell_type": "code",
      "source": [
        "y_prob = model.predict(tfidf_test)\n",
        "y_pred = np.argmax(y_prob,axis=1)"
      ],
      "metadata": {
        "id": "ScVRiIVWk2px"
      },
      "execution_count": 31,
      "outputs": []
    },
    {
      "cell_type": "markdown",
      "source": [
        "Vamos imprimir os resultados da classificação de *invoices* para os dados de teste:"
      ],
      "metadata": {
        "id": "_QjL-SHZrl7h"
      }
    },
    {
      "cell_type": "code",
      "source": [
        "print(classification_report(y_test,y_pred))"
      ],
      "metadata": {
        "colab": {
          "base_uri": "https://localhost:8080/"
        },
        "id": "lSqjqALvrmDw",
        "outputId": "65a02d30-ad76-4c83-86f1-b82839df3093"
      },
      "execution_count": 32,
      "outputs": [
        {
          "output_type": "stream",
          "name": "stdout",
          "text": [
            "              precision    recall  f1-score   support\n",
            "\n",
            "           0       0.00      0.00      0.00         1\n",
            "           1       0.00      0.00      0.00        60\n",
            "           2       0.59      1.00      0.74       147\n",
            "           3       0.94      1.00      0.97       318\n",
            "           4       0.00      0.00      0.00         6\n",
            "           5       0.00      0.00      0.00        12\n",
            "           6       0.00      0.00      0.00        12\n",
            "           7       0.73      1.00      0.84       138\n",
            "           8       0.00      0.00      0.00        10\n",
            "           9       1.00      0.05      0.09        22\n",
            "          10       0.96      1.00      0.98       279\n",
            "          11       1.00      0.04      0.08        24\n",
            "          12       0.00      0.00      0.00         4\n",
            "          13       0.00      0.00      0.00         4\n",
            "          14       1.00      0.11      0.19        38\n",
            "          15       0.93      1.00      0.96       486\n",
            "          16       0.10      0.40      0.16         5\n",
            "          17       0.00      0.00      0.00         3\n",
            "          18       0.59      0.77      0.67        35\n",
            "          19       0.00      0.00      0.00         1\n",
            "          20       1.00      0.06      0.11        17\n",
            "          21       1.00      0.17      0.29         6\n",
            "          22       0.00      0.00      0.00         9\n",
            "          23       1.00      0.65      0.79        26\n",
            "          25       0.99      0.91      0.95        76\n",
            "          26       0.00      0.00      0.00        13\n",
            "          27       0.00      0.00      0.00         4\n",
            "          28       0.00      0.00      0.00        10\n",
            "          29       0.00      0.00      0.00         1\n",
            "          30       0.00      0.00      0.00         5\n",
            "          31       0.00      0.00      0.00        17\n",
            "          32       0.65      1.00      0.79        34\n",
            "          34       0.00      0.00      0.00         1\n",
            "          35       0.00      0.00      0.00        13\n",
            "\n",
            "    accuracy                           0.83      1837\n",
            "   macro avg       0.37      0.27      0.25      1837\n",
            "weighted avg       0.79      0.83      0.78      1837\n",
            "\n"
          ]
        },
        {
          "output_type": "stream",
          "name": "stderr",
          "text": [
            "/usr/local/lib/python3.7/dist-packages/sklearn/metrics/_classification.py:1318: UndefinedMetricWarning: Precision and F-score are ill-defined and being set to 0.0 in labels with no predicted samples. Use `zero_division` parameter to control this behavior.\n",
            "  _warn_prf(average, modifier, msg_start, len(result))\n",
            "/usr/local/lib/python3.7/dist-packages/sklearn/metrics/_classification.py:1318: UndefinedMetricWarning: Precision and F-score are ill-defined and being set to 0.0 in labels with no predicted samples. Use `zero_division` parameter to control this behavior.\n",
            "  _warn_prf(average, modifier, msg_start, len(result))\n",
            "/usr/local/lib/python3.7/dist-packages/sklearn/metrics/_classification.py:1318: UndefinedMetricWarning: Precision and F-score are ill-defined and being set to 0.0 in labels with no predicted samples. Use `zero_division` parameter to control this behavior.\n",
            "  _warn_prf(average, modifier, msg_start, len(result))\n"
          ]
        }
      ]
    },
    {
      "cell_type": "markdown",
      "source": [
        "Outra possibilidade é o uso do método *evaluate*:\n",
        "\n"
      ],
      "metadata": {
        "id": "PvAl8nUD2CQ9"
      }
    },
    {
      "cell_type": "code",
      "source": [
        "print(model.evaluate(tfidf_test,y_test_enc))"
      ],
      "metadata": {
        "id": "6RMsY7GK2E1r",
        "colab": {
          "base_uri": "https://localhost:8080/"
        },
        "outputId": "92557ff2-2c38-4b87-d513-24441f1fd9eb"
      },
      "execution_count": 34,
      "outputs": [
        {
          "output_type": "stream",
          "name": "stdout",
          "text": [
            "58/58 [==============================] - 0s 4ms/step - loss: 1.2038 - accuracy: 0.8302\n",
            "[1.203771710395813, 0.8301578760147095]\n"
          ]
        }
      ]
    }
  ]
}