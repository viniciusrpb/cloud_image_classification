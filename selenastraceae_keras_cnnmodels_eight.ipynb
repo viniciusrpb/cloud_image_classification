{
  "nbformat": 4,
  "nbformat_minor": 0,
  "metadata": {
    "kernelspec": {
      "display_name": "Python 3",
      "language": "python",
      "name": "python3"
    },
    "language_info": {
      "codemirror_mode": {
        "name": "ipython",
        "version": 3
      },
      "file_extension": ".py",
      "mimetype": "text/x-python",
      "name": "python",
      "nbconvert_exporter": "python",
      "pygments_lexer": "ipython3",
      "version": "3.6.10"
    },
    "colab": {
      "name": "selenastraceae_keras_cnnmodels.ipynb",
      "provenance": [],
      "collapsed_sections": [],
      "include_colab_link": true
    },
    "accelerator": "GPU"
  },
  "cells": [
    {
      "cell_type": "markdown",
      "metadata": {
        "id": "view-in-github",
        "colab_type": "text"
      },
      "source": [
        "<a href=\"https://colab.research.google.com/github/viniciusrpb/cloud_image_segmentation/blob/main/selenastraceae_keras_cnnmodels_eight.ipynb\" target=\"_parent\"><img src=\"https://colab.research.google.com/assets/colab-badge.svg\" alt=\"Open In Colab\"/></a>"
      ]
    },
    {
      "cell_type": "code",
      "metadata": {
        "id": "Lf68PvvD_GXN",
        "colab": {
          "base_uri": "https://localhost:8080/"
        },
        "outputId": "bbc3cf0d-9041-4d9a-c840-811a2a308911"
      },
      "source": [
        "from google.colab import drive\n",
        "drive.mount('/content/drive')"
      ],
      "execution_count": 1,
      "outputs": [
        {
          "output_type": "stream",
          "name": "stdout",
          "text": [
            "Mounted at /content/drive\n"
          ]
        }
      ]
    },
    {
      "cell_type": "markdown",
      "source": [
        "# New Section"
      ],
      "metadata": {
        "id": "uSEdHGn26Hzg"
      }
    },
    {
      "cell_type": "code",
      "metadata": {
        "id": "6o0SMmf8z9qD",
        "colab": {
          "base_uri": "https://localhost:8080/"
        },
        "outputId": "304622ce-4657-4252-a752-81d08e22cb67"
      },
      "source": [
        "!pip install tensorflow_addons"
      ],
      "execution_count": 2,
      "outputs": [
        {
          "output_type": "stream",
          "name": "stdout",
          "text": [
            "Collecting tensorflow_addons\n",
            "  Downloading tensorflow_addons-0.16.1-cp37-cp37m-manylinux_2_12_x86_64.manylinux2010_x86_64.whl (1.1 MB)\n",
            "\u001b[?25l\r\u001b[K     |▎                               | 10 kB 20.7 MB/s eta 0:00:01\r\u001b[K     |▋                               | 20 kB 9.4 MB/s eta 0:00:01\r\u001b[K     |▉                               | 30 kB 8.2 MB/s eta 0:00:01\r\u001b[K     |█▏                              | 40 kB 4.3 MB/s eta 0:00:01\r\u001b[K     |█▌                              | 51 kB 4.4 MB/s eta 0:00:01\r\u001b[K     |█▊                              | 61 kB 5.2 MB/s eta 0:00:01\r\u001b[K     |██                              | 71 kB 5.6 MB/s eta 0:00:01\r\u001b[K     |██▍                             | 81 kB 4.1 MB/s eta 0:00:01\r\u001b[K     |██▋                             | 92 kB 4.6 MB/s eta 0:00:01\r\u001b[K     |███                             | 102 kB 5.0 MB/s eta 0:00:01\r\u001b[K     |███▏                            | 112 kB 5.0 MB/s eta 0:00:01\r\u001b[K     |███▌                            | 122 kB 5.0 MB/s eta 0:00:01\r\u001b[K     |███▉                            | 133 kB 5.0 MB/s eta 0:00:01\r\u001b[K     |████                            | 143 kB 5.0 MB/s eta 0:00:01\r\u001b[K     |████▍                           | 153 kB 5.0 MB/s eta 0:00:01\r\u001b[K     |████▊                           | 163 kB 5.0 MB/s eta 0:00:01\r\u001b[K     |█████                           | 174 kB 5.0 MB/s eta 0:00:01\r\u001b[K     |█████▎                          | 184 kB 5.0 MB/s eta 0:00:01\r\u001b[K     |█████▌                          | 194 kB 5.0 MB/s eta 0:00:01\r\u001b[K     |█████▉                          | 204 kB 5.0 MB/s eta 0:00:01\r\u001b[K     |██████▏                         | 215 kB 5.0 MB/s eta 0:00:01\r\u001b[K     |██████▍                         | 225 kB 5.0 MB/s eta 0:00:01\r\u001b[K     |██████▊                         | 235 kB 5.0 MB/s eta 0:00:01\r\u001b[K     |███████                         | 245 kB 5.0 MB/s eta 0:00:01\r\u001b[K     |███████▎                        | 256 kB 5.0 MB/s eta 0:00:01\r\u001b[K     |███████▋                        | 266 kB 5.0 MB/s eta 0:00:01\r\u001b[K     |███████▉                        | 276 kB 5.0 MB/s eta 0:00:01\r\u001b[K     |████████▏                       | 286 kB 5.0 MB/s eta 0:00:01\r\u001b[K     |████████▌                       | 296 kB 5.0 MB/s eta 0:00:01\r\u001b[K     |████████▊                       | 307 kB 5.0 MB/s eta 0:00:01\r\u001b[K     |█████████                       | 317 kB 5.0 MB/s eta 0:00:01\r\u001b[K     |█████████▍                      | 327 kB 5.0 MB/s eta 0:00:01\r\u001b[K     |█████████▋                      | 337 kB 5.0 MB/s eta 0:00:01\r\u001b[K     |██████████                      | 348 kB 5.0 MB/s eta 0:00:01\r\u001b[K     |██████████▏                     | 358 kB 5.0 MB/s eta 0:00:01\r\u001b[K     |██████████▌                     | 368 kB 5.0 MB/s eta 0:00:01\r\u001b[K     |██████████▉                     | 378 kB 5.0 MB/s eta 0:00:01\r\u001b[K     |███████████                     | 389 kB 5.0 MB/s eta 0:00:01\r\u001b[K     |███████████▍                    | 399 kB 5.0 MB/s eta 0:00:01\r\u001b[K     |███████████▊                    | 409 kB 5.0 MB/s eta 0:00:01\r\u001b[K     |████████████                    | 419 kB 5.0 MB/s eta 0:00:01\r\u001b[K     |████████████▎                   | 430 kB 5.0 MB/s eta 0:00:01\r\u001b[K     |████████████▌                   | 440 kB 5.0 MB/s eta 0:00:01\r\u001b[K     |████████████▉                   | 450 kB 5.0 MB/s eta 0:00:01\r\u001b[K     |█████████████▏                  | 460 kB 5.0 MB/s eta 0:00:01\r\u001b[K     |█████████████▍                  | 471 kB 5.0 MB/s eta 0:00:01\r\u001b[K     |█████████████▊                  | 481 kB 5.0 MB/s eta 0:00:01\r\u001b[K     |██████████████                  | 491 kB 5.0 MB/s eta 0:00:01\r\u001b[K     |██████████████▎                 | 501 kB 5.0 MB/s eta 0:00:01\r\u001b[K     |██████████████▋                 | 512 kB 5.0 MB/s eta 0:00:01\r\u001b[K     |██████████████▉                 | 522 kB 5.0 MB/s eta 0:00:01\r\u001b[K     |███████████████▏                | 532 kB 5.0 MB/s eta 0:00:01\r\u001b[K     |███████████████▌                | 542 kB 5.0 MB/s eta 0:00:01\r\u001b[K     |███████████████▊                | 552 kB 5.0 MB/s eta 0:00:01\r\u001b[K     |████████████████                | 563 kB 5.0 MB/s eta 0:00:01\r\u001b[K     |████████████████▍               | 573 kB 5.0 MB/s eta 0:00:01\r\u001b[K     |████████████████▋               | 583 kB 5.0 MB/s eta 0:00:01\r\u001b[K     |█████████████████               | 593 kB 5.0 MB/s eta 0:00:01\r\u001b[K     |█████████████████▏              | 604 kB 5.0 MB/s eta 0:00:01\r\u001b[K     |█████████████████▌              | 614 kB 5.0 MB/s eta 0:00:01\r\u001b[K     |█████████████████▉              | 624 kB 5.0 MB/s eta 0:00:01\r\u001b[K     |██████████████████              | 634 kB 5.0 MB/s eta 0:00:01\r\u001b[K     |██████████████████▍             | 645 kB 5.0 MB/s eta 0:00:01\r\u001b[K     |██████████████████▊             | 655 kB 5.0 MB/s eta 0:00:01\r\u001b[K     |███████████████████             | 665 kB 5.0 MB/s eta 0:00:01\r\u001b[K     |███████████████████▎            | 675 kB 5.0 MB/s eta 0:00:01\r\u001b[K     |███████████████████▌            | 686 kB 5.0 MB/s eta 0:00:01\r\u001b[K     |███████████████████▉            | 696 kB 5.0 MB/s eta 0:00:01\r\u001b[K     |████████████████████▏           | 706 kB 5.0 MB/s eta 0:00:01\r\u001b[K     |████████████████████▍           | 716 kB 5.0 MB/s eta 0:00:01\r\u001b[K     |████████████████████▊           | 727 kB 5.0 MB/s eta 0:00:01\r\u001b[K     |█████████████████████           | 737 kB 5.0 MB/s eta 0:00:01\r\u001b[K     |█████████████████████▎          | 747 kB 5.0 MB/s eta 0:00:01\r\u001b[K     |█████████████████████▋          | 757 kB 5.0 MB/s eta 0:00:01\r\u001b[K     |█████████████████████▉          | 768 kB 5.0 MB/s eta 0:00:01\r\u001b[K     |██████████████████████▏         | 778 kB 5.0 MB/s eta 0:00:01\r\u001b[K     |██████████████████████▌         | 788 kB 5.0 MB/s eta 0:00:01\r\u001b[K     |██████████████████████▊         | 798 kB 5.0 MB/s eta 0:00:01\r\u001b[K     |███████████████████████         | 808 kB 5.0 MB/s eta 0:00:01\r\u001b[K     |███████████████████████▍        | 819 kB 5.0 MB/s eta 0:00:01\r\u001b[K     |███████████████████████▋        | 829 kB 5.0 MB/s eta 0:00:01\r\u001b[K     |████████████████████████        | 839 kB 5.0 MB/s eta 0:00:01\r\u001b[K     |████████████████████████▏       | 849 kB 5.0 MB/s eta 0:00:01\r\u001b[K     |████████████████████████▌       | 860 kB 5.0 MB/s eta 0:00:01\r\u001b[K     |████████████████████████▉       | 870 kB 5.0 MB/s eta 0:00:01\r\u001b[K     |█████████████████████████       | 880 kB 5.0 MB/s eta 0:00:01\r\u001b[K     |█████████████████████████▍      | 890 kB 5.0 MB/s eta 0:00:01\r\u001b[K     |█████████████████████████▊      | 901 kB 5.0 MB/s eta 0:00:01\r\u001b[K     |██████████████████████████      | 911 kB 5.0 MB/s eta 0:00:01\r\u001b[K     |██████████████████████████▎     | 921 kB 5.0 MB/s eta 0:00:01\r\u001b[K     |██████████████████████████▌     | 931 kB 5.0 MB/s eta 0:00:01\r\u001b[K     |██████████████████████████▉     | 942 kB 5.0 MB/s eta 0:00:01\r\u001b[K     |███████████████████████████▏    | 952 kB 5.0 MB/s eta 0:00:01\r\u001b[K     |███████████████████████████▍    | 962 kB 5.0 MB/s eta 0:00:01\r\u001b[K     |███████████████████████████▊    | 972 kB 5.0 MB/s eta 0:00:01\r\u001b[K     |████████████████████████████    | 983 kB 5.0 MB/s eta 0:00:01\r\u001b[K     |████████████████████████████▎   | 993 kB 5.0 MB/s eta 0:00:01\r\u001b[K     |████████████████████████████▋   | 1.0 MB 5.0 MB/s eta 0:00:01\r\u001b[K     |████████████████████████████▉   | 1.0 MB 5.0 MB/s eta 0:00:01\r\u001b[K     |█████████████████████████████▏  | 1.0 MB 5.0 MB/s eta 0:00:01\r\u001b[K     |█████████████████████████████▌  | 1.0 MB 5.0 MB/s eta 0:00:01\r\u001b[K     |█████████████████████████████▊  | 1.0 MB 5.0 MB/s eta 0:00:01\r\u001b[K     |██████████████████████████████  | 1.1 MB 5.0 MB/s eta 0:00:01\r\u001b[K     |██████████████████████████████▍ | 1.1 MB 5.0 MB/s eta 0:00:01\r\u001b[K     |██████████████████████████████▋ | 1.1 MB 5.0 MB/s eta 0:00:01\r\u001b[K     |███████████████████████████████ | 1.1 MB 5.0 MB/s eta 0:00:01\r\u001b[K     |███████████████████████████████▏| 1.1 MB 5.0 MB/s eta 0:00:01\r\u001b[K     |███████████████████████████████▌| 1.1 MB 5.0 MB/s eta 0:00:01\r\u001b[K     |███████████████████████████████▉| 1.1 MB 5.0 MB/s eta 0:00:01\r\u001b[K     |████████████████████████████████| 1.1 MB 5.0 MB/s \n",
            "\u001b[?25hRequirement already satisfied: typeguard>=2.7 in /usr/local/lib/python3.7/dist-packages (from tensorflow_addons) (2.7.1)\n",
            "Installing collected packages: tensorflow-addons\n",
            "Successfully installed tensorflow-addons-0.16.1\n"
          ]
        }
      ]
    },
    {
      "cell_type": "code",
      "metadata": {
        "id": "voJBV5X_g0B6"
      },
      "source": [
        "#!cp -r \"/content/drive/My Drive/alga/aug_roi_train_bin\" \"aug_roi_train_bin\"\n",
        "#!cp -r \"/content/drive/My Drive/alga/roi_validation_bin\" \"roi_validation_bin\"\n",
        "#!cp -r \"/content/drive/My Drive/alga/roi_test_bin\" \"roi_test_bin\"\n",
        "#!cp -r \"/content/drive/My Drive/alga/roi_train_bin\" \"roi_train_bin\"\n",
        "\n",
        "!cp -r \"/content/drive/My Drive/alga/aug_roi_train\" \"aug_roi_train\"\n",
        "!cp -r \"/content/drive/My Drive/alga/roi_validation\" \"roi_validation\"\n",
        "!cp -r \"/content/drive/My Drive/alga/roi_test\" \"roi_test\"\n",
        "!cp -r \"/content/drive/My Drive/alga/roi_train\" \"roi_train\"\n",
        "\n",
        "#!cp -r \"/content/drive/My Drive/alga/aug_roi_train\" \"aug_roi_train\"\n",
        "#!cp -r \"/content/drive/My Drive/alga/roi_validation_four\" \"roi_validation_four\"\n",
        "#!cp -r \"/content/drive/My Drive/alga/roi_test_four\" \"roi_test_four\"\n",
        "#!cp -r \"/content/drive/My Drive/alga/roi_train_four\" \"roi_train_four\""
      ],
      "execution_count": 3,
      "outputs": []
    },
    {
      "cell_type": "code",
      "metadata": {
        "id": "W384maMHy7Yc"
      },
      "source": [
        "import tensorflow as tf\n",
        "from tensorflow.keras.optimizers import RMSprop\n",
        "from tensorflow.keras.preprocessing.image import ImageDataGenerator\n",
        "from keras.layers import Dense,GlobalAveragePooling2D ,MaxPooling2D,Activation,Flatten,Conv2D,BatchNormalization,Dropout\n",
        "from tensorflow.keras import layers\n",
        "from tensorflow.keras import Model\n",
        "from keras.models import Sequential\n",
        "from tensorflow.keras.optimizers import SGD\n",
        "import matplotlib.pyplot as plt\n",
        "from sklearn.metrics import classification_report\n",
        "from sklearn.metrics import confusion_matrix\n",
        "import numpy as np\n",
        "import tensorflow_addons as tfa"
      ],
      "execution_count": 4,
      "outputs": []
    },
    {
      "cell_type": "code",
      "metadata": {
        "id": "ThJjNtJBi900"
      },
      "source": [
        "path_train = 'roi_train'\n",
        "path_validation = 'roi_validation'\n",
        "path_test = 'roi_test'"
      ],
      "execution_count": 5,
      "outputs": []
    },
    {
      "cell_type": "markdown",
      "metadata": {
        "id": "3-0nc-LxNSF2"
      },
      "source": [
        "# Pretrained GoogLeNet model using ImageNet\n"
      ]
    },
    {
      "cell_type": "code",
      "metadata": {
        "id": "yWx2apyg_GXQ",
        "colab": {
          "base_uri": "https://localhost:8080/"
        },
        "outputId": "a72c335f-b4ed-4f33-bbdc-e30f3908cde0"
      },
      "source": [
        "from tensorflow.keras.applications.inception_v3 import InceptionV3\n",
        "\n",
        "pre_trained_model = InceptionV3(input_shape=(224,224,3),include_top=False,weights='imagenet')\n",
        "\n",
        "for layer in pre_trained_model.layers:\n",
        "  layer.trainable = False"
      ],
      "execution_count": 6,
      "outputs": [
        {
          "output_type": "stream",
          "name": "stdout",
          "text": [
            "Downloading data from https://storage.googleapis.com/tensorflow/keras-applications/inception_v3/inception_v3_weights_tf_dim_ordering_tf_kernels_notop.h5\n",
            "87916544/87910968 [==============================] - 2s 0us/step\n",
            "87924736/87910968 [==============================] - 2s 0us/step\n"
          ]
        }
      ]
    },
    {
      "cell_type": "markdown",
      "metadata": {
        "id": "Q8ZNyeF4v9FL"
      },
      "source": [
        "Hyperparameters"
      ]
    },
    {
      "cell_type": "code",
      "metadata": {
        "id": "js1kaBFGv9MD"
      },
      "source": [
        "batch_size = 8\n",
        "epochs=30"
      ],
      "execution_count": 7,
      "outputs": []
    },
    {
      "cell_type": "markdown",
      "metadata": {
        "id": "sHw1dYWP_GXV"
      },
      "source": [
        "### Data augmentation"
      ]
    },
    {
      "cell_type": "code",
      "metadata": {
        "id": "qh3pPvvDzvEq"
      },
      "source": [
        "train_datagen = ImageDataGenerator(rescale=1. / 255)\n",
        "\n",
        "validation_datagen = ImageDataGenerator(rescale=1. / 255)\n",
        "\n",
        "test_datagen = ImageDataGenerator(rescale=1. / 255)"
      ],
      "execution_count": 8,
      "outputs": []
    },
    {
      "cell_type": "markdown",
      "metadata": {
        "id": "mfA7Ta99wW_a"
      },
      "source": [
        "Read the images"
      ]
    },
    {
      "cell_type": "code",
      "metadata": {
        "colab": {
          "base_uri": "https://localhost:8080/"
        },
        "id": "c5Fpl71WwXGa",
        "outputId": "1f6fd584-9aa0-45ac-810a-8597dac57347"
      },
      "source": [
        "# Flow training images in batches of 20 using train_datagen generator\n",
        "train_generator = train_datagen.flow_from_directory(path_train,\n",
        "                                                    batch_size = batch_size,\n",
        "                                                    class_mode = 'categorical', \n",
        "                                                    target_size = (224, 224))     \n",
        "\n",
        "# Flow validation images in batches of 20 using test_datagen generator\n",
        "validation_generator =  validation_datagen.flow_from_directory( path_validation,\n",
        "                                                          batch_size  = batch_size,\n",
        "                                                          class_mode  = 'categorical', \n",
        "                                                          target_size = (224, 224))\n",
        "\n",
        "test_generator =  test_datagen.flow_from_directory( path_test,\n",
        "                                                          batch_size  = batch_size,\n",
        "                                                          class_mode  = 'categorical', \n",
        "                                                          target_size = (224, 224))"
      ],
      "execution_count": 9,
      "outputs": [
        {
          "output_type": "stream",
          "name": "stdout",
          "text": [
            "Found 217 images belonging to 8 classes.\n",
            "Found 51 images belonging to 8 classes.\n",
            "Found 107 images belonging to 8 classes.\n"
          ]
        }
      ]
    },
    {
      "cell_type": "markdown",
      "metadata": {
        "id": "JV5TTVwGtY1p"
      },
      "source": [
        "Hyper-parameters"
      ]
    },
    {
      "cell_type": "code",
      "metadata": {
        "id": "fcNysNaZtY74"
      },
      "source": [
        "number_of_neurons = 200\n",
        "number_of_classes = validation_generator.class_indices"
      ],
      "execution_count": 10,
      "outputs": []
    },
    {
      "cell_type": "markdown",
      "metadata": {
        "id": "Qh_m54z-5VW8"
      },
      "source": [
        "Lets see some samples"
      ]
    },
    {
      "cell_type": "code",
      "metadata": {
        "id": "mDvSxorK_GXV"
      },
      "source": [
        "model = Sequential()\n",
        "\n",
        "model.add(pre_trained_model)\n",
        "\n",
        "model.add(GlobalAveragePooling2D())\n",
        "model.add(Flatten())\n",
        "#model.add(BatchNormalization())\n",
        "\n",
        "# 1st hidden layer: 300 neurons\n",
        "#model.add(Dense(number_of_neurons,activation=\"relu\"))\n",
        "#model.add(Dropout(0.2))\n",
        "\n",
        "# 2nd hidden layer : 150 neurons\n",
        "model.add(Dense(number_of_neurons,activation=\"relu\"))\n",
        "model.add(BatchNormalization())\n",
        "model.add(Dropout(0.2))\n",
        "\n",
        "# 3rd hidden layer : 75 neurons\n",
        "#model.add(Dense(number_of_neurons//2,activation=\"relu\"))\n",
        "#model.add(BatchNormalization())\n",
        "#model.add(Dropout(0.2))\n",
        "\n",
        "model.add(Dense(8,activation=\"softmax\"))"
      ],
      "execution_count": 11,
      "outputs": []
    },
    {
      "cell_type": "code",
      "metadata": {
        "id": "sqeVzAQhsj6i"
      },
      "source": [
        "#sgd = SGD(learning_rate=0.001,decay=1e-6,  nesterov=True)\n",
        "\n",
        "f1_score = tfa.metrics.F1Score(num_classes=8, average='macro',threshold=0.5)\n",
        "\n",
        "#model.compile(optimizer = sgd, \n",
        "#              loss = 'categorical_crossentropy', \n",
        "#              metrics = 'accuracy')\n",
        "            #metrics = ['accuracy',f1_score])\n",
        "\n",
        "model.compile(optimizer = tf.keras.optimizers.Adam(learning_rate=0.0005,decay=0.01), \n",
        "              loss = 'categorical_crossentropy', \n",
        "              metrics = ['accuracy',f1_score])\n",
        "            #metrics = ['accuracy',f1_score])"
      ],
      "execution_count": 12,
      "outputs": []
    },
    {
      "cell_type": "code",
      "metadata": {
        "id": "c9zT6oaF_GXX",
        "colab": {
          "base_uri": "https://localhost:8080/"
        },
        "outputId": "3c964048-a728-4d93-d5f2-06672ab06236"
      },
      "source": [
        "history_fine = model.fit(train_generator,\n",
        "                         epochs=epochs,\n",
        "                         validation_data=validation_generator\n",
        "                         #initial_epoch=history.epoch[-1],\n",
        "                         )"
      ],
      "execution_count": 13,
      "outputs": [
        {
          "output_type": "stream",
          "name": "stdout",
          "text": [
            "Epoch 1/30\n",
            "28/28 [==============================] - 36s 217ms/step - loss: 1.4513 - accuracy: 0.5760 - f1_score: 0.4469 - val_loss: 1.4785 - val_accuracy: 0.4902 - val_f1_score: 0.3355\n",
            "Epoch 2/30\n",
            "28/28 [==============================] - 3s 89ms/step - loss: 0.4384 - accuracy: 0.8664 - f1_score: 0.8006 - val_loss: 1.0371 - val_accuracy: 0.6471 - val_f1_score: 0.5532\n",
            "Epoch 3/30\n",
            "28/28 [==============================] - 2s 88ms/step - loss: 0.2451 - accuracy: 0.9493 - f1_score: 0.9427 - val_loss: 0.8225 - val_accuracy: 0.7059 - val_f1_score: 0.6300\n",
            "Epoch 4/30\n",
            "28/28 [==============================] - 2s 88ms/step - loss: 0.2047 - accuracy: 0.9493 - f1_score: 0.9383 - val_loss: 0.7311 - val_accuracy: 0.8039 - val_f1_score: 0.7073\n",
            "Epoch 5/30\n",
            "28/28 [==============================] - 2s 87ms/step - loss: 0.1546 - accuracy: 0.9677 - f1_score: 0.9687 - val_loss: 0.6577 - val_accuracy: 0.8039 - val_f1_score: 0.7333\n",
            "Epoch 6/30\n",
            "28/28 [==============================] - 3s 89ms/step - loss: 0.1228 - accuracy: 0.9816 - f1_score: 0.9674 - val_loss: 0.6636 - val_accuracy: 0.8039 - val_f1_score: 0.7464\n",
            "Epoch 7/30\n",
            "28/28 [==============================] - 3s 89ms/step - loss: 0.0862 - accuracy: 0.9954 - f1_score: 0.9826 - val_loss: 0.6312 - val_accuracy: 0.7843 - val_f1_score: 0.7323\n",
            "Epoch 8/30\n",
            "28/28 [==============================] - 3s 90ms/step - loss: 0.0793 - accuracy: 0.9908 - f1_score: 0.9750 - val_loss: 0.6034 - val_accuracy: 0.8039 - val_f1_score: 0.7663\n",
            "Epoch 9/30\n",
            "28/28 [==============================] - 2s 89ms/step - loss: 0.0714 - accuracy: 0.9954 - f1_score: 0.9971 - val_loss: 0.6134 - val_accuracy: 0.7843 - val_f1_score: 0.7839\n",
            "Epoch 10/30\n",
            "28/28 [==============================] - 2s 88ms/step - loss: 0.0890 - accuracy: 0.9816 - f1_score: 0.9770 - val_loss: 0.6067 - val_accuracy: 0.7843 - val_f1_score: 0.7667\n",
            "Epoch 11/30\n",
            "28/28 [==============================] - 2s 88ms/step - loss: 0.0825 - accuracy: 0.9954 - f1_score: 0.9922 - val_loss: 0.6093 - val_accuracy: 0.7843 - val_f1_score: 0.7744\n",
            "Epoch 12/30\n",
            "28/28 [==============================] - 2s 88ms/step - loss: 0.0481 - accuracy: 0.9954 - f1_score: 0.9889 - val_loss: 0.6263 - val_accuracy: 0.8039 - val_f1_score: 0.7880\n",
            "Epoch 13/30\n",
            "28/28 [==============================] - 2s 88ms/step - loss: 0.0533 - accuracy: 0.9954 - f1_score: 0.9931 - val_loss: 0.6246 - val_accuracy: 0.8039 - val_f1_score: 0.7975\n",
            "Epoch 14/30\n",
            "28/28 [==============================] - 3s 89ms/step - loss: 0.0662 - accuracy: 0.9908 - f1_score: 0.9885 - val_loss: 0.6364 - val_accuracy: 0.8039 - val_f1_score: 0.7839\n",
            "Epoch 15/30\n",
            "28/28 [==============================] - 2s 88ms/step - loss: 0.0654 - accuracy: 0.9908 - f1_score: 0.9885 - val_loss: 0.5868 - val_accuracy: 0.7843 - val_f1_score: 0.7817\n",
            "Epoch 16/30\n",
            "28/28 [==============================] - 3s 89ms/step - loss: 0.0540 - accuracy: 0.9954 - f1_score: 0.9962 - val_loss: 0.5913 - val_accuracy: 0.7843 - val_f1_score: 0.7741\n",
            "Epoch 17/30\n",
            "28/28 [==============================] - 3s 88ms/step - loss: 0.0444 - accuracy: 0.9954 - f1_score: 0.9942 - val_loss: 0.6084 - val_accuracy: 0.7843 - val_f1_score: 0.7630\n",
            "Epoch 18/30\n",
            "28/28 [==============================] - 3s 91ms/step - loss: 0.0430 - accuracy: 0.9954 - f1_score: 0.9991 - val_loss: 0.6236 - val_accuracy: 0.7647 - val_f1_score: 0.7480\n",
            "Epoch 19/30\n",
            "28/28 [==============================] - 3s 89ms/step - loss: 0.0383 - accuracy: 0.9954 - f1_score: 0.9991 - val_loss: 0.6176 - val_accuracy: 0.7647 - val_f1_score: 0.7480\n",
            "Epoch 20/30\n",
            "28/28 [==============================] - 3s 89ms/step - loss: 0.0308 - accuracy: 0.9954 - f1_score: 0.9991 - val_loss: 0.6112 - val_accuracy: 0.7647 - val_f1_score: 0.7480\n",
            "Epoch 21/30\n",
            "28/28 [==============================] - 3s 89ms/step - loss: 0.0493 - accuracy: 0.9908 - f1_score: 0.9894 - val_loss: 0.6174 - val_accuracy: 0.7647 - val_f1_score: 0.7480\n",
            "Epoch 22/30\n",
            "28/28 [==============================] - 3s 89ms/step - loss: 0.0528 - accuracy: 0.9908 - f1_score: 0.9920 - val_loss: 0.6353 - val_accuracy: 0.7647 - val_f1_score: 0.7480\n",
            "Epoch 23/30\n",
            "28/28 [==============================] - 2s 89ms/step - loss: 0.0438 - accuracy: 0.9954 - f1_score: 0.9917 - val_loss: 0.6383 - val_accuracy: 0.7647 - val_f1_score: 0.7556\n",
            "Epoch 24/30\n",
            "28/28 [==============================] - 3s 99ms/step - loss: 0.0376 - accuracy: 1.0000 - f1_score: 0.9990 - val_loss: 0.6241 - val_accuracy: 0.7647 - val_f1_score: 0.7480\n",
            "Epoch 25/30\n",
            "28/28 [==============================] - 3s 99ms/step - loss: 0.0476 - accuracy: 0.9954 - f1_score: 0.9922 - val_loss: 0.6410 - val_accuracy: 0.7647 - val_f1_score: 0.7480\n",
            "Epoch 26/30\n",
            "28/28 [==============================] - 3s 89ms/step - loss: 0.0460 - accuracy: 1.0000 - f1_score: 0.9990 - val_loss: 0.6448 - val_accuracy: 0.7647 - val_f1_score: 0.7480\n",
            "Epoch 27/30\n",
            "28/28 [==============================] - 3s 90ms/step - loss: 0.0343 - accuracy: 0.9954 - f1_score: 0.9991 - val_loss: 0.6546 - val_accuracy: 0.7451 - val_f1_score: 0.7480\n",
            "Epoch 28/30\n",
            "28/28 [==============================] - 3s 104ms/step - loss: 0.0425 - accuracy: 0.9908 - f1_score: 0.9942 - val_loss: 0.6695 - val_accuracy: 0.7451 - val_f1_score: 0.7480\n",
            "Epoch 29/30\n",
            "28/28 [==============================] - 2s 89ms/step - loss: 0.0373 - accuracy: 0.9954 - f1_score: 0.9982 - val_loss: 0.6622 - val_accuracy: 0.7451 - val_f1_score: 0.7480\n",
            "Epoch 30/30\n",
            "28/28 [==============================] - 3s 90ms/step - loss: 0.0282 - accuracy: 1.0000 - f1_score: 0.9990 - val_loss: 0.6609 - val_accuracy: 0.7451 - val_f1_score: 0.7556\n"
          ]
        }
      ]
    },
    {
      "cell_type": "code",
      "metadata": {
        "id": "1WFZwVEg_GXb"
      },
      "source": [
        "#f1 = history_fine.history['f1_score']\n",
        "#val_f1 = history_fine.history['val_f1_score']\n",
        "\n",
        "#plt.figure(figsize=(8, 8))\n",
        "#plt.subplot(2, 1, 1)\n",
        "#plt.plot(f1, label='Training F1-Score')\n",
        "#plt.plot(val_f1, label='Validation F1-Score')\n",
        "#plt.legend(loc='lower right')\n",
        "#plt.ylabel('F1-Score')\n",
        "#plt.ylim([min(plt.ylim()),1])\n",
        "#plt.title('Training and Validation F1-Score')\n"
      ],
      "execution_count": 14,
      "outputs": []
    },
    {
      "cell_type": "code",
      "source": [
        "f1 = history_fine.history['accuracy']\n",
        "val_f1 = history_fine.history['val_accuracy']\n",
        "\n",
        "plt.figure(figsize=(8, 8))\n",
        "plt.subplot(2, 1, 1)\n",
        "plt.plot(f1, label='Training F1-Score')\n",
        "plt.plot(val_f1, label='Validation F1-Score')\n",
        "plt.legend(loc='lower right')\n",
        "plt.ylabel('F1-Score')\n",
        "plt.ylim([min(plt.ylim()),1])\n",
        "plt.title('Training and Validation F1-Score')\n"
      ],
      "metadata": {
        "colab": {
          "base_uri": "https://localhost:8080/",
          "height": 279
        },
        "id": "fOSIrhK5g1ZF",
        "outputId": "6fd831a2-5913-4926-a75b-7e4b9b2e73b5"
      },
      "execution_count": 15,
      "outputs": [
        {
          "output_type": "execute_result",
          "data": {
            "text/plain": [
              "Text(0.5, 1.0, 'Training and Validation F1-Score')"
            ]
          },
          "metadata": {},
          "execution_count": 15
        },
        {
          "output_type": "display_data",
          "data": {
            "text/plain": [
              "<Figure size 576x576 with 1 Axes>"
            ],
            "image/png": "[encoded data removed]"
          },
          "metadata": {
            "needs_background": "light"
          }
        }
      ]
    },
    {
      "cell_type": "code",
      "metadata": {
        "id": "Q8ENVvZSrKrS",
        "colab": {
          "base_uri": "https://localhost:8080/",
          "height": 295
        },
        "outputId": "f0d304a6-c15a-41a4-d6c3-8871d6c1de9c"
      },
      "source": [
        "loss = history_fine.history['loss']\n",
        "val_loss = history_fine.history['val_loss']\n",
        "\n",
        "plt.plot(history_fine.history['loss'])\n",
        "plt.plot(history_fine.history['val_loss'])\n",
        "plt.title('model loss')\n",
        "plt.ylabel('loss')\n",
        "plt.xlabel('epoch')\n",
        "plt.legend(['training set', 'validation set'], loc='upper left')\n",
        "plt.show()"
      ],
      "execution_count": 16,
      "outputs": [
        {
          "output_type": "display_data",
          "data": {
            "text/plain": [
              "<Figure size 432x288 with 1 Axes>"
            ],
            "image/png": "[encoded data removed]"
          },
          "metadata": {
            "needs_background": "light"
          }
        }
      ]
    },
    {
      "cell_type": "code",
      "source": [
        "score = model.evaluate(test_generator,batch_size=batch_size) \n",
        "print(f'Test loss: {score[0]} / Test accuracy: {score[1]}')"
      ],
      "metadata": {
        "colab": {
          "base_uri": "https://localhost:8080/"
        },
        "id": "g2VR_adbrsUp",
        "outputId": "91124f05-b1d2-44e3-c4d8-e62f18389bf5"
      },
      "execution_count": 17,
      "outputs": [
        {
          "output_type": "stream",
          "name": "stdout",
          "text": [
            "14/14 [==============================] - 1s 85ms/step - loss: 0.8107 - accuracy: 0.7477 - f1_score: 0.7467\n",
            "Test loss: 0.810742199420929 / Test accuracy: 0.7476635575294495\n"
          ]
        }
      ]
    },
    {
      "cell_type": "code",
      "source": [
        ""
      ],
      "metadata": {
        "id": "mxFnz7J7NY1Z"
      },
      "execution_count": 17,
      "outputs": []
    },
    {
      "cell_type": "markdown",
      "metadata": {
        "id": "zFraRq9i9FNA"
      },
      "source": [
        ""
      ]
    },
    {
      "cell_type": "code",
      "metadata": {
        "id": "RXFG_Bn19FTX",
        "colab": {
          "base_uri": "https://localhost:8080/"
        },
        "outputId": "74ed2b27-4a22-4179-d0fe-d01df8806ed3"
      },
      "source": [
        "#y_prob = model.predict(test_generator,batch_size=batch_size)\n",
        "#y_pred = np.argmax(y_prob,axis=1)\n",
        "\n",
        "y_prob = model.predict(test_generator)\n",
        "y_pred = np.argmax(y_prob,axis=1)\n",
        "#print(pred, labels[np.argmax(pred)])\n",
        "print(classification_report(test_generator.classes,y_pred))"
      ],
      "execution_count": 18,
      "outputs": [
        {
          "output_type": "stream",
          "name": "stdout",
          "text": [
            "              precision    recall  f1-score   support\n",
            "\n",
            "           0       0.00      0.00      0.00         9\n",
            "           1       0.00      0.00      0.00         9\n",
            "           2       0.43      0.35      0.39        17\n",
            "           3       0.29      0.27      0.28        22\n",
            "           4       0.08      0.08      0.08        13\n",
            "           5       0.00      0.00      0.00        13\n",
            "           6       0.19      0.30      0.23        10\n",
            "           7       0.00      0.00      0.00        14\n",
            "\n",
            "    accuracy                           0.15       107\n",
            "   macro avg       0.12      0.13      0.12       107\n",
            "weighted avg       0.15      0.15      0.15       107\n",
            "\n"
          ]
        }
      ]
    },
    {
      "cell_type": "code",
      "source": [
        "y_prob"
      ],
      "metadata": {
        "colab": {
          "base_uri": "https://localhost:8080/"
        },
        "id": "0gCeN5zQyylW",
        "outputId": "61bcf481-d055-4ea5-b5a2-5092bdb64499"
      },
      "execution_count": 19,
      "outputs": [
        {
          "output_type": "execute_result",
          "data": {
            "text/plain": [
              "array([[1.21967832e-03, 9.87371564e-01, 3.70008551e-04, 2.65403098e-04,\n",
              "        7.43508153e-03, 8.23418261e-04, 2.32723728e-03, 1.87715734e-04],\n",
              "       [2.33067447e-04, 4.52018394e-05, 8.24585736e-01, 4.13092144e-04,\n",
              "        1.39400117e-05, 1.73212275e-01, 1.36022002e-03, 1.36468705e-04],\n",
              "       [1.59959216e-02, 7.76489731e-03, 8.50059032e-01, 1.49793411e-03,\n",
              "        9.28776535e-06, 5.13770021e-02, 7.14807734e-02, 1.81513652e-03],\n",
              "       [7.15932911e-05, 1.50498730e-04, 5.92492661e-03, 2.64354021e-04,\n",
              "        4.10374560e-06, 1.09419972e-03, 9.92489338e-01, 1.02274203e-06],\n",
              "       [2.55856849e-03, 1.26075349e-03, 1.44057702e-02, 8.69949400e-01,\n",
              "        1.94889690e-05, 4.12394246e-03, 1.02163069e-01, 5.51900780e-03],\n",
              "       [6.39014132e-03, 1.87825738e-03, 8.24259687e-03, 7.81060159e-01,\n",
              "        8.40422511e-03, 4.62213717e-02, 1.32003976e-02, 1.34602785e-01],\n",
              "       [1.25334380e-04, 1.05210947e-05, 2.33452636e-04, 5.09237521e-04,\n",
              "        8.70569784e-06, 9.99043286e-01, 4.12028712e-05, 2.82121673e-05],\n",
              "       [1.62893487e-03, 3.93380404e-01, 6.79832604e-03, 3.46645480e-04,\n",
              "        2.18030959e-02, 6.89096341e-04, 4.64018900e-04, 5.74889481e-01],\n",
              "       [1.47682270e-02, 6.94993325e-03, 1.86784589e-03, 1.77894870e-03,\n",
              "        2.82948790e-03, 1.97109138e-03, 4.77330206e-04, 9.69357133e-01],\n",
              "       [1.79170534e-01, 3.86835425e-03, 2.10630074e-02, 6.58002913e-01,\n",
              "        5.61970612e-03, 1.61357988e-02, 6.97927624e-02, 4.63469662e-02],\n",
              "       [2.86650984e-03, 2.02708947e-03, 2.41204165e-02, 9.41021892e-04,\n",
              "        5.63058653e-04, 4.75134961e-02, 3.05584236e-03, 9.18912590e-01],\n",
              "       [2.38927361e-02, 2.43155919e-02, 5.07745408e-02, 5.69805549e-03,\n",
              "        2.67042145e-02, 1.09552434e-02, 2.23454814e-02, 8.35314035e-01],\n",
              "       [2.04801140e-03, 3.02596949e-04, 5.52064240e-01, 1.11801736e-03,\n",
              "        2.02441093e-04, 4.04629588e-01, 1.75736677e-02, 2.20615231e-02],\n",
              "       [3.73234600e-03, 2.96171219e-03, 8.46682023e-03, 8.65159631e-02,\n",
              "        1.04127370e-03, 5.72262704e-03, 8.89314473e-01, 2.24470068e-03],\n",
              "       [2.23010153e-04, 3.68275889e-03, 3.91415544e-02, 3.75458365e-03,\n",
              "        9.34008956e-01, 3.03241308e-03, 1.55421477e-02, 6.14577439e-04],\n",
              "       [1.87477890e-05, 2.84070265e-05, 1.33560286e-04, 1.48642866e-04,\n",
              "        7.87869965e-08, 7.47614322e-05, 1.45136990e-04, 9.99450743e-01],\n",
              "       [6.82402169e-05, 2.94870260e-05, 4.77300753e-04, 8.68204879e-05,\n",
              "        7.40436803e-07, 3.20065970e-04, 9.99009013e-01, 8.38966025e-06],\n",
              "       [1.62055585e-04, 1.04471565e-05, 9.45861466e-05, 9.99443471e-01,\n",
              "        1.82641509e-06, 4.79700575e-05, 4.26244551e-05, 1.96993875e-04],\n",
              "       [7.12935030e-02, 2.44198251e-03, 2.07428588e-03, 5.24224401e-01,\n",
              "        3.60836327e-01, 3.52492258e-02, 3.83084733e-03, 4.94148335e-05],\n",
              "       [2.60196655e-04, 1.04433822e-03, 2.04005279e-04, 1.27806488e-04,\n",
              "        9.31562283e-07, 9.94764090e-01, 3.55054461e-03, 4.80436793e-05],\n",
              "       [2.51848996e-06, 6.62235198e-06, 8.37134212e-06, 8.59234297e-06,\n",
              "        9.99955535e-01, 7.68269274e-06, 1.07054666e-05, 2.63837325e-08],\n",
              "       [1.96524840e-02, 1.97314303e-02, 3.76875669e-01, 2.17901007e-03,\n",
              "        3.65934148e-03, 5.57230562e-02, 4.44304436e-01, 7.78746307e-02],\n",
              "       [1.69593259e-03, 5.96370501e-03, 9.01781321e-01, 8.41095392e-03,\n",
              "        8.57602339e-04, 2.71499362e-02, 1.56454630e-02, 3.84951048e-02],\n",
              "       [9.31417570e-04, 2.15805671e-03, 3.34396720e-01, 4.45509882e-04,\n",
              "        3.25883098e-04, 2.16616660e-01, 4.43673372e-01, 1.45233469e-03],\n",
              "       [1.19736688e-02, 6.01728586e-03, 3.62755284e-02, 8.65928710e-01,\n",
              "        2.39710743e-03, 1.22623853e-02, 6.33444712e-02, 1.80088612e-03],\n",
              "       [1.85903045e-03, 3.48879315e-04, 6.18232727e-01, 5.20932139e-04,\n",
              "        6.04984962e-06, 8.25853646e-03, 3.60220969e-01, 1.05529418e-02],\n",
              "       [5.68671478e-03, 3.84046393e-03, 8.66534829e-01, 1.00333318e-02,\n",
              "        2.34923116e-03, 3.29348370e-02, 4.31356253e-03, 7.43071139e-02],\n",
              "       [1.07691402e-03, 7.22029865e-01, 8.70550144e-03, 1.94236275e-03,\n",
              "        2.48249456e-01, 2.27001961e-03, 2.77825585e-03, 1.29476348e-02],\n",
              "       [2.21141338e-04, 1.56188232e-03, 1.46592467e-03, 4.22949524e-04,\n",
              "        9.93803620e-01, 1.83473411e-03, 3.32602125e-04, 3.57166544e-04],\n",
              "       [1.15762167e-02, 1.69048319e-03, 2.56032590e-02, 8.38129409e-03,\n",
              "        2.46022874e-03, 5.82660176e-03, 7.20433816e-02, 8.72418582e-01],\n",
              "       [3.70933150e-04, 2.48073688e-04, 1.73012000e-02, 1.54256340e-04,\n",
              "        2.96257576e-06, 9.59449157e-04, 9.80606616e-01, 3.56562552e-04],\n",
              "       [1.09680952e-03, 3.74224299e-04, 9.87999856e-01, 2.63448746e-04,\n",
              "        4.98394329e-05, 8.22720584e-03, 5.95868798e-04, 1.39272911e-03],\n",
              "       [9.91579175e-01, 8.18296277e-04, 1.68548970e-04, 2.95171281e-04,\n",
              "        8.50891865e-06, 1.95818068e-03, 2.20391245e-04, 4.95175505e-03],\n",
              "       [2.17016600e-03, 2.72076519e-04, 9.09495473e-01, 1.24198501e-03,\n",
              "        3.20628489e-04, 4.19613905e-02, 3.98009717e-02, 4.73730545e-03],\n",
              "       [1.86546613e-02, 7.69202877e-03, 8.31544459e-01, 3.49204126e-03,\n",
              "        1.24499798e-04, 9.75509062e-02, 3.40521224e-02, 6.88929250e-03],\n",
              "       [7.93501022e-05, 1.20352299e-04, 9.94836926e-01, 1.58533439e-04,\n",
              "        5.99166015e-05, 3.71360313e-03, 2.46600917e-04, 7.84714415e-04],\n",
              "       [7.15677152e-06, 3.39343660e-06, 2.19283815e-04, 9.99234080e-01,\n",
              "        3.46554089e-06, 3.17140628e-04, 2.13195308e-04, 2.28127624e-06],\n",
              "       [6.81159610e-04, 2.87249568e-04, 4.01960278e-04, 2.68498296e-03,\n",
              "        6.54216319e-06, 9.86611009e-01, 8.85572284e-03, 4.71311476e-04],\n",
              "       [4.21659470e-01, 1.35144085e-01, 2.81619327e-03, 1.42855067e-02,\n",
              "        2.24669967e-02, 7.85764307e-02, 2.77788609e-01, 4.72628139e-02],\n",
              "       [3.48656991e-04, 3.69048008e-04, 1.01940826e-01, 6.56087432e-05,\n",
              "        7.72014516e-07, 1.22465205e-03, 5.95076708e-04, 8.95455301e-01],\n",
              "       [1.46127888e-04, 1.72244129e-03, 9.69377463e-04, 7.03361817e-04,\n",
              "        9.95939493e-01, 1.88280799e-04, 3.10575328e-04, 2.03087620e-05],\n",
              "       [3.65755940e-03, 3.00820894e-03, 2.44145608e-03, 1.69792736e-03,\n",
              "        1.49444109e-04, 6.05355715e-03, 1.16044944e-02, 9.71387386e-01],\n",
              "       [9.98762608e-01, 6.32574302e-05, 4.40280201e-06, 4.75656852e-05,\n",
              "        1.49291498e-06, 1.70510957e-05, 9.90694662e-06, 1.09377818e-03],\n",
              "       [1.65734557e-04, 5.48065407e-04, 3.95495299e-04, 1.15946372e-04,\n",
              "        9.97661352e-01, 7.57181260e-05, 1.00244652e-03, 3.52612878e-05],\n",
              "       [1.16203504e-03, 5.08052646e-04, 8.65851104e-01, 1.55356218e-04,\n",
              "        2.15779910e-05, 1.27235696e-01, 4.07144707e-03, 9.94740636e-04],\n",
              "       [6.20964493e-05, 6.43462117e-05, 9.46169530e-06, 9.99602616e-01,\n",
              "        1.51988468e-06, 4.40441909e-05, 2.15607957e-04, 3.34146705e-07],\n",
              "       [9.99338686e-01, 1.41686556e-04, 4.07202388e-05, 1.85954894e-04,\n",
              "        2.41663347e-05, 1.18686163e-04, 4.66978308e-05, 1.03431295e-04],\n",
              "       [1.61866323e-04, 8.93216657e-06, 1.01833837e-04, 2.18141548e-04,\n",
              "        2.85035810e-07, 8.47956399e-04, 2.41887057e-04, 9.98419166e-01],\n",
              "       [6.80299997e-02, 8.55085433e-01, 1.82135645e-02, 1.20655913e-02,\n",
              "        8.51512980e-03, 4.79398295e-03, 4.10807319e-03, 2.91881878e-02],\n",
              "       [1.25449106e-01, 2.12175120e-02, 1.96372299e-03, 6.36218721e-03,\n",
              "        6.57203700e-03, 1.69536639e-02, 5.31292498e-01, 2.90189236e-01],\n",
              "       [2.69381665e-02, 6.32585119e-03, 1.53076453e-02, 9.45821695e-04,\n",
              "        8.25458169e-01, 8.96976143e-03, 1.14068650e-01, 1.98595808e-03],\n",
              "       [1.02045096e-03, 6.37929980e-03, 5.31799253e-03, 9.40019906e-01,\n",
              "        1.31145203e-02, 1.36985127e-02, 2.02117767e-02, 2.37599088e-04],\n",
              "       [8.81832372e-03, 1.88606232e-02, 3.20643466e-03, 9.29507911e-01,\n",
              "        8.05187225e-03, 1.58631615e-02, 1.39303105e-02, 1.76133157e-03],\n",
              "       [2.86952313e-03, 1.58011564e-03, 7.69675756e-03, 9.74015594e-01,\n",
              "        7.06410734e-03, 4.34961822e-03, 2.35413224e-03, 7.01110257e-05],\n",
              "       [1.23325421e-03, 2.29442885e-04, 2.10321974e-03, 9.89513218e-01,\n",
              "        3.12065851e-04, 3.78762430e-04, 3.28649563e-04, 5.90143865e-03],\n",
              "       [2.30323873e-03, 1.64086034e-03, 9.38151240e-01, 6.68900087e-04,\n",
              "        1.73443486e-03, 2.96208449e-02, 1.28323771e-02, 1.30480397e-02],\n",
              "       [3.42634245e-04, 1.26063675e-02, 4.25841536e-05, 6.59608213e-06,\n",
              "        9.86941040e-01, 3.36820522e-05, 2.02161627e-05, 6.93769152e-06],\n",
              "       [1.03923008e-01, 3.51707414e-02, 3.48789096e-01, 1.93300694e-02,\n",
              "        9.05057229e-03, 8.05217326e-02, 2.57923126e-01, 1.45291626e-01],\n",
              "       [2.86953012e-03, 1.58011972e-03, 7.69673288e-03, 9.74015713e-01,\n",
              "        7.06407800e-03, 4.34960611e-03, 2.35413574e-03, 7.01112294e-05],\n",
              "       [1.22272604e-05, 1.96926089e-06, 5.32544300e-06, 9.99944091e-01,\n",
              "        3.71490145e-08, 8.59285046e-06, 2.73358546e-05, 4.22184797e-07],\n",
              "       [3.76069453e-03, 2.05232413e-03, 4.96283248e-02, 4.43132478e-04,\n",
              "        5.29618660e-07, 6.08208515e-02, 8.83262515e-01, 3.16204205e-05],\n",
              "       [3.26870868e-05, 1.46180118e-05, 8.36095074e-04, 7.47675658e-05,\n",
              "        4.36710707e-06, 4.79867856e-04, 9.98537064e-01, 2.06466921e-05],\n",
              "       [1.77627231e-03, 3.61689221e-04, 2.02345774e-01, 1.81866321e-03,\n",
              "        2.44162802e-04, 8.43929946e-02, 7.00977087e-01, 8.08337703e-03],\n",
              "       [9.90294337e-01, 1.43175304e-03, 2.73284299e-04, 3.06422560e-04,\n",
              "        6.61781451e-05, 7.22954574e-04, 3.01725115e-04, 6.60337508e-03],\n",
              "       [6.21131563e-04, 3.06795409e-04, 1.21155674e-04, 3.92905968e-05,\n",
              "        2.95824775e-05, 7.60574912e-05, 7.42750781e-05, 9.98731673e-01],\n",
              "       [4.43881657e-03, 3.55048222e-03, 2.93008357e-01, 1.14295364e-03,\n",
              "        1.33548751e-02, 1.00488558e-01, 2.07096785e-02, 5.63306272e-01],\n",
              "       [4.98835072e-02, 4.41187900e-03, 2.56518364e-01, 3.28750466e-03,\n",
              "        1.16171308e-04, 2.00787067e-01, 2.11290643e-02, 4.63866383e-01],\n",
              "       [1.71866063e-02, 3.75102245e-04, 1.68324786e-03, 2.76485621e-03,\n",
              "        1.29454029e-05, 8.76613915e-01, 1.00822235e-02, 9.12810788e-02],\n",
              "       [6.89244989e-05, 2.54494189e-05, 1.07459084e-04, 2.45226893e-05,\n",
              "        1.85936751e-05, 3.80650308e-05, 8.15163075e-05, 9.99635458e-01],\n",
              "       [4.07715634e-05, 1.14883696e-04, 2.29931902e-04, 2.94414320e-04,\n",
              "        9.98784006e-01, 1.09353292e-04, 2.69574957e-04, 1.57172573e-04],\n",
              "       [2.15800857e-04, 6.33788155e-03, 3.37532001e-05, 3.98095563e-06,\n",
              "        9.93345499e-01, 3.68953806e-05, 2.34768122e-05, 2.64091977e-06],\n",
              "       [5.43937832e-03, 3.36903632e-02, 7.62011530e-03, 7.45585188e-02,\n",
              "        7.62550952e-03, 8.57271999e-03, 8.29224706e-01, 3.32685858e-02],\n",
              "       [7.01359147e-03, 1.13413716e-03, 3.20517987e-01, 4.79725219e-04,\n",
              "        4.29890910e-03, 1.56506132e-02, 2.02759504e-02, 6.30629063e-01],\n",
              "       [7.04138447e-03, 2.20343773e-03, 5.94926298e-01, 5.11290098e-04,\n",
              "        1.11528243e-04, 9.35993623e-03, 7.05137756e-03, 3.78794849e-01],\n",
              "       [3.29304114e-02, 2.93188356e-02, 3.13882972e-03, 1.28148892e-03,\n",
              "        3.97778191e-02, 1.17681315e-02, 2.69316230e-03, 8.79091382e-01],\n",
              "       [3.88905853e-02, 2.26507802e-02, 1.62223889e-03, 2.38077387e-01,\n",
              "        6.01025581e-01, 9.01647285e-02, 7.50727952e-03, 6.14380115e-05],\n",
              "       [9.99652624e-01, 2.32389386e-04, 2.98240207e-06, 6.65436937e-06,\n",
              "        5.12146471e-06, 1.30962899e-05, 6.40862982e-06, 8.07516044e-05],\n",
              "       [8.06220900e-03, 9.28452075e-01, 3.64088244e-03, 5.34199527e-04,\n",
              "        1.09951943e-02, 1.34989480e-03, 2.19023367e-03, 4.47754078e-02],\n",
              "       [3.48303653e-02, 8.38174298e-02, 8.25795308e-02, 1.16204657e-02,\n",
              "        1.24356359e-01, 2.66923383e-02, 2.28762720e-02, 6.13227189e-01],\n",
              "       [9.94836807e-01, 1.85028138e-03, 4.81604075e-04, 1.08062627e-03,\n",
              "        1.51305954e-04, 9.02128464e-04, 2.86708237e-04, 4.10560198e-04],\n",
              "       [1.42354565e-03, 3.08571127e-03, 3.75040167e-04, 9.93563414e-01,\n",
              "        9.93877911e-05, 5.52473066e-04, 8.89486051e-04, 1.10510837e-05],\n",
              "       [1.28110196e-03, 1.24714818e-04, 2.35382886e-05, 9.95475590e-01,\n",
              "        4.60061601e-05, 2.65743030e-04, 2.78281840e-03, 5.22530058e-07],\n",
              "       [5.95288075e-05, 6.38290483e-04, 1.09227527e-04, 1.37279421e-04,\n",
              "        9.98786271e-01, 2.20722490e-04, 1.72352647e-05, 3.15204088e-05],\n",
              "       [8.01968202e-02, 2.76530329e-02, 1.73421409e-02, 2.32833065e-02,\n",
              "        3.04960576e-03, 4.30033468e-02, 2.24678293e-01, 5.80793440e-01],\n",
              "       [4.34451904e-05, 3.75910422e-05, 8.76098406e-04, 2.00221199e-04,\n",
              "        3.39994813e-06, 4.52196458e-04, 9.98384595e-01, 2.47834851e-06],\n",
              "       [1.97371189e-03, 3.47539294e-03, 3.48356552e-04, 9.87586617e-01,\n",
              "        2.73606100e-04, 4.72790888e-03, 1.61352428e-03, 8.42552765e-07],\n",
              "       [6.69549080e-03, 1.75976045e-02, 2.69700936e-03, 5.23577561e-04,\n",
              "        3.47447745e-03, 6.69821457e-04, 3.57500673e-03, 9.64766920e-01],\n",
              "       [2.36774082e-04, 1.58336814e-04, 2.25377909e-04, 4.11771616e-05,\n",
              "        3.47550304e-05, 3.63947256e-05, 7.86329329e-05, 9.99188602e-01],\n",
              "       [7.94926565e-03, 1.32629799e-03, 3.07066012e-02, 1.26644507e-01,\n",
              "        2.70929857e-04, 1.83833204e-02, 8.11078429e-01, 3.64070968e-03],\n",
              "       [5.31428785e-04, 5.72328269e-03, 5.46553987e-04, 3.16553563e-03,\n",
              "        4.19083200e-02, 5.37720090e-03, 9.41884100e-01, 8.63691443e-04],\n",
              "       [1.37736046e-04, 3.07812161e-06, 7.74988555e-04, 3.84840270e-04,\n",
              "        1.56776914e-05, 9.98669267e-01, 1.08864861e-05, 3.50259893e-06],\n",
              "       [5.78012896e-06, 2.80006752e-05, 3.47747188e-03, 7.59470640e-06,\n",
              "        4.20588094e-07, 9.96470213e-01, 9.94710263e-06, 4.58848774e-07],\n",
              "       [1.46393094e-03, 8.76350023e-05, 1.01269491e-03, 1.94382726e-03,\n",
              "        7.49879327e-05, 9.87137198e-01, 7.00187637e-03, 1.27797190e-03],\n",
              "       [2.14607251e-04, 5.86633651e-05, 5.06613605e-06, 3.00122465e-05,\n",
              "        9.99583423e-01, 2.34147028e-05, 8.47610718e-05, 1.03044485e-07],\n",
              "       [4.57447357e-02, 1.42705988e-03, 2.02110335e-02, 5.18282969e-03,\n",
              "        6.13973737e-01, 5.35021722e-03, 2.72818983e-01, 3.52914259e-02],\n",
              "       [1.45648874e-03, 1.65497698e-03, 9.60532501e-02, 2.79477954e-01,\n",
              "        1.57382776e-04, 3.92968357e-02, 5.76937377e-01, 4.96576866e-03],\n",
              "       [9.99032617e-01, 3.11649419e-05, 2.65239851e-05, 1.41945377e-04,\n",
              "        5.96952486e-05, 2.04312673e-04, 2.72652378e-05, 4.76439076e-04],\n",
              "       [2.39451556e-03, 1.37847301e-03, 1.87113564e-02, 7.45655417e-01,\n",
              "        3.34052107e-04, 3.28104640e-03, 6.15264028e-02, 1.66718751e-01],\n",
              "       [7.37570152e-02, 2.45485194e-02, 1.40714347e-01, 5.00730991e-01,\n",
              "        5.11587635e-02, 2.26487927e-02, 9.61542204e-02, 9.02873799e-02],\n",
              "       [2.71331542e-03, 1.93316606e-04, 3.15640913e-03, 9.90734935e-01,\n",
              "        7.95848064e-06, 7.28190877e-04, 2.28379061e-03, 1.82139585e-04],\n",
              "       [6.83779344e-02, 9.10990894e-01, 8.13951343e-03, 2.91436282e-03,\n",
              "        4.60459114e-06, 9.34909564e-03, 2.14379208e-04, 9.22219442e-06],\n",
              "       [6.10541028e-05, 1.33748545e-05, 2.18251706e-04, 1.20310870e-03,\n",
              "        1.33507058e-07, 1.15925985e-04, 9.98385310e-01, 2.87920307e-06],\n",
              "       [1.02045306e-03, 6.37932541e-03, 5.31800603e-03, 9.40019608e-01,\n",
              "        1.31145539e-02, 1.36985667e-02, 2.02118326e-02, 2.37601067e-04],\n",
              "       [4.84414741e-05, 6.22939086e-04, 2.74426700e-03, 1.02174083e-04,\n",
              "        3.49350535e-06, 9.95405078e-01, 7.36350426e-04, 3.37280304e-04],\n",
              "       [1.97852001e-04, 9.96993780e-01, 1.25736711e-04, 6.18776539e-04,\n",
              "        2.13913700e-06, 3.00897547e-04, 1.67624734e-04, 1.59323995e-03],\n",
              "       [9.81341720e-01, 5.49788959e-03, 3.85986641e-04, 1.89498719e-03,\n",
              "        1.16596615e-03, 1.45896955e-03, 1.56703056e-03, 6.68739993e-03],\n",
              "       [6.88781813e-02, 5.21558881e-01, 4.01591463e-03, 1.16266720e-02,\n",
              "        3.85480732e-01, 4.96050343e-04, 6.00310555e-03, 1.94045762e-03]],\n",
              "      dtype=float32)"
            ]
          },
          "metadata": {},
          "execution_count": 19
        }
      ]
    },
    {
      "cell_type": "code",
      "source": [
        "test_generator.classes"
      ],
      "metadata": {
        "colab": {
          "base_uri": "https://localhost:8080/"
        },
        "id": "cbxMbryxo31y",
        "outputId": "80675296-f889-4592-fdd9-e6970f4924ac"
      },
      "execution_count": 20,
      "outputs": [
        {
          "output_type": "execute_result",
          "data": {
            "text/plain": [
              "array([0, 0, 0, 0, 0, 0, 0, 0, 0, 1, 1, 1, 1, 1, 1, 1, 1, 1, 2, 2, 2, 2,\n",
              "       2, 2, 2, 2, 2, 2, 2, 2, 2, 2, 2, 2, 2, 3, 3, 3, 3, 3, 3, 3, 3, 3,\n",
              "       3, 3, 3, 3, 3, 3, 3, 3, 3, 3, 3, 3, 3, 4, 4, 4, 4, 4, 4, 4, 4, 4,\n",
              "       4, 4, 4, 4, 5, 5, 5, 5, 5, 5, 5, 5, 5, 5, 5, 5, 5, 6, 6, 6, 6, 6,\n",
              "       6, 6, 6, 6, 6, 7, 7, 7, 7, 7, 7, 7, 7, 7, 7, 7, 7, 7, 7],\n",
              "      dtype=int32)"
            ]
          },
          "metadata": {},
          "execution_count": 20
        }
      ]
    },
    {
      "cell_type": "code",
      "source": [
        "y_pred"
      ],
      "metadata": {
        "colab": {
          "base_uri": "https://localhost:8080/"
        },
        "id": "_C6CCDiayO0g",
        "outputId": "6f8184cf-148f-468f-d8ef-744ac7df192e"
      },
      "execution_count": 21,
      "outputs": [
        {
          "output_type": "execute_result",
          "data": {
            "text/plain": [
              "array([1, 2, 2, 6, 3, 3, 5, 7, 7, 3, 7, 7, 2, 6, 4, 7, 6, 3, 3, 5, 4, 6,\n",
              "       2, 6, 3, 2, 2, 1, 4, 7, 6, 2, 0, 2, 2, 2, 3, 5, 0, 7, 4, 7, 0, 4,\n",
              "       2, 3, 0, 7, 1, 6, 4, 3, 3, 3, 3, 2, 4, 2, 3, 3, 6, 6, 6, 0, 7, 7,\n",
              "       7, 5, 7, 4, 4, 6, 7, 2, 7, 4, 0, 1, 7, 0, 3, 3, 4, 7, 6, 3, 7, 7,\n",
              "       6, 6, 5, 5, 5, 4, 4, 6, 0, 3, 3, 3, 1, 6, 3, 5, 1, 0, 1])"
            ]
          },
          "metadata": {},
          "execution_count": 21
        }
      ]
    },
    {
      "cell_type": "code",
      "source": [
        "import plotly.figure_factory as ff\n",
        "\n",
        "y_true = test_generator.classes\n",
        "\n",
        "z = confusion_matrix(y_true, y_pred)\n",
        "\n",
        "x = list(test_generator.class_indices.keys())\n",
        "\n",
        "y = list(test_generator.class_indices.keys())\n"
      ],
      "metadata": {
        "id": "5NOZQOgN_DHU"
      },
      "execution_count": 22,
      "outputs": []
    },
    {
      "cell_type": "code",
      "metadata": {
        "id": "EHxUyHkC1URt",
        "colab": {
          "base_uri": "https://localhost:8080/",
          "height": 542
        },
        "outputId": "a0bf41a6-b56c-4518-a514-b8c495fcad0a"
      },
      "source": [
        "# change each element of z to type string for annotations\n",
        "z_text = [[str(y) for y in x] for x in z]\n",
        "\n",
        "# set up figure \n",
        "fig = ff.create_annotated_heatmap(z, x=x, y=y, annotation_text=z_text, colorscale='Viridis')\n",
        "\n",
        "# add title\n",
        "fig.update_layout(title_text='<i><b>Confusion matrix</b></i>',\n",
        "                  #xaxis = dict(title='x'),\n",
        "                  #yaxis = dict(title='x')\n",
        "                 )\n",
        "\n",
        "# add custom xaxis title\n",
        "fig.add_annotation(dict(font=dict(color=\"black\",size=14),\n",
        "                        x=0.5,\n",
        "                        y=-0.15,\n",
        "                        showarrow=False,\n",
        "                        text=\"Predicted value\",\n",
        "                        xref=\"paper\",\n",
        "                        yref=\"paper\"))\n",
        "\n",
        "# add custom yaxis title\n",
        "fig.add_annotation(dict(font=dict(color=\"black\",size=14),\n",
        "                        x=-0.35,\n",
        "                        y=0.5,\n",
        "                        showarrow=False,\n",
        "                        text=\"Real value\",\n",
        "                        textangle=-90,\n",
        "                        xref=\"paper\",\n",
        "                        yref=\"paper\"))\n",
        "\n",
        "# adjust margins to make room for yaxis title\n",
        "fig.update_layout(margin=dict(t=50, l=200))\n",
        "\n",
        "# add colorbar\n",
        "fig['data'][0]['showscale'] = True\n",
        "fig.show()"
      ],
      "execution_count": 23,
      "outputs": [
        {
          "output_type": "display_data",
          "data": {
            "text/html": [
              "<html>\n",
              "<head><meta charset=\"utf-8\" /></head>\n",
              "<body>\n",
              "    <div>            <script src=\"https://cdnjs.cloudflare.com/ajax/libs/mathjax/2.7.5/MathJax.js?config=TeX-AMS-MML_SVG\"></script><script type=\"text/javascript\">if (window.MathJax) {MathJax.Hub.Config({SVG: {font: \"STIX-Web\"}});}</script>                <script type=\"text/javascript\">window.PlotlyConfig = {MathJaxConfig: 'local'};</script>\n",
              "        <script src=\"https://cdn.plot.ly/plotly-2.8.3.min.js\"></script>                <div id=\"03632896-8faa-4141-8a7d-2c3e36c8ce39\" class=\"plotly-graph-div\" style=\"height:525px; width:100%;\"></div>            <script type=\"text/javascript\">                                    window.PLOTLYENV=window.PLOTLYENV || {};                                    if (document.getElementById(\"03632896-8faa-4141-8a7d-2c3e36c8ce39\")) {                    Plotly.newPlot(                        \"03632896-8faa-4141-8a7d-2c3e36c8ce39\",                        [{\"colorscale\":[[0.0,\"#440154\"],[0.1111111111111111,\"#482878\"],[0.2222222222222222,\"#3e4989\"],[0.3333333333333333,\"#31688e\"],[0.4444444444444444,\"#26828e\"],[0.5555555555555556,\"#1f9e89\"],[0.6666666666666666,\"#35b779\"],[0.7777777777777778,\"#6ece58\"],[0.8888888888888888,\"#b5de2b\"],[1.0,\"#fde725\"]],\"reversescale\":false,\"showscale\":true,\"x\":[\"ankisdensus\",\"ankisfusiformis\",\"kirchneriela\",\"monorapcontortum\",\"monorapgriff\",\"nephrocytium\",\"raphidocelis\",\"selenastrumbrib\"],\"y\":[\"ankisdensus\",\"ankisfusiformis\",\"kirchneriela\",\"monorapcontortum\",\"monorapgriff\",\"nephrocytium\",\"raphidocelis\",\"selenastrumbrib\"],\"z\":[[0,1,2,2,0,1,1,2],[0,0,1,2,1,0,2,3],[1,1,6,2,2,1,3,1],[3,1,3,6,4,1,1,3],[1,0,1,2,1,1,3,4],[2,1,1,2,3,0,1,3],[0,0,0,1,0,3,3,3],[2,3,0,4,2,1,2,0]],\"type\":\"heatmap\"}],                        {\"annotations\":[{\"font\":{\"color\":\"#FFFFFF\"},\"showarrow\":false,\"text\":\"0\",\"x\":\"ankisdensus\",\"xref\":\"x\",\"y\":\"ankisdensus\",\"yref\":\"y\"},{\"font\":{\"color\":\"#FFFFFF\"},\"showarrow\":false,\"text\":\"1\",\"x\":\"ankisfusiformis\",\"xref\":\"x\",\"y\":\"ankisdensus\",\"yref\":\"y\"},{\"font\":{\"color\":\"#FFFFFF\"},\"showarrow\":false,\"text\":\"2\",\"x\":\"kirchneriela\",\"xref\":\"x\",\"y\":\"ankisdensus\",\"yref\":\"y\"},{\"font\":{\"color\":\"#FFFFFF\"},\"showarrow\":false,\"text\":\"2\",\"x\":\"monorapcontortum\",\"xref\":\"x\",\"y\":\"ankisdensus\",\"yref\":\"y\"},{\"font\":{\"color\":\"#FFFFFF\"},\"showarrow\":false,\"text\":\"0\",\"x\":\"monorapgriff\",\"xref\":\"x\",\"y\":\"ankisdensus\",\"yref\":\"y\"},{\"font\":{\"color\":\"#FFFFFF\"},\"showarrow\":false,\"text\":\"1\",\"x\":\"nephrocytium\",\"xref\":\"x\",\"y\":\"ankisdensus\",\"yref\":\"y\"},{\"font\":{\"color\":\"#FFFFFF\"},\"showarrow\":false,\"text\":\"1\",\"x\":\"raphidocelis\",\"xref\":\"x\",\"y\":\"ankisdensus\",\"yref\":\"y\"},{\"font\":{\"color\":\"#FFFFFF\"},\"showarrow\":false,\"text\":\"2\",\"x\":\"selenastrumbrib\",\"xref\":\"x\",\"y\":\"ankisdensus\",\"yref\":\"y\"},{\"font\":{\"color\":\"#FFFFFF\"},\"showarrow\":false,\"text\":\"0\",\"x\":\"ankisdensus\",\"xref\":\"x\",\"y\":\"ankisfusiformis\",\"yref\":\"y\"},{\"font\":{\"color\":\"#FFFFFF\"},\"showarrow\":false,\"text\":\"0\",\"x\":\"ankisfusiformis\",\"xref\":\"x\",\"y\":\"ankisfusiformis\",\"yref\":\"y\"},{\"font\":{\"color\":\"#FFFFFF\"},\"showarrow\":false,\"text\":\"1\",\"x\":\"kirchneriela\",\"xref\":\"x\",\"y\":\"ankisfusiformis\",\"yref\":\"y\"},{\"font\":{\"color\":\"#FFFFFF\"},\"showarrow\":false,\"text\":\"2\",\"x\":\"monorapcontortum\",\"xref\":\"x\",\"y\":\"ankisfusiformis\",\"yref\":\"y\"},{\"font\":{\"color\":\"#FFFFFF\"},\"showarrow\":false,\"text\":\"1\",\"x\":\"monorapgriff\",\"xref\":\"x\",\"y\":\"ankisfusiformis\",\"yref\":\"y\"},{\"font\":{\"color\":\"#FFFFFF\"},\"showarrow\":false,\"text\":\"0\",\"x\":\"nephrocytium\",\"xref\":\"x\",\"y\":\"ankisfusiformis\",\"yref\":\"y\"},{\"font\":{\"color\":\"#FFFFFF\"},\"showarrow\":false,\"text\":\"2\",\"x\":\"raphidocelis\",\"xref\":\"x\",\"y\":\"ankisfusiformis\",\"yref\":\"y\"},{\"font\":{\"color\":\"#000000\"},\"showarrow\":false,\"text\":\"3\",\"x\":\"selenastrumbrib\",\"xref\":\"x\",\"y\":\"ankisfusiformis\",\"yref\":\"y\"},{\"font\":{\"color\":\"#FFFFFF\"},\"showarrow\":false,\"text\":\"1\",\"x\":\"ankisdensus\",\"xref\":\"x\",\"y\":\"kirchneriela\",\"yref\":\"y\"},{\"font\":{\"color\":\"#FFFFFF\"},\"showarrow\":false,\"text\":\"1\",\"x\":\"ankisfusiformis\",\"xref\":\"x\",\"y\":\"kirchneriela\",\"yref\":\"y\"},{\"font\":{\"color\":\"#000000\"},\"showarrow\":false,\"text\":\"6\",\"x\":\"kirchneriela\",\"xref\":\"x\",\"y\":\"kirchneriela\",\"yref\":\"y\"},{\"font\":{\"color\":\"#FFFFFF\"},\"showarrow\":false,\"text\":\"2\",\"x\":\"monorapcontortum\",\"xref\":\"x\",\"y\":\"kirchneriela\",\"yref\":\"y\"},{\"font\":{\"color\":\"#FFFFFF\"},\"showarrow\":false,\"text\":\"2\",\"x\":\"monorapgriff\",\"xref\":\"x\",\"y\":\"kirchneriela\",\"yref\":\"y\"},{\"font\":{\"color\":\"#FFFFFF\"},\"showarrow\":false,\"text\":\"1\",\"x\":\"nephrocytium\",\"xref\":\"x\",\"y\":\"kirchneriela\",\"yref\":\"y\"},{\"font\":{\"color\":\"#000000\"},\"showarrow\":false,\"text\":\"3\",\"x\":\"raphidocelis\",\"xref\":\"x\",\"y\":\"kirchneriela\",\"yref\":\"y\"},{\"font\":{\"color\":\"#FFFFFF\"},\"showarrow\":false,\"text\":\"1\",\"x\":\"selenastrumbrib\",\"xref\":\"x\",\"y\":\"kirchneriela\",\"yref\":\"y\"},{\"font\":{\"color\":\"#000000\"},\"showarrow\":false,\"text\":\"3\",\"x\":\"ankisdensus\",\"xref\":\"x\",\"y\":\"monorapcontortum\",\"yref\":\"y\"},{\"font\":{\"color\":\"#FFFFFF\"},\"showarrow\":false,\"text\":\"1\",\"x\":\"ankisfusiformis\",\"xref\":\"x\",\"y\":\"monorapcontortum\",\"yref\":\"y\"},{\"font\":{\"color\":\"#000000\"},\"showarrow\":false,\"text\":\"3\",\"x\":\"kirchneriela\",\"xref\":\"x\",\"y\":\"monorapcontortum\",\"yref\":\"y\"},{\"font\":{\"color\":\"#000000\"},\"showarrow\":false,\"text\":\"6\",\"x\":\"monorapcontortum\",\"xref\":\"x\",\"y\":\"monorapcontortum\",\"yref\":\"y\"},{\"font\":{\"color\":\"#000000\"},\"showarrow\":false,\"text\":\"4\",\"x\":\"monorapgriff\",\"xref\":\"x\",\"y\":\"monorapcontortum\",\"yref\":\"y\"},{\"font\":{\"color\":\"#FFFFFF\"},\"showarrow\":false,\"text\":\"1\",\"x\":\"nephrocytium\",\"xref\":\"x\",\"y\":\"monorapcontortum\",\"yref\":\"y\"},{\"font\":{\"color\":\"#FFFFFF\"},\"showarrow\":false,\"text\":\"1\",\"x\":\"raphidocelis\",\"xref\":\"x\",\"y\":\"monorapcontortum\",\"yref\":\"y\"},{\"font\":{\"color\":\"#000000\"},\"showarrow\":false,\"text\":\"3\",\"x\":\"selenastrumbrib\",\"xref\":\"x\",\"y\":\"monorapcontortum\",\"yref\":\"y\"},{\"font\":{\"color\":\"#FFFFFF\"},\"showarrow\":false,\"text\":\"1\",\"x\":\"ankisdensus\",\"xref\":\"x\",\"y\":\"monorapgriff\",\"yref\":\"y\"},{\"font\":{\"color\":\"#FFFFFF\"},\"showarrow\":false,\"text\":\"0\",\"x\":\"ankisfusiformis\",\"xref\":\"x\",\"y\":\"monorapgriff\",\"yref\":\"y\"},{\"font\":{\"color\":\"#FFFFFF\"},\"showarrow\":false,\"text\":\"1\",\"x\":\"kirchneriela\",\"xref\":\"x\",\"y\":\"monorapgriff\",\"yref\":\"y\"},{\"font\":{\"color\":\"#FFFFFF\"},\"showarrow\":false,\"text\":\"2\",\"x\":\"monorapcontortum\",\"xref\":\"x\",\"y\":\"monorapgriff\",\"yref\":\"y\"},{\"font\":{\"color\":\"#FFFFFF\"},\"showarrow\":false,\"text\":\"1\",\"x\":\"monorapgriff\",\"xref\":\"x\",\"y\":\"monorapgriff\",\"yref\":\"y\"},{\"font\":{\"color\":\"#FFFFFF\"},\"showarrow\":false,\"text\":\"1\",\"x\":\"nephrocytium\",\"xref\":\"x\",\"y\":\"monorapgriff\",\"yref\":\"y\"},{\"font\":{\"color\":\"#000000\"},\"showarrow\":false,\"text\":\"3\",\"x\":\"raphidocelis\",\"xref\":\"x\",\"y\":\"monorapgriff\",\"yref\":\"y\"},{\"font\":{\"color\":\"#000000\"},\"showarrow\":false,\"text\":\"4\",\"x\":\"selenastrumbrib\",\"xref\":\"x\",\"y\":\"monorapgriff\",\"yref\":\"y\"},{\"font\":{\"color\":\"#FFFFFF\"},\"showarrow\":false,\"text\":\"2\",\"x\":\"ankisdensus\",\"xref\":\"x\",\"y\":\"nephrocytium\",\"yref\":\"y\"},{\"font\":{\"color\":\"#FFFFFF\"},\"showarrow\":false,\"text\":\"1\",\"x\":\"ankisfusiformis\",\"xref\":\"x\",\"y\":\"nephrocytium\",\"yref\":\"y\"},{\"font\":{\"color\":\"#FFFFFF\"},\"showarrow\":false,\"text\":\"1\",\"x\":\"kirchneriela\",\"xref\":\"x\",\"y\":\"nephrocytium\",\"yref\":\"y\"},{\"font\":{\"color\":\"#FFFFFF\"},\"showarrow\":false,\"text\":\"2\",\"x\":\"monorapcontortum\",\"xref\":\"x\",\"y\":\"nephrocytium\",\"yref\":\"y\"},{\"font\":{\"color\":\"#000000\"},\"showarrow\":false,\"text\":\"3\",\"x\":\"monorapgriff\",\"xref\":\"x\",\"y\":\"nephrocytium\",\"yref\":\"y\"},{\"font\":{\"color\":\"#FFFFFF\"},\"showarrow\":false,\"text\":\"0\",\"x\":\"nephrocytium\",\"xref\":\"x\",\"y\":\"nephrocytium\",\"yref\":\"y\"},{\"font\":{\"color\":\"#FFFFFF\"},\"showarrow\":false,\"text\":\"1\",\"x\":\"raphidocelis\",\"xref\":\"x\",\"y\":\"nephrocytium\",\"yref\":\"y\"},{\"font\":{\"color\":\"#000000\"},\"showarrow\":false,\"text\":\"3\",\"x\":\"selenastrumbrib\",\"xref\":\"x\",\"y\":\"nephrocytium\",\"yref\":\"y\"},{\"font\":{\"color\":\"#FFFFFF\"},\"showarrow\":false,\"text\":\"0\",\"x\":\"ankisdensus\",\"xref\":\"x\",\"y\":\"raphidocelis\",\"yref\":\"y\"},{\"font\":{\"color\":\"#FFFFFF\"},\"showarrow\":false,\"text\":\"0\",\"x\":\"ankisfusiformis\",\"xref\":\"x\",\"y\":\"raphidocelis\",\"yref\":\"y\"},{\"font\":{\"color\":\"#FFFFFF\"},\"showarrow\":false,\"text\":\"0\",\"x\":\"kirchneriela\",\"xref\":\"x\",\"y\":\"raphidocelis\",\"yref\":\"y\"},{\"font\":{\"color\":\"#FFFFFF\"},\"showarrow\":false,\"text\":\"1\",\"x\":\"monorapcontortum\",\"xref\":\"x\",\"y\":\"raphidocelis\",\"yref\":\"y\"},{\"font\":{\"color\":\"#FFFFFF\"},\"showarrow\":false,\"text\":\"0\",\"x\":\"monorapgriff\",\"xref\":\"x\",\"y\":\"raphidocelis\",\"yref\":\"y\"},{\"font\":{\"color\":\"#000000\"},\"showarrow\":false,\"text\":\"3\",\"x\":\"nephrocytium\",\"xref\":\"x\",\"y\":\"raphidocelis\",\"yref\":\"y\"},{\"font\":{\"color\":\"#000000\"},\"showarrow\":false,\"text\":\"3\",\"x\":\"raphidocelis\",\"xref\":\"x\",\"y\":\"raphidocelis\",\"yref\":\"y\"},{\"font\":{\"color\":\"#000000\"},\"showarrow\":false,\"text\":\"3\",\"x\":\"selenastrumbrib\",\"xref\":\"x\",\"y\":\"raphidocelis\",\"yref\":\"y\"},{\"font\":{\"color\":\"#FFFFFF\"},\"showarrow\":false,\"text\":\"2\",\"x\":\"ankisdensus\",\"xref\":\"x\",\"y\":\"selenastrumbrib\",\"yref\":\"y\"},{\"font\":{\"color\":\"#000000\"},\"showarrow\":false,\"text\":\"3\",\"x\":\"ankisfusiformis\",\"xref\":\"x\",\"y\":\"selenastrumbrib\",\"yref\":\"y\"},{\"font\":{\"color\":\"#FFFFFF\"},\"showarrow\":false,\"text\":\"0\",\"x\":\"kirchneriela\",\"xref\":\"x\",\"y\":\"selenastrumbrib\",\"yref\":\"y\"},{\"font\":{\"color\":\"#000000\"},\"showarrow\":false,\"text\":\"4\",\"x\":\"monorapcontortum\",\"xref\":\"x\",\"y\":\"selenastrumbrib\",\"yref\":\"y\"},{\"font\":{\"color\":\"#FFFFFF\"},\"showarrow\":false,\"text\":\"2\",\"x\":\"monorapgriff\",\"xref\":\"x\",\"y\":\"selenastrumbrib\",\"yref\":\"y\"},{\"font\":{\"color\":\"#FFFFFF\"},\"showarrow\":false,\"text\":\"1\",\"x\":\"nephrocytium\",\"xref\":\"x\",\"y\":\"selenastrumbrib\",\"yref\":\"y\"},{\"font\":{\"color\":\"#FFFFFF\"},\"showarrow\":false,\"text\":\"2\",\"x\":\"raphidocelis\",\"xref\":\"x\",\"y\":\"selenastrumbrib\",\"yref\":\"y\"},{\"font\":{\"color\":\"#FFFFFF\"},\"showarrow\":false,\"text\":\"0\",\"x\":\"selenastrumbrib\",\"xref\":\"x\",\"y\":\"selenastrumbrib\",\"yref\":\"y\"},{\"font\":{\"color\":\"black\",\"size\":14},\"showarrow\":false,\"text\":\"Predicted value\",\"x\":0.5,\"xref\":\"paper\",\"y\":-0.15,\"yref\":\"paper\"},{\"font\":{\"color\":\"black\",\"size\":14},\"showarrow\":false,\"text\":\"Real value\",\"textangle\":-90,\"x\":-0.35,\"xref\":\"paper\",\"y\":0.5,\"yref\":\"paper\"}],\"xaxis\":{\"dtick\":1,\"gridcolor\":\"rgb(0, 0, 0)\",\"side\":\"top\",\"ticks\":\"\"},\"yaxis\":{\"dtick\":1,\"ticks\":\"\",\"ticksuffix\":\"  \"},\"template\":{\"data\":{\"bar\":[{\"error_x\":{\"color\":\"#2a3f5f\"},\"error_y\":{\"color\":\"#2a3f5f\"},\"marker\":{\"line\":{\"color\":\"#E5ECF6\",\"width\":0.5},\"pattern\":{\"fillmode\":\"overlay\",\"size\":10,\"solidity\":0.2}},\"type\":\"bar\"}],\"barpolar\":[{\"marker\":{\"line\":{\"color\":\"#E5ECF6\",\"width\":0.5},\"pattern\":{\"fillmode\":\"overlay\",\"size\":10,\"solidity\":0.2}},\"type\":\"barpolar\"}],\"carpet\":[{\"aaxis\":{\"endlinecolor\":\"#2a3f5f\",\"gridcolor\":\"white\",\"linecolor\":\"white\",\"minorgridcolor\":\"white\",\"startlinecolor\":\"#2a3f5f\"},\"baxis\":{\"endlinecolor\":\"#2a3f5f\",\"gridcolor\":\"white\",\"linecolor\":\"white\",\"minorgridcolor\":\"white\",\"startlinecolor\":\"#2a3f5f\"},\"type\":\"carpet\"}],\"choropleth\":[{\"colorbar\":{\"outlinewidth\":0,\"ticks\":\"\"},\"type\":\"choropleth\"}],\"contour\":[{\"colorbar\":{\"outlinewidth\":0,\"ticks\":\"\"},\"colorscale\":[[0.0,\"#0d0887\"],[0.1111111111111111,\"#46039f\"],[0.2222222222222222,\"#7201a8\"],[0.3333333333333333,\"#9c179e\"],[0.4444444444444444,\"#bd3786\"],[0.5555555555555556,\"#d8576b\"],[0.6666666666666666,\"#ed7953\"],[0.7777777777777778,\"#fb9f3a\"],[0.8888888888888888,\"#fdca26\"],[1.0,\"#f0f921\"]],\"type\":\"contour\"}],\"contourcarpet\":[{\"colorbar\":{\"outlinewidth\":0,\"ticks\":\"\"},\"type\":\"contourcarpet\"}],\"heatmap\":[{\"colorbar\":{\"outlinewidth\":0,\"ticks\":\"\"},\"colorscale\":[[0.0,\"#0d0887\"],[0.1111111111111111,\"#46039f\"],[0.2222222222222222,\"#7201a8\"],[0.3333333333333333,\"#9c179e\"],[0.4444444444444444,\"#bd3786\"],[0.5555555555555556,\"#d8576b\"],[0.6666666666666666,\"#ed7953\"],[0.7777777777777778,\"#fb9f3a\"],[0.8888888888888888,\"#fdca26\"],[1.0,\"#f0f921\"]],\"type\":\"heatmap\"}],\"heatmapgl\":[{\"colorbar\":{\"outlinewidth\":0,\"ticks\":\"\"},\"colorscale\":[[0.0,\"#0d0887\"],[0.1111111111111111,\"#46039f\"],[0.2222222222222222,\"#7201a8\"],[0.3333333333333333,\"#9c179e\"],[0.4444444444444444,\"#bd3786\"],[0.5555555555555556,\"#d8576b\"],[0.6666666666666666,\"#ed7953\"],[0.7777777777777778,\"#fb9f3a\"],[0.8888888888888888,\"#fdca26\"],[1.0,\"#f0f921\"]],\"type\":\"heatmapgl\"}],\"histogram\":[{\"marker\":{\"pattern\":{\"fillmode\":\"overlay\",\"size\":10,\"solidity\":0.2}},\"type\":\"histogram\"}],\"histogram2d\":[{\"colorbar\":{\"outlinewidth\":0,\"ticks\":\"\"},\"colorscale\":[[0.0,\"#0d0887\"],[0.1111111111111111,\"#46039f\"],[0.2222222222222222,\"#7201a8\"],[0.3333333333333333,\"#9c179e\"],[0.4444444444444444,\"#bd3786\"],[0.5555555555555556,\"#d8576b\"],[0.6666666666666666,\"#ed7953\"],[0.7777777777777778,\"#fb9f3a\"],[0.8888888888888888,\"#fdca26\"],[1.0,\"#f0f921\"]],\"type\":\"histogram2d\"}],\"histogram2dcontour\":[{\"colorbar\":{\"outlinewidth\":0,\"ticks\":\"\"},\"colorscale\":[[0.0,\"#0d0887\"],[0.1111111111111111,\"#46039f\"],[0.2222222222222222,\"#7201a8\"],[0.3333333333333333,\"#9c179e\"],[0.4444444444444444,\"#bd3786\"],[0.5555555555555556,\"#d8576b\"],[0.6666666666666666,\"#ed7953\"],[0.7777777777777778,\"#fb9f3a\"],[0.8888888888888888,\"#fdca26\"],[1.0,\"#f0f921\"]],\"type\":\"histogram2dcontour\"}],\"mesh3d\":[{\"colorbar\":{\"outlinewidth\":0,\"ticks\":\"\"},\"type\":\"mesh3d\"}],\"parcoords\":[{\"line\":{\"colorbar\":{\"outlinewidth\":0,\"ticks\":\"\"}},\"type\":\"parcoords\"}],\"pie\":[{\"automargin\":true,\"type\":\"pie\"}],\"scatter\":[{\"marker\":{\"colorbar\":{\"outlinewidth\":0,\"ticks\":\"\"}},\"type\":\"scatter\"}],\"scatter3d\":[{\"line\":{\"colorbar\":{\"outlinewidth\":0,\"ticks\":\"\"}},\"marker\":{\"colorbar\":{\"outlinewidth\":0,\"ticks\":\"\"}},\"type\":\"scatter3d\"}],\"scattercarpet\":[{\"marker\":{\"colorbar\":{\"outlinewidth\":0,\"ticks\":\"\"}},\"type\":\"scattercarpet\"}],\"scattergeo\":[{\"marker\":{\"colorbar\":{\"outlinewidth\":0,\"ticks\":\"\"}},\"type\":\"scattergeo\"}],\"scattergl\":[{\"marker\":{\"colorbar\":{\"outlinewidth\":0,\"ticks\":\"\"}},\"type\":\"scattergl\"}],\"scattermapbox\":[{\"marker\":{\"colorbar\":{\"outlinewidth\":0,\"ticks\":\"\"}},\"type\":\"scattermapbox\"}],\"scatterpolar\":[{\"marker\":{\"colorbar\":{\"outlinewidth\":0,\"ticks\":\"\"}},\"type\":\"scatterpolar\"}],\"scatterpolargl\":[{\"marker\":{\"colorbar\":{\"outlinewidth\":0,\"ticks\":\"\"}},\"type\":\"scatterpolargl\"}],\"scatterternary\":[{\"marker\":{\"colorbar\":{\"outlinewidth\":0,\"ticks\":\"\"}},\"type\":\"scatterternary\"}],\"surface\":[{\"colorbar\":{\"outlinewidth\":0,\"ticks\":\"\"},\"colorscale\":[[0.0,\"#0d0887\"],[0.1111111111111111,\"#46039f\"],[0.2222222222222222,\"#7201a8\"],[0.3333333333333333,\"#9c179e\"],[0.4444444444444444,\"#bd3786\"],[0.5555555555555556,\"#d8576b\"],[0.6666666666666666,\"#ed7953\"],[0.7777777777777778,\"#fb9f3a\"],[0.8888888888888888,\"#fdca26\"],[1.0,\"#f0f921\"]],\"type\":\"surface\"}],\"table\":[{\"cells\":{\"fill\":{\"color\":\"#EBF0F8\"},\"line\":{\"color\":\"white\"}},\"header\":{\"fill\":{\"color\":\"#C8D4E3\"},\"line\":{\"color\":\"white\"}},\"type\":\"table\"}]},\"layout\":{\"annotationdefaults\":{\"arrowcolor\":\"#2a3f5f\",\"arrowhead\":0,\"arrowwidth\":1},\"autotypenumbers\":\"strict\",\"coloraxis\":{\"colorbar\":{\"outlinewidth\":0,\"ticks\":\"\"}},\"colorscale\":{\"diverging\":[[0,\"#8e0152\"],[0.1,\"#c51b7d\"],[0.2,\"#de77ae\"],[0.3,\"#f1b6da\"],[0.4,\"#fde0ef\"],[0.5,\"#f7f7f7\"],[0.6,\"#e6f5d0\"],[0.7,\"#b8e186\"],[0.8,\"#7fbc41\"],[0.9,\"#4d9221\"],[1,\"#276419\"]],\"sequential\":[[0.0,\"#0d0887\"],[0.1111111111111111,\"#46039f\"],[0.2222222222222222,\"#7201a8\"],[0.3333333333333333,\"#9c179e\"],[0.4444444444444444,\"#bd3786\"],[0.5555555555555556,\"#d8576b\"],[0.6666666666666666,\"#ed7953\"],[0.7777777777777778,\"#fb9f3a\"],[0.8888888888888888,\"#fdca26\"],[1.0,\"#f0f921\"]],\"sequentialminus\":[[0.0,\"#0d0887\"],[0.1111111111111111,\"#46039f\"],[0.2222222222222222,\"#7201a8\"],[0.3333333333333333,\"#9c179e\"],[0.4444444444444444,\"#bd3786\"],[0.5555555555555556,\"#d8576b\"],[0.6666666666666666,\"#ed7953\"],[0.7777777777777778,\"#fb9f3a\"],[0.8888888888888888,\"#fdca26\"],[1.0,\"#f0f921\"]]},\"colorway\":[\"#636efa\",\"#EF553B\",\"#00cc96\",\"#ab63fa\",\"#FFA15A\",\"#19d3f3\",\"#FF6692\",\"#B6E880\",\"#FF97FF\",\"#FECB52\"],\"font\":{\"color\":\"#2a3f5f\"},\"geo\":{\"bgcolor\":\"white\",\"lakecolor\":\"white\",\"landcolor\":\"#E5ECF6\",\"showlakes\":true,\"showland\":true,\"subunitcolor\":\"white\"},\"hoverlabel\":{\"align\":\"left\"},\"hovermode\":\"closest\",\"mapbox\":{\"style\":\"light\"},\"paper_bgcolor\":\"white\",\"plot_bgcolor\":\"#E5ECF6\",\"polar\":{\"angularaxis\":{\"gridcolor\":\"white\",\"linecolor\":\"white\",\"ticks\":\"\"},\"bgcolor\":\"#E5ECF6\",\"radialaxis\":{\"gridcolor\":\"white\",\"linecolor\":\"white\",\"ticks\":\"\"}},\"scene\":{\"xaxis\":{\"backgroundcolor\":\"#E5ECF6\",\"gridcolor\":\"white\",\"gridwidth\":2,\"linecolor\":\"white\",\"showbackground\":true,\"ticks\":\"\",\"zerolinecolor\":\"white\"},\"yaxis\":{\"backgroundcolor\":\"#E5ECF6\",\"gridcolor\":\"white\",\"gridwidth\":2,\"linecolor\":\"white\",\"showbackground\":true,\"ticks\":\"\",\"zerolinecolor\":\"white\"},\"zaxis\":{\"backgroundcolor\":\"#E5ECF6\",\"gridcolor\":\"white\",\"gridwidth\":2,\"linecolor\":\"white\",\"showbackground\":true,\"ticks\":\"\",\"zerolinecolor\":\"white\"}},\"shapedefaults\":{\"line\":{\"color\":\"#2a3f5f\"}},\"ternary\":{\"aaxis\":{\"gridcolor\":\"white\",\"linecolor\":\"white\",\"ticks\":\"\"},\"baxis\":{\"gridcolor\":\"white\",\"linecolor\":\"white\",\"ticks\":\"\"},\"bgcolor\":\"#E5ECF6\",\"caxis\":{\"gridcolor\":\"white\",\"linecolor\":\"white\",\"ticks\":\"\"}},\"title\":{\"x\":0.05},\"xaxis\":{\"automargin\":true,\"gridcolor\":\"white\",\"linecolor\":\"white\",\"ticks\":\"\",\"title\":{\"standoff\":15},\"zerolinecolor\":\"white\",\"zerolinewidth\":2},\"yaxis\":{\"automargin\":true,\"gridcolor\":\"white\",\"linecolor\":\"white\",\"ticks\":\"\",\"title\":{\"standoff\":15},\"zerolinecolor\":\"white\",\"zerolinewidth\":2}}},\"title\":{\"text\":\"<i><b>Confusion matrix</b></i>\"},\"margin\":{\"t\":50,\"l\":200}},                        {\"responsive\": true}                    ).then(function(){\n",
              "                            \n",
              "var gd = document.getElementById('03632896-8faa-4141-8a7d-2c3e36c8ce39');\n",
              "var x = new MutationObserver(function (mutations, observer) {{\n",
              "        var display = window.getComputedStyle(gd).display;\n",
              "        if (!display || display === 'none') {{\n",
              "            console.log([gd, 'removed!']);\n",
              "            Plotly.purge(gd);\n",
              "            observer.disconnect();\n",
              "        }}\n",
              "}});\n",
              "\n",
              "// Listen for the removal of the full notebook cells\n",
              "var notebookContainer = gd.closest('#notebook-container');\n",
              "if (notebookContainer) {{\n",
              "    x.observe(notebookContainer, {childList: true});\n",
              "}}\n",
              "\n",
              "// Listen for the clearing of the current output cell\n",
              "var outputEl = gd.closest('.output');\n",
              "if (outputEl) {{\n",
              "    x.observe(outputEl, {childList: true});\n",
              "}}\n",
              "\n",
              "                        })                };                            </script>        </div>\n",
              "</body>\n",
              "</html>"
            ]
          },
          "metadata": {}
        }
      ]
    }
  ]
}