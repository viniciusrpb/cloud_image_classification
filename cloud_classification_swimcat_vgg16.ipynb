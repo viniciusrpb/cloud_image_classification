{
  "nbformat": 4,
  "nbformat_minor": 0,
  "metadata": {
    "kernelspec": {
      "display_name": "Python 3",
      "language": "python",
      "name": "python3"
    },
    "language_info": {
      "codemirror_mode": {
        "name": "ipython",
        "version": 3
      },
      "file_extension": ".py",
      "mimetype": "text/x-python",
      "name": "python",
      "nbconvert_exporter": "python",
      "pygments_lexer": "ipython3",
      "version": "3.6.10"
    },
    "colab": {
      "name": "cloud_classification_swimcat_vgg16.ipynb",
      "provenance": [],
      "collapsed_sections": [],
      "include_colab_link": true
    },
    "accelerator": "GPU"
  },
  "cells": [
    {
      "cell_type": "markdown",
      "metadata": {
        "id": "view-in-github",
        "colab_type": "text"
      },
      "source": [
        "<a href=\"https://colab.research.google.com/github/viniciusrpb/cloud_image_classification/blob/main/cloud_classification_swimcat_vgg16.ipynb\" target=\"_parent\"><img src=\"https://colab.research.google.com/assets/colab-badge.svg\" alt=\"Open In Colab\"/></a>"
      ]
    },
    {
      "cell_type": "code",
      "metadata": {
        "id": "Lf68PvvD_GXN"
      },
      "source": [
        "#from google.colab import drive\n",
        "#drive.mount('/content/drive')"
      ],
      "execution_count": 1,
      "outputs": []
    },
    {
      "cell_type": "markdown",
      "source": [
        "# New Section"
      ],
      "metadata": {
        "id": "uSEdHGn26Hzg"
      }
    },
    {
      "cell_type": "code",
      "metadata": {
        "id": "6o0SMmf8z9qD"
      },
      "source": [
        "#!pip install tensorflow_addons"
      ],
      "execution_count": 2,
      "outputs": []
    },
    {
      "cell_type": "code",
      "metadata": {
        "id": "voJBV5X_g0B6"
      },
      "source": [
        "#!cp -r \"/content/drive/My Drive/img_satelite/classificacao/SWIMCAT/train\" \"training\"\n",
        "#!cp -r \"/content/drive/My Drive/img_satelite/classificacao/SWIMCAT/val\" \"validation\"\n",
        "#!cp -r \"/content/drive/My Drive/img_satelite/classificacao/SWIMCAT/test\" \"testing\""
      ],
      "execution_count": 3,
      "outputs": []
    },
    {
      "cell_type": "code",
      "metadata": {
        "id": "W384maMHy7Yc"
      },
      "source": [
        "import tensorflow as tf\n",
        "from tensorflow.keras.optimizers import RMSprop\n",
        "from tensorflow.keras.preprocessing.image import ImageDataGenerator\n",
        "from keras.layers import Dense,GlobalAveragePooling2D ,MaxPooling2D,Activation,Flatten,Conv2D,BatchNormalization,Dropout\n",
        "from tensorflow.keras import layers\n",
        "from tensorflow.keras import Model\n",
        "import keras.applications\n",
        "from keras.models import Sequential\n",
        "from tensorflow.keras.optimizers import SGD\n",
        "import matplotlib.pyplot as plt\n",
        "from sklearn.metrics import classification_report\n",
        "from sklearn.metrics import confusion_matrix\n",
        "import numpy as np\n",
        "import tensorflow_addons as tfa\n",
        "from tensorflow.keras.callbacks import ModelCheckpoint,EarlyStopping,ReduceLROnPlateau"
      ],
      "execution_count": 4,
      "outputs": []
    },
    {
      "cell_type": "code",
      "metadata": {
        "id": "ThJjNtJBi900"
      },
      "source": [
        "path_train = 'training'\n",
        "path_validation = 'validation'\n",
        "path_test = 'testing'"
      ],
      "execution_count": 5,
      "outputs": []
    },
    {
      "cell_type": "markdown",
      "metadata": {
        "id": "3-0nc-LxNSF2"
      },
      "source": [
        "# Pretrained VGG16 model using ImageNet\n"
      ]
    },
    {
      "cell_type": "markdown",
      "metadata": {
        "id": "Q8ZNyeF4v9FL"
      },
      "source": [
        "Hyperparameters"
      ]
    },
    {
      "cell_type": "code",
      "metadata": {
        "id": "js1kaBFGv9MD"
      },
      "source": [
        "batch_size = 16\n",
        "epochs=20\n",
        "dim = (224,224)"
      ],
      "execution_count": 6,
      "outputs": []
    },
    {
      "cell_type": "code",
      "metadata": {
        "id": "yWx2apyg_GXQ"
      },
      "source": [
        "#from tensorflow.keras.applications.inception_v3 import InceptionV3\n",
        "from tensorflow.keras.applications.vgg16 import VGG16\n",
        "\n",
        "pre_trained_model = VGG16(input_shape=(224,224,3),include_top=False,pooling ='avg',weights='imagenet', classes=5)\n",
        "\n",
        "for layer in pre_trained_model.layers:\n",
        "  layer.trainable = False"
      ],
      "execution_count": 7,
      "outputs": []
    },
    {
      "cell_type": "markdown",
      "metadata": {
        "id": "sHw1dYWP_GXV"
      },
      "source": [
        "### Data augmentation"
      ]
    },
    {
      "cell_type": "code",
      "metadata": {
        "id": "qh3pPvvDzvEq"
      },
      "source": [
        "#train_datagen = ImageDataGenerator(rescale=1. / 255,brightness_range=[0.4,1.5],zoom_range=0.3,horizontal_flip=True, vertical_flip=True,width_shift_range=0.2, height_shift_range=0.2,rotation_range=30, fill_mode='nearest')\n",
        "\n",
        "train_datagen = ImageDataGenerator(rescale=1. / 255)\n",
        "\n",
        "validation_datagen = ImageDataGenerator(rescale=1. / 255)\n",
        "\n",
        "test_datagen = ImageDataGenerator(rescale=1. / 255)\n"
      ],
      "execution_count": 8,
      "outputs": []
    },
    {
      "cell_type": "markdown",
      "metadata": {
        "id": "mfA7Ta99wW_a"
      },
      "source": [
        "Read the images"
      ]
    },
    {
      "cell_type": "code",
      "metadata": {
        "colab": {
          "base_uri": "https://localhost:8080/"
        },
        "id": "c5Fpl71WwXGa",
        "outputId": "f3d34273-3e11-404f-f4b3-039bf25af64c"
      },
      "source": [
        "# Flow training images in batches of 20 using train_datagen generator\n",
        "train_generator = train_datagen.flow_from_directory(path_train,\n",
        "                                                    batch_size = batch_size,\n",
        "                                                    class_mode = 'categorical', \n",
        "                                                    target_size = (224,224))     \n",
        "\n",
        "# Flow validation images in batches of 20 using test_datagen generator\n",
        "validation_generator =  validation_datagen.flow_from_directory( path_validation,\n",
        "                                                          batch_size  = batch_size,\n",
        "                                                          class_mode  = 'categorical', \n",
        "                                                          target_size = (224,224))\n",
        "\n",
        "test_generator =  test_datagen.flow_from_directory( path_test,\n",
        "                                                          batch_size  = batch_size,\n",
        "                                                          class_mode  = 'categorical', \n",
        "                                                          target_size = (224,224))"
      ],
      "execution_count": 9,
      "outputs": [
        {
          "output_type": "stream",
          "name": "stdout",
          "text": [
            "Found 546 images belonging to 5 classes.\n",
            "Found 76 images belonging to 5 classes.\n",
            "Found 162 images belonging to 5 classes.\n"
          ]
        }
      ]
    },
    {
      "cell_type": "markdown",
      "metadata": {
        "id": "JV5TTVwGtY1p"
      },
      "source": [
        "Hyper-parameters"
      ]
    },
    {
      "cell_type": "code",
      "metadata": {
        "id": "fcNysNaZtY74"
      },
      "source": [
        "number_of_neurons = 512\n",
        "number_of_classes = 5"
      ],
      "execution_count": 10,
      "outputs": []
    },
    {
      "cell_type": "markdown",
      "metadata": {
        "id": "Qh_m54z-5VW8"
      },
      "source": [
        "Lets see some samples"
      ]
    },
    {
      "cell_type": "code",
      "metadata": {
        "id": "mDvSxorK_GXV"
      },
      "source": [
        "model = Sequential()\n",
        "\n",
        "model.add(pre_trained_model)\n",
        "model.add(BatchNormalization())\n",
        "#model.add(GlobalAveragePooling2D())\n",
        "model.add(Flatten())\n",
        "\n",
        "# 1st hidden layer\n",
        "model.add(Dense(number_of_neurons,activation=\"relu\"))\n",
        "model.add(Dropout(0.2))\n",
        "#model.add(BatchNormalization())\n",
        "\n",
        "model.add(Dense(number_of_neurons//2,activation=\"relu\"))\n",
        "model.add(Dropout(0.2))\n",
        "#model.add(BatchNormalization())\n",
        "\n",
        "\n",
        "# 3rd hidden layer : 75 neurons\n",
        "#model.add(Dense(number_of_neurons//4,activation=\"relu\"))\n",
        "#model.add(Dropout(0.5))\n",
        "#model.add(BatchNormalization())\n",
        "\n",
        "model.add(Dense(number_of_classes,activation=\"softmax\"))"
      ],
      "execution_count": 11,
      "outputs": []
    },
    {
      "cell_type": "code",
      "metadata": {
        "id": "sqeVzAQhsj6i"
      },
      "source": [
        "sgd = SGD(learning_rate= 0.01, momentum = 0.9, nesterov = False)\n",
        "\n",
        "f1_score = tfa.metrics.F1Score(num_classes=number_of_classes, average='macro',threshold=0.5)\n",
        "\n",
        "model.compile(optimizer = sgd, \n",
        "              loss = 'categorical_crossentropy', \n",
        "              metrics = ['accuracy',f1_score])\n",
        "\n"
      ],
      "execution_count": 12,
      "outputs": []
    },
    {
      "cell_type": "markdown",
      "source": [
        "Callbacks definition to reduce chances of overfitting the model"
      ],
      "metadata": {
        "id": "pPCZL5X4ePlB"
      }
    },
    {
      "cell_type": "code",
      "source": [
        "fname = \"weights-vgg16-improvement-{epoch:02d}-{val_accuracy:.2f}.hdf5\"\n",
        "\n",
        "resnet_checkpoint = ModelCheckpoint(fname, monitor='val_accuracy', verbose=1, save_best_only=True, mode='max')\n",
        "\n",
        "resnet_early_stopping = EarlyStopping(monitor='loss', patience=5)\n",
        "reduce_lr = ReduceLROnPlateau(monitor='val_loss', factor=0.05, patience=5, min_lr=0.000002)\n",
        "callbacklist = [resnet_checkpoint,resnet_early_stopping,reduce_lr]"
      ],
      "metadata": {
        "id": "WUOueU5ZePt4"
      },
      "execution_count": 13,
      "outputs": []
    },
    {
      "cell_type": "code",
      "metadata": {
        "id": "c9zT6oaF_GXX",
        "colab": {
          "base_uri": "https://localhost:8080/"
        },
        "outputId": "245050ca-2248-4dd1-cd5a-650622be168d"
      },
      "source": [
        "history_fine = model.fit(train_generator,\n",
        "                         epochs=epochs,\n",
        "                         batch_size=batch_size,\n",
        "                         validation_data=validation_generator,\n",
        "                         callbacks=callbacklist\n",
        "                         )"
      ],
      "execution_count": 14,
      "outputs": [
        {
          "output_type": "stream",
          "name": "stdout",
          "text": [
            "Epoch 1/20\n",
            "35/35 [==============================] - ETA: 0s - loss: 0.5972 - accuracy: 0.8004 - f1_score: 0.7044\n",
            "Epoch 1: val_accuracy improved from -inf to 0.50000, saving model to weights-vgg16-improvement-01-0.50.hdf5\n",
            "35/35 [==============================] - 322s 9s/step - loss: 0.5972 - accuracy: 0.8004 - f1_score: 0.7044 - val_loss: 1.6985 - val_accuracy: 0.5000 - val_f1_score: 0.2772 - lr: 0.0100\n",
            "Epoch 2/20\n",
            "35/35 [==============================] - ETA: 0s - loss: 0.1309 - accuracy: 0.9670 - f1_score: 0.9572\n",
            "Epoch 2: val_accuracy did not improve from 0.50000\n",
            "35/35 [==============================] - 304s 9s/step - loss: 0.1309 - accuracy: 0.9670 - f1_score: 0.9572 - val_loss: 1.3917 - val_accuracy: 0.5000 - val_f1_score: 0.2593 - lr: 0.0100\n",
            "Epoch 3/20\n",
            "35/35 [==============================] - ETA: 0s - loss: 0.1071 - accuracy: 0.9652 - f1_score: 0.9583\n",
            "Epoch 3: val_accuracy did not improve from 0.50000\n",
            "35/35 [==============================] - 303s 9s/step - loss: 0.1071 - accuracy: 0.9652 - f1_score: 0.9583 - val_loss: 1.2805 - val_accuracy: 0.4605 - val_f1_score: 0.2828 - lr: 0.0100\n",
            "Epoch 4/20\n",
            "35/35 [==============================] - ETA: 0s - loss: 0.0701 - accuracy: 0.9780 - f1_score: 0.9689\n",
            "Epoch 4: val_accuracy improved from 0.50000 to 0.52632, saving model to weights-vgg16-improvement-04-0.53.hdf5\n",
            "35/35 [==============================] - 303s 9s/step - loss: 0.0701 - accuracy: 0.9780 - f1_score: 0.9689 - val_loss: 1.2472 - val_accuracy: 0.5263 - val_f1_score: 0.3627 - lr: 0.0100\n",
            "Epoch 5/20\n",
            "35/35 [==============================] - ETA: 0s - loss: 0.1413 - accuracy: 0.9560 - f1_score: 0.9395\n",
            "Epoch 5: val_accuracy improved from 0.52632 to 0.60526, saving model to weights-vgg16-improvement-05-0.61.hdf5\n",
            "35/35 [==============================] - 303s 9s/step - loss: 0.1413 - accuracy: 0.9560 - f1_score: 0.9395 - val_loss: 1.0929 - val_accuracy: 0.6053 - val_f1_score: 0.4854 - lr: 0.0100\n",
            "Epoch 6/20\n",
            "35/35 [==============================] - ETA: 0s - loss: 0.0502 - accuracy: 0.9890 - f1_score: 0.9848\n",
            "Epoch 6: val_accuracy did not improve from 0.60526\n",
            "35/35 [==============================] - 304s 9s/step - loss: 0.0502 - accuracy: 0.9890 - f1_score: 0.9848 - val_loss: 0.8997 - val_accuracy: 0.5921 - val_f1_score: 0.5521 - lr: 0.0100\n",
            "Epoch 7/20\n",
            "35/35 [==============================] - ETA: 0s - loss: 0.0829 - accuracy: 0.9780 - f1_score: 0.9723\n",
            "Epoch 7: val_accuracy improved from 0.60526 to 0.71053, saving model to weights-vgg16-improvement-07-0.71.hdf5\n",
            "35/35 [==============================] - 307s 9s/step - loss: 0.0829 - accuracy: 0.9780 - f1_score: 0.9723 - val_loss: 0.6749 - val_accuracy: 0.7105 - val_f1_score: 0.6684 - lr: 0.0100\n",
            "Epoch 8/20\n",
            "35/35 [==============================] - ETA: 0s - loss: 0.0625 - accuracy: 0.9817 - f1_score: 0.9729\n",
            "Epoch 8: val_accuracy improved from 0.71053 to 0.76316, saving model to weights-vgg16-improvement-08-0.76.hdf5\n",
            "35/35 [==============================] - 306s 9s/step - loss: 0.0625 - accuracy: 0.9817 - f1_score: 0.9729 - val_loss: 0.5387 - val_accuracy: 0.7632 - val_f1_score: 0.6894 - lr: 0.0100\n",
            "Epoch 9/20\n",
            "35/35 [==============================] - ETA: 0s - loss: 0.0666 - accuracy: 0.9780 - f1_score: 0.9747\n",
            "Epoch 9: val_accuracy improved from 0.76316 to 0.93421, saving model to weights-vgg16-improvement-09-0.93.hdf5\n",
            "35/35 [==============================] - 304s 9s/step - loss: 0.0666 - accuracy: 0.9780 - f1_score: 0.9747 - val_loss: 0.3463 - val_accuracy: 0.9342 - val_f1_score: 0.9126 - lr: 0.0100\n",
            "Epoch 10/20\n",
            "35/35 [==============================] - ETA: 0s - loss: 0.0435 - accuracy: 0.9780 - f1_score: 0.9727\n",
            "Epoch 10: val_accuracy improved from 0.93421 to 0.97368, saving model to weights-vgg16-improvement-10-0.97.hdf5\n",
            "35/35 [==============================] - 307s 9s/step - loss: 0.0435 - accuracy: 0.9780 - f1_score: 0.9727 - val_loss: 0.2352 - val_accuracy: 0.9737 - val_f1_score: 0.9454 - lr: 0.0100\n",
            "Epoch 11/20\n",
            "35/35 [==============================] - ETA: 0s - loss: 0.0584 - accuracy: 0.9725 - f1_score: 0.9683\n",
            "Epoch 11: val_accuracy did not improve from 0.97368\n",
            "35/35 [==============================] - 301s 9s/step - loss: 0.0584 - accuracy: 0.9725 - f1_score: 0.9683 - val_loss: 0.1537 - val_accuracy: 0.9605 - val_f1_score: 0.9262 - lr: 0.0100\n",
            "Epoch 12/20\n",
            "35/35 [==============================] - ETA: 0s - loss: 0.0712 - accuracy: 0.9817 - f1_score: 0.9780\n",
            "Epoch 12: val_accuracy did not improve from 0.97368\n",
            "35/35 [==============================] - 302s 9s/step - loss: 0.0712 - accuracy: 0.9817 - f1_score: 0.9780 - val_loss: 0.1254 - val_accuracy: 0.9605 - val_f1_score: 0.9316 - lr: 0.0100\n",
            "Epoch 13/20\n",
            "35/35 [==============================] - ETA: 0s - loss: 0.0717 - accuracy: 0.9817 - f1_score: 0.9779\n",
            "Epoch 13: val_accuracy improved from 0.97368 to 0.98684, saving model to weights-vgg16-improvement-13-0.99.hdf5\n",
            "35/35 [==============================] - 307s 9s/step - loss: 0.0717 - accuracy: 0.9817 - f1_score: 0.9779 - val_loss: 0.0995 - val_accuracy: 0.9868 - val_f1_score: 0.9385 - lr: 0.0100\n",
            "Epoch 14/20\n",
            "35/35 [==============================] - ETA: 0s - loss: 0.0696 - accuracy: 0.9799 - f1_score: 0.9762\n",
            "Epoch 14: val_accuracy did not improve from 0.98684\n",
            "35/35 [==============================] - 307s 9s/step - loss: 0.0696 - accuracy: 0.9799 - f1_score: 0.9762 - val_loss: 0.0883 - val_accuracy: 0.9605 - val_f1_score: 0.9520 - lr: 0.0100\n",
            "Epoch 15/20\n",
            "35/35 [==============================] - ETA: 0s - loss: 0.0536 - accuracy: 0.9835 - f1_score: 0.9812\n",
            "Epoch 15: val_accuracy did not improve from 0.98684\n",
            "35/35 [==============================] - 309s 9s/step - loss: 0.0536 - accuracy: 0.9835 - f1_score: 0.9812 - val_loss: 0.1298 - val_accuracy: 0.9474 - val_f1_score: 0.9301 - lr: 0.0100\n"
          ]
        }
      ]
    },
    {
      "cell_type": "code",
      "metadata": {
        "id": "1WFZwVEg_GXb"
      },
      "source": [
        "#f1 = history_fine.history['f1_score']\n",
        "#val_f1 = history_fine.history['val_f1_score']\n",
        "\n",
        "#plt.figure(figsize=(8, 8))\n",
        "#plt.subplot(2, 1, 1)\n",
        "#plt.plot(f1, label='Training F1-Score')\n",
        "#plt.plot(val_f1, label='Validation F1-Score')\n",
        "#plt.legend(loc='lower right')\n",
        "#plt.ylabel('F1-Score')\n",
        "#plt.ylim([min(plt.ylim()),1])\n",
        "#plt.title('Training and Validation F1-Score')\n"
      ],
      "execution_count": 15,
      "outputs": []
    },
    {
      "cell_type": "code",
      "source": [
        "f1 = history_fine.history['accuracy']\n",
        "val_f1 = history_fine.history['val_accuracy']\n",
        "\n",
        "plt.figure(figsize=(8, 8))\n",
        "plt.subplot(2, 1, 1)\n",
        "plt.plot(f1, label='Training F1-Score')\n",
        "plt.plot(val_f1, label='Validation F1-Score')\n",
        "plt.legend(loc='lower right')\n",
        "plt.ylabel('F1-Score')\n",
        "plt.ylim([min(plt.ylim()),1])\n",
        "plt.title('Training and Validation F1-Score')\n"
      ],
      "metadata": {
        "id": "fOSIrhK5g1ZF",
        "colab": {
          "base_uri": "https://localhost:8080/",
          "height": 280
        },
        "outputId": "d4129b31-2a5e-4226-81d2-c79811c94420"
      },
      "execution_count": 16,
      "outputs": [
        {
          "output_type": "execute_result",
          "data": {
            "text/plain": [
              "Text(0.5, 1.0, 'Training and Validation F1-Score')"
            ]
          },
          "metadata": {},
          "execution_count": 16
        },
        {
          "output_type": "display_data",
          "data": {
            "text/plain": [
              "<Figure size 576x576 with 1 Axes>"
            ],
            "image/png": "[encoded data removed]"
          },
          "metadata": {
            "needs_background": "light"
          }
        }
      ]
    },
    {
      "cell_type": "code",
      "metadata": {
        "id": "Q8ENVvZSrKrS",
        "colab": {
          "base_uri": "https://localhost:8080/",
          "height": 295
        },
        "outputId": "a59b9c7b-f49f-409a-ec31-efe9ee766e7d"
      },
      "source": [
        "loss = history_fine.history['loss']\n",
        "val_loss = history_fine.history['val_loss']\n",
        "\n",
        "plt.plot(history_fine.history['loss'])\n",
        "plt.plot(history_fine.history['val_loss'])\n",
        "plt.title('model loss')\n",
        "plt.ylabel('loss')\n",
        "plt.xlabel('epoch')\n",
        "plt.legend(['training set', 'validation set'], loc='upper left')\n",
        "plt.show()"
      ],
      "execution_count": 17,
      "outputs": [
        {
          "output_type": "display_data",
          "data": {
            "text/plain": [
              "<Figure size 432x288 with 1 Axes>"
            ],
            "image/png": "[encoded data removed]"
          },
          "metadata": {
            "needs_background": "light"
          }
        }
      ]
    },
    {
      "cell_type": "code",
      "source": [
        "score = model.evaluate(test_generator,batch_size=batch_size) \n",
        "print(f'Test loss: {score[0]} / Test accuracy: {score[1]}')"
      ],
      "metadata": {
        "id": "g2VR_adbrsUp",
        "colab": {
          "base_uri": "https://localhost:8080/"
        },
        "outputId": "2e76dfb4-e8a2-4c2a-ceb9-da85406790cb"
      },
      "execution_count": 18,
      "outputs": [
        {
          "output_type": "stream",
          "name": "stdout",
          "text": [
            "11/11 [==============================] - 79s 7s/step - loss: 0.1277 - accuracy: 0.9630 - f1_score: 0.9551\n",
            "Test loss: 0.12770651280879974 / Test accuracy: 0.9629629850387573\n"
          ]
        }
      ]
    },
    {
      "cell_type": "markdown",
      "metadata": {
        "id": "zFraRq9i9FNA"
      },
      "source": [
        ""
      ]
    },
    {
      "cell_type": "code",
      "metadata": {
        "id": "RXFG_Bn19FTX",
        "colab": {
          "base_uri": "https://localhost:8080/"
        },
        "outputId": "2402a48d-4e85-43fa-fe1b-cea0a0c443d5"
      },
      "source": [
        "#y_prob = model.predict(test_generator,batch_size=batch_size)\n",
        "#y_pred = np.argmax(y_prob,axis=1)\n",
        "\n",
        "y_prob = model.predict(test_generator)\n",
        "y_pred = np.argmax(y_prob,axis=1)\n",
        "#print(pred, labels[np.argmax(pred)])\n",
        "print(classification_report(test_generator.classes,y_pred))"
      ],
      "execution_count": 19,
      "outputs": [
        {
          "output_type": "stream",
          "name": "stdout",
          "text": [
            "              precision    recall  f1-score   support\n",
            "\n",
            "           0       0.28      0.28      0.28        46\n",
            "           1       0.17      0.16      0.16        19\n",
            "           2       0.35      0.37      0.36        51\n",
            "           3       0.23      0.21      0.22        28\n",
            "           4       0.06      0.06      0.06        18\n",
            "\n",
            "    accuracy                           0.26       162\n",
            "   macro avg       0.22      0.22      0.22       162\n",
            "weighted avg       0.25      0.26      0.26       162\n",
            "\n"
          ]
        }
      ]
    },
    {
      "cell_type": "code",
      "source": [
        "test_generator.classes"
      ],
      "metadata": {
        "id": "cbxMbryxo31y",
        "colab": {
          "base_uri": "https://localhost:8080/"
        },
        "outputId": "aa41035b-e8e0-427b-e951-5a8d6775aff7"
      },
      "execution_count": 20,
      "outputs": [
        {
          "output_type": "execute_result",
          "data": {
            "text/plain": [
              "array([0, 0, 0, 0, 0, 0, 0, 0, 0, 0, 0, 0, 0, 0, 0, 0, 0, 0, 0, 0, 0, 0,\n",
              "       0, 0, 0, 0, 0, 0, 0, 0, 0, 0, 0, 0, 0, 0, 0, 0, 0, 0, 0, 0, 0, 0,\n",
              "       0, 0, 1, 1, 1, 1, 1, 1, 1, 1, 1, 1, 1, 1, 1, 1, 1, 1, 1, 1, 1, 2,\n",
              "       2, 2, 2, 2, 2, 2, 2, 2, 2, 2, 2, 2, 2, 2, 2, 2, 2, 2, 2, 2, 2, 2,\n",
              "       2, 2, 2, 2, 2, 2, 2, 2, 2, 2, 2, 2, 2, 2, 2, 2, 2, 2, 2, 2, 2, 2,\n",
              "       2, 2, 2, 2, 2, 2, 3, 3, 3, 3, 3, 3, 3, 3, 3, 3, 3, 3, 3, 3, 3, 3,\n",
              "       3, 3, 3, 3, 3, 3, 3, 3, 3, 3, 3, 3, 4, 4, 4, 4, 4, 4, 4, 4, 4, 4,\n",
              "       4, 4, 4, 4, 4, 4, 4, 4], dtype=int32)"
            ]
          },
          "metadata": {},
          "execution_count": 20
        }
      ]
    },
    {
      "cell_type": "code",
      "source": [
        "y_pred"
      ],
      "metadata": {
        "id": "_C6CCDiayO0g",
        "colab": {
          "base_uri": "https://localhost:8080/"
        },
        "outputId": "81026904-b4af-46fc-b411-328819054cc9"
      },
      "execution_count": 21,
      "outputs": [
        {
          "output_type": "execute_result",
          "data": {
            "text/plain": [
              "array([2, 2, 3, 0, 0, 3, 0, 0, 0, 0, 0, 1, 2, 2, 0, 2, 2, 4, 4, 4, 1, 2,\n",
              "       3, 2, 2, 3, 0, 3, 0, 2, 2, 2, 0, 2, 1, 2, 3, 0, 2, 0, 3, 2, 2, 2,\n",
              "       3, 2, 4, 1, 2, 4, 3, 0, 0, 0, 0, 1, 2, 4, 0, 2, 3, 3, 0, 1, 0, 2,\n",
              "       0, 4, 4, 0, 3, 2, 0, 2, 3, 4, 4, 0, 2, 2, 0, 0, 4, 2, 0, 4, 1, 2,\n",
              "       0, 3, 3, 2, 1, 2, 1, 0, 2, 4, 3, 2, 2, 3, 3, 2, 0, 2, 0, 3, 2, 2,\n",
              "       4, 0, 2, 2, 0, 2, 0, 3, 1, 2, 2, 0, 0, 1, 1, 2, 2, 2, 2, 3, 0, 1,\n",
              "       3, 0, 0, 0, 4, 3, 2, 2, 4, 3, 3, 2, 0, 0, 1, 2, 0, 4, 3, 1, 0, 2,\n",
              "       1, 0, 2, 1, 0, 2, 1, 2])"
            ]
          },
          "metadata": {},
          "execution_count": 21
        }
      ]
    },
    {
      "cell_type": "code",
      "source": [
        "import plotly.figure_factory as ff\n",
        "\n",
        "y_true = test_generator.classes\n",
        "\n",
        "z = confusion_matrix(y_true, y_pred)\n",
        "\n",
        "x = list(test_generator.class_indices.keys())\n",
        "\n",
        "y = list(test_generator.class_indices.keys())\n"
      ],
      "metadata": {
        "id": "5NOZQOgN_DHU"
      },
      "execution_count": 22,
      "outputs": []
    },
    {
      "cell_type": "code",
      "metadata": {
        "id": "EHxUyHkC1URt",
        "colab": {
          "base_uri": "https://localhost:8080/",
          "height": 542
        },
        "outputId": "fd683b62-8cd4-4d23-e5cf-9745c0118635"
      },
      "source": [
        "# change each element of z to type string for annotations\n",
        "z_text = [[str(y) for y in x] for x in z]\n",
        "\n",
        "# set up figure \n",
        "fig = ff.create_annotated_heatmap(z, x=x, y=y, annotation_text=z_text, colorscale='Viridis')\n",
        "\n",
        "# add title\n",
        "fig.update_layout(title_text='<i><b>Confusion matrix</b></i>',\n",
        "                  #xaxis = dict(title='x'),\n",
        "                  #yaxis = dict(title='x')\n",
        "                 )\n",
        "\n",
        "# add custom xaxis title\n",
        "fig.add_annotation(dict(font=dict(color=\"black\",size=14),\n",
        "                        x=0.5,\n",
        "                        y=-0.15,\n",
        "                        showarrow=False,\n",
        "                        text=\"Predicted value\",\n",
        "                        xref=\"paper\",\n",
        "                        yref=\"paper\"))\n",
        "\n",
        "# add custom yaxis title\n",
        "fig.add_annotation(dict(font=dict(color=\"black\",size=14),\n",
        "                        x=-0.35,\n",
        "                        y=0.5,\n",
        "                        showarrow=False,\n",
        "                        text=\"Real value\",\n",
        "                        textangle=-90,\n",
        "                        xref=\"paper\",\n",
        "                        yref=\"paper\"))\n",
        "\n",
        "# adjust margins to make room for yaxis title\n",
        "fig.update_layout(margin=dict(t=50, l=200))\n",
        "\n",
        "# add colorbar\n",
        "fig['data'][0]['showscale'] = True\n",
        "fig.show()"
      ],
      "execution_count": 23,
      "outputs": [
        {
          "output_type": "display_data",
          "data": {
            "text/html": [
              "<html>\n",
              "<head><meta charset=\"utf-8\" /></head>\n",
              "<body>\n",
              "    <div>            <script src=\"https://cdnjs.cloudflare.com/ajax/libs/mathjax/2.7.5/MathJax.js?config=TeX-AMS-MML_SVG\"></script><script type=\"text/javascript\">if (window.MathJax) {MathJax.Hub.Config({SVG: {font: \"STIX-Web\"}});}</script>                <script type=\"text/javascript\">window.PlotlyConfig = {MathJaxConfig: 'local'};</script>\n",
              "        <script src=\"https://cdn.plot.ly/plotly-2.8.3.min.js\"></script>                <div id=\"f715497e-981b-4496-b512-f0aba4ab75ce\" class=\"plotly-graph-div\" style=\"height:525px; width:100%;\"></div>            <script type=\"text/javascript\">                                    window.PLOTLYENV=window.PLOTLYENV || {};                                    if (document.getElementById(\"f715497e-981b-4496-b512-f0aba4ab75ce\")) {                    Plotly.newPlot(                        \"f715497e-981b-4496-b512-f0aba4ab75ce\",                        [{\"colorscale\":[[0.0,\"#440154\"],[0.1111111111111111,\"#482878\"],[0.2222222222222222,\"#3e4989\"],[0.3333333333333333,\"#31688e\"],[0.4444444444444444,\"#26828e\"],[0.5555555555555556,\"#1f9e89\"],[0.6666666666666666,\"#35b779\"],[0.7777777777777778,\"#6ece58\"],[0.8888888888888888,\"#b5de2b\"],[1.0,\"#fde725\"]],\"reversescale\":false,\"showscale\":true,\"x\":[\"A-sky\",\"B-pattern\",\"C-thick-dark\",\"D-thick-white\",\"E-veil\"],\"y\":[\"A-sky\",\"B-pattern\",\"C-thick-dark\",\"D-thick-white\",\"E-veil\"],\"z\":[[13,3,19,8,3],[7,3,3,3,3],[13,3,19,8,8],[7,4,9,6,2],[6,5,5,1,1]],\"type\":\"heatmap\"}],                        {\"annotations\":[{\"font\":{\"color\":\"#000000\"},\"showarrow\":false,\"text\":\"13\",\"x\":\"A-sky\",\"xref\":\"x\",\"y\":\"A-sky\",\"yref\":\"y\"},{\"font\":{\"color\":\"#FFFFFF\"},\"showarrow\":false,\"text\":\"3\",\"x\":\"B-pattern\",\"xref\":\"x\",\"y\":\"A-sky\",\"yref\":\"y\"},{\"font\":{\"color\":\"#000000\"},\"showarrow\":false,\"text\":\"19\",\"x\":\"C-thick-dark\",\"xref\":\"x\",\"y\":\"A-sky\",\"yref\":\"y\"},{\"font\":{\"color\":\"#FFFFFF\"},\"showarrow\":false,\"text\":\"8\",\"x\":\"D-thick-white\",\"xref\":\"x\",\"y\":\"A-sky\",\"yref\":\"y\"},{\"font\":{\"color\":\"#FFFFFF\"},\"showarrow\":false,\"text\":\"3\",\"x\":\"E-veil\",\"xref\":\"x\",\"y\":\"A-sky\",\"yref\":\"y\"},{\"font\":{\"color\":\"#FFFFFF\"},\"showarrow\":false,\"text\":\"7\",\"x\":\"A-sky\",\"xref\":\"x\",\"y\":\"B-pattern\",\"yref\":\"y\"},{\"font\":{\"color\":\"#FFFFFF\"},\"showarrow\":false,\"text\":\"3\",\"x\":\"B-pattern\",\"xref\":\"x\",\"y\":\"B-pattern\",\"yref\":\"y\"},{\"font\":{\"color\":\"#FFFFFF\"},\"showarrow\":false,\"text\":\"3\",\"x\":\"C-thick-dark\",\"xref\":\"x\",\"y\":\"B-pattern\",\"yref\":\"y\"},{\"font\":{\"color\":\"#FFFFFF\"},\"showarrow\":false,\"text\":\"3\",\"x\":\"D-thick-white\",\"xref\":\"x\",\"y\":\"B-pattern\",\"yref\":\"y\"},{\"font\":{\"color\":\"#FFFFFF\"},\"showarrow\":false,\"text\":\"3\",\"x\":\"E-veil\",\"xref\":\"x\",\"y\":\"B-pattern\",\"yref\":\"y\"},{\"font\":{\"color\":\"#000000\"},\"showarrow\":false,\"text\":\"13\",\"x\":\"A-sky\",\"xref\":\"x\",\"y\":\"C-thick-dark\",\"yref\":\"y\"},{\"font\":{\"color\":\"#FFFFFF\"},\"showarrow\":false,\"text\":\"3\",\"x\":\"B-pattern\",\"xref\":\"x\",\"y\":\"C-thick-dark\",\"yref\":\"y\"},{\"font\":{\"color\":\"#000000\"},\"showarrow\":false,\"text\":\"19\",\"x\":\"C-thick-dark\",\"xref\":\"x\",\"y\":\"C-thick-dark\",\"yref\":\"y\"},{\"font\":{\"color\":\"#FFFFFF\"},\"showarrow\":false,\"text\":\"8\",\"x\":\"D-thick-white\",\"xref\":\"x\",\"y\":\"C-thick-dark\",\"yref\":\"y\"},{\"font\":{\"color\":\"#FFFFFF\"},\"showarrow\":false,\"text\":\"8\",\"x\":\"E-veil\",\"xref\":\"x\",\"y\":\"C-thick-dark\",\"yref\":\"y\"},{\"font\":{\"color\":\"#FFFFFF\"},\"showarrow\":false,\"text\":\"7\",\"x\":\"A-sky\",\"xref\":\"x\",\"y\":\"D-thick-white\",\"yref\":\"y\"},{\"font\":{\"color\":\"#FFFFFF\"},\"showarrow\":false,\"text\":\"4\",\"x\":\"B-pattern\",\"xref\":\"x\",\"y\":\"D-thick-white\",\"yref\":\"y\"},{\"font\":{\"color\":\"#FFFFFF\"},\"showarrow\":false,\"text\":\"9\",\"x\":\"C-thick-dark\",\"xref\":\"x\",\"y\":\"D-thick-white\",\"yref\":\"y\"},{\"font\":{\"color\":\"#FFFFFF\"},\"showarrow\":false,\"text\":\"6\",\"x\":\"D-thick-white\",\"xref\":\"x\",\"y\":\"D-thick-white\",\"yref\":\"y\"},{\"font\":{\"color\":\"#FFFFFF\"},\"showarrow\":false,\"text\":\"2\",\"x\":\"E-veil\",\"xref\":\"x\",\"y\":\"D-thick-white\",\"yref\":\"y\"},{\"font\":{\"color\":\"#FFFFFF\"},\"showarrow\":false,\"text\":\"6\",\"x\":\"A-sky\",\"xref\":\"x\",\"y\":\"E-veil\",\"yref\":\"y\"},{\"font\":{\"color\":\"#FFFFFF\"},\"showarrow\":false,\"text\":\"5\",\"x\":\"B-pattern\",\"xref\":\"x\",\"y\":\"E-veil\",\"yref\":\"y\"},{\"font\":{\"color\":\"#FFFFFF\"},\"showarrow\":false,\"text\":\"5\",\"x\":\"C-thick-dark\",\"xref\":\"x\",\"y\":\"E-veil\",\"yref\":\"y\"},{\"font\":{\"color\":\"#FFFFFF\"},\"showarrow\":false,\"text\":\"1\",\"x\":\"D-thick-white\",\"xref\":\"x\",\"y\":\"E-veil\",\"yref\":\"y\"},{\"font\":{\"color\":\"#FFFFFF\"},\"showarrow\":false,\"text\":\"1\",\"x\":\"E-veil\",\"xref\":\"x\",\"y\":\"E-veil\",\"yref\":\"y\"},{\"font\":{\"color\":\"black\",\"size\":14},\"showarrow\":false,\"text\":\"Predicted value\",\"x\":0.5,\"xref\":\"paper\",\"y\":-0.15,\"yref\":\"paper\"},{\"font\":{\"color\":\"black\",\"size\":14},\"showarrow\":false,\"text\":\"Real value\",\"textangle\":-90,\"x\":-0.35,\"xref\":\"paper\",\"y\":0.5,\"yref\":\"paper\"}],\"xaxis\":{\"dtick\":1,\"gridcolor\":\"rgb(0, 0, 0)\",\"side\":\"top\",\"ticks\":\"\"},\"yaxis\":{\"dtick\":1,\"ticks\":\"\",\"ticksuffix\":\"  \"},\"template\":{\"data\":{\"bar\":[{\"error_x\":{\"color\":\"#2a3f5f\"},\"error_y\":{\"color\":\"#2a3f5f\"},\"marker\":{\"line\":{\"color\":\"#E5ECF6\",\"width\":0.5},\"pattern\":{\"fillmode\":\"overlay\",\"size\":10,\"solidity\":0.2}},\"type\":\"bar\"}],\"barpolar\":[{\"marker\":{\"line\":{\"color\":\"#E5ECF6\",\"width\":0.5},\"pattern\":{\"fillmode\":\"overlay\",\"size\":10,\"solidity\":0.2}},\"type\":\"barpolar\"}],\"carpet\":[{\"aaxis\":{\"endlinecolor\":\"#2a3f5f\",\"gridcolor\":\"white\",\"linecolor\":\"white\",\"minorgridcolor\":\"white\",\"startlinecolor\":\"#2a3f5f\"},\"baxis\":{\"endlinecolor\":\"#2a3f5f\",\"gridcolor\":\"white\",\"linecolor\":\"white\",\"minorgridcolor\":\"white\",\"startlinecolor\":\"#2a3f5f\"},\"type\":\"carpet\"}],\"choropleth\":[{\"colorbar\":{\"outlinewidth\":0,\"ticks\":\"\"},\"type\":\"choropleth\"}],\"contour\":[{\"colorbar\":{\"outlinewidth\":0,\"ticks\":\"\"},\"colorscale\":[[0.0,\"#0d0887\"],[0.1111111111111111,\"#46039f\"],[0.2222222222222222,\"#7201a8\"],[0.3333333333333333,\"#9c179e\"],[0.4444444444444444,\"#bd3786\"],[0.5555555555555556,\"#d8576b\"],[0.6666666666666666,\"#ed7953\"],[0.7777777777777778,\"#fb9f3a\"],[0.8888888888888888,\"#fdca26\"],[1.0,\"#f0f921\"]],\"type\":\"contour\"}],\"contourcarpet\":[{\"colorbar\":{\"outlinewidth\":0,\"ticks\":\"\"},\"type\":\"contourcarpet\"}],\"heatmap\":[{\"colorbar\":{\"outlinewidth\":0,\"ticks\":\"\"},\"colorscale\":[[0.0,\"#0d0887\"],[0.1111111111111111,\"#46039f\"],[0.2222222222222222,\"#7201a8\"],[0.3333333333333333,\"#9c179e\"],[0.4444444444444444,\"#bd3786\"],[0.5555555555555556,\"#d8576b\"],[0.6666666666666666,\"#ed7953\"],[0.7777777777777778,\"#fb9f3a\"],[0.8888888888888888,\"#fdca26\"],[1.0,\"#f0f921\"]],\"type\":\"heatmap\"}],\"heatmapgl\":[{\"colorbar\":{\"outlinewidth\":0,\"ticks\":\"\"},\"colorscale\":[[0.0,\"#0d0887\"],[0.1111111111111111,\"#46039f\"],[0.2222222222222222,\"#7201a8\"],[0.3333333333333333,\"#9c179e\"],[0.4444444444444444,\"#bd3786\"],[0.5555555555555556,\"#d8576b\"],[0.6666666666666666,\"#ed7953\"],[0.7777777777777778,\"#fb9f3a\"],[0.8888888888888888,\"#fdca26\"],[1.0,\"#f0f921\"]],\"type\":\"heatmapgl\"}],\"histogram\":[{\"marker\":{\"pattern\":{\"fillmode\":\"overlay\",\"size\":10,\"solidity\":0.2}},\"type\":\"histogram\"}],\"histogram2d\":[{\"colorbar\":{\"outlinewidth\":0,\"ticks\":\"\"},\"colorscale\":[[0.0,\"#0d0887\"],[0.1111111111111111,\"#46039f\"],[0.2222222222222222,\"#7201a8\"],[0.3333333333333333,\"#9c179e\"],[0.4444444444444444,\"#bd3786\"],[0.5555555555555556,\"#d8576b\"],[0.6666666666666666,\"#ed7953\"],[0.7777777777777778,\"#fb9f3a\"],[0.8888888888888888,\"#fdca26\"],[1.0,\"#f0f921\"]],\"type\":\"histogram2d\"}],\"histogram2dcontour\":[{\"colorbar\":{\"outlinewidth\":0,\"ticks\":\"\"},\"colorscale\":[[0.0,\"#0d0887\"],[0.1111111111111111,\"#46039f\"],[0.2222222222222222,\"#7201a8\"],[0.3333333333333333,\"#9c179e\"],[0.4444444444444444,\"#bd3786\"],[0.5555555555555556,\"#d8576b\"],[0.6666666666666666,\"#ed7953\"],[0.7777777777777778,\"#fb9f3a\"],[0.8888888888888888,\"#fdca26\"],[1.0,\"#f0f921\"]],\"type\":\"histogram2dcontour\"}],\"mesh3d\":[{\"colorbar\":{\"outlinewidth\":0,\"ticks\":\"\"},\"type\":\"mesh3d\"}],\"parcoords\":[{\"line\":{\"colorbar\":{\"outlinewidth\":0,\"ticks\":\"\"}},\"type\":\"parcoords\"}],\"pie\":[{\"automargin\":true,\"type\":\"pie\"}],\"scatter\":[{\"marker\":{\"colorbar\":{\"outlinewidth\":0,\"ticks\":\"\"}},\"type\":\"scatter\"}],\"scatter3d\":[{\"line\":{\"colorbar\":{\"outlinewidth\":0,\"ticks\":\"\"}},\"marker\":{\"colorbar\":{\"outlinewidth\":0,\"ticks\":\"\"}},\"type\":\"scatter3d\"}],\"scattercarpet\":[{\"marker\":{\"colorbar\":{\"outlinewidth\":0,\"ticks\":\"\"}},\"type\":\"scattercarpet\"}],\"scattergeo\":[{\"marker\":{\"colorbar\":{\"outlinewidth\":0,\"ticks\":\"\"}},\"type\":\"scattergeo\"}],\"scattergl\":[{\"marker\":{\"colorbar\":{\"outlinewidth\":0,\"ticks\":\"\"}},\"type\":\"scattergl\"}],\"scattermapbox\":[{\"marker\":{\"colorbar\":{\"outlinewidth\":0,\"ticks\":\"\"}},\"type\":\"scattermapbox\"}],\"scatterpolar\":[{\"marker\":{\"colorbar\":{\"outlinewidth\":0,\"ticks\":\"\"}},\"type\":\"scatterpolar\"}],\"scatterpolargl\":[{\"marker\":{\"colorbar\":{\"outlinewidth\":0,\"ticks\":\"\"}},\"type\":\"scatterpolargl\"}],\"scatterternary\":[{\"marker\":{\"colorbar\":{\"outlinewidth\":0,\"ticks\":\"\"}},\"type\":\"scatterternary\"}],\"surface\":[{\"colorbar\":{\"outlinewidth\":0,\"ticks\":\"\"},\"colorscale\":[[0.0,\"#0d0887\"],[0.1111111111111111,\"#46039f\"],[0.2222222222222222,\"#7201a8\"],[0.3333333333333333,\"#9c179e\"],[0.4444444444444444,\"#bd3786\"],[0.5555555555555556,\"#d8576b\"],[0.6666666666666666,\"#ed7953\"],[0.7777777777777778,\"#fb9f3a\"],[0.8888888888888888,\"#fdca26\"],[1.0,\"#f0f921\"]],\"type\":\"surface\"}],\"table\":[{\"cells\":{\"fill\":{\"color\":\"#EBF0F8\"},\"line\":{\"color\":\"white\"}},\"header\":{\"fill\":{\"color\":\"#C8D4E3\"},\"line\":{\"color\":\"white\"}},\"type\":\"table\"}]},\"layout\":{\"annotationdefaults\":{\"arrowcolor\":\"#2a3f5f\",\"arrowhead\":0,\"arrowwidth\":1},\"autotypenumbers\":\"strict\",\"coloraxis\":{\"colorbar\":{\"outlinewidth\":0,\"ticks\":\"\"}},\"colorscale\":{\"diverging\":[[0,\"#8e0152\"],[0.1,\"#c51b7d\"],[0.2,\"#de77ae\"],[0.3,\"#f1b6da\"],[0.4,\"#fde0ef\"],[0.5,\"#f7f7f7\"],[0.6,\"#e6f5d0\"],[0.7,\"#b8e186\"],[0.8,\"#7fbc41\"],[0.9,\"#4d9221\"],[1,\"#276419\"]],\"sequential\":[[0.0,\"#0d0887\"],[0.1111111111111111,\"#46039f\"],[0.2222222222222222,\"#7201a8\"],[0.3333333333333333,\"#9c179e\"],[0.4444444444444444,\"#bd3786\"],[0.5555555555555556,\"#d8576b\"],[0.6666666666666666,\"#ed7953\"],[0.7777777777777778,\"#fb9f3a\"],[0.8888888888888888,\"#fdca26\"],[1.0,\"#f0f921\"]],\"sequentialminus\":[[0.0,\"#0d0887\"],[0.1111111111111111,\"#46039f\"],[0.2222222222222222,\"#7201a8\"],[0.3333333333333333,\"#9c179e\"],[0.4444444444444444,\"#bd3786\"],[0.5555555555555556,\"#d8576b\"],[0.6666666666666666,\"#ed7953\"],[0.7777777777777778,\"#fb9f3a\"],[0.8888888888888888,\"#fdca26\"],[1.0,\"#f0f921\"]]},\"colorway\":[\"#636efa\",\"#EF553B\",\"#00cc96\",\"#ab63fa\",\"#FFA15A\",\"#19d3f3\",\"#FF6692\",\"#B6E880\",\"#FF97FF\",\"#FECB52\"],\"font\":{\"color\":\"#2a3f5f\"},\"geo\":{\"bgcolor\":\"white\",\"lakecolor\":\"white\",\"landcolor\":\"#E5ECF6\",\"showlakes\":true,\"showland\":true,\"subunitcolor\":\"white\"},\"hoverlabel\":{\"align\":\"left\"},\"hovermode\":\"closest\",\"mapbox\":{\"style\":\"light\"},\"paper_bgcolor\":\"white\",\"plot_bgcolor\":\"#E5ECF6\",\"polar\":{\"angularaxis\":{\"gridcolor\":\"white\",\"linecolor\":\"white\",\"ticks\":\"\"},\"bgcolor\":\"#E5ECF6\",\"radialaxis\":{\"gridcolor\":\"white\",\"linecolor\":\"white\",\"ticks\":\"\"}},\"scene\":{\"xaxis\":{\"backgroundcolor\":\"#E5ECF6\",\"gridcolor\":\"white\",\"gridwidth\":2,\"linecolor\":\"white\",\"showbackground\":true,\"ticks\":\"\",\"zerolinecolor\":\"white\"},\"yaxis\":{\"backgroundcolor\":\"#E5ECF6\",\"gridcolor\":\"white\",\"gridwidth\":2,\"linecolor\":\"white\",\"showbackground\":true,\"ticks\":\"\",\"zerolinecolor\":\"white\"},\"zaxis\":{\"backgroundcolor\":\"#E5ECF6\",\"gridcolor\":\"white\",\"gridwidth\":2,\"linecolor\":\"white\",\"showbackground\":true,\"ticks\":\"\",\"zerolinecolor\":\"white\"}},\"shapedefaults\":{\"line\":{\"color\":\"#2a3f5f\"}},\"ternary\":{\"aaxis\":{\"gridcolor\":\"white\",\"linecolor\":\"white\",\"ticks\":\"\"},\"baxis\":{\"gridcolor\":\"white\",\"linecolor\":\"white\",\"ticks\":\"\"},\"bgcolor\":\"#E5ECF6\",\"caxis\":{\"gridcolor\":\"white\",\"linecolor\":\"white\",\"ticks\":\"\"}},\"title\":{\"x\":0.05},\"xaxis\":{\"automargin\":true,\"gridcolor\":\"white\",\"linecolor\":\"white\",\"ticks\":\"\",\"title\":{\"standoff\":15},\"zerolinecolor\":\"white\",\"zerolinewidth\":2},\"yaxis\":{\"automargin\":true,\"gridcolor\":\"white\",\"linecolor\":\"white\",\"ticks\":\"\",\"title\":{\"standoff\":15},\"zerolinecolor\":\"white\",\"zerolinewidth\":2}}},\"title\":{\"text\":\"<i><b>Confusion matrix</b></i>\"},\"margin\":{\"t\":50,\"l\":200}},                        {\"responsive\": true}                    ).then(function(){\n",
              "                            \n",
              "var gd = document.getElementById('f715497e-981b-4496-b512-f0aba4ab75ce');\n",
              "var x = new MutationObserver(function (mutations, observer) {{\n",
              "        var display = window.getComputedStyle(gd).display;\n",
              "        if (!display || display === 'none') {{\n",
              "            console.log([gd, 'removed!']);\n",
              "            Plotly.purge(gd);\n",
              "            observer.disconnect();\n",
              "        }}\n",
              "}});\n",
              "\n",
              "// Listen for the removal of the full notebook cells\n",
              "var notebookContainer = gd.closest('#notebook-container');\n",
              "if (notebookContainer) {{\n",
              "    x.observe(notebookContainer, {childList: true});\n",
              "}}\n",
              "\n",
              "// Listen for the clearing of the current output cell\n",
              "var outputEl = gd.closest('.output');\n",
              "if (outputEl) {{\n",
              "    x.observe(outputEl, {childList: true});\n",
              "}}\n",
              "\n",
              "                        })                };                            </script>        </div>\n",
              "</body>\n",
              "</html>"
            ]
          },
          "metadata": {}
        }
      ]
    }
  ]
}